{
 "cells": [
  {
   "cell_type": "code",
   "execution_count": 39,
   "id": "7f0dbf3d",
   "metadata": {},
   "outputs": [
    {
     "name": "stdout",
     "output_type": "stream",
     "text": [
      "I have 4 items to purchase.\n"
     ]
    }
   ],
   "source": [
    "shoplist = ['apple', 'mango', 'carrot', 'banana']\n",
    "\n",
    "print('I have', len(shoplist), 'items to purchase.')\n"
   ]
  },
  {
   "cell_type": "code",
   "execution_count": 22,
   "id": "5e085d3b",
   "metadata": {},
   "outputs": [
    {
     "name": "stdout",
     "output_type": "stream",
     "text": [
      "These items are: apple, mango, carrot, banana, "
     ]
    }
   ],
   "source": [
    "print('These items are:', end=' ')\n",
    "for item in shoplist:\n",
    "    print(item, end=', ')"
   ]
  },
  {
   "cell_type": "code",
   "execution_count": 24,
   "id": "e2e7cbda",
   "metadata": {},
   "outputs": [
    {
     "name": "stdout",
     "output_type": "stream",
     "text": [
      "b\n",
      "a\n",
      "n\n",
      "a\n",
      "n\n",
      "a\n"
     ]
    }
   ],
   "source": [
    "for chrs in 'banana':\n",
    "    print(chrs)"
   ]
  },
  {
   "cell_type": "code",
   "execution_count": 25,
   "id": "f5611d8c",
   "metadata": {},
   "outputs": [
    {
     "name": "stdout",
     "output_type": "stream",
     "text": [
      "\n",
      "I also have to buy rice.\n",
      "My shopping list is now ['apple', 'mango', 'carrot', 'banana', 'rice']\n"
     ]
    }
   ],
   "source": [
    "print('\\nI also have to buy rice.')\n",
    "shoplist.append('rice')\n",
    "print('My shopping list is now', shoplist)"
   ]
  },
  {
   "cell_type": "code",
   "execution_count": 48,
   "id": "53fa9295",
   "metadata": {},
   "outputs": [
    {
     "name": "stdout",
     "output_type": "stream",
     "text": [
      "['apple', 'mango', 'grape', 'carrot', 'banana']\n"
     ]
    }
   ],
   "source": [
    "shoplist.insert(2,'grape') \n",
    "print(shoplist)"
   ]
  },
  {
   "cell_type": "code",
   "execution_count": 26,
   "id": "af4b97cc",
   "metadata": {},
   "outputs": [
    {
     "name": "stdout",
     "output_type": "stream",
     "text": [
      "I will sort my list now\n",
      "Sorted shopping list is ['apple', 'banana', 'carrot', 'mango', 'rice']\n"
     ]
    }
   ],
   "source": [
    "print('I will sort my list now')\n",
    "shoplist.sort()\n",
    "print('Sorted shopping list is', shoplist)"
   ]
  },
  {
   "cell_type": "code",
   "execution_count": 28,
   "id": "d94e5ffe",
   "metadata": {},
   "outputs": [
    {
     "name": "stdout",
     "output_type": "stream",
     "text": [
      "The first item I will buy is apple\n"
     ]
    }
   ],
   "source": [
    "print('The first item I will buy is', shoplist[0])"
   ]
  },
  {
   "cell_type": "code",
   "execution_count": 49,
   "id": "78d5ffda",
   "metadata": {},
   "outputs": [
    {
     "name": "stdout",
     "output_type": "stream",
     "text": [
      "['mango', 'grape', 'carrot', 'banana']\n"
     ]
    }
   ],
   "source": [
    "shoplist.remove('apple') \n",
    "print(shoplist)"
   ]
  },
  {
   "cell_type": "code",
   "execution_count": 50,
   "id": "635ee0f3",
   "metadata": {},
   "outputs": [
    {
     "name": "stdout",
     "output_type": "stream",
     "text": [
      "['mango', 'grape', 'carrot']\n"
     ]
    }
   ],
   "source": [
    "shoplist.pop()\n",
    "print(shoplist)"
   ]
  },
  {
   "cell_type": "code",
   "execution_count": 36,
   "id": "283535c5",
   "metadata": {},
   "outputs": [
    {
     "name": "stdout",
     "output_type": "stream",
     "text": [
      "I bought the apple\n",
      "My shopping list is now ['mango', 'carrot', 'banana']\n"
     ]
    }
   ],
   "source": [
    "olditem = shoplist[0]\n",
    "del shoplist[0]\n",
    "print('I bought the', olditem)\n",
    "print('My shopping list is now', shoplist)"
   ]
  },
  {
   "cell_type": "code",
   "execution_count": 44,
   "id": "9eae7c34",
   "metadata": {},
   "outputs": [
    {
     "data": {
      "text/plain": [
       "['carrot', 'banana']"
      ]
     },
     "execution_count": 44,
     "metadata": {},
     "output_type": "execute_result"
    }
   ],
   "source": [
    "shoplist[2:]"
   ]
  },
  {
   "cell_type": "code",
   "execution_count": 54,
   "id": "baa7b27c",
   "metadata": {},
   "outputs": [
    {
     "name": "stdout",
     "output_type": "stream",
     "text": [
      "['mango', 'pear', 'carrot']\n"
     ]
    }
   ],
   "source": [
    "shoplist[1] = 'pear'\n",
    "print(shoplist)"
   ]
  },
  {
   "cell_type": "code",
   "execution_count": 52,
   "id": "427279ef",
   "metadata": {},
   "outputs": [
    {
     "data": {
      "text/plain": [
       "[1, 2, 3, 3, 4, 5]"
      ]
     },
     "execution_count": 52,
     "metadata": {},
     "output_type": "execute_result"
    }
   ],
   "source": [
    "my_list = [1, 2, 3] \n",
    "my_list2 = [3, 4, 5]\n",
    "combo_list = my_list + my_list2 \n",
    "combo_list"
   ]
  },
  {
   "cell_type": "code",
   "execution_count": 53,
   "id": "a0de62cc",
   "metadata": {},
   "outputs": [
    {
     "data": {
      "text/plain": [
       "[[1, 2, 3], [3, 4, 5]]"
      ]
     },
     "execution_count": 53,
     "metadata": {},
     "output_type": "execute_result"
    }
   ],
   "source": [
    "my_nested_list = [my_list, my_list2] \n",
    "my_nested_list"
   ]
  },
  {
   "cell_type": "code",
   "execution_count": 45,
   "id": "3e74f712",
   "metadata": {},
   "outputs": [
    {
     "name": "stdout",
     "output_type": "stream",
     "text": [
      "[12, 4, 2, 8] [5, 7, 9, 3]\n"
     ]
    }
   ],
   "source": [
    "nbrs = [12, 5, 7, 9, 4, 2, 3, 8]\n",
    "evn = [nbr for nbr in nbrs if nbr%2 == 0]\n",
    "odd = [n for n in nbrs if n%2 != 0]\n",
    "print(evn, odd)"
   ]
  },
  {
   "cell_type": "code",
   "execution_count": 46,
   "id": "57be7eec",
   "metadata": {},
   "outputs": [
    {
     "name": "stdout",
     "output_type": "stream",
     "text": [
      "[12, 4, 2, 8] [5, 7, 9, 3]\n"
     ]
    }
   ],
   "source": [
    "nbrs = [12, 5, 7, 9, 4, 2, 3, 8]\n",
    "evn = []\n",
    "odd = []\n",
    "for nbr in nbrs:\n",
    "    if nbr%2 == 0:\n",
    "        evn.append(nbr)\n",
    "    else:\n",
    "        odd.append(nbr)\n",
    "print(evn, odd)"
   ]
  },
  {
   "cell_type": "code",
   "execution_count": 2,
   "id": "046632fb",
   "metadata": {},
   "outputs": [
    {
     "name": "stdout",
     "output_type": "stream",
     "text": [
      "0 12\n",
      "1 5\n",
      "2 7\n",
      "3 9\n",
      "4 4\n",
      "5 2\n",
      "6 3\n",
      "7 8\n"
     ]
    }
   ],
   "source": [
    "nbrs = [12, 5, 7, 9, 4, 2, 3, 8]\n",
    "for idx in range(len(nbrs)):\n",
    "    print(idx, nbrs[idx])"
   ]
  },
  {
   "cell_type": "code",
   "execution_count": 1,
   "id": "0e35104f",
   "metadata": {},
   "outputs": [
    {
     "name": "stdout",
     "output_type": "stream",
     "text": [
      "0 12\n",
      "1 5\n",
      "2 7\n",
      "3 9\n",
      "4 4\n",
      "5 2\n",
      "6 3\n",
      "7 8\n"
     ]
    }
   ],
   "source": [
    "nbrs = [12, 5, 7, 9, 4, 2, 3, 8]\n",
    "for idx, num in enumerate(nbrs):\n",
    "    print(idx, num)"
   ]
  },
  {
   "cell_type": "code",
   "execution_count": 8,
   "id": "1e2ea854",
   "metadata": {},
   "outputs": [
    {
     "name": "stdout",
     "output_type": "stream",
     "text": [
      "2, 3, \n",
      "\n",
      "2, \n",
      "4, 2, 3, \n"
     ]
    }
   ],
   "source": [
    "nbrs = [4, 2, 3, 8]\n",
    "sortedlst = []\n",
    "for idx in range(len(nbrs)):\n",
    "    firstNum = nbrs[idx] \n",
    "    for idx1 in range(len(nbrs)):\n",
    "        if firstNum > nbrs[idx1]:\n",
    "            print(nbrs[idx1], end =', ')\n",
    "    print()"
   ]
  },
  {
   "cell_type": "code",
   "execution_count": 15,
   "id": "67ae16f2",
   "metadata": {},
   "outputs": [
    {
     "name": "stdout",
     "output_type": "stream",
     "text": [
      "[2, 5, 3, 4]\n",
      "[2, 3, 5, 4]\n",
      "[2, 3, 4, 5]\n",
      "[2, 3, 4, 5]\n",
      "[2, 3, 4, 5]\n"
     ]
    }
   ],
   "source": [
    "nbrs=[5,3,2,4]\n",
    "for idx, num in enumerate(nbrs):\n",
    "    for idx1 in range(idx+1, len(nbrs)):\n",
    "        if nbrs[idx] > nbrs[idx1]:\n",
    "            tmp = nbrs[idx]\n",
    "            nbrs[idx] = nbrs[idx1]\n",
    "            nbrs[idx1] = tmp\n",
    "    print(nbrs)\n",
    "print(nbrs)"
   ]
  },
  {
   "cell_type": "code",
   "execution_count": 1,
   "id": "7ab32c68",
   "metadata": {},
   "outputs": [
    {
     "data": {
      "text/plain": [
       "['apple', 'mango', 'carrot', 'banana']"
      ]
     },
     "execution_count": 1,
     "metadata": {},
     "output_type": "execute_result"
    }
   ],
   "source": [
    "shopList = ['apple', 'mango', 'carrot', 'banana']\n",
    "tempList = shopList\n",
    "tempList"
   ]
  },
  {
   "cell_type": "code",
   "execution_count": 2,
   "id": "2d169430",
   "metadata": {},
   "outputs": [
    {
     "name": "stdout",
     "output_type": "stream",
     "text": [
      "['apple', 'Grape', 'carrot', 'banana']\n"
     ]
    },
    {
     "data": {
      "text/plain": [
       "['apple', 'Grape', 'carrot', 'banana']"
      ]
     },
     "execution_count": 2,
     "metadata": {},
     "output_type": "execute_result"
    }
   ],
   "source": [
    "tempList[1] = 'Grape'\n",
    "print(tempList)\n",
    "shopList"
   ]
  },
  {
   "cell_type": "code",
   "execution_count": 3,
   "id": "ce2d6621",
   "metadata": {},
   "outputs": [
    {
     "data": {
      "text/plain": [
       "['apple', 'mango', 'carrot', 'banana']"
      ]
     },
     "execution_count": 3,
     "metadata": {},
     "output_type": "execute_result"
    }
   ],
   "source": [
    "shopList = ['apple', 'mango', 'carrot', 'banana']\n",
    "tempList = shopList[::]\n",
    "tempList"
   ]
  },
  {
   "cell_type": "code",
   "execution_count": 4,
   "id": "541dad40",
   "metadata": {},
   "outputs": [
    {
     "name": "stdout",
     "output_type": "stream",
     "text": [
      "['apple', 'Grape', 'carrot', 'banana']\n"
     ]
    },
    {
     "data": {
      "text/plain": [
       "['apple', 'mango', 'carrot', 'banana']"
      ]
     },
     "execution_count": 4,
     "metadata": {},
     "output_type": "execute_result"
    }
   ],
   "source": [
    "tempList[1] = 'Grape'\n",
    "print(tempList)\n",
    "shopList"
   ]
  },
  {
   "cell_type": "code",
   "execution_count": 5,
   "id": "b5eedf92",
   "metadata": {},
   "outputs": [
    {
     "data": {
      "text/plain": [
       "['apple', 'mango', 'carrot', 'banana']"
      ]
     },
     "execution_count": 5,
     "metadata": {},
     "output_type": "execute_result"
    }
   ],
   "source": [
    "shopList = ['apple', 'mango', 'carrot', 'banana']\n",
    "tempList = shopList.copy()\n",
    "tempList"
   ]
  },
  {
   "cell_type": "code",
   "execution_count": 6,
   "id": "72090207",
   "metadata": {},
   "outputs": [
    {
     "name": "stdout",
     "output_type": "stream",
     "text": [
      "['apple', 'Grape', 'carrot', 'banana']\n"
     ]
    },
    {
     "data": {
      "text/plain": [
       "['apple', 'mango', 'carrot', 'banana']"
      ]
     },
     "execution_count": 6,
     "metadata": {},
     "output_type": "execute_result"
    }
   ],
   "source": [
    "tempList[1] = 'Grape'\n",
    "print(tempList)\n",
    "shopList"
   ]
  },
  {
   "cell_type": "code",
   "execution_count": 9,
   "id": "f6c4b130",
   "metadata": {},
   "outputs": [
    {
     "name": "stdout",
     "output_type": "stream",
     "text": [
      "[6, 10, 14, 18, 2]\n"
     ]
    }
   ],
   "source": [
    "lst = [3, 5, 7, 9, 1]\n",
    "\n",
    "def addition(n):\n",
    "    return n+n\n",
    "result = map(addition, lst)\n",
    "print(list(result))"
   ]
  },
  {
   "cell_type": "code",
   "execution_count": 10,
   "id": "7624eebf",
   "metadata": {},
   "outputs": [
    {
     "data": {
      "text/plain": [
       "[6, 10, 14, 18, 2]"
      ]
     },
     "execution_count": 10,
     "metadata": {},
     "output_type": "execute_result"
    }
   ],
   "source": [
    "lst = [3, 5, 7, 9, 1]\n",
    "result = []\n",
    "for elm in lst:\n",
    "    result.append(addition(elm))\n",
    "result"
   ]
  },
  {
   "cell_type": "code",
   "execution_count": 11,
   "id": "1c603bdd",
   "metadata": {},
   "outputs": [
    {
     "name": "stdout",
     "output_type": "stream",
     "text": [
      "[6, 10, 14, 18, 2]\n"
     ]
    }
   ],
   "source": [
    "lst = [3, 5, 7, 9, 1]\n",
    "result = map(lambda a: a+a, lst)\n",
    "print(list(result))"
   ]
  },
  {
   "cell_type": "code",
   "execution_count": 13,
   "id": "d3d29bc4",
   "metadata": {},
   "outputs": [
    {
     "data": {
      "text/plain": [
       "[54, 34, 56, 86, 24, 12, 8]"
      ]
     },
     "execution_count": 13,
     "metadata": {},
     "output_type": "execute_result"
    }
   ],
   "source": [
    "lst = [45,67,54,69,34,56,23,86,24,12,11,8]\n",
    "evenNbrs = []\n",
    "for elm in lst:\n",
    "    if elm % 2 == 0:\n",
    "       evenNbrs.append(elm)\n",
    "evenNbrs"
   ]
  },
  {
   "cell_type": "code",
   "execution_count": 16,
   "id": "deb05abc",
   "metadata": {},
   "outputs": [
    {
     "data": {
      "text/plain": [
       "[67, 54, 69, 56, 86]"
      ]
     },
     "execution_count": 16,
     "metadata": {},
     "output_type": "execute_result"
    }
   ],
   "source": [
    "lst = [45,67,54,69,34,56,23,86,24,12,11,8]\n",
    "evenNbrs = [elm for elm in lst if elm > 50]\n",
    "evenNbrs"
   ]
  },
  {
   "cell_type": "code",
   "execution_count": 19,
   "id": "ddf59d12",
   "metadata": {},
   "outputs": [
    {
     "data": {
      "text/plain": [
       "[67, 54, 69]"
      ]
     },
     "execution_count": 19,
     "metadata": {},
     "output_type": "execute_result"
    }
   ],
   "source": [
    "marks = [45,67,54,69,34]\n",
    "fiftyAbove = [mark for mark in marks if mark > 50]\n",
    "fiftyAbove"
   ]
  },
  {
   "cell_type": "raw",
   "id": "f970081a",
   "metadata": {},
   "source": []
  },
  {
   "cell_type": "code",
   "execution_count": 20,
   "id": "0a227d83",
   "metadata": {},
   "outputs": [
    {
     "data": {
      "text/plain": [
       "[(1, 1), (2, 8), (3, 27)]"
      ]
     },
     "execution_count": 20,
     "metadata": {},
     "output_type": "execute_result"
    }
   ],
   "source": [
    "numbers = [1,2,3]\n",
    "cubs = [(nbr, nbr*nbr*nbr)for nbr in numbers]\n",
    "cubs"
   ]
  },
  {
   "cell_type": "code",
   "execution_count": 23,
   "id": "4c477830",
   "metadata": {},
   "outputs": [
    {
     "data": {
      "text/plain": [
       "[1.0, 2.8284271247461903, 5.196152422706632]"
      ]
     },
     "execution_count": 23,
     "metadata": {},
     "output_type": "execute_result"
    }
   ],
   "source": [
    "from math import sqrt\n",
    "def maths(nbr):\n",
    "    return sqrt(pow(nbr, 3))\n",
    "\n",
    "numbers = [1,2,3]\n",
    "sqr = [maths(nbr) for nbr in numbers]\n",
    "sqr"
   ]
  },
  {
   "cell_type": "code",
   "execution_count": 24,
   "id": "05c24e22",
   "metadata": {},
   "outputs": [
    {
     "data": {
      "text/plain": [
       "[1.0, 2.8284271247461903, 5.196152422706632]"
      ]
     },
     "execution_count": 24,
     "metadata": {},
     "output_type": "execute_result"
    }
   ],
   "source": [
    "numbers = [1,2,3]\n",
    "sqr = map(maths, numbers)\n",
    "list(sqr)"
   ]
  },
  {
   "cell_type": "code",
   "execution_count": 1,
   "id": "1d5ef252",
   "metadata": {},
   "outputs": [
    {
     "data": {
      "text/plain": [
       "[5, 4, 6, 8, 9, 5]"
      ]
     },
     "execution_count": 1,
     "metadata": {},
     "output_type": "execute_result"
    }
   ],
   "source": [
    "lst = [5,4,6,8,9,5,4,3]\n",
    "firstSix = [lst[item] for item in range(0,6)]\n",
    "firstSix"
   ]
  },
  {
   "cell_type": "code",
   "execution_count": 9,
   "id": "19621efa",
   "metadata": {},
   "outputs": [
    {
     "name": "stdout",
     "output_type": "stream",
     "text": [
      "The factorial of 5 is 120\n"
     ]
    }
   ],
   "source": [
    "import timeit\n",
    "def factorial(x):\n",
    "    \"\"\"This is a recursive function\n",
    "    to find the factorial of an integer\"\"\"\n",
    "\n",
    "    if x == 1:\n",
    "        return 1\n",
    "    else:\n",
    "        return (x * factorial(x-1))\n",
    "\n",
    "\n",
    "num = 5\n",
    "print(\"The factorial of\", num, \"is\", factorial(num))"
   ]
  },
  {
   "cell_type": "code",
   "execution_count": 4,
   "id": "57c3b798",
   "metadata": {},
   "outputs": [
    {
     "data": {
      "text/plain": [
       "[5, 4, 6, 8, 9, 5]"
      ]
     },
     "execution_count": 4,
     "metadata": {},
     "output_type": "execute_result"
    }
   ],
   "source": [
    "firstSix = [item for idx, item in enumerate(lst) if idx < 6]\n",
    "firstSix"
   ]
  },
  {
   "cell_type": "code",
   "execution_count": 11,
   "id": "6ffdfb16",
   "metadata": {},
   "outputs": [
    {
     "name": "stdout",
     "output_type": "stream",
     "text": [
      "data\n",
      "holds\n",
      "different\n"
     ]
    }
   ],
   "source": [
    "#string = 'Tuple is data structure that holds collection of different objects in it'\n",
    "string = ['Tuple','is', 'data', 'structure', 'that', 'holds', 'collection', 'of', 'different' ]\n",
    "for idx in range(0, len(string)):\n",
    "    if idx%3 == 2:\n",
    "        print(string[idx])"
   ]
  },
  {
   "cell_type": "code",
   "execution_count": 12,
   "id": "62e5dcf6",
   "metadata": {},
   "outputs": [
    {
     "data": {
      "text/plain": [
       "2"
      ]
     },
     "execution_count": 12,
     "metadata": {},
     "output_type": "execute_result"
    }
   ],
   "source": [
    "inputList= [3,4,2,1,5,6,9,8,7]\n",
    "sortedList = [1,2,3,4,5,6,7,8,9]\n",
    "matrixList = [[1,2,3],[4,5,6],[7,8,9]]\n",
    "out[0][1]"
   ]
  }
 ],
 "metadata": {
  "kernelspec": {
   "display_name": "Python 3 (ipykernel)",
   "language": "python",
   "name": "python3"
  },
  "language_info": {
   "codemirror_mode": {
    "name": "ipython",
    "version": 3
   },
   "file_extension": ".py",
   "mimetype": "text/x-python",
   "name": "python",
   "nbconvert_exporter": "python",
   "pygments_lexer": "ipython3",
   "version": "3.10.9"
  }
 },
 "nbformat": 4,
 "nbformat_minor": 5
}
