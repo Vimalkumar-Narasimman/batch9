{
 "cells": [
  {
   "cell_type": "markdown",
   "id": "489d7688",
   "metadata": {},
   "source": [
    "# Chapter 9: Getting Started with Machine Learning in Python\n",
    "\n",
    "This chapter introduces you to machine learning and building models\n",
    "using the `sklearn` library.\n",
    "\n",
    "## Content\n",
    "\n",
    "We will be working in the following notebooks:\n",
    "\n",
    "-   [`planets_ml.ipynb`](./planets_ml.ipynb): shows how to build\n",
    "    clustering and linear regression models using the planet data\n",
    "-   [`preprocessing.ipynb`](./preprocessing.ipynb): walks through\n",
    "    various preprocessing techniques\n",
    "-   [`red_wine.ipynb`](./red_wine.ipynb): discusses how to build a\n",
    "    classification model to predict red wine quality\n",
    "-   [`wine.ipynb`](./wine.ipynb): walks through creating a\n",
    "    classification model to predict wine type\n",
    "\n",
    "*Note that the\n",
    "[`planets_data_collection.ipynb`](./planets_data_collection.ipynb)\n",
    "notebook contains the code used to collect the planet data.*\n",
    "\n",
    "All the datasets necessary for the aforementioned notebooks, along with\n",
    "information on them, can be found in the [`data/`](./data) directory.\n",
    "The end-of-chapter exercises will also use this data to practice\n",
    "building ML models with scikit-learn; "
   ]
  }
 ],
 "metadata": {
  "kernelspec": {
   "display_name": "Python 3 (ipykernel)",
   "language": "python",
   "name": "python3"
  },
  "language_info": {
   "codemirror_mode": {
    "name": "ipython",
    "version": 3
   },
   "file_extension": ".py",
   "mimetype": "text/x-python",
   "name": "python",
   "nbconvert_exporter": "python",
   "pygments_lexer": "ipython3",
   "version": "3.10.9"
  }
 },
 "nbformat": 4,
 "nbformat_minor": 5
}
