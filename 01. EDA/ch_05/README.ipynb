{
 "cells": [
  {
   "cell_type": "markdown",
   "id": "4539532d",
   "metadata": {},
   "source": [
    "# Chapter 5: Visualizing Data with Pandas and Matplotlib\n",
    "\n",
    "This chapter shows you how to create your own data visualizations in\n",
    "Python, first using the `matplotlib` library, and then directly from\n",
    "`pandas` objects.\n",
    "\n",
    "## Content\n",
    "\n",
    "There are three notebooks that we will work through, each numbered\n",
    "according to when they will be used:\n",
    "\n",
    "-   [`1-introducing_matplotlib.ipynb`](./1-introducing_matplotlib.ipynb):\n",
    "    introduces you to plotting with `matplotlib`\n",
    "-   [`2-plotting_with_pandas.ipynb`](./2-plotting_with_pandas.ipynb):\n",
    "    covers plotting with `pandas`\n",
    "-   [`3-pandas_plotting_module.ipynb`](./3-pandas_plotting_module.ipynb):\n",
    "    provides some exposure to additional plot types available in\n",
    "    `pandas.plotting`\n",
    "\n",
    "All the datasets necessary for the aforementioned notebooks, along with\n",
    "information on them, can be found in the [`data/`](./data) directory.\n",
    "The end-of-chapter exercises will use these datasets as well; "
   ]
  }
 ],
 "metadata": {
  "kernelspec": {
   "display_name": "Python 3 (ipykernel)",
   "language": "python",
   "name": "python3"
  },
  "language_info": {
   "codemirror_mode": {
    "name": "ipython",
    "version": 3
   },
   "file_extension": ".py",
   "mimetype": "text/x-python",
   "name": "python",
   "nbconvert_exporter": "python",
   "pygments_lexer": "ipython3",
   "version": "3.10.9"
  }
 },
 "nbformat": 4,
 "nbformat_minor": 5
}
