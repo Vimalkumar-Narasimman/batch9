{
 "cells": [
  {
   "cell_type": "markdown",
   "id": "e4706427",
   "metadata": {},
   "source": [
    "## Instructions: Do not use any Python libraries and write the following codes from scratch for best learning/ revision."
   ]
  },
  {
   "cell_type": "markdown",
   "id": "fc845804",
   "metadata": {},
   "source": [
    "### Q1. Print a traingle like one below "
   ]
  },
  {
   "cell_type": "code",
   "execution_count": null,
   "id": "b0f0b49e",
   "metadata": {},
   "outputs": [],
   "source": [
    "*\n",
    "**\n",
    "***\n",
    "****\n",
    "*****"
   ]
  },
  {
   "cell_type": "code",
   "execution_count": null,
   "id": "91ba477a",
   "metadata": {},
   "outputs": [],
   "source": [
    "#ToDo: Write your code here"
   ]
  },
  {
   "cell_type": "markdown",
   "id": "567dce59",
   "metadata": {},
   "source": [
    "### Q2. Write a program that prints result of following expression. "
   ]
  },
  {
   "cell_type": "markdown",
   "id": "484fa37c",
   "metadata": {},
   "source": [
    "1) 123 - 282\n",
    "2) 47.34 + 23"
   ]
  },
  {
   "cell_type": "code",
   "execution_count": 2,
   "id": "95fcdd3d",
   "metadata": {},
   "outputs": [
    {
     "name": "stdout",
     "output_type": "stream",
     "text": [
      "-159\n",
      "70.34\n"
     ]
    }
   ],
   "source": [
    "#ToDo: Write your code here"
   ]
  },
  {
   "cell_type": "markdown",
   "id": "4e716ced",
   "metadata": {},
   "source": [
    "### Q3. What is the data type of the result of: <code>6 / 2</code>?"
   ]
  },
  {
   "cell_type": "code",
   "execution_count": null,
   "id": "d2568a69",
   "metadata": {},
   "outputs": [],
   "source": [
    "#ToDo: Write your code here"
   ]
  },
  {
   "cell_type": "markdown",
   "id": "e66eaf04",
   "metadata": {},
   "source": [
    "### Q4. What is the type of the result of: <code>6 // 2</code>? (Note the double slash <code>//</code>.)"
   ]
  },
  {
   "cell_type": "code",
   "execution_count": null,
   "id": "a41ad8ff",
   "metadata": {},
   "outputs": [],
   "source": [
    "#ToDo: Write your code here"
   ]
  },
  {
   "cell_type": "markdown",
   "id": "1a4d59c1",
   "metadata": {},
   "source": [
    "### Q5. What is the value of <code>x</code> where <code>x = 3 + 2 * 2</code>"
   ]
  },
  {
   "cell_type": "code",
   "execution_count": null,
   "id": "b1d27d69",
   "metadata": {},
   "outputs": [],
   "source": [
    "#ToDo: Write your code here"
   ]
  },
  {
   "cell_type": "markdown",
   "id": "c7ab9929",
   "metadata": {},
   "source": [
    "### Q6. What is the value of <code>y</code> where <code>y = (3 + 2) * 2</code>?"
   ]
  },
  {
   "cell_type": "code",
   "execution_count": null,
   "id": "255ffce2",
   "metadata": {},
   "outputs": [],
   "source": [
    "#ToDo: Write your code here"
   ]
  },
  {
   "cell_type": "markdown",
   "id": "3b3784b6",
   "metadata": {},
   "source": [
    "### Q7. What is the value of <code>z</code> where <code>z = x + y</code>?"
   ]
  },
  {
   "cell_type": "code",
   "execution_count": null,
   "id": "cef7f677",
   "metadata": {},
   "outputs": [],
   "source": [
    "#ToDo: Write your code here"
   ]
  },
  {
   "cell_type": "markdown",
   "id": "a3ad2787",
   "metadata": {},
   "source": [
    "### Q8. Print out a backslash"
   ]
  },
  {
   "cell_type": "code",
   "execution_count": null,
   "id": "53f3c507",
   "metadata": {},
   "outputs": [],
   "source": [
    "#ToDo: Write your code here"
   ]
  },
  {
   "cell_type": "markdown",
   "id": "87245ccf",
   "metadata": {},
   "source": [
    "### Q9. Convert the variable <code>F</code> to uppercase:\n",
    "F = \"You are wrong\""
   ]
  },
  {
   "cell_type": "code",
   "execution_count": null,
   "id": "ca258816",
   "metadata": {},
   "outputs": [],
   "source": [
    "#ToDo: Write your code here"
   ]
  },
  {
   "cell_type": "markdown",
   "id": "45eb108a",
   "metadata": {},
   "source": [
    "### Q10. Consider the variable <code>G</code>, and find the first index of the sub-string <code>snow</code>:\n",
    "G = \"Mary had a little lamb Little lamb, little lamb Mary had a little lamb \\\n",
    "Its fleece was white as snow And everywhere that Mary went Mary went, Mary went \\\n",
    "Everywhere that Mary went The lamb was sure to go\""
   ]
  },
  {
   "cell_type": "code",
   "execution_count": null,
   "id": "dc94f17e",
   "metadata": {},
   "outputs": [],
   "source": [
    "#ToDo: Write your code here"
   ]
  },
  {
   "cell_type": "markdown",
   "id": "3b9645d1",
   "metadata": {},
   "source": [
    "In the variable <code>G</code>, replace the sub-string <code>Mary</code> with <code>Bob</code>"
   ]
  },
  {
   "cell_type": "code",
   "execution_count": null,
   "id": "a25c6fee",
   "metadata": {},
   "outputs": [],
   "source": [
    "#ToDo: Write your code here"
   ]
  }
 ],
 "metadata": {
  "kernelspec": {
   "display_name": "Python 3 (ipykernel)",
   "language": "python",
   "name": "python3"
  },
  "language_info": {
   "codemirror_mode": {
    "name": "ipython",
    "version": 3
   },
   "file_extension": ".py",
   "mimetype": "text/x-python",
   "name": "python",
   "nbconvert_exporter": "python",
   "pygments_lexer": "ipython3",
   "version": "3.10.9"
  }
 },
 "nbformat": 4,
 "nbformat_minor": 5
}
