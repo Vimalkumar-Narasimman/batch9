{
 "cells": [
  {
   "cell_type": "code",
   "execution_count": 15,
   "id": "7e507f0e",
   "metadata": {},
   "outputs": [],
   "source": [
    "import psycopg2\n",
    "from collections import namedtuple\n",
    "\n",
    "\n",
    "jobs = namedtuple('Job','id image summary')\n",
    "conn = psycopg2.connect(\"dbname=portfoliodb user=postgres password=django1234\")\n",
    "cur = conn.cursor()\n"
   ]
  },
  {
   "cell_type": "code",
   "execution_count": 9,
   "id": "6bcbd56b",
   "metadata": {},
   "outputs": [],
   "source": [
    "sqlStatement = \"INSERT INTO public.jobs_job VALUES (4,'/image/xyz.png', 'job of xyz')\"\n",
    "cur.execute(sqlStatement)\n",
    "conn.commit()"
   ]
  },
  {
   "cell_type": "code",
   "execution_count": 16,
   "id": "f541346b",
   "metadata": {},
   "outputs": [],
   "source": [
    "sqlStatement = \"UPDATE public.jobs_job SET summary = 'Summary of Vimal' WHERE id = 1\"\n",
    "cur.execute(sqlStatement)\n",
    "conn.commit()"
   ]
  },
  {
   "cell_type": "code",
   "execution_count": 17,
   "id": "879f6cf5",
   "metadata": {},
   "outputs": [
    {
     "name": "stdout",
     "output_type": "stream",
     "text": [
      "The number of parts:  4\n",
      "Job(id=2, image='/image/nvk.png', summary='NVK')\n",
      "Job(id=3, image='/image/kumar.png', summary='Kumar')\n",
      "Job(id=4, image='/image/xyz.png', summary='job of xyz')\n",
      "Job(id=1, image='/image/vimal.png', summary='Summary of Vimal')\n"
     ]
    }
   ],
   "source": [
    "\n",
    "cur.execute(\"SELECT id, image, summary FROM public.jobs_job\")\n",
    "print(\"The number of parts: \", cur.rowcount)\n",
    "row = cur.fetchone()\n",
    "\n",
    "while row is not None:    \n",
    "    print(jobs(row[0], row[1], row[2]))\n",
    "    row = cur.fetchone()"
   ]
  }
 ],
 "metadata": {
  "kernelspec": {
   "display_name": "Python 3 (ipykernel)",
   "language": "python",
   "name": "python3"
  },
  "language_info": {
   "codemirror_mode": {
    "name": "ipython",
    "version": 3
   },
   "file_extension": ".py",
   "mimetype": "text/x-python",
   "name": "python",
   "nbconvert_exporter": "python",
   "pygments_lexer": "ipython3",
   "version": "3.10.9"
  }
 },
 "nbformat": 4,
 "nbformat_minor": 5
}
