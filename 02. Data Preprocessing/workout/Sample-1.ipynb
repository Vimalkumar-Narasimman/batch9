{
 "cells": [
  {
   "cell_type": "code",
   "execution_count": 1,
   "id": "58c0800c-567c-420d-b72d-52033bb30494",
   "metadata": {},
   "outputs": [],
   "source": [
    "import pandas as pd"
   ]
  },
  {
   "cell_type": "code",
   "execution_count": 3,
   "id": "0d8ecb6c-9877-4d70-b2d8-c18775dc5256",
   "metadata": {},
   "outputs": [],
   "source": [
    "def z_score(v):\n",
    "    return ((v - v.mean()) / v.std()).abs()"
   ]
  },
  {
   "cell_type": "code",
   "execution_count": 26,
   "id": "9d5a931a-18b1-47cc-9478-759b1e2fdb04",
   "metadata": {},
   "outputs": [],
   "source": [
    "xdf = pd.DataFrame({'x': [2,4,6,8],\n",
    "                    'y': [56,45,41,5]})\n",
    "\n",
    "xdf.loc[xdf['y'] % 2 != 0, 'y'] =\\\n",
    "    xdf.loc[xdf['y'] % 2 != 0, 'y']\\\n",
    "        .transform(lambda x: pow(x, 2))"
   ]
  },
  {
   "cell_type": "code",
   "execution_count": 23,
   "id": "6123cb71-f5ac-46b5-a25c-4ff2728bba4d",
   "metadata": {},
   "outputs": [
    {
     "data": {
      "text/plain": [
       "1    45\n",
       "2    41\n",
       "3     5\n",
       "Name: y, dtype: int64"
      ]
     },
     "execution_count": 23,
     "metadata": {},
     "output_type": "execute_result"
    }
   ],
   "source": [
    "xdf.loc[xdf['y'] % 2 != 0, 'y']"
   ]
  },
  {
   "cell_type": "code",
   "execution_count": 25,
   "id": "d7915ab8-d3b9-4f35-9450-6f95811418c9",
   "metadata": {},
   "outputs": [
    {
     "data": {
      "text/html": [
       "<div>\n",
       "<style scoped>\n",
       "    .dataframe tbody tr th:only-of-type {\n",
       "        vertical-align: middle;\n",
       "    }\n",
       "\n",
       "    .dataframe tbody tr th {\n",
       "        vertical-align: top;\n",
       "    }\n",
       "\n",
       "    .dataframe thead th {\n",
       "        text-align: right;\n",
       "    }\n",
       "</style>\n",
       "<table border=\"1\" class=\"dataframe\">\n",
       "  <thead>\n",
       "    <tr style=\"text-align: right;\">\n",
       "      <th></th>\n",
       "      <th>x</th>\n",
       "      <th>y</th>\n",
       "    </tr>\n",
       "  </thead>\n",
       "  <tbody>\n",
       "    <tr>\n",
       "      <th>0</th>\n",
       "      <td>2</td>\n",
       "      <td>56</td>\n",
       "    </tr>\n",
       "    <tr>\n",
       "      <th>1</th>\n",
       "      <td>4</td>\n",
       "      <td>2025</td>\n",
       "    </tr>\n",
       "    <tr>\n",
       "      <th>2</th>\n",
       "      <td>6</td>\n",
       "      <td>1681</td>\n",
       "    </tr>\n",
       "    <tr>\n",
       "      <th>3</th>\n",
       "      <td>8</td>\n",
       "      <td>25</td>\n",
       "    </tr>\n",
       "  </tbody>\n",
       "</table>\n",
       "</div>"
      ],
      "text/plain": [
       "   x     y\n",
       "0  2    56\n",
       "1  4  2025\n",
       "2  6  1681\n",
       "3  8    25"
      ]
     },
     "execution_count": 25,
     "metadata": {},
     "output_type": "execute_result"
    }
   ],
   "source": [
    "xdf"
   ]
  },
  {
   "cell_type": "code",
   "execution_count": 27,
   "id": "881f1d74-1c34-4f51-9723-b430c406c9df",
   "metadata": {},
   "outputs": [
    {
     "data": {
      "text/plain": [
       "8"
      ]
     },
     "execution_count": 27,
     "metadata": {},
     "output_type": "execute_result"
    }
   ],
   "source": [
    "a    =     8\n",
    "a"
   ]
  }
 ],
 "metadata": {
  "kernelspec": {
   "display_name": "Python 3 (ipykernel)",
   "language": "python",
   "name": "python3"
  },
  "language_info": {
   "codemirror_mode": {
    "name": "ipython",
    "version": 3
   },
   "file_extension": ".py",
   "mimetype": "text/x-python",
   "name": "python",
   "nbconvert_exporter": "python",
   "pygments_lexer": "ipython3",
   "version": "3.11.7"
  }
 },
 "nbformat": 4,
 "nbformat_minor": 5
}
