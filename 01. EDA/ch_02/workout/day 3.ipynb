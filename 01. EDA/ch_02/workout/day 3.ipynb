{
 "cells": [
  {
   "cell_type": "code",
   "execution_count": null,
   "id": "46dfbb35-8c05-4027-9ee7-6f838b89bcd5",
   "metadata": {},
   "outputs": [],
   "source": [
    "import sqlite3\n",
    "import pandas as pd\n",
    "import numpy as np"
   ]
  },
  {
   "cell_type": "code",
   "execution_count": null,
   "id": "173cee69-1316-441e-a9a8-9f75f779015a",
   "metadata": {},
   "outputs": [],
   "source": [
    "nfDF = pd.read_csv('../../ch_07/data/netflix.csv')\n",
    "nfDF.head()"
   ]
  },
  {
   "cell_type": "code",
   "execution_count": null,
   "id": "1bd2583c-3022-465a-b40c-ef87d661681d",
   "metadata": {},
   "outputs": [],
   "source": [
    "nfDF.shape"
   ]
  },
  {
   "cell_type": "code",
   "execution_count": null,
   "id": "e3f53761-cfe9-427d-a075-6a1284b6f777",
   "metadata": {},
   "outputs": [],
   "source": [
    "nfDF.info()"
   ]
  },
  {
   "cell_type": "code",
   "execution_count": null,
   "id": "46b75423-68c5-4f83-964b-fb36318ee2dc",
   "metadata": {},
   "outputs": [],
   "source": [
    "help(pd.to_datetime)"
   ]
  },
  {
   "cell_type": "code",
   "execution_count": null,
   "id": "144532ff-9408-47dd-9a44-71af17c3d9b8",
   "metadata": {},
   "outputs": [],
   "source": [
    "nfDF['date'] = pd.to_datetime(nfDF['date'])\n",
    "nfDF.info()"
   ]
  },
  {
   "cell_type": "code",
   "execution_count": null,
   "id": "59e0f8e8-f8b1-42ba-a836-00be49771556",
   "metadata": {},
   "outputs": [],
   "source": [
    "nfDF.head()"
   ]
  },
  {
   "cell_type": "code",
   "execution_count": null,
   "id": "d59c5fbc-f86a-44e9-9e54-40ad6d4ac81b",
   "metadata": {},
   "outputs": [],
   "source": [
    "nfDF[nfDF['open'] > nfDF['close']]"
   ]
  },
  {
   "cell_type": "code",
   "execution_count": null,
   "id": "b4c6459a-973d-4fd8-9568-591a3c5f95f1",
   "metadata": {},
   "outputs": [],
   "source": [
    "nfDF['flex'] = nfDF['close'] - nfDF['open']\n",
    "nfDF.head()"
   ]
  },
  {
   "cell_type": "code",
   "execution_count": null,
   "id": "379f0db6-3809-463b-a509-5c62c5e6e2cd",
   "metadata": {},
   "outputs": [],
   "source": [
    "pastivDF = nfDF[nfDF['flex'] > 0]"
   ]
  },
  {
   "cell_type": "code",
   "execution_count": null,
   "id": "a95ec093-5914-42bd-a9f3-39546c965eb9",
   "metadata": {},
   "outputs": [],
   "source": [
    "pastivDF.head()"
   ]
  },
  {
   "cell_type": "code",
   "execution_count": null,
   "id": "3cc2c4d5-f713-4501-aaa7-22decfd44565",
   "metadata": {},
   "outputs": [],
   "source": [
    "pastivDF.shape"
   ]
  },
  {
   "cell_type": "code",
   "execution_count": null,
   "id": "3affd720-aa9e-49ec-b2e7-441f50829a43",
   "metadata": {},
   "outputs": [],
   "source": [
    "help(nfDF.drop)"
   ]
  },
  {
   "cell_type": "code",
   "execution_count": null,
   "id": "39ede06a-0ccc-48a5-9926-ab15071f2178",
   "metadata": {},
   "outputs": [],
   "source": [
    "df = nfDF.drop(columns=['adj_close'])\n",
    "df.head()"
   ]
  },
  {
   "cell_type": "code",
   "execution_count": null,
   "id": "4d74a5da-bf19-4b34-8b33-77f4701b0b3f",
   "metadata": {},
   "outputs": [],
   "source": [
    "nfDF.head()"
   ]
  },
  {
   "cell_type": "code",
   "execution_count": null,
   "id": "fd813310-04b5-4483-9f44-b6e0a4cddba6",
   "metadata": {},
   "outputs": [],
   "source": [
    "nfDF.drop(columns=['adj_close'], inplace=True)\n",
    "nfDF.head()"
   ]
  }
 ],
 "metadata": {
  "kernelspec": {
   "display_name": "Python 3 (ipykernel)",
   "language": "python",
   "name": "python3"
  },
  "language_info": {
   "codemirror_mode": {
    "name": "ipython",
    "version": 3
   },
   "file_extension": ".py",
   "mimetype": "text/x-python",
   "name": "python",
   "nbconvert_exporter": "python",
   "pygments_lexer": "ipython3",
   "version": "3.10.9"
  }
 },
 "nbformat": 4,
 "nbformat_minor": 5
}
