{
 "cells": [
  {
   "cell_type": "markdown",
   "metadata": {},
   "source": [
    "# Linear regression\n",
    "\n",
    "Linear regression is a **supervised learining** algorithm used when target / dependent variable  **continues** real number. It establishes relationship between dependent variable $y$ and one or more independent variable $x$ using best fit line.   \n",
    "\n",
    "It work on the principle of ordinary least square $(OLS)$ / Mean square errror $(MSE)$. In statistics ols is method to estimated unkown parameter of linear regression function, it's goal is to minimize sum of square difference between observed dependent variable in the given data set and those predicted by linear regression fuction. \n",
    "\n",
    "## Hypothesis representation\n",
    "\n",
    "We will use $\\mathbf{x_i}$ to denote the independent variable and $\\mathbf{y_i}$ to denote dependent variable. A pair of $\\mathbf{(x_i,y_i)}$ is called training example. The subscripe $\\mathbf{i}$ in the notation is simply index into the training set. We have $\\mathbf{m}$ training example then $\\mathbf{i = 1,2,3,...m}$.\n",
    "\n",
    "The goal of supervised learning is to learn a *hypothesis function $\\mathbf{h}$*, for a given training set that can used to estimate $\\mathbf{y}$ based on $\\mathbf{x}$. So hypothesis fuction represented as \n",
    "\n",
    "$$\\mathbf{ h_\\theta(x_{i}) = \\theta_0 + \\theta_1x_i }$$   \n",
    "$\\mathbf{\\theta_0,\\theta_1}$ are parameter of hypothesis.This is equation for **Simple / Univariate Linear regression**. \n",
    "\n",
    "For **Multiple Linear regression** more than one independent variable exit then we will use $\\mathbf{x_{ij}}$ to denote indepedent variable and $\\mathbf{y_{i}}$ to denote dependent variable. We have $\\mathbf{n}$ independent variable then $\\mathbf{j=1,2,3 ..... n}$. The hypothesis function represented as\n",
    "\n",
    "$$\\mathbf{h_\\theta(x_{i}) = \\theta_0 + \\theta_1x_{i1} + \\theta_2 x_{i2} + ..... \\theta_j x_{ij} ...... \\theta_n  x_{mn} }$$\n",
    "$\\mathbf{\\theta_0,\\theta_1,....\\theta_j....\\theta_n }$ are parameter of hypothesis,\n",
    "$\\mathbf{m}$ Number of training exaples,\n",
    "$\\mathbf{n}$ Number of independent variable,\n",
    "$\\mathbf{x_{ij}}$ is $\\mathbf{i^{th}}$ training exaple of $\\mathbf{j^{th}}$ feature.\n"
   ]
  },
  {
   "cell_type": "markdown",
   "metadata": {},
   "source": [
    "## Import Library and Dataset\n",
    "Now we will import couple of python library required for our analysis and import dataset "
   ]
  },
  {
   "cell_type": "code",
   "execution_count": null,
   "metadata": {},
   "outputs": [],
   "source": [
    "# Import library\n",
    "import pandas  as pd #Data manipulation\n",
    "import numpy as np #Data manipulation\n",
    "import matplotlib.pyplot as plt # Visualization\n",
    "import seaborn as sns #Visualization\n",
    "plt.rcParams['figure.figsize'] = [8,5]\n",
    "plt.rcParams['font.size'] =14\n",
    "plt.rcParams['font.weight']= 'bold'\n",
    "plt.style.use('seaborn-v0_8-whitegrid')"
   ]
  },
  {
   "cell_type": "code",
   "execution_count": null,
   "metadata": {},
   "outputs": [],
   "source": [
    "# Import dataset\n",
    "path = 'Data/'\n",
    "df = pd.read_csv(path+'insurance.csv')\n",
    "print('\\nNumber of rows and columns in the data set: ',df.shape)\n",
    "print('')\n",
    "\n",
    "#Lets look into top few rows and columns in the dataset\n",
    "df.head()"
   ]
  },
  {
   "cell_type": "markdown",
   "metadata": {},
   "source": [
    "Now we have import dataset. When we look at the shape of dataset it has return as (1338,7).So there are $\\mathbf{m=1338}$ training exaple and $\\mathbf{n=7}$ independent variable. The target variable here is charges and remaining six variables such as age, sex, bmi, children, smoker, region are independent variable. There are multiple independent variable, so we need to fit Multiple linear regression. Then the hypothesis function looks like\n",
    "\n",
    "$$\\mathbf{ h_\\theta(x_{i}) = \\theta_0+\\theta_1 age + \\theta_2 sex + \\theta_3 bmi + \\theta_4 children + \\theta_5 smoker + \\theta_6 region }$$\n",
    "\n",
    "This multiple linear regression equation for given dataset.  \n",
    "If $\\mathbf{i=1}$ then \n",
    "$$\\mathbf{h_\\theta(x_{1}) = \\theta_0+\\theta_1 19 + \\theta_2 female + \\theta_3 27.900 + \\theta_4 1 + \\theta_5 yes + \\theta_6 southwest}$$ \n",
    "$$\\mathbf{y_1 = 16884.92400}$$\n",
    "If $\\mathbf{i=3}$ then $$\\mathbf{h_\\theta(x_{3}) = \\theta_0+\\theta_1 28 + \\theta_2 male + \\theta_3 33.000 + \\theta_4 3 + \\theta_5 no + \\theta_6 northwest}$$ \n",
    "$$\\mathbf{y_3 = 4449.46200}$$\n",
    "*Note*: In python index starts from 0.\n",
    "$$\\mathbf{x_1 = \\left(\\begin{matrix} x_{11} & x_{12} & x_{13} & x_{14} & x_{15} & x_{16}\\end{matrix}\\right) = \\left(\\begin{matrix} 19 & female & 27.900 & 1 & no & northwest\\end{matrix}\\right) }$$"
   ]
  },
  {
   "cell_type": "markdown",
   "metadata": {},
   "source": [
    "## Matrix Formulation\n",
    "\n",
    "In general we can write above vector as $$ \\mathbf{ x_{ij}} = \\left( \\begin{smallmatrix} \\mathbf{x_{i1}} & \\mathbf{x_{i2}} &.&.&.& \\mathbf{x_{in}} \\end{smallmatrix} \\right)$$\n",
    "\n",
    "Now we combine all aviable individual vector into single input matrix of size $(m,n)$ and denoted it by $\\mathbf{X}$ input matrix, which consist of all training exaples,\n",
    "$$\\mathbf{X} = \\left( \\begin{smallmatrix} x_{11} & x_{12} &.&.&.&.& x_{1n}\\\\\n",
    "                                x_{21} & x_{22} &.&.&.&.& x_{2n}\\\\\n",
    "                                x_{31} & x_{32} &.&.&.&.& x_{3n}\\\\\n",
    "                                .&.&.&. &.&.&.& \\\\\n",
    "                                .&.&.&. &.&.&.& \\\\\n",
    "                                x_{m1} & x_{m2} &.&.&.&.&. x_{mn}\\\\\n",
    "                                \\end{smallmatrix} \\right)_{(m,n)}$$\n",
    "\n",
    "We represent parameter of function and dependent variable in vactor form as  \n",
    "$$\\theta = \\left (\\begin{matrix} \\theta_0 \\\\ \\theta_1 \\\\ .\\\\.\\\\ \\theta_j\\\\.\\\\.\\\\ \\theta_n \\end {matrix}\\right)_{(n+1,1)} \n",
    "\\mathbf{ y } = \\left (\\begin{matrix} y_1\\\\ y_2\\\\. \\\\. \\\\ y_i \\\\. \\\\. \\\\ y_m \\end{matrix} \\right)_{(m,1)}$$\n",
    "\n",
    "So we represent hypothesis function in vectorize form $$\\mathbf{ h_\\theta{(x)} = X\\theta}$$.\n",
    "\n"
   ]
  },
  {
   "cell_type": "code",
   "execution_count": null,
   "metadata": {},
   "outputs": [],
   "source": [
    "\"\"\" for our visualization purpose will fit line using seaborn library only for bmi as independent variable \n",
    "and charges as dependent variable\"\"\"\n",
    "\n",
    "sns.lmplot(x='bmi',y='charges',data=df,aspect=2,height=6)\n",
    "plt.xlabel('Boby Mass Index$(kg/m^2)$: as Independent variable')\n",
    "plt.ylabel('Insurance Charges: as Dependent variable')\n",
    "plt.title('Charge Vs BMI');"
   ]
  },
  {
   "cell_type": "markdown",
   "metadata": {},
   "source": [
    "In above plot we fit regression line into the variables."
   ]
  },
  {
   "cell_type": "markdown",
   "metadata": {},
   "source": [
    "## Cost function\n",
    "\n",
    "  A cost function measures how much error in the model is in terms of ability to estimate the relationship between $x$ and $y$. \n",
    "  We can measure the accuracy of our hypothesis function by using a cost function. This takes an average difference of observed dependent variable in the given the dataset and those predicted by the hypothesis function.\n",
    "  \n",
    "$$\\mathbf{ J(\\theta) = \\frac{1}{m} \\sum_{i=1}^{m}(\\hat{y}_i - y_i)^2}$$\n",
    "$$\\mathbf{J(\\theta) =  \\frac{1}{m} \\sum_{i=1}^{m}(h_\\theta(x_i) - y_i)^2}$$\n",
    "To implement the linear regression, take training example add an extra column that is $x_0$ feature, where $\\mathbf{x_0=1}$. $\\mathbf{x_{o}} = \\left( \\begin{smallmatrix} x_{i0} & x_{i1} & x_{i2} &.&.&.& x_{mi} \\end{smallmatrix} \\right)$,where $\\mathbf{x_{i0} =0}$ and input matrix will become as\n",
    "\n",
    "$$\\mathbf{X} = \\left( \\begin{smallmatrix} x_{10} & x_{11} & x_{12} &.&.&.&.& x_{1n}\\\\\n",
    "                                x_{20} & x_{21} & x_{22} &.&.&.&.& x_{2n}\\\\\n",
    "                                x_{30} & x_{31} & x_{32} &.&.&.&.& x_{3n}\\\\\n",
    "                                 .&.&.&.&. &.&.&.& \\\\\n",
    "                                 .&.&.&.&. &.&.&.& \\\\\n",
    "                                x_{m0} & x_{m1} & x_{m2} &.&.&.&.&. x_{mn}\\\\\n",
    "                                \\end{smallmatrix} \\right)_{(m,n+1)}$$  \n",
    "Each of the m input samples is similarly a column vector with n+1 rows $x_0$ being 1 for our convenience, that is $\\mathbf{x_{10},x_{20},x_{30} .... x_{m0} =1}$. Now we rewrite the ordinary least square cost function in matrix form as\n",
    "$$\\mathbf{J(\\theta) = \\frac{1}{m} (X\\theta - y)^T(X\\theta - y)}$$\n",
    "\n",
    "Let's look at the matrix multiplication concept,the multiplication of two matrix happens only if number of column of firt matrix is equal to number of row of second matrix. Here input matrix $\\mathbf{X}$ of size $\\mathbf{(m,n+1)}$, parameter of function is of size $(n+1,1)$ and dependent variable vector of size $\\mathbf{(m,1)}$. The product of matrix $\\mathbf{X_{(m,n+1)}\\theta_{(n+1,1)}}$ will return a vector of size $\\mathbf{(m,1)}$, then product of $\\mathbf{(X\\theta - y)^T_{(1,m})(X\\theta - y)_{(m,1)}}$ will return size of unit vector. "
   ]
  },
  {
   "cell_type": "markdown",
   "metadata": {},
   "source": [
    "## Normal Equation\n",
    "The normal equation is an analytical solution to the linear regression problem with a ordinary least square cost function. To minimize our cost function, take partial derivative of $\\mathbf{J(\\theta)}$ with respect to $\\theta$ and equate to $0$. The derivative of function is nothing but if a small change in input what would be the change in output of function.\n",
    " $$\\mathbf{min_{\\theta_0,\\theta_1..\\theta_n} J({\\theta_0,\\theta_1..\\theta_n})}$$\n",
    " $$\\mathbf{\\frac{\\partial J(\\theta_j)}{\\partial\\theta_j} =0}$$ \n",
    " where $\\mathbf{j = 0,1,2,....n}$\n",
    " \n",
    " Now we will apply partial derivative of our cost function,\n",
    " $$\\mathbf{\\frac{\\partial J(\\theta_j)}{\\partial\\theta_j} = \\frac{\\partial }{\\partial \\theta} \\frac{1}{m}(X\\theta - y)^T(X\\theta - y) }$$\n",
    " I will throw $\\mathbf{\\frac {1}{m}}$ part away since we are going to compare a derivative to $0$. And solve $\\mathbf{J(\\theta)}$,  \n",
    " \n",
    " $$\\mathbf{J(\\theta) = (X\\theta -y)^T(X\\theta - y)}$$\n",
    " $$\\mathbf{= (X\\theta)^T - y^T)(X\\theta -y)}$$   \n",
    " $$\\mathbf{= (\\theta^T X^T - y^T)(X\\theta - y)}$$\n",
    " $$\\mathbf{= \\theta^T X^T X \\theta - y^T X \\theta - \\theta^T X^T y + y^T y}$$\n",
    " $$\\mathbf{ = \\theta^T X^T X \\theta  - 2\\theta^T X^T y + y^T y}$$\n",
    "\n",
    "Here $\\mathbf{y^T_{(1,m)} X_{(m,n+1)} \\theta_{(n+1,1)} = \\theta^T_{(1,n+1)} X^T_{(n+1,m)} y_{(m,1)}}$ because unit vector.\n",
    "\n",
    "$$\\mathbf{\\frac{\\partial J(\\theta)}{\\partial \\theta} = \\frac{\\partial}{\\partial \\theta} (\\theta^T X^T X \\theta  - 2\\theta^T X^T y + y^T y )}$$\n",
    "$$\\mathbf{ = X^T X \\frac {\\partial \\theta^T \\theta}{\\partial\\theta} - 2 X^T y \\frac{\\partial \\theta^T}{\\partial\\theta} + \\frac {\\partial y^T y}{\\partial\\theta}}$$\n",
    "Partial derivative $\\mathbf{\\frac {\\partial x^2}{\\partial x} = 2x}$, $\\mathbf{\\frac {\\partial kx^2}{\\partial x} = kx}$,\n",
    "$\\mathbf{\\frac {\\partial Constact}{\\partial x} = 0}$\n",
    "\n",
    "$$\\mathbf{\\frac{\\partial J(\\theta)}{\\partial\\theta} = X^T X 2\\theta - 2X^T y +0}$$\n",
    "$$\\mathbf{ 0 = 2X^T X \\theta - 2X^T y}$$\n",
    "$$\\mathbf{ X^T X \\theta = X^T }$$\n",
    "$$\\mathbf{ \\theta = (X^TX)^{-1} X^Ty }$$\n",
    "this the normal equation for linear regression"
   ]
  },
  {
   "cell_type": "markdown",
   "metadata": {},
   "source": [
    "## Exploratory data analysis"
   ]
  },
  {
   "cell_type": "code",
   "execution_count": null,
   "metadata": {},
   "outputs": [],
   "source": [
    "df.describe()"
   ]
  },
  {
   "cell_type": "markdown",
   "metadata": {},
   "source": [
    "###  Check for missing value"
   ]
  },
  {
   "cell_type": "code",
   "execution_count": null,
   "metadata": {},
   "outputs": [],
   "source": [
    "plt.figure(figsize=(12,4))\n",
    "sns.heatmap(df.isnull(),cbar=False,cmap='viridis',yticklabels=False)\n",
    "plt.title('Missing value in the dataset');"
   ]
  },
  {
   "cell_type": "markdown",
   "metadata": {},
   "source": [
    "There is no missing value in the data sex"
   ]
  },
  {
   "cell_type": "markdown",
   "metadata": {},
   "source": [
    "### Plots"
   ]
  },
  {
   "cell_type": "code",
   "execution_count": null,
   "metadata": {},
   "outputs": [],
   "source": [
    "# correlation plot\n",
    "corr = df.corr()\n",
    "sns.heatmap(corr, cmap = 'Wistia', annot= True);"
   ]
  },
  {
   "cell_type": "markdown",
   "metadata": {},
   "source": [
    "Their no correlation among valiables."
   ]
  },
  {
   "cell_type": "code",
   "execution_count": null,
   "metadata": {},
   "outputs": [],
   "source": [
    "f= plt.figure(figsize=(12,4))\n",
    "\n",
    "ax=f.add_subplot(121)\n",
    "sns.distplot(df['charges'],bins=50,color='r',ax=ax)\n",
    "ax.set_title('Distribution of insurance charges')\n",
    "\n",
    "ax=f.add_subplot(122)\n",
    "sns.distplot(np.log10(df['charges']),bins=40,color='b',ax=ax)\n",
    "ax.set_title('Distribution of insurance charges in $log$ sacle')\n",
    "ax.set_xscale('log');"
   ]
  },
  {
   "cell_type": "markdown",
   "metadata": {},
   "source": [
    "If we look at the left plot the charges varies from 1120 to 63500, the plot is right skewed. In right plot we will apply natural log, then plot approximately tends to normal. for further analysis we will apply log on target variable charges. "
   ]
  },
  {
   "cell_type": "code",
   "execution_count": null,
   "metadata": {},
   "outputs": [],
   "source": [
    "f = plt.figure(figsize=(14,6))\n",
    "ax = f.add_subplot(121)\n",
    "sns.violinplot(x='sex', y='charges',data=df,palette='Wistia',ax=ax)\n",
    "ax.set_title('Violin plot of Charges vs sex')\n",
    "\n",
    "ax = f.add_subplot(122)\n",
    "sns.violinplot(x='smoker', y='charges',data=df,palette='magma',ax=ax)\n",
    "ax.set_title('Violin plot of Charges vs smoker');"
   ]
  },
  {
   "cell_type": "markdown",
   "metadata": {},
   "source": [
    "From left plot the insurance charge for male and female is approximatley in same range,it is average around 5000 bucks. In right plot the insurance charge for smokers is much wide range compare to non smokers, the average charges for non smoker is approximately 5000 bucks. For smoker the minimum insurance charge is itself 5000 bucks."
   ]
  },
  {
   "cell_type": "code",
   "execution_count": null,
   "metadata": {},
   "outputs": [],
   "source": [
    "plt.figure(figsize=(14,6))\n",
    "sns.boxplot(x='children', y='charges',hue='sex',data=df,palette='rainbow')\n",
    "plt.title('Box plot of charges vs children');"
   ]
  },
  {
   "cell_type": "code",
   "execution_count": null,
   "metadata": {},
   "outputs": [],
   "source": [
    "df.groupby('children').agg(['mean','min','max'])['charges']"
   ]
  },
  {
   "cell_type": "code",
   "execution_count": null,
   "metadata": {},
   "outputs": [],
   "source": [
    "plt.figure(figsize=(14,6))\n",
    "sns.violinplot(x='region', y='charges',hue='sex',data=df,palette='rainbow',split=True)\n",
    "plt.title('Violin plot of charges vs children');"
   ]
  },
  {
   "cell_type": "code",
   "execution_count": null,
   "metadata": {},
   "outputs": [],
   "source": [
    "f = plt.figure(figsize=(14,6))\n",
    "ax = f.add_subplot(121)\n",
    "sns.scatterplot(x='age',y='charges',data=df,palette='magma',hue='smoker',ax=ax)\n",
    "ax.set_title('Scatter plot of Charges vs age')\n",
    "\n",
    "ax = f.add_subplot(122)\n",
    "sns.scatterplot(x='bmi',y='charges',data=df,palette='viridis',hue='smoker')\n",
    "ax.set_title('Scatter plot of Charges vs bmi')\n",
    "plt.savefig('sc.png');"
   ]
  },
  {
   "cell_type": "markdown",
   "metadata": {},
   "source": [
    ">From left plot the minimum age person is insured is 18 year. There is slabs in policy most of non smoker take $1^{st}$ and $2^{nd}$ slab, for smoker policy start at $2^{nd}$ and $3^{rd}$ slab.\n",
    "\n",
    ">Body mass index (BMI) is a measure of body fat based on height and weight that applies to adult men and women. The minimum bmi is 16$kg/m^2$ and maximum upto 54$kg/m^2$"
   ]
  },
  {
   "cell_type": "markdown",
   "metadata": {},
   "source": [
    "## Data Preprocessing\n",
    "### Encoding\n",
    "Machine learning algorithms cannot work with categorical data directly, categorical data must be converted to number.\n",
    " 1. Label Encoding\n",
    " 2. One hot encoding\n",
    " 3. Dummy variable trap\n",
    "\n",
    "**Label encoding** refers to transforming the word labels into numerical form so that the algorithms can understand how to operate on them.\n",
    "\n",
    "A **One hot encoding** is a representation of categorical variable as binary vectors.It allows the representation of categorical data to be more expresive. This first requires that the categorical values be mapped to integer values, that is label encoding. Then, each integer value is represented as a binary vector that is all zero values except the index of the integer, which is marked with a 1.\n",
    "\n",
    "The **Dummy variable trap** is a scenario in which the independent variable are multicollinear, a scenario in which two or more variables are highly correlated in simple term one variable can be predicted from the others.\n",
    "\n",
    "By using *pandas get_dummies* function we can do all above three step in line of code. We will this fuction  to get dummy variable for sex, children,smoker,region features. By setting *drop_first =True* function will remove dummy variable trap by droping one variable and original variable.The pandas makes our life easy."
   ]
  },
  {
   "cell_type": "code",
   "execution_count": null,
   "metadata": {},
   "outputs": [],
   "source": [
    "# Dummy variable\n",
    "categorical_columns = ['sex','children', 'smoker', 'region']\n",
    "df_encode = pd.get_dummies(data = df, prefix = 'OHE', prefix_sep='_',\n",
    "               columns = categorical_columns,\n",
    "               drop_first =True,\n",
    "              dtype='int8')"
   ]
  },
  {
   "cell_type": "code",
   "execution_count": null,
   "metadata": {},
   "outputs": [],
   "source": [
    "# Lets verify the dummay variable process\n",
    "print('Columns in original data frame:\\n',df.columns.values)\n",
    "print('\\nNumber of rows and columns in the dataset:',df.shape)\n",
    "print('\\nColumns in data frame after encoding dummy variable:\\n',df_encode.columns.values)\n",
    "print('\\nNumber of rows and columns in the dataset:',df_encode.shape)"
   ]
  },
  {
   "cell_type": "markdown",
   "metadata": {},
   "source": [
    "### Box -Cox transformation\n",
    "A Box Cox transformation is a way to transform non-normal dependent variables into a normal shape. Normality is an important assumption for many statistical techniques; if your data isn’t normal, applying a Box-Cox means that you are able to run a broader number of tests. All that we need to perform this transformation is to find lambda value and apply the rule shown below to your variable.  \n",
    "$$\\mathbf{ \\begin {cases}\\frac {y^\\lambda - 1}{\\lambda},& y_i\\neg=0 \\\\\n",
    " log(y_i) & \\lambda = 0 \\end{cases}}$$\n",
    " The trick of Box-Cox transformation is to find lambda value, however in practice this is quite affordable. The following function returns the transformed variable, lambda value,confidence interval"
   ]
  },
  {
   "cell_type": "code",
   "execution_count": null,
   "metadata": {},
   "outputs": [],
   "source": [
    "from scipy.stats import boxcox\n",
    "y_bc,lam, ci= boxcox(df_encode['charges'],alpha=0.05)\n",
    "\n",
    "#df['charges'] = y_bc  \n",
    "# it did not perform better for this model, so log transform is used\n",
    "ci,lam"
   ]
  },
  {
   "cell_type": "code",
   "execution_count": null,
   "metadata": {},
   "outputs": [],
   "source": [
    "## Log transform\n",
    "df_encode['charges'] = np.log(df_encode['charges'])"
   ]
  },
  {
   "cell_type": "markdown",
   "metadata": {},
   "source": [
    "The original categorical variable are remove and also one of the one hot encode varible column for perticular categorical variable is droped from the column. So we completed all three encoding step by using get dummies function."
   ]
  },
  {
   "cell_type": "markdown",
   "metadata": {},
   "source": [
    "## Train Test split"
   ]
  },
  {
   "cell_type": "code",
   "execution_count": null,
   "metadata": {},
   "outputs": [],
   "source": [
    "from sklearn.model_selection import train_test_split\n",
    "X = df_encode.drop('charges',axis=1) # Independet variable\n",
    "y = df_encode['charges'] # dependent variable\n",
    "\n",
    "X_train, X_test, y_train, y_test = train_test_split(X,y,test_size=0.3,random_state=23)"
   ]
  },
  {
   "cell_type": "markdown",
   "metadata": {},
   "source": [
    "## Model building\n",
    "In this step build model using our linear regression equation $\\mathbf{\\theta = (X^T X)^{-1} X^Ty}$. In first step we need to add a feature $\\mathbf{x_0 =1}$ to our original data set. "
   ]
  },
  {
   "cell_type": "code",
   "execution_count": null,
   "metadata": {},
   "outputs": [],
   "source": [
    "# Step 1: add x0 =1 to dataset\n",
    "X_train_0 = np.c_[np.ones((X_train.shape[0],1)),X_train]\n",
    "X_test_0 = np.c_[np.ones((X_test.shape[0],1)),X_test]\n",
    "\n",
    "# Step2: build model\n",
    "theta = np.matmul(np.linalg.inv( np.matmul(X_train_0.T,X_train_0) ), np.matmul(X_train_0.T,y_train)) "
   ]
  },
  {
   "cell_type": "code",
   "execution_count": null,
   "metadata": {},
   "outputs": [],
   "source": [
    "# The parameters for linear regression model\n",
    "parameter = ['theta_'+str(i) for i in range(X_train_0.shape[1])]\n",
    "columns = ['intersect:x_0=1'] + list(X.columns.values)\n",
    "parameter_df = pd.DataFrame({'Parameter':parameter,'Columns':columns,'theta':theta})"
   ]
  },
  {
   "cell_type": "code",
   "execution_count": null,
   "metadata": {},
   "outputs": [],
   "source": [
    "# Scikit Learn module\n",
    "from sklearn.linear_model import LinearRegression\n",
    "lin_reg = LinearRegression()\n",
    "lin_reg.fit(X_train,y_train) # Note: x_0 =1 is no need to add, sklearn will take care of it.\n",
    "\n",
    "#Parameter\n",
    "sk_theta = [lin_reg.intercept_]+list(lin_reg.coef_)\n",
    "parameter_df = parameter_df.join(pd.Series(sk_theta, name='Sklearn_theta'))\n",
    "parameter_df"
   ]
  },
  {
   "cell_type": "markdown",
   "metadata": {},
   "source": [
    "The parameter obtained from both the model are same.So we succefull build our model using normal equation and verified using sklearn linear regression module. Let's move ahead, next step is prediction and model evaluvation."
   ]
  },
  {
   "cell_type": "markdown",
   "metadata": {},
   "source": [
    "## Model evaluation\n",
    "We will predict value for target variable by using our model parameter for test data set. Then compare the predicted value with actual valu in test set. We compute **Mean Square Error** using formula \n",
    "$$\\mathbf{ J(\\theta) = \\frac{1}{m} \\sum_{i=1}^{m}(\\hat{y}_i - y_i)^2}$$\n",
    "\n",
    "$\\mathbf{R^2}$ is statistical measure of how close data are to the fitted regression line. $\\mathbf{R^2}$ is always between 0 to 100%. 0% indicated that model explains none of the variability of the response data around it's mean. 100% indicated that model explains all the variablity of the response data around the mean.\n",
    "\n",
    "$$\\mathbf{R^2 = 1 - \\frac{SSE}{SST}}$$\n",
    "**SSE = Sum of Square Error**  \n",
    "**SST = Sum of Square Total**  \n",
    "$$\\mathbf{SSE = \\sum_{i=1}^{m}(\\hat{y}_i - y_i)^2}$$\n",
    "$$\\mathbf{SST = \\sum_{i=1}^{m}(y_i - \\bar{y}_i)^2}$$\n",
    "Here $\\mathbf{\\hat{y}}$ is predicted value and $\\mathbf{\\bar{y}}$ is mean value of $\\mathbf{y}$."
   ]
  },
  {
   "cell_type": "code",
   "execution_count": null,
   "metadata": {},
   "outputs": [],
   "source": [
    "# Normal equation\n",
    "y_pred_norm =  np.matmul(X_test_0,theta)\n",
    "\n",
    "#Evaluvation: MSE\n",
    "J_mse = np.sum((y_pred_norm - y_test)**2)/ X_test_0.shape[0]\n",
    "\n",
    "# R_square \n",
    "sse = np.sum((y_pred_norm - y_test)**2)\n",
    "sst = np.sum((y_test - y_test.mean())**2)\n",
    "R_square = 1 - (sse/sst)\n",
    "print('The Mean Square Error(MSE) or J(theta) is: ',J_mse)\n",
    "print('R square obtain for normal equation method is :',R_square)"
   ]
  },
  {
   "cell_type": "code",
   "execution_count": null,
   "metadata": {},
   "outputs": [],
   "source": [
    "# sklearn regression module\n",
    "y_pred_sk = lin_reg.predict(X_test)\n",
    "\n",
    "#Evaluvation: MSE\n",
    "from sklearn.metrics import mean_squared_error\n",
    "J_mse_sk = mean_squared_error(y_pred_sk, y_test)\n",
    "\n",
    "# R_square\n",
    "R_square_sk = lin_reg.score(X_test,y_test)\n",
    "print('The Mean Square Error(MSE) or J(theta) is: ',J_mse_sk)\n",
    "print('R square obtain for scikit learn library is :',R_square_sk)"
   ]
  },
  {
   "cell_type": "markdown",
   "metadata": {},
   "source": [
    "The model returns $R^2$ value of 77.95%, so it fit our data test very well, but still we can imporve the the performance of by diffirent technique. Please make a note that we have transformer out variable by applying  natural log. When we put model into production antilog is applied to the equation."
   ]
  },
  {
   "cell_type": "markdown",
   "metadata": {},
   "source": [
    "## Model Validation\n",
    "In order to validated model we need to check few assumption of linear regression model. The common assumption for *Linear Regression* model are following\n",
    "1. Linear Relationship: In linear regression the relationship between the dependent and independent variable to be *linear*. This can be checked by scatter ploting Actual value Vs Predicted value\n",
    "2. The residual error plot should be *normally* distributed.\n",
    "3. The *mean* of *residual error* should be 0 or close to 0 as much as possible\n",
    "4. The linear regression require all variables to be multivariate normal. This assumption can best checked with Q-Q plot.\n",
    "5. Linear regession assumes that there is little or no *Multicollinearity in the data. Multicollinearity occurs when the independent variables are too highly correlated with each other. The variance inflation factor *VIF* identifies correlation between independent variables and strength of that correlation. $\\mathbf{VIF = \\frac {1}{1-R^2}}$, If VIF >1 & VIF <5 moderate correlation, VIF < 5 critical level of multicollinearity.\n",
    "6. Homoscedasticity: The data are homoscedastic meaning the residuals are equal across the regression line. We can look at residual Vs fitted value scatter plot. If heteroscedastic plot would exhibit a funnel shape pattern."
   ]
  },
  {
   "cell_type": "code",
   "execution_count": null,
   "metadata": {},
   "outputs": [],
   "source": [
    "# Check for Linearity\n",
    "f = plt.figure(figsize=(14,5))\n",
    "ax = f.add_subplot(121)\n",
    "sns.scatterplot(x=y_test,y=y_pred_sk,ax=ax,color='b')\n",
    "ax.set_title('Check for Linearity:\\n Actual Vs Predicted value')\n",
    "\n",
    "# Check for Residual normality & mean\n",
    "ax = f.add_subplot(122)\n",
    "sns.distplot((y_test - y_pred_sk),ax=ax,color='b')\n",
    "ax.axvline((y_test - y_pred_sk).mean(),color='k',linestyle='--')\n",
    "ax.set_title('Check for Residual normality & mean: \\n Residual eror');"
   ]
  },
  {
   "cell_type": "code",
   "execution_count": null,
   "metadata": {},
   "outputs": [],
   "source": [
    "# Check for Multivariate Normality\n",
    "# Quantile-Quantile plot \n",
    "f,ax = plt.subplots(1,2,figsize=(14,6))\n",
    "import scipy as sp\n",
    "_,(_,_,r)= sp.stats.probplot((y_test - y_pred_sk),fit=True,plot=ax[0])\n",
    "ax[0].set_title('Check for Multivariate Normality: \\nQ-Q Plot')\n",
    "\n",
    "#Check for Homoscedasticity\n",
    "sns.scatterplot(y = (y_test - y_pred_sk), x= y_pred_sk, ax = ax[1],color='r') \n",
    "ax[1].set_title('Check for Homoscedasticity: \\nResidual Vs Predicted');"
   ]
  },
  {
   "cell_type": "code",
   "execution_count": null,
   "metadata": {},
   "outputs": [],
   "source": [
    "# Check for Multicollinearity\n",
    "#Variance Inflation Factor\n",
    "VIF = 1/(1- R_square_sk)\n",
    "VIF"
   ]
  },
  {
   "cell_type": "markdown",
   "metadata": {},
   "source": [
    "The model assumption linear regression as follows\n",
    "1. In our model  the actual vs predicted plot is curve so linear assumption fails\n",
    "2. The residual mean is zero and residual error plot right skewed\n",
    "3. Q-Q plot shows as value log value greater than 1.5 trends to increase\n",
    "4. The plot is exhibit heteroscedastic, error will insease after certian point.\n",
    "5. Variance inflation factor value is less than 5, so no multicollearity."
   ]
  }
 ],
 "metadata": {
  "kernelspec": {
   "display_name": "Python 3 (ipykernel)",
   "language": "python",
   "name": "python3"
  },
  "language_info": {
   "codemirror_mode": {
    "name": "ipython",
    "version": 3
   },
   "file_extension": ".py",
   "mimetype": "text/x-python",
   "name": "python",
   "nbconvert_exporter": "python",
   "pygments_lexer": "ipython3",
   "version": "3.10.9"
  }
 },
 "nbformat": 4,
 "nbformat_minor": 4
}
