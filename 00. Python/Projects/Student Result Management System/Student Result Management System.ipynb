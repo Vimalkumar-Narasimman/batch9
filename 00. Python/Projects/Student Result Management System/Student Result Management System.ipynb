{
 "cells": [
  {
   "cell_type": "markdown",
   "id": "2ed8129e",
   "metadata": {},
   "source": [
    "### Student Result Management System using JSON and Class concepts\n",
    "\n",
    "1. Read <code>student.json</code> to calculate below:\n",
    "    1. Find a total mark for each student\n",
    "    2. Find result of the student, pass mark is 45\n",
    "    3. If student passed all subject then calculate the percentage \n",
    "    4. Find the grade of each student, use below:\n",
    "    * **>=95, A+**\n",
    "    * **>=90 and < 95, A**\n",
    "    * **>=80 and < 90, B**\n",
    "    * **>=75 and < 80, B-**\n",
    "    * **>=60 and < 75, C**\n",
    "    * **>=50 and < 60, D**\n",
    "    * **rest E**\n",
    "    \n",
    "2. Add all the above the elements in JSON and write a JSON as 'student_result.json' file\n",
    "2. Get all the students who scored on or above 60% and store the data in 'first_class_student.csv' file\n",
    "3. Define 'Class' to store all student information and perform the above calculations\n",
    "4. Add exception handlers (Try... Except) whereever required\n",
    "5. Use this notebook to type all your codes    "
   ]
  },
  {
   "cell_type": "code",
   "execution_count": null,
   "id": "5922677f",
   "metadata": {},
   "outputs": [],
   "source": []
  }
 ],
 "metadata": {
  "kernelspec": {
   "display_name": "Python 3 (ipykernel)",
   "language": "python",
   "name": "python3"
  },
  "language_info": {
   "codemirror_mode": {
    "name": "ipython",
    "version": 3
   },
   "file_extension": ".py",
   "mimetype": "text/x-python",
   "name": "python",
   "nbconvert_exporter": "python",
   "pygments_lexer": "ipython3",
   "version": "3.10.9"
  }
 },
 "nbformat": 4,
 "nbformat_minor": 5
}
