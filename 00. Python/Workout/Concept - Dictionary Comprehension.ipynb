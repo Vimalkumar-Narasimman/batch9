{
 "cells": [
  {
   "cell_type": "code",
   "execution_count": 1,
   "id": "72e2daac",
   "metadata": {},
   "outputs": [
    {
     "data": {
      "text/plain": [
       "{'Jan': 31,\n",
       " 'Feb': 28,\n",
       " 'Mar': 31,\n",
       " 'Apr': 30,\n",
       " 'May': 31,\n",
       " 'Jun': 30,\n",
       " 'Jul': 31,\n",
       " 'Aug': 31,\n",
       " 'Sep': 30,\n",
       " 'Oct': 31,\n",
       " 'Nov': 30,\n",
       " 'Dec': 31}"
      ]
     },
     "execution_count": 1,
     "metadata": {},
     "output_type": "execute_result"
    }
   ],
   "source": [
    "months = ['Jan', 'Feb', 'Mar', 'Apr', \"May\", 'Jun', 'Jul', \"Aug\", 'Sep', 'Oct', 'Nov', 'Dec']\n",
    "days = [31, 28, 31, 30, 31, 30, 31, 31, 30, 31, 30, 31]\n",
    "\n",
    "{ k:v for (k,v) in zip(months, days)}"
   ]
  },
  {
   "cell_type": "code",
   "execution_count": 3,
   "id": "d07106d5",
   "metadata": {},
   "outputs": [
    {
     "data": {
      "text/plain": [
       "{1: 1.0,\n",
       " 2: 1.41,\n",
       " 3: 1.73,\n",
       " 4: 2.0,\n",
       " 5: 2.24,\n",
       " 6: 2.45,\n",
       " 7: 2.65,\n",
       " 8: 2.83,\n",
       " 9: 3.0,\n",
       " 10: 3.16}"
      ]
     },
     "execution_count": 3,
     "metadata": {},
     "output_type": "execute_result"
    }
   ],
   "source": [
    "{ num: round(num**0.5, 2) for num in range(1, 11)}"
   ]
  },
  {
   "cell_type": "code",
   "execution_count": 5,
   "id": "403045d1",
   "metadata": {},
   "outputs": [
    {
     "data": {
      "text/plain": [
       "{1: 1.0,\n",
       " 2: 1.4142,\n",
       " 3: 1.7321,\n",
       " 4: 2.0,\n",
       " 5: 2.2361,\n",
       " 6: 2.4495,\n",
       " 7: 2.6458,\n",
       " 8: 2.8284,\n",
       " 9: 3.0,\n",
       " 10: 3.1623}"
      ]
     },
     "execution_count": 5,
     "metadata": {},
     "output_type": "execute_result"
    }
   ],
   "source": [
    "import math\n",
    "{ num: round(math.sqrt(num),4) for num in range(1, 11)}"
   ]
  },
  {
   "cell_type": "code",
   "execution_count": 6,
   "id": "0a52a122",
   "metadata": {},
   "outputs": [
    {
     "data": {
      "text/plain": [
       "{2: 1.41, 4: 2.0, 6: 2.45, 8: 2.83, 10: 3.16}"
      ]
     },
     "execution_count": 6,
     "metadata": {},
     "output_type": "execute_result"
    }
   ],
   "source": [
    "{ num: round(num**0.5, 2) for num in range(1, 11) if num % 2 == 0}"
   ]
  },
  {
   "cell_type": "code",
   "execution_count": 7,
   "id": "38091a7e",
   "metadata": {},
   "outputs": [
    {
     "data": {
      "text/plain": [
       "{1: 1, 2: 1.41, 3: 9, 4: 2.0, 5: 25, 6: 2.45, 7: 49, 8: 2.83, 9: 81, 10: 3.16}"
      ]
     },
     "execution_count": 7,
     "metadata": {},
     "output_type": "execute_result"
    }
   ],
   "source": [
    "{ num: round(num**0.5, 2) if num % 2 == 0 else num**2 for num in range(1, 11) }"
   ]
  }
 ],
 "metadata": {
  "kernelspec": {
   "display_name": "Python 3 (ipykernel)",
   "language": "python",
   "name": "python3"
  },
  "language_info": {
   "codemirror_mode": {
    "name": "ipython",
    "version": 3
   },
   "file_extension": ".py",
   "mimetype": "text/x-python",
   "name": "python",
   "nbconvert_exporter": "python",
   "pygments_lexer": "ipython3",
   "version": "3.10.9"
  }
 },
 "nbformat": 4,
 "nbformat_minor": 5
}
