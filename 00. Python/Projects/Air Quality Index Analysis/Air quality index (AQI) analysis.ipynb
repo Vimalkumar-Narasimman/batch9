{
 "cells": [
  {
   "cell_type": "markdown",
   "id": "f52f5370",
   "metadata": {},
   "source": [
    "# Air quality index (AQI) analysis\n",
    "\n",
    "The dataset provided (delhiaqi.csv) contains air quality measurements for Delhi during January 2023. The dataset includes the following variables:\n",
    "\n",
    "* date: Date and time of the measurement.\n",
    "* co: Concentration of Carbon Monoxide (CO) in µg/m³.\n",
    "* no: Concentration of Nitric Oxide (NO) in µg/m³.\n",
    "* no2: Concentration of Nitrogen Dioxide (NO2) in µg/m³.\n",
    "* o3: Concentration of Ozone (O3) in µg/m³.\n",
    "* so2: Concentration of Sulfur Dioxide (SO2) in µg/m³.\n",
    "* pm2_5: Concentration of Particulate Matter (PM2.5) in µg/m³.\n",
    "* pm10: Concentration of Particulate Matter (PM10) in µg/m³.\n",
    "* nh3: Concentration of Ammonia (NH3) in µg/m³.\n",
    "The aim of this analysis is to gain insights into the air quality index in Delhi during January 2023, using the provided dataset. Your task is to:\n",
    "\n",
    "1. Calculate and analyze the Air Quality Index (AQI) based on pollutant concentrations.\n",
    "2. Investigate which day has peak pollution.\n",
    "\n",
    "Calculations:\n",
    "* AQI breakpoints and corresponding AQI values\n",
    "    min, max, aqi\n",
    "\n",
    "    0, 12.0, 50 \n",
    "\n",
    "    12.1, 35.4, 100\n",
    "\n",
    "    35.5, 55.4, 150\n",
    "\n",
    "    55.5, 150.4, 200\n",
    "\n",
    "    150.5, 250.4, 300\n",
    "\n",
    "    250.5, 350.4, 400\n",
    "\n",
    "    350.5, 500.4, 500\n",
    "\n",
    "* AQI categories\n",
    "    0, 50, 'Good'\n",
    "    \n",
    "    51, 100, 'Moderate'\n",
    "    \n",
    "    101, 150, 'Unhealthy for Sensitive Groups'\n",
    "    \n",
    "    151, 200, 'Unhealthy'\n",
    "    \n",
    "    201, 300, 'Very Unhealthy'\n",
    "    \n",
    "    301, 500, 'Hazardous'\n",
    "    \n",
    "* Calculate the AQI for a specific pollutant and concentration by finding the appropriate range in the aqi breakpoints\n",
    "* Calculate the overall AQI for a record in the dataset by considering the maximum AQI value among all pollutants\n",
    "\n",
    "\n",
    "1. Add the above last two results in 'AQI_Analysis.json' file\n",
    "\n",
    "2. Define 'Class' to store all information and perform the above calculations\n",
    "\n",
    "3. Add exception handlers (Try... Except) whereever required\n",
    "\n",
    "Use this notebook to type all your codes\n"
   ]
  },
  {
   "cell_type": "code",
   "execution_count": null,
   "id": "df3ad391",
   "metadata": {},
   "outputs": [],
   "source": [
    "#ToDo: Type your code with proper explanation as comments"
   ]
  }
 ],
 "metadata": {
  "kernelspec": {
   "display_name": "Python 3 (ipykernel)",
   "language": "python",
   "name": "python3"
  },
  "language_info": {
   "codemirror_mode": {
    "name": "ipython",
    "version": 3
   },
   "file_extension": ".py",
   "mimetype": "text/x-python",
   "name": "python",
   "nbconvert_exporter": "python",
   "pygments_lexer": "ipython3",
   "version": "3.10.9"
  }
 },
 "nbformat": 4,
 "nbformat_minor": 5
}
