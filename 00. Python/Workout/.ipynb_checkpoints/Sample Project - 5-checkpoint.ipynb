{
 "cells": [
  {
   "cell_type": "code",
   "execution_count": null,
   "id": "cb3f45eb",
   "metadata": {},
   "outputs": [],
   "source": [
    "import json\n",
    "import csv\n",
    "\n",
    "class FileHandling:\n",
    "    def __init__(self, inFile, outFile):\n",
    "        self.inputFile = inFile\n",
    "        self.outputFile = outFile\n",
    "    \n",
    "    def readJSONFile(self):\n",
    "        with open(self.inputFile) as fileObj:\n",
    "            fileContent = json.load(fileObj)\n",
    "        return fileContent\n",
    "        \n",
    "    def writeJSONFile(self, dataDict):\n",
    "        with open(self.outputFile, 'w') as fileObj:\n",
    "            json.dump(dataDict, fileObj, indent=4)\n",
    "            \n",
    "    def readCSVFile(self):\n",
    "        with open(self.inputFile) as fileObj:\n",
    "            csvReader = csv.reader(fileObj)   \n",
    "            fields = next(csvReader)\n",
    "            rows = [row for row in csvReader]\n",
    "            fileContent = [{k:v for (k,v) in zip(fields,row) } for row in rows ]\n",
    "        return fileContent\n",
    "        "
   ]
  }
 ],
 "metadata": {
  "kernelspec": {
   "display_name": "Python 3 (ipykernel)",
   "language": "python",
   "name": "python3"
  },
  "language_info": {
   "codemirror_mode": {
    "name": "ipython",
    "version": 3
   },
   "file_extension": ".py",
   "mimetype": "text/x-python",
   "name": "python",
   "nbconvert_exporter": "python",
   "pygments_lexer": "ipython3",
   "version": "3.10.9"
  }
 },
 "nbformat": 4,
 "nbformat_minor": 5
}
