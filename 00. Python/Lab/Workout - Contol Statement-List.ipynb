{
 "cells": [
  {
   "cell_type": "code",
   "execution_count": 5,
   "id": "94591174",
   "metadata": {},
   "outputs": [
    {
     "name": "stdout",
     "output_type": "stream",
     "text": [
      "29 is Big\n",
      "True Block\n"
     ]
    }
   ],
   "source": [
    "a=29\n",
    "b=4\n",
    "if a>b: \n",
    "    print(f'{a} is Big')\n",
    "    print('True Block')\n",
    "else: print(f'{b} is big')"
   ]
  },
  {
   "cell_type": "code",
   "execution_count": 7,
   "id": "3ffb1d09",
   "metadata": {},
   "outputs": [
    {
     "name": "stdout",
     "output_type": "stream",
     "text": [
      "34 is Big\n"
     ]
    }
   ],
   "source": [
    "x=34\n",
    "y=6\n",
    "max = x if x>y else y\n",
    "print(f'{max} is Big')"
   ]
  },
  {
   "cell_type": "code",
   "execution_count": 13,
   "id": "3a95aa0c",
   "metadata": {},
   "outputs": [
    {
     "name": "stdout",
     "output_type": "stream",
     "text": [
      "Enter Interger Number:6\n",
      "2.449489742783178\n"
     ]
    }
   ],
   "source": [
    "#import math as m\n",
    "from math import sqrt\n",
    "nbr = int(input('Enter Interger Number:'))\n",
    "val = sqrt(nbr) if nbr % 2 == 0 else pow(nbr, nbr)\n",
    "print(val)\n"
   ]
  },
  {
   "cell_type": "code",
   "execution_count": 14,
   "id": "a5e19e8d",
   "metadata": {},
   "outputs": [
    {
     "name": "stdout",
     "output_type": "stream",
     "text": [
      "Enter your available Travel Time (in Mins)30\n",
      "30 55\n",
      "You can't use any mode of transport\n"
     ]
    }
   ],
   "source": [
    "trainTime = 30\n",
    "busTime = 55\n",
    "bikeTime = 40\n",
    "carTime = 50\n",
    "travelTime = int(input('Enter your available Travel Time (in Mins)'))\n",
    "minDuration, maxDuration = bikeTime, bikeTime\n",
    "for duration in trainTime, busTime, bikeTime, carTime:\n",
    "    if minDuration > duration: minDuration = duration\n",
    "    if maxDuration < duration: maxDuration = duration\n",
    "print(minDuration, maxDuration)\n",
    "if travelTime >= maxDuration:\n",
    "    print('You can use any mode of transport')\n",
    "elif travelTime < minDuration:\n",
    "    print('You can\\'t use any mode of transport')\n",
    "else:"
   ]
  },
  {
   "cell_type": "code",
   "execution_count": 15,
   "id": "9a0ce4f3",
   "metadata": {},
   "outputs": [
    {
     "name": "stdout",
     "output_type": "stream",
     "text": [
      "W\n",
      "e\n",
      "l\n",
      "c\n",
      "o\n",
      "m\n",
      "e\n"
     ]
    }
   ],
   "source": [
    "for chr in 'Welcome':\n",
    "    print(chr)"
   ]
  },
  {
   "cell_type": "code",
   "execution_count": 19,
   "id": "c2e4e797",
   "metadata": {},
   "outputs": [
    {
     "name": "stdout",
     "output_type": "stream",
     "text": [
      "Enter integer value : 4\n",
      "positive\n"
     ]
    }
   ],
   "source": [
    "nbr= int(input(\"Enter integer value : \"))\n",
    "a = \"positive\" if nbr>= 0 else \"negative\"\n",
    "print(a)"
   ]
  },
  {
   "cell_type": "code",
   "execution_count": null,
   "id": "72ce539a",
   "metadata": {},
   "outputs": [],
   "source": [
    "a = 10 + 20"
   ]
  },
  {
   "cell_type": "code",
   "execution_count": 21,
   "id": "8446cb65",
   "metadata": {},
   "outputs": [
    {
     "name": "stdout",
     "output_type": "stream",
     "text": [
      "Enter integer value : 6\n",
      "6 is NOT Prime\n"
     ]
    }
   ],
   "source": [
    "nbr= int(input(\"Enter integer value : \"))\n",
    "isPrime = True\n",
    "for div in range(2,nbr):\n",
    "    if nbr % div == 0:\n",
    "        isPrime = False\n",
    "        break\n",
    "if isPrime:\n",
    "    print(f'{nbr} is Prime')\n",
    "else:\n",
    "    print(f'{nbr} is NOT Prime')"
   ]
  },
  {
   "cell_type": "code",
   "execution_count": 2,
   "id": "e7e97e66",
   "metadata": {},
   "outputs": [
    {
     "name": "stdout",
     "output_type": "stream",
     "text": [
      "The item NOT found\n"
     ]
    }
   ],
   "source": [
    "ourlist = [15, 1, 9, 3]\n",
    "item = 8\n",
    "    \n",
    "for index in range(0, len(ourlist)):\n",
    "    if (ourlist[index] == item):\n",
    "        print(f'The item found in {index} position')\n",
    "        break;\n",
    "else:\n",
    "    print('The item NOT found')\n",
    "    \n"
   ]
  },
  {
   "cell_type": "code",
   "execution_count": null,
   "id": "d1d580be",
   "metadata": {},
   "outputs": [],
   "source": [
    "matrix=[[1, 2, 3],[12, 13, 23],[10, 20, 30],'one', 120]\n",
    "print(len(matrix), type(matrix), matrix)"
   ]
  },
  {
   "cell_type": "code",
   "execution_count": null,
   "id": "298db26f",
   "metadata": {},
   "outputs": [],
   "source": [
    "for item in matrix:\n",
    "    print(type(item),item)"
   ]
  },
  {
   "cell_type": "code",
   "execution_count": null,
   "id": "26e02d67",
   "metadata": {},
   "outputs": [],
   "source": [
    "flatList = list()\n",
    "for item in matrix:\n",
    "    if type(item) not in (int, float, bool):\n",
    "        for innerItem in item:\n",
    "            flatList.append(innerItem)\n",
    "    else:\n",
    "        flatList.append(item)\n",
    "flatList"
   ]
  },
  {
   "cell_type": "code",
   "execution_count": 9,
   "id": "4422431a",
   "metadata": {},
   "outputs": [
    {
     "name": "stdout",
     "output_type": "stream",
     "text": [
      "Item Found\n"
     ]
    }
   ],
   "source": [
    "numbers = [12, 45, 32, 56, 47, 89]\n",
    "findItem = 47\n",
    "print('Item Found' if findItem in numbers else 'Item NOT Fount')"
   ]
  }
 ],
 "metadata": {
  "kernelspec": {
   "display_name": "Python 3 (ipykernel)",
   "language": "python",
   "name": "python3"
  },
  "language_info": {
   "codemirror_mode": {
    "name": "ipython",
    "version": 3
   },
   "file_extension": ".py",
   "mimetype": "text/x-python",
   "name": "python",
   "nbconvert_exporter": "python",
   "pygments_lexer": "ipython3",
   "version": "3.7.9"
  }
 },
 "nbformat": 4,
 "nbformat_minor": 5
}
