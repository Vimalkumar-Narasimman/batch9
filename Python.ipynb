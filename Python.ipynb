{
 "cells": [
  {
   "cell_type": "markdown",
   "id": "539dc805",
   "metadata": {},
   "source": [
    "Merge two Python dictionaries into one\n",
    "\n",
    "\tdict1 = {'Ten': 10, 'Twenty': 20, 'Thirty': 30}\n",
    "\tdict2 = {'Thirty': 30, 'Fourty': 40, 'Fifty': 50}\n",
    "\n",
    "\t{'Ten': 10, 'Twenty': 20, 'Thirty': 30, 'Fourty': 40, 'Fifty': 50}\n"
   ]
  },
  {
   "cell_type": "markdown",
   "id": "abe9b123",
   "metadata": {},
   "source": [
    "Initialize dictionary with default values?\n",
    "\n",
    "\temployees = ['Kelly', 'Emma']\n",
    "\tdefaults = {\"designation\": 'Developer', \"salary\": 8000}\n",
    "\t\n",
    "\t\n",
    "\t{'Kelly': {'designation': 'Developer', 'salary': 8000}, 'Emma': {'designation': 'Developer', 'salary': 8000}}\n"
   ]
  },
  {
   "cell_type": "markdown",
   "id": "53625362",
   "metadata": {},
   "source": [
    "transpose matrix?\n",
    "\t\n",
    "\tmatrix = [\n",
    "\t    [1, 2, 3, 4],\n",
    "\t    [5, 6, 7, 8],\n",
    "\t    [9, 10, 11, 12],\n",
    "\t]\n",
    "\t[[1, 5, 9], [2, 6, 10], [3, 7, 11], [4, 8, 12]]\n"
   ]
  },
  {
   "cell_type": "markdown",
   "id": "9a66c6cf",
   "metadata": {},
   "source": [
    "flatten a list using a listcomp?\n",
    "\n",
    "\tvec = [[1,2,3], [4,5,6], [7,8,9]]\n",
    "\t\n",
    "\t[1, 2, 3, 4, 5, 6, 7, 8, 9]"
   ]
  },
  {
   "cell_type": "markdown",
   "id": "c79682e9",
   "metadata": {},
   "source": [
    "create a list of 2-tuples like (number, square)?\n",
    "\n",
    "\t\n",
    "\t[(0, 0), (1, 1), (2, 4), (3, 9), (4, 16), (5, 25)]\n"
   ]
  },
  {
   "cell_type": "markdown",
   "id": "48003033",
   "metadata": {},
   "source": [
    "Find the first 10 square numbers in all possible way using list?\n",
    "[1, 2, 9, 16, 25, ...]"
   ]
  },
  {
   "cell_type": "code",
   "execution_count": 9,
   "id": "0152b3bc",
   "metadata": {},
   "outputs": [
    {
     "data": {
      "text/plain": [
       "[1, 4, 9, 16, 25, 36, 49, 64, 81, 100]"
      ]
     },
     "execution_count": 9,
     "metadata": {},
     "output_type": "execute_result"
    }
   ],
   "source": [
    "squares = []\n",
    "for x in range(1, 11):\n",
    "    squares.append(x**2)\n",
    "squares"
   ]
  },
  {
   "cell_type": "code",
   "execution_count": 6,
   "id": "b310563b",
   "metadata": {},
   "outputs": [
    {
     "data": {
      "text/plain": [
       "[1, 4, 9, 16, 25, 36, 49, 64, 81, 100]"
      ]
     },
     "execution_count": 6,
     "metadata": {},
     "output_type": "execute_result"
    }
   ],
   "source": [
    "squares = list(map(lambda x: x**2, range(1, 11)))\n",
    "squares"
   ]
  },
  {
   "cell_type": "code",
   "execution_count": 10,
   "id": "6e6f69fe",
   "metadata": {},
   "outputs": [
    {
     "data": {
      "text/plain": [
       "[1, 4, 9, 16, 25, 36, 49, 64, 81, 100]"
      ]
     },
     "execution_count": 10,
     "metadata": {},
     "output_type": "execute_result"
    }
   ],
   "source": [
    "squares = [x**2 for x in range(1, 11)]\n",
    "squares"
   ]
  },
  {
   "cell_type": "code",
   "execution_count": 29,
   "id": "6e7c61d0",
   "metadata": {},
   "outputs": [
    {
     "data": {
      "text/plain": [
       "[(1, 1),\n",
       " (4, 16),\n",
       " (9, 81),\n",
       " (16, 256),\n",
       " (25, 625),\n",
       " (36, 1296),\n",
       " (49, 2401),\n",
       " (64, 4096),\n",
       " (81, 6561)]"
      ]
     },
     "execution_count": 29,
     "metadata": {},
     "output_type": "execute_result"
    }
   ],
   "source": [
    "# Find squares of perfect sqrt\n",
    "squares = list(set(map(lambda x: x**2 if x == int(x ** 0.5) **2 else None , range(1, 100))))\n",
    "squares.remove(None)\n",
    "squares.sort()\n",
    "squares = list(map(lambda n: (int(x ** 0.5), n), squares))\n",
    "squares"
   ]
  },
  {
   "cell_type": "code",
   "execution_count": 32,
   "id": "0fef6be9",
   "metadata": {},
   "outputs": [
    {
     "data": {
      "text/plain": [
       "[(1, 1),\n",
       " (4, 16),\n",
       " (9, 81),\n",
       " (16, 256),\n",
       " (25, 625),\n",
       " (36, 1296),\n",
       " (49, 2401),\n",
       " (64, 4096),\n",
       " (81, 6561)]"
      ]
     },
     "execution_count": 32,
     "metadata": {},
     "output_type": "execute_result"
    }
   ],
   "source": [
    "from math import sqrt\n",
    "[ (n, n**2) for n in range(1, 100) if int(x ** 0.5) ** 2 == n]"
   ]
  }
 ],
 "metadata": {
  "kernelspec": {
   "display_name": "Python 3 (ipykernel)",
   "language": "python",
   "name": "python3"
  },
  "language_info": {
   "codemirror_mode": {
    "name": "ipython",
    "version": 3
   },
   "file_extension": ".py",
   "mimetype": "text/x-python",
   "name": "python",
   "nbconvert_exporter": "python",
   "pygments_lexer": "ipython3",
   "version": "3.10.9"
  }
 },
 "nbformat": 4,
 "nbformat_minor": 5
}
