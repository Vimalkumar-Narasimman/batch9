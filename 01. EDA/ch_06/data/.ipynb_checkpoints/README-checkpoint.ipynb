{
 "cells": [
  {
   "cell_type": "markdown",
   "metadata": {},
   "source": [
    "# About the data\n",
    "\n",
    "| File                       | Description                                                                                                      | Source                                                                                             |\n",
    "|----------------------------|------------------------------------------------------------------------------------------------------------------|----------------------------------------------------------------------------------------------------|\n",
    "| `covid19_cases.csv`        | ECDC's *daily number of new reported cases of COVID-19 by country worldwide dataset* through September 18, 2020. | ECDC's *daily number of new reported cases of COVID-19 by country worldwide dataset*.              |\n",
    "| `earthquakes.csv`          | Earthquake data from September 18, 2018 through October 13, 2018.                                                | The US Geological Survey (USGS) earthquake API.                                                    |\n",
    "| `fb_stock_prices_2018.csv` | Facebook stock's opening, high, low, and closing price daily, along with volume traded for 2018.                 | The `stock_analysis` package (see *Chapter 7, Financial Analysis – Bitcoin and the Stock Market*). |\n",
    "\n",
    "### Sources\n",
    "\n",
    "-   The European Centre for Disease Prevention and Control's (ECDC)\n",
    "    *daily number of new reported cases of COVID-19 by country worldwide\n",
    "    dataset* can be found\n",
    "    [here](https://www.ecdc.europa.eu/en/publications-data/download-todays-data-geographic-distribution-covid-19-cases-worldwide).\n",
    "    The data here was collected on September 19, 2020 via\n",
    "    [this](https://opendata.ecdc.europa.eu/covid19/casedistribution/csv)\n",
    "    link.\n",
    "-   Information on the US Geological Survey (USGS) earthquake API can be\n",
    "    found [here](https://earthquake.usgs.gov/fdsnws/event/1/). In\n",
    "    *Chapter 2, Working with Pandas DataFrames*, we walk through\n",
    "    collecting this data.\n",
    "-   The [`stock_analysis`](https://github.com/stefmolin/stock-analysis)\n",
    "    package contains easy to use interfaces for basic technical analysis\n",
    "    of stocks. We will walk through the construction of this package in\n",
    "    *Chapter 7, Financial Analysis – Bitcoin and the Stock Market*."
   ]
  }
 ],
 "nbformat": 4,
 "nbformat_minor": 5,
 "metadata": {}
}
