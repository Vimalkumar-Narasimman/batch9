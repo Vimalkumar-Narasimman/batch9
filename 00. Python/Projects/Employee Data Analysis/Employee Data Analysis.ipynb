{
 "cells": [
  {
   "cell_type": "markdown",
   "id": "bcf56dbd",
   "metadata": {},
   "source": [
    "### Employee Data Analysis using CSV and Class concepts\n",
    "\n",
    "1. Read <code>Employee.csv</code> to calculate below:\n",
    "    1. Find a average age of employee in 'Bangalore' City\n",
    "    2. How many 'Female' employees are done 'Masters' in Education\n",
    "    3. How many employees are working more than 10 years in the company \n",
    "    \n",
    "2. Add all the above the results should be written as JSON 'employee_Analysis.json' file\n",
    "3. Define 'Class' to store all employee information and perform the above calculations\n",
    "4. Add exception handlers (Try... Except) whereever required\n",
    "5. Use this notebook to type all your codes    "
   ]
  },
  {
   "cell_type": "code",
   "execution_count": null,
   "id": "b2191d6f",
   "metadata": {},
   "outputs": [],
   "source": [
    "#ToDo: Type your code with proper explanation as comments "
   ]
  }
 ],
 "metadata": {
  "kernelspec": {
   "display_name": "Python 3 (ipykernel)",
   "language": "python",
   "name": "python3"
  },
  "language_info": {
   "codemirror_mode": {
    "name": "ipython",
    "version": 3
   },
   "file_extension": ".py",
   "mimetype": "text/x-python",
   "name": "python",
   "nbconvert_exporter": "python",
   "pygments_lexer": "ipython3",
   "version": "3.10.9"
  }
 },
 "nbformat": 4,
 "nbformat_minor": 5
}
