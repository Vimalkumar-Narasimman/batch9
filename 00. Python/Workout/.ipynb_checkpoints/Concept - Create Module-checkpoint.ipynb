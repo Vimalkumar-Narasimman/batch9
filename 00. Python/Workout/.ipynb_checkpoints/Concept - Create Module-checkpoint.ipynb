{
 "cells": [
  {
   "cell_type": "code",
   "execution_count": 1,
   "id": "66faf0b0",
   "metadata": {},
   "outputs": [
    {
     "name": "stdout",
     "output_type": "stream",
     "text": [
      "Writing result.py\n"
     ]
    }
   ],
   "source": [
    "%%file result.py \n",
    "\n",
    "def findTotal(marks):\n",
    "    return sum(marks)\n",
    "\n",
    "def findResult(marks, passMark=45):\n",
    "    for mark in marks:\n",
    "        if mark < passMark:\n",
    "            result = 'Fail'\n",
    "            break\n",
    "    else:\n",
    "        result = 'Pass'\n",
    "    return result\n",
    "\n",
    "def findPercentage(marks):\n",
    "    return round(sum(marks)/len(marks),2)\n",
    "\n",
    "def calculateResult(student):\n",
    "    passMark=45\n",
    "    student['total'] = findTotal(student['marks'])\n",
    "    student['result'] = findResult(student['marks'], passMark)      \n",
    "    if student['result'] == 'Pass':\n",
    "        student['percentage'] = findPercentage(student['marks'])\n",
    "    return student"
   ]
  }
 ],
 "metadata": {
  "kernelspec": {
   "display_name": "Python 3 (ipykernel)",
   "language": "python",
   "name": "python3"
  },
  "language_info": {
   "codemirror_mode": {
    "name": "ipython",
    "version": 3
   },
   "file_extension": ".py",
   "mimetype": "text/x-python",
   "name": "python",
   "nbconvert_exporter": "python",
   "pygments_lexer": "ipython3",
   "version": "3.10.9"
  }
 },
 "nbformat": 4,
 "nbformat_minor": 5
}
