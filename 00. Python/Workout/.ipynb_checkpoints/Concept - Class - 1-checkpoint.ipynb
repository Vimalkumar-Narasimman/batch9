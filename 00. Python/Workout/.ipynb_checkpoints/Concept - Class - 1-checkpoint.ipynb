{
 "cells": [
  {
   "cell_type": "code",
   "execution_count": 2,
   "id": "1ea0afe5",
   "metadata": {},
   "outputs": [
    {
     "name": "stdout",
     "output_type": "stream",
     "text": [
      "b is 6\n",
      "w is 6\n",
      "b is 10\n",
      "w is 4\n"
     ]
    }
   ],
   "source": [
    "class shape():\n",
    "    b = 0\n",
    "    w = 0\n",
    "    \n",
    "    def __init__(self, b1, w1):\n",
    "        self.b = b1\n",
    "        self.w = w1\n",
    "        \n",
    "    def desc(self):\n",
    "        print(f'b is {self.b}')\n",
    "        print(f'w is {self.w}')\n",
    "        \n",
    "rect = shape(10, 4)\n",
    "        \n",
    "sqr = shape(6, 6)\n",
    "sqr.desc()\n",
    "rect.desc()"
   ]
  },
  {
   "cell_type": "code",
   "execution_count": 5,
   "id": "638f4fab",
   "metadata": {},
   "outputs": [
    {
     "name": "stdout",
     "output_type": "stream",
     "text": [
      "b is 6\n",
      "w is 6\n"
     ]
    },
    {
     "ename": "NameError",
     "evalue": "name 'cls' is not defined",
     "output_type": "error",
     "traceback": [
      "\u001b[1;31m---------------------------------------------------------------------------\u001b[0m",
      "\u001b[1;31mNameError\u001b[0m                                 Traceback (most recent call last)",
      "Cell \u001b[1;32mIn[5], line 17\u001b[0m\n\u001b[0;32m     14\u001b[0m rect \u001b[38;5;241m=\u001b[39m shape(\u001b[38;5;241m10\u001b[39m, \u001b[38;5;241m4\u001b[39m)\n\u001b[0;32m     16\u001b[0m sqr \u001b[38;5;241m=\u001b[39m shape(\u001b[38;5;241m6\u001b[39m, \u001b[38;5;241m6\u001b[39m)\n\u001b[1;32m---> 17\u001b[0m \u001b[43msqr\u001b[49m\u001b[38;5;241;43m.\u001b[39;49m\u001b[43mdesc\u001b[49m\u001b[43m(\u001b[49m\u001b[43m)\u001b[49m\n\u001b[0;32m     18\u001b[0m rect\u001b[38;5;241m.\u001b[39mdesc()\n",
      "Cell \u001b[1;32mIn[5], line 12\u001b[0m, in \u001b[0;36mshape.desc\u001b[1;34m(self)\u001b[0m\n\u001b[0;32m     10\u001b[0m \u001b[38;5;28mprint\u001b[39m(\u001b[38;5;124mf\u001b[39m\u001b[38;5;124m'\u001b[39m\u001b[38;5;124mb is \u001b[39m\u001b[38;5;132;01m{\u001b[39;00m\u001b[38;5;28mself\u001b[39m\u001b[38;5;241m.\u001b[39mb\u001b[38;5;132;01m}\u001b[39;00m\u001b[38;5;124m'\u001b[39m)\n\u001b[0;32m     11\u001b[0m \u001b[38;5;28mprint\u001b[39m(\u001b[38;5;124mf\u001b[39m\u001b[38;5;124m'\u001b[39m\u001b[38;5;124mw is \u001b[39m\u001b[38;5;132;01m{\u001b[39;00m\u001b[38;5;28mself\u001b[39m\u001b[38;5;241m.\u001b[39mw\u001b[38;5;132;01m}\u001b[39;00m\u001b[38;5;124m'\u001b[39m)\n\u001b[1;32m---> 12\u001b[0m \u001b[38;5;28mprint\u001b[39m(\u001b[38;5;124mf\u001b[39m\u001b[38;5;124m'\u001b[39m\u001b[38;5;124mpi is \u001b[39m\u001b[38;5;132;01m{\u001b[39;00m\u001b[38;5;28;43mcls\u001b[39;49m\u001b[38;5;241m.\u001b[39mpi\u001b[38;5;132;01m}\u001b[39;00m\u001b[38;5;124m'\u001b[39m)\n",
      "\u001b[1;31mNameError\u001b[0m: name 'cls' is not defined"
     ]
    }
   ],
   "source": [
    "class shape():\n",
    "    b = 0\n",
    "    w = 0\n",
    "    pi = 3.14\n",
    "    def __init__(self, b1, w1):\n",
    "        self.b = b1\n",
    "        self.w = w1\n",
    "        \n",
    "    def desc(self):\n",
    "        print(f'b is {self.b}')\n",
    "        print(f'w is {self.w}')\n",
    "        print(f'pi is {self.pi}')\n",
    "        \n",
    "rect = shape(10, 4)\n",
    "        \n",
    "sqr = shape(6, 6)\n",
    "sqr.desc()\n",
    "rect.desc()"
   ]
  },
  {
   "cell_type": "code",
   "execution_count": null,
   "id": "13079ccf",
   "metadata": {},
   "outputs": [],
   "source": []
  }
 ],
 "metadata": {
  "kernelspec": {
   "display_name": "Python 3 (ipykernel)",
   "language": "python",
   "name": "python3"
  },
  "language_info": {
   "codemirror_mode": {
    "name": "ipython",
    "version": 3
   },
   "file_extension": ".py",
   "mimetype": "text/x-python",
   "name": "python",
   "nbconvert_exporter": "python",
   "pygments_lexer": "ipython3",
   "version": "3.10.9"
  }
 },
 "nbformat": 4,
 "nbformat_minor": 5
}
