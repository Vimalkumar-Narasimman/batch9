{
 "cells": [
  {
   "cell_type": "code",
   "execution_count": null,
   "id": "e48e10d9",
   "metadata": {},
   "outputs": [],
   "source": [
    "num1 = int(input('Enter a first number'))\n",
    "num2 = int(input('Enter a next number'))\n",
    "print(num1 > num2)"
   ]
  },
  {
   "cell_type": "code",
   "execution_count": null,
   "id": "0f8a6edd",
   "metadata": {},
   "outputs": [],
   "source": [
    "#Simple if Statement\n",
    "\n",
    "if <conditions>:\n",
    "    <true statements>\n"
   ]
  },
  {
   "cell_type": "code",
   "execution_count": null,
   "id": "d2e5b9a0",
   "metadata": {},
   "outputs": [],
   "source": [
    "num1 = int(input('Enter a first number : '))\n",
    "num2 = int(input('Enter a next number : '))\n",
    "if num1 > num2:\n",
    "    print(f'{num1} is big')\n",
    "print('End of the program')"
   ]
  },
  {
   "cell_type": "code",
   "execution_count": null,
   "id": "49b965ea",
   "metadata": {},
   "outputs": [],
   "source": [
    "# if ... else Statement\n",
    "if <condition>:\n",
    "    <true statements>\n",
    "else:\n",
    "    <false statements>"
   ]
  },
  {
   "cell_type": "code",
   "execution_count": null,
   "id": "ac46f650",
   "metadata": {},
   "outputs": [],
   "source": [
    "num1 = int(input('Enter a first number : '))\n",
    "num2 = int(input('Enter a next number : '))\n",
    "if num1 > num2:\n",
    "    print(f'{num1} is big')\n",
    "else:\n",
    "    print(f'{num2} is big')\n",
    "\n",
    "print('End of the program')"
   ]
  },
  {
   "cell_type": "code",
   "execution_count": null,
   "id": "bacea5fd",
   "metadata": {},
   "outputs": [],
   "source": [
    "num = int(input('Enter a number : '))\n",
    "if num % 2 == 0:\n",
    "    sqrt_num = num ** 0.5 # square root\n",
    "    print(f'square root of {num} is {sqrt_num}')\n",
    "else:\n",
    "    cube = num ** 3\n",
    "    print(f'Cube of {num} is {cube}')\n",
    "print('End of the program')"
   ]
  },
  {
   "cell_type": "code",
   "execution_count": null,
   "id": "d6d875cb",
   "metadata": {},
   "outputs": [],
   "source": [
    "num = int(input('Enter a number : '))\n",
    "sqrt_num = num ** 0.5 # square root\n",
    "print(f'square root of {num} is {sqrt_num}')\n",
    "square_num = sqrt_num ** 2\n",
    "print(f'square of {sqrt_num} is {square_num}')\n",
    "if num == square_num:\n",
    "    print(f'{num} is perfect square')\n",
    "else:\n",
    "    print(f'{num} is not perfect square')"
   ]
  },
  {
   "cell_type": "code",
   "execution_count": null,
   "id": "f671f8d4",
   "metadata": {},
   "outputs": [],
   "source": [
    "# Nested if ... else...\n",
    "if condition:\n",
    "    true statements\n",
    "    if condition:\n",
    "        if condition:\n",
    "            true statements\n",
    "        else:\n",
    "            false statements\n",
    "    else:\n",
    "        false statements\n",
    "else:\n",
    "    false statements\n",
    "    if condition:\n",
    "        true statements\n",
    "    else:\n",
    "        false statements\n"
   ]
  },
  {
   "cell_type": "code",
   "execution_count": 1,
   "id": "cfc67223",
   "metadata": {},
   "outputs": [
    {
     "name": "stdout",
     "output_type": "stream",
     "text": [
      "Enter a first number : 34\n",
      "Enter a next number : 56\n",
      "Enter a next number : 32\n",
      "56 is big\n",
      "End of the program\n"
     ]
    }
   ],
   "source": [
    "num1 = int(input('Enter a first number : '))\n",
    "num2 = int(input('Enter a next number : '))\n",
    "num3 = int(input('Enter a next number : '))\n",
    "if num1 > num2 and num1 > num3:\n",
    "    print(f'{num1} is big')\n",
    "else:\n",
    "    if num2 > num3:\n",
    "        print(f'{num2} is big')\n",
    "    else:\n",
    "        print(f'{num3} is big')\n",
    "print('End of the program')"
   ]
  },
  {
   "cell_type": "code",
   "execution_count": 6,
   "id": "7689b979",
   "metadata": {},
   "outputs": [
    {
     "name": "stdout",
     "output_type": "stream",
     "text": [
      "Enter a age : 45\n",
      "Enter gender : Female\n",
      "You are eligible for 5% discount.\n"
     ]
    }
   ],
   "source": [
    "age = int(input('Enter a age : '))\n",
    "gender = input('Enter gender : ')\n",
    "if age >= 60:\n",
    "    discount = 10\n",
    "else:\n",
    "    if gender == 'Female':\n",
    "        discount = 5\n",
    "    else:\n",
    "        discount = 2\n",
    "print(f'You are eligible for {discount}% discount.')"
   ]
  },
  {
   "cell_type": "code",
   "execution_count": 10,
   "id": "2388681b",
   "metadata": {},
   "outputs": [
    {
     "name": "stdout",
     "output_type": "stream",
     "text": [
      "Enter a age : 34\n",
      "Enter gender : FEMALE\n",
      "You are eligible for 5% discount.\n"
     ]
    }
   ],
   "source": [
    "age = int(input('Enter a age : '))\n",
    "if age >= 60:\n",
    "    discount = 10\n",
    "else:\n",
    "    gender = input('Enter gender : ').lower() # chainablity\n",
    "    if gender == 'female' or gender == 'f':\n",
    "        discount = 5\n",
    "    else:\n",
    "        discount = 2\n",
    "print(f'You are eligible for {discount}% discount.')"
   ]
  },
  {
   "cell_type": "code",
   "execution_count": 14,
   "id": "01b83309",
   "metadata": {},
   "outputs": [
    {
     "name": "stdout",
     "output_type": "stream",
     "text": [
      "Enter a percentage : 78.50\n",
      "Your Grade is C\n"
     ]
    }
   ],
   "source": [
    "# Grade - 95>= 'A+'; 90>= <95 'A'; 85>= <90 'B+'; 80>= <85 'B'; 70>= <80 'C'; 60>= <70 'D'; others 'E'\n",
    "\n",
    "p = float(input('Enter a percentage : '))\n",
    "if p >= 95:\n",
    "    grade = 'A+'\n",
    "else:\n",
    "    if p >= 90 and p < 95:\n",
    "        grade = 'A'\n",
    "    else:\n",
    "        if p >= 85 and p < 90:\n",
    "            grade = 'B+'\n",
    "        else:\n",
    "            if p >= 80 and p < 85:\n",
    "                grade = 'B'\n",
    "            else:\n",
    "                if p >= 70 and p < 80:\n",
    "                    grade = 'C'\n",
    "                else:\n",
    "                    if p >= 60 and p < 70:\n",
    "                        grade = 'D'\n",
    "                    else:\n",
    "                        grade = 'E'\n",
    "                        \n",
    "print(f'Your Grade is {grade}')"
   ]
  },
  {
   "cell_type": "code",
   "execution_count": null,
   "id": "ebc092ef",
   "metadata": {},
   "outputs": [],
   "source": [
    "# Ladder if... else...\n",
    "if condition:\n",
    "    true statements\n",
    "elif condition:\n",
    "    true statements\n",
    "elif condition:\n",
    "    true statements\n",
    "else:\n",
    "    false statements"
   ]
  },
  {
   "cell_type": "code",
   "execution_count": 15,
   "id": "182e3916",
   "metadata": {},
   "outputs": [
    {
     "name": "stdout",
     "output_type": "stream",
     "text": [
      "Enter a first number : 34\n",
      "Enter a next number : 42\n",
      "Enter a next number : 45\n",
      "45 is big\n",
      "End of the program\n"
     ]
    }
   ],
   "source": [
    "num1 = int(input('Enter a first number : '))\n",
    "num2 = int(input('Enter a next number : '))\n",
    "num3 = int(input('Enter a next number : '))\n",
    "if num1 > num2 and num1 > num3:\n",
    "    print(f'{num1} is big')\n",
    "elif num2 > num3:\n",
    "    print(f'{num2} is big')\n",
    "else:\n",
    "    print(f'{num3} is big')\n",
    "print('End of the program')"
   ]
  },
  {
   "cell_type": "code",
   "execution_count": 16,
   "id": "3f2452fe",
   "metadata": {},
   "outputs": [
    {
     "name": "stdout",
     "output_type": "stream",
     "text": [
      "Enter a percentage : 56\n",
      "Your Grade is E\n"
     ]
    }
   ],
   "source": [
    "# Grade - 95>= 'A+'; 90>= <95 'A'; 85>= <90 'B+'; 80>= <85 'B'; 70>= <80 'C'; 60>= <70 'D'; others 'E'\n",
    "\n",
    "p = float(input('Enter a percentage : '))\n",
    "if p >= 95:\n",
    "    grade = 'A+'\n",
    "elif p >= 90 and p < 95:\n",
    "    grade = 'A'\n",
    "elif p >= 85 and p < 90:\n",
    "    grade = 'B+'\n",
    "elif p >= 80 and p < 85:\n",
    "    grade = 'B'\n",
    "elif p >= 70 and p < 80:\n",
    "    grade = 'C'\n",
    "elif p >= 60 and p < 70:\n",
    "    grade = 'D'\n",
    "else:\n",
    "    grade = 'E'\n",
    "                        \n",
    "print(f'Your Grade is {grade}')"
   ]
  },
  {
   "cell_type": "code",
   "execution_count": null,
   "id": "e2b4963a",
   "metadata": {},
   "outputs": [],
   "source": [
    "# Single line if... else...\n",
    "\n",
    "true statement if condition else flase statement"
   ]
  },
  {
   "cell_type": "code",
   "execution_count": 18,
   "id": "d36e152f",
   "metadata": {},
   "outputs": [
    {
     "name": "stdout",
     "output_type": "stream",
     "text": [
      "8 is even\n"
     ]
    }
   ],
   "source": [
    "n = 8\n",
    "\n",
    "print(f'{n} is even') if n % 2 == 0 else print(f'{n} is odd')"
   ]
  },
  {
   "cell_type": "code",
   "execution_count": 19,
   "id": "03294293",
   "metadata": {},
   "outputs": [
    {
     "name": "stdout",
     "output_type": "stream",
     "text": [
      "8 is even\n"
     ]
    }
   ],
   "source": [
    "if n % 2 == 0:\n",
    "    print(f'{n} is even')\n",
    "else:\n",
    "    print(f'{n} is odd')"
   ]
  },
  {
   "cell_type": "code",
   "execution_count": 22,
   "id": "ebda4f4e",
   "metadata": {},
   "outputs": [
    {
     "name": "stdout",
     "output_type": "stream",
     "text": [
      "Enter a first number : 56\n",
      "Enter a next number : 43\n",
      "Enter a next number : 23\n",
      "56 is big\n"
     ]
    }
   ],
   "source": [
    "num1 = int(input('Enter a first number : '))\n",
    "num2 = int(input('Enter a next number : '))\n",
    "num3 = int(input('Enter a next number : '))\n",
    "print(f'{num1} is big') if num1 > num2 and num1 > num3 else \\\n",
    "print(f'{num2} is big') if num2 > num3 else print(f'{num3} is big')"
   ]
  },
  {
   "cell_type": "code",
   "execution_count": null,
   "id": "292f71c9",
   "metadata": {},
   "outputs": [],
   "source": [
    "num = int(input('Enter a number : '))\n",
    "sqrt_num = num ** 0.5 # square root\n",
    "print(f'square root of {num} is {sqrt_num}')\n",
    "square_num = sqrt_num ** 2\n",
    "print(f'square of {sqrt_num} is {square_num}')\n",
    "print(f'{num} is perfect square') if num == square_num else print(f'{num} is not perfect square')"
   ]
  }
 ],
 "metadata": {
  "kernelspec": {
   "display_name": "Python 3 (ipykernel)",
   "language": "python",
   "name": "python3"
  },
  "language_info": {
   "codemirror_mode": {
    "name": "ipython",
    "version": 3
   },
   "file_extension": ".py",
   "mimetype": "text/x-python",
   "name": "python",
   "nbconvert_exporter": "python",
   "pygments_lexer": "ipython3",
   "version": "3.10.9"
  }
 },
 "nbformat": 4,
 "nbformat_minor": 5
}
