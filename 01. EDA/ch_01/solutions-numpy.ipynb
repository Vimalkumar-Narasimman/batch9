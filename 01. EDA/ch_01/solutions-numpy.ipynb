{
 "cells": [
  {
   "cell_type": "markdown",
   "metadata": {},
   "source": [
    "# Solutions\n",
    "\n",
    "### Exercise 1: Generate the data using numpy"
   ]
  },
  {
   "cell_type": "code",
   "execution_count": 1,
   "metadata": {},
   "outputs": [],
   "source": [
    "import numpy as np"
   ]
  },
  {
   "cell_type": "code",
   "execution_count": 2,
   "metadata": {},
   "outputs": [
    {
     "data": {
      "text/plain": [
       "(array([26048, 33735, 35411, 81090, 84607, 63707, 15533, 67224, 26193,\n",
       "        69470, 60119, 66569, 72119, 27271, 84802, 98321, 68750, 17408,\n",
       "        27669, 43127, 65895, 16652, 63570, 14305, 90514, 18966, 23556,\n",
       "        48519, 32373, 95962, 89161, 75402, 63224, 99835, 50784, 63581,\n",
       "        73372, 74893, 56944, 78979, 88664, 45765, 91705, 18913, 73814,\n",
       "        15241, 15374, 62368, 10440, 97064, 17129, 53559, 40544, 82321,\n",
       "        50015, 93626, 82226, 24266, 89534, 35294, 18584, 64590, 70702,\n",
       "        86144, 33180, 61440, 34986, 94392, 57628, 23676, 50088, 51058,\n",
       "        23290, 54727, 24138, 21829, 53136, 47667, 12324, 60736, 30304,\n",
       "        33675, 92960, 22509, 31132, 98845, 28205, 48059, 82500, 71126,\n",
       "        54391, 92303, 36222, 31620, 57983, 64710, 71865, 85804, 41308,\n",
       "        38422]),\n",
       " numpy.ndarray)"
      ]
     },
     "execution_count": 2,
     "metadata": {},
     "output_type": "execute_result"
    }
   ],
   "source": [
    "salaries = np.random.randint(10000, 100000, size=100)\n",
    "salaries, type(salaries)"
   ]
  },
  {
   "cell_type": "code",
   "execution_count": 3,
   "metadata": {},
   "outputs": [
    {
     "data": {
      "text/plain": [
       "1"
      ]
     },
     "execution_count": 3,
     "metadata": {},
     "output_type": "execute_result"
    }
   ],
   "source": [
    "salaries.ndim"
   ]
  },
  {
   "cell_type": "code",
   "execution_count": 4,
   "metadata": {},
   "outputs": [
    {
     "data": {
      "text/plain": [
       "(100,)"
      ]
     },
     "execution_count": 4,
     "metadata": {},
     "output_type": "execute_result"
    }
   ],
   "source": [
    "salaries.shape"
   ]
  },
  {
   "cell_type": "markdown",
   "metadata": {},
   "source": [
    "### Exercise 5: Calculating statistics \n",
    "#### mean"
   ]
  },
  {
   "cell_type": "code",
   "execution_count": 6,
   "metadata": {},
   "outputs": [
    {
     "data": {
      "text/plain": [
       "54117.8"
      ]
     },
     "execution_count": 6,
     "metadata": {},
     "output_type": "execute_result"
    }
   ],
   "source": [
    "sum(salaries) / len(salaries)"
   ]
  },
  {
   "cell_type": "code",
   "execution_count": 7,
   "metadata": {},
   "outputs": [
    {
     "data": {
      "text/plain": [
       "54117.8"
      ]
     },
     "execution_count": 7,
     "metadata": {},
     "output_type": "execute_result"
    }
   ],
   "source": [
    "np.mean(salaries) "
   ]
  },
  {
   "cell_type": "markdown",
   "metadata": {},
   "source": [
    "#### median\n",
    "\n",
    "First, we define a function to calculate the median:"
   ]
  },
  {
   "cell_type": "code",
   "execution_count": 11,
   "metadata": {},
   "outputs": [],
   "source": [
    "import math\n",
    "\n",
    "def find_median(x):\n",
    "    x.sort()\n",
    "    midpoint = (len(x) + 1) / 2 - 1 # subtract 1 bc index starts at 0\n",
    "    if len(x) % 2:\n",
    "        # x has odd number of values\n",
    "        return x[int(midpoint)]\n",
    "    else:\n",
    "        return (x[math.floor(midpoint)] + x[math.ceil(midpoint)]) / 2"
   ]
  },
  {
   "cell_type": "code",
   "execution_count": 9,
   "metadata": {},
   "outputs": [
    {
     "data": {
      "text/plain": [
       "59707.5"
      ]
     },
     "execution_count": 9,
     "metadata": {},
     "output_type": "execute_result"
    }
   ],
   "source": [
    "find_median(salaries)"
   ]
  },
  {
   "cell_type": "markdown",
   "metadata": {},
   "source": [
    "Then, we check its output matches the expected output:"
   ]
  },
  {
   "cell_type": "code",
   "execution_count": 12,
   "metadata": {},
   "outputs": [
    {
     "data": {
      "text/plain": [
       "54559.0"
      ]
     },
     "execution_count": 12,
     "metadata": {},
     "output_type": "execute_result"
    }
   ],
   "source": [
    "np.median(salaries)"
   ]
  },
  {
   "cell_type": "code",
   "execution_count": 13,
   "metadata": {},
   "outputs": [
    {
     "data": {
      "text/plain": [
       "54559.0"
      ]
     },
     "execution_count": 13,
     "metadata": {},
     "output_type": "execute_result"
    }
   ],
   "source": [
    "np.quantile(salaries, 0.50)"
   ]
  },
  {
   "cell_type": "markdown",
   "metadata": {},
   "source": [
    "#### mode"
   ]
  },
  {
   "cell_type": "code",
   "execution_count": 14,
   "metadata": {},
   "outputs": [
    {
     "name": "stdout",
     "output_type": "stream",
     "text": [
      "ModeResult(mode=10440, count=1)\n"
     ]
    }
   ],
   "source": [
    "from scipy import stats as st\n",
    "print(st.mode(salaries, keepdims=False))"
   ]
  },
  {
   "cell_type": "code",
   "execution_count": 15,
   "metadata": {},
   "outputs": [
    {
     "data": {
      "text/plain": [
       "26048"
      ]
     },
     "execution_count": 15,
     "metadata": {},
     "output_type": "execute_result"
    }
   ],
   "source": [
    "from statistics import mode\n",
    "\n",
    "mode(salaries)"
   ]
  },
  {
   "cell_type": "markdown",
   "metadata": {},
   "source": [
    "#### sample variance\n",
    "Remember to use Bessel's correction."
   ]
  },
  {
   "cell_type": "code",
   "execution_count": 16,
   "metadata": {},
   "outputs": [
    {
     "data": {
      "text/plain": [
       "680015819.42"
      ]
     },
     "execution_count": 16,
     "metadata": {},
     "output_type": "execute_result"
    }
   ],
   "source": [
    "np.var(salaries)"
   ]
  },
  {
   "cell_type": "markdown",
   "metadata": {},
   "source": [
    "#### sample standard deviation\n",
    "Remember to use Bessel's correction."
   ]
  },
  {
   "cell_type": "code",
   "execution_count": 12,
   "metadata": {},
   "outputs": [
    {
     "data": {
      "text/plain": [
       "26118.646725004724"
      ]
     },
     "execution_count": 12,
     "metadata": {},
     "output_type": "execute_result"
    }
   ],
   "source": [
    "np.std(salaries)"
   ]
  },
  {
   "cell_type": "markdown",
   "metadata": {},
   "source": [
    "#### coefficient of variation"
   ]
  },
  {
   "cell_type": "code",
   "execution_count": 13,
   "metadata": {},
   "outputs": [
    {
     "data": {
      "text/plain": [
       "0.442494829810326"
      ]
     },
     "execution_count": 13,
     "metadata": {},
     "output_type": "execute_result"
    }
   ],
   "source": [
    "np.std(salaries) / np.mean(salaries)"
   ]
  },
  {
   "cell_type": "markdown",
   "metadata": {},
   "source": [
    "#### interquartile range\n",
    "First, we define function to calculate a quantile:"
   ]
  },
  {
   "cell_type": "code",
   "execution_count": 14,
   "metadata": {},
   "outputs": [],
   "source": [
    "import math\n",
    "\n",
    "def quantile(x, pct):\n",
    "    x.sort()\n",
    "    index = (len(x) + 1) * pct - 1\n",
    "    if len(x) % 2:\n",
    "        # odd, so grab the value at index\n",
    "        return x[int(index)]\n",
    "    else:\n",
    "        return (x[math.floor(index)] + x[math.ceil(index)]) / 2"
   ]
  },
  {
   "cell_type": "markdown",
   "metadata": {},
   "source": [
    "we can calculate the IQR:"
   ]
  },
  {
   "cell_type": "code",
   "execution_count": 15,
   "metadata": {},
   "outputs": [
    {
     "data": {
      "text/plain": [
       "42659.0"
      ]
     },
     "execution_count": 15,
     "metadata": {},
     "output_type": "execute_result"
    }
   ],
   "source": [
    "q3, q1 = quantile(salaries, 0.75), quantile(salaries, 0.25)\n",
    "iqr = q3 - q1\n",
    "iqr"
   ]
  },
  {
   "cell_type": "code",
   "execution_count": 32,
   "metadata": {},
   "outputs": [
    {
     "data": {
      "text/plain": [
       "35139.0"
      ]
     },
     "execution_count": 32,
     "metadata": {},
     "output_type": "execute_result"
    }
   ],
   "source": [
    "np.quantile(salaries, 0.75) - np.quantile(salaries, 0.25)"
   ]
  },
  {
   "cell_type": "markdown",
   "metadata": {},
   "source": [
    "#### quartile coefficent of dispersion"
   ]
  },
  {
   "cell_type": "code",
   "execution_count": 16,
   "metadata": {},
   "outputs": [
    {
     "data": {
      "text/plain": [
       "0.3518151978491431"
      ]
     },
     "execution_count": 16,
     "metadata": {},
     "output_type": "execute_result"
    }
   ],
   "source": [
    "iqr / (q1 + q3)"
   ]
  },
  {
   "cell_type": "code",
   "execution_count": 17,
   "metadata": {},
   "outputs": [
    {
     "data": {
      "text/plain": [
       "[0.375, 1.0, 0.0, 0.25, 0.25]"
      ]
     },
     "execution_count": 17,
     "metadata": {},
     "output_type": "execute_result"
    }
   ],
   "source": [
    "salaries = [250, 500, 100, 200, 200]\n",
    "min_salary, max_salary = min(salaries), max(salaries)\n",
    "salary_range = max_salary - min_salary\n",
    "\n",
    "min_max_scaled = [(x - min_salary) / salary_range for x in salaries]\n",
    "min_max_scaled"
   ]
  },
  {
   "cell_type": "code",
   "execution_count": 23,
   "metadata": {},
   "outputs": [
    {
     "data": {
      "text/plain": [
       "(array([[1.1000e+00, 3.9343e+04],\n",
       "        [1.3000e+00, 4.6205e+04],\n",
       "        [1.5000e+00, 3.7731e+04],\n",
       "        [2.0000e+00, 4.3525e+04],\n",
       "        [2.2000e+00, 3.9891e+04]]),\n",
       " 2)"
      ]
     },
     "execution_count": 23,
     "metadata": {},
     "output_type": "execute_result"
    }
   ],
   "source": [
    "data = np.loadtxt('data/Salary_Data.csv', delimiter=',', skiprows=1)\n",
    "data[:5], data.ndim"
   ]
  },
  {
   "cell_type": "markdown",
   "metadata": {},
   "source": [
    "### Exercise 7: Scaling data\n",
    "#### min-max scaling"
   ]
  },
  {
   "cell_type": "code",
   "execution_count": 24,
   "metadata": {},
   "outputs": [
    {
     "name": "stdout",
     "output_type": "stream",
     "text": [
      "[[0.00000000e+00 3.21447276e-01]\n",
      " [1.63412177e-06 3.77513994e-01]\n",
      " [3.26824354e-06 3.08276255e-01]\n",
      " [7.35354796e-06 3.55616762e-01]\n",
      " [8.98766973e-06 3.25924770e-01]\n",
      " [1.47070959e-05 4.62790639e-01]\n",
      " [1.55241568e-05 4.91453135e-01]\n",
      " [1.71582786e-05 4.44839811e-01]\n",
      " [1.71582786e-05 5.26545900e-01]\n",
      " [2.12435830e-05 4.67259962e-01]\n",
      " [2.28777048e-05 5.16520563e-01]\n",
      " [2.36947657e-05 4.55861962e-01]\n",
      " [2.36947657e-05 4.65364381e-01]\n",
      " [2.45118265e-05 4.66377536e-01]\n",
      " [2.77800701e-05 4.99305090e-01]\n",
      " [3.10483136e-05 5.55085836e-01]\n",
      " [3.26824354e-05 5.39488144e-01]\n",
      " [3.43165572e-05 6.78870560e-01]\n",
      " [3.92189225e-05 6.64776260e-01]\n",
      " [4.00359834e-05 7.67538008e-01]\n",
      " [4.65724704e-05 7.49546327e-01]\n",
      " [4.90236531e-05 8.02941256e-01]\n",
      " [5.55601402e-05 8.27690030e-01]\n",
      " [5.80113228e-05 9.29904347e-01]\n",
      " [6.20966273e-05 8.94108909e-01]\n",
      " [6.45478099e-05 8.62660236e-01]\n",
      " [6.86331143e-05 9.55698959e-01]\n",
      " [6.94501752e-05 9.20287540e-01]\n",
      " [7.51696014e-05 1.00000000e+00]\n",
      " [7.68037232e-05 9.95759454e-01]]\n"
     ]
    }
   ],
   "source": [
    "normalizedData = (data-np.min(data))/(np.max(data)-np.min(data)) \n",
    "  \n",
    "# normalized data using min max value \n",
    "print(normalizedData) "
   ]
  },
  {
   "cell_type": "code",
   "execution_count": 25,
   "metadata": {},
   "outputs": [
    {
     "name": "stdout",
     "output_type": "stream",
     "text": [
      "[[2.49044338e-06 8.90741037e-02]\n",
      " [2.94325127e-06 1.04609942e-01]\n",
      " [3.39605916e-06 8.54244721e-02]\n",
      " [4.52807888e-06 9.85423166e-02]\n",
      " [4.98088677e-06 9.03147973e-02]\n",
      " [6.56571438e-06 1.28239722e-01]\n",
      " [6.79211832e-06 1.36181972e-01]\n",
      " [7.24492621e-06 1.23265627e-01]\n",
      " [7.24492621e-06 1.45906022e-01]\n",
      " [8.37694593e-06 1.29478152e-01]\n",
      " [8.82975382e-06 1.43128045e-01]\n",
      " [9.05615776e-06 1.26319817e-01]\n",
      " [9.05615776e-06 1.28952894e-01]\n",
      " [9.28256170e-06 1.29233635e-01]\n",
      " [1.01881775e-05 1.38357714e-01]\n",
      " [1.10937933e-05 1.53814311e-01]\n",
      " [1.15466011e-05 1.49492260e-01]\n",
      " [1.19994090e-05 1.88114509e-01]\n",
      " [1.33578327e-05 1.84209041e-01]\n",
      " [1.35842366e-05 2.12683865e-01]\n",
      " [1.53954682e-05 2.07698450e-01]\n",
      " [1.60746800e-05 2.22493948e-01]\n",
      " [1.78859116e-05 2.29351723e-01]\n",
      " [1.85651234e-05 2.57674857e-01]\n",
      " [1.96971431e-05 2.47756100e-01]\n",
      " [2.03763550e-05 2.39041812e-01]\n",
      " [2.15083747e-05 2.64822429e-01]\n",
      " [2.17347786e-05 2.55010082e-01]\n",
      " [2.33196062e-05 2.77098051e-01]\n",
      " [2.37724141e-05 2.75923015e-01]]\n"
     ]
    }
   ],
   "source": [
    "normalizedData = data/np.linalg.norm(data) \n",
    "  \n",
    "# normalized data using linalg.norm \n",
    "print(normalizedData) "
   ]
  },
  {
   "cell_type": "code",
   "execution_count": 26,
   "metadata": {},
   "outputs": [
    {
     "name": "stdout",
     "output_type": "stream",
     "text": [
      "[[0.         0.01904087]\n",
      " [0.0212766  0.1000945 ]\n",
      " [0.04255319 0.        ]\n",
      " [0.09574468 0.06843846]\n",
      " [0.11702128 0.02551382]\n",
      " [0.19148936 0.22337586]\n",
      " [0.20212766 0.26481219]\n",
      " [0.22340426 0.19742499]\n",
      " [0.22340426 0.31554453]\n",
      " [0.27659574 0.229837  ]\n",
      " [0.29787234 0.30105126]\n",
      " [0.30851064 0.21335932]\n",
      " [0.30851064 0.22709662]\n",
      " [0.31914894 0.2285613 ]\n",
      " [0.36170213 0.27616348]\n",
      " [0.40425532 0.35680369]\n",
      " [0.42553191 0.33425467]\n",
      " [0.44680851 0.53575478]\n",
      " [0.5106383  0.51537916]\n",
      " [0.5212766  0.66393811]\n",
      " [0.60638298 0.63792818]\n",
      " [0.63829787 0.7151193 ]\n",
      " [0.72340426 0.75089771]\n",
      " [0.75531915 0.89866525]\n",
      " [0.80851064 0.84691708]\n",
      " [0.84042553 0.80145287]\n",
      " [0.89361702 0.93595559]\n",
      " [0.90425532 0.88476258]\n",
      " [0.9787234  1.        ]\n",
      " [1.         0.9938696 ]]\n"
     ]
    }
   ],
   "source": [
    "from sklearn import preprocessing as p \n",
    "  \n",
    "min_max_scaler = p.MinMaxScaler() \n",
    "normalizedData = min_max_scaler.fit_transform(data) \n",
    "  \n",
    "# normalized data using MinMaxScaler \n",
    "print(normalizedData) "
   ]
  },
  {
   "cell_type": "markdown",
   "metadata": {},
   "source": [
    "### Exercise 8: Calculating covariance and correlation\n",
    "#### covariance"
   ]
  },
  {
   "cell_type": "code",
   "execution_count": 27,
   "metadata": {},
   "outputs": [
    {
     "data": {
      "text/plain": [
       "array([[8.05360920e+00, 7.61063034e+04],\n",
       "       [7.61063034e+04, 7.51550960e+08]])"
      ]
     },
     "execution_count": 27,
     "metadata": {},
     "output_type": "execute_result"
    }
   ],
   "source": [
    "np.cov(data[:,0], data[:,1])"
   ]
  },
  {
   "cell_type": "markdown",
   "metadata": {},
   "source": [
    "#### Pearson correlation coefficient ($\\rho$)"
   ]
  },
  {
   "cell_type": "code",
   "execution_count": 28,
   "metadata": {},
   "outputs": [
    {
     "data": {
      "text/plain": [
       "array([[1.        , 0.97824162],\n",
       "       [0.97824162, 1.        ]])"
      ]
     },
     "execution_count": 28,
     "metadata": {},
     "output_type": "execute_result"
    }
   ],
   "source": [
    "np.corrcoef(data[:,0], data[:,1])"
   ]
  },
  {
   "cell_type": "code",
   "execution_count": 32,
   "metadata": {},
   "outputs": [
    {
     "data": {
      "image/png": "[encoded data removed]",
      "text/plain": [
       "<Figure size 640x480 with 1 Axes>"
      ]
     },
     "metadata": {},
     "output_type": "display_data"
    }
   ],
   "source": [
    "import matplotlib.pyplot as plt\n",
    "plt.scatter(data[:,0], data[:,1], color = 'red')\n",
    "plt.plot(data[:,0], data[:,1], color = 'blue')\n",
    "plt.title('Salary vs Experience')\n",
    "plt.xlabel('Years of Experience')\n",
    "plt.ylabel('Salary')\n",
    "plt.show()"
   ]
  },
  {
   "cell_type": "code",
   "execution_count": 33,
   "metadata": {},
   "outputs": [
    {
     "data": {
      "image/png": "[encoded data removed]",
      "text/plain": [
       "<Figure size 640x480 with 1 Axes>"
      ]
     },
     "metadata": {},
     "output_type": "display_data"
    }
   ],
   "source": [
    "x = data[:,0]\n",
    "y = data[:,1]\n",
    "\n",
    "coef = np.polyfit(x,y,1)\n",
    "linearRegression = np.poly1d(coef) \n",
    "# linearRegression is now a function which takes in x and returns an estimate for y using the higher-order equivalents\n",
    "\n",
    "\n",
    "plt.scatter(x, y, color = 'red')\n",
    "plt.plot(x, linearRegression(x), color = 'blue')\n",
    "plt.title('Salary vs Experience')\n",
    "plt.xlabel('Years of Experience')\n",
    "plt.ylabel('Salary')\n",
    "plt.show()"
   ]
  },
  {
   "cell_type": "code",
   "execution_count": 34,
   "metadata": {},
   "outputs": [
    {
     "data": {
      "text/plain": [
       "142026.73675256618"
      ]
     },
     "execution_count": 34,
     "metadata": {},
     "output_type": "execute_result"
    }
   ],
   "source": [
    "linearRegression(12.3)"
   ]
  },
  {
   "cell_type": "code",
   "execution_count": 35,
   "metadata": {},
   "outputs": [
    {
     "data": {
      "image/png": "[encoded data removed]",
      "text/plain": [
       "<Figure size 640x480 with 1 Axes>"
      ]
     },
     "metadata": {},
     "output_type": "display_data"
    }
   ],
   "source": [
    "x_test = [0, 1.0, 2.3, 4.5, 6.7,8.9, 10.7, 11.0, 12.3, 13.6] \n",
    "y_pred = linearRegression(x_test)\n",
    "plt.scatter(x, y, color = 'red')\n",
    "plt.plot(x, linearRegression(x), color = 'blue')\n",
    "plt.scatter(x_test, y_pred, color = 'green')\n",
    "plt.title('Salary vs Experience')\n",
    "plt.xlabel('Years of Experience')\n",
    "plt.ylabel('Salary')\n",
    "plt.show()"
   ]
  },
  {
   "cell_type": "markdown",
   "metadata": {},
   "source": [
    "<hr>\n",
    "<div>\n",
    "    <a href=\"../../ch_01/introduction_to_data_analysis.ipynb\">\n",
    "        <button>&#8592; Introduction to Data Analysis</button>\n",
    "    </a>\n",
    "    <a href=\"../../ch_01/python_101.ipynb\">\n",
    "        <button>Python 101</button>\n",
    "    </a>\n",
    "    <a href=\"../../ch_02/1-pandas_data_structures.ipynb\">\n",
    "        <button style=\"float: right;\">Chapter 2 &#8594;</button>\n",
    "    </a>\n",
    "</div>\n",
    "<hr>"
   ]
  }
 ],
 "metadata": {
  "kernelspec": {
   "display_name": "Python 3 (ipykernel)",
   "language": "python",
   "name": "python3"
  },
  "language_info": {
   "codemirror_mode": {
    "name": "ipython",
    "version": 3
   },
   "file_extension": ".py",
   "mimetype": "text/x-python",
   "name": "python",
   "nbconvert_exporter": "python",
   "pygments_lexer": "ipython3",
   "version": "3.11.7"
  }
 },
 "nbformat": 4,
 "nbformat_minor": 4
}
