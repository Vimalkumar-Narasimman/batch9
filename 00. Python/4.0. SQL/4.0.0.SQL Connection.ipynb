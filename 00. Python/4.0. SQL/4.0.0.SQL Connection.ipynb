{
 "cells": [
  {
   "cell_type": "code",
   "execution_count": 2,
   "id": "1a8d4de1",
   "metadata": {
    "scrolled": true
   },
   "outputs": [],
   "source": [
    "import pyodbc\n",
    "\n",
    "conn = pyodbc.connect('Driver={ODBC Driver 13 for SQL Server};Server=tcp:mssqllearningserver.database.windows.net,1433;Database=sqllearning;Uid=sqladmin;Pwd=SQL@dm!n;Encrypt=yes;TrustServerCertificate=no;Connection Timeout=30;')\n",
    "cursor = conn.cursor()\n"
   ]
  },
  {
   "cell_type": "code",
   "execution_count": 3,
   "id": "69744852",
   "metadata": {},
   "outputs": [
    {
     "name": "stdout",
     "output_type": "stream",
     "text": [
      "(1400, '2014 Jabberwocky Rd', '26192', 'Southlake', 'Texas', 'US')\n",
      "(1500, '2011 Interiors Blvd', '99236', 'South San Francisco', 'California', 'US')\n",
      "(1700, '2004 Charade Rd', '98199', 'Seattle', 'Washington', 'US')\n",
      "(1800, '147 Spadina Ave', 'M5V 2L7', 'Toronto', 'Ontario', 'CA')\n",
      "(2400, '8204 Arthur St', None, 'London', None, 'UK')\n",
      "(2500, 'Magdalen Centre, The Oxford Science Park', 'OX9 9ZB', 'Oxford', 'Oxford', 'UK')\n",
      "(2700, 'Schwanthalerstr. 7031', '80925', 'Munich', 'Bavaria', 'DE')\n"
     ]
    }
   ],
   "source": [
    "sqlStatement = 'SELECT * FROM [emp].[locations]'\n",
    "\n",
    "cursor.execute(sqlStatement)\n",
    "for row in cursor.fetchall():\n",
    "    print(row)"
   ]
  },
  {
   "cell_type": "code",
   "execution_count": 4,
   "id": "48459b1a",
   "metadata": {},
   "outputs": [
    {
     "name": "stdout",
     "output_type": "stream",
     "text": [
      "(1, 'Fabiola', 'Jackson', 'fabiola.jackson@bikes.shop', '(831) 555-5554', 1, 1, None)\n",
      "(2, 'Mireya', 'Copeland', 'mireya.copeland@bikes.shop', '(831) 555-5555', 1, 1, 1)\n",
      "(3, 'Genna', 'Serrano', 'genna.serrano@bikes.shop', '(831) 555-5556', 1, 1, 2)\n",
      "(4, 'Virgie', 'Wiggins', 'virgie.wiggins@bikes.shop', '(831) 555-5557', 1, 1, 2)\n",
      "(5, 'Jannette', 'David', 'jannette.david@bikes.shop', '(516) 379-4444', 1, 2, 1)\n",
      "(6, 'Marcelene', 'Boyer', 'marcelene.boyer@bikes.shop', '(516) 379-4445', 1, 2, 5)\n",
      "(7, 'Venita', 'Daniel', 'venita.daniel@bikes.shop', '(516) 379-4446', 1, 2, 5)\n",
      "(8, 'Kali', 'Vargas', 'kali.vargas@bikes.shop', '(972) 530-5555', 1, 3, 1)\n",
      "(9, 'Layla', 'Terrell', 'layla.terrell@bikes.shop', '(972) 530-5556', 1, 3, 7)\n",
      "(10, 'Bernardine', 'Houston', 'bernardine.houston@bikes.shop', '(972) 530-5557', 1, 3, 7)\n"
     ]
    }
   ],
   "source": [
    "sqlStatement = 'SELECT * FROM [sales].[staffs]'\n",
    "\n",
    "cursor.execute(sqlStatement)\n",
    "for row in cursor.fetchall():\n",
    "    print(row)"
   ]
  },
  {
   "cell_type": "code",
   "execution_count": 5,
   "id": "86eca47b",
   "metadata": {},
   "outputs": [
    {
     "name": "stdout",
     "output_type": "stream",
     "text": [
      "('Americas', 'Argentina')\n",
      "('Americas', 'Brazil')\n",
      "('Americas', 'Canada')\n",
      "('Americas', 'Mexico')\n",
      "('Americas', 'United States of America')\n",
      "('Asia', 'Australia')\n",
      "('Asia', 'China')\n",
      "('Asia', 'HongKong')\n",
      "('Asia', 'India')\n",
      "('Asia', 'Japan')\n",
      "('Asia', 'Singapore')\n",
      "('Europe', 'Belgium')\n",
      "('Europe', 'Switzerland')\n",
      "('Europe', 'Germany')\n",
      "('Europe', 'Denmark')\n",
      "('Europe', 'France')\n",
      "('Europe', 'Italy')\n",
      "('Europe', 'Netherlands')\n",
      "('Europe', 'United Kingdom')\n",
      "('Middle East and Africa', 'Egypt')\n",
      "('Middle East and Africa', 'Israel')\n",
      "('Middle East and Africa', 'Kuwait')\n",
      "('Middle East and Africa', 'Nigeria')\n",
      "('Middle East and Africa', 'Zambia')\n",
      "('Middle East and Africa', 'Zimbabwe')\n"
     ]
    }
   ],
   "source": [
    "sqlStatement = '''SELECT r.region_name,\n",
    "c.country_name\n",
    "FROM [emp].[regions] as r\n",
    "INNER JOIN [emp].[countries] as c ON r.region_id = c.region_id\n",
    "ORDER BY r.region_name'''\n",
    "\n",
    "cursor.execute(sqlStatement)\n",
    "for row in cursor.fetchall():\n",
    "    print(row)"
   ]
  },
  {
   "cell_type": "code",
   "execution_count": 12,
   "id": "e029cbcb",
   "metadata": {},
   "outputs": [
    {
     "name": "stdout",
     "output_type": "stream",
     "text": [
      "(1, 'Europe')\n",
      "(2, 'Americas')\n",
      "(3, 'Asia - Pacific')\n",
      "(4, 'Middle East and Africa')\n"
     ]
    }
   ],
   "source": [
    "sqlStatement = 'SELECT * FROM [emp].[regions]'\n",
    "\n",
    "cursor.execute(sqlStatement)\n",
    "for row in cursor.fetchall():\n",
    "    print(row)"
   ]
  },
  {
   "cell_type": "code",
   "execution_count": 7,
   "id": "2e593364",
   "metadata": {},
   "outputs": [],
   "source": [
    "\n",
    "sqlStatement = \"INSERT INTO [emp].[regions] VALUES ('Pacific')\"\n",
    "cursor.execute(sqlStatement)\n",
    "conn.commit()"
   ]
  },
  {
   "cell_type": "code",
   "execution_count": 9,
   "id": "cd608074",
   "metadata": {},
   "outputs": [],
   "source": [
    "\n",
    "sqlStatement = \"DELETE FROM [emp].[regions] WHERE region_name = 'Pacific'\"\n",
    "cursor.execute(sqlStatement)\n",
    "conn.commit()"
   ]
  },
  {
   "cell_type": "code",
   "execution_count": 11,
   "id": "fab36f25",
   "metadata": {},
   "outputs": [],
   "source": [
    "\n",
    "sqlStatement = \"UPDATE r SET r.region_name = 'Asia - Pacific' FROM [emp].[regions] as r WHERE r.region_name = 'Asia'\"\n",
    "cursor.execute(sqlStatement)\n",
    "conn.commit()"
   ]
  }
 ],
 "metadata": {
  "kernelspec": {
   "display_name": "Python 3 (ipykernel)",
   "language": "python",
   "name": "python3"
  },
  "language_info": {
   "codemirror_mode": {
    "name": "ipython",
    "version": 3
   },
   "file_extension": ".py",
   "mimetype": "text/x-python",
   "name": "python",
   "nbconvert_exporter": "python",
   "pygments_lexer": "ipython3",
   "version": "3.10.9"
  }
 },
 "nbformat": 4,
 "nbformat_minor": 5
}
