{
 "cells": [
  {
   "cell_type": "code",
   "execution_count": 6,
   "id": "d0900c6d",
   "metadata": {},
   "outputs": [
    {
     "name": "stdout",
     "output_type": "stream",
     "text": [
      "Exception in finding total: unsupported operand type(s) for +: 'int' and 'str'\n",
      "Exception in finding total: '<' not supported between instances of 'str' and 'int'\n"
     ]
    }
   ],
   "source": [
    "import json\n",
    "\n",
    "passMark = 45\n",
    "def findTotal(marks):\n",
    "    try:\n",
    "        return sum(marks)\n",
    "    except Exception as e:\n",
    "        print(f\"Exception in finding total: {e}\")\n",
    "        return 0\n",
    "\n",
    "def findResult(marks):\n",
    "    try:\n",
    "        result = 'Pass'\n",
    "        for mark in marks:\n",
    "            if mark < passMark:\n",
    "                result = 'Fail'\n",
    "                break\n",
    "        return result\n",
    "    except Exception as e:\n",
    "        print(f\"Exception in finding total: {e}\")\n",
    "        return 'TBD'\n",
    "\n",
    "def findPercentage(marks):\n",
    "    try:\n",
    "        return sum(marks)/len(marks)\n",
    "    except Exception as e:\n",
    "        print(f\"Exception in finding total: {e}\")\n",
    "        return 0\n",
    "\n",
    "\n",
    "class Student:\n",
    "\n",
    "    def __init__(self, inputFile, outputFile):\n",
    "        self.inputFile = inputFile\n",
    "        self.outputFile = outputFile\n",
    "        self.studentDetails = []\n",
    "    \n",
    "    def readStudentJSON(self):\n",
    "        try:\n",
    "            with open(self.inputFile) as std:\n",
    "                stdRecords = json.load(std)\n",
    "            self.studentDetails = stdRecords\n",
    "        except Exception as e:\n",
    "            print(f\"Exception in reading {filename}: {e}\")\n",
    "\n",
    "    def writeStudentResults(self):\n",
    "        try:\n",
    "            with open(self.outputFile, 'w') as std:\n",
    "                json.dump(self.studentDetails, std, indent=4)\n",
    "        except Exception as e:\n",
    "            print(f\"Exception in loading {filename}: {e}\")\n",
    "\n",
    "    def calculateResult(self):\n",
    "        for rec in self.studentDetails:\n",
    "            rec['total'] = findTotal(rec['marks'])\n",
    "            rec['result'] = findResult(rec['marks'])\n",
    "            if rec['result'] == 'Pass':\n",
    "                rec['Percentage'] = findPercentage(rec['marks'])\n",
    " \n",
    "infile = 'students.json'\n",
    "outfile = 'studentResults.json'\n",
    "std = Student(infile, outfile)\n",
    "std.readStudentJSON()\n",
    "std.calculateResult()\n",
    "std.writeStudentResults()"
   ]
  },
  {
   "cell_type": "code",
   "execution_count": null,
   "id": "5fae6baf",
   "metadata": {},
   "outputs": [],
   "source": []
  }
 ],
 "metadata": {
  "kernelspec": {
   "display_name": "Python 3 (ipykernel)",
   "language": "python",
   "name": "python3"
  },
  "language_info": {
   "codemirror_mode": {
    "name": "ipython",
    "version": 3
   },
   "file_extension": ".py",
   "mimetype": "text/x-python",
   "name": "python",
   "nbconvert_exporter": "python",
   "pygments_lexer": "ipython3",
   "version": "3.10.9"
  }
 },
 "nbformat": 4,
 "nbformat_minor": 5
}
