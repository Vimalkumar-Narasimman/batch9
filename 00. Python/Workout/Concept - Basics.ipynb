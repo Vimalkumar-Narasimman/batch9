{
 "cells": [
  {
   "cell_type": "code",
   "execution_count": null,
   "id": "d160f874",
   "metadata": {},
   "outputs": [],
   "source": [
    "a = 10\n",
    "b = 15"
   ]
  },
  {
   "cell_type": "code",
   "execution_count": null,
   "id": "6b61d908",
   "metadata": {},
   "outputs": [],
   "source": [
    "add = a + b # perform addition operation\n",
    "#print(add)"
   ]
  },
  {
   "cell_type": "code",
   "execution_count": null,
   "id": "c1c09139",
   "metadata": {},
   "outputs": [],
   "source": [
    "print(f\"Sum of {a} and {b} is: {add} \")"
   ]
  },
  {
   "cell_type": "markdown",
   "id": "d606a021",
   "metadata": {},
   "source": [
    "Variables:\n",
    "Start with _, a-z, A-Z\n",
    "Followed by _, a-z, A-Z, 0-9\n",
    "Lenth od 255 chars\n",
    "\n",
    "\n",
    "Valid: _xy , first_name\n",
    "Invalid: 3moon, Stings@#\n"
   ]
  },
  {
   "cell_type": "code",
   "execution_count": null,
   "id": "8f15e669",
   "metadata": {},
   "outputs": [],
   "source": [
    "x, y = 5, 6\n",
    "print(x)\n",
    "print(y)"
   ]
  },
  {
   "cell_type": "code",
   "execution_count": null,
   "id": "f3f65503",
   "metadata": {},
   "outputs": [],
   "source": [
    "z = x # z = 5\n",
    "x = y # x = 6\n",
    "y = z # y = 5\n",
    "print(x, y)"
   ]
  },
  {
   "cell_type": "code",
   "execution_count": null,
   "id": "7583121a",
   "metadata": {},
   "outputs": [],
   "source": [
    "x, y = 'One', 'Two'\n",
    "print(x, y)"
   ]
  },
  {
   "cell_type": "code",
   "execution_count": null,
   "id": "5553954d",
   "metadata": {},
   "outputs": [],
   "source": [
    "# swapping\n",
    "x, y = y, x\n",
    "print(x, y)"
   ]
  },
  {
   "cell_type": "code",
   "execution_count": null,
   "id": "d17052f2",
   "metadata": {},
   "outputs": [],
   "source": [
    "print('x =', x) # x = Two"
   ]
  },
  {
   "cell_type": "code",
   "execution_count": null,
   "id": "ea12d35a",
   "metadata": {},
   "outputs": [],
   "source": [
    "print(f'x = {x}, y = {y}')"
   ]
  },
  {
   "cell_type": "code",
   "execution_count": null,
   "id": "2823e8fe",
   "metadata": {},
   "outputs": [],
   "source": [
    "a = 10\n",
    "print(type(a))"
   ]
  },
  {
   "cell_type": "code",
   "execution_count": null,
   "id": "f33a8bce",
   "metadata": {},
   "outputs": [],
   "source": [
    "print(type('12'))\n",
    "print(type(True))\n",
    "print(type(4))\n",
    "print(f'4.56 type is {type(4.56)}')"
   ]
  },
  {
   "cell_type": "code",
   "execution_count": null,
   "id": "23d443ba",
   "metadata": {},
   "outputs": [],
   "source": [
    "x = 4.76\n",
    "int(x)"
   ]
  },
  {
   "cell_type": "code",
   "execution_count": null,
   "id": "fb6182d6",
   "metadata": {},
   "outputs": [],
   "source": [
    "str(x)"
   ]
  },
  {
   "cell_type": "code",
   "execution_count": null,
   "id": "a9666b70",
   "metadata": {},
   "outputs": [],
   "source": [
    "bool(x)"
   ]
  },
  {
   "cell_type": "code",
   "execution_count": null,
   "id": "f6eadae7",
   "metadata": {},
   "outputs": [],
   "source": [
    "int('one')"
   ]
  },
  {
   "cell_type": "code",
   "execution_count": null,
   "id": "dd12bb36",
   "metadata": {},
   "outputs": [],
   "source": [
    "int('12')"
   ]
  },
  {
   "cell_type": "code",
   "execution_count": null,
   "id": "979cd040",
   "metadata": {},
   "outputs": [],
   "source": [
    "int('12A')"
   ]
  },
  {
   "cell_type": "code",
   "execution_count": null,
   "id": "c0f7612b",
   "metadata": {},
   "outputs": [],
   "source": [
    "int('12.0')"
   ]
  },
  {
   "cell_type": "code",
   "execution_count": null,
   "id": "8b0d3465",
   "metadata": {},
   "outputs": [],
   "source": [
    "float('12.0')"
   ]
  },
  {
   "cell_type": "code",
   "execution_count": null,
   "id": "032fc42e",
   "metadata": {},
   "outputs": [],
   "source": [
    "bool(int(float('12.0')))"
   ]
  },
  {
   "cell_type": "code",
   "execution_count": null,
   "id": "a2444a51",
   "metadata": {},
   "outputs": [],
   "source": [
    "int(float('12.0'))"
   ]
  },
  {
   "cell_type": "code",
   "execution_count": null,
   "id": "7dff7090",
   "metadata": {},
   "outputs": [],
   "source": [
    "\n",
    "#Escape char \\\n",
    "'this\\'s'"
   ]
  },
  {
   "cell_type": "code",
   "execution_count": null,
   "id": "59b785f7",
   "metadata": {},
   "outputs": [],
   "source": [
    "text = 'This is my first text \\\n",
    "and my first string formation'\n",
    "print(text)"
   ]
  },
  {
   "cell_type": "code",
   "execution_count": null,
   "id": "9bc7c6c0",
   "metadata": {},
   "outputs": [],
   "source": [
    "text = '\\tThis is my first text.\\nThis is my first string formation'\n",
    "print(text)"
   ]
  },
  {
   "cell_type": "code",
   "execution_count": null,
   "id": "6bb7f499",
   "metadata": {},
   "outputs": [],
   "source": [
    "# multi line string\n",
    "text = '''   This is my first text.\n",
    "\n",
    "This is my first string formation'''\n",
    "print(text)"
   ]
  },
  {
   "cell_type": "code",
   "execution_count": null,
   "id": "dfd30f04",
   "metadata": {},
   "outputs": [],
   "source": [
    "a, b = 4, 5 \n",
    "sum = \\\n",
    "a+b #logical line\n",
    "print(sum) # physical line"
   ]
  },
  {
   "cell_type": "code",
   "execution_count": null,
   "id": "4f6ae5dc",
   "metadata": {},
   "outputs": [],
   "source": [
    "#Indentation \n",
    "a = 3\n",
    "    b = 5\n",
    "a + b"
   ]
  },
  {
   "cell_type": "code",
   "execution_count": null,
   "id": "7a55505a",
   "metadata": {},
   "outputs": [],
   "source": [
    "    a = 3\n",
    "    b = 5\n",
    "    a + b"
   ]
  },
  {
   "cell_type": "code",
   "execution_count": null,
   "id": "de0e087c",
   "metadata": {},
   "outputs": [],
   "source": [
    "print(2) # print the result and go next line\n",
    "print(5)"
   ]
  },
  {
   "cell_type": "code",
   "execution_count": null,
   "id": "99aba356",
   "metadata": {},
   "outputs": [],
   "source": [
    "print(2, end = ' ') # print the result and wait in the same line\n",
    "print(5)"
   ]
  },
  {
   "cell_type": "code",
   "execution_count": null,
   "id": "c536fd30",
   "metadata": {},
   "outputs": [],
   "source": [
    "#String format\n",
    "print(f' 2+5 = {2+5}')"
   ]
  },
  {
   "cell_type": "code",
   "execution_count": null,
   "id": "7e6aec5f",
   "metadata": {},
   "outputs": [],
   "source": [
    "#Raw String\n",
    "print(r'this\\'s my \\t tab ')"
   ]
  },
  {
   "cell_type": "code",
   "execution_count": null,
   "id": "d64f9140",
   "metadata": {},
   "outputs": [],
   "source": [
    "# input function\n",
    "num = input('Enter a number')\n",
    "print(type(num), num)"
   ]
  },
  {
   "cell_type": "code",
   "execution_count": null,
   "id": "0b72f2c8",
   "metadata": {},
   "outputs": [],
   "source": [
    "num.isdigit()"
   ]
  },
  {
   "cell_type": "code",
   "execution_count": null,
   "id": "da3c3a3a",
   "metadata": {},
   "outputs": [],
   "source": [
    "num.isalpha()"
   ]
  },
  {
   "cell_type": "code",
   "execution_count": null,
   "id": "f4f1409d",
   "metadata": {},
   "outputs": [],
   "source": [
    "num = int(input('Enter a number'))"
   ]
  },
  {
   "cell_type": "code",
   "execution_count": null,
   "id": "92cd57bc",
   "metadata": {},
   "outputs": [],
   "source": [
    "num ** 2"
   ]
  },
  {
   "cell_type": "code",
   "execution_count": null,
   "id": "1642ef96",
   "metadata": {},
   "outputs": [],
   "source": [
    "fName = input('Enter a First Name: ')\n",
    "lName = input('Enter a Last Name: ')\n",
    "\n",
    "print(fName + ' ' + lName)"
   ]
  },
  {
   "cell_type": "code",
   "execution_count": null,
   "id": "d2077815",
   "metadata": {},
   "outputs": [],
   "source": [
    "text = input('Enter a text: ')\n",
    "text * 3"
   ]
  },
  {
   "cell_type": "code",
   "execution_count": null,
   "id": "844c00e2",
   "metadata": {},
   "outputs": [],
   "source": [
    "num = -2\n",
    "abs(num)"
   ]
  },
  {
   "cell_type": "code",
   "execution_count": null,
   "id": "16128b99",
   "metadata": {},
   "outputs": [],
   "source": [
    "x = 4\n",
    "y = 20\n",
    "print(eval('x**2 + y * x'))"
   ]
  },
  {
   "cell_type": "code",
   "execution_count": null,
   "id": "6983e8e4",
   "metadata": {},
   "outputs": [],
   "source": [
    "len('Python 3.0')"
   ]
  },
  {
   "cell_type": "code",
   "execution_count": null,
   "id": "f475a33d",
   "metadata": {},
   "outputs": [],
   "source": [
    "pow(3, 4) # 3 ** 4"
   ]
  },
  {
   "cell_type": "code",
   "execution_count": null,
   "id": "09741061",
   "metadata": {},
   "outputs": [],
   "source": [
    "round(3.47)"
   ]
  },
  {
   "cell_type": "code",
   "execution_count": null,
   "id": "0db40150",
   "metadata": {},
   "outputs": [],
   "source": [
    "text = 'Back slashes represent the beginning of escape sequences. Escape sequences represent strings that may be difficult to input.'\n",
    "text.split()"
   ]
  },
  {
   "cell_type": "code",
   "execution_count": null,
   "id": "7dacc7e6",
   "metadata": {},
   "outputs": [],
   "source": [
    "text.split('.')"
   ]
  },
  {
   "cell_type": "code",
   "execution_count": null,
   "id": "80147587",
   "metadata": {},
   "outputs": [],
   "source": [
    "text.lower().count('escape')"
   ]
  },
  {
   "cell_type": "code",
   "execution_count": null,
   "id": "18231ccc",
   "metadata": {},
   "outputs": [],
   "source": [
    "text.replace('Escape', 'escape')"
   ]
  },
  {
   "cell_type": "code",
   "execution_count": null,
   "id": "b5101ba1",
   "metadata": {},
   "outputs": [],
   "source": [
    "text.replace('sequences', 'seq')"
   ]
  },
  {
   "cell_type": "code",
   "execution_count": null,
   "id": "f30caada",
   "metadata": {},
   "outputs": [],
   "source": [
    "'-'.join('python')"
   ]
  },
  {
   "cell_type": "code",
   "execution_count": null,
   "id": "86d92682",
   "metadata": {},
   "outputs": [],
   "source": [
    "'-'.join(['python', '3.0'])"
   ]
  }
 ],
 "metadata": {
  "kernelspec": {
   "display_name": "Python 3 (ipykernel)",
   "language": "python",
   "name": "python3"
  },
  "language_info": {
   "codemirror_mode": {
    "name": "ipython",
    "version": 3
   },
   "file_extension": ".py",
   "mimetype": "text/x-python",
   "name": "python",
   "nbconvert_exporter": "python",
   "pygments_lexer": "ipython3",
   "version": "3.10.9"
  }
 },
 "nbformat": 4,
 "nbformat_minor": 5
}
