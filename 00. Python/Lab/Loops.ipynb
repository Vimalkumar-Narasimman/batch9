{
 "cells": [
  {
   "cell_type": "code",
   "execution_count": 1,
   "id": "f80cbd44",
   "metadata": {},
   "outputs": [
    {
     "name": "stdout",
     "output_type": "stream",
     "text": [
      "Enter an integer : 34\n",
      "No, it is a little lower than that\n",
      "Done\n"
     ]
    }
   ],
   "source": [
    "number = 23\n",
    "guess = int(input('Enter an integer : '))\n",
    "if guess == number:\n",
    "    # New block starts here\n",
    "    print('Congratulations, you guessed it.')\n",
    "    print('(but you do not win any prizes!)')\n",
    "    # New block ends here\n",
    "elif guess < number:\n",
    "    # Another block\n",
    "    print('No, it is a little higher than that')\n",
    "    # You can do whatever you want in a block ...\n",
    "else:\n",
    "    print('No, it is a little lower than that')\n",
    "    # you must have guessed > number to reach here\n",
    "print('Done')\n",
    "# This last statement is always executed,\n",
    "# after the if statement is executed."
   ]
  },
  {
   "cell_type": "code",
   "execution_count": 3,
   "id": "41c5b4d1",
   "metadata": {},
   "outputs": [
    {
     "name": "stdout",
     "output_type": "stream",
     "text": [
      "Enter an integer : 24\n",
      "No, it is a little lower than that.\n",
      "Enter an integer : 22\n",
      "No, it is a little higher than that.\n",
      "Enter an integer : 23\n",
      "Congratulations, you guessed it.\n",
      "The while loop is over.\n",
      "Done\n"
     ]
    }
   ],
   "source": [
    "number = 23\n",
    "running = True\n",
    "while running:\n",
    "    guess = int(input('Enter an integer : '))\n",
    "    if guess == number:\n",
    "        print('Congratulations, you guessed it.')\n",
    "        # this causes the while loop to stop\n",
    "        running = False\n",
    "    elif guess < number:\n",
    "        print('No, it is a little higher than that.')\n",
    "    else:\n",
    "        print('No, it is a little lower than that.')\n",
    "else:\n",
    "    print('The while loop is over.')\n",
    "# Do anything else you want to do here\n",
    "print('Done')"
   ]
  },
  {
   "cell_type": "code",
   "execution_count": 5,
   "id": "ab670435",
   "metadata": {},
   "outputs": [
    {
     "name": "stdout",
     "output_type": "stream",
     "text": [
      "How many terms?8\n",
      "Fibonacci sequence:\n",
      "0\n",
      "1\n",
      "1\n",
      "2\n",
      "3\n",
      "5\n",
      "8\n",
      "13\n",
      "exit\n"
     ]
    }
   ],
   "source": [
    "# Program to display the Fibonacci sequence up to n \n",
    "# 0, 1, 1, 2, 3, 5, 8, 13\n",
    "nterms = int(input(\"How many terms?\"))\n",
    "# first two terms\n",
    "n1, n2 = 0, 1\n",
    "count = 0\n",
    "# check if the number of terms is valid\n",
    "if nterms <= 0:\n",
    "    print(\"Please enter a positive integer\")\n",
    "    # if there is only one term, return n1\n",
    "elif nterms == 1:\n",
    "    print(\"Fibonacci sequence upto nterms\")\n",
    "    print(n1)\n",
    "    # generate fibonacci sequence\n",
    "else:\n",
    "    print(\"Fibonacci sequence:\")\n",
    "    #while count < nterms:\n",
    "    for idx in range(0, nterms):\n",
    "        print(n1)\n",
    "        nth = n1 + n2\n",
    "        # update values\n",
    "        n1 = n2\n",
    "        n2 = nth\n",
    "        #count += 1\n",
    "    else:\n",
    "        print('exit')\n"
   ]
  },
  {
   "cell_type": "code",
   "execution_count": 6,
   "id": "f383f1d6",
   "metadata": {},
   "outputs": [
    {
     "name": "stdout",
     "output_type": "stream",
     "text": [
      "a\n",
      "a\n",
      "a\n"
     ]
    }
   ],
   "source": [
    "for x in \"banana\":\n",
    "    if x in ('a', 'e', 'i', 'o', 'u'):\n",
    "        print(x)\n"
   ]
  },
  {
   "cell_type": "code",
   "execution_count": 7,
   "id": "fd2fff9e",
   "metadata": {},
   "outputs": [
    {
     "name": "stdout",
     "output_type": "stream",
     "text": [
      "2\n",
      "5\n",
      "8\n",
      "11\n",
      "14\n",
      "17\n",
      "20\n",
      "23\n",
      "26\n",
      "29\n"
     ]
    }
   ],
   "source": [
    "for x in range(2, 30, 3):\n",
    "    print(x)"
   ]
  },
  {
   "cell_type": "code",
   "execution_count": 8,
   "id": "f001ae8e",
   "metadata": {},
   "outputs": [
    {
     "name": "stdout",
     "output_type": "stream",
     "text": [
      "1 \n",
      "2 2 \n",
      "3 3 3 \n",
      "4 4 4 4 \n"
     ]
    }
   ],
   "source": [
    "for i in range(1, 5):\n",
    "    for j in range(i):\n",
    "        print(i , end=' ')\n",
    "    print()\n"
   ]
  },
  {
   "cell_type": "code",
   "execution_count": 9,
   "id": "424367ab",
   "metadata": {},
   "outputs": [
    {
     "name": "stdout",
     "output_type": "stream",
     "text": [
      "10 equals 2 * 5.0\n",
      " 11, is a prime number\n",
      "12 equals 2 * 6.0\n",
      " 13, is a prime number\n",
      "14 equals 2 * 7.0\n",
      "15 equals 3 * 5.0\n",
      "16 equals 2 * 8.0\n",
      " 17, is a prime number\n",
      "18 equals 2 * 9.0\n",
      " 19, is a prime number\n"
     ]
    }
   ],
   "source": [
    "#Program to find a prime number between 10 and 20\n",
    "for num in range(10,20): #to iterate between 10 to 20\n",
    "    for i in range(2,num): #to iterate on the factors of the number\n",
    "        if num%i == 0: #to determine the first factor\n",
    "            j=num/i #to calculate the second factor\n",
    "            print(f'{num} equals {i} * {j}')\n",
    "            break #to move to the next number, the #first FOR\n",
    "    else: # else part of the loop\n",
    "        print(f' {num}, is a prime number')\n",
    "        #break"
   ]
  },
  {
   "cell_type": "code",
   "execution_count": 1,
   "id": "dbfef963",
   "metadata": {},
   "outputs": [
    {
     "name": "stdout",
     "output_type": "stream",
     "text": [
      "<class 'int'>\n"
     ]
    }
   ],
   "source": [
    "nbr = 10\n",
    "print(type(nbr))\n"
   ]
  },
  {
   "cell_type": "code",
   "execution_count": 3,
   "id": "efd76807",
   "metadata": {},
   "outputs": [
    {
     "data": {
      "text/plain": [
       "[78, 67, 65, 75]"
      ]
     },
     "execution_count": 3,
     "metadata": {},
     "output_type": "execute_result"
    }
   ],
   "source": [
    "marks = [78,67,65,75,56]\n",
    "firstclass = [mark for mark in marks if mark >=60]\n",
    "firstclass"
   ]
  },
  {
   "cell_type": "code",
   "execution_count": 4,
   "id": "c30f171d",
   "metadata": {},
   "outputs": [
    {
     "name": "stdout",
     "output_type": "stream",
     "text": [
      "[23, 43]\n"
     ]
    },
    {
     "data": {
      "text/plain": [
       "[10, 12, 56]"
      ]
     },
     "execution_count": 4,
     "metadata": {},
     "output_type": "execute_result"
    }
   ],
   "source": [
    "lst = [10,12, 23, 43, 56 ]\n",
    "oddlist = [val for val in lst if val%2 !=0]\n",
    "print(oddlist)\n",
    "[val for val in lst if val%2 == 0]"
   ]
  },
  {
   "cell_type": "code",
   "execution_count": 7,
   "id": "ea4c9622",
   "metadata": {},
   "outputs": [
    {
     "data": {
      "text/plain": [
       "{'Friday', 'Monday', 'Saturday', 'Sunday', 'Thursday', 'Tuesday', 'Wednesday'}"
      ]
     },
     "execution_count": 7,
     "metadata": {},
     "output_type": "execute_result"
    }
   ],
   "source": [
    "Days = {\"Monday\", \"Tuesday\", \"Wednesday\", \"Thursday\", \"Friday\", \"Saturday\", \"Sunday\"} \n",
    "weekend = { \"Saturday\", \"Sunday\"} \n",
    "weekdays = Days - weekend\n",
    "weekdays.union(weekend)"
   ]
  }
 ],
 "metadata": {
  "kernelspec": {
   "display_name": "Python 3 (ipykernel)",
   "language": "python",
   "name": "python3"
  },
  "language_info": {
   "codemirror_mode": {
    "name": "ipython",
    "version": 3
   },
   "file_extension": ".py",
   "mimetype": "text/x-python",
   "name": "python",
   "nbconvert_exporter": "python",
   "pygments_lexer": "ipython3",
   "version": "3.10.8"
  }
 },
 "nbformat": 4,
 "nbformat_minor": 5
}
