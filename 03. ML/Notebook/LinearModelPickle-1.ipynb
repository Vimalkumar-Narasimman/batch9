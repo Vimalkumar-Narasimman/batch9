{
 "cells": [
  {
   "cell_type": "code",
   "execution_count": 17,
   "id": "255c2e02-691c-471d-b72d-313dea6b2367",
   "metadata": {},
   "outputs": [
    {
     "name": "stdout",
     "output_type": "stream",
     "text": [
      "    Adj. Close    HL_PCT  PCT_change  Adj. Volume\n",
      "10   50.912161  3.378977    2.442224   15118600.0\n",
      "[[0. 0. 0. 0.]]\n"
     ]
    }
   ],
   "source": [
    "import os, math\n",
    "import numpy as np\n",
    "import pandas as pd\n",
    "import pickle\n",
    "from sklearn import preprocessing\n",
    "\n",
    "\n",
    "df = pd.read_csv(\"data/wiki_googl.csv\")\n",
    "\n",
    "# only keep adjusted data \n",
    "df = df[['Adj. Open',  'Adj. High',  'Adj. Low',  'Adj. Close', 'Adj. Volume']]\n",
    "df['HL_PCT'] = (df['Adj. High'] - df['Adj. Low']) / df['Adj. Close'] * 100.0 # HL_PCT High low percentage\n",
    "df['PCT_change'] = (df['Adj. Close'] - df['Adj. Open']) / df['Adj. Open'] * 100.0\n",
    "df = df[['Adj. Close', 'HL_PCT', 'PCT_change', 'Adj. Volume']]\n",
    "\n",
    "x_predict = df[10:11]\n",
    "print(x_predict)\n",
    "\n",
    "x_predict = preprocessing.scale(x_predict) \n",
    "print(x_predict)"
   ]
  },
  {
   "cell_type": "code",
   "execution_count": 18,
   "id": "fe510e01-d353-45e0-9c17-c7cc665a156b",
   "metadata": {},
   "outputs": [
    {
     "name": "stdout",
     "output_type": "stream",
     "text": [
      "[515.98767412]\n"
     ]
    }
   ],
   "source": [
    "clf = pickle.load(open('linearregression.pickle','rb'))\n",
    "\n",
    "forecast = clf.predict(x_predict)\n",
    "print(forecast)"
   ]
  }
 ],
 "metadata": {
  "kernelspec": {
   "display_name": "Python 3 (ipykernel)",
   "language": "python",
   "name": "python3"
  },
  "language_info": {
   "codemirror_mode": {
    "name": "ipython",
    "version": 3
   },
   "file_extension": ".py",
   "mimetype": "text/x-python",
   "name": "python",
   "nbconvert_exporter": "python",
   "pygments_lexer": "ipython3",
   "version": "3.11.7"
  }
 },
 "nbformat": 4,
 "nbformat_minor": 5
}
