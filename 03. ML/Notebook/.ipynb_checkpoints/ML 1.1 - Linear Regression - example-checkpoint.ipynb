{
 "cells": [
  {
   "cell_type": "markdown",
   "metadata": {},
   "source": [
    "Linear regression finds the best possible linear equation that fits to the training data. "
   ]
  },
  {
   "cell_type": "code",
   "execution_count": null,
   "metadata": {},
   "outputs": [],
   "source": [
    "%matplotlib inline\n",
    "import os\n",
    "import numpy as np\n",
    "import pandas as pd\n",
    "import quandl, math\n",
    "from sklearn import preprocessing, svm, model_selection\n",
    "from sklearn.linear_model import LinearRegression \n",
    "import matplotlib.pyplot as plt\n",
    "from matplotlib import style\n",
    "import pickle\n",
    "\n",
    "# getting data\n",
    "if not os.path.isfile(os.path.abspath(\"data/wiki_googl.csv\")):\n",
    "    df = quandl.get(\"WIKI/GOOGL\")\n",
    "else:\n",
    "    df = pd.read_csv(\"data/wiki_googl.csv\")\n",
    "\n",
    "# use date as index\n",
    "df[\"Date\"] = pd.to_datetime(df[\"Date\"])\n",
    "df.set_index(\"Date\", inplace=True)\n",
    "\n",
    "# only keep adjusted data \n",
    "df = df[['Adj. Open',  'Adj. High',  'Adj. Low',  'Adj. Close', 'Adj. Volume']]\n",
    "df['HL_PCT'] = (df['Adj. High'] - df['Adj. Low']) / df['Adj. Close'] * 100.0 # HL_PCT High low percentage\n",
    "df['PCT_change'] = (df['Adj. Close'] - df['Adj. Open']) / df['Adj. Open'] * 100.0\n",
    "df = df[['Adj. Close', 'HL_PCT', 'PCT_change', 'Adj. Volume']]\n",
    "\n",
    "df.fillna(value=-99999, inplace=True)\n",
    "\n",
    "predict_lenght = int(math.ceil(0.1 * len(df))) # we are using 90% of the data to \"train\" our model and 10% to make predictions\n",
    "predict_col = 'Adj. Close' # we want to predict the adj close price\n",
    "df['label'] = df[predict_col].shift(-predict_lenght)\n",
    "df"
   ]
  },
  {
   "cell_type": "code",
   "execution_count": null,
   "metadata": {},
   "outputs": [],
   "source": [
    "# split and prepare data\n",
    "\n",
    "# x = features\n",
    "# y = labels\n",
    "\n",
    "x = np.array(df.drop(['label'], 1)) # 1 denotes which axis\n",
    "# mean value along the axis is subtracted from x and the resulting value \n",
    "# is divided by standard deviation along the axis.\n",
    "# see https://scikit-learn.org/stable/modules/preprocessing.html\n",
    "x = preprocessing.scale(x) \n",
    "\n",
    "x_predict = x[-predict_lenght:] # these are the last 10% of the data. We will use these to make predictions\n",
    "# the predict data frame will hold our predicted values\n",
    "predict_df = df.iloc[-predict_lenght:] # iloc: Purely integer-location based indexing for selection by position\n",
    "predict_df = predict_df.rename(columns={\"label\":\"Prediction\"})\n",
    "\n",
    "# getting our \"training\" data\n",
    "x = x[:-predict_lenght]\n",
    "df.dropna(inplace=True)\n",
    "y = np.array(df[\"label\"])\n",
    "\n",
    "x_train, x_test, y_train, y_test = model_selection.train_test_split(x, y, test_size=0.2)\n",
    "\n",
    "predict_df"
   ]
  },
  {
   "cell_type": "code",
   "execution_count": null,
   "metadata": {
    "scrolled": true
   },
   "outputs": [],
   "source": [
    "# do linear regression\n",
    "\n",
    "if os.path.exists('linearregression.pickle'):\n",
    "    clf = pickle.load(open('linearregression.pickle','rb'))\n",
    "else:\n",
    "    clf = LinearRegression(n_jobs=-1) # do as many jobs as possible\n",
    "    clf.fit(x_train, y_train) # fit/\"train\" to data\n",
    "    with open('linearregression.pickle','wb') as f: # save classifier\n",
    "        pickle.dump(clf, f)\n",
    "    \n",
    "accuracy = clf.score(x_test, y_test)\n",
    "forecast = clf.predict(x_predict)\n",
    "\n",
    "print(forecast,accuracy, predict_lenght)\n",
    "print(f\"accuracy: {accuracy}\")"
   ]
  },
  {
   "cell_type": "code",
   "execution_count": null,
   "metadata": {
    "scrolled": true
   },
   "outputs": [],
   "source": [
    "#plotting\n",
    "style.use('ggplot')\n",
    "\n",
    "predict_df[\"Predict\"] = forecast\n",
    "\n",
    "df['Adj. Close'].plot()\n",
    "predict_df['Predict'].plot()\n",
    "plt.legend(loc=4)\n",
    "plt.xlabel('Date')\n",
    "plt.ylabel('Price')\n",
    "plt.show()"
   ]
  },
  {
   "cell_type": "code",
   "execution_count": null,
   "metadata": {},
   "outputs": [],
   "source": []
  }
 ],
 "metadata": {
  "kernelspec": {
   "display_name": "Python 3 (ipykernel)",
   "language": "python",
   "name": "python3"
  },
  "language_info": {
   "codemirror_mode": {
    "name": "ipython",
    "version": 3
   },
   "file_extension": ".py",
   "mimetype": "text/x-python",
   "name": "python",
   "nbconvert_exporter": "python",
   "pygments_lexer": "ipython3",
   "version": "3.10.9"
  }
 },
 "nbformat": 4,
 "nbformat_minor": 4
}
