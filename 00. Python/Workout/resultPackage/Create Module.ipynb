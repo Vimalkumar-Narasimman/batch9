{
 "cells": [
  {
   "cell_type": "code",
   "execution_count": 1,
   "id": "9d4e0488",
   "metadata": {},
   "outputs": [
    {
     "name": "stdout",
     "output_type": "stream",
     "text": [
      "Writing stdResult.py\n"
     ]
    }
   ],
   "source": [
    "%%file stdResult.py \n",
    "\n",
    "def findTotal(marks):\n",
    "    return sum(marks)\n",
    "\n",
    "def findResult(marks, passMark=45):\n",
    "    for mark in marks:\n",
    "        if mark < passMark:\n",
    "            result = 'Fail'\n",
    "            break\n",
    "    else:\n",
    "        result = 'Pass'\n",
    "    return result\n",
    "\n",
    "def findPercentage(marks):\n",
    "    return round(sum(marks)/len(marks),2)\n",
    "\n",
    "def calculateResult(student):\n",
    "    passMark=45\n",
    "    student['total'] = findTotal(student['marks'])\n",
    "    student['result'] = findResult(student['marks'], passMark)      \n",
    "    if student['result'] == 'Pass':\n",
    "        student['percentage'] = findPercentage(student['marks'])\n",
    "    return student"
   ]
  },
  {
   "cell_type": "code",
   "execution_count": 2,
   "id": "0c6a3d3c",
   "metadata": {},
   "outputs": [
    {
     "name": "stdout",
     "output_type": "stream",
     "text": [
      "Writing stdResultDisplay.py\n"
     ]
    }
   ],
   "source": [
    "%%file stdResultDisplay.py \n",
    "\n",
    "def diplayResult(student):\n",
    "    for k, v in student.items():\n",
    "        print(f'{k} ==> {v}')"
   ]
  },
  {
   "cell_type": "code",
   "execution_count": 5,
   "id": "392cbf74",
   "metadata": {},
   "outputs": [
    {
     "name": "stdout",
     "output_type": "stream",
     "text": [
      "Writing __init__.py\n"
     ]
    }
   ],
   "source": [
    "%%file __init__.py\n",
    "\n",
    "#This is a init file for my package"
   ]
  }
 ],
 "metadata": {
  "kernelspec": {
   "display_name": "Python 3 (ipykernel)",
   "language": "python",
   "name": "python3"
  },
  "language_info": {
   "codemirror_mode": {
    "name": "ipython",
    "version": 3
   },
   "file_extension": ".py",
   "mimetype": "text/x-python",
   "name": "python",
   "nbconvert_exporter": "python",
   "pygments_lexer": "ipython3",
   "version": "3.10.9"
  }
 },
 "nbformat": 4,
 "nbformat_minor": 5
}
