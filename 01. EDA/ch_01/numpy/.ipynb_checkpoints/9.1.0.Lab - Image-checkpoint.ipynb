{
 "cells": [
  {
   "cell_type": "code",
   "execution_count": 1,
   "id": "303f2153",
   "metadata": {},
   "outputs": [
    {
     "name": "stdout",
     "output_type": "stream",
     "text": [
      "<class 'numpy.ndarray'>\n",
      "(649, 959, 3)\n"
     ]
    }
   ],
   "source": [
    "import numpy as np\n",
    "import matplotlib.image as mpimg\n",
    "\n",
    "img = mpimg.imread(\"kitty.jpg\")\n",
    "print(type(img))\n",
    "print(img.shape)"
   ]
  },
  {
   "cell_type": "code",
   "execution_count": 2,
   "id": "064d3b4f",
   "metadata": {},
   "outputs": [],
   "source": [
    "output = img.copy()  # The original image is read-only!\n",
    "output[:, :, :2] = 0\n",
    "mpimg.imsave(\"blue.jpg\", output)"
   ]
  },
  {
   "cell_type": "code",
   "execution_count": 3,
   "id": "8a18a1aa",
   "metadata": {},
   "outputs": [],
   "source": [
    "output = img.copy()  # The original image is read-only!\n",
    "output[:, :, [0,2]] = 0\n",
    "mpimg.imsave(\"green.jpg\", output)"
   ]
  },
  {
   "cell_type": "code",
   "execution_count": 4,
   "id": "954f468f",
   "metadata": {},
   "outputs": [],
   "source": [
    "averages = img.mean(axis=2)  # Take the average of each R, G, and B\n",
    "mpimg.imsave(\"bad-gray.jpg\", averages, cmap=\"gray\")"
   ]
  },
  {
   "cell_type": "code",
   "execution_count": 5,
   "id": "1dc4c1bd",
   "metadata": {},
   "outputs": [],
   "source": [
    "weights = np.array([0.3, 0.59, 0.11])\n",
    "grayscale = img @ weights\n",
    "mpimg.imsave(\"good-gray.jpg\", grayscale, cmap=\"gray\")"
   ]
  }
 ],
 "metadata": {
  "kernelspec": {
   "display_name": "Python 3 (ipykernel)",
   "language": "python",
   "name": "python3"
  },
  "language_info": {
   "codemirror_mode": {
    "name": "ipython",
    "version": 3
   },
   "file_extension": ".py",
   "mimetype": "text/x-python",
   "name": "python",
   "nbconvert_exporter": "python",
   "pygments_lexer": "ipython3",
   "version": "3.10.9"
  }
 },
 "nbformat": 4,
 "nbformat_minor": 5
}
