{
 "cells": [
  {
   "cell_type": "markdown",
   "metadata": {
    "_uuid": "fc4c9744a6ab86ad54a9e5e3c38b92726871fded"
   },
   "source": [
    "### Haberman's Survival Data Set\n",
    "#### Survival of patients who had undergone surgery for breast cancer\n",
    "\n",
    "The dataset contains cases from a study that was conducted between 1958 and 1970 at the University of Chicago's Billings Hospital on the survival of patients who had undergone surgery for breast cancer."
   ]
  },
  {
   "cell_type": "markdown",
   "metadata": {
    "_uuid": "123d88ff0d1fb429abf699fb7383699872974be5"
   },
   "source": [
    "#### Attribute Information:\n",
    "\n",
    "**Feature-1** : Age of patient at time of operation \n",
    "\n",
    "**Feature-2** : Patient's year of operation (year - 1900)\n",
    "\n",
    "**Feature-3** : Number of positive axillary nodes detected \n",
    "\n",
    "**Feature-4** : Survival status\n",
    "\n",
    "                (class attribute) 1 = the patient survived 5 years or longer \n",
    "                \n",
    "                (class attribute) 2 = the patient died within 5 year\n",
    "                \n",
    "As Feature-4 is a class variable , it is the result of all other three features , \n",
    "it can also be thought of as a Dependent feature and Feature-1,2,3 are independent features "
   ]
  },
  {
   "cell_type": "markdown",
   "metadata": {
    "_uuid": "ade0b6b932e5ede521f5076385316bf64558d830"
   },
   "source": [
    "**OBJECTIVE** : If a new observation is to be tested then to classify whether it should be classified as class 1 or class 2\n",
    "                based on it's features"
   ]
  },
  {
   "cell_type": "code",
   "execution_count": 1,
   "metadata": {
    "_uuid": "6723359cb2811516ed5f671ee4099279dcbfc009"
   },
   "outputs": [],
   "source": [
    "#import the libraries needed for visualization and numeric computations\n",
    "import pandas as pd\n",
    "import numpy as np\n",
    "import seaborn as sns\n",
    "import matplotlib.pyplot as plt"
   ]
  },
  {
   "cell_type": "code",
   "execution_count": 2,
   "metadata": {
    "_uuid": "389a4ab6dc5083054748408a45b05ab10c04f96f"
   },
   "outputs": [],
   "source": [
    "#To display the plots on to the jupyter notebook without calling the plt.show() function\n",
    "%matplotlib inline "
   ]
  },
  {
   "cell_type": "code",
   "execution_count": 4,
   "metadata": {
    "_uuid": "70dcd99c918317b8fcc0217bfe63a0e676872b8e"
   },
   "outputs": [],
   "source": [
    "#import the dataset and understand what are the features present in it\n",
    "habermans_dataset = pd.read_csv(\"Habermans_Survival_Data_Set.csv\",names= ['age','year_of_operation','axillary_nodes','survival_class'] )"
   ]
  },
  {
   "cell_type": "code",
   "execution_count": 5,
   "metadata": {
    "_uuid": "9ada56580f1b09f59433e6c0dadab1b720fcb052"
   },
   "outputs": [
    {
     "data": {
      "text/html": [
       "<div>\n",
       "<style scoped>\n",
       "    .dataframe tbody tr th:only-of-type {\n",
       "        vertical-align: middle;\n",
       "    }\n",
       "\n",
       "    .dataframe tbody tr th {\n",
       "        vertical-align: top;\n",
       "    }\n",
       "\n",
       "    .dataframe thead th {\n",
       "        text-align: right;\n",
       "    }\n",
       "</style>\n",
       "<table border=\"1\" class=\"dataframe\">\n",
       "  <thead>\n",
       "    <tr style=\"text-align: right;\">\n",
       "      <th></th>\n",
       "      <th>age</th>\n",
       "      <th>year_of_operation</th>\n",
       "      <th>axillary_nodes</th>\n",
       "      <th>survival_class</th>\n",
       "    </tr>\n",
       "  </thead>\n",
       "  <tbody>\n",
       "    <tr>\n",
       "      <th>0</th>\n",
       "      <td>age</td>\n",
       "      <td>year_of_operation</td>\n",
       "      <td>axillary_nodes</td>\n",
       "      <td>survival_class</td>\n",
       "    </tr>\n",
       "    <tr>\n",
       "      <th>1</th>\n",
       "      <td>30</td>\n",
       "      <td>64</td>\n",
       "      <td>1</td>\n",
       "      <td>1</td>\n",
       "    </tr>\n",
       "    <tr>\n",
       "      <th>2</th>\n",
       "      <td>30</td>\n",
       "      <td>62</td>\n",
       "      <td>3</td>\n",
       "      <td>1</td>\n",
       "    </tr>\n",
       "    <tr>\n",
       "      <th>3</th>\n",
       "      <td>30</td>\n",
       "      <td>65</td>\n",
       "      <td>0</td>\n",
       "      <td>1</td>\n",
       "    </tr>\n",
       "    <tr>\n",
       "      <th>4</th>\n",
       "      <td>31</td>\n",
       "      <td>59</td>\n",
       "      <td>2</td>\n",
       "      <td>1</td>\n",
       "    </tr>\n",
       "  </tbody>\n",
       "</table>\n",
       "</div>"
      ],
      "text/plain": [
       "   age  year_of_operation  axillary_nodes  survival_class\n",
       "0  age  year_of_operation  axillary_nodes  survival_class\n",
       "1   30                 64               1               1\n",
       "2   30                 62               3               1\n",
       "3   30                 65               0               1\n",
       "4   31                 59               2               1"
      ]
     },
     "execution_count": 5,
     "metadata": {},
     "output_type": "execute_result"
    }
   ],
   "source": [
    "habermans_dataset.head()"
   ]
  },
  {
   "cell_type": "code",
   "execution_count": 6,
   "metadata": {
    "_uuid": "12b8a309b944c9a1f29b96ed1cb80dd3dcf3d87a"
   },
   "outputs": [
    {
     "data": {
      "text/plain": [
       "(307, 4)"
      ]
     },
     "execution_count": 6,
     "metadata": {},
     "output_type": "execute_result"
    }
   ],
   "source": [
    "#To know the number of observations and number of columns present in the dataset we use shape function\n",
    "habermans_dataset.shape"
   ]
  },
  {
   "cell_type": "markdown",
   "metadata": {
    "_uuid": "2701f52b873513624dceac414ad28a75d811fc58"
   },
   "source": [
    "This dataset has 306 observations and 4features (1 among them is class feature )"
   ]
  },
  {
   "cell_type": "code",
   "execution_count": 7,
   "metadata": {
    "_uuid": "88d7af5ea8e6b4841fb2d00fa7c4d0a6c2034677"
   },
   "outputs": [
    {
     "data": {
      "text/plain": [
       "1                 225\n",
       "2                  81\n",
       "survival_class      1\n",
       "Name: survival_class, dtype: int64"
      ]
     },
     "execution_count": 7,
     "metadata": {},
     "output_type": "execute_result"
    }
   ],
   "source": [
    "#let's examine the survival class to examine whether the data is balanced or imbalanced \n",
    "habermans_dataset['survival_class'].value_counts()"
   ]
  },
  {
   "cell_type": "markdown",
   "metadata": {
    "_uuid": "8242db37e5ac082794e0411d296914667f7c9c7f"
   },
   "source": [
    "By above output we can understand that it is not a balanced dataset"
   ]
  },
  {
   "cell_type": "markdown",
   "metadata": {
    "_uuid": "9c8f794073d47dd5c4c13b00b84ec1024d309498"
   },
   "source": [
    "\n",
    "Initially examing the bivariate analysis and from that understanding which feature is significant among those multiple features then performing univariate anlysis on it"
   ]
  },
  {
   "cell_type": "markdown",
   "metadata": {
    "_uuid": "fbcf2c8ac0fad833b8fd3be8ae2307bfe989ebb9"
   },
   "source": [
    "### Pair Plots\n",
    "\n",
    "To analyze the plots and find out which features are best fit to consider for future predictions"
   ]
  },
  {
   "cell_type": "code",
   "execution_count": 8,
   "metadata": {
    "_uuid": "6289b08b242c6b6e0f35c5aacf49c9051db85a70"
   },
   "outputs": [],
   "source": [
    "\n",
    "sns.set_style(\"whitegrid\") #to display darkgrid as a background (can also be whitegrid , white , grid)"
   ]
  },
  {
   "cell_type": "markdown",
   "metadata": {
    "_uuid": "63d0d4ab8c1d3219f9017b04aa5d29561842cd61"
   },
   "source": [
    "We will be getting the output of the pairplots including class label if we run below cell. To exclude the class label in pairplot it should be a string. So,changing the categorical data into strings with meaningful names"
   ]
  },
  {
   "cell_type": "code",
   "execution_count": null,
   "metadata": {
    "_uuid": "907e8464b80dc418b26d1ae9e6bfb1c7776d5bb3",
    "collapsed": true
   },
   "outputs": [],
   "source": [
    "#sns.pairplot(habermans_dataset,hue='survival_class',kind='scatter',size=3) "
   ]
  },
  {
   "cell_type": "code",
   "execution_count": 9,
   "metadata": {
    "_uuid": "cd45594ad1ff39fe1ae9f3887bb4c0f0b7cd22c6"
   },
   "outputs": [],
   "source": [
    "habermans_dataset['survival_class'] = habermans_dataset['survival_class'].apply(lambda x: 'survived >= 5yrs' if x == 1 else 'survived < 5yrs')"
   ]
  },
  {
   "cell_type": "code",
   "execution_count": 10,
   "metadata": {
    "_uuid": "95906eab013e838ca41a4fa2a8347f02c5785374"
   },
   "outputs": [
    {
     "data": {
      "text/plain": [
       "survived < 5yrs    307\n",
       "Name: survival_class, dtype: int64"
      ]
     },
     "execution_count": 10,
     "metadata": {},
     "output_type": "execute_result"
    }
   ],
   "source": [
    "habermans_dataset['survival_class'].value_counts()"
   ]
  },
  {
   "cell_type": "code",
   "execution_count": 12,
   "metadata": {
    "_uuid": "e8fbea6188b1618a3a0e9c42d125ec51bf8402a3"
   },
   "outputs": [
    {
     "ename": "ValueError",
     "evalue": "No variables found for grid columns.",
     "output_type": "error",
     "traceback": [
      "\u001b[1;31m---------------------------------------------------------------------------\u001b[0m",
      "\u001b[1;31mValueError\u001b[0m                                Traceback (most recent call last)",
      "Cell \u001b[1;32mIn[12], line 1\u001b[0m\n\u001b[1;32m----> 1\u001b[0m \u001b[43msns\u001b[49m\u001b[38;5;241;43m.\u001b[39;49m\u001b[43mpairplot\u001b[49m\u001b[43m(\u001b[49m\u001b[43mhabermans_dataset\u001b[49m\u001b[43m,\u001b[49m\u001b[43mhue\u001b[49m\u001b[38;5;241;43m=\u001b[39;49m\u001b[38;5;124;43m'\u001b[39;49m\u001b[38;5;124;43msurvival_class\u001b[39;49m\u001b[38;5;124;43m'\u001b[39;49m\u001b[43m,\u001b[49m\u001b[43mkind\u001b[49m\u001b[38;5;241;43m=\u001b[39;49m\u001b[38;5;124;43m'\u001b[39;49m\u001b[38;5;124;43mscatter\u001b[39;49m\u001b[38;5;124;43m'\u001b[39;49m\u001b[43m)\u001b[49m\n",
      "File \u001b[1;32m~\\AppData\\Local\\Programs\\Python\\Python310\\lib\\site-packages\\seaborn\\axisgrid.py:2114\u001b[0m, in \u001b[0;36mpairplot\u001b[1;34m(data, hue, hue_order, palette, vars, x_vars, y_vars, kind, diag_kind, markers, height, aspect, corner, dropna, plot_kws, diag_kws, grid_kws, size)\u001b[0m\n\u001b[0;32m   2112\u001b[0m \u001b[38;5;66;03m# Set up the PairGrid\u001b[39;00m\n\u001b[0;32m   2113\u001b[0m grid_kws\u001b[38;5;241m.\u001b[39msetdefault(\u001b[38;5;124m\"\u001b[39m\u001b[38;5;124mdiag_sharey\u001b[39m\u001b[38;5;124m\"\u001b[39m, diag_kind \u001b[38;5;241m==\u001b[39m \u001b[38;5;124m\"\u001b[39m\u001b[38;5;124mhist\u001b[39m\u001b[38;5;124m\"\u001b[39m)\n\u001b[1;32m-> 2114\u001b[0m grid \u001b[38;5;241m=\u001b[39m PairGrid(data, \u001b[38;5;28mvars\u001b[39m\u001b[38;5;241m=\u001b[39m\u001b[38;5;28mvars\u001b[39m, x_vars\u001b[38;5;241m=\u001b[39mx_vars, y_vars\u001b[38;5;241m=\u001b[39my_vars, hue\u001b[38;5;241m=\u001b[39mhue,\n\u001b[0;32m   2115\u001b[0m                 hue_order\u001b[38;5;241m=\u001b[39mhue_order, palette\u001b[38;5;241m=\u001b[39mpalette, corner\u001b[38;5;241m=\u001b[39mcorner,\n\u001b[0;32m   2116\u001b[0m                 height\u001b[38;5;241m=\u001b[39mheight, aspect\u001b[38;5;241m=\u001b[39maspect, dropna\u001b[38;5;241m=\u001b[39mdropna, \u001b[38;5;241m*\u001b[39m\u001b[38;5;241m*\u001b[39mgrid_kws)\n\u001b[0;32m   2118\u001b[0m \u001b[38;5;66;03m# Add the markers here as PairGrid has figured out how many levels of the\u001b[39;00m\n\u001b[0;32m   2119\u001b[0m \u001b[38;5;66;03m# hue variable are needed and we don't want to duplicate that process\u001b[39;00m\n\u001b[0;32m   2120\u001b[0m \u001b[38;5;28;01mif\u001b[39;00m markers \u001b[38;5;129;01mis\u001b[39;00m \u001b[38;5;129;01mnot\u001b[39;00m \u001b[38;5;28;01mNone\u001b[39;00m:\n",
      "File \u001b[1;32m~\\AppData\\Local\\Programs\\Python\\Python310\\lib\\site-packages\\seaborn\\axisgrid.py:1266\u001b[0m, in \u001b[0;36mPairGrid.__init__\u001b[1;34m(self, data, hue, vars, x_vars, y_vars, hue_order, palette, hue_kws, corner, diag_sharey, height, aspect, layout_pad, despine, dropna)\u001b[0m\n\u001b[0;32m   1263\u001b[0m \u001b[38;5;28mself\u001b[39m\u001b[38;5;241m.\u001b[39msquare_grid \u001b[38;5;241m=\u001b[39m \u001b[38;5;28mself\u001b[39m\u001b[38;5;241m.\u001b[39mx_vars \u001b[38;5;241m==\u001b[39m \u001b[38;5;28mself\u001b[39m\u001b[38;5;241m.\u001b[39my_vars\n\u001b[0;32m   1265\u001b[0m \u001b[38;5;28;01mif\u001b[39;00m \u001b[38;5;129;01mnot\u001b[39;00m x_vars:\n\u001b[1;32m-> 1266\u001b[0m     \u001b[38;5;28;01mraise\u001b[39;00m \u001b[38;5;167;01mValueError\u001b[39;00m(\u001b[38;5;124m\"\u001b[39m\u001b[38;5;124mNo variables found for grid columns.\u001b[39m\u001b[38;5;124m\"\u001b[39m)\n\u001b[0;32m   1267\u001b[0m \u001b[38;5;28;01mif\u001b[39;00m \u001b[38;5;129;01mnot\u001b[39;00m y_vars:\n\u001b[0;32m   1268\u001b[0m     \u001b[38;5;28;01mraise\u001b[39;00m \u001b[38;5;167;01mValueError\u001b[39;00m(\u001b[38;5;124m\"\u001b[39m\u001b[38;5;124mNo variables found for grid rows.\u001b[39m\u001b[38;5;124m\"\u001b[39m)\n",
      "\u001b[1;31mValueError\u001b[0m: No variables found for grid columns."
     ]
    }
   ],
   "source": [
    "sns.pairplot(habermans_dataset,hue='survival_class',kind='scatter',size=3)"
   ]
  },
  {
   "cell_type": "markdown",
   "metadata": {
    "_uuid": "be9b5ea2dfbcc8070181d0d9e1e30149ade8bfc5"
   },
   "source": [
    "#### Observation"
   ]
  },
  {
   "cell_type": "markdown",
   "metadata": {
    "_uuid": "fbf07f84ce269a301f993c966ea3c798a73395f5"
   },
   "source": [
    "From the above scatter plots it is evident that \n",
    "\n",
    "--> We can't classify whether the given observation is of class-1 or class-2 based on any two features from the dataset\n",
    "\n",
    "   because in every scatter plot(out of three plots) the datapoints are not seperated in any manner. "
   ]
  },
  {
   "cell_type": "markdown",
   "metadata": {
    "_uuid": "ea5bbb5ef3fe30caf71396838e7524cf28850267"
   },
   "source": [
    "-----------------------------------------------------------------------------------------------------------------------------"
   ]
  },
  {
   "cell_type": "markdown",
   "metadata": {
    "_uuid": "ef196295c63dedc0e815a8c4ec202c93fd65f8e7"
   },
   "source": [
    "### Univariate Analysis \n",
    "                         \n",
    " Performing analysis on each individual feature to identiy which feature might the suitable for our objective\n",
    "\n",
    "\n"
   ]
  },
  {
   "cell_type": "code",
   "execution_count": null,
   "metadata": {
    "_uuid": "4c282c46d78ded4e27441ccce4aab1ff09567daa",
    "collapsed": true
   },
   "outputs": [],
   "source": [
    "#dividing the survival_class features into each individual dataframes to perform CDF,PDF"
   ]
  },
  {
   "cell_type": "code",
   "execution_count": 13,
   "metadata": {
    "_uuid": "1f23289f74a2880ebabcba981c3c95753d14b06c"
   },
   "outputs": [],
   "source": [
    "habermans_dataset_class_1 = habermans_dataset[habermans_dataset['survival_class'] == 'survived >= 5yrs']"
   ]
  },
  {
   "cell_type": "code",
   "execution_count": 14,
   "metadata": {
    "_uuid": "58c3926095a33b39499d41dca5889d3b48dbe92f"
   },
   "outputs": [
    {
     "data": {
      "text/html": [
       "<div>\n",
       "<style scoped>\n",
       "    .dataframe tbody tr th:only-of-type {\n",
       "        vertical-align: middle;\n",
       "    }\n",
       "\n",
       "    .dataframe tbody tr th {\n",
       "        vertical-align: top;\n",
       "    }\n",
       "\n",
       "    .dataframe thead th {\n",
       "        text-align: right;\n",
       "    }\n",
       "</style>\n",
       "<table border=\"1\" class=\"dataframe\">\n",
       "  <thead>\n",
       "    <tr style=\"text-align: right;\">\n",
       "      <th></th>\n",
       "      <th>age</th>\n",
       "      <th>year_of_operation</th>\n",
       "      <th>axillary_nodes</th>\n",
       "      <th>survival_class</th>\n",
       "    </tr>\n",
       "  </thead>\n",
       "  <tbody>\n",
       "  </tbody>\n",
       "</table>\n",
       "</div>"
      ],
      "text/plain": [
       "Empty DataFrame\n",
       "Columns: [age, year_of_operation, axillary_nodes, survival_class]\n",
       "Index: []"
      ]
     },
     "execution_count": 14,
     "metadata": {},
     "output_type": "execute_result"
    }
   ],
   "source": [
    "habermans_dataset_class_1.head()"
   ]
  },
  {
   "cell_type": "code",
   "execution_count": 15,
   "metadata": {
    "_uuid": "9630426ba35407898dee343370b0c09fe0705e2b"
   },
   "outputs": [],
   "source": [
    "habermans_dataset_class_2 = habermans_dataset[habermans_dataset['survival_class'] == 'survived < 5yrs']"
   ]
  },
  {
   "cell_type": "code",
   "execution_count": 16,
   "metadata": {
    "_uuid": "177e16257bfa62852afc39d15207878c8012d8f2"
   },
   "outputs": [
    {
     "data": {
      "text/html": [
       "<div>\n",
       "<style scoped>\n",
       "    .dataframe tbody tr th:only-of-type {\n",
       "        vertical-align: middle;\n",
       "    }\n",
       "\n",
       "    .dataframe tbody tr th {\n",
       "        vertical-align: top;\n",
       "    }\n",
       "\n",
       "    .dataframe thead th {\n",
       "        text-align: right;\n",
       "    }\n",
       "</style>\n",
       "<table border=\"1\" class=\"dataframe\">\n",
       "  <thead>\n",
       "    <tr style=\"text-align: right;\">\n",
       "      <th></th>\n",
       "      <th>age</th>\n",
       "      <th>year_of_operation</th>\n",
       "      <th>axillary_nodes</th>\n",
       "      <th>survival_class</th>\n",
       "    </tr>\n",
       "  </thead>\n",
       "  <tbody>\n",
       "    <tr>\n",
       "      <th>0</th>\n",
       "      <td>age</td>\n",
       "      <td>year_of_operation</td>\n",
       "      <td>axillary_nodes</td>\n",
       "      <td>survived &lt; 5yrs</td>\n",
       "    </tr>\n",
       "    <tr>\n",
       "      <th>1</th>\n",
       "      <td>30</td>\n",
       "      <td>64</td>\n",
       "      <td>1</td>\n",
       "      <td>survived &lt; 5yrs</td>\n",
       "    </tr>\n",
       "    <tr>\n",
       "      <th>2</th>\n",
       "      <td>30</td>\n",
       "      <td>62</td>\n",
       "      <td>3</td>\n",
       "      <td>survived &lt; 5yrs</td>\n",
       "    </tr>\n",
       "    <tr>\n",
       "      <th>3</th>\n",
       "      <td>30</td>\n",
       "      <td>65</td>\n",
       "      <td>0</td>\n",
       "      <td>survived &lt; 5yrs</td>\n",
       "    </tr>\n",
       "    <tr>\n",
       "      <th>4</th>\n",
       "      <td>31</td>\n",
       "      <td>59</td>\n",
       "      <td>2</td>\n",
       "      <td>survived &lt; 5yrs</td>\n",
       "    </tr>\n",
       "  </tbody>\n",
       "</table>\n",
       "</div>"
      ],
      "text/plain": [
       "   age  year_of_operation  axillary_nodes   survival_class\n",
       "0  age  year_of_operation  axillary_nodes  survived < 5yrs\n",
       "1   30                 64               1  survived < 5yrs\n",
       "2   30                 62               3  survived < 5yrs\n",
       "3   30                 65               0  survived < 5yrs\n",
       "4   31                 59               2  survived < 5yrs"
      ]
     },
     "execution_count": 16,
     "metadata": {},
     "output_type": "execute_result"
    }
   ],
   "source": [
    "habermans_dataset_class_2.head()"
   ]
  },
  {
   "cell_type": "markdown",
   "metadata": {
    "_uuid": "38b7217b77ec515bfde65b9f283808d64b0daae1"
   },
   "source": [
    "#### Plotting Histograms with PDF \n",
    "to know the data distribution\n"
   ]
  },
  {
   "cell_type": "markdown",
   "metadata": {
    "_uuid": "d61dbcd416e063c5697a847652f0d5d52934f57c"
   },
   "source": [
    "We will plot all the features and thier Histograms and from the graphs we will select which feature can be useful among three and then perform analysis on it\n",
    "\n",
    "**Univariate Analysis using PDF (Probability Density Function)**"
   ]
  },
  {
   "cell_type": "code",
   "execution_count": 17,
   "metadata": {
    "_uuid": "a59accffeb119b49728d537dbb70dbbdc8e2e9b7"
   },
   "outputs": [
    {
     "ename": "TypeError",
     "evalue": "FacetGrid.__init__() got an unexpected keyword argument 'size'",
     "output_type": "error",
     "traceback": [
      "\u001b[1;31m---------------------------------------------------------------------------\u001b[0m",
      "\u001b[1;31mTypeError\u001b[0m                                 Traceback (most recent call last)",
      "Cell \u001b[1;32mIn[17], line 3\u001b[0m\n\u001b[0;32m      1\u001b[0m \u001b[38;5;66;03m#initially plotting the first feature (age)\u001b[39;00m\n\u001b[1;32m----> 3\u001b[0m \u001b[43msns\u001b[49m\u001b[38;5;241;43m.\u001b[39;49m\u001b[43mFacetGrid\u001b[49m\u001b[43m(\u001b[49m\u001b[43mhabermans_dataset\u001b[49m\u001b[43m,\u001b[49m\u001b[43mhue\u001b[49m\u001b[38;5;241;43m=\u001b[39;49m\u001b[38;5;124;43m'\u001b[39;49m\u001b[38;5;124;43msurvival_class\u001b[39;49m\u001b[38;5;124;43m'\u001b[39;49m\u001b[43m,\u001b[49m\u001b[43msize\u001b[49m\u001b[38;5;241;43m=\u001b[39;49m\u001b[38;5;241;43m5\u001b[39;49m\u001b[43m)\u001b[49m\u001b[38;5;241m.\u001b[39mmap(sns\u001b[38;5;241m.\u001b[39mdistplot,\u001b[38;5;124m'\u001b[39m\u001b[38;5;124mage\u001b[39m\u001b[38;5;124m'\u001b[39m)\u001b[38;5;241m.\u001b[39madd_legend()\n\u001b[0;32m      4\u001b[0m plt\u001b[38;5;241m.\u001b[39mtitle(\u001b[38;5;124m\"\u001b[39m\u001b[38;5;124mHistogram with PDF for \u001b[39m\u001b[38;5;124m'\u001b[39m\u001b[38;5;124mage\u001b[39m\u001b[38;5;124m'\u001b[39m\u001b[38;5;124m feature\u001b[39m\u001b[38;5;124m\"\u001b[39m)\n",
      "\u001b[1;31mTypeError\u001b[0m: FacetGrid.__init__() got an unexpected keyword argument 'size'"
     ]
    }
   ],
   "source": [
    "#initially plotting the first feature (age)\n",
    "\n",
    "sns.FacetGrid(habermans_dataset,hue='survival_class',size=5).map(sns.distplot,'age').add_legend()\n",
    "plt.title(\"Histogram with PDF for 'age' feature\")"
   ]
  },
  {
   "cell_type": "code",
   "execution_count": null,
   "metadata": {
    "_uuid": "2aa3e6abd4f12f504c277e8b10fe094ab2660bcb"
   },
   "outputs": [],
   "source": [
    "sns.FacetGrid(habermans_dataset,hue='survival_class',size=5).map(sns.distplot,'year_of_operation').add_legend()\n",
    "plt.title(\"Histogram with PDF for 'year_of_operation' feature \")"
   ]
  },
  {
   "cell_type": "code",
   "execution_count": null,
   "metadata": {
    "_uuid": "ec2588100609e6831813cb04450ffda808bda499"
   },
   "outputs": [],
   "source": [
    "sns.FacetGrid(habermans_dataset,hue='survival_class',size=5).map(sns.distplot,'axillary_nodes').add_legend()\n",
    "plt.title(\"Histogram with PDF for 'axillary_nodes' feature\")"
   ]
  },
  {
   "cell_type": "markdown",
   "metadata": {
    "_uuid": "8e1babeb24f71f5bb715535aa86bd2f896c389be",
    "collapsed": true
   },
   "source": [
    "**Observation**:\n",
    "    \n",
    "1.In the histogram plots pf features 'year_of_operation' and 'age' , PDF of two plots show that , two classes ('survived>=5yrs' and 'survived<5yrs') overlapped (almost they are top on each other). So, we cannot consider both features as useful feature for our objective.\n",
    "\n",
    "\n",
    "2.Whereas in the histogram plot for feature 'axillary_nodes' . Even though there is an slight overlap between two PDF of classes (survived>=5yrs and survived<5yrs) but there is possibility of classifying results based on this feature when compared to other two features. \n",
    "\n",
    "For indetailed analysis , we will plot CDF,boxplots and violin plots for feature 'axillary_nodes'"
   ]
  },
  {
   "cell_type": "markdown",
   "metadata": {
    "_uuid": "d618f1c46b97d85c14a0ee7fd5a584f48ac7d3d2"
   },
   "source": [
    "### Univariate Analysis on 'axillary_nodes' feature"
   ]
  },
  {
   "cell_type": "markdown",
   "metadata": {
    "_uuid": "d8b2ef9313f1c65f837b34e77fb2b98aea3e76e9"
   },
   "source": [
    "#### Plotting CDF(Cumulative Distribution Function) for this feature . \n",
    "\n",
    "It is the cumsum of the PDFs'. It helps in determing the percentage of class is below or above at a given point.\n",
    "\n"
   ]
  },
  {
   "cell_type": "code",
   "execution_count": null,
   "metadata": {
    "_uuid": "29faea8a0d3a95b221dd8215084c74269f80152f"
   },
   "outputs": [],
   "source": [
    "count,bin_edges = np.histogram(habermans_dataset_class_1['axillary_nodes'],density=True,bins=10)\n",
    "PDF = count/sum(count)\n",
    "print(PDF)\n",
    "print(bin_edges)"
   ]
  },
  {
   "cell_type": "code",
   "execution_count": null,
   "metadata": {
    "_uuid": "31e1e5638ada226a4ed12ce6a0ccc5b1ff7592d4"
   },
   "outputs": [],
   "source": [
    "#plt.plot(bin_edges[1:],PDF)\n",
    "\n",
    "#computing CDF\n",
    "CDF = np.cumsum(PDF)\n",
    "print(CDF)"
   ]
  },
  {
   "cell_type": "code",
   "execution_count": null,
   "metadata": {
    "_uuid": "9dfd278ec22a1a8c336b23174f0f8b4c9e53cdb1"
   },
   "outputs": [],
   "source": [
    "plt.plot(bin_edges[1:],PDF,label = \"PDF\",)\n",
    "plt.plot(bin_edges[1:],CDF,label = \"CDF\")\n",
    "plt.legend()\n",
    "plt.xlabel(\"axillary_nodes\")\n",
    "plt.ylabel(\"probability\")\n",
    "plt.title(\"PDF and CDF of 'axillary_nodes' feature for survival_class = 'survived>=5yrs' \")"
   ]
  },
  {
   "cell_type": "markdown",
   "metadata": {
    "_uuid": "6f7df6ad90882fd2bca97d58f844f3db8910fa47"
   },
   "source": [
    "**Observation:**\n",
    "    \n",
    "  1. This is the plot of class-1(survived>=5yrs)\n",
    "    \n",
    "  2. From the given data we know that among 306 people,225 people have 'survived>=5yrs'.\n",
    "    \n",
    "  3. From the CDF in the graph we can say that approximately \"90%\" of the people who \"survived greater than 5yrs\" has \"count of axillary nodes <=10\"  \n",
    "    \n",
    "    i.e., approximately 202 people who has survived>=5yrs have 'count of axillary nodes less than or equal to 10'.\n",
    "    \n"
   ]
  },
  {
   "cell_type": "code",
   "execution_count": null,
   "metadata": {
    "_uuid": "e2e5d3a613d40c8fbb12de3793b0259a9707b2a9"
   },
   "outputs": [],
   "source": [
    "#### plot for two survival_classes\n",
    "\n",
    "#plot for 'survived>=5yrs'\n",
    "count,bin_edges = np.histogram(habermans_dataset_class_1['axillary_nodes'],bins=20,density=True)\n",
    "PDF = count/sum(count)\n",
    "#calculating CDF\n",
    "CDF = np.cumsum(PDF)\n",
    "plt.plot(bin_edges[1:],PDF,label=\"PDF of survived>=5yrs\")\n",
    "plt.plot(bin_edges[1:],CDF,label=\"CDF of survived>=5yrs\")\n",
    "\n",
    "#plot for 'survived<5yrs'\n",
    "count,bin_edges = np.histogram(habermans_dataset_class_2['axillary_nodes'],bins=20,density=True)\n",
    "PDF = count/sum(count)\n",
    "#calculating CDF\n",
    "CDF = np.cumsum(PDF)\n",
    "plt.plot(bin_edges[1:],PDF,label=\"PDF of survived<5yrs\")\n",
    "plt.plot(bin_edges[1:],CDF,label=\"CDF of survived<5yrs\")\n",
    "plt.legend()\n",
    "plt.xlabel(\"axillary_nodes\")\n",
    "plt.ylabel(\"probability\")\n",
    "plt.title(\"PDF and CDF of both survival_classes\")"
   ]
  },
  {
   "cell_type": "markdown",
   "metadata": {
    "_uuid": "14d9bf5151dfad25dd8ad4368d672d1be5ffa288"
   },
   "source": [
    "**Observation:**\n",
    "    \n",
    "1.**Our observation in above case has been ruled out ** as the CDF of \"survived<5yrs\" class show 70% of it's observations are for the patients who has (count of axillary_nodes less than equal to 10) . As we have stated our observation only by depending upon one class (survived>=5yrs)among two classes in the above observation.\n",
    "    \n",
    "2.In this plot, we can observe that there is an overlap between two PDFs'. \n",
    "    \n",
    "3.Even though there is overlapping between both. when we fix our threshold value to '5'(count of no.of axillary nodes to 5), then if we need to classify the new patient according to this feature then we might predict him to class who can 'survive 5yrs or more than 5yrs' because from the CDF of 'survived<=5yrs' show that 80% of it's observation have 'count of axillary nodes' <= 5 whereas 'survived>5yrs' class has only 45% of observations at that value.\n",
    "\n"
   ]
  },
  {
   "cell_type": "markdown",
   "metadata": {
    "_uuid": "66a5e556b72d77617898981d09a6dc5d08f09e5a"
   },
   "source": [
    "### Box Plot and Whiskers\n",
    "Let's analyze this feature by using box-plot"
   ]
  },
  {
   "cell_type": "code",
   "execution_count": null,
   "metadata": {
    "_uuid": "c4d29cad5504071670a24087c4668cd9bde498ed"
   },
   "outputs": [],
   "source": [
    "sns.boxplot(data = habermans_dataset,x=\"survival_class\",y=\"axillary_nodes\")"
   ]
  },
  {
   "cell_type": "markdown",
   "metadata": {
    "_uuid": "57c4e1125a7572cb21e2245f391e8ddc8bdf3b2c"
   },
   "source": [
    "**Observation:**\n",
    "   \n",
    "1.From this plot, it is evident that the class 'survived>=5yrs' has 75percentile of count of axillary nodes value less than 5. probably less than 4.\n",
    "\n",
    "2.The class 'survived<5yrs' has it's 50th percentile value more than the value of 75th percentile of 'survived>=5yrs' class.From the box plot of this class , it can be seen that most of it's values(count of axillary nodes) are '>6 and <12' (between 50th percentile and 75th percentile) of this class "
   ]
  },
  {
   "cell_type": "markdown",
   "metadata": {
    "_uuid": "55fd954e5859151114cbd7e5e887c3823ec52323"
   },
   "source": [
    "### Violin Plot"
   ]
  },
  {
   "cell_type": "code",
   "execution_count": null,
   "metadata": {
    "_uuid": "13aa1621cefb5b546252f4c06f92f51f8052bb58"
   },
   "outputs": [],
   "source": [
    "sns.violinplot(data = habermans_dataset,x='survival_class',y='axillary_nodes')"
   ]
  },
  {
   "cell_type": "markdown",
   "metadata": {
    "_uuid": "0ef2171bed28efce6c9f57ae7100dfa424afa196"
   },
   "source": [
    "## Conclusion:\n"
   ]
  },
  {
   "cell_type": "markdown",
   "metadata": {
    "_uuid": "0586b28a19022c067012044aa0c5c47d86fe04a6"
   },
   "source": [
    "1.Out of three features ('age','no.of.operations' and 'count of axillary_nodes') . 'axillary_nodes' is the best feature among three to classify the survival_class"
   ]
  },
  {
   "cell_type": "markdown",
   "metadata": {
    "_uuid": "5f34ea32eafd71366109c41f2bcdb69579f5982a"
   },
   "source": [
    "----------------------------------------------------------------------------------------------------------------------------\n",
    "class-1 : 'survived>=5yrs'\n",
    "\n",
    "class-2 : 'survived<5yrs'\n",
    "\n",
    "---------------------------------------------------------------------------------------------------------------------------"
   ]
  },
  {
   "cell_type": "markdown",
   "metadata": {
    "_uuid": "f7e1d85815e673d9f4e64a4259bc5d2c331fe02b"
   },
   "source": [
    "2.Even though 'axillary_nodes' feature has some overlappings among survival_class. but based on above observations we can classify that if the 'count of axillary nodes' is less than 5 , then it can be classified as 'survived>=5yrs' else it is more likely to fall under 'survived<5yrs' class."
   ]
  },
  {
   "cell_type": "code",
   "execution_count": null,
   "metadata": {
    "_uuid": "8aa8734ddeb2a02518c9108c24a61cc08c73c8dc",
    "collapsed": true
   },
   "outputs": [],
   "source": []
  }
 ],
 "metadata": {
  "kernelspec": {
   "display_name": "Python 3 (ipykernel)",
   "language": "python",
   "name": "python3"
  },
  "language_info": {
   "codemirror_mode": {
    "name": "ipython",
    "version": 3
   },
   "file_extension": ".py",
   "mimetype": "text/x-python",
   "name": "python",
   "nbconvert_exporter": "python",
   "pygments_lexer": "ipython3",
   "version": "3.10.9"
  }
 },
 "nbformat": 4,
 "nbformat_minor": 1
}
