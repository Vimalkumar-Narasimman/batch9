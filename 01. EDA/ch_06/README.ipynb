{
 "cells": [
  {
   "cell_type": "markdown",
   "id": "edd04ab4",
   "metadata": {},
   "source": [
    "# Chapter 6: Plotting with Seaborn and Customization Techniques\n",
    "\n",
    "This chapter continues the discussion on data visualization by teaching\n",
    "you how to use the `seaborn` library for visualizing your long form data\n",
    "and giving you the tools you need to customize your visualizations,\n",
    "making them presentation-ready.\n",
    "\n",
    "## Content\n",
    "\n",
    "There are three notebooks that we will work through, each numbered\n",
    "according to when they will be used:\n",
    "\n",
    "-   [`1-introduction_to_seaborn.ipynb`](./1-introduction_to_seaborn.ipynb):\n",
    "    introduces you to plotting with `seaborn`\n",
    "-   [`2-formatting_plots.ipynb`](./2-formatting_plots.ipynb): covers\n",
    "    formatting and labeling plots\n",
    "-   [`3-customizing_visualizations.ipynb`](./3-customizing_visualizations.ipynb):\n",
    "    provides some exposure to plot customizations including reference\n",
    "    lines, annotations, and custom colormaps\n",
    "\n",
    "------------------------------------------------------------------------\n",
    "\n",
    "There is also a **bonus** notebook that walks through an example of\n",
    "plotting data on a map using COVID-19 cases worldwide:\n",
    "[`covid19_cases_map.ipynb`](./covid19_cases_map.ipynb). It can be used\n",
    "to get started with maps in Python and also builds upon some of the\n",
    "formatting discussed in the chapter.\n",
    "\n",
    "------------------------------------------------------------------------\n",
    "\n",
    "In addition, we have two Python modules that contain functions that we\n",
    "will use in the aforementioned notebooks:\n",
    "\n",
    "-   [`color_utils.py`](./color_utils.py): includes various functions for\n",
    "    working with colors in Python\n",
    "-   [`viz.py`](./viz.py): contains one function for generating\n",
    "    regression and residuals plots for each pair of variables in the\n",
    "    dataset using `seaborn` and another function for generating a KDE\n",
    "    with reference lines for 1, 2, and 3 standard deviations from the\n",
    "    mean\n",
    "\n",
    "All the datasets necessary for the aforementioned notebooks, along with\n",
    "information on them, can be found in the [`data/`](./data) directory.\n",
    "The end-of-chapter exercises will use these datasets as well;"
   ]
  }
 ],
 "metadata": {
  "kernelspec": {
   "display_name": "Python 3 (ipykernel)",
   "language": "python",
   "name": "python3"
  },
  "language_info": {
   "codemirror_mode": {
    "name": "ipython",
    "version": 3
   },
   "file_extension": ".py",
   "mimetype": "text/x-python",
   "name": "python",
   "nbconvert_exporter": "python",
   "pygments_lexer": "ipython3",
   "version": "3.10.9"
  }
 },
 "nbformat": 4,
 "nbformat_minor": 5
}
