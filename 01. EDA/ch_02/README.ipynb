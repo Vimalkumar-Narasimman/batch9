{
 "cells": [
  {
   "cell_type": "markdown",
   "id": "63d4a2ad",
   "metadata": {},
   "source": [
    "# Chapter 2: Working with Pandas DataFrames\n",
    "\n",
    "This chapter introduces you to the `pandas` library and shows you the\n",
    "basics of working with `DataFrame` objects.\n",
    "\n",
    "## Content\n",
    "\n",
    "There are six notebooks that we will work through, each numbered\n",
    "according to when they will be used:\n",
    "\n",
    "-   [`1-pandas_data_structures.ipynb`](./1-pandas_data_structures.ipynb):\n",
    "    discusses the main `pandas` data structures and why we need them\n",
    "-   [`2-creating_dataframes.ipynb`](./2-creating_dataframes.ipynb):\n",
    "    walks through creating `DataFrame` objects from a variety of data\n",
    "    sources, such as flat files, SQL queries, and other Python objects\n",
    "-   [`3-making_dataframes_from_api_requests.ipynb`](./3-making_dataframes_from_api_requests.ipynb):\n",
    "    shows how to collect data from an API and create a `DataFrame`\n",
    "    object with the result, using the [USGS earthquake\n",
    "    API](https://earthquake.usgs.gov/fdsnws/event/1/)\n",
    "-   [`4-inspecting_dataframes.ipynb`](./4-inspecting_dataframes.ipynb):\n",
    "    illustrates how perform an initial inspection of the data, including\n",
    "    displaying the `DataFrame` object and summarizing the contents\n",
    "-   [`5-subsetting_data.ipynb`](./5-subsetting_data.ipynb): showcases\n",
    "    strategies for subsetting the data by rows, columns, and/or Boolean\n",
    "    criteria\n",
    "-   [`6-adding_and_removing_data.ipynb`](./6-adding_and_removing_data.ipynb):\n",
    "    provides examples of adding additional rows/columns and removing\n",
    "    rows/columns from a `DataFrame` object\n",
    "\n",
    "All the datasets necessary for the aforementioned notebooks, along with\n",
    "information on them, can be found in the [`data/`](./data) directory.\n",
    "The end-of-chapter exercises will use these datasets as well; "
   ]
  }
 ],
 "metadata": {
  "kernelspec": {
   "display_name": "Python 3 (ipykernel)",
   "language": "python",
   "name": "python3"
  },
  "language_info": {
   "codemirror_mode": {
    "name": "ipython",
    "version": 3
   },
   "file_extension": ".py",
   "mimetype": "text/x-python",
   "name": "python",
   "nbconvert_exporter": "python",
   "pygments_lexer": "ipython3",
   "version": "3.10.9"
  }
 },
 "nbformat": 4,
 "nbformat_minor": 5
}
