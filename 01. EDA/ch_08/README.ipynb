{
 "cells": [
  {
   "cell_type": "markdown",
   "id": "a4ea2be3",
   "metadata": {},
   "source": [
    "# Chapter 8: Rule-Based Anomaly Detection\n",
    "\n",
    "This chapter covers [simulating\n",
    "data](https://github.com/stefmolin/login-attempt-simulator) and applying\n",
    "everything learned in chapters 1-6 to catching hackers attempting to\n",
    "authenticate to a website, using rule-based strategies for anomaly\n",
    "detection.\n",
    "\n",
    "## Content\n",
    "\n",
    "After discussing how to build the `login_attempt_simulator` package, we\n",
    "will build the `simulate.py` script for running the simulation. The\n",
    "simulation will generate the files in the `logs/` and `user_data/`\n",
    "directories. Then, we will use the simulated data in the `logs/`\n",
    "directory to conduct our analysis in the `anomaly_detection.ipynb`\n",
    "notebook.\n",
    "\n",
    "All of the aforementioned files are provided in this directory:\n",
    "\n",
    "-   [`logs/`](./logs): Directory containing all simulated log files for\n",
    "    the analysis\n",
    "-   [`user_data/`](./user_data): Directory containing information on the\n",
    "    user base used for the simulation (for the `simulate.py` script to\n",
    "    use)\n",
    "-   [`anomaly_detection.ipynb`](./anomaly_detection.ipynb): Jupyter\n",
    "    notebook used to perform our analysis\n",
    "-   [`simulate.py`](./simulate.py): Python script for simulating the\n",
    "    data using the [`login_attempt_simulator`\n",
    "    package](https://github.com/stefmolin/login-attempt-simulator)\n",
    "\n",
    "The end-of-chapter exercises will use the [`simulate.py`](./simulate.py)\n",
    "script to generate a new dataset; "
   ]
  }
 ],
 "metadata": {
  "kernelspec": {
   "display_name": "Python 3 (ipykernel)",
   "language": "python",
   "name": "python3"
  },
  "language_info": {
   "codemirror_mode": {
    "name": "ipython",
    "version": 3
   },
   "file_extension": ".py",
   "mimetype": "text/x-python",
   "name": "python",
   "nbconvert_exporter": "python",
   "pygments_lexer": "ipython3",
   "version": "3.10.9"
  }
 },
 "nbformat": 4,
 "nbformat_minor": 5
}
