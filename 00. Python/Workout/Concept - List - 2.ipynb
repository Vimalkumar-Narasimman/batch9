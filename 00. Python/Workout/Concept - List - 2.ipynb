{
 "cells": [
  {
   "cell_type": "code",
   "execution_count": null,
   "id": "824b2021",
   "metadata": {},
   "outputs": [],
   "source": [
    "# Find average of all even numbers in the list\n",
    "# [5, 6, 3, 7, 8, 9, 2, 10, 12]"
   ]
  },
  {
   "cell_type": "code",
   "execution_count": null,
   "id": "6fd8a5d5",
   "metadata": {},
   "outputs": [],
   "source": [
    "nums = [5, 6, 3, 7, 8, 9, 2, 10, 12]\n",
    "sumofeven = 0\n",
    "countofeven = 0\n",
    "for val in nums:\n",
    "    if val % 2 == 0:\n",
    "        sumofeven += val\n",
    "        countofeven += 1\n",
    "        \n",
    "print(f'average of all even numbers is: {sumofeven/countofeven}')"
   ]
  },
  {
   "cell_type": "code",
   "execution_count": null,
   "id": "5bbb1e86",
   "metadata": {},
   "outputs": [],
   "source": [
    "even = []\n",
    "for val in nums:\n",
    "    if val % 2 == 0:\n",
    "        even.append(val)\n",
    "print(f'average of all even numbers is: {sum(even)/len(even)}')\n",
    "print(f'min of even numbers is: {min(even)}')\n",
    "print(f'max of even numbers is: {max(even)}')\n",
    "print(f'count of even numbers is: {len(even)}')"
   ]
  },
  {
   "cell_type": "code",
   "execution_count": 3,
   "id": "a03304ab",
   "metadata": {},
   "outputs": [
    {
     "name": "stdout",
     "output_type": "stream",
     "text": [
      "0 [1, 2, 3] <class 'list'>\n",
      "1 [4, 5, 6] <class 'list'>\n",
      "2 [7, 8, 9] <class 'list'>\n"
     ]
    }
   ],
   "source": [
    "#List of list\n",
    "#[[1, 2, 3], [4, 5, 6], [7, 8, 9]]\n",
    "matrix = [[1, 2, 3], [4, 5, 6], [7, 8, 9]]\n",
    "for rowNum, row in enumerate(matrix):\n",
    "    print(rowNum, row, type(row))\n"
   ]
  },
  {
   "cell_type": "code",
   "execution_count": 5,
   "id": "6995d8ef",
   "metadata": {},
   "outputs": [
    {
     "name": "stdout",
     "output_type": "stream",
     "text": [
      "[1, 2, 3, 4, 5, 6, 7, 8, 9]\n"
     ]
    }
   ],
   "source": [
    "matrix = [[1, 2, 3], [4, 5, 6], [7, 8, 9]]\n",
    "flatten = []\n",
    "for row in matrix:\n",
    "    for col in row:\n",
    "        flatten.append(col)\n",
    "print(flatten)"
   ]
  },
  {
   "cell_type": "code",
   "execution_count": 6,
   "id": "9b371642",
   "metadata": {},
   "outputs": [
    {
     "data": {
      "text/plain": [
       "[1, 2, 3, 4, 5, 6, 7, 8, 9]"
      ]
     },
     "execution_count": 6,
     "metadata": {},
     "output_type": "execute_result"
    }
   ],
   "source": [
    "#List Comprehensions\n",
    "[ col for row in matrix for col in row ]"
   ]
  },
  {
   "cell_type": "code",
   "execution_count": 7,
   "id": "1714f432",
   "metadata": {},
   "outputs": [
    {
     "data": {
      "text/plain": [
       "[8, 6, 2]"
      ]
     },
     "execution_count": 7,
     "metadata": {},
     "output_type": "execute_result"
    }
   ],
   "source": [
    "nums = [5, 3, 8 ,6 ,2, 7, 1]\n",
    "[val for val in nums if val % 2 == 0]"
   ]
  },
  {
   "cell_type": "code",
   "execution_count": 8,
   "id": "2d4e069b",
   "metadata": {},
   "outputs": [
    {
     "data": {
      "text/plain": [
       "[True, False, False]"
      ]
     },
     "execution_count": 8,
     "metadata": {},
     "output_type": "execute_result"
    }
   ],
   "source": [
    "nums = [5, 3, 8 ,6 ,2, 7, 1]\n",
    "[True if val % 4 == 0 else False for val in nums if val % 2 == 0]"
   ]
  },
  {
   "cell_type": "code",
   "execution_count": 11,
   "id": "dcbe6475",
   "metadata": {},
   "outputs": [
    {
     "data": {
      "text/plain": [
       "[65, 45, 55, 35]"
      ]
     },
     "execution_count": 11,
     "metadata": {},
     "output_type": "execute_result"
    }
   ],
   "source": [
    "nums = [40, 65, 54, 45, 55, 50, 35, 30, 33]\n",
    "[ val for val in nums if val % 2 == 1 and val % 5 == 0]"
   ]
  },
  {
   "cell_type": "code",
   "execution_count": 28,
   "id": "f945530f",
   "metadata": {},
   "outputs": [
    {
     "data": {
      "text/plain": [
       "[(1, 2, 3), (4, 5, 6), (7, 8, 9)]"
      ]
     },
     "execution_count": 28,
     "metadata": {},
     "output_type": "execute_result"
    }
   ],
   "source": [
    "r0 = [1,2,3]\n",
    "r1 = [4,5,6]\n",
    "r2 = [7,8,9]\n",
    "ziped = zip(r0,r1,r2)\n",
    "list(zip(*ziped))"
   ]
  },
  {
   "cell_type": "code",
   "execution_count": 25,
   "id": "97fac230",
   "metadata": {},
   "outputs": [
    {
     "name": "stdout",
     "output_type": "stream",
     "text": [
      "[[1, 4, 7], [2, 5, 8], [3, 6, 9]]\n"
     ]
    }
   ],
   "source": [
    "matrix = [[1, 2, 3], [4, 5, 6], [7, 8, 9]]\n",
    "T = []\n",
    "#list(zip(*matrix))\n",
    "#[[row[i] for row in matrix] for i in range(len(matrix))]\n",
    "for i in range(len(matrix)):\n",
    "    r = []\n",
    "    for row in matrix:\n",
    "        r.append(row[i])\n",
    "    T.append(r)\n",
    "print(T)"
   ]
  },
  {
   "cell_type": "code",
   "execution_count": 20,
   "id": "db1f6de8",
   "metadata": {},
   "outputs": [
    {
     "name": "stdout",
     "output_type": "stream",
     "text": [
      "[[1 2 3]\n",
      " [4 5 6]\n",
      " [7 8 9]]\n",
      "[[1 4 7]\n",
      " [2 5 8]\n",
      " [3 6 9]]\n"
     ]
    },
    {
     "ename": "LinAlgError",
     "evalue": "Singular matrix",
     "output_type": "error",
     "traceback": [
      "\u001b[1;31m---------------------------------------------------------------------------\u001b[0m",
      "\u001b[1;31mLinAlgError\u001b[0m                               Traceback (most recent call last)",
      "Cell \u001b[1;32mIn[20], line 6\u001b[0m\n\u001b[0;32m      4\u001b[0m \u001b[38;5;28mprint\u001b[39m(matrix)\n\u001b[0;32m      5\u001b[0m \u001b[38;5;28mprint\u001b[39m(matrix\u001b[38;5;241m.\u001b[39mT)\n\u001b[1;32m----> 6\u001b[0m \u001b[38;5;28mprint\u001b[39m(\u001b[43mnp\u001b[49m\u001b[38;5;241;43m.\u001b[39;49m\u001b[43mlinalg\u001b[49m\u001b[38;5;241;43m.\u001b[39;49m\u001b[43minv\u001b[49m\u001b[43m(\u001b[49m\u001b[43mmatrix\u001b[49m\u001b[43m)\u001b[49m)\n",
      "File \u001b[1;32m<__array_function__ internals>:180\u001b[0m, in \u001b[0;36minv\u001b[1;34m(*args, **kwargs)\u001b[0m\n",
      "File \u001b[1;32m~\\AppData\\Local\\Programs\\Python\\Python310\\lib\\site-packages\\numpy\\linalg\\linalg.py:552\u001b[0m, in \u001b[0;36minv\u001b[1;34m(a)\u001b[0m\n\u001b[0;32m    550\u001b[0m signature \u001b[38;5;241m=\u001b[39m \u001b[38;5;124m'\u001b[39m\u001b[38;5;124mD->D\u001b[39m\u001b[38;5;124m'\u001b[39m \u001b[38;5;28;01mif\u001b[39;00m isComplexType(t) \u001b[38;5;28;01melse\u001b[39;00m \u001b[38;5;124m'\u001b[39m\u001b[38;5;124md->d\u001b[39m\u001b[38;5;124m'\u001b[39m\n\u001b[0;32m    551\u001b[0m extobj \u001b[38;5;241m=\u001b[39m get_linalg_error_extobj(_raise_linalgerror_singular)\n\u001b[1;32m--> 552\u001b[0m ainv \u001b[38;5;241m=\u001b[39m \u001b[43m_umath_linalg\u001b[49m\u001b[38;5;241;43m.\u001b[39;49m\u001b[43minv\u001b[49m\u001b[43m(\u001b[49m\u001b[43ma\u001b[49m\u001b[43m,\u001b[49m\u001b[43m \u001b[49m\u001b[43msignature\u001b[49m\u001b[38;5;241;43m=\u001b[39;49m\u001b[43msignature\u001b[49m\u001b[43m,\u001b[49m\u001b[43m \u001b[49m\u001b[43mextobj\u001b[49m\u001b[38;5;241;43m=\u001b[39;49m\u001b[43mextobj\u001b[49m\u001b[43m)\u001b[49m\n\u001b[0;32m    553\u001b[0m \u001b[38;5;28;01mreturn\u001b[39;00m wrap(ainv\u001b[38;5;241m.\u001b[39mastype(result_t, copy\u001b[38;5;241m=\u001b[39m\u001b[38;5;28;01mFalse\u001b[39;00m))\n",
      "File \u001b[1;32m~\\AppData\\Local\\Programs\\Python\\Python310\\lib\\site-packages\\numpy\\linalg\\linalg.py:89\u001b[0m, in \u001b[0;36m_raise_linalgerror_singular\u001b[1;34m(err, flag)\u001b[0m\n\u001b[0;32m     88\u001b[0m \u001b[38;5;28;01mdef\u001b[39;00m \u001b[38;5;21m_raise_linalgerror_singular\u001b[39m(err, flag):\n\u001b[1;32m---> 89\u001b[0m     \u001b[38;5;28;01mraise\u001b[39;00m LinAlgError(\u001b[38;5;124m\"\u001b[39m\u001b[38;5;124mSingular matrix\u001b[39m\u001b[38;5;124m\"\u001b[39m)\n",
      "\u001b[1;31mLinAlgError\u001b[0m: Singular matrix"
     ]
    }
   ],
   "source": [
    "import numpy as np\n",
    "\n",
    "matrix = np.array([[1, 2, 3], [4, 5, 6], [7, 8, 9]])\n",
    "print(matrix)\n",
    "print(matrix.T)\n",
    "#print(np.linalg.inv(matrix))"
   ]
  }
 ],
 "metadata": {
  "kernelspec": {
   "display_name": "Python 3 (ipykernel)",
   "language": "python",
   "name": "python3"
  },
  "language_info": {
   "codemirror_mode": {
    "name": "ipython",
    "version": 3
   },
   "file_extension": ".py",
   "mimetype": "text/x-python",
   "name": "python",
   "nbconvert_exporter": "python",
   "pygments_lexer": "ipython3",
   "version": "3.10.9"
  }
 },
 "nbformat": 4,
 "nbformat_minor": 5
}
