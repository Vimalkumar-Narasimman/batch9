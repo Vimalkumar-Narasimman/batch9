{
 "cells": [
  {
   "cell_type": "code",
   "execution_count": null,
   "id": "3a191d34",
   "metadata": {},
   "outputs": [],
   "source": [
    "range(9)"
   ]
  },
  {
   "cell_type": "code",
   "execution_count": null,
   "id": "e47df131",
   "metadata": {},
   "outputs": [],
   "source": [
    "range(0, 10, 2)"
   ]
  },
  {
   "cell_type": "code",
   "execution_count": null,
   "id": "2fa1b244",
   "metadata": {},
   "outputs": [],
   "source": [
    "# for iteration in range():\n",
    "\n",
    "for i in range(10):\n",
    "    print(i)"
   ]
  },
  {
   "cell_type": "code",
   "execution_count": null,
   "id": "2b347f2c",
   "metadata": {},
   "outputs": [],
   "source": [
    "for i in range(10, 3, -2):\n",
    "    print(i)"
   ]
  },
  {
   "cell_type": "code",
   "execution_count": null,
   "id": "c71c804c",
   "metadata": {},
   "outputs": [],
   "source": [
    "for i in range(3, 10, 2):\n",
    "    print(i)"
   ]
  },
  {
   "cell_type": "code",
   "execution_count": null,
   "id": "a4456054",
   "metadata": {},
   "outputs": [],
   "source": [
    "for i in range(3, 10, -2):\n",
    "    print(i)"
   ]
  },
  {
   "cell_type": "code",
   "execution_count": null,
   "id": "00403d0d",
   "metadata": {},
   "outputs": [],
   "source": [
    "# for value in sequence:\n",
    "\n",
    "for val in 'Python':\n",
    "    print(val)"
   ]
  },
  {
   "cell_type": "code",
   "execution_count": null,
   "id": "06d6bb0a",
   "metadata": {},
   "outputs": [],
   "source": [
    "text = 'Python'\n",
    "text[0:5]"
   ]
  },
  {
   "cell_type": "code",
   "execution_count": null,
   "id": "31209479",
   "metadata": {},
   "outputs": [],
   "source": [
    "text = 'Python'\n",
    "\n",
    "for i in range(len(text)):\n",
    "    print(i, '==>', text[i])"
   ]
  },
  {
   "cell_type": "code",
   "execution_count": null,
   "id": "0146f424",
   "metadata": {},
   "outputs": [],
   "source": [
    "# else will run end of the loop\n",
    "for val in 'Python':\n",
    "    print(val)\n",
    "else:\n",
    "    print('End of the loop')"
   ]
  },
  {
   "cell_type": "code",
   "execution_count": null,
   "id": "a6b6ddf4",
   "metadata": {},
   "outputs": [],
   "source": [
    "for i in range(3, 10, -2):\n",
    "    print(i)\n",
    "else:\n",
    "    print('End of the loop')"
   ]
  },
  {
   "cell_type": "code",
   "execution_count": null,
   "id": "8198b5c1",
   "metadata": {},
   "outputs": [],
   "source": [
    "sumoften = 0\n",
    "for i in range(1, 11):\n",
    "    sumoften += i\n",
    "#print(f'Sum of first 10 numbers is : {sumoften}')\n",
    "print('Sum of first 10 numbers is :', sumoften)"
   ]
  },
  {
   "cell_type": "code",
   "execution_count": null,
   "id": "faface66",
   "metadata": {},
   "outputs": [],
   "source": [
    "# break is used to break the loop execution, hence else part won't execute\n",
    "for val in 'Python':\n",
    "    if val.lower() in 'aeiou':\n",
    "        break;\n",
    "    print(val)\n",
    "else:\n",
    "    print('End of the loop')"
   ]
  },
  {
   "cell_type": "code",
   "execution_count": null,
   "id": "2026848a",
   "metadata": {},
   "outputs": [],
   "source": [
    "# find a number is prime or not\n",
    "num = 9\n",
    "for i in range(2, num):\n",
    "    if num % i == 0:\n",
    "        print(f'{num} is not prime, because it is divided by {i}')\n",
    "        break\n",
    "else:\n",
    "    print(f'{num} is prime')"
   ]
  },
  {
   "cell_type": "code",
   "execution_count": null,
   "id": "e0a510bb",
   "metadata": {},
   "outputs": [],
   "source": [
    "text = 'The for loop enables you to execute a code block multiple times'\n",
    "vowelCount = 0\n",
    "nonVowelCount = 0\n",
    "spaceCount = 0\n",
    "for val in text:\n",
    "    if val != ' ':\n",
    "        if val.lower() in 'aeiou':\n",
    "            vowelCount += 1 # vowelCount = vowelCount + 1\n",
    "        else:\n",
    "            nonVowelCount += 1 # nonVowelCount = nonVowelCount + 1\n",
    "    else:   \n",
    "        spaceCount += 1\n",
    "print(f'There are {len(text)} characters in the text')\n",
    "print(f'There are {spaceCount} Spaces')\n",
    "print(f'There are {vowelCount} vowels')\n",
    "print(f'There are {nonVowelCount} non-vowels')"
   ]
  },
  {
   "cell_type": "code",
   "execution_count": null,
   "id": "8f719a46",
   "metadata": {},
   "outputs": [],
   "source": [
    "number = 564\n",
    "#sum of digit\n",
    "\n",
    "sumofdigit = 0\n",
    "for num in str(number):\n",
    "    sumofdigit += int(num)\n",
    "print(f'{number} sum of digit is {sumofdigit}')"
   ]
  },
  {
   "cell_type": "code",
   "execution_count": null,
   "id": "17461878",
   "metadata": {},
   "outputs": [],
   "source": [
    "#While loop #sum of digit\n",
    "number = 564\n",
    "sumofdigit = 0\n",
    "while number != 0:\n",
    "    #sumofdigit = sumofdigit + number % 10\n",
    "    sumofdigit += number % 10\n",
    "    #number = number // 10\n",
    "    number //= 10\n",
    "print(f'{number} sum of digit is {sumofdigit}')\n"
   ]
  },
  {
   "cell_type": "code",
   "execution_count": null,
   "id": "294c21ae",
   "metadata": {},
   "outputs": [],
   "source": [
    "# 324 == > 423\n",
    "number = 654\n",
    "rev = 0\n",
    "while number != 0:\n",
    "    rev = (rev * 10) + (number % 10)\n",
    "    number //= 10\n",
    "print(f'rev is {rev}')\n"
   ]
  },
  {
   "cell_type": "code",
   "execution_count": null,
   "id": "c079ee64",
   "metadata": {},
   "outputs": [],
   "source": [
    "# Program to display the Fibonacci sequence up to n\n",
    "# n = 6\n",
    "# 1, 1, 2, 3, 5, 8\n",
    "n = 15\n",
    "x, y = 0, 1\n",
    "for i in range(n):     \n",
    "    print(y)\n",
    "    x, y = y, x+y\n"
   ]
  },
  {
   "cell_type": "code",
   "execution_count": null,
   "id": "b0ccea20",
   "metadata": {},
   "outputs": [],
   "source": [
    "#Amstrong Number 153 = 1**3 + 5**3 + 3**3\n",
    "#Amstrong Number 1634 = 1**4 + 6**4 + 3**4 + 4**4\n",
    "number = 1530\n",
    "n = number\n",
    "order = len(str(number))\n",
    "ams = 0\n",
    "while number != 0:\n",
    "    ams += (number % 10) ** order\n",
    "    number //= 10\n",
    "if n == ams:\n",
    "    print(f'{n} is Amstrong Number')\n",
    "else:\n",
    "    print(f'{n} is NOT Amstrong Number')\n"
   ]
  },
  {
   "cell_type": "code",
   "execution_count": null,
   "id": "260eb948",
   "metadata": {},
   "outputs": [],
   "source": [
    "#LCM and HCF\n",
    "#print the all perfect divider of the given number otherthan 1 and self\n",
    "#*\n",
    "#* *\n",
    "#* * *\n",
    "#* * * *"
   ]
  },
  {
   "cell_type": "code",
   "execution_count": null,
   "id": "b96d007e",
   "metadata": {},
   "outputs": [],
   "source": [
    "n = 4\n",
    "for i in range(1, n+1):\n",
    "    for j in range(i):\n",
    "        print('* ', end='')\n",
    "    print()"
   ]
  },
  {
   "cell_type": "code",
   "execution_count": null,
   "id": "feff6ca3",
   "metadata": {},
   "outputs": [],
   "source": [
    "n = 4\n",
    "for i in range(1, n+1):\n",
    "    for j in range(i):\n",
    "        print(i, ' ', end='')\n",
    "    print()"
   ]
  },
  {
   "cell_type": "code",
   "execution_count": null,
   "id": "45f0709a",
   "metadata": {},
   "outputs": [],
   "source": [
    "n = 4\n",
    "m = 1\n",
    "for i in range(n, 0 , -1):\n",
    "    for j in range(i):\n",
    "        print(m, ' ', end='')\n",
    "        m += 1\n",
    "    print()"
   ]
  },
  {
   "cell_type": "code",
   "execution_count": null,
   "id": "02d9169e",
   "metadata": {},
   "outputs": [],
   "source": [
    "n = 10\n",
    "for i in range(1, n+1):   \n",
    "    s = (n * 2) - (i * 2)\n",
    "    print(' ' * s, end = '')\n",
    "    for j in range(i):\n",
    "        print(' *', end='')\n",
    "    print()"
   ]
  },
  {
   "cell_type": "code",
   "execution_count": null,
   "id": "a9cf3cdd",
   "metadata": {},
   "outputs": [],
   "source": [
    "n = 3\n",
    "m = 1\n",
    "for i in range(1, n+1):   \n",
    "    s = (n * 2) - (i * 2)\n",
    "    print(' ' * s, end = '')\n",
    "    for j in range(i):\n",
    "        print(f' {m}', end='')\n",
    "        m +=1\n",
    "    print()"
   ]
  },
  {
   "cell_type": "code",
   "execution_count": null,
   "id": "6495a4f9",
   "metadata": {},
   "outputs": [],
   "source": [
    "    *\n",
    "  *   *\n",
    "*   *    *"
   ]
  }
 ],
 "metadata": {
  "kernelspec": {
   "display_name": "Python 3 (ipykernel)",
   "language": "python",
   "name": "python3"
  },
  "language_info": {
   "codemirror_mode": {
    "name": "ipython",
    "version": 3
   },
   "file_extension": ".py",
   "mimetype": "text/x-python",
   "name": "python",
   "nbconvert_exporter": "python",
   "pygments_lexer": "ipython3",
   "version": "3.10.9"
  }
 },
 "nbformat": 4,
 "nbformat_minor": 5
}
