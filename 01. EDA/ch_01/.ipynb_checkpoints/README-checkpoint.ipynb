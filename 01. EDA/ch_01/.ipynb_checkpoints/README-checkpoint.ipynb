{
 "cells": [
  {
   "cell_type": "markdown",
   "id": "b3233a65",
   "metadata": {},
   "source": [
    "# Chapter 1: Introduction to Data Analysis\n",
    "\n",
    "This chapter will describe you the fundamentals of data analysis, give you\n",
    "a foundation in statistics, and get your environment set up for working\n",
    "with data in Python and using Jupyter Notebooks.\n",
    "\n",
    "## Content\n",
    "\n",
    "The first half of the chapter will be an overview of the data analysis\n",
    "and statistics concepts necessary to work through the book; feel free to\n",
    "follow along in the\n",
    "[`introduction_to_data_analysis.ipynb`](./introduction_to_data_analysis.ipynb)\n",
    "Jupyter Notebook.\n",
    "\n",
    "Afterward, we will walk through setting up a virtual environment for\n",
    "working through the book. In order to validate the setup, we will use\n",
    "the [`checking_your_setup.ipynb`](./checking_your_setup.ipynb) Jupyter\n",
    "Notebook. Under the hood, this uses the\n",
    "[`check_environment.py`](./check_environment.py) module.\n",
    "\n",
    "The end-of-chapter exercises will use the\n",
    "[`exercises.ipynb`](./exercises.ipynb) Jupyter Notebook; \n",
    "\n",
    "*Tip: Use the [`python_101.ipynb`](./python_101.ipynb) Jupyter Notebook\n",
    "for a Python crash-course/refresher, if needed.*"
   ]
  }
 ],
 "metadata": {
  "kernelspec": {
   "display_name": "Python 3 (ipykernel)",
   "language": "python",
   "name": "python3"
  },
  "language_info": {
   "codemirror_mode": {
    "name": "ipython",
    "version": 3
   },
   "file_extension": ".py",
   "mimetype": "text/x-python",
   "name": "python",
   "nbconvert_exporter": "python",
   "pygments_lexer": "ipython3",
   "version": "3.10.9"
  }
 },
 "nbformat": 4,
 "nbformat_minor": 5
}
