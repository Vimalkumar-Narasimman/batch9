{
 "cells": [
  {
   "cell_type": "markdown",
   "metadata": {},
   "source": [
    "# Chapter 7: Financial Analysis – Bitcoin and the Stock Market\n",
    "\n",
    "This chapter walks you through the creation of the\n",
    "[`stock_analysis`](https://github.com/stefmolin/stock-analysis) Python\n",
    "package, building upon everything learned in chapters 1-6 and applying\n",
    "it to a financial application.\n",
    "\n",
    "## Content\n",
    "\n",
    "After discussing how to build a Python package, we will walk through the\n",
    "creation of each of the classes used for collecting stock data,\n",
    "visualizing asset performance, performing technical analysis on\n",
    "financial instruments, and modeling performance using historical data.\n",
    "As we go through these classes, we will use them to work through the\n",
    "[`financial_analysis.ipynb`](./financial_analysis.ipynb) notebook.\n",
    "\n",
    "The end-of-chapter exercises provide additional exposure to financial\n",
    "data using the `stock_analysis` package; solutions to these exercises\n",
    "can be found in the repository's\n",
    "[`solutions/ch_07/`](../solutions/ch_07) directory.\n",
    "\n",
    "*Note: if you experience issues collecting the data with the\n",
    "`stock_analysis` package, you can read in the CSV files from the\n",
    "[`data/`](./data) directory to follow along with the text and from the\n",
    "[`exercises/`](./exercises) directory to work through the exercises.*"
   ]
  }
 ],
 "nbformat": 4,
 "nbformat_minor": 5,
 "metadata": {}
}
