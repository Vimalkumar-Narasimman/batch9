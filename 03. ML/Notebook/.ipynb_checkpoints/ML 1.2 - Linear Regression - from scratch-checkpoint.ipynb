{
 "cells": [
  {
   "cell_type": "code",
   "execution_count": null,
   "metadata": {
    "scrolled": false
   },
   "outputs": [],
   "source": [
    "from statistics import mean\n",
    "import numpy as np\n",
    "import matplotlib.pyplot as plt\n",
    "from matplotlib import style\n",
    "\n",
    "#data\n",
    "xs = np.array([1,2,3,4,5,6], dtype=np.float64) \n",
    "ys = np.array([5,4,6,5,6,8], dtype=np.float64)\n",
    "\n",
    "plt.scatter(xs, ys)\n",
    "plt.show()"
   ]
  },
  {
   "cell_type": "markdown",
   "metadata": {},
   "source": [
    "Based on given data, we want to find a linear function that fits this data in the \"best possible way\" (to be more precise where the squarred error is at an minimum). With this function we can then also make predictions.\n",
    "The function has the form y = m*x+b. Our task is to find what the best m (=slope) and b (=bias) is to model our data. \n",
    "m and b are given by:\n",
    "\n",
    "$$m=\\frac{\\overline{x}\\cdot\\overline{y}-\\overline{xy}}{(\\overline{x})^2-\\overline{x^2}} \\qquad b=\\overline{y}-m\\overline{x}$$\n",
    "\n",
    "Where the overbar denotes the mean i.e $\\overline x = \\frac{\\sum x_i}{n}$. "
   ]
  },
  {
   "cell_type": "code",
   "execution_count": null,
   "metadata": {
    "scrolled": false
   },
   "outputs": [],
   "source": [
    "m = (((mean(xs)*mean(ys)) - mean(xs*ys)) / ((mean(xs)**2) - mean(xs**2)))\n",
    "print(\"m: \", m)\n",
    "\n",
    "b = mean(ys) - m * mean(xs)\n",
    "print(\"b: \", b)\n",
    "\n",
    "# we want to see how well we are doing so we calculate R-squared (a statistical measauremnt for regression models)\n",
    "# R-squared ranges from 0 to 1 where the higher the value, the better the model is\n",
    "def squared_error(ys_orig,ys_line):\n",
    "    return sum((ys_line - ys_orig) * (ys_line - ys_orig))\n",
    "\n",
    "regression_line = [m*x + b for x in xs]\n",
    "y_mean_line = [mean(ys) for y in ys]\n",
    "\n",
    "squared_error_regr = squared_error(ys, regression_line)\n",
    "squared_error_y_mean = squared_error(ys, y_mean_line)\n",
    "    \n",
    "r_squared = 1 - (squared_error_regr/squared_error_y_mean)\n",
    "print(\"r_squared\", r_squared)"
   ]
  },
  {
   "cell_type": "code",
   "execution_count": null,
   "metadata": {},
   "outputs": [],
   "source": [
    "# we now want to use our model to predict the next point given an input of 8\n",
    "predict_x = 8\n",
    "predict_y = m*predict_x + b\n",
    "print(predict_y)"
   ]
  },
  {
   "cell_type": "code",
   "execution_count": null,
   "metadata": {},
   "outputs": [],
   "source": [
    "# plotting\n",
    "style.use('ggplot')\n",
    "plt.scatter(xs,ys,color='#003F72')\n",
    "plt.scatter(predict_x, predict_y, color = \"g\")\n",
    "plt.plot(xs, regression_line)\n",
    "plt.show()"
   ]
  },
  {
   "cell_type": "code",
   "execution_count": null,
   "metadata": {},
   "outputs": [],
   "source": []
  }
 ],
 "metadata": {
  "kernelspec": {
   "display_name": "Python 3 (ipykernel)",
   "language": "python",
   "name": "python3"
  },
  "language_info": {
   "codemirror_mode": {
    "name": "ipython",
    "version": 3
   },
   "file_extension": ".py",
   "mimetype": "text/x-python",
   "name": "python",
   "nbconvert_exporter": "python",
   "pygments_lexer": "ipython3",
   "version": "3.10.9"
  }
 },
 "nbformat": 4,
 "nbformat_minor": 2
}
