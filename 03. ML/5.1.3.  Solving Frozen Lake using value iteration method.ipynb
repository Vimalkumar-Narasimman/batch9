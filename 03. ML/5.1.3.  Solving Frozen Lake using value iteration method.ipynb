{
 "cells": [
  {
   "cell_type": "markdown",
   "metadata": {},
   "source": [
    "# Solving Frozen Lake Problem Using Value Iteration"
   ]
  },
  {
   "cell_type": "markdown",
   "metadata": {},
   "source": [
    "## Goal:\n",
    "\n",
    "Imagine, there is a frozen lake from your home to office, you should walk on the frozen lake\n",
    "to reach your office. But oops! there will be a hole in the frozen lake in between, so you have\n",
    "to be careful while walking in the frozen lake to avoid getting trapped at holes.\n",
    "Look at the below figure where, \n",
    "\n",
    "1. S is the starting position (Home)\n",
    "2. F is the Frozen lake where you can walk\n",
    "3. H is the Hole which you have to be so careful about\n",
    "4. G is the Goal (office)\n"
   ]
  },
  {
   "cell_type": "markdown",
   "metadata": {},
   "source": [
    " Okay, now let us use our agent instead of you to find the correct way to reach the office.\n",
    "The agent goal is to find the optimal path to reach from S to G without getting trapped at H.\n",
    "How an agent can achieve this? We give +1 point as a reward to the agent if it correctly\n",
    "walks on the frozen lake and 0 points if it falls into the hole. So that agent could determine\n",
    "which is the right action. An agent will now try to find the optimal policy. Optimal policy\n",
    "implies taking the correct path which maximizes the agent reward. If the agent is\n",
    "maximizing the reward, apparently agent is learning to skip the hole and reach the\n",
    "destination."
   ]
  },
  {
   "cell_type": "markdown",
   "metadata": {},
   "source": [
    "First, we import necessary libraries"
   ]
  },
  {
   "cell_type": "code",
   "execution_count": 1,
   "metadata": {},
   "outputs": [],
   "source": [
    "import gymnasium as gym\n",
    "import numpy as np\n",
    "from time import sleep\n",
    "from tqdm import tqdm\n",
    "from gymnasium.envs.toy_text.frozen_lake import generate_random_map\n",
    "import matplotlib.pyplot as plt"
   ]
  },
  {
   "cell_type": "markdown",
   "metadata": {},
   "source": [
    "Initialize our gym environment"
   ]
  },
  {
   "cell_type": "code",
   "execution_count": 2,
   "metadata": {},
   "outputs": [],
   "source": [
    "# generate random map\n",
    "map_size = 8\n",
    "map_shape = generate_random_map(size=map_size)"
   ]
  },
  {
   "cell_type": "code",
   "execution_count": 3,
   "metadata": {},
   "outputs": [],
   "source": [
    "# create Enviroment\n",
    "env = gym.make(\"FrozenLake-v1\", desc=map_shape, is_slippery=False)\n",
    "\n",
    "# reset enviroment\n",
    "observation, info = env.reset(seed=42)\n",
    "\n",
    "# initialize q_table\n",
    "q_table = np.zeros([env.observation_space.n, env.action_space.n])\n",
    "\n",
    "# set hyperparameters\n",
    "max_iter_number = 10000\n",
    "EPSILON = 0.1\n",
    "DISCOUNT_FACTOR = 0.9\n",
    "LEARNING_RATE = 0.8\n",
    "MAX_STEP = 99\n",
    "\n",
    "convergenceTrack = [0]"
   ]
  },
  {
   "cell_type": "code",
   "execution_count": 4,
   "metadata": {},
   "outputs": [],
   "source": [
    "\n",
    "def epsilon_greedy_policy(q_table, observation):\n",
    "    if np.random.uniform(0, 1) < EPSILON:\n",
    "        action = env.action_space.sample()\n",
    "    else:\n",
    "        action = np.argmax(q_table[observation])\n",
    "    return action"
   ]
  },
  {
   "cell_type": "code",
   "execution_count": 5,
   "metadata": {},
   "outputs": [],
   "source": [
    "\n",
    "def Q_Learning_Algorithm(observation, q_table):\n",
    "    # train the agent for max_iter_number number of episodes\n",
    "    for i in tqdm(range(0, max_iter_number)):\n",
    "        # reset the environment\n",
    "        observation, info = env.reset()\n",
    "        terminated, truncated = False, False\n",
    "\n",
    "        # for each episode, run the algorithm for MAX_STEP number of steps\n",
    "        for __ in range(MAX_STEP):\n",
    "            # choose the action using epsilon greedy policy\n",
    "            action = epsilon_greedy_policy(q_table, observation)\n",
    "\n",
    "            next_observation, reward, terminated, truncated, info = env.step(action)\n",
    "\n",
    "            # if the agent reaches the goal, then reward = 1, else if it falls to a hole, reward = -1\n",
    "            if (reward == 0) and terminated:\n",
    "                reward = -1\n",
    "            elif (reward == 1) and terminated:\n",
    "                reward = 1\n",
    "            else:\n",
    "                # Calculate the distance to the goal for agent and reward it based on the distance\n",
    "                x, y = next_observation // map_size, next_observation % map_size\n",
    "                dist_to_goal = np.sqrt(\n",
    "                    np.power(x - (map_size - 1), 2) + np.power(y - (map_size - 1), 2)\n",
    "                )\n",
    "                reward = -0.1 / (1 + np.exp(-dist_to_goal))\n",
    "\n",
    "            # choose the next action\n",
    "            next_action = np.argmax(q_table[next_observation])\n",
    "\n",
    "            # update the q_table\n",
    "            q_table[observation][action] = q_table[observation][\n",
    "                action\n",
    "            ] + LEARNING_RATE * (\n",
    "                reward\n",
    "                + DISCOUNT_FACTOR * q_table[next_observation][next_action]\n",
    "                - q_table[observation][action]\n",
    "            )\n",
    "\n",
    "            # update the observation\n",
    "            observation = next_observation\n",
    "\n",
    "            # if the agent reaches the goal or falls into a hole, then reset the environment\n",
    "            if terminated or truncated:\n",
    "                observation, info = env.reset()\n",
    "                break\n",
    "\n",
    "        # convergenceTrack.append(np.linalg.norm(q_table.flatten().tolist()))\n",
    "        # if (i >= 1000) and np.isclose(convergenceTrack[-1], convergenceTrack[-2]):\n",
    "        #     print('\\nValues Converged')\n",
    "        #     return\n",
    "    print(\"Training Completed\")\n",
    "    sleep(2)\n"
   ]
  },
  {
   "cell_type": "code",
   "execution_count": 6,
   "metadata": {},
   "outputs": [],
   "source": [
    "def plot_convergence(convergence):\n",
    "    plt.plot(convergence)\n",
    "    plt.xlabel(\"Number of Episodes\")\n",
    "    plt.ylabel(\"Q-Table Convergence\")\n",
    "    plt.title(\"Convergence of Q-Learning Algorithm for Frozen Lake\")\n",
    "    plt.savefig(\"convergence_lakes.png\")\n",
    "\n"
   ]
  },
  {
   "cell_type": "code",
   "execution_count": 7,
   "metadata": {},
   "outputs": [],
   "source": [
    "def save_q_table(q_table):\n",
    "    terminal_states = set()\n",
    "    goal_state = (map_size - 1) * map_size + (map_size - 1)\n",
    "\n",
    "    for state in env.P:\n",
    "        if state == goal_state:\n",
    "            continue\n",
    "        for act in env.P[state]:\n",
    "            for probability, nextState, reward, isTerminalState in env.P[state][act]:\n",
    "                if (reward == 0) and isTerminalState:\n",
    "                    terminal_states.add(nextState)\n",
    "\n",
    "    with open(\"q_table_frozen.txt\", \"w\", encoding=\"utf-8\") as inp:\n",
    "        for state in range(map_size**2):\n",
    "            if state in terminal_states:\n",
    "                inp.write(\"☠\\t\")\n",
    "            elif state == goal_state:\n",
    "                inp.write(\"🪙\\t\")\n",
    "\n",
    "            else:\n",
    "                if np.all(q_table[state] == 0):\n",
    "                    inp.write(\"⬜\\t\")\n",
    "                else:\n",
    "                    argm = np.argmax(q_table[state])\n",
    "                    if argm == 0:\n",
    "                        inp.write(\"←\\t\")\n",
    "                    elif argm == 1:\n",
    "                        inp.write(\"↓\\t\")\n",
    "                    elif argm == 2:\n",
    "                        inp.write(\"→\\t\")\n",
    "                    elif argm == 3:\n",
    "                        inp.write(\"↑\\t\")\n",
    "            if (state + 1) % map_size == 0:\n",
    "                inp.write(\"\\n\")\n"
   ]
  },
  {
   "cell_type": "code",
   "execution_count": 8,
   "metadata": {},
   "outputs": [
    {
     "name": "stderr",
     "output_type": "stream",
     "text": [
      "100%|██████████████████████████████████████████████████████████████████████████| 10000/10000 [00:07<00:00, 1403.32it/s]\n"
     ]
    },
    {
     "name": "stdout",
     "output_type": "stream",
     "text": [
      "Training Completed\n"
     ]
    },
    {
     "name": "stderr",
     "output_type": "stream",
     "text": [
      "C:\\Users\\nvima\\AppData\\Local\\Programs\\Python\\Python310\\lib\\site-packages\\gymnasium\\core.py:311: UserWarning: \u001b[33mWARN: env.P to get variables from other wrappers is deprecated and will be removed in v1.0, to get this variable you can do `env.unwrapped.P` for environment variables or `env.get_wrapper_attr('P')` that will search the reminding wrappers.\u001b[0m\n",
      "  logger.warn(\n"
     ]
    },
    {
     "data": {
      "image/png": "[encoded data removed]",
      "text/plain": [
       "<Figure size 640x480 with 1 Axes>"
      ]
     },
     "metadata": {},
     "output_type": "display_data"
    }
   ],
   "source": [
    "if __name__ == \"__main__\":\n",
    "    # train the agent with no graphical output\n",
    "    Q_Learning_Algorithm(observation, q_table)\n",
    "\n",
    "    save_q_table(q_table)\n",
    "\n",
    "    env.close()\n",
    "\n",
    "    # create Enviroment\n",
    "    env = gym.make(\n",
    "        \"FrozenLake-v1\", desc=map_shape, render_mode=\"human\", is_slippery=False\n",
    "    )\n",
    "\n",
    "    # reset enviroment\n",
    "    observation, info = env.reset()\n",
    "\n",
    "    # test the agent for max_iter_number number of episodes\n",
    "    for i in range(1):\n",
    "        terminated, truncated = False, False\n",
    "\n",
    "        for _ in range(MAX_STEP):\n",
    "            # select the action\n",
    "            action = np.argmax(q_table[observation])\n",
    "\n",
    "            next_observation, reward, terminated, truncated, info = env.step(action)\n",
    "\n",
    "            env.render()\n",
    "\n",
    "            # check if the agent reaches the goal or falls into a hole\n",
    "            if terminated or truncated:\n",
    "                observation, info = env.reset()\n",
    "                break\n",
    "\n",
    "            observation = next_observation\n",
    "\n",
    "    env.close()\n",
    "    plot_convergence(convergenceTrack)"
   ]
  },
  {
   "cell_type": "code",
   "execution_count": null,
   "metadata": {},
   "outputs": [],
   "source": []
  }
 ],
 "metadata": {
  "kernelspec": {
   "display_name": "Python 3 (ipykernel)",
   "language": "python",
   "name": "python3"
  },
  "language_info": {
   "codemirror_mode": {
    "name": "ipython",
    "version": 3
   },
   "file_extension": ".py",
   "mimetype": "text/x-python",
   "name": "python",
   "nbconvert_exporter": "python",
   "pygments_lexer": "ipython3",
   "version": "3.10.9"
  }
 },
 "nbformat": 4,
 "nbformat_minor": 2
}
