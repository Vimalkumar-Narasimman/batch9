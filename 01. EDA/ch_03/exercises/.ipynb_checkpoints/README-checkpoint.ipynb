{
 "cells": [
  {
   "cell_type": "markdown",
   "metadata": {},
   "source": [
    "# About the data\n",
    "\n",
    "| File                      | Description                                                                                                                           | Source                                                                                                                              |\n",
    "|---------------------------|---------------------------------------------------------------------------------------------------------------------------------------|-------------------------------------------------------------------------------------------------------------------------------------|\n",
    "| `aapl.csv`                | Daily opening, high, low, and closing price of Apple stock, along with volume traded for 2018.                                        | The `stock_analysis` package (see *Chapter 7, Financial Analysis – Bitcoin and the Stock Market*).                                  |\n",
    "| `amzn.csv`                | Daily opening, high, low, and closing price of Amazon stock, along with volume traded for 2018.                                       | The `stock_analysis` package (see *Chapter 7, Financial Analysis – Bitcoin and the Stock Market*).                                  |\n",
    "| `covid19_cases.csv`       | ECDC's *daily number of new reported cases of COVID-19 by country worldwide dataset* from January 1, 2020 through September 18, 2020. | ECDC's *daily number of new reported cases of COVID-19 by country worldwide dataset*.                                               |\n",
    "| `covid19_total_cases.csv` | Pivot table of total COVID-19 cases per country from January 1, 2020 through September 18, 2020.                                      | ECDC's *daily number of new reported cases of COVID-19 by country worldwide dataset* pivoted to calculated total cases per country. |\n",
    "| `fb.csv`                  | Daily opening, high, low, and closing price of Facebook stock, along with volume traded for 2018.                                     | The `stock_analysis` package (see *Chapter 7, Financial Analysis – Bitcoin and the Stock Market*).                                  |\n",
    "| `goog.csv`                | Daily opening, high, low, and closing price of Google stock, along with volume traded for 2018.                                       | The `stock_analysis` package (see *Chapter 7, Financial Analysis – Bitcoin and the Stock Market*).                                  |\n",
    "| `nflx.csv`                | Daily opening, high, low, and closing price of Netflix stock, along with volume traded for 2018.                                      | The `stock_analysis` package (see *Chapter 7, Financial Analysis – Bitcoin and the Stock Market*).                                  |\n",
    "\n",
    "### Sources\n",
    "\n",
    "-   The European Centre for Disease Prevention and Control's (ECDC)\n",
    "    *daily number of new reported cases of COVID-19 by country worldwide\n",
    "    dataset* can be found\n",
    "    [here](https://www.ecdc.europa.eu/en/publications-data/download-todays-data-geographic-distribution-covid-19-cases-worldwide).\n",
    "    The data here was collected on September 19, 2020 via\n",
    "    [this](https://opendata.ecdc.europa.eu/covid19/casedistribution/csv)\n",
    "    link.\n",
    "-   The [`stock_analysis`](https://github.com/stefmolin/stock-analysis)\n",
    "    package contains easy to use interfaces for basic technical analysis\n",
    "    of stocks. We will walk through the construction of this package in\n",
    "    *Chapter 7, Financial Analysis – Bitcoin and the Stock Market*."
   ]
  }
 ],
 "nbformat": 4,
 "nbformat_minor": 5,
 "metadata": {}
}
