{
 "cells": [
  {
   "cell_type": "markdown",
   "id": "5f1e9e68",
   "metadata": {},
   "source": [
    "<b>Assignment</b>\n",
    "* Assignment_Attrition\n",
    "\n",
    "<b>Objective</b>\n",
    "* Analyzing and Building models for Predicting Attrition.\n",
    "\n",
    "<b>Dataset</b>\n",
    "* The dataset, Attrition.csv, is adapted from Kaggle\n",
    "\n",
    "<b>Work to be done</b>\n",
    "1.\tWrite a Data Science Proposal for achieving the objective mentioned. Clearly describe the business understanding\n",
    "2.\tPerform exploratory analysis of the data and describe your understanding of the data.\n",
    "3.\tPerform data wrangling / Pre-Processing to improve outcomes E.g., missing data, normalization, discretization, etc.\n",
    "4.\tIs Feature Engineering required for the problem statement? Describe the technique you would adopt and justify the same\n",
    "5.\tPropose two feature selection techniques and compare the same\n",
    "6.\tPlot top 6 features that help in predicting\n",
    "7.\tProvide a high-level description of Machine Learning models – Logistic regression and Decision tree to predict.\n",
    "8.\tCompare the performance of the two classifiers – Logistic regression and Decision tree to predict.\n"
   ]
  },
  {
   "cell_type": "markdown",
   "id": "e0e5fec4",
   "metadata": {},
   "source": [
    "## Business Understanding\n",
    "\n",
    "\n",
    "Employee attrition is predictable under stable circumstances, wherein a set pattern can be deduced from certain parameters influencing the employee and the organization at all times. \n",
    "\n",
    "However, who is going to leave, when and why, can be answered based on analytical models developed as a result of data analysis.\n",
    "\n",
    "On a basic level, the model works by clustering/ classifying employee profiles based on various attributes such as age, sex, marital status, education level, work experience, distance from hometown, etc. and generates various levels of risk of attrition. Occasionally, other parameters like performance over the years, pay raise, work batch, educational institution are also taken into consideration.\n",
    "\n",
    "However, the accuracy of the model is directly proportional to the selection of parameters, which in turn, leads to the generation of the ‘type’ of predictive model most suitable for the organisation.\n",
    "\n",
    "For instance, ‘logistic model’ produces scorecards for employees based on their predicted ‘attrition risk’ parameters; Likewise, ‘decision trees’ model evaluate loss based on factors like gini index, information gain and variation reduction. \n",
    "\n",
    "<b>Methodology:</b>\n",
    "\n",
    "* EDA: Perform exploratory analysis of the data\n",
    "* Preprocessing the collected data: Perform data wrangling / Pre-Processing to improve outcomes\n",
    "* Analyzing the dataset: The most important features that push an employee to leave the organization are detected\n",
    "* Balancing the dataset: Since the dataset is not already balanced, it is necessary to be equalized\n",
    "* Building the predictive model: The suitable configuration for the model is selected to increase the prediction accuracy (Logistic regression and Decision tree to predict)\n",
    "* Validating the model: Compare the performance of the two classifiers – Logistic regression and Decision tree to predict\n",
    "\n",
    "Predictive Attrition Model helps in not only taking preventive measures but also into making better hiring decisions.\n"
   ]
  },
  {
   "cell_type": "markdown",
   "id": "d23cb03f",
   "metadata": {},
   "source": [
    "<b>Import the required libraries</b>"
   ]
  },
  {
   "cell_type": "code",
   "execution_count": 1,
   "id": "7005bbb5",
   "metadata": {},
   "outputs": [],
   "source": [
    "import warnings\n",
    "import numpy as np\n",
    "import pandas as pd\n",
    "import matplotlib.pyplot as plt\n",
    "import seaborn as sns\n",
    "\n",
    "#preprocess.\n",
    "from sklearn.preprocessing import MinMaxScaler, LabelEncoder\n",
    "\n",
    "#model selection\n",
    "from sklearn.model_selection import train_test_split\n",
    "from sklearn.metrics import classification_report, accuracy_score\n",
    "from sklearn.feature_selection import RFE\n",
    "\n",
    "from sklearn.linear_model import LogisticRegression\n",
    "from sklearn.tree import DecisionTreeClassifier"
   ]
  },
  {
   "cell_type": "code",
   "execution_count": 2,
   "id": "710491d7",
   "metadata": {},
   "outputs": [],
   "source": [
    "pd.set_option('display.max_columns',None)\n",
    "\n",
    "warnings.filterwarnings('ignore')"
   ]
  },
  {
   "cell_type": "markdown",
   "id": "053e514a",
   "metadata": {},
   "source": [
    "</b>Read the uploaded 'Final dataset Attrition-1.csv' as dataframe </b>"
   ]
  },
  {
   "cell_type": "code",
   "execution_count": 2,
   "id": "a36806d2",
   "metadata": {},
   "outputs": [],
   "source": [
    "df = pd.read_csv('Final dataset Attrition-1.csv')"
   ]
  },
  {
   "cell_type": "markdown",
   "id": "9de2c173",
   "metadata": {},
   "source": [
    "#### Analysing the dataset\n",
    "\n",
    "Print the shape, null check and datapoints"
   ]
  },
  {
   "cell_type": "code",
   "execution_count": 3,
   "id": "a5deb2e2",
   "metadata": {},
   "outputs": [
    {
     "name": "stdout",
     "output_type": "stream",
     "text": [
      "There are 1,470 rows and 33 columns in the data.\n",
      "There are 2940 missing values in the data.\n"
     ]
    },
    {
     "data": {
      "text/html": [
       "<div>\n",
       "<style scoped>\n",
       "    .dataframe tbody tr th:only-of-type {\n",
       "        vertical-align: middle;\n",
       "    }\n",
       "\n",
       "    .dataframe tbody tr th {\n",
       "        vertical-align: top;\n",
       "    }\n",
       "\n",
       "    .dataframe thead th {\n",
       "        text-align: right;\n",
       "    }\n",
       "</style>\n",
       "<table border=\"1\" class=\"dataframe\">\n",
       "  <thead>\n",
       "    <tr style=\"text-align: right;\">\n",
       "      <th></th>\n",
       "      <th>Age</th>\n",
       "      <th>Attrition</th>\n",
       "      <th>BusinessTravel</th>\n",
       "      <th>Department</th>\n",
       "      <th>DistanceFromHome</th>\n",
       "      <th>Gender</th>\n",
       "      <th>JobInvolvement</th>\n",
       "      <th>JobLevel</th>\n",
       "      <th>JobRole</th>\n",
       "      <th>JobSatisfaction</th>\n",
       "      <th>...</th>\n",
       "      <th>Date_of_Hire</th>\n",
       "      <th>Date_of_termination</th>\n",
       "      <th>Status_of_leaving</th>\n",
       "      <th>Mode_of_work</th>\n",
       "      <th>Leaves</th>\n",
       "      <th>Absenteeism</th>\n",
       "      <th>Work_accident</th>\n",
       "      <th>Source_of_Hire</th>\n",
       "      <th>Job_mode</th>\n",
       "      <th>Unnamed: 32</th>\n",
       "    </tr>\n",
       "  </thead>\n",
       "  <tbody>\n",
       "    <tr>\n",
       "      <th>0</th>\n",
       "      <td>37</td>\n",
       "      <td>Yes</td>\n",
       "      <td>Travel_Rarely</td>\n",
       "      <td>Research &amp; Development</td>\n",
       "      <td>2</td>\n",
       "      <td>Male</td>\n",
       "      <td>2</td>\n",
       "      <td>1</td>\n",
       "      <td>Laboratory Technician</td>\n",
       "      <td>3</td>\n",
       "      <td>...</td>\n",
       "      <td>21-01-2021</td>\n",
       "      <td>NaN</td>\n",
       "      <td>Salary</td>\n",
       "      <td>OFFICE</td>\n",
       "      <td>4</td>\n",
       "      <td>2</td>\n",
       "      <td>No</td>\n",
       "      <td>Job Event</td>\n",
       "      <td>Contract</td>\n",
       "      <td>NaN</td>\n",
       "    </tr>\n",
       "    <tr>\n",
       "      <th>1</th>\n",
       "      <td>21</td>\n",
       "      <td>No</td>\n",
       "      <td>Travel_Rarely</td>\n",
       "      <td>Research &amp; Development</td>\n",
       "      <td>15</td>\n",
       "      <td>Male</td>\n",
       "      <td>3</td>\n",
       "      <td>1</td>\n",
       "      <td>Research Scientist</td>\n",
       "      <td>4</td>\n",
       "      <td>...</td>\n",
       "      <td>13-03-2021</td>\n",
       "      <td>NaN</td>\n",
       "      <td>Work Accident</td>\n",
       "      <td>WFH</td>\n",
       "      <td>5</td>\n",
       "      <td>2</td>\n",
       "      <td>No</td>\n",
       "      <td>Recruiter</td>\n",
       "      <td>Part Time</td>\n",
       "      <td>NaN</td>\n",
       "    </tr>\n",
       "    <tr>\n",
       "      <th>2</th>\n",
       "      <td>45</td>\n",
       "      <td>No</td>\n",
       "      <td>Travel_Rarely</td>\n",
       "      <td>Research &amp; Development</td>\n",
       "      <td>6</td>\n",
       "      <td>Male</td>\n",
       "      <td>3</td>\n",
       "      <td>3</td>\n",
       "      <td>Research Director</td>\n",
       "      <td>1</td>\n",
       "      <td>...</td>\n",
       "      <td>23-01-2021</td>\n",
       "      <td>NaN</td>\n",
       "      <td>Dept.Head</td>\n",
       "      <td>WFH</td>\n",
       "      <td>1</td>\n",
       "      <td>3</td>\n",
       "      <td>No</td>\n",
       "      <td>Job Event</td>\n",
       "      <td>Contract</td>\n",
       "      <td>NaN</td>\n",
       "    </tr>\n",
       "    <tr>\n",
       "      <th>3</th>\n",
       "      <td>23</td>\n",
       "      <td>No</td>\n",
       "      <td>Travel_Rarely</td>\n",
       "      <td>Sales</td>\n",
       "      <td>2</td>\n",
       "      <td>Male</td>\n",
       "      <td>3</td>\n",
       "      <td>1</td>\n",
       "      <td>Sales Representative</td>\n",
       "      <td>1</td>\n",
       "      <td>...</td>\n",
       "      <td>25-04-2021</td>\n",
       "      <td>NaN</td>\n",
       "      <td>Work Accident</td>\n",
       "      <td>OFFICE</td>\n",
       "      <td>1</td>\n",
       "      <td>0</td>\n",
       "      <td>Yes</td>\n",
       "      <td>Recruiter</td>\n",
       "      <td>FullTime</td>\n",
       "      <td>NaN</td>\n",
       "    </tr>\n",
       "    <tr>\n",
       "      <th>4</th>\n",
       "      <td>22</td>\n",
       "      <td>No</td>\n",
       "      <td>Travel_Rarely</td>\n",
       "      <td>Research &amp; Development</td>\n",
       "      <td>15</td>\n",
       "      <td>Female</td>\n",
       "      <td>3</td>\n",
       "      <td>1</td>\n",
       "      <td>Laboratory Technician</td>\n",
       "      <td>4</td>\n",
       "      <td>...</td>\n",
       "      <td>14-06-2021</td>\n",
       "      <td>NaN</td>\n",
       "      <td>Better Opportunity</td>\n",
       "      <td>WFH</td>\n",
       "      <td>5</td>\n",
       "      <td>2</td>\n",
       "      <td>No</td>\n",
       "      <td>Job Event</td>\n",
       "      <td>Contract</td>\n",
       "      <td>NaN</td>\n",
       "    </tr>\n",
       "  </tbody>\n",
       "</table>\n",
       "<p>5 rows × 33 columns</p>\n",
       "</div>"
      ],
      "text/plain": [
       "   Age Attrition BusinessTravel              Department  DistanceFromHome  \\\n",
       "0   37       Yes  Travel_Rarely  Research & Development                 2   \n",
       "1   21        No  Travel_Rarely  Research & Development                15   \n",
       "2   45        No  Travel_Rarely  Research & Development                 6   \n",
       "3   23        No  Travel_Rarely                   Sales                 2   \n",
       "4   22        No  Travel_Rarely  Research & Development                15   \n",
       "\n",
       "   Gender  JobInvolvement  JobLevel                JobRole  JobSatisfaction  \\\n",
       "0    Male               2         1  Laboratory Technician                3   \n",
       "1    Male               3         1     Research Scientist                4   \n",
       "2    Male               3         3      Research Director                1   \n",
       "3    Male               3         1   Sales Representative                1   \n",
       "4  Female               3         1  Laboratory Technician                4   \n",
       "\n",
       "   ... Date_of_Hire  Date_of_termination   Status_of_leaving Mode_of_work  \\\n",
       "0  ...   21-01-2021                  NaN              Salary       OFFICE   \n",
       "1  ...   13-03-2021                  NaN       Work Accident          WFH   \n",
       "2  ...   23-01-2021                  NaN           Dept.Head          WFH   \n",
       "3  ...   25-04-2021                  NaN       Work Accident       OFFICE   \n",
       "4  ...   14-06-2021                  NaN  Better Opportunity          WFH   \n",
       "\n",
       "   Leaves  Absenteeism  Work_accident  Source_of_Hire   Job_mode  Unnamed: 32  \n",
       "0       4            2             No       Job Event   Contract          NaN  \n",
       "1       5            2             No       Recruiter  Part Time          NaN  \n",
       "2       1            3             No       Job Event   Contract          NaN  \n",
       "3       1            0            Yes       Recruiter   FullTime          NaN  \n",
       "4       5            2             No       Job Event   Contract          NaN  \n",
       "\n",
       "[5 rows x 33 columns]"
      ]
     },
     "execution_count": 3,
     "metadata": {},
     "output_type": "execute_result"
    }
   ],
   "source": [
    "print(\"There are {:,} rows and {} columns in the data.\".format(df.shape[0], df.shape[1]))\n",
    "print(\"There are {} missing values in the data.\".format(df.isnull().sum().sum()))\n",
    "df.head()"
   ]
  },
  {
   "cell_type": "markdown",
   "id": "e64abd9b",
   "metadata": {},
   "source": [
    "#### Getting information about the dataset"
   ]
  },
  {
   "cell_type": "code",
   "execution_count": 4,
   "id": "cfa75ecb",
   "metadata": {},
   "outputs": [
    {
     "name": "stdout",
     "output_type": "stream",
     "text": [
      "<class 'pandas.core.frame.DataFrame'>\n",
      "RangeIndex: 1470 entries, 0 to 1469\n",
      "Data columns (total 33 columns):\n",
      " #   Column                   Non-Null Count  Dtype  \n",
      "---  ------                   --------------  -----  \n",
      " 0   Age                      1470 non-null   int64  \n",
      " 1   Attrition                1470 non-null   object \n",
      " 2   BusinessTravel           1470 non-null   object \n",
      " 3   Department               1470 non-null   object \n",
      " 4   DistanceFromHome         1470 non-null   int64  \n",
      " 5   Gender                   1470 non-null   object \n",
      " 6   JobInvolvement           1470 non-null   int64  \n",
      " 7   JobLevel                 1470 non-null   int64  \n",
      " 8   JobRole                  1470 non-null   object \n",
      " 9   JobSatisfaction          1470 non-null   int64  \n",
      " 10  MaritalStatus            1470 non-null   object \n",
      " 11  MonthlyIncome            1470 non-null   int64  \n",
      " 12  NumCompaniesWorked       1470 non-null   int64  \n",
      " 13  OverTime                 1470 non-null   object \n",
      " 14  PercentSalaryHike        1470 non-null   int64  \n",
      " 15  PerformanceRating        1470 non-null   int64  \n",
      " 16  StockOptionLevel         1470 non-null   int64  \n",
      " 17  TotalWorkingYears        1470 non-null   int64  \n",
      " 18  TrainingTimesLastYear    1470 non-null   int64  \n",
      " 19  YearsAtCompany           1470 non-null   int64  \n",
      " 20  YearsSinceLastPromotion  1470 non-null   int64  \n",
      " 21  YearsWithCurrManager     1470 non-null   int64  \n",
      " 22  Higher_Education         1470 non-null   object \n",
      " 23  Date_of_Hire             1470 non-null   object \n",
      " 24  Date_of_termination      0 non-null      float64\n",
      " 25  Status_of_leaving        1470 non-null   object \n",
      " 26  Mode_of_work             1470 non-null   object \n",
      " 27  Leaves                   1470 non-null   int64  \n",
      " 28  Absenteeism              1470 non-null   int64  \n",
      " 29  Work_accident            1470 non-null   object \n",
      " 30  Source_of_Hire           1470 non-null   object \n",
      " 31  Job_mode                 1470 non-null   object \n",
      " 32  Unnamed: 32              0 non-null      float64\n",
      "dtypes: float64(2), int64(17), object(14)\n",
      "memory usage: 379.1+ KB\n"
     ]
    }
   ],
   "source": [
    "df.info()"
   ]
  },
  {
   "cell_type": "markdown",
   "id": "a5cb455c",
   "metadata": {},
   "source": [
    "Variables type:\n",
    "\n",
    "Numeric variables:\n",
    "Related to personal information: Age, DistanceFromHome\n",
    "Related to income: MonthlyIncome, PercentSalaryHike, StockOptionLevel\n",
    "Related to time in company: TotalWorkingYears, YearsAtCompany, YearsSinceLastPromotion, YearsWithCurrManager\n",
    "other: JobInvolvement, JobLevel, JobSatisfaction, PerformanceRating, TrainingTimesLastYear, Leaves, Absenteeism\n",
    "Categorical variables:\n",
    "Binary variables: attrition(target variable), gender, OverTime, Mode_of_work, Work_accident, Job_mode\n",
    "Nominal variables: Department, Higher_Education, JobRole, MaritalStatus\n",
    "Ordinal variables:\n",
    "Ordinal regarding satisfaction and performance : JobInvolvement, JobSatisfaction, PerformanceRating, Work_accident, Leaves, BusinessTravel, JobLevel, StockOptionLevel\n"
   ]
  },
  {
   "cell_type": "code",
   "execution_count": 5,
   "id": "94c98073",
   "metadata": {},
   "outputs": [
    {
     "data": {
      "text/html": [
       "<div>\n",
       "<style scoped>\n",
       "    .dataframe tbody tr th:only-of-type {\n",
       "        vertical-align: middle;\n",
       "    }\n",
       "\n",
       "    .dataframe tbody tr th {\n",
       "        vertical-align: top;\n",
       "    }\n",
       "\n",
       "    .dataframe thead th {\n",
       "        text-align: right;\n",
       "    }\n",
       "</style>\n",
       "<table border=\"1\" class=\"dataframe\">\n",
       "  <thead>\n",
       "    <tr style=\"text-align: right;\">\n",
       "      <th></th>\n",
       "      <th>Age</th>\n",
       "      <th>DistanceFromHome</th>\n",
       "      <th>JobInvolvement</th>\n",
       "      <th>JobLevel</th>\n",
       "      <th>JobSatisfaction</th>\n",
       "      <th>MonthlyIncome</th>\n",
       "      <th>NumCompaniesWorked</th>\n",
       "      <th>PercentSalaryHike</th>\n",
       "      <th>PerformanceRating</th>\n",
       "      <th>StockOptionLevel</th>\n",
       "      <th>TotalWorkingYears</th>\n",
       "      <th>TrainingTimesLastYear</th>\n",
       "      <th>YearsAtCompany</th>\n",
       "      <th>YearsSinceLastPromotion</th>\n",
       "      <th>YearsWithCurrManager</th>\n",
       "      <th>Date_of_termination</th>\n",
       "      <th>Leaves</th>\n",
       "      <th>Absenteeism</th>\n",
       "      <th>Unnamed: 32</th>\n",
       "    </tr>\n",
       "  </thead>\n",
       "  <tbody>\n",
       "    <tr>\n",
       "      <th>count</th>\n",
       "      <td>1470.000000</td>\n",
       "      <td>1470.000000</td>\n",
       "      <td>1470.000000</td>\n",
       "      <td>1470.000000</td>\n",
       "      <td>1470.000000</td>\n",
       "      <td>1470.000000</td>\n",
       "      <td>1470.000000</td>\n",
       "      <td>1470.000000</td>\n",
       "      <td>1470.000000</td>\n",
       "      <td>1470.000000</td>\n",
       "      <td>1470.000000</td>\n",
       "      <td>1470.000000</td>\n",
       "      <td>1470.000000</td>\n",
       "      <td>1470.000000</td>\n",
       "      <td>1470.000000</td>\n",
       "      <td>0.0</td>\n",
       "      <td>1470.000000</td>\n",
       "      <td>1470.000000</td>\n",
       "      <td>0.0</td>\n",
       "    </tr>\n",
       "    <tr>\n",
       "      <th>mean</th>\n",
       "      <td>36.923810</td>\n",
       "      <td>9.192517</td>\n",
       "      <td>2.729932</td>\n",
       "      <td>2.063946</td>\n",
       "      <td>2.728571</td>\n",
       "      <td>6502.931293</td>\n",
       "      <td>2.693197</td>\n",
       "      <td>15.209524</td>\n",
       "      <td>3.153741</td>\n",
       "      <td>0.793878</td>\n",
       "      <td>11.279592</td>\n",
       "      <td>2.799320</td>\n",
       "      <td>7.008163</td>\n",
       "      <td>2.187755</td>\n",
       "      <td>4.123129</td>\n",
       "      <td>NaN</td>\n",
       "      <td>2.568707</td>\n",
       "      <td>1.525170</td>\n",
       "      <td>NaN</td>\n",
       "    </tr>\n",
       "    <tr>\n",
       "      <th>std</th>\n",
       "      <td>9.135373</td>\n",
       "      <td>8.106864</td>\n",
       "      <td>0.711561</td>\n",
       "      <td>1.106940</td>\n",
       "      <td>1.102846</td>\n",
       "      <td>4707.956783</td>\n",
       "      <td>2.498009</td>\n",
       "      <td>3.659938</td>\n",
       "      <td>0.360824</td>\n",
       "      <td>0.852077</td>\n",
       "      <td>7.780782</td>\n",
       "      <td>1.289271</td>\n",
       "      <td>6.126525</td>\n",
       "      <td>3.222430</td>\n",
       "      <td>3.568136</td>\n",
       "      <td>NaN</td>\n",
       "      <td>1.716171</td>\n",
       "      <td>1.097856</td>\n",
       "      <td>NaN</td>\n",
       "    </tr>\n",
       "    <tr>\n",
       "      <th>min</th>\n",
       "      <td>18.000000</td>\n",
       "      <td>1.000000</td>\n",
       "      <td>1.000000</td>\n",
       "      <td>1.000000</td>\n",
       "      <td>1.000000</td>\n",
       "      <td>1009.000000</td>\n",
       "      <td>0.000000</td>\n",
       "      <td>11.000000</td>\n",
       "      <td>3.000000</td>\n",
       "      <td>0.000000</td>\n",
       "      <td>0.000000</td>\n",
       "      <td>0.000000</td>\n",
       "      <td>0.000000</td>\n",
       "      <td>0.000000</td>\n",
       "      <td>0.000000</td>\n",
       "      <td>NaN</td>\n",
       "      <td>0.000000</td>\n",
       "      <td>0.000000</td>\n",
       "      <td>NaN</td>\n",
       "    </tr>\n",
       "    <tr>\n",
       "      <th>25%</th>\n",
       "      <td>30.000000</td>\n",
       "      <td>2.000000</td>\n",
       "      <td>2.000000</td>\n",
       "      <td>1.000000</td>\n",
       "      <td>2.000000</td>\n",
       "      <td>2911.000000</td>\n",
       "      <td>1.000000</td>\n",
       "      <td>12.000000</td>\n",
       "      <td>3.000000</td>\n",
       "      <td>0.000000</td>\n",
       "      <td>6.000000</td>\n",
       "      <td>2.000000</td>\n",
       "      <td>3.000000</td>\n",
       "      <td>0.000000</td>\n",
       "      <td>2.000000</td>\n",
       "      <td>NaN</td>\n",
       "      <td>1.000000</td>\n",
       "      <td>1.000000</td>\n",
       "      <td>NaN</td>\n",
       "    </tr>\n",
       "    <tr>\n",
       "      <th>50%</th>\n",
       "      <td>36.000000</td>\n",
       "      <td>7.000000</td>\n",
       "      <td>3.000000</td>\n",
       "      <td>2.000000</td>\n",
       "      <td>3.000000</td>\n",
       "      <td>4919.000000</td>\n",
       "      <td>2.000000</td>\n",
       "      <td>14.000000</td>\n",
       "      <td>3.000000</td>\n",
       "      <td>1.000000</td>\n",
       "      <td>10.000000</td>\n",
       "      <td>3.000000</td>\n",
       "      <td>5.000000</td>\n",
       "      <td>1.000000</td>\n",
       "      <td>3.000000</td>\n",
       "      <td>NaN</td>\n",
       "      <td>3.000000</td>\n",
       "      <td>2.000000</td>\n",
       "      <td>NaN</td>\n",
       "    </tr>\n",
       "    <tr>\n",
       "      <th>75%</th>\n",
       "      <td>43.000000</td>\n",
       "      <td>14.000000</td>\n",
       "      <td>3.000000</td>\n",
       "      <td>3.000000</td>\n",
       "      <td>4.000000</td>\n",
       "      <td>8379.000000</td>\n",
       "      <td>4.000000</td>\n",
       "      <td>18.000000</td>\n",
       "      <td>3.000000</td>\n",
       "      <td>1.000000</td>\n",
       "      <td>15.000000</td>\n",
       "      <td>3.000000</td>\n",
       "      <td>9.000000</td>\n",
       "      <td>3.000000</td>\n",
       "      <td>7.000000</td>\n",
       "      <td>NaN</td>\n",
       "      <td>4.000000</td>\n",
       "      <td>2.000000</td>\n",
       "      <td>NaN</td>\n",
       "    </tr>\n",
       "    <tr>\n",
       "      <th>max</th>\n",
       "      <td>60.000000</td>\n",
       "      <td>29.000000</td>\n",
       "      <td>4.000000</td>\n",
       "      <td>5.000000</td>\n",
       "      <td>4.000000</td>\n",
       "      <td>19999.000000</td>\n",
       "      <td>9.000000</td>\n",
       "      <td>25.000000</td>\n",
       "      <td>4.000000</td>\n",
       "      <td>3.000000</td>\n",
       "      <td>40.000000</td>\n",
       "      <td>6.000000</td>\n",
       "      <td>40.000000</td>\n",
       "      <td>15.000000</td>\n",
       "      <td>17.000000</td>\n",
       "      <td>NaN</td>\n",
       "      <td>5.000000</td>\n",
       "      <td>3.000000</td>\n",
       "      <td>NaN</td>\n",
       "    </tr>\n",
       "  </tbody>\n",
       "</table>\n",
       "</div>"
      ],
      "text/plain": [
       "               Age  DistanceFromHome  JobInvolvement     JobLevel  \\\n",
       "count  1470.000000       1470.000000     1470.000000  1470.000000   \n",
       "mean     36.923810          9.192517        2.729932     2.063946   \n",
       "std       9.135373          8.106864        0.711561     1.106940   \n",
       "min      18.000000          1.000000        1.000000     1.000000   \n",
       "25%      30.000000          2.000000        2.000000     1.000000   \n",
       "50%      36.000000          7.000000        3.000000     2.000000   \n",
       "75%      43.000000         14.000000        3.000000     3.000000   \n",
       "max      60.000000         29.000000        4.000000     5.000000   \n",
       "\n",
       "       JobSatisfaction  MonthlyIncome  NumCompaniesWorked  PercentSalaryHike  \\\n",
       "count      1470.000000    1470.000000         1470.000000        1470.000000   \n",
       "mean          2.728571    6502.931293            2.693197          15.209524   \n",
       "std           1.102846    4707.956783            2.498009           3.659938   \n",
       "min           1.000000    1009.000000            0.000000          11.000000   \n",
       "25%           2.000000    2911.000000            1.000000          12.000000   \n",
       "50%           3.000000    4919.000000            2.000000          14.000000   \n",
       "75%           4.000000    8379.000000            4.000000          18.000000   \n",
       "max           4.000000   19999.000000            9.000000          25.000000   \n",
       "\n",
       "       PerformanceRating  StockOptionLevel  TotalWorkingYears  \\\n",
       "count        1470.000000       1470.000000        1470.000000   \n",
       "mean            3.153741          0.793878          11.279592   \n",
       "std             0.360824          0.852077           7.780782   \n",
       "min             3.000000          0.000000           0.000000   \n",
       "25%             3.000000          0.000000           6.000000   \n",
       "50%             3.000000          1.000000          10.000000   \n",
       "75%             3.000000          1.000000          15.000000   \n",
       "max             4.000000          3.000000          40.000000   \n",
       "\n",
       "       TrainingTimesLastYear  YearsAtCompany  YearsSinceLastPromotion  \\\n",
       "count            1470.000000     1470.000000              1470.000000   \n",
       "mean                2.799320        7.008163                 2.187755   \n",
       "std                 1.289271        6.126525                 3.222430   \n",
       "min                 0.000000        0.000000                 0.000000   \n",
       "25%                 2.000000        3.000000                 0.000000   \n",
       "50%                 3.000000        5.000000                 1.000000   \n",
       "75%                 3.000000        9.000000                 3.000000   \n",
       "max                 6.000000       40.000000                15.000000   \n",
       "\n",
       "       YearsWithCurrManager  Date_of_termination       Leaves  Absenteeism  \\\n",
       "count           1470.000000                  0.0  1470.000000  1470.000000   \n",
       "mean               4.123129                  NaN     2.568707     1.525170   \n",
       "std                3.568136                  NaN     1.716171     1.097856   \n",
       "min                0.000000                  NaN     0.000000     0.000000   \n",
       "25%                2.000000                  NaN     1.000000     1.000000   \n",
       "50%                3.000000                  NaN     3.000000     2.000000   \n",
       "75%                7.000000                  NaN     4.000000     2.000000   \n",
       "max               17.000000                  NaN     5.000000     3.000000   \n",
       "\n",
       "       Unnamed: 32  \n",
       "count          0.0  \n",
       "mean           NaN  \n",
       "std            NaN  \n",
       "min            NaN  \n",
       "25%            NaN  \n",
       "50%            NaN  \n",
       "75%            NaN  \n",
       "max            NaN  "
      ]
     },
     "execution_count": 5,
     "metadata": {},
     "output_type": "execute_result"
    }
   ],
   "source": [
    "df.describe()"
   ]
  },
  {
   "cell_type": "markdown",
   "id": "ea9d92e5",
   "metadata": {},
   "source": [
    "#### Summary Statistics of categorical variables"
   ]
  },
  {
   "cell_type": "code",
   "execution_count": 6,
   "id": "0ad85410",
   "metadata": {},
   "outputs": [
    {
     "data": {
      "text/html": [
       "<div>\n",
       "<style scoped>\n",
       "    .dataframe tbody tr th:only-of-type {\n",
       "        vertical-align: middle;\n",
       "    }\n",
       "\n",
       "    .dataframe tbody tr th {\n",
       "        vertical-align: top;\n",
       "    }\n",
       "\n",
       "    .dataframe thead th {\n",
       "        text-align: right;\n",
       "    }\n",
       "</style>\n",
       "<table border=\"1\" class=\"dataframe\">\n",
       "  <thead>\n",
       "    <tr style=\"text-align: right;\">\n",
       "      <th></th>\n",
       "      <th></th>\n",
       "      <th>count</th>\n",
       "    </tr>\n",
       "    <tr>\n",
       "      <th>column_name</th>\n",
       "      <th>value_count</th>\n",
       "      <th></th>\n",
       "    </tr>\n",
       "  </thead>\n",
       "  <tbody>\n",
       "    <tr>\n",
       "      <th rowspan=\"2\" valign=\"top\">Attrition</th>\n",
       "      <th>Yes</th>\n",
       "      <td>237</td>\n",
       "    </tr>\n",
       "    <tr>\n",
       "      <th>No</th>\n",
       "      <td>1233</td>\n",
       "    </tr>\n",
       "    <tr>\n",
       "      <th rowspan=\"3\" valign=\"top\">BusinessTravel</th>\n",
       "      <th>Non-Travel</th>\n",
       "      <td>150</td>\n",
       "    </tr>\n",
       "    <tr>\n",
       "      <th>Travel_Frequently</th>\n",
       "      <td>277</td>\n",
       "    </tr>\n",
       "    <tr>\n",
       "      <th>Travel_Rarely</th>\n",
       "      <td>1043</td>\n",
       "    </tr>\n",
       "    <tr>\n",
       "      <th>...</th>\n",
       "      <th>...</th>\n",
       "      <td>...</td>\n",
       "    </tr>\n",
       "    <tr>\n",
       "      <th rowspan=\"3\" valign=\"top\">Status_of_leaving</th>\n",
       "      <th>Work Environment</th>\n",
       "      <td>290</td>\n",
       "    </tr>\n",
       "    <tr>\n",
       "      <th>Salary</th>\n",
       "      <td>297</td>\n",
       "    </tr>\n",
       "    <tr>\n",
       "      <th>Dept.Head</th>\n",
       "      <td>314</td>\n",
       "    </tr>\n",
       "    <tr>\n",
       "      <th rowspan=\"2\" valign=\"top\">Work_accident</th>\n",
       "      <th>Yes</th>\n",
       "      <td>734</td>\n",
       "    </tr>\n",
       "    <tr>\n",
       "      <th>No</th>\n",
       "      <td>736</td>\n",
       "    </tr>\n",
       "  </tbody>\n",
       "</table>\n",
       "<p>1156 rows × 1 columns</p>\n",
       "</div>"
      ],
      "text/plain": [
       "                                     count\n",
       "column_name       value_count             \n",
       "Attrition         Yes                  237\n",
       "                  No                  1233\n",
       "BusinessTravel    Non-Travel           150\n",
       "                  Travel_Frequently    277\n",
       "                  Travel_Rarely       1043\n",
       "...                                    ...\n",
       "Status_of_leaving Work Environment     290\n",
       "                  Salary               297\n",
       "                  Dept.Head            314\n",
       "Work_accident     Yes                  734\n",
       "                  No                   736\n",
       "\n",
       "[1156 rows x 1 columns]"
      ]
     },
     "metadata": {},
     "output_type": "display_data"
    }
   ],
   "source": [
    "cat_cols=df.select_dtypes(include=object).columns.tolist()\n",
    "cat_df=pd.DataFrame(df[cat_cols].melt(var_name='column_name', value_name='value_count').value_counts())\\\n",
    "    .rename(columns={0: 'count'})\\\n",
    "    .sort_values(by=['column_name', 'count'])\n",
    "#display(df.select_dtypes(include=object).describe())\n",
    "display(cat_df)"
   ]
  },
  {
   "cell_type": "markdown",
   "id": "e65cf710",
   "metadata": {},
   "source": [
    "### Preprocessing\n",
    "   * Remove unneeded features \n",
    "   * Feature Detection\n",
    "   * Detecting Outliers\n",
    "   * Preparing Dataset\n",
    "   * Transform some of the binary variables into a 1/0 format.\n",
    "   "
   ]
  },
  {
   "cell_type": "markdown",
   "id": "ba4f127d",
   "metadata": {},
   "source": [
    "Finding Columns having only one Unique Values and drop them"
   ]
  },
  {
   "cell_type": "code",
   "execution_count": 7,
   "id": "c5ad2e56",
   "metadata": {},
   "outputs": [
    {
     "data": {
      "text/plain": [
       "['Date_of_termination', 'Unnamed: 32']"
      ]
     },
     "execution_count": 7,
     "metadata": {},
     "output_type": "execute_result"
    }
   ],
   "source": [
    "redundant_cols = list()\n",
    "\n",
    "for col in df.columns:\n",
    "    if len(df[col].unique()) == 1:\n",
    "        redundant_cols.append(col)\n",
    "\n",
    "redundant_cols"
   ]
  },
  {
   "cell_type": "code",
   "execution_count": 8,
   "id": "04e81faa",
   "metadata": {},
   "outputs": [],
   "source": [
    "df.drop(redundant_cols, axis=1, inplace=True)"
   ]
  },
  {
   "cell_type": "code",
   "execution_count": 9,
   "id": "565e1c16",
   "metadata": {},
   "outputs": [
    {
     "data": {
      "text/plain": [
       "(1470, 31)"
      ]
     },
     "execution_count": 9,
     "metadata": {},
     "output_type": "execute_result"
    }
   ],
   "source": [
    "df.shape"
   ]
  },
  {
   "cell_type": "markdown",
   "id": "892a99a2",
   "metadata": {},
   "source": [
    "### Feature engineering and selection"
   ]
  },
  {
   "cell_type": "markdown",
   "id": "0683acdf",
   "metadata": {},
   "source": [
    "The feature Selection is one of the main steps of the preprocessing phase as the features which we choose directly effects the model performance. While some of the features seem to be less useful in terms of the context; others seem to equally useful. The better features we use the better our model will perform.\n",
    "\n",
    "We can also use the Recusrive Feature Elimination technique (a wrapper method) to choose the desired number of most important features. The Recursive Feature Elimination (or RFE) works by recursively removing attributes and building a model on those attributes that remain.\n",
    "\n",
    "It uses the model accuracy to identify which attributes (and combination of attributes) contribute the most to predicting the target attribute.\n",
    "\n",
    "We can use it directly from the scikit library by importing the RFE module or function provided by the scikit. But note that since it tries different combinations or the subset of features;it is quite computationally expensive."
   ]
  },
  {
   "cell_type": "code",
   "execution_count": 10,
   "id": "4a809cd3",
   "metadata": {},
   "outputs": [],
   "source": [
    "df.drop(['BusinessTravel', 'NumCompaniesWorked', 'StockOptionLevel','TrainingTimesLastYear'],axis=1,inplace=True)"
   ]
  },
  {
   "cell_type": "markdown",
   "id": "0c604ca4",
   "metadata": {},
   "source": [
    "#### Plotting the Features against the top 'Target' variable."
   ]
  },
  {
   "cell_type": "markdown",
   "id": "bc221364",
   "metadata": {},
   "source": [
    "<b>1. Age</b>\n",
    "\n",
    "An Age is a continuous quantity and therefore we can plot it against the Attrition using a boxplot."
   ]
  },
  {
   "cell_type": "code",
   "execution_count": 11,
   "id": "c0163a13",
   "metadata": {},
   "outputs": [
    {
     "data": {
      "text/plain": [
       "Attrition\n",
       "No     1233\n",
       "Yes     237\n",
       "Name: count, dtype: int64"
      ]
     },
     "execution_count": 11,
     "metadata": {},
     "output_type": "execute_result"
    }
   ],
   "source": [
    "df['Attrition'].value_counts()"
   ]
  },
  {
   "cell_type": "code",
   "execution_count": 12,
   "id": "13bb15af",
   "metadata": {},
   "outputs": [
    {
     "data": {
      "text/plain": [
       "<Axes: >"
      ]
     },
     "execution_count": 12,
     "metadata": {},
     "output_type": "execute_result"
    },
    {
     "data": {
      "image/png": "[encoded data removed]",
      "text/plain": [
       "<Figure size 640x480 with 1 Axes>"
      ]
     },
     "metadata": {},
     "output_type": "display_data"
    }
   ],
   "source": [
    "df[['Age','MonthlyIncome']].plot(kind='bar')"
   ]
  },
  {
   "cell_type": "code",
   "execution_count": 13,
   "id": "7aed0597",
   "metadata": {},
   "outputs": [
    {
     "data": {
      "text/plain": [
       "<Axes: xlabel='Age', ylabel='MonthlyIncome'>"
      ]
     },
     "execution_count": 13,
     "metadata": {},
     "output_type": "execute_result"
    },
    {
     "data": {
      "image/png": "[encoded data removed]",
      "text/plain": [
       "<Figure size 640x480 with 1 Axes>"
      ]
     },
     "metadata": {},
     "output_type": "display_data"
    }
   ],
   "source": [
    "sns.histplot(data=df,y='MonthlyIncome',x='Age',hue='Attrition', palette ='gray')"
   ]
  },
  {
   "cell_type": "code",
   "execution_count": 14,
   "id": "9ad5b9f9",
   "metadata": {},
   "outputs": [
    {
     "data": {
      "text/plain": [
       "<seaborn.axisgrid.FacetGrid at 0x23ec1c468d0>"
      ]
     },
     "execution_count": 14,
     "metadata": {},
     "output_type": "execute_result"
    },
    {
     "data": {
      "image/png": "[encoded data removed]",
      "text/plain": [
       "<Figure size 511.111x500 with 1 Axes>"
      ]
     },
     "metadata": {},
     "output_type": "display_data"
    }
   ],
   "source": [
    "sns.catplot(data=df,y='Age',x='Attrition',kind='box')"
   ]
  },
  {
   "cell_type": "markdown",
   "id": "83429896",
   "metadata": {},
   "source": [
    "The median as well the maximum age of the peole with '0' attrition is higher than that of the '1' category. This shows that peole with higher age have lesser tendency to leave the organisation which makes sense as they may have settled in the organisation."
   ]
  },
  {
   "cell_type": "markdown",
   "id": "591c52ee",
   "metadata": {},
   "source": [
    "<b>2. Job Level</b>"
   ]
  },
  {
   "cell_type": "code",
   "execution_count": 15,
   "id": "54efa385",
   "metadata": {},
   "outputs": [
    {
     "data": {
      "text/plain": [
       "<seaborn.axisgrid.FacetGrid at 0x23ec1af8d90>"
      ]
     },
     "execution_count": 15,
     "metadata": {},
     "output_type": "execute_result"
    },
    {
     "data": {
      "image/png": "[encoded data removed]",
      "text/plain": [
       "<Figure size 2511.11x500 with 5 Axes>"
      ]
     },
     "metadata": {},
     "output_type": "display_data"
    }
   ],
   "source": [
    "sns.catplot(data=df,kind='count',x='Attrition',col='JobLevel')"
   ]
  },
  {
   "cell_type": "code",
   "execution_count": 16,
   "id": "4bba5a85",
   "metadata": {},
   "outputs": [
    {
     "data": {
      "text/html": [
       "<div>\n",
       "<style scoped>\n",
       "    .dataframe tbody tr th:only-of-type {\n",
       "        vertical-align: middle;\n",
       "    }\n",
       "\n",
       "    .dataframe tbody tr th {\n",
       "        vertical-align: top;\n",
       "    }\n",
       "\n",
       "    .dataframe thead th {\n",
       "        text-align: right;\n",
       "    }\n",
       "</style>\n",
       "<table border=\"1\" class=\"dataframe\">\n",
       "  <thead>\n",
       "    <tr style=\"text-align: right;\">\n",
       "      <th>Attrition</th>\n",
       "      <th>No</th>\n",
       "      <th>Yes</th>\n",
       "    </tr>\n",
       "    <tr>\n",
       "      <th>JobLevel</th>\n",
       "      <th></th>\n",
       "      <th></th>\n",
       "    </tr>\n",
       "  </thead>\n",
       "  <tbody>\n",
       "    <tr>\n",
       "      <th>1</th>\n",
       "      <td>0.736648</td>\n",
       "      <td>0.263352</td>\n",
       "    </tr>\n",
       "    <tr>\n",
       "      <th>2</th>\n",
       "      <td>0.902622</td>\n",
       "      <td>0.097378</td>\n",
       "    </tr>\n",
       "    <tr>\n",
       "      <th>3</th>\n",
       "      <td>0.853211</td>\n",
       "      <td>0.146789</td>\n",
       "    </tr>\n",
       "    <tr>\n",
       "      <th>4</th>\n",
       "      <td>0.952830</td>\n",
       "      <td>0.047170</td>\n",
       "    </tr>\n",
       "    <tr>\n",
       "      <th>5</th>\n",
       "      <td>0.927536</td>\n",
       "      <td>0.072464</td>\n",
       "    </tr>\n",
       "    <tr>\n",
       "      <th>All</th>\n",
       "      <td>0.838776</td>\n",
       "      <td>0.161224</td>\n",
       "    </tr>\n",
       "  </tbody>\n",
       "</table>\n",
       "</div>"
      ],
      "text/plain": [
       "Attrition        No       Yes\n",
       "JobLevel                     \n",
       "1          0.736648  0.263352\n",
       "2          0.902622  0.097378\n",
       "3          0.853211  0.146789\n",
       "4          0.952830  0.047170\n",
       "5          0.927536  0.072464\n",
       "All        0.838776  0.161224"
      ]
     },
     "execution_count": 16,
     "metadata": {},
     "output_type": "execute_result"
    }
   ],
   "source": [
    "pd.crosstab(columns=[df.Attrition],index=[df.JobLevel],margins=True,normalize='index') "
   ]
  },
  {
   "cell_type": "markdown",
   "id": "c45157a6",
   "metadata": {},
   "source": [
    "People in Joblevel 4 have a very high percent for a '0' and a low percent for a '1'."
   ]
  },
  {
   "cell_type": "markdown",
   "id": "a2c05c69",
   "metadata": {},
   "source": [
    "<b>3. Monthly Income</b>"
   ]
  },
  {
   "cell_type": "code",
   "execution_count": 17,
   "id": "a84265a1",
   "metadata": {},
   "outputs": [
    {
     "data": {
      "text/plain": [
       "<seaborn.axisgrid.FacetGrid at 0x23ec1f90110>"
      ]
     },
     "execution_count": 17,
     "metadata": {},
     "output_type": "execute_result"
    },
    {
     "data": {
      "image/png": "[encoded data removed]",
      "text/plain": [
       "<Figure size 511.111x500 with 1 Axes>"
      ]
     },
     "metadata": {},
     "output_type": "display_data"
    }
   ],
   "source": [
    "sns.catplot(data=df,kind='bar',x='Attrition',y='MonthlyIncome')"
   ]
  },
  {
   "cell_type": "markdown",
   "id": "0da54483",
   "metadata": {},
   "source": [
    "The average income for '0' class is quite higher and it is obvious as those earning well will certainly not be willing to exit the organisation. Similarly those employees who are probably not earning well will certainly want to change the company."
   ]
  },
  {
   "cell_type": "markdown",
   "id": "7ab94316",
   "metadata": {},
   "source": [
    "<b>4. Job Satisfaction</b>"
   ]
  },
  {
   "cell_type": "code",
   "execution_count": 18,
   "id": "f2cb6116",
   "metadata": {},
   "outputs": [
    {
     "data": {
      "text/plain": [
       "<seaborn.axisgrid.FacetGrid at 0x23ec1bbbdd0>"
      ]
     },
     "execution_count": 18,
     "metadata": {},
     "output_type": "execute_result"
    },
    {
     "data": {
      "image/png": "[encoded data removed]",
      "text/plain": [
       "<Figure size 2011.11x500 with 4 Axes>"
      ]
     },
     "metadata": {},
     "output_type": "display_data"
    }
   ],
   "source": [
    "sns.catplot(data=df,kind='count',x='Attrition',col='JobSatisfaction')"
   ]
  },
  {
   "cell_type": "code",
   "execution_count": 19,
   "id": "df7b73fb",
   "metadata": {},
   "outputs": [
    {
     "data": {
      "text/html": [
       "<div>\n",
       "<style scoped>\n",
       "    .dataframe tbody tr th:only-of-type {\n",
       "        vertical-align: middle;\n",
       "    }\n",
       "\n",
       "    .dataframe tbody tr th {\n",
       "        vertical-align: top;\n",
       "    }\n",
       "\n",
       "    .dataframe thead th {\n",
       "        text-align: right;\n",
       "    }\n",
       "</style>\n",
       "<table border=\"1\" class=\"dataframe\">\n",
       "  <thead>\n",
       "    <tr style=\"text-align: right;\">\n",
       "      <th>Attrition</th>\n",
       "      <th>No</th>\n",
       "      <th>Yes</th>\n",
       "    </tr>\n",
       "    <tr>\n",
       "      <th>JobSatisfaction</th>\n",
       "      <th></th>\n",
       "      <th></th>\n",
       "    </tr>\n",
       "  </thead>\n",
       "  <tbody>\n",
       "    <tr>\n",
       "      <th>1</th>\n",
       "      <td>0.771626</td>\n",
       "      <td>0.228374</td>\n",
       "    </tr>\n",
       "    <tr>\n",
       "      <th>2</th>\n",
       "      <td>0.835714</td>\n",
       "      <td>0.164286</td>\n",
       "    </tr>\n",
       "    <tr>\n",
       "      <th>3</th>\n",
       "      <td>0.834842</td>\n",
       "      <td>0.165158</td>\n",
       "    </tr>\n",
       "    <tr>\n",
       "      <th>4</th>\n",
       "      <td>0.886710</td>\n",
       "      <td>0.113290</td>\n",
       "    </tr>\n",
       "    <tr>\n",
       "      <th>All</th>\n",
       "      <td>0.838776</td>\n",
       "      <td>0.161224</td>\n",
       "    </tr>\n",
       "  </tbody>\n",
       "</table>\n",
       "</div>"
      ],
      "text/plain": [
       "Attrition              No       Yes\n",
       "JobSatisfaction                    \n",
       "1                0.771626  0.228374\n",
       "2                0.835714  0.164286\n",
       "3                0.834842  0.165158\n",
       "4                0.886710  0.113290\n",
       "All              0.838776  0.161224"
      ]
     },
     "execution_count": 19,
     "metadata": {},
     "output_type": "execute_result"
    }
   ],
   "source": [
    "pd.crosstab(columns=[df.Attrition],index=[df.JobSatisfaction],margins=True,normalize='index')"
   ]
  },
  {
   "cell_type": "markdown",
   "id": "cbd30277",
   "metadata": {},
   "source": [
    "The above plot shows an interesting trend. For higher values of job satisfaction( ie more a person is satisfied with his job) lesser percent of them say a '1' which is quite obvious as highly contented workers will obvioulsy not like to leave the organisation."
   ]
  },
  {
   "cell_type": "markdown",
   "id": "745112b1",
   "metadata": {},
   "source": [
    "<b>5. Salary Hike </b>"
   ]
  },
  {
   "cell_type": "code",
   "execution_count": 20,
   "id": "5f994768",
   "metadata": {},
   "outputs": [
    {
     "data": {
      "text/plain": [
       "<seaborn.axisgrid.FacetGrid at 0x23ec260ab90>"
      ]
     },
     "execution_count": 20,
     "metadata": {},
     "output_type": "execute_result"
    },
    {
     "data": {
      "image/png": "[encoded data removed]",
      "text/plain": [
       "<Figure size 7511.11x500 with 15 Axes>"
      ]
     },
     "metadata": {},
     "output_type": "display_data"
    }
   ],
   "source": [
    "sns.catplot(data=df,kind='count',x='Attrition',col='PercentSalaryHike')"
   ]
  },
  {
   "cell_type": "code",
   "execution_count": 21,
   "id": "1ea989ca",
   "metadata": {},
   "outputs": [
    {
     "data": {
      "text/html": [
       "<div>\n",
       "<style scoped>\n",
       "    .dataframe tbody tr th:only-of-type {\n",
       "        vertical-align: middle;\n",
       "    }\n",
       "\n",
       "    .dataframe tbody tr th {\n",
       "        vertical-align: top;\n",
       "    }\n",
       "\n",
       "    .dataframe thead th {\n",
       "        text-align: right;\n",
       "    }\n",
       "</style>\n",
       "<table border=\"1\" class=\"dataframe\">\n",
       "  <thead>\n",
       "    <tr style=\"text-align: right;\">\n",
       "      <th>Attrition</th>\n",
       "      <th>No</th>\n",
       "      <th>Yes</th>\n",
       "    </tr>\n",
       "    <tr>\n",
       "      <th>PercentSalaryHike</th>\n",
       "      <th></th>\n",
       "      <th></th>\n",
       "    </tr>\n",
       "  </thead>\n",
       "  <tbody>\n",
       "    <tr>\n",
       "      <th>11</th>\n",
       "      <td>0.804762</td>\n",
       "      <td>0.195238</td>\n",
       "    </tr>\n",
       "    <tr>\n",
       "      <th>12</th>\n",
       "      <td>0.833333</td>\n",
       "      <td>0.166667</td>\n",
       "    </tr>\n",
       "    <tr>\n",
       "      <th>13</th>\n",
       "      <td>0.837321</td>\n",
       "      <td>0.162679</td>\n",
       "    </tr>\n",
       "    <tr>\n",
       "      <th>14</th>\n",
       "      <td>0.880597</td>\n",
       "      <td>0.119403</td>\n",
       "    </tr>\n",
       "    <tr>\n",
       "      <th>15</th>\n",
       "      <td>0.821782</td>\n",
       "      <td>0.178218</td>\n",
       "    </tr>\n",
       "    <tr>\n",
       "      <th>16</th>\n",
       "      <td>0.820513</td>\n",
       "      <td>0.179487</td>\n",
       "    </tr>\n",
       "    <tr>\n",
       "      <th>17</th>\n",
       "      <td>0.829268</td>\n",
       "      <td>0.170732</td>\n",
       "    </tr>\n",
       "    <tr>\n",
       "      <th>18</th>\n",
       "      <td>0.853933</td>\n",
       "      <td>0.146067</td>\n",
       "    </tr>\n",
       "    <tr>\n",
       "      <th>19</th>\n",
       "      <td>0.881579</td>\n",
       "      <td>0.118421</td>\n",
       "    </tr>\n",
       "    <tr>\n",
       "      <th>20</th>\n",
       "      <td>0.872727</td>\n",
       "      <td>0.127273</td>\n",
       "    </tr>\n",
       "    <tr>\n",
       "      <th>21</th>\n",
       "      <td>0.895833</td>\n",
       "      <td>0.104167</td>\n",
       "    </tr>\n",
       "    <tr>\n",
       "      <th>22</th>\n",
       "      <td>0.785714</td>\n",
       "      <td>0.214286</td>\n",
       "    </tr>\n",
       "    <tr>\n",
       "      <th>23</th>\n",
       "      <td>0.785714</td>\n",
       "      <td>0.214286</td>\n",
       "    </tr>\n",
       "    <tr>\n",
       "      <th>24</th>\n",
       "      <td>0.714286</td>\n",
       "      <td>0.285714</td>\n",
       "    </tr>\n",
       "    <tr>\n",
       "      <th>25</th>\n",
       "      <td>0.944444</td>\n",
       "      <td>0.055556</td>\n",
       "    </tr>\n",
       "    <tr>\n",
       "      <th>All</th>\n",
       "      <td>0.838776</td>\n",
       "      <td>0.161224</td>\n",
       "    </tr>\n",
       "  </tbody>\n",
       "</table>\n",
       "</div>"
      ],
      "text/plain": [
       "Attrition                No       Yes\n",
       "PercentSalaryHike                    \n",
       "11                 0.804762  0.195238\n",
       "12                 0.833333  0.166667\n",
       "13                 0.837321  0.162679\n",
       "14                 0.880597  0.119403\n",
       "15                 0.821782  0.178218\n",
       "16                 0.820513  0.179487\n",
       "17                 0.829268  0.170732\n",
       "18                 0.853933  0.146067\n",
       "19                 0.881579  0.118421\n",
       "20                 0.872727  0.127273\n",
       "21                 0.895833  0.104167\n",
       "22                 0.785714  0.214286\n",
       "23                 0.785714  0.214286\n",
       "24                 0.714286  0.285714\n",
       "25                 0.944444  0.055556\n",
       "All                0.838776  0.161224"
      ]
     },
     "execution_count": 21,
     "metadata": {},
     "output_type": "execute_result"
    }
   ],
   "source": [
    "pd.crosstab(columns=[df.Attrition],index=[df.PercentSalaryHike],margins=True,normalize='index')"
   ]
  },
  {
   "cell_type": "markdown",
   "id": "83462a67",
   "metadata": {},
   "source": [
    "From the above, the hike between 11 and 18 having very high percent for a '0' and a low percent for a '1'."
   ]
  },
  {
   "cell_type": "markdown",
   "id": "703bcc25",
   "metadata": {},
   "source": [
    "<b>6. Performance Rating</b>"
   ]
  },
  {
   "cell_type": "code",
   "execution_count": 22,
   "id": "645f36eb",
   "metadata": {},
   "outputs": [
    {
     "data": {
      "text/plain": [
       "<seaborn.axisgrid.FacetGrid at 0x23ec33bbdd0>"
      ]
     },
     "execution_count": 22,
     "metadata": {},
     "output_type": "execute_result"
    },
    {
     "data": {
      "image/png": "[encoded data removed]",
      "text/plain": [
       "<Figure size 1011.11x500 with 2 Axes>"
      ]
     },
     "metadata": {},
     "output_type": "display_data"
    }
   ],
   "source": [
    "sns.catplot(data=df,kind='count',x='Attrition',col='PerformanceRating')"
   ]
  },
  {
   "cell_type": "code",
   "execution_count": 23,
   "id": "b95c4c47",
   "metadata": {},
   "outputs": [
    {
     "data": {
      "text/html": [
       "<div>\n",
       "<style scoped>\n",
       "    .dataframe tbody tr th:only-of-type {\n",
       "        vertical-align: middle;\n",
       "    }\n",
       "\n",
       "    .dataframe tbody tr th {\n",
       "        vertical-align: top;\n",
       "    }\n",
       "\n",
       "    .dataframe thead th {\n",
       "        text-align: right;\n",
       "    }\n",
       "</style>\n",
       "<table border=\"1\" class=\"dataframe\">\n",
       "  <thead>\n",
       "    <tr style=\"text-align: right;\">\n",
       "      <th>Attrition</th>\n",
       "      <th>No</th>\n",
       "      <th>Yes</th>\n",
       "    </tr>\n",
       "    <tr>\n",
       "      <th>PerformanceRating</th>\n",
       "      <th></th>\n",
       "      <th></th>\n",
       "    </tr>\n",
       "  </thead>\n",
       "  <tbody>\n",
       "    <tr>\n",
       "      <th>3</th>\n",
       "      <td>0.839228</td>\n",
       "      <td>0.160772</td>\n",
       "    </tr>\n",
       "    <tr>\n",
       "      <th>4</th>\n",
       "      <td>0.836283</td>\n",
       "      <td>0.163717</td>\n",
       "    </tr>\n",
       "    <tr>\n",
       "      <th>All</th>\n",
       "      <td>0.838776</td>\n",
       "      <td>0.161224</td>\n",
       "    </tr>\n",
       "  </tbody>\n",
       "</table>\n",
       "</div>"
      ],
      "text/plain": [
       "Attrition                No       Yes\n",
       "PerformanceRating                    \n",
       "3                  0.839228  0.160772\n",
       "4                  0.836283  0.163717\n",
       "All                0.838776  0.161224"
      ]
     },
     "execution_count": 23,
     "metadata": {},
     "output_type": "execute_result"
    }
   ],
   "source": [
    "pd.crosstab(columns=[df.Attrition],index=[df.PerformanceRating],margins=True,normalize='index')"
   ]
  },
  {
   "cell_type": "markdown",
   "id": "6b87a998",
   "metadata": {},
   "source": [
    "From the above, both rating having same attrition."
   ]
  },
  {
   "cell_type": "markdown",
   "id": "4459a3e1",
   "metadata": {},
   "source": [
    "#### Outliers Detection"
   ]
  },
  {
   "cell_type": "code",
   "execution_count": 25,
   "id": "eb5146e7-9617-4c8d-952b-ea184eeb0bc4",
   "metadata": {},
   "outputs": [
    {
     "data": {
      "text/plain": [
       "['Age',\n",
       " 'DistanceFromHome',\n",
       " 'JobInvolvement',\n",
       " 'JobLevel',\n",
       " 'JobSatisfaction',\n",
       " 'MonthlyIncome',\n",
       " 'PercentSalaryHike',\n",
       " 'PerformanceRating',\n",
       " 'TotalWorkingYears',\n",
       " 'YearsAtCompany',\n",
       " 'YearsSinceLastPromotion',\n",
       " 'YearsWithCurrManager',\n",
       " 'Leaves',\n",
       " 'Absenteeism']"
      ]
     },
     "execution_count": 25,
     "metadata": {},
     "output_type": "execute_result"
    }
   ],
   "source": [
    "tar_cols=df.select_dtypes(exclude=object).columns.tolist()\n",
    "tar_cols"
   ]
  },
  {
   "cell_type": "code",
   "execution_count": 30,
   "id": "47ea40d9",
   "metadata": {},
   "outputs": [
    {
     "data": {
      "text/plain": [
       "<Axes: >"
      ]
     },
     "execution_count": 30,
     "metadata": {},
     "output_type": "execute_result"
    },
    {
     "data": {
      "image/png": "[encoded data removed]",
      "text/plain": [
       "<Figure size 3000x1200 with 2 Axes>"
      ]
     },
     "metadata": {},
     "output_type": "display_data"
    }
   ],
   "source": [
    "#corelation matrix.\n",
    "cor_mat= df[tar_cols].corr()\n",
    "mask = np.array(cor_mat)\n",
    "mask[np.tril_indices_from(mask)] = False\n",
    "fig=plt.gcf()\n",
    "fig.set_size_inches(30,12)\n",
    "sns.heatmap(data=cor_mat,mask=mask,square=True,annot=True,cbar=True)"
   ]
  },
  {
   "cell_type": "markdown",
   "id": "e1f5bdf8",
   "metadata": {},
   "source": [
    "<b>SOME INFERENCES FROM THE ABOVE HEATMAP</b>\n",
    "\n",
    "1. Self relation ie of a feature to itself is equal to 1 as expected.\n",
    "\n",
    "2. JobLevel is highly related to Age as expected as aged employees will generally tend to occupy higher positions in the company.\n",
    "\n",
    "3. MonthlyIncome is very strongly related to joblevel as expected as senior employees will definately earn more.\n",
    "\n",
    "4. PerformanceRating is highly related to PercentSalaryHike which is quite obvious.\n",
    "\n",
    "5. Also note that TotalWorkingYears is highly related to JobLevel which is expected as senior employees must have worked for a larger span of time.\n",
    "\n",
    "6. YearsWithCurrManager is highly related to YearsAtCompany.\n"
   ]
  },
  {
   "cell_type": "markdown",
   "id": "2e8be163",
   "metadata": {},
   "source": [
    "Note that we can drop some highly corelated features as they add redundancy to the model but since the corelation is very less in genral let us keep all the features for now. In case of highly corelated features we can use something like Principal Component Analysis(PCA) to reduce our feature space."
   ]
  },
  {
   "cell_type": "code",
   "execution_count": 31,
   "id": "774f78f5",
   "metadata": {},
   "outputs": [],
   "source": [
    "def detect_outliers(data, col):\n",
    "    Q1 = np.nanpercentile(data[col], 25, interpolation= 'midpoint')\n",
    "    Q3 = np.nanpercentile(data[col], 75, interpolation= 'midpoint')\n",
    "    IQR = Q3 - Q1\n",
    "    upper_bound = Q3 + 1.5 * IQR\n",
    "    lower_bound = Q1 - 1.5 * IQR\n",
    "\n",
    "    ls = df.index[(data[col] < lower_bound) | (data[col] > upper_bound)]\n",
    "\n",
    "    return ls"
   ]
  },
  {
   "cell_type": "markdown",
   "id": "8898ade2",
   "metadata": {},
   "source": [
    "Getting a feature list of int64 data type"
   ]
  },
  {
   "cell_type": "code",
   "execution_count": 32,
   "id": "a6d3b3e5",
   "metadata": {},
   "outputs": [
    {
     "data": {
      "text/plain": [
       "['Age',\n",
       " 'DistanceFromHome',\n",
       " 'JobInvolvement',\n",
       " 'JobLevel',\n",
       " 'JobSatisfaction',\n",
       " 'MonthlyIncome',\n",
       " 'PercentSalaryHike',\n",
       " 'PerformanceRating',\n",
       " 'TotalWorkingYears',\n",
       " 'YearsAtCompany',\n",
       " 'YearsSinceLastPromotion',\n",
       " 'YearsWithCurrManager',\n",
       " 'Leaves',\n",
       " 'Absenteeism']"
      ]
     },
     "execution_count": 32,
     "metadata": {},
     "output_type": "execute_result"
    }
   ],
   "source": [
    "features_lst = list()\n",
    "for col in df.columns:\n",
    "    if df[col].dtype == 'int64':\n",
    "        features_lst.append(col)\n",
    "\n",
    "features_lst  "
   ]
  },
  {
   "cell_type": "code",
   "execution_count": 33,
   "id": "6ceeccec",
   "metadata": {},
   "outputs": [
    {
     "name": "stdout",
     "output_type": "stream",
     "text": [
      "MonthlyIncome\n",
      "PerformanceRating\n",
      "TotalWorkingYears\n",
      "YearsAtCompany\n",
      "YearsSinceLastPromotion\n",
      "YearsWithCurrManager\n"
     ]
    },
    {
     "name": "stderr",
     "output_type": "stream",
     "text": [
      "C:\\Users\\Vimalkumar\\AppData\\Local\\Temp\\ipykernel_16576\\2514010062.py:2: DeprecationWarning: the `interpolation=` argument to nanpercentile was renamed to `method=`, which has additional options.\n",
      "Users of the modes 'nearest', 'lower', 'higher', or 'midpoint' are encouraged to review the method they used. (Deprecated NumPy 1.22)\n",
      "  if len(detect_outliers(df, col_name)) != 0:\n"
     ]
    }
   ],
   "source": [
    "for col_name in features_lst:\n",
    "    if len(detect_outliers(df, col_name)) != 0:\n",
    "        print(col_name)"
   ]
  },
  {
   "cell_type": "code",
   "execution_count": 34,
   "id": "2b76e435",
   "metadata": {},
   "outputs": [
    {
     "data": {
      "text/plain": [
       "Text(0, 0.5, 'Total Working Years')"
      ]
     },
     "execution_count": 34,
     "metadata": {},
     "output_type": "execute_result"
    },
    {
     "data": {
      "image/png": "[encoded data removed]",
      "text/plain": [
       "<Figure size 650x500 with 1 Axes>"
      ]
     },
     "metadata": {},
     "output_type": "display_data"
    }
   ],
   "source": [
    "plt.figure(figsize=(6.5,5))\n",
    "plt.scatter(df.Age, df.TotalWorkingYears, )\n",
    "plt.xlabel('Age')\n",
    "plt.ylabel('Total Working Years')"
   ]
  },
  {
   "cell_type": "code",
   "execution_count": 35,
   "id": "4c711a03",
   "metadata": {},
   "outputs": [
    {
     "data": {
      "text/plain": [
       "Text(0, 0.5, 'Total Working Years')"
      ]
     },
     "execution_count": 35,
     "metadata": {},
     "output_type": "execute_result"
    },
    {
     "data": {
      "image/png": "[encoded data removed]",
      "text/plain": [
       "<Figure size 650x500 with 1 Axes>"
      ]
     },
     "metadata": {},
     "output_type": "display_data"
    }
   ],
   "source": [
    "\n",
    "plt.figure(figsize=(6.5,5))\n",
    "plt.scatter(df.MonthlyIncome, df.TotalWorkingYears, )\n",
    "plt.xlabel('Monthly Income')\n",
    "plt.ylabel('Total Working Years')"
   ]
  },
  {
   "cell_type": "code",
   "execution_count": 36,
   "id": "4cdaa8bb",
   "metadata": {},
   "outputs": [
    {
     "data": {
      "text/plain": [
       "Text(0, 0.5, 'Monthly Income')"
      ]
     },
     "execution_count": 36,
     "metadata": {},
     "output_type": "execute_result"
    },
    {
     "data": {
      "image/png": "[encoded data removed]",
      "text/plain": [
       "<Figure size 650x500 with 1 Axes>"
      ]
     },
     "metadata": {},
     "output_type": "display_data"
    }
   ],
   "source": [
    "plt.figure(figsize=(6.5,5))\n",
    "plt.scatter(df.Age, df.MonthlyIncome,)\n",
    "plt.xlabel('Age')\n",
    "plt.ylabel('Monthly Income')"
   ]
  },
  {
   "cell_type": "code",
   "execution_count": 37,
   "id": "0d496ea3",
   "metadata": {},
   "outputs": [
    {
     "data": {
      "text/plain": [
       "Text(0, 0.5, 'Monthly Income')"
      ]
     },
     "execution_count": 37,
     "metadata": {},
     "output_type": "execute_result"
    },
    {
     "data": {
      "image/png": "[encoded data removed]",
      "text/plain": [
       "<Figure size 650x500 with 1 Axes>"
      ]
     },
     "metadata": {},
     "output_type": "display_data"
    }
   ],
   "source": [
    "plt.figure(figsize=(6.5,5))\n",
    "plt.scatter(df.JobLevel, df.MonthlyIncome,)\n",
    "plt.xlabel('Job Level')\n",
    "plt.ylabel('Monthly Income')"
   ]
  },
  {
   "cell_type": "code",
   "execution_count": 38,
   "id": "5dd2e93d",
   "metadata": {},
   "outputs": [
    {
     "data": {
      "text/plain": [
       "0.9502999134798454"
      ]
     },
     "execution_count": 38,
     "metadata": {},
     "output_type": "execute_result"
    }
   ],
   "source": [
    "df['JobLevel'].corr(df['MonthlyIncome'])"
   ]
  },
  {
   "cell_type": "markdown",
   "id": "43940b24",
   "metadata": {},
   "source": [
    "As the correlation between the two columns is very high, we can simply drop one column"
   ]
  },
  {
   "cell_type": "markdown",
   "id": "18575fe1",
   "metadata": {},
   "source": [
    "#### Remove collinear features"
   ]
  },
  {
   "cell_type": "code",
   "execution_count": 40,
   "id": "73b0076b",
   "metadata": {},
   "outputs": [
    {
     "data": {
      "text/html": [
       "<div>\n",
       "<style scoped>\n",
       "    .dataframe tbody tr th:only-of-type {\n",
       "        vertical-align: middle;\n",
       "    }\n",
       "\n",
       "    .dataframe tbody tr th {\n",
       "        vertical-align: top;\n",
       "    }\n",
       "\n",
       "    .dataframe thead th {\n",
       "        text-align: right;\n",
       "    }\n",
       "</style>\n",
       "<table border=\"1\" class=\"dataframe\">\n",
       "  <thead>\n",
       "    <tr style=\"text-align: right;\">\n",
       "      <th></th>\n",
       "      <th>Age</th>\n",
       "      <th>DistanceFromHome</th>\n",
       "      <th>JobInvolvement</th>\n",
       "      <th>JobLevel</th>\n",
       "      <th>JobSatisfaction</th>\n",
       "      <th>MonthlyIncome</th>\n",
       "      <th>PercentSalaryHike</th>\n",
       "      <th>PerformanceRating</th>\n",
       "      <th>TotalWorkingYears</th>\n",
       "      <th>YearsAtCompany</th>\n",
       "      <th>YearsSinceLastPromotion</th>\n",
       "      <th>YearsWithCurrManager</th>\n",
       "      <th>Leaves</th>\n",
       "      <th>Absenteeism</th>\n",
       "    </tr>\n",
       "  </thead>\n",
       "  <tbody>\n",
       "    <tr>\n",
       "      <th>Age</th>\n",
       "      <td>1.000000</td>\n",
       "      <td>0.001686</td>\n",
       "      <td>0.029820</td>\n",
       "      <td>0.509604</td>\n",
       "      <td>0.004892</td>\n",
       "      <td>0.497855</td>\n",
       "      <td>0.003634</td>\n",
       "      <td>0.001904</td>\n",
       "      <td>0.680381</td>\n",
       "      <td>0.311309</td>\n",
       "      <td>0.216513</td>\n",
       "      <td>0.202089</td>\n",
       "      <td>0.033811</td>\n",
       "      <td>0.004628</td>\n",
       "    </tr>\n",
       "    <tr>\n",
       "      <th>DistanceFromHome</th>\n",
       "      <td>0.001686</td>\n",
       "      <td>1.000000</td>\n",
       "      <td>0.008783</td>\n",
       "      <td>0.005303</td>\n",
       "      <td>0.003669</td>\n",
       "      <td>0.017014</td>\n",
       "      <td>0.040235</td>\n",
       "      <td>0.027110</td>\n",
       "      <td>0.004628</td>\n",
       "      <td>0.009508</td>\n",
       "      <td>0.010029</td>\n",
       "      <td>0.014406</td>\n",
       "      <td>0.022749</td>\n",
       "      <td>0.024581</td>\n",
       "    </tr>\n",
       "    <tr>\n",
       "      <th>JobInvolvement</th>\n",
       "      <td>0.029820</td>\n",
       "      <td>0.008783</td>\n",
       "      <td>1.000000</td>\n",
       "      <td>0.012630</td>\n",
       "      <td>0.021476</td>\n",
       "      <td>0.015271</td>\n",
       "      <td>0.017205</td>\n",
       "      <td>0.029071</td>\n",
       "      <td>0.005533</td>\n",
       "      <td>0.021355</td>\n",
       "      <td>0.024184</td>\n",
       "      <td>0.025976</td>\n",
       "      <td>0.016599</td>\n",
       "      <td>0.000442</td>\n",
       "    </tr>\n",
       "    <tr>\n",
       "      <th>JobLevel</th>\n",
       "      <td>0.509604</td>\n",
       "      <td>0.005303</td>\n",
       "      <td>0.012630</td>\n",
       "      <td>1.000000</td>\n",
       "      <td>0.001944</td>\n",
       "      <td>0.950300</td>\n",
       "      <td>0.034730</td>\n",
       "      <td>0.021222</td>\n",
       "      <td>0.782208</td>\n",
       "      <td>0.534739</td>\n",
       "      <td>0.353885</td>\n",
       "      <td>0.375281</td>\n",
       "      <td>0.028144</td>\n",
       "      <td>0.013089</td>\n",
       "    </tr>\n",
       "    <tr>\n",
       "      <th>JobSatisfaction</th>\n",
       "      <td>0.004892</td>\n",
       "      <td>0.003669</td>\n",
       "      <td>0.021476</td>\n",
       "      <td>0.001944</td>\n",
       "      <td>1.000000</td>\n",
       "      <td>0.007157</td>\n",
       "      <td>0.020002</td>\n",
       "      <td>0.002297</td>\n",
       "      <td>0.020185</td>\n",
       "      <td>0.003803</td>\n",
       "      <td>0.018214</td>\n",
       "      <td>0.027656</td>\n",
       "      <td>0.044989</td>\n",
       "      <td>0.027244</td>\n",
       "    </tr>\n",
       "  </tbody>\n",
       "</table>\n",
       "</div>"
      ],
      "text/plain": [
       "                       Age  DistanceFromHome  JobInvolvement  JobLevel  \\\n",
       "Age               1.000000          0.001686        0.029820  0.509604   \n",
       "DistanceFromHome  0.001686          1.000000        0.008783  0.005303   \n",
       "JobInvolvement    0.029820          0.008783        1.000000  0.012630   \n",
       "JobLevel          0.509604          0.005303        0.012630  1.000000   \n",
       "JobSatisfaction   0.004892          0.003669        0.021476  0.001944   \n",
       "\n",
       "                  JobSatisfaction  MonthlyIncome  PercentSalaryHike  \\\n",
       "Age                      0.004892       0.497855           0.003634   \n",
       "DistanceFromHome         0.003669       0.017014           0.040235   \n",
       "JobInvolvement           0.021476       0.015271           0.017205   \n",
       "JobLevel                 0.001944       0.950300           0.034730   \n",
       "JobSatisfaction          1.000000       0.007157           0.020002   \n",
       "\n",
       "                  PerformanceRating  TotalWorkingYears  YearsAtCompany  \\\n",
       "Age                        0.001904           0.680381        0.311309   \n",
       "DistanceFromHome           0.027110           0.004628        0.009508   \n",
       "JobInvolvement             0.029071           0.005533        0.021355   \n",
       "JobLevel                   0.021222           0.782208        0.534739   \n",
       "JobSatisfaction            0.002297           0.020185        0.003803   \n",
       "\n",
       "                  YearsSinceLastPromotion  YearsWithCurrManager    Leaves  \\\n",
       "Age                              0.216513              0.202089  0.033811   \n",
       "DistanceFromHome                 0.010029              0.014406  0.022749   \n",
       "JobInvolvement                   0.024184              0.025976  0.016599   \n",
       "JobLevel                         0.353885              0.375281  0.028144   \n",
       "JobSatisfaction                  0.018214              0.027656  0.044989   \n",
       "\n",
       "                  Absenteeism  \n",
       "Age                  0.004628  \n",
       "DistanceFromHome     0.024581  \n",
       "JobInvolvement       0.000442  \n",
       "JobLevel             0.013089  \n",
       "JobSatisfaction      0.027244  "
      ]
     },
     "execution_count": 40,
     "metadata": {},
     "output_type": "execute_result"
    }
   ],
   "source": [
    "# Threshold for removing correlated variables\n",
    "threshold = 0.8\n",
    "\n",
    "# Absolute value correlation matrix\n",
    "corr_matrix = df[features_lst].corr().abs()\n",
    "corr_matrix.head()\n"
   ]
  },
  {
   "cell_type": "code",
   "execution_count": 45,
   "id": "914d2464",
   "metadata": {},
   "outputs": [
    {
     "data": {
      "text/html": [
       "<div>\n",
       "<style scoped>\n",
       "    .dataframe tbody tr th:only-of-type {\n",
       "        vertical-align: middle;\n",
       "    }\n",
       "\n",
       "    .dataframe tbody tr th {\n",
       "        vertical-align: top;\n",
       "    }\n",
       "\n",
       "    .dataframe thead th {\n",
       "        text-align: right;\n",
       "    }\n",
       "</style>\n",
       "<table border=\"1\" class=\"dataframe\">\n",
       "  <thead>\n",
       "    <tr style=\"text-align: right;\">\n",
       "      <th></th>\n",
       "      <th>Age</th>\n",
       "      <th>DistanceFromHome</th>\n",
       "      <th>JobInvolvement</th>\n",
       "      <th>JobLevel</th>\n",
       "      <th>JobSatisfaction</th>\n",
       "      <th>MonthlyIncome</th>\n",
       "      <th>PercentSalaryHike</th>\n",
       "      <th>PerformanceRating</th>\n",
       "      <th>TotalWorkingYears</th>\n",
       "      <th>YearsAtCompany</th>\n",
       "      <th>YearsSinceLastPromotion</th>\n",
       "      <th>YearsWithCurrManager</th>\n",
       "      <th>Leaves</th>\n",
       "      <th>Absenteeism</th>\n",
       "    </tr>\n",
       "  </thead>\n",
       "  <tbody>\n",
       "    <tr>\n",
       "      <th>Age</th>\n",
       "      <td>NaN</td>\n",
       "      <td>0.001686</td>\n",
       "      <td>0.029820</td>\n",
       "      <td>0.509604</td>\n",
       "      <td>0.004892</td>\n",
       "      <td>0.497855</td>\n",
       "      <td>0.003634</td>\n",
       "      <td>0.001904</td>\n",
       "      <td>0.680381</td>\n",
       "      <td>0.311309</td>\n",
       "      <td>0.216513</td>\n",
       "      <td>0.202089</td>\n",
       "      <td>0.033811</td>\n",
       "      <td>0.004628</td>\n",
       "    </tr>\n",
       "    <tr>\n",
       "      <th>DistanceFromHome</th>\n",
       "      <td>NaN</td>\n",
       "      <td>NaN</td>\n",
       "      <td>0.008783</td>\n",
       "      <td>0.005303</td>\n",
       "      <td>0.003669</td>\n",
       "      <td>0.017014</td>\n",
       "      <td>0.040235</td>\n",
       "      <td>0.027110</td>\n",
       "      <td>0.004628</td>\n",
       "      <td>0.009508</td>\n",
       "      <td>0.010029</td>\n",
       "      <td>0.014406</td>\n",
       "      <td>0.022749</td>\n",
       "      <td>0.024581</td>\n",
       "    </tr>\n",
       "    <tr>\n",
       "      <th>JobInvolvement</th>\n",
       "      <td>NaN</td>\n",
       "      <td>NaN</td>\n",
       "      <td>NaN</td>\n",
       "      <td>0.012630</td>\n",
       "      <td>0.021476</td>\n",
       "      <td>0.015271</td>\n",
       "      <td>0.017205</td>\n",
       "      <td>0.029071</td>\n",
       "      <td>0.005533</td>\n",
       "      <td>0.021355</td>\n",
       "      <td>0.024184</td>\n",
       "      <td>0.025976</td>\n",
       "      <td>0.016599</td>\n",
       "      <td>0.000442</td>\n",
       "    </tr>\n",
       "    <tr>\n",
       "      <th>JobLevel</th>\n",
       "      <td>NaN</td>\n",
       "      <td>NaN</td>\n",
       "      <td>NaN</td>\n",
       "      <td>NaN</td>\n",
       "      <td>0.001944</td>\n",
       "      <td>0.950300</td>\n",
       "      <td>0.034730</td>\n",
       "      <td>0.021222</td>\n",
       "      <td>0.782208</td>\n",
       "      <td>0.534739</td>\n",
       "      <td>0.353885</td>\n",
       "      <td>0.375281</td>\n",
       "      <td>0.028144</td>\n",
       "      <td>0.013089</td>\n",
       "    </tr>\n",
       "    <tr>\n",
       "      <th>JobSatisfaction</th>\n",
       "      <td>NaN</td>\n",
       "      <td>NaN</td>\n",
       "      <td>NaN</td>\n",
       "      <td>NaN</td>\n",
       "      <td>NaN</td>\n",
       "      <td>0.007157</td>\n",
       "      <td>0.020002</td>\n",
       "      <td>0.002297</td>\n",
       "      <td>0.020185</td>\n",
       "      <td>0.003803</td>\n",
       "      <td>0.018214</td>\n",
       "      <td>0.027656</td>\n",
       "      <td>0.044989</td>\n",
       "      <td>0.027244</td>\n",
       "    </tr>\n",
       "  </tbody>\n",
       "</table>\n",
       "</div>"
      ],
      "text/plain": [
       "                  Age  DistanceFromHome  JobInvolvement  JobLevel  \\\n",
       "Age               NaN          0.001686        0.029820  0.509604   \n",
       "DistanceFromHome  NaN               NaN        0.008783  0.005303   \n",
       "JobInvolvement    NaN               NaN             NaN  0.012630   \n",
       "JobLevel          NaN               NaN             NaN       NaN   \n",
       "JobSatisfaction   NaN               NaN             NaN       NaN   \n",
       "\n",
       "                  JobSatisfaction  MonthlyIncome  PercentSalaryHike  \\\n",
       "Age                      0.004892       0.497855           0.003634   \n",
       "DistanceFromHome         0.003669       0.017014           0.040235   \n",
       "JobInvolvement           0.021476       0.015271           0.017205   \n",
       "JobLevel                 0.001944       0.950300           0.034730   \n",
       "JobSatisfaction               NaN       0.007157           0.020002   \n",
       "\n",
       "                  PerformanceRating  TotalWorkingYears  YearsAtCompany  \\\n",
       "Age                        0.001904           0.680381        0.311309   \n",
       "DistanceFromHome           0.027110           0.004628        0.009508   \n",
       "JobInvolvement             0.029071           0.005533        0.021355   \n",
       "JobLevel                   0.021222           0.782208        0.534739   \n",
       "JobSatisfaction            0.002297           0.020185        0.003803   \n",
       "\n",
       "                  YearsSinceLastPromotion  YearsWithCurrManager    Leaves  \\\n",
       "Age                              0.216513              0.202089  0.033811   \n",
       "DistanceFromHome                 0.010029              0.014406  0.022749   \n",
       "JobInvolvement                   0.024184              0.025976  0.016599   \n",
       "JobLevel                         0.353885              0.375281  0.028144   \n",
       "JobSatisfaction                  0.018214              0.027656  0.044989   \n",
       "\n",
       "                  Absenteeism  \n",
       "Age                  0.004628  \n",
       "DistanceFromHome     0.024581  \n",
       "JobInvolvement       0.000442  \n",
       "JobLevel             0.013089  \n",
       "JobSatisfaction      0.027244  "
      ]
     },
     "execution_count": 45,
     "metadata": {},
     "output_type": "execute_result"
    }
   ],
   "source": [
    "# Upper triangle of correlations\n",
    "upper = corr_matrix.where(np.triu(np.ones(corr_matrix.shape), k=1).astype(np.bool_))\n",
    "upper.head()"
   ]
  },
  {
   "cell_type": "code",
   "execution_count": 46,
   "id": "5364e021",
   "metadata": {},
   "outputs": [
    {
     "name": "stdout",
     "output_type": "stream",
     "text": [
      "There are 1 columns to remove :\n"
     ]
    }
   ],
   "source": [
    "\n",
    "# Select columns with correlations above threshold\n",
    "to_drop = [column for column in upper.columns if any(upper[column] > threshold)]\n",
    "print('There are %d columns to remove :' % (len(to_drop)))\n"
   ]
  },
  {
   "cell_type": "code",
   "execution_count": null,
   "id": "6b4ff7cf",
   "metadata": {},
   "outputs": [],
   "source": [
    "to_drop"
   ]
  },
  {
   "cell_type": "code",
   "execution_count": 47,
   "id": "4e0c2b4e",
   "metadata": {},
   "outputs": [
    {
     "data": {
      "text/html": [
       "<div>\n",
       "<style scoped>\n",
       "    .dataframe tbody tr th:only-of-type {\n",
       "        vertical-align: middle;\n",
       "    }\n",
       "\n",
       "    .dataframe tbody tr th {\n",
       "        vertical-align: top;\n",
       "    }\n",
       "\n",
       "    .dataframe thead th {\n",
       "        text-align: right;\n",
       "    }\n",
       "</style>\n",
       "<table border=\"1\" class=\"dataframe\">\n",
       "  <thead>\n",
       "    <tr style=\"text-align: right;\">\n",
       "      <th></th>\n",
       "      <th>Age</th>\n",
       "      <th>Attrition</th>\n",
       "      <th>Department</th>\n",
       "      <th>DistanceFromHome</th>\n",
       "      <th>Gender</th>\n",
       "      <th>JobInvolvement</th>\n",
       "      <th>JobLevel</th>\n",
       "      <th>JobRole</th>\n",
       "      <th>JobSatisfaction</th>\n",
       "      <th>MaritalStatus</th>\n",
       "      <th>...</th>\n",
       "      <th>YearsWithCurrManager</th>\n",
       "      <th>Higher_Education</th>\n",
       "      <th>Date_of_Hire</th>\n",
       "      <th>Status_of_leaving</th>\n",
       "      <th>Mode_of_work</th>\n",
       "      <th>Leaves</th>\n",
       "      <th>Absenteeism</th>\n",
       "      <th>Work_accident</th>\n",
       "      <th>Source_of_Hire</th>\n",
       "      <th>Job_mode</th>\n",
       "    </tr>\n",
       "  </thead>\n",
       "  <tbody>\n",
       "    <tr>\n",
       "      <th>0</th>\n",
       "      <td>37</td>\n",
       "      <td>Yes</td>\n",
       "      <td>Research &amp; Development</td>\n",
       "      <td>2</td>\n",
       "      <td>Male</td>\n",
       "      <td>2</td>\n",
       "      <td>1</td>\n",
       "      <td>Laboratory Technician</td>\n",
       "      <td>3</td>\n",
       "      <td>Single</td>\n",
       "      <td>...</td>\n",
       "      <td>0</td>\n",
       "      <td>Graduation</td>\n",
       "      <td>21-01-2021</td>\n",
       "      <td>Salary</td>\n",
       "      <td>OFFICE</td>\n",
       "      <td>4</td>\n",
       "      <td>2</td>\n",
       "      <td>No</td>\n",
       "      <td>Job Event</td>\n",
       "      <td>Contract</td>\n",
       "    </tr>\n",
       "    <tr>\n",
       "      <th>1</th>\n",
       "      <td>21</td>\n",
       "      <td>No</td>\n",
       "      <td>Research &amp; Development</td>\n",
       "      <td>15</td>\n",
       "      <td>Male</td>\n",
       "      <td>3</td>\n",
       "      <td>1</td>\n",
       "      <td>Research Scientist</td>\n",
       "      <td>4</td>\n",
       "      <td>Single</td>\n",
       "      <td>...</td>\n",
       "      <td>0</td>\n",
       "      <td>Graduation</td>\n",
       "      <td>13-03-2021</td>\n",
       "      <td>Work Accident</td>\n",
       "      <td>WFH</td>\n",
       "      <td>5</td>\n",
       "      <td>2</td>\n",
       "      <td>No</td>\n",
       "      <td>Recruiter</td>\n",
       "      <td>Part Time</td>\n",
       "    </tr>\n",
       "    <tr>\n",
       "      <th>2</th>\n",
       "      <td>45</td>\n",
       "      <td>No</td>\n",
       "      <td>Research &amp; Development</td>\n",
       "      <td>6</td>\n",
       "      <td>Male</td>\n",
       "      <td>3</td>\n",
       "      <td>3</td>\n",
       "      <td>Research Director</td>\n",
       "      <td>1</td>\n",
       "      <td>Married</td>\n",
       "      <td>...</td>\n",
       "      <td>0</td>\n",
       "      <td>Post-Graduation</td>\n",
       "      <td>23-01-2021</td>\n",
       "      <td>Dept.Head</td>\n",
       "      <td>WFH</td>\n",
       "      <td>1</td>\n",
       "      <td>3</td>\n",
       "      <td>No</td>\n",
       "      <td>Job Event</td>\n",
       "      <td>Contract</td>\n",
       "    </tr>\n",
       "    <tr>\n",
       "      <th>3</th>\n",
       "      <td>23</td>\n",
       "      <td>No</td>\n",
       "      <td>Sales</td>\n",
       "      <td>2</td>\n",
       "      <td>Male</td>\n",
       "      <td>3</td>\n",
       "      <td>1</td>\n",
       "      <td>Sales Representative</td>\n",
       "      <td>1</td>\n",
       "      <td>Divorced</td>\n",
       "      <td>...</td>\n",
       "      <td>0</td>\n",
       "      <td>PHD</td>\n",
       "      <td>25-04-2021</td>\n",
       "      <td>Work Accident</td>\n",
       "      <td>OFFICE</td>\n",
       "      <td>1</td>\n",
       "      <td>0</td>\n",
       "      <td>Yes</td>\n",
       "      <td>Recruiter</td>\n",
       "      <td>FullTime</td>\n",
       "    </tr>\n",
       "    <tr>\n",
       "      <th>4</th>\n",
       "      <td>22</td>\n",
       "      <td>No</td>\n",
       "      <td>Research &amp; Development</td>\n",
       "      <td>15</td>\n",
       "      <td>Female</td>\n",
       "      <td>3</td>\n",
       "      <td>1</td>\n",
       "      <td>Laboratory Technician</td>\n",
       "      <td>4</td>\n",
       "      <td>Single</td>\n",
       "      <td>...</td>\n",
       "      <td>0</td>\n",
       "      <td>PHD</td>\n",
       "      <td>14-06-2021</td>\n",
       "      <td>Better Opportunity</td>\n",
       "      <td>WFH</td>\n",
       "      <td>5</td>\n",
       "      <td>2</td>\n",
       "      <td>No</td>\n",
       "      <td>Job Event</td>\n",
       "      <td>Contract</td>\n",
       "    </tr>\n",
       "  </tbody>\n",
       "</table>\n",
       "<p>5 rows × 26 columns</p>\n",
       "</div>"
      ],
      "text/plain": [
       "   Age Attrition              Department  DistanceFromHome  Gender  \\\n",
       "0   37       Yes  Research & Development                 2    Male   \n",
       "1   21        No  Research & Development                15    Male   \n",
       "2   45        No  Research & Development                 6    Male   \n",
       "3   23        No                   Sales                 2    Male   \n",
       "4   22        No  Research & Development                15  Female   \n",
       "\n",
       "   JobInvolvement  JobLevel                JobRole  JobSatisfaction  \\\n",
       "0               2         1  Laboratory Technician                3   \n",
       "1               3         1     Research Scientist                4   \n",
       "2               3         3      Research Director                1   \n",
       "3               3         1   Sales Representative                1   \n",
       "4               3         1  Laboratory Technician                4   \n",
       "\n",
       "  MaritalStatus  ... YearsWithCurrManager  Higher_Education  Date_of_Hire  \\\n",
       "0        Single  ...                    0        Graduation    21-01-2021   \n",
       "1        Single  ...                    0        Graduation    13-03-2021   \n",
       "2       Married  ...                    0   Post-Graduation    23-01-2021   \n",
       "3      Divorced  ...                    0               PHD    25-04-2021   \n",
       "4        Single  ...                    0               PHD    14-06-2021   \n",
       "\n",
       "    Status_of_leaving  Mode_of_work  Leaves  Absenteeism Work_accident  \\\n",
       "0              Salary        OFFICE       4            2            No   \n",
       "1       Work Accident           WFH       5            2            No   \n",
       "2           Dept.Head           WFH       1            3            No   \n",
       "3       Work Accident        OFFICE       1            0           Yes   \n",
       "4  Better Opportunity           WFH       5            2            No   \n",
       "\n",
       "  Source_of_Hire   Job_mode  \n",
       "0      Job Event   Contract  \n",
       "1      Recruiter  Part Time  \n",
       "2      Job Event   Contract  \n",
       "3      Recruiter   FullTime  \n",
       "4      Job Event   Contract  \n",
       "\n",
       "[5 rows x 26 columns]"
      ]
     },
     "execution_count": 47,
     "metadata": {},
     "output_type": "execute_result"
    }
   ],
   "source": [
    "df = df.drop(columns = to_drop)\n",
    "df.head()"
   ]
  },
  {
   "cell_type": "markdown",
   "id": "d88b826b",
   "metadata": {},
   "source": [
    "### Preparing Dataset"
   ]
  },
  {
   "cell_type": "markdown",
   "id": "e40226e4",
   "metadata": {},
   "source": [
    "Before feeding our data into a ML model we first need to prepare the data. This includes encoding all the categorical features (either LabelEncoding or the OneHotEncoding) as the model expects the features to be in numerical form. "
   ]
  },
  {
   "cell_type": "markdown",
   "id": "4ba2fe8a",
   "metadata": {},
   "source": [
    "<b>Feature Encoding</b>"
   ]
  },
  {
   "cell_type": "code",
   "execution_count": null,
   "id": "252ce230",
   "metadata": {},
   "outputs": [],
   "source": [
    "def transform(feature):\n",
    "    le=LabelEncoder()\n",
    "    df[feature]=le.fit_transform(df[feature])\n",
    "    print(le.classes_)\n",
    "    "
   ]
  },
  {
   "cell_type": "code",
   "execution_count": null,
   "id": "6e2de827",
   "metadata": {},
   "outputs": [],
   "source": [
    "cat_df=df.select_dtypes(include='object')\n",
    "cat_df.columns"
   ]
  },
  {
   "cell_type": "code",
   "execution_count": null,
   "id": "2a1d7653",
   "metadata": {},
   "outputs": [],
   "source": [
    "for col in cat_df.columns:\n",
    "    transform(col)"
   ]
  },
  {
   "cell_type": "code",
   "execution_count": null,
   "id": "c398664f",
   "metadata": {},
   "outputs": [],
   "source": [
    "df.head()"
   ]
  },
  {
   "cell_type": "markdown",
   "id": "05a10088",
   "metadata": {},
   "source": [
    "<b>Feature Selection</b>"
   ]
  },
  {
   "cell_type": "code",
   "execution_count": null,
   "id": "42e1a11f",
   "metadata": {},
   "outputs": [],
   "source": [
    "X=df.drop('Attrition',axis=1)\n",
    "Y=df['Attrition']"
   ]
  },
  {
   "cell_type": "markdown",
   "id": "b619e38a",
   "metadata": {},
   "source": [
    "<b>Splitting the data into training and validation sets</b>"
   ]
  },
  {
   "cell_type": "code",
   "execution_count": null,
   "id": "94593f8c",
   "metadata": {},
   "outputs": [],
   "source": [
    "x_train,x_test,y_train,y_test=train_test_split(X,Y,test_size=0.2,random_state=42)\n",
    "print(\"Training split input- \", x_train.shape)\n",
    "print(\"Testing split input- \", x_test.shape)"
   ]
  },
  {
   "cell_type": "markdown",
   "id": "8dbf911a",
   "metadata": {},
   "source": [
    "### High-level description of Machine Learning models – Logistic regression and Decision tree to predict"
   ]
  },
  {
   "cell_type": "markdown",
   "id": "8c16573f",
   "metadata": {},
   "source": [
    "<b>Logistic regression</b> is used to predict the class (or category) of individuals based on one or multiple predictor variables (x). It is used to model a binary outcome, that is a variable, which can have only two possible values: 0 or 1, yes or no.\n",
    "\n",
    "In logistic regression, a logit transformation is applied on the odds—that is, the probability of success divided by the probability of failure. This is also commonly known as the log odds, or the natural logarithm of odds, and this logistic function is represented by the following formulas:\n",
    "\n",
    "Logit(pi) = 1/(1+ exp(-pi))\n",
    "\n",
    "ln(pi/(1-pi)) = Beta_0 + Beta_1*X_1 + … + B_k*K_k\n",
    "\n",
    "\n",
    "<b>Decision trees</b> tend to be the method of choice for predictive modeling because they are relatively easy to understand and are also very effective. The basic goal of a decision tree is to split a population of data into smaller segments. There are two stages to prediction. The first stage is training the model—this is where the tree is built, tested, and optimized by using an existing collection of data. In the second stage, you actually use the model to predict an unknown outcome\n",
    "\n",
    "A decision tree is a commonly used classification model, which is a flowchart-like tree structure. In a decision tree, each internal node (non-leaf node) denotes a test on an attribute, each branch represents an outcome of the test, and each leaf node (or terminal node) holds a class label. The topmost node in a tree is the root node. \n",
    "\n"
   ]
  },
  {
   "cell_type": "markdown",
   "id": "8bb53a2a",
   "metadata": {},
   "source": [
    "### Logistic regression "
   ]
  },
  {
   "cell_type": "markdown",
   "id": "b0ecbb93",
   "metadata": {},
   "source": [
    "For better performance we will do the <b>feature scaling</b> ie bringing all the features onto the same scale by using the StandardScaler provided in the scikit library."
   ]
  },
  {
   "cell_type": "code",
   "execution_count": null,
   "id": "c645775d",
   "metadata": {},
   "outputs": [],
   "source": [
    "scaler = MinMaxScaler(copy = True)\n",
    "Unscaled_x = scaler.fit_transform(x_train)\n",
    "\n",
    "x_scaled = pd.DataFrame(Unscaled_x)\n",
    "x_scaled"
   ]
  },
  {
   "cell_type": "code",
   "execution_count": null,
   "id": "5859274b",
   "metadata": {},
   "outputs": [],
   "source": [
    "Unscaled_x_test = scaler.fit_transform(x_test)\n",
    "\n",
    "x_test_scaled = pd.DataFrame(Unscaled_x_test)\n",
    "x_test_scaled"
   ]
  },
  {
   "cell_type": "code",
   "execution_count": null,
   "id": "e7a93a9b",
   "metadata": {},
   "outputs": [],
   "source": [
    "lr = LogisticRegression()\n",
    "# Fit the model on the trainng data.\n",
    "lr.fit(x_scaled, y_train)\n",
    "y_pred = lr.predict(x_test_scaled)\n",
    "report = classification_report(\n",
    "                        digits= 6,\n",
    "                        y_true= y_test, \n",
    "                        y_pred= y_pred)\n",
    "print(\"Accuracy\", round(accuracy_score(y_pred, y_test, normalize=True, sample_weight=None)*100,2))\n",
    "print(report)\n",
    "pd.crosstab(y_test, y_pred, rownames=['Actual'], colnames=['Predicted'], margins=True)\n",
    "\n",
    "lrScore = lr.score(x_test,y_test)"
   ]
  },
  {
   "cell_type": "markdown",
   "id": "9367b4a9",
   "metadata": {},
   "source": [
    "We have applied logistic model to the data getting an accuracy of 86.05%. As it is clear from our model that we are getting low value of recall for true value of attrition ,i.e., we are not getting enough of the relevant information from the data. The retrieved model shows high senstivity but low specifity.\n",
    "\n",
    "Now ,we will try a new model with few less relevant features trimmed out from our dataset."
   ]
  },
  {
   "cell_type": "markdown",
   "id": "26e1c06d",
   "metadata": {},
   "source": [
    "<b>Applying Recursive Feature Elimination (RFE) for feature selection</b>"
   ]
  },
  {
   "cell_type": "code",
   "execution_count": null,
   "id": "9e11fbd4",
   "metadata": {},
   "outputs": [],
   "source": [
    "rfe = RFE(lr)\n",
    "rfe = rfe.fit(x_train, y_train)\n",
    "print(rfe.support_)\n",
    "print(rfe.ranking_)"
   ]
  },
  {
   "cell_type": "markdown",
   "id": "2714168b",
   "metadata": {},
   "source": [
    "Transforming our data to desired no. of features"
   ]
  },
  {
   "cell_type": "code",
   "execution_count": null,
   "id": "8fabca54",
   "metadata": {},
   "outputs": [],
   "source": [
    "X =rfe.transform(X)\n",
    "X.shape"
   ]
  },
  {
   "cell_type": "markdown",
   "id": "0b634221",
   "metadata": {},
   "source": [
    "Calculating accuracy of our modified model"
   ]
  },
  {
   "cell_type": "code",
   "execution_count": null,
   "id": "47c040cb",
   "metadata": {},
   "outputs": [],
   "source": [
    "x_test = rfe.transform(x_test)\n",
    "x_test.shape"
   ]
  },
  {
   "cell_type": "code",
   "execution_count": null,
   "id": "9ce5bdbe",
   "metadata": {},
   "outputs": [],
   "source": [
    "# Fit the model on the trainng data.\n",
    "lr.fit(x, Y)\n",
    "y_pred = lr.predict(x_test)\n",
    "report = classification_report(\n",
    "                        digits= 6,\n",
    "                        y_true= y_test, \n",
    "                        y_pred= y_pred)\n",
    "print(\"Accuracy\", round(accuracy_score(y_pred, y_test, normalize=True, sample_weight=None)*100,2))\n",
    "print(report)\n",
    "pd.crosstab(y_test, y_pred, rownames=['Actual'], colnames=['Predicted'], margins=True)\n",
    "\n",
    "lrScore = lr.score(x_test,y_test)"
   ]
  },
  {
   "cell_type": "markdown",
   "id": "6edb0f78",
   "metadata": {},
   "source": [
    "After applying Recursive Feature Elimination (RFE) for feature selection, there is no inprovement in accuracy."
   ]
  },
  {
   "cell_type": "markdown",
   "id": "3a7cb1f2",
   "metadata": {},
   "source": [
    "### Decision Tree"
   ]
  },
  {
   "cell_type": "markdown",
   "id": "65a3b48c",
   "metadata": {},
   "source": [
    "Without apply feature scaling for decision trees"
   ]
  },
  {
   "cell_type": "code",
   "execution_count": null,
   "id": "d9e0e3e8",
   "metadata": {},
   "outputs": [],
   "source": [
    "X=df.drop('Attrition',axis=1)\n",
    "Y=df['Attrition']\n",
    "x_train,x_test,y_train,y_test=train_test_split(X,Y,test_size=0.2,random_state=42)\n",
    "print(\"Training split input- \", x_train.shape)\n",
    "print(\"Testing split input- \", x_test.shape)"
   ]
  },
  {
   "cell_type": "code",
   "execution_count": null,
   "id": "ac74125f",
   "metadata": {},
   "outputs": [],
   "source": [
    "dtree = DecisionTreeClassifier()\n",
    "\n",
    "def applyDecisionTree(X_train, y_train, X_test, y_test):\n",
    "    # Defining the decision tree algorithm\n",
    "    dtree.fit(X_train, y_train)\n",
    "    \n",
    "    score = dtree.score(X_test,y_test)\n",
    "    rounded_score = round(score * 100, 2)\n",
    "    print(\"Accuracy=\" , rounded_score)\n",
    "    \n",
    "    # Predicting the values of test data\n",
    "    y_pred = dtree.predict(X_test)\n",
    "    print(\"Classification report - \\n\", classification_report(y_test,y_pred))"
   ]
  },
  {
   "cell_type": "code",
   "execution_count": null,
   "id": "f6863a90",
   "metadata": {},
   "outputs": [],
   "source": [
    "applyDecisionTree(x_train, y_train, x_test, y_test)\n",
    "dtScore = dtree.score(x_test,y_test)\n"
   ]
  },
  {
   "cell_type": "markdown",
   "id": "b8fa56ce",
   "metadata": {},
   "source": [
    "Although overall accuracy of classification is good. Precision and accuracy of class 1 is very low indicating Class Label Imbalance."
   ]
  },
  {
   "cell_type": "markdown",
   "id": "c539d0f8",
   "metadata": {},
   "source": [
    "#### Class Imbalance Check"
   ]
  },
  {
   "cell_type": "code",
   "execution_count": null,
   "id": "aa89a4af",
   "metadata": {},
   "outputs": [],
   "source": [
    "# Printing the dataset shape\n",
    "print (\"Dataset Length: \", len(X))\n",
    "print (\"Dataset Shape: \", X.shape)\n"
   ]
  },
  {
   "cell_type": "code",
   "execution_count": null,
   "id": "35d82df7",
   "metadata": {},
   "outputs": [],
   "source": [
    "df.Attrition.value_counts()/1470"
   ]
  },
  {
   "cell_type": "markdown",
   "id": "d2f63a5b",
   "metadata": {},
   "source": [
    "About 84 % of data are of class label 0 and only 16 % of data are of class label 1. This creates Class Imbalance. It is necessary to remove because even if we create a classifier which everytime predicts Attrition as 'No' will also achieve an overall accuracy of 84%, which is meaningless."
   ]
  },
  {
   "cell_type": "markdown",
   "id": "15788cf5",
   "metadata": {},
   "source": [
    "#### Method 1: UNDERSAMPLING"
   ]
  },
  {
   "cell_type": "code",
   "execution_count": null,
   "id": "aa93189e",
   "metadata": {},
   "outputs": [],
   "source": [
    "# Class count\n",
    "count_class_0, count_class_1 = df.Attrition.value_counts()\n",
    "\n",
    "# Divide by class\n",
    "df_class_0 = df[df['Attrition'] == 0]\n",
    "df_class_1 = df[df['Attrition'] == 1]\n",
    "\n",
    "print (\"df_class_0 Shape: \", df_class_0.shape)\n",
    "print (\"df_class_1 Shape: \", df_class_1.shape)\n"
   ]
  },
  {
   "cell_type": "code",
   "execution_count": null,
   "id": "c931da50",
   "metadata": {},
   "outputs": [],
   "source": [
    "df_class_0_under = df_class_0.sample(count_class_1)\n",
    "df_under = pd.concat([df_class_0_under, df_class_1], axis= 0)\n",
    "\n",
    "print('Random under-sampling:')\n",
    "print(df_under.Attrition.value_counts())"
   ]
  },
  {
   "cell_type": "code",
   "execution_count": null,
   "id": "207c7be4",
   "metadata": {},
   "outputs": [],
   "source": [
    "X = df_under.drop('Attrition',axis=1)\n",
    "Y = df_under['Attrition']\n",
    "\n",
    "x_train, x_test, y_train, y_test = train_test_split(X, Y, test_size=0.2, random_state=42, stratify=Y)"
   ]
  },
  {
   "cell_type": "code",
   "execution_count": null,
   "id": "68a31c74",
   "metadata": {},
   "outputs": [],
   "source": [
    "# Number of classes in training Data\n",
    "y_train.value_counts()"
   ]
  },
  {
   "cell_type": "code",
   "execution_count": null,
   "id": "dcd25da4",
   "metadata": {},
   "outputs": [],
   "source": [
    "applyDecisionTree(x_train, y_train, x_test, y_test)\n",
    "dtScore = dtree.score(x_test,y_test)"
   ]
  },
  {
   "cell_type": "markdown",
   "id": "b8079c4d",
   "metadata": {},
   "source": [
    "After Undersampling, f1-score for minority class 1 improved. Precision and Recall also got improved. Score for class 0 reduced but that's ok. We have more generalized classifier which classifies both classes with similar prediction score."
   ]
  },
  {
   "cell_type": "markdown",
   "id": "2e800c05",
   "metadata": {},
   "source": [
    "#### Method 2: OVERSAMPLING"
   ]
  },
  {
   "cell_type": "code",
   "execution_count": null,
   "id": "b3d58cca",
   "metadata": {},
   "outputs": [],
   "source": [
    "df_class_1.sample(count_class_0, replace=True).shape"
   ]
  },
  {
   "cell_type": "code",
   "execution_count": null,
   "id": "bf8db6a2",
   "metadata": {},
   "outputs": [],
   "source": [
    "df_class_1_over = df_class_1.sample(count_class_0, replace=True) "
   ]
  },
  {
   "cell_type": "code",
   "execution_count": null,
   "id": "9ef56bf2",
   "metadata": {},
   "outputs": [],
   "source": [
    "df_over = pd.concat([df_class_0, df_class_1_over], axis=0)\n",
    "print('Random over-sampling:')\n",
    "print(df_over.Attrition.value_counts())"
   ]
  },
  {
   "cell_type": "code",
   "execution_count": null,
   "id": "42740d88",
   "metadata": {},
   "outputs": [],
   "source": [
    "X = df_over.drop('Attrition', axis=1)\n",
    "Y = df_over['Attrition']\n",
    "\n",
    "x_train, x_test, y_train, y_test = train_test_split(X, Y, test_size=0.2, random_state=42, stratify=Y)"
   ]
  },
  {
   "cell_type": "code",
   "execution_count": null,
   "id": "22553182",
   "metadata": {},
   "outputs": [],
   "source": [
    "y_train.value_counts()"
   ]
  },
  {
   "cell_type": "code",
   "execution_count": null,
   "id": "174840ef",
   "metadata": {},
   "outputs": [],
   "source": [
    "applyDecisionTree(x_train, y_train, x_test, y_test)\n",
    "dtScore = dtree.score(x_test,y_test)"
   ]
  },
  {
   "cell_type": "markdown",
   "id": "8a82c597",
   "metadata": {},
   "source": [
    "After Over-sampling, f1-score for minority class 1 improved to a great extent. Precision and Recall also got improved significantly. Score for class 0 is also not reduced here. We have more generalized classifier which classifies both classes with similar prediction score. Overall accuracy got improved\n",
    "\n",
    "Overall accuracy is increased and precision and recall is also improved. We will now use the OVERSAMPLING sampled X and Y to predict for further models."
   ]
  },
  {
   "cell_type": "markdown",
   "id": "18038acc",
   "metadata": {},
   "source": [
    "### Compare the performance of the two classifiers "
   ]
  },
  {
   "cell_type": "markdown",
   "id": "af23a0ec",
   "metadata": {},
   "source": [
    "#### Model Scores (accuracy)"
   ]
  },
  {
   "cell_type": "code",
   "execution_count": null,
   "id": "648f30bc",
   "metadata": {},
   "outputs": [],
   "source": [
    "model_scores={'Logistic Regression':lrScore,\n",
    "              'Decision tree':dtScore\n",
    "             }\n",
    "model_scores"
   ]
  },
  {
   "cell_type": "markdown",
   "id": "29a6d210",
   "metadata": {},
   "source": [
    "#### Model Comparison\n",
    "Based on the accuracy"
   ]
  },
  {
   "cell_type": "code",
   "execution_count": null,
   "id": "09e8d3fd",
   "metadata": {},
   "outputs": [],
   "source": [
    "model_compare=pd.DataFrame(model_scores,index=['accuracy'])\n",
    "model_compare"
   ]
  },
  {
   "cell_type": "markdown",
   "id": "d7f5e5d6",
   "metadata": {},
   "source": [
    "we can see that Decision tree is having the best accuracy over Logistic regression."
   ]
  },
  {
   "cell_type": "markdown",
   "id": "39b9601f",
   "metadata": {},
   "source": [
    "#### Visualize the accuracy of each model"
   ]
  },
  {
   "cell_type": "code",
   "execution_count": null,
   "id": "d69f76e4",
   "metadata": {},
   "outputs": [],
   "source": [
    "model_compare.T.plot(kind='bar')"
   ]
  },
  {
   "cell_type": "markdown",
   "id": "8e49ca68",
   "metadata": {},
   "source": [
    "#### Conclusions"
   ]
  },
  {
   "cell_type": "markdown",
   "id": "9ad3409e",
   "metadata": {},
   "source": [
    "We can see that Decision tree has ~6% better accuracy than Logistic regression but Decision tree is an Oversampling model hence we will select Logistic regression."
   ]
  }
 ],
 "metadata": {
  "kernelspec": {
   "display_name": "Python 3 (ipykernel)",
   "language": "python",
   "name": "python3"
  },
  "language_info": {
   "codemirror_mode": {
    "name": "ipython",
    "version": 3
   },
   "file_extension": ".py",
   "mimetype": "text/x-python",
   "name": "python",
   "nbconvert_exporter": "python",
   "pygments_lexer": "ipython3",
   "version": "3.11.7"
  }
 },
 "nbformat": 4,
 "nbformat_minor": 5
}
