{
 "cells": [
  {
   "cell_type": "markdown",
   "id": "7993c803",
   "metadata": {},
   "source": [
    "# Chapter 10: Making Better Predictions – Optimizing Models\n",
    "\n",
    "This chapter shows you strategies for improving the performance of your\n",
    "machine learning models.\n",
    "\n",
    "## Content\n",
    "\n",
    "We will be working in the following notebooks, which each build upon\n",
    "their corresponding notebooks in [chapter 9](../ch_09):\n",
    "\n",
    "-   [`planets_ml.ipynb`](./planets_ml.ipynb): shows how to use grid\n",
    "    search to tune model hyperparameters, gather feature importances,\n",
    "    and use regularization with the linear regression model using planet\n",
    "    data from the previous chapter\n",
    "-   [`red_wine.ipynb`](./red_wine.ipynb): walks through hyperparameter\n",
    "    tuning with grid search, generating polynomial and interaction\n",
    "    features, creating feature unions, and building ensemble models with\n",
    "    the red wine quality classifier from the previous chapter as a\n",
    "    starting point\n",
    "-   [`wine.ipynb`](./wine.ipynb): discusses dimensionality reduction,\n",
    "    decision trees, and error analysis using the white or red wine\n",
    "    classifier built in the previous chapter\n",
    "\n",
    "All the datasets necessary for the aforementioned notebooks, along with\n",
    "information on them, can be found in the [`data/`](./data) directory.\n",
    "The end-of-chapter exercises will also use this data to practice\n",
    "building and tuning ML models with scikit-learn; "
   ]
  }
 ],
 "metadata": {
  "kernelspec": {
   "display_name": "Python 3 (ipykernel)",
   "language": "python",
   "name": "python3"
  },
  "language_info": {
   "codemirror_mode": {
    "name": "ipython",
    "version": 3
   },
   "file_extension": ".py",
   "mimetype": "text/x-python",
   "name": "python",
   "nbconvert_exporter": "python",
   "pygments_lexer": "ipython3",
   "version": "3.10.9"
  }
 },
 "nbformat": 4,
 "nbformat_minor": 5
}
