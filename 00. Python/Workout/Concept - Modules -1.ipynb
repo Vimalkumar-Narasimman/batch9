{
 "cells": [
  {
   "cell_type": "code",
   "execution_count": null,
   "id": "8ea63de5",
   "metadata": {},
   "outputs": [],
   "source": [
    "#Sqrt\n",
    "\n",
    "6 ** 0.5\n"
   ]
  },
  {
   "cell_type": "code",
   "execution_count": null,
   "id": "ddda090f",
   "metadata": {},
   "outputs": [],
   "source": [
    "#math\n",
    "import math\n",
    "help(math)"
   ]
  },
  {
   "cell_type": "code",
   "execution_count": null,
   "id": "fb2c0ab1",
   "metadata": {},
   "outputs": [],
   "source": [
    "math.lcm(12, 24)"
   ]
  },
  {
   "cell_type": "code",
   "execution_count": null,
   "id": "e41693b9",
   "metadata": {},
   "outputs": [],
   "source": [
    "math.gcd(12, 24)"
   ]
  },
  {
   "cell_type": "code",
   "execution_count": null,
   "id": "d637c81c",
   "metadata": {},
   "outputs": [],
   "source": [
    "math.sqrt(6)"
   ]
  },
  {
   "cell_type": "code",
   "execution_count": null,
   "id": "72408908",
   "metadata": {},
   "outputs": [],
   "source": [
    "import datetime\n",
    "help(datetime)"
   ]
  },
  {
   "cell_type": "code",
   "execution_count": null,
   "id": "a75b5d5e",
   "metadata": {},
   "outputs": [],
   "source": [
    "today = datetime.date(2023, 9, 21)\n",
    "print(type(today), today)"
   ]
  },
  {
   "cell_type": "code",
   "execution_count": null,
   "id": "f18e12ca",
   "metadata": {},
   "outputs": [],
   "source": [
    "tomorrow = datetime.date(2023, 9, 22)\n",
    "tomorrow"
   ]
  },
  {
   "cell_type": "code",
   "execution_count": null,
   "id": "4a924279",
   "metadata": {},
   "outputs": [],
   "source": [
    "from datetime import date,timedelta \n",
    "startdate = date(2023, 9, 1)\n",
    "enddate = startdate + timedelta(days = 20)\n",
    "print(startdate)\n",
    "print(enddate)"
   ]
  },
  {
   "cell_type": "code",
   "execution_count": null,
   "id": "c68a6d99",
   "metadata": {},
   "outputs": [],
   "source": [
    "date.today() - timedelta(days = 20)"
   ]
  },
  {
   "cell_type": "code",
   "execution_count": null,
   "id": "b47294fd",
   "metadata": {},
   "outputs": [],
   "source": [
    "import os\n",
    "\n",
    "help(os)"
   ]
  },
  {
   "cell_type": "code",
   "execution_count": null,
   "id": "8891decc",
   "metadata": {},
   "outputs": [],
   "source": [
    "os.path"
   ]
  },
  {
   "cell_type": "code",
   "execution_count": null,
   "id": "c9dc134f",
   "metadata": {},
   "outputs": [],
   "source": [
    "os.curdir"
   ]
  },
  {
   "cell_type": "code",
   "execution_count": null,
   "id": "fc135fd7",
   "metadata": {},
   "outputs": [],
   "source": [
    "import sys\n",
    "help(sys)"
   ]
  },
  {
   "cell_type": "code",
   "execution_count": null,
   "id": "542ee345",
   "metadata": {},
   "outputs": [],
   "source": [
    "sys.path"
   ]
  },
  {
   "cell_type": "code",
   "execution_count": null,
   "id": "f525a96f",
   "metadata": {},
   "outputs": [],
   "source": [
    "import random\n",
    "help(random)"
   ]
  },
  {
   "cell_type": "code",
   "execution_count": null,
   "id": "b8fe99b5",
   "metadata": {},
   "outputs": [],
   "source": [
    "random.randint(1, 10)"
   ]
  },
  {
   "cell_type": "code",
   "execution_count": null,
   "id": "a3bbe4a2",
   "metadata": {},
   "outputs": [],
   "source": [
    "random.randrange(1, 10)"
   ]
  },
  {
   "cell_type": "code",
   "execution_count": null,
   "id": "8953d9c3",
   "metadata": {},
   "outputs": [],
   "source": [
    "random.sample(['red', 'blue'], counts=[4, 2], k=6)"
   ]
  },
  {
   "cell_type": "code",
   "execution_count": null,
   "id": "35fee395",
   "metadata": {},
   "outputs": [],
   "source": [
    "random.sample(range(100), 60)"
   ]
  },
  {
   "cell_type": "code",
   "execution_count": null,
   "id": "b0c09b41",
   "metadata": {},
   "outputs": [],
   "source": [
    "randNums = random.sample(range(100), 10)\n",
    "randNums"
   ]
  },
  {
   "cell_type": "code",
   "execution_count": null,
   "id": "547479d6",
   "metadata": {},
   "outputs": [],
   "source": [
    "[num for num in randNums if num % 2 == 0]"
   ]
  },
  {
   "cell_type": "code",
   "execution_count": null,
   "id": "95d53abe",
   "metadata": {},
   "outputs": [],
   "source": [
    "[num for num in random.sample(range(100), 20) if num % 2 == 0]"
   ]
  },
  {
   "cell_type": "code",
   "execution_count": null,
   "id": "fe7b075d",
   "metadata": {},
   "outputs": [],
   "source": [
    "random.normalvariate(10, 1.6)"
   ]
  }
 ],
 "metadata": {
  "kernelspec": {
   "display_name": "Python 3 (ipykernel)",
   "language": "python",
   "name": "python3"
  },
  "language_info": {
   "codemirror_mode": {
    "name": "ipython",
    "version": 3
   },
   "file_extension": ".py",
   "mimetype": "text/x-python",
   "name": "python",
   "nbconvert_exporter": "python",
   "pygments_lexer": "ipython3",
   "version": "3.10.9"
  }
 },
 "nbformat": 4,
 "nbformat_minor": 5
}
