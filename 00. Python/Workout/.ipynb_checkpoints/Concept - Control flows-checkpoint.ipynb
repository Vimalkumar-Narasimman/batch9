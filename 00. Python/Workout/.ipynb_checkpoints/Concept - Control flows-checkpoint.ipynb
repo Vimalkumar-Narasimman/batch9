{
 "cells": [
  {
   "cell_type": "code",
   "execution_count": null,
   "id": "e48e10d9",
   "metadata": {},
   "outputs": [],
   "source": [
    "num1 = int(input('Enter a first number'))\n",
    "num2 = int(input('Enter a next number'))\n",
    "print(num1 > num2)"
   ]
  },
  {
   "cell_type": "code",
   "execution_count": null,
   "id": "0f8a6edd",
   "metadata": {},
   "outputs": [],
   "source": [
    "#Simple if Statement\n",
    "\n",
    "if <conditions>:\n",
    "    <true statements>\n"
   ]
  },
  {
   "cell_type": "code",
   "execution_count": null,
   "id": "d2e5b9a0",
   "metadata": {},
   "outputs": [],
   "source": [
    "num1 = int(input('Enter a first number : '))\n",
    "num2 = int(input('Enter a next number : '))\n",
    "if num1 > num2:\n",
    "    print(f'{num1} is big')\n",
    "print('End of the program')"
   ]
  },
  {
   "cell_type": "code",
   "execution_count": null,
   "id": "49b965ea",
   "metadata": {},
   "outputs": [],
   "source": [
    "# if ... else Statement\n",
    "if <condition>:\n",
    "    <true statements>\n",
    "else:\n",
    "    <false statements>"
   ]
  },
  {
   "cell_type": "code",
   "execution_count": null,
   "id": "ac46f650",
   "metadata": {},
   "outputs": [],
   "source": [
    "num1 = int(input('Enter a first number : '))\n",
    "num2 = int(input('Enter a next number : '))\n",
    "if num1 > num2:\n",
    "    print(f'{num1} is big')\n",
    "else:\n",
    "    print(f'{num2} is big')\n",
    "\n",
    "print('End of the program')"
   ]
  },
  {
   "cell_type": "code",
   "execution_count": null,
   "id": "bacea5fd",
   "metadata": {},
   "outputs": [],
   "source": [
    "num = int(input('Enter a number : '))\n",
    "if num % 2 == 0:\n",
    "    sqrt_num = num ** 0.5 # square root\n",
    "    print(f'square root of {num} is {sqrt_num}')\n",
    "else:\n",
    "    cube = num ** 3\n",
    "    print(f'Cube of {num} is {cube}')\n",
    "print('End of the program')"
   ]
  },
  {
   "cell_type": "code",
   "execution_count": null,
   "id": "d6d875cb",
   "metadata": {},
   "outputs": [],
   "source": [
    "num = int(input('Enter a number : '))\n",
    "sqrt_num = num ** 0.5 # square root\n",
    "print(f'square root of {num} is {sqrt_num}')\n",
    "square_num = sqrt_num ** 2\n",
    "print(f'square of {sqrt_num} is {square_num}')\n",
    "if num == square_num:\n",
    "    print(f'{num} is perfect square')\n",
    "else:\n",
    "    print(f'{num} is not perfect square')"
   ]
  },
  {
   "cell_type": "code",
   "execution_count": null,
   "id": "cfc67223",
   "metadata": {},
   "outputs": [],
   "source": [
    "num1 = int(input('Enter a first number : '))\n",
    "num2 = int(input('Enter a next number : '))\n",
    "num3 = int(input('Enter a next number : '))\n",
    "if num1 > num2 and num1 > num3:\n",
    "    print(f'{num1} is big')\n",
    "print('End of the program')"
   ]
  }
 ],
 "metadata": {
  "kernelspec": {
   "display_name": "Python 3 (ipykernel)",
   "language": "python",
   "name": "python3"
  },
  "language_info": {
   "codemirror_mode": {
    "name": "ipython",
    "version": 3
   },
   "file_extension": ".py",
   "mimetype": "text/x-python",
   "name": "python",
   "nbconvert_exporter": "python",
   "pygments_lexer": "ipython3",
   "version": "3.10.9"
  }
 },
 "nbformat": 4,
 "nbformat_minor": 5
}
