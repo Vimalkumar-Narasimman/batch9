{
 "cells": [
  {
   "cell_type": "markdown",
   "id": "26ddb3af",
   "metadata": {
    "papermill": {
     "duration": 0.021161,
     "end_time": "2023-06-05T14:16:57.852948",
     "exception": false,
     "start_time": "2023-06-05T14:16:57.831787",
     "status": "completed"
    },
    "tags": []
   },
   "source": [
    "# Introduction"
   ]
  },
  {
   "cell_type": "markdown",
   "id": "e6f850ab",
   "metadata": {
    "papermill": {
     "duration": 0.017894,
     "end_time": "2023-06-05T14:16:57.889113",
     "exception": false,
     "start_time": "2023-06-05T14:16:57.871219",
     "status": "completed"
    },
    "tags": []
   },
   "source": [
    "Welcome to this notebook where we will explore the fascinating world of Market Basket Analysis using a real-world dataset. Market Basket Analysis is a powerful technique that allows us to uncover patterns and associations between items that customers tend to purchase together. By analyzing these patterns, we can gain valuable insights that can drive business decisions and strategies.\n",
    "\n",
    "In this notebook, we will work with a Market Basket dataset that captures customer transactions in a retail or e-commerce setting. The dataset provides a wealth of information about customer purchases, allowing us to dive deep into their buying behavior. By leveraging data mining techniques and association rule mining algorithms, we will unravel the relationships between items and discover interesting patterns.\n",
    "\n",
    "Through this analysis, we can derive actionable insights to improve various aspects of business operations. We can identify frequently co-purchased items, enabling us to make targeted product recommendations and enhance cross-selling and upselling opportunities. By optimizing product placement and store layout based on association patterns, we can create more enticing shopping experiences. Furthermore, we can design effective promotional campaigns by leveraging the discovered item associations, resulting in higher customer engagement and increased sales.\n",
    "\n",
    "In this notebook, we will take you through the entire process of Market Basket Analysis, from data preprocessing to association rule mining and visualization. By following along with the provided code and explanations, you will gain a solid understanding of how to extract valuable insights from Market Basket datasets and apply them to real-world scenarios.\n",
    "\n",
    "So let's dive in and unlock the secrets hidden within the Market Basket dataset to gain a deeper understanding of customer behavior and optimize business strategies!"
   ]
  },
  {
   "cell_type": "markdown",
   "id": "9d2d0d48",
   "metadata": {
    "papermill": {
     "duration": 0.017739,
     "end_time": "2023-06-05T14:16:57.924918",
     "exception": false,
     "start_time": "2023-06-05T14:16:57.907179",
     "status": "completed"
    },
    "tags": []
   },
   "source": [
    "## Overview of the Market Basket Analysis dataset"
   ]
  },
  {
   "cell_type": "markdown",
   "id": "7f373720",
   "metadata": {
    "papermill": {
     "duration": 0.017727,
     "end_time": "2023-06-05T14:16:57.960771",
     "exception": false,
     "start_time": "2023-06-05T14:16:57.943044",
     "status": "completed"
    },
    "tags": []
   },
   "source": [
    "This dataset contains 522,065 rows and 7 attributes that provide valuable information about customer transactions and product details. Here is a breakdown of the attributes:\n",
    "\n",
    "    BillNo: This attribute represents a 6-digit number assigned to each transaction. It serves as a unique identifier for identifying individual purchases.\n",
    "\n",
    "    Itemname: This attribute stores the name of the product purchased in each transaction. It provides nominal data representing different products.\n",
    "\n",
    "    Quantity: This attribute captures the quantity of each product purchased in a transaction. It is a numeric value that indicates the number of units of a specific item.\n",
    "\n",
    "    Date: The Date attribute records the day and time when each transaction occurred. It provides valuable information about the timing of purchases.\n",
    "\n",
    "    Price: This attribute represents the price of each product. It is a numeric value that indicates the cost of a single unit of the item.\n",
    "\n",
    "    CustomerID: Each customer is assigned a 5-digit number as their unique identifier. This attribute helps track customer-specific information and analyze individual buying patterns.\n",
    "\n",
    "    Country: The Country attribute denotes the name of the country where each customer resides. It provides nominal data representing different geographic regions.\n",
    "\n",
    "By analyzing this dataset, we can gain insights into customer purchasing behavior, identify popular products, examine sales trends over time, and explore the impact of factors such as price and geography on customer preferences. These insights can be used to optimize marketing strategies, improve inventory management, and enhance customer satisfaction."
   ]
  },
  {
   "cell_type": "markdown",
   "id": "9980fea1",
   "metadata": {
    "papermill": {
     "duration": 0.017836,
     "end_time": "2023-06-05T14:16:57.997394",
     "exception": false,
     "start_time": "2023-06-05T14:16:57.979558",
     "status": "completed"
    },
    "tags": []
   },
   "source": [
    "# Data Preprocessing"
   ]
  },
  {
   "cell_type": "markdown",
   "id": "a10bcf89",
   "metadata": {
    "papermill": {
     "duration": 0.017988,
     "end_time": "2023-06-05T14:16:58.034455",
     "exception": false,
     "start_time": "2023-06-05T14:16:58.016467",
     "status": "completed"
    },
    "tags": []
   },
   "source": [
    "## Importing Required Libraries"
   ]
  },
  {
   "cell_type": "code",
   "execution_count": null,
   "id": "50d07869",
   "metadata": {
    "_cell_guid": "b1076dfc-b9ad-4769-8c92-a6c4dae69d19",
    "_uuid": "8f2839f25d086af736a60e9eeb907d3b93b6e0e5",
    "execution": {
     "iopub.execute_input": "2023-06-05T14:16:58.073718Z",
     "iopub.status.busy": "2023-06-05T14:16:58.073046Z",
     "iopub.status.idle": "2023-06-05T14:16:58.083798Z",
     "shell.execute_reply": "2023-06-05T14:16:58.083010Z"
    },
    "papermill": {
     "duration": 0.033027,
     "end_time": "2023-06-05T14:16:58.086225",
     "exception": false,
     "start_time": "2023-06-05T14:16:58.053198",
     "status": "completed"
    },
    "tags": []
   },
   "outputs": [],
   "source": [
    "import numpy as np  # Import numpy library for efficient array operations\n",
    "import pandas as pd  # Import pandas library for data processing\n",
    "import matplotlib.pyplot as plt  # Import matplotlib.pyplot for data visualization"
   ]
  },
  {
   "cell_type": "markdown",
   "id": "3578277a",
   "metadata": {
    "papermill": {
     "duration": 0.018057,
     "end_time": "2023-06-05T14:16:58.123583",
     "exception": false,
     "start_time": "2023-06-05T14:16:58.105526",
     "status": "completed"
    },
    "tags": []
   },
   "source": [
    "## Data Loading\n",
    "Retrieving and Loading the Dataset"
   ]
  },
  {
   "cell_type": "code",
   "execution_count": null,
   "id": "ef1c1094",
   "metadata": {
    "execution": {
     "iopub.execute_input": "2023-06-05T14:16:58.162067Z",
     "iopub.status.busy": "2023-06-05T14:16:58.161625Z",
     "iopub.status.idle": "2023-06-05T14:17:01.950857Z",
     "shell.execute_reply": "2023-06-05T14:17:01.949527Z"
    },
    "papermill": {
     "duration": 3.811805,
     "end_time": "2023-06-05T14:17:01.953672",
     "exception": false,
     "start_time": "2023-06-05T14:16:58.141867",
     "status": "completed"
    },
    "tags": []
   },
   "outputs": [],
   "source": [
    "df = pd.read_csv('Data/Market_Data.csv', sep=';',parse_dates=['Date'])\n",
    "df.head()"
   ]
  },
  {
   "cell_type": "code",
   "execution_count": null,
   "id": "d1970138",
   "metadata": {
    "execution": {
     "iopub.execute_input": "2023-06-05T14:17:01.993316Z",
     "iopub.status.busy": "2023-06-05T14:17:01.992875Z",
     "iopub.status.idle": "2023-06-05T14:17:02.455693Z",
     "shell.execute_reply": "2023-06-05T14:17:02.454519Z"
    },
    "papermill": {
     "duration": 0.485973,
     "end_time": "2023-06-05T14:17:02.458491",
     "exception": false,
     "start_time": "2023-06-05T14:17:01.972518",
     "status": "completed"
    },
    "tags": []
   },
   "outputs": [],
   "source": [
    "# Convert the 'Price' column to float64 data type after replacing commas with dots\n",
    "df['Price'] = df['Price'].str.replace(',', '.').astype('float64')"
   ]
  },
  {
   "cell_type": "code",
   "execution_count": null,
   "id": "4281d597",
   "metadata": {
    "execution": {
     "iopub.execute_input": "2023-06-05T14:17:02.497281Z",
     "iopub.status.busy": "2023-06-05T14:17:02.496862Z",
     "iopub.status.idle": "2023-06-05T14:17:03.021275Z",
     "shell.execute_reply": "2023-06-05T14:17:03.019762Z"
    },
    "papermill": {
     "duration": 0.54737,
     "end_time": "2023-06-05T14:17:03.024317",
     "exception": false,
     "start_time": "2023-06-05T14:17:02.476947",
     "status": "completed"
    },
    "tags": []
   },
   "outputs": [],
   "source": [
    "# Display the information about the DataFrame which is to provide an overview of the DataFrame's structure and column data types.\n",
    "df.info()"
   ]
  },
  {
   "cell_type": "code",
   "execution_count": null,
   "id": "2b54c285",
   "metadata": {
    "execution": {
     "iopub.execute_input": "2023-06-05T14:17:03.073283Z",
     "iopub.status.busy": "2023-06-05T14:17:03.072855Z",
     "iopub.status.idle": "2023-06-05T14:17:03.592364Z",
     "shell.execute_reply": "2023-06-05T14:17:03.591144Z"
    },
    "papermill": {
     "duration": 0.546802,
     "end_time": "2023-06-05T14:17:03.594957",
     "exception": false,
     "start_time": "2023-06-05T14:17:03.048155",
     "status": "completed"
    },
    "tags": []
   },
   "outputs": [],
   "source": [
    "# Calculate the number of missing values for each column and sort them in descending order\n",
    "df.isna().sum().sort_values(ascending=False)"
   ]
  },
  {
   "cell_type": "code",
   "execution_count": null,
   "id": "71c902b6",
   "metadata": {
    "execution": {
     "iopub.execute_input": "2023-06-05T14:17:03.635733Z",
     "iopub.status.busy": "2023-06-05T14:17:03.634865Z",
     "iopub.status.idle": "2023-06-05T14:17:03.643515Z",
     "shell.execute_reply": "2023-06-05T14:17:03.642638Z"
    },
    "papermill": {
     "duration": 0.031396,
     "end_time": "2023-06-05T14:17:03.645944",
     "exception": false,
     "start_time": "2023-06-05T14:17:03.614548",
     "status": "completed"
    },
    "tags": []
   },
   "outputs": [],
   "source": [
    "# Calculate the total price by multiplying the quantity and price columns\n",
    "df['Total_Price'] = df.Quantity * df.Price"
   ]
  },
  {
   "cell_type": "code",
   "execution_count": null,
   "id": "83069cb8",
   "metadata": {
    "execution": {
     "iopub.execute_input": "2023-06-05T14:17:03.685682Z",
     "iopub.status.busy": "2023-06-05T14:17:03.685033Z",
     "iopub.status.idle": "2023-06-05T14:17:04.259889Z",
     "shell.execute_reply": "2023-06-05T14:17:04.258620Z"
    },
    "papermill": {
     "duration": 0.597924,
     "end_time": "2023-06-05T14:17:04.262461",
     "exception": false,
     "start_time": "2023-06-05T14:17:03.664537",
     "status": "completed"
    },
    "tags": []
   },
   "outputs": [],
   "source": [
    "df.describe(include='all')"
   ]
  },
  {
   "cell_type": "code",
   "execution_count": null,
   "id": "ca1900a0",
   "metadata": {
    "execution": {
     "iopub.execute_input": "2023-06-05T14:17:04.302808Z",
     "iopub.status.busy": "2023-06-05T14:17:04.302375Z",
     "iopub.status.idle": "2023-06-05T14:17:04.440743Z",
     "shell.execute_reply": "2023-06-05T14:17:04.439340Z"
    },
    "papermill": {
     "duration": 0.161852,
     "end_time": "2023-06-05T14:17:04.443536",
     "exception": false,
     "start_time": "2023-06-05T14:17:04.281684",
     "status": "completed"
    },
    "tags": []
   },
   "outputs": [],
   "source": [
    "# Print the number of unique countries in the 'Country' column\n",
    "print(\"Number of unique countries:\", df['Country'].nunique())\n",
    "\n",
    "# Calculate and print the normalized value counts of the top 5 countries in the 'Country' column\n",
    "print(df['Country'].value_counts(normalize=True)[:5])"
   ]
  },
  {
   "cell_type": "markdown",
   "id": "43c28009",
   "metadata": {
    "papermill": {
     "duration": 0.019605,
     "end_time": "2023-06-05T14:17:04.482705",
     "exception": false,
     "start_time": "2023-06-05T14:17:04.463100",
     "status": "completed"
    },
    "tags": []
   },
   "source": [
    "Considering that the majority of transactions (approximately 93%) in the dataset originate from the UK, the 'Country' column may not contribute significant diversity or variability to the analysis. Therefore, we can choose to remove the 'Country' column from the DataFrame df. we indicate that we want to drop a column, This step allows us to focus on other attributes that may provide more valuable insights for our analysis."
   ]
  },
  {
   "cell_type": "code",
   "execution_count": null,
   "id": "edf10739",
   "metadata": {
    "execution": {
     "iopub.execute_input": "2023-06-05T14:17:04.524109Z",
     "iopub.status.busy": "2023-06-05T14:17:04.523626Z",
     "iopub.status.idle": "2023-06-05T14:17:04.554748Z",
     "shell.execute_reply": "2023-06-05T14:17:04.553423Z"
    },
    "papermill": {
     "duration": 0.055223,
     "end_time": "2023-06-05T14:17:04.557723",
     "exception": false,
     "start_time": "2023-06-05T14:17:04.502500",
     "status": "completed"
    },
    "tags": []
   },
   "outputs": [],
   "source": [
    "# Delete the 'Country' column from the DataFrame\n",
    "df.drop('Country', axis=1, inplace=True)"
   ]
  },
  {
   "cell_type": "code",
   "execution_count": null,
   "id": "da727519",
   "metadata": {
    "execution": {
     "iopub.execute_input": "2023-06-05T14:17:04.599593Z",
     "iopub.status.busy": "2023-06-05T14:17:04.598867Z",
     "iopub.status.idle": "2023-06-05T14:17:05.369591Z",
     "shell.execute_reply": "2023-06-05T14:17:05.368719Z"
    },
    "papermill": {
     "duration": 0.793976,
     "end_time": "2023-06-05T14:17:05.371969",
     "exception": false,
     "start_time": "2023-06-05T14:17:04.577993",
     "status": "completed"
    },
    "tags": []
   },
   "outputs": [],
   "source": [
    "# Filter the DataFrame to display rows where 'BillNo' column contains non-digit values\n",
    "df[df['BillNo'].str.isdigit() == False]"
   ]
  },
  {
   "cell_type": "markdown",
   "id": "4a003ad0",
   "metadata": {
    "papermill": {
     "duration": 0.019475,
     "end_time": "2023-06-05T14:17:05.411377",
     "exception": false,
     "start_time": "2023-06-05T14:17:05.391902",
     "status": "completed"
    },
    "tags": []
   },
   "source": [
    "Since the item name \"Adjust bad debt\" was filled accidentally and does not provide any useful information for our analysis, we can choose to remove the corresponding rows from the DataFrame. The code snippet above filters the DataFrame df to retain only the rows where the 'Itemname' column does not contain the value \"Adjust bad debt\". This operation effectively eliminates the rows associated with the accidental data entry, ensuring the dataset is free from this irrelevant item name."
   ]
  },
  {
   "cell_type": "code",
   "execution_count": null,
   "id": "9f19a018",
   "metadata": {
    "execution": {
     "iopub.execute_input": "2023-06-05T14:17:05.453032Z",
     "iopub.status.busy": "2023-06-05T14:17:05.452383Z",
     "iopub.status.idle": "2023-06-05T14:17:05.573580Z",
     "shell.execute_reply": "2023-06-05T14:17:05.572597Z"
    },
    "papermill": {
     "duration": 0.145119,
     "end_time": "2023-06-05T14:17:05.576162",
     "exception": false,
     "start_time": "2023-06-05T14:17:05.431043",
     "status": "completed"
    },
    "tags": []
   },
   "outputs": [],
   "source": [
    "# Remove rows where the 'Itemname' column contains \"Adjust bad debt\"\n",
    "df = df[df['Itemname'] != \"Adjust bad debt\"]"
   ]
  },
  {
   "cell_type": "code",
   "execution_count": null,
   "id": "4044b81e",
   "metadata": {
    "execution": {
     "iopub.execute_input": "2023-06-05T14:17:05.617810Z",
     "iopub.status.busy": "2023-06-05T14:17:05.617199Z",
     "iopub.status.idle": "2023-06-05T14:17:05.672691Z",
     "shell.execute_reply": "2023-06-05T14:17:05.671586Z"
    },
    "papermill": {
     "duration": 0.079158,
     "end_time": "2023-06-05T14:17:05.675003",
     "exception": false,
     "start_time": "2023-06-05T14:17:05.595845",
     "status": "completed"
    },
    "tags": []
   },
   "outputs": [],
   "source": [
    "# Here to check if all BillNo doesn't inculde letters \n",
    "df['BillNo'].astype(\"int64\")"
   ]
  },
  {
   "cell_type": "code",
   "execution_count": null,
   "id": "2a1fdd8e",
   "metadata": {
    "execution": {
     "iopub.execute_input": "2023-06-05T14:17:05.716775Z",
     "iopub.status.busy": "2023-06-05T14:17:05.716130Z",
     "iopub.status.idle": "2023-06-05T14:17:05.779539Z",
     "shell.execute_reply": "2023-06-05T14:17:05.778320Z"
    },
    "papermill": {
     "duration": 0.087686,
     "end_time": "2023-06-05T14:17:05.782193",
     "exception": false,
     "start_time": "2023-06-05T14:17:05.694507",
     "status": "completed"
    },
    "tags": []
   },
   "outputs": [],
   "source": [
    "# Calculate the sum of 'Price' for rows where 'Itemname' is missing\n",
    "df[df['Itemname'].isna()] ['Price'].sum()"
   ]
  },
  {
   "cell_type": "markdown",
   "id": "5382f275",
   "metadata": {
    "papermill": {
     "duration": 0.019841,
     "end_time": "2023-06-05T14:17:05.822131",
     "exception": false,
     "start_time": "2023-06-05T14:17:05.802290",
     "status": "completed"
    },
    "tags": []
   },
   "source": [
    "Exploring Rows with Missing Item Names:\n",
    "\n",
    "To investigate the data where the 'Itemname' column has missing values, we can filter the dataset to display only those rows. This subset of the data will provide insights into the records where the item names are not available."
   ]
  },
  {
   "cell_type": "code",
   "execution_count": null,
   "id": "4b8afe42",
   "metadata": {
    "execution": {
     "iopub.execute_input": "2023-06-05T14:17:05.863901Z",
     "iopub.status.busy": "2023-06-05T14:17:05.863463Z",
     "iopub.status.idle": "2023-06-05T14:17:05.938767Z",
     "shell.execute_reply": "2023-06-05T14:17:05.937708Z"
    },
    "papermill": {
     "duration": 0.099117,
     "end_time": "2023-06-05T14:17:05.941243",
     "exception": false,
     "start_time": "2023-06-05T14:17:05.842126",
     "status": "completed"
    },
    "tags": []
   },
   "outputs": [],
   "source": [
    "# Filter the DataFrame to display rows where 'Itemname' is missing\n",
    "df[df['Itemname'].isna()]"
   ]
  },
  {
   "cell_type": "markdown",
   "id": "c69d9c07",
   "metadata": {
    "papermill": {
     "duration": 0.019919,
     "end_time": "2023-06-05T14:17:05.981455",
     "exception": false,
     "start_time": "2023-06-05T14:17:05.961536",
     "status": "completed"
    },
    "tags": []
   },
   "source": [
    "Upon examining the data where the 'Itemname' column has missing values, it becomes evident that these missing entries do not contribute any meaningful information. Given that the item names are not available for these records, it suggests that these instances may not be crucial for our analysis. As a result, we can consider these missing values as non-significant and proceed with our analysis without incorporating them."
   ]
  },
  {
   "cell_type": "code",
   "execution_count": null,
   "id": "d497185a",
   "metadata": {
    "execution": {
     "iopub.execute_input": "2023-06-05T14:17:06.024892Z",
     "iopub.status.busy": "2023-06-05T14:17:06.023856Z",
     "iopub.status.idle": "2023-06-05T14:17:06.277103Z",
     "shell.execute_reply": "2023-06-05T14:17:06.275800Z"
    },
    "papermill": {
     "duration": 0.277576,
     "end_time": "2023-06-05T14:17:06.279882",
     "exception": false,
     "start_time": "2023-06-05T14:17:06.002306",
     "status": "completed"
    },
    "tags": []
   },
   "outputs": [],
   "source": [
    "# Filter the DataFrame to exclude rows where 'Itemname' is missing (not NaN)\n",
    "df = df[df['Itemname'].notna()]\n",
    "\n",
    "# Print the number of unique items in the 'Itemname' column\n",
    "print(\"Number of unique items:\", df['Itemname'].nunique())\n",
    "\n",
    "# Calculate and print the normalized value counts of the top 5 items in the 'Itemname' column\n",
    "print(df['Itemname'].value_counts(normalize=True)[:5])"
   ]
  },
  {
   "cell_type": "markdown",
   "id": "c2668bcd",
   "metadata": {
    "papermill": {
     "duration": 0.01988,
     "end_time": "2023-06-05T14:17:06.320251",
     "exception": false,
     "start_time": "2023-06-05T14:17:06.300371",
     "status": "completed"
    },
    "tags": []
   },
   "source": [
    "A curious observation has caught our attention—the presence of a negative quantity in the 515,623rd row. "
   ]
  },
  {
   "cell_type": "markdown",
   "id": "cbd11a45",
   "metadata": {
    "papermill": {
     "duration": 0.020043,
     "end_time": "2023-06-05T14:17:06.360385",
     "exception": false,
     "start_time": "2023-06-05T14:17:06.340342",
     "status": "completed"
    },
    "tags": []
   },
   "source": [
    "we are intrigued by the existence of negative quantities within the dataset. To gain a deeper understanding of this phenomenon, we focus our attention on these specific instances and aim to uncover the underlying reasons behind their occurrence. Through this exploration, we expect to gain valuable insights into the nature of these negative quantities and their potential impact on our analysis. Our investigation aims to reveal the intriguing stories that lie within this aspect of the data."
   ]
  },
  {
   "cell_type": "code",
   "execution_count": null,
   "id": "f0ce066e",
   "metadata": {
    "execution": {
     "iopub.execute_input": "2023-06-05T14:17:06.403638Z",
     "iopub.status.busy": "2023-06-05T14:17:06.402904Z",
     "iopub.status.idle": "2023-06-05T14:17:06.423494Z",
     "shell.execute_reply": "2023-06-05T14:17:06.422399Z"
    },
    "papermill": {
     "duration": 0.044854,
     "end_time": "2023-06-05T14:17:06.426021",
     "exception": false,
     "start_time": "2023-06-05T14:17:06.381167",
     "status": "completed"
    },
    "tags": []
   },
   "outputs": [],
   "source": [
    "# Filter the DataFrame to display rows where 'Quantity' is less than 1\n",
    "df[df['Quantity'] < 1]"
   ]
  },
  {
   "cell_type": "markdown",
   "id": "ed5288bd",
   "metadata": {
    "papermill": {
     "duration": 0.020678,
     "end_time": "2023-06-05T14:17:06.467295",
     "exception": false,
     "start_time": "2023-06-05T14:17:06.446617",
     "status": "completed"
    },
    "tags": []
   },
   "source": [
    "Given the observation that negative quantities might be filled with system issues or irrelevant information for our analysis, it is reasonable to proceed with removing these rows from the dataset. By doing so, we can ensure the accuracy and reliability of our data, as well as eliminate potential biases or misleading information stemming from negative quantities."
   ]
  },
  {
   "cell_type": "code",
   "execution_count": null,
   "id": "751c0772",
   "metadata": {
    "execution": {
     "iopub.execute_input": "2023-06-05T14:17:06.510847Z",
     "iopub.status.busy": "2023-06-05T14:17:06.510423Z",
     "iopub.status.idle": "2023-06-05T14:17:06.548568Z",
     "shell.execute_reply": "2023-06-05T14:17:06.546977Z"
    },
    "papermill": {
     "duration": 0.063766,
     "end_time": "2023-06-05T14:17:06.551915",
     "exception": false,
     "start_time": "2023-06-05T14:17:06.488149",
     "status": "completed"
    },
    "tags": []
   },
   "outputs": [],
   "source": [
    "# Remove rows where 'Quantity' is less than 1\n",
    "df = df[df['Quantity'] >= 1]"
   ]
  },
  {
   "cell_type": "markdown",
   "id": "f9594bb7",
   "metadata": {
    "papermill": {
     "duration": 0.020677,
     "end_time": "2023-06-05T14:17:06.593468",
     "exception": false,
     "start_time": "2023-06-05T14:17:06.572791",
     "status": "completed"
    },
    "tags": []
   },
   "source": [
    "Next, we turn our attention to the presence of missing values in the 'CustomerID' column. By investigating these missing values, we aim to identify any potential issues or data quality concerns associated with them. Analyzing the impact of missing 'CustomerID' values will help us assess the completeness and reliability of the dataset, enabling us to make informed decisions on handling or imputing these missing values. Let's dive deeper into this aspect and gain a comprehensive understanding of any issues related to missing 'CustomerID' values."
   ]
  },
  {
   "cell_type": "code",
   "execution_count": null,
   "id": "50875636",
   "metadata": {
    "execution": {
     "iopub.execute_input": "2023-06-05T14:17:06.636945Z",
     "iopub.status.busy": "2023-06-05T14:17:06.636451Z",
     "iopub.status.idle": "2023-06-05T14:17:06.675136Z",
     "shell.execute_reply": "2023-06-05T14:17:06.673700Z"
    },
    "papermill": {
     "duration": 0.063537,
     "end_time": "2023-06-05T14:17:06.677833",
     "exception": false,
     "start_time": "2023-06-05T14:17:06.614296",
     "status": "completed"
    },
    "tags": []
   },
   "outputs": [],
   "source": [
    "# Select a random sample of 30 rows where 'CustomerID' is missing\n",
    "df[df['CustomerID'].isna()].sample(30)"
   ]
  },
  {
   "cell_type": "markdown",
   "id": "88250c98",
   "metadata": {
    "papermill": {
     "duration": 0.021429,
     "end_time": "2023-06-05T14:17:06.721132",
     "exception": false,
     "start_time": "2023-06-05T14:17:06.699703",
     "status": "completed"
    },
    "tags": []
   },
   "source": [
    "This sample can provide us with a glimpse into the specific instances where 'CustomerID' is missing, aiding us in further analysis or decision-making related to handling these missing values."
   ]
  },
  {
   "cell_type": "markdown",
   "id": "e5188cee",
   "metadata": {
    "papermill": {
     "duration": 0.021079,
     "end_time": "2023-06-05T14:17:06.763758",
     "exception": false,
     "start_time": "2023-06-05T14:17:06.742679",
     "status": "completed"
    },
    "tags": []
   },
   "source": [
    "Upon analyzing a sample of rows where the 'CustomerID' is missing, it appears that there is no discernible pattern or specific reason behind the absence of these values. This observation suggests that the missing 'CustomerID' entries were not filled accidentally or due to a systematic issue. Instead, it is possible that these missing values occur naturally in the dataset, without any particular significance or underlying cause."
   ]
  },
  {
   "cell_type": "markdown",
   "id": "954c2256",
   "metadata": {
    "papermill": {
     "duration": 0.021176,
     "end_time": "2023-06-05T14:17:06.806354",
     "exception": false,
     "start_time": "2023-06-05T14:17:06.785178",
     "status": "completed"
    },
    "tags": []
   },
   "source": [
    "#### Identifying Issues in the Price Column: Ensuring Data Quality\n",
    "In our analysis, we shift our focus to the 'Price' column and investigate it for any potential issues or anomalies. By thoroughly examining the data within this column, we aim to identify any irregularities, inconsistencies, or outliers that may affect the overall quality and integrity of the dataset. Analyzing the 'Price' column is crucial in ensuring accurate and reliable pricing information for our analysis. Let's dive deeper into the 'Price' column and uncover any issues that may require attention."
   ]
  },
  {
   "cell_type": "code",
   "execution_count": null,
   "id": "b6cdb81e",
   "metadata": {
    "execution": {
     "iopub.execute_input": "2023-06-05T14:17:06.852001Z",
     "iopub.status.busy": "2023-06-05T14:17:06.851548Z",
     "iopub.status.idle": "2023-06-05T14:17:06.862446Z",
     "shell.execute_reply": "2023-06-05T14:17:06.861064Z"
    },
    "papermill": {
     "duration": 0.03689,
     "end_time": "2023-06-05T14:17:06.865306",
     "exception": false,
     "start_time": "2023-06-05T14:17:06.828416",
     "status": "completed"
    },
    "tags": []
   },
   "outputs": [],
   "source": [
    "# Counting the number of rows where the price is zero\n",
    "zero_price_count = len(df[df['Price'] == 0])\n",
    "print(\"Number of rows where price is zero:\", zero_price_count)\n",
    "\n",
    "# Counting the number of rows where the price is negative\n",
    "negative_price_count = len(df[df['Price'] < 0])\n",
    "print(\"Number of rows where price is negative:\", negative_price_count)"
   ]
  },
  {
   "cell_type": "markdown",
   "id": "881419d9",
   "metadata": {
    "papermill": {
     "duration": 0.021478,
     "end_time": "2023-06-05T14:17:06.908694",
     "exception": false,
     "start_time": "2023-06-05T14:17:06.887216",
     "status": "completed"
    },
    "tags": []
   },
   "source": [
    "our attention now turns to the presence of zero charges in the 'Price' column. It is important to explore instances where products were offered free of cost, as this information can provide valuable insights into promotional activities, giveaways, or other unique aspects of the dataset. By examining the data related to zero charges in the 'Price' column, we can gain a deeper understanding of these transactions and their potential impact on our analysis. Let's delve into the details of these zero-priced transactions and uncover any significant findings."
   ]
  },
  {
   "cell_type": "code",
   "execution_count": null,
   "id": "97eef98a",
   "metadata": {
    "execution": {
     "iopub.execute_input": "2023-06-05T14:17:06.954437Z",
     "iopub.status.busy": "2023-06-05T14:17:06.953992Z",
     "iopub.status.idle": "2023-06-05T14:17:06.978611Z",
     "shell.execute_reply": "2023-06-05T14:17:06.977277Z"
    },
    "papermill": {
     "duration": 0.051496,
     "end_time": "2023-06-05T14:17:06.982096",
     "exception": false,
     "start_time": "2023-06-05T14:17:06.930600",
     "status": "completed"
    },
    "tags": []
   },
   "outputs": [],
   "source": [
    "# Selecting a random sample of 20 rows where the price is zero\n",
    "df[df['Price'] == 0].sample(20)"
   ]
  },
  {
   "cell_type": "markdown",
   "id": "be9389ca",
   "metadata": {
    "papermill": {
     "duration": 0.02196,
     "end_time": "2023-06-05T14:17:07.027838",
     "exception": false,
     "start_time": "2023-06-05T14:17:07.005878",
     "status": "completed"
    },
    "tags": []
   },
   "source": [
    "#### Removing Rows with Zero Price: Eliminating Misleading Data Entries\n",
    "\n",
    "Upon reviewing the sample of rows where the price is zero, we have identified that these entries might provide misleading or inaccurate information for our analysis. Therefore, it is prudent to proceed with removing these rows from the dataset to ensure the integrity and reliability of our analysis."
   ]
  },
  {
   "cell_type": "code",
   "execution_count": null,
   "id": "bf5f509b",
   "metadata": {
    "execution": {
     "iopub.execute_input": "2023-06-05T14:17:07.074288Z",
     "iopub.status.busy": "2023-06-05T14:17:07.073874Z",
     "iopub.status.idle": "2023-06-05T14:17:07.109112Z",
     "shell.execute_reply": "2023-06-05T14:17:07.107938Z"
    },
    "papermill": {
     "duration": 0.061743,
     "end_time": "2023-06-05T14:17:07.111886",
     "exception": false,
     "start_time": "2023-06-05T14:17:07.050143",
     "status": "completed"
    },
    "tags": []
   },
   "outputs": [],
   "source": [
    "# Remove rows where the price is zero\n",
    "df = df[df['Price'] != 0]"
   ]
  },
  {
   "cell_type": "markdown",
   "id": "3a4ae36f",
   "metadata": {
    "papermill": {
     "duration": 0.022016,
     "end_time": "2023-06-05T14:17:07.156776",
     "exception": false,
     "start_time": "2023-06-05T14:17:07.134760",
     "status": "completed"
    },
    "tags": []
   },
   "source": [
    "# Data Understanding: Exploring and Interpreting the Dataset"
   ]
  },
  {
   "cell_type": "markdown",
   "id": "976632e1",
   "metadata": {
    "papermill": {
     "duration": 0.021869,
     "end_time": "2023-06-05T14:17:07.200784",
     "exception": false,
     "start_time": "2023-06-05T14:17:07.178915",
     "status": "completed"
    },
    "tags": []
   },
   "source": [
    "In the data analysis process, data understanding plays a crucial role in gaining insights and formulating meaningful conclusions. By thoroughly examining the dataset, we aim to understand its structure, contents, and underlying patterns. This understanding empowers us to make informed decisions regarding data cleaning, feature engineering, and subsequent analysis steps.\n",
    "\n",
    "Key aspects of data understanding include:\n",
    "\n",
    "    Exploring the Dataset: We investigate the dataset's dimensions, such as the number of rows and columns, to gauge its size and complexity. Additionally, we examine the data types of each column to understand the nature of the variables.\n",
    "\n",
    "    Assessing Data Quality: We scrutinize the data for inconsistencies, outliers, or other data quality issues that may require attention. Addressing these issues ensures the reliability and accuracy of the data.\n",
    "\n",
    "    Identifying Relationships: We analyze the relationships between variables by examining correlations, associations, or dependencies. This analysis allows us to uncover meaningful connections that can drive insights and guide our analysis.\n",
    "\n",
    "    Detecting Patterns and Trends: We look for recurring patterns, trends, or distributions within the data. This step can reveal valuable information about customer behavior, market dynamics, or other relevant factors.\n",
    "\n",
    "By thoroughly understanding the dataset, we lay the foundation for meaningful data analysis and generate insights that contribute to informed decision-making and problem-solving."
   ]
  },
  {
   "cell_type": "code",
   "execution_count": null,
   "id": "fe5b6774",
   "metadata": {
    "execution": {
     "iopub.execute_input": "2023-06-05T14:17:07.247017Z",
     "iopub.status.busy": "2023-06-05T14:17:07.246600Z",
     "iopub.status.idle": "2023-06-05T14:17:07.994308Z",
     "shell.execute_reply": "2023-06-05T14:17:07.993099Z"
    },
    "papermill": {
     "duration": 0.774023,
     "end_time": "2023-06-05T14:17:07.997117",
     "exception": false,
     "start_time": "2023-06-05T14:17:07.223094",
     "status": "completed"
    },
    "tags": []
   },
   "outputs": [],
   "source": [
    "# Grouping the data by month and summing the total price for the year 2010\n",
    "df[df[\"Date\"].dt.year == 2010].groupby(df[\"Date\"].dt.month)[\"Total_Price\"].sum().plot()\n",
    "\n",
    "# Grouping the data by month and summing the total price for the year 2011\n",
    "df[df[\"Date\"].dt.year == 2011].groupby(df[\"Date\"].dt.month)[\"Total_Price\"].sum().plot()\n",
    "\n",
    "# Adding legend and plot labels\n",
    "plt.legend([\"2010\", \"2011\"])\n",
    "plt.title(\"Income over time\")\n",
    "plt.ylabel('Total Income (Million)')\n",
    "plt.xlabel(\"Date (Month)\")"
   ]
  },
  {
   "cell_type": "markdown",
   "id": "d2437f8d",
   "metadata": {
    "papermill": {
     "duration": 0.022857,
     "end_time": "2023-06-05T14:17:08.043496",
     "exception": false,
     "start_time": "2023-06-05T14:17:08.020639",
     "status": "completed"
    },
    "tags": []
   },
   "source": [
    "The code snippet above creates a line plot to visualize the income over time for the years 2010 and 2011. First, the data is filtered based on the year using the dt.year attribute of the 'Date' column. The data is then grouped by month, and the 'Total_Price' column is summed. Two line plots are created, one for each year, showing the monthly total income. The legend is added to indicate the respective years, and the plot is labeled with a title, y-axis label, and x-axis label. This visualization allows us to observe the trend and compare the income between the two years."
   ]
  },
  {
   "cell_type": "markdown",
   "id": "6e9399ab",
   "metadata": {
    "papermill": {
     "duration": 0.026098,
     "end_time": "2023-06-05T14:17:08.092738",
     "exception": false,
     "start_time": "2023-06-05T14:17:08.066640",
     "status": "completed"
    },
    "tags": []
   },
   "source": [
    "Upon observing the line plot of income over time for the years 2010 and 2011, it becomes apparent that the sales remained relatively stable and consistent until October 2010. This suggests that the business was growing steadily during this period, as the sales continued to increase.\n",
    "\n",
    "However, a significant drop in sales is observed in the last month of the dataset. This sudden decline indicates a notable deviation from the previously observed growth trend. Exploring the potential factors contributing to this drop becomes crucial in understanding the underlying reasons for the decline in sales during that specific period."
   ]
  },
  {
   "cell_type": "markdown",
   "id": "27ff93bf",
   "metadata": {
    "papermill": {
     "duration": 0.024424,
     "end_time": "2023-06-05T14:17:08.145375",
     "exception": false,
     "start_time": "2023-06-05T14:17:08.120951",
     "status": "completed"
    },
    "tags": []
   },
   "source": [
    "To verify if the data is complete for the entire last month in the dataset, we can compare the maximum date in the 'Date' column with the last day of that month. If they match, it indicates that the data is filled for the entire last month."
   ]
  },
  {
   "cell_type": "code",
   "execution_count": null,
   "id": "49709bea",
   "metadata": {
    "execution": {
     "iopub.execute_input": "2023-06-05T14:17:08.195380Z",
     "iopub.status.busy": "2023-06-05T14:17:08.194471Z",
     "iopub.status.idle": "2023-06-05T14:17:08.205099Z",
     "shell.execute_reply": "2023-06-05T14:17:08.203725Z"
    },
    "papermill": {
     "duration": 0.039167,
     "end_time": "2023-06-05T14:17:08.207830",
     "exception": false,
     "start_time": "2023-06-05T14:17:08.168663",
     "status": "completed"
    },
    "tags": []
   },
   "outputs": [],
   "source": [
    "df[\"Date\"].max()"
   ]
  },
  {
   "cell_type": "markdown",
   "id": "5d22af5f",
   "metadata": {
    "papermill": {
     "duration": 0.024945,
     "end_time": "2023-06-05T14:17:08.259240",
     "exception": false,
     "start_time": "2023-06-05T14:17:08.234295",
     "status": "completed"
    },
    "tags": []
   },
   "source": [
    "Based on the finding that the data is only available for 10 days in the last month, it becomes evident that the significant drop in sales observed during that period is likely due to the limited data rather than an actual decline in sales. The incomplete data for the last month may not provide a comprehensive representation of the sales performance during that period.\n",
    "\n",
    "To gain a more accurate understanding of the sales trend, it is advisable to consider a broader time frame with complete data. Analyzing a more extended period that encompasses multiple months or years would provide a more reliable assessment of the sales performance and allow for more meaningful insights and conclusions."
   ]
  },
  {
   "cell_type": "code",
   "execution_count": null,
   "id": "7d9320ea",
   "metadata": {
    "execution": {
     "iopub.execute_input": "2023-06-05T14:17:08.309994Z",
     "iopub.status.busy": "2023-06-05T14:17:08.309006Z",
     "iopub.status.idle": "2023-06-05T14:17:09.108014Z",
     "shell.execute_reply": "2023-06-05T14:17:09.106742Z"
    },
    "papermill": {
     "duration": 0.828132,
     "end_time": "2023-06-05T14:17:09.110717",
     "exception": false,
     "start_time": "2023-06-05T14:17:08.282585",
     "status": "completed"
    },
    "tags": []
   },
   "outputs": [],
   "source": [
    "# Plotting the top 10 most sold products by quantity\n",
    "df.groupby('Itemname')['Quantity'].sum().sort_values(ascending=False)[:10].plot(kind='barh', title='Number of Quantity Sold')\n",
    "plt.ylabel('Item Name')\n",
    "plt.xlim(20000, 82000)\n",
    "plt.show()\n",
    "\n",
    "# Plotting the top 10 most sold products by count\n",
    "df['Itemname'].value_counts(ascending=False)[:10].plot(kind='barh', title='Number of Sales')\n",
    "plt.ylabel('Item Name')\n",
    "plt.xlim(1000, 2300)\n",
    "plt.show()"
   ]
  },
  {
   "cell_type": "markdown",
   "id": "99730961",
   "metadata": {
    "papermill": {
     "duration": 0.024627,
     "end_time": "2023-06-05T14:17:09.160942",
     "exception": false,
     "start_time": "2023-06-05T14:17:09.136315",
     "status": "completed"
    },
    "tags": []
   },
   "source": [
    "The code snippet above creates two horizontal bar plots to visualize the most sold products based on quantity and count, respectively.\n",
    "\n",
    "In the first plot, the top 10 items are determined by summing the 'Quantity' column for each unique 'Itemname' and sorting them in descending order. The plot displays the number of quantities sold for each item.\n",
    "\n",
    "The second plot showcases the top 10 items based on the count of sales for each unique 'Itemname'. The value_counts function counts the occurrences of each item and sorts them in descending order. The plot represents the number of times each item has been sold."
   ]
  },
  {
   "cell_type": "markdown",
   "id": "ae3e4fb6",
   "metadata": {
    "papermill": {
     "duration": 0.024738,
     "end_time": "2023-06-05T14:17:09.210533",
     "exception": false,
     "start_time": "2023-06-05T14:17:09.185795",
     "status": "completed"
    },
    "tags": []
   },
   "source": [
    "Observing the plots, we can infer that there are products that are sold more frequently (higher count) compared to others, despite having relatively lower quantities sold per transaction. This indicates the presence of items that are commonly purchased in larger quantities at once. These products might include items that are frequently bought in bulk or items that are typically sold in larger packages or quantities.\n",
    "\n",
    "This insight highlights the importance of considering both the quantity sold and the count of sales when analyzing the popularity and demand for different products. It suggests that some items may have a higher turnover rate due to frequent purchases, while others may have a higher quantity per sale, leading to different sales patterns and customer behaviors. Understanding these dynamics can be valuable for inventory management, pricing strategies, and identifying customer preferences."
   ]
  },
  {
   "cell_type": "markdown",
   "id": "edc3b92c",
   "metadata": {
    "papermill": {
     "duration": 0.024541,
     "end_time": "2023-06-05T14:17:09.259988",
     "exception": false,
     "start_time": "2023-06-05T14:17:09.235447",
     "status": "completed"
    },
    "tags": []
   },
   "source": [
    "# Association Rules"
   ]
  },
  {
   "cell_type": "markdown",
   "id": "d91b323c",
   "metadata": {
    "papermill": {
     "duration": 0.024603,
     "end_time": "2023-06-05T14:17:09.309325",
     "exception": false,
     "start_time": "2023-06-05T14:17:09.284722",
     "status": "completed"
    },
    "tags": []
   },
   "source": [
    "Association rules are generated using the Apriori algorithm, which is a popular algorithm for discovering interesting relationships or associations among items in a dataset. Association rule mining is commonly used in market basket analysis, where the goal is to find associations between items frequently purchased together.\n",
    "\n",
    "The generated association rules provide insights into the relationships between different items or itemsets in the dataset. Each association rule consists of two parts: the antecedent (or left-hand side) and the consequent (or right-hand side). The antecedent represents the item(s) or itemset(s) that act as a condition or premise, while the consequent represents the item(s) or itemset(s) that are predicted or inferred from the antecedent.\n",
    "\n",
    "The association rules are evaluated based on different metrics, such as support, confidence, lift, leverage, and conviction. These metrics provide measures of the interestingness or strength of the rules. \n",
    "\n",
    "- Support measures the proportion of transactions in the dataset that contain both the antecedent and the consequent.\n",
    "- Confidence measures the conditional probability of the consequent given the antecedent.\n",
    "- Lift measures the ratio of observed support to expected support, indicating the strength of the association between the antecedent and the consequent.\n",
    "- Leverage measures the difference between the observed support and the expected support, indicating the significance of the association.\n",
    "- Conviction measures the ratio of the expected confidence to the observed confidence, indicating the degree of dependency between the antecedent and the consequent.\n",
    "\n",
    "By examining the association rules, you can identify interesting relationships, co-occurrences, or patterns among items, which can be used for various purposes such as product recommendation, market segmentation, or inventory management.\n",
    "\n",
    "To generate the association rules, we use the Apriori algorithm with a minimum support threshold of 0.05 (5%). This ensures that only itemsets with sufficient frequency in the dataset are considered.\n",
    "\n",
    "Let's explore the generated association rules:\n"
   ]
  },
  {
   "cell_type": "code",
   "execution_count": null,
   "id": "a3037f1b",
   "metadata": {
    "execution": {
     "iopub.execute_input": "2023-06-05T14:17:09.361124Z",
     "iopub.status.busy": "2023-06-05T14:17:09.360631Z",
     "iopub.status.idle": "2023-06-05T14:17:09.696634Z",
     "shell.execute_reply": "2023-06-05T14:17:09.695275Z"
    },
    "papermill": {
     "duration": 0.365552,
     "end_time": "2023-06-05T14:17:09.699853",
     "exception": false,
     "start_time": "2023-06-05T14:17:09.334301",
     "status": "completed"
    },
    "tags": []
   },
   "outputs": [],
   "source": [
    "# Assign the original DataFrame to df2\n",
    "df2 = df\n",
    "\n",
    "# Filter rows based on item occurrences\n",
    "item_counts = df2['Itemname'].value_counts(ascending=False)\n",
    "filtered_items = item_counts.loc[item_counts > 1].reset_index()['index']\n",
    "df2 = df2[df2['Itemname'].isin(filtered_items)]\n",
    "\n",
    "# Filter rows based on bill number occurrences\n",
    "bill_counts = df2['BillNo'].value_counts(ascending=False)\n",
    "filtered_bills = bill_counts.loc[bill_counts > 1].reset_index()['index']\n",
    "df2 = df2[df2['BillNo'].isin(filtered_bills)]"
   ]
  },
  {
   "cell_type": "markdown",
   "id": "f933f849",
   "metadata": {
    "papermill": {
     "duration": 0.026463,
     "end_time": "2023-06-05T14:17:09.753211",
     "exception": false,
     "start_time": "2023-06-05T14:17:09.726748",
     "status": "completed"
    },
    "tags": []
   },
   "source": [
    "#### Filtering is done based on item occurrences:\n",
    "        The frequency count of each unique item name in the 'Itemname' column is calculated and stored in item_counts.\n",
    "        filtered_items is created by filtering item_counts to retain only item names that occur more than once.\n",
    "        Rows in df2 are filtered to keep only those where the item name in the 'Itemname' column is present in the filtered_items list.\n",
    "#### Filtering is done based on bill number occurrences:\n",
    "        The frequency count of each unique bill number in the 'BillNo' column is calculated and stored in bill_counts.\n",
    "        filtered_bills is created by filtering bill_counts to retain only bill numbers that occur more than once.\n",
    "        Rows in df2 are filtered to keep only those where the bill number in the 'BillNo' column is present in the filtered_bills list.\n",
    "\n",
    "After executing the code, the filtered DataFrame df2 will contain only the rows where both the item name and bill number occur more than once in the original df."
   ]
  },
  {
   "cell_type": "code",
   "execution_count": null,
   "id": "376fec53",
   "metadata": {
    "execution": {
     "iopub.execute_input": "2023-06-05T14:17:09.805042Z",
     "iopub.status.busy": "2023-06-05T14:17:09.804617Z",
     "iopub.status.idle": "2023-06-05T14:17:53.806314Z",
     "shell.execute_reply": "2023-06-05T14:17:53.805091Z"
    },
    "papermill": {
     "duration": 44.031623,
     "end_time": "2023-06-05T14:17:53.809886",
     "exception": false,
     "start_time": "2023-06-05T14:17:09.778263",
     "status": "completed"
    },
    "tags": []
   },
   "outputs": [],
   "source": [
    "# Create a pivot table using the filtered DataFrame\n",
    "pivot_table = pd.pivot_table(df2[['BillNo','Itemname']], index='BillNo', columns='Itemname', aggfunc=lambda x: True, fill_value=False)"
   ]
  },
  {
   "cell_type": "markdown",
   "id": "97172b30",
   "metadata": {
    "papermill": {
     "duration": 0.024612,
     "end_time": "2023-06-05T14:17:53.860287",
     "exception": false,
     "start_time": "2023-06-05T14:17:53.835675",
     "status": "completed"
    },
    "tags": []
   },
   "source": [
    "The code creates a pivot table that represents the occurrence of items in bills. The pivot table provides a binary representation where each cell indicates whether a specific item appears in a particular bill. Here's how it works:\n",
    "\n",
    "    The original DataFrame df2 contains information about bills and corresponding item names.\n",
    "    By using the pd.pivot_table() function, we reshape the DataFrame to create a pivot table.\n",
    "    The pivot table has 'BillNo' as the index and 'Itemname' as the columns, grouping the data based on these two columns.\n",
    "    The goal is to determine whether a specific item appears in a particular bill.\n",
    "    Each cell in the pivot table is filled with either True or False:\n",
    "        If an item appears in a bill, the corresponding cell is marked as True.\n",
    "        If an item does not appear in a bill, the corresponding cell is marked as False.\n",
    "    This binary representation of item occurrence in bills allows us to easily analyze and identify patterns or associations between different items and bills.\n",
    "\n",
    "The resulting pivot table provides a concise summary of the occurrence of items in bills, which can be used for various purposes such as market basket analysis, recommendation systems, or identifying frequent itemsets and association rules."
   ]
  },
  {
   "cell_type": "code",
   "execution_count": null,
   "id": "a3886802",
   "metadata": {
    "execution": {
     "iopub.execute_input": "2023-06-05T14:17:53.914236Z",
     "iopub.status.busy": "2023-06-05T14:17:53.913811Z",
     "iopub.status.idle": "2023-06-05T14:18:32.013160Z",
     "shell.execute_reply": "2023-06-05T14:18:32.011941Z"
    },
    "papermill": {
     "duration": 38.155761,
     "end_time": "2023-06-05T14:18:32.040946",
     "exception": false,
     "start_time": "2023-06-05T14:17:53.885185",
     "status": "completed"
    },
    "tags": []
   },
   "outputs": [],
   "source": [
    "from mlxtend.frequent_patterns import apriori\n",
    "from mlxtend.frequent_patterns import association_rules\n",
    "\n",
    "# Generate frequent itemsets with minimum support of 0.1 (10%)\n",
    "frequent_itemsets = apriori(pivot_table, min_support=0.01,use_colnames=True)\n",
    "\n",
    "# Generate association rules\n",
    "rules = association_rules(frequent_itemsets, \"confidence\", min_threshold = 0.5)\n",
    "\n",
    "# Print frequent itemsets\n",
    "print(\"Frequent Itemsets:\")\n",
    "print(frequent_itemsets)\n",
    "\n",
    "# Print association rules\n",
    "print(\"\\nAssociation Rules:\")\n",
    "rules"
   ]
  },
  {
   "cell_type": "markdown",
   "id": "6b7908a1",
   "metadata": {
    "papermill": {
     "duration": 0.025241,
     "end_time": "2023-06-05T14:18:32.091568",
     "exception": false,
     "start_time": "2023-06-05T14:18:32.066327",
     "status": "completed"
    },
    "tags": []
   },
   "source": [
    "The code uses the apriori algorithm and association rule mining techniques to analyze the occurrence of items in bills. Here's the overall idea:\n",
    "\n",
    "    Frequent Itemsets Generation:\n",
    "        The apriori algorithm is applied to the pivot_table created earlier, which represents the occurrence of items in bills.\n",
    "        The algorithm identifies sets of items that frequently co-occur together in the bills.\n",
    "        The minimum support threshold of 0.01 (1%) is set, meaning that an itemset must occur in at least 1% of the bills to be considered frequent.\n",
    "        The resulting frequent itemsets represent combinations of items that are frequently observed together in bills.\n",
    "\n",
    "    Association Rules Generation:\n",
    "        Using the frequent itemsets, association rules are generated.\n",
    "        Association rules capture relationships and patterns between items based on their co-occurrence in bills.\n",
    "        The confidence metric is used to evaluate the strength of the rules. Confidence measures how often the consequent item(s) appear in bills when the antecedent item(s) are present.\n",
    "        A minimum confidence threshold of 0.5 (50%) is set, meaning that only rules with a confidence greater than or equal to 0.5 will be considered significant.\n",
    "\n",
    "By applying these techniques to the pivot_table, the code enables the discovery of frequent itemsets and the extraction of meaningful association rules, helping to uncover hidden patterns and relationships in the data."
   ]
  },
  {
   "cell_type": "code",
   "execution_count": null,
   "id": "caed0c21",
   "metadata": {
    "execution": {
     "iopub.execute_input": "2023-06-05T14:18:32.144795Z",
     "iopub.status.busy": "2023-06-05T14:18:32.144036Z",
     "iopub.status.idle": "2023-06-05T14:18:32.178053Z",
     "shell.execute_reply": "2023-06-05T14:18:32.176825Z"
    },
    "papermill": {
     "duration": 0.063594,
     "end_time": "2023-06-05T14:18:32.180681",
     "exception": false,
     "start_time": "2023-06-05T14:18:32.117087",
     "status": "completed"
    },
    "tags": []
   },
   "outputs": [],
   "source": [
    "rules = rules.sort_values(['confidence', 'lift'], ascending =[False, False]) \n",
    "\n",
    "rules"
   ]
  },
  {
   "cell_type": "code",
   "execution_count": null,
   "id": "c2567102",
   "metadata": {
    "execution": {
     "iopub.execute_input": "2023-06-05T14:18:32.234707Z",
     "iopub.status.busy": "2023-06-05T14:18:32.234283Z",
     "iopub.status.idle": "2023-06-05T14:18:32.266570Z",
     "shell.execute_reply": "2023-06-05T14:18:32.265331Z"
    },
    "papermill": {
     "duration": 0.062373,
     "end_time": "2023-06-05T14:18:32.269207",
     "exception": false,
     "start_time": "2023-06-05T14:18:32.206834",
     "status": "completed"
    },
    "tags": []
   },
   "outputs": [],
   "source": [
    "rules.sort_values(by='support', ascending=False)"
   ]
  },
  {
   "cell_type": "code",
   "execution_count": null,
   "id": "78bece1e",
   "metadata": {
    "execution": {
     "iopub.execute_input": "2023-06-05T14:18:32.323470Z",
     "iopub.status.busy": "2023-06-05T14:18:32.323068Z",
     "iopub.status.idle": "2023-06-05T14:18:39.913208Z",
     "shell.execute_reply": "2023-06-05T14:18:39.912057Z"
    },
    "papermill": {
     "duration": 7.620949,
     "end_time": "2023-06-05T14:18:39.916507",
     "exception": false,
     "start_time": "2023-06-05T14:18:32.295558",
     "status": "completed"
    },
    "tags": []
   },
   "outputs": [],
   "source": [
    "# Sort rules by support in descending order\n",
    "sorted_rules = rules.sort_values(by='support', ascending=False)\n",
    "\n",
    "# Calculate cumulative support\n",
    "cumulative_support = np.cumsum(sorted_rules['support'] / np.sum(sorted_rules['support']) * 100)\n",
    "\n",
    "# Bar plot for Support\n",
    "fig, ax1 = plt.subplots(figsize=(8, 6))\n",
    "ax1.bar(range(len(sorted_rules)), sorted_rules['support'], align='center')\n",
    "plt.xticks(range(len(sorted_rules)), ['' for _ in range(len(sorted_rules))])  # Remove x-axis labels\n",
    "ax1.set_xlabel('Association Rule')\n",
    "ax1.set_ylabel('Support')\n",
    "ax1.set_title('Support of Association Rules')\n",
    "\n",
    "# CDF plot for cumulative support\n",
    "ax2 = ax1.twinx()\n",
    "ax2.plot(range(len(sorted_rules)), cumulative_support, color='#AA4A44', linestyle='--')\n",
    "ax2.set_ylabel('Cumulative Support (%)', c='#AA4A44')\n",
    "\n",
    "plt.tight_layout()\n",
    "plt.show()\n",
    "\n",
    "# Scatter plot for Confidence vs. Support\n",
    "plt.figure(figsize=(8, 6))\n",
    "plt.scatter(rules['support'], rules['confidence'], alpha=0.4)\n",
    "plt.xlabel('Support')\n",
    "plt.ylabel('Confidence')\n",
    "plt.title('Confidence vs. Support of Association Rules')\n",
    "plt.tight_layout()\n",
    "plt.show()"
   ]
  },
  {
   "cell_type": "markdown",
   "id": "c6700d59",
   "metadata": {
    "papermill": {
     "duration": 0.030507,
     "end_time": "2023-06-05T14:18:39.977900",
     "exception": false,
     "start_time": "2023-06-05T14:18:39.947393",
     "status": "completed"
    },
    "tags": []
   },
   "source": [
    "These two visualizations explore the association rules: a bar plot for the support of association rules and a scatter plot for the confidence vs. support of association rules.\n",
    "\n",
    "The bar plot represents the support values of the association rules. Each bar corresponds to a rule, and its height represents the support value, indicating how frequently the rule occurs in the dataset. The y-axis represents the support, while the x-axis does not display any labels, focusing solely on the visualization of support values.\n",
    "\n",
    "The cumulative distribution function (CDF) plot showcases the cumulative support of the association rules as a percentage. It helps understand the distribution of support values across the rules in a cumulative manner. The red dashed line in the CDF plot connects the cumulative support values for each rule, providing insights into the accumulation of support as the rules progress.\n",
    "\n",
    "The scatter plot displays the relationship between confidence and support for the association rules. Each point represents a rule, with the x-axis representing the support and the y-axis representing the confidence. The plot shows how the confidence varies with different levels of support, helping identify any patterns or trends between these two metrics.\n",
    "\n",
    "These visualizations offer valuable insights into the support, confidence, and their relationships within the association rules, aiding in the interpretation and analysis of the rules' strength and significance."
   ]
  },
  {
   "cell_type": "markdown",
   "id": "a7dba173",
   "metadata": {
    "papermill": {
     "duration": 0.029569,
     "end_time": "2023-06-05T14:18:40.037125",
     "exception": false,
     "start_time": "2023-06-05T14:18:40.007556",
     "status": "completed"
    },
    "tags": []
   },
   "source": [
    "## Cross-Selling and Upselling"
   ]
  },
  {
   "cell_type": "code",
   "execution_count": null,
   "id": "6139f76e",
   "metadata": {
    "execution": {
     "iopub.execute_input": "2023-06-05T14:18:40.098762Z",
     "iopub.status.busy": "2023-06-05T14:18:40.097550Z",
     "iopub.status.idle": "2023-06-05T14:18:40.123026Z",
     "shell.execute_reply": "2023-06-05T14:18:40.121683Z"
    },
    "papermill": {
     "duration": 0.059168,
     "end_time": "2023-06-05T14:18:40.125654",
     "exception": false,
     "start_time": "2023-06-05T14:18:40.066486",
     "status": "completed"
    },
    "tags": []
   },
   "outputs": [],
   "source": [
    "# Filter association rules for cross-selling opportunities\n",
    "cross_selling_rules = rules[(rules['antecedents'].apply(len) == 1) & (rules['consequents'].apply(len) == 1)]\n",
    "\n",
    "# Sort rules based on confidence and support\n",
    "cross_selling_rules = cross_selling_rules.sort_values(by=['confidence', 'support'], ascending=False)\n",
    "\n",
    "# Select top cross-selling recommendations\n",
    "top_cross_selling = cross_selling_rules.head(5)\n",
    "\n",
    "# Filter association rules for upselling opportunities\n",
    "upselling_rules = rules[(rules['antecedents'].apply(len) == 1) & (rules['consequents'].apply(len) > 1)]\n",
    "\n",
    "# Sort rules based on confidence and support\n",
    "upselling_rules = upselling_rules.sort_values(by=['confidence', 'support'], ascending=False)\n",
    "\n",
    "# Select top upselling recommendations\n",
    "top_upselling = upselling_rules.head(5)\n",
    "\n",
    "# Display cross-selling recommendations\n",
    "print(\"Cross-Selling Recommendations:\")\n",
    "for idx, row in top_cross_selling.iterrows():\n",
    "    antecedent = list(row['antecedents'])[0]\n",
    "    consequent = list(row['consequents'])[0]\n",
    "    print(f\"Customers who bought '{antecedent}' also bought '{consequent}'.\")\n",
    "\n",
    "# Display upselling recommendations\n",
    "print(\"\\nUpselling Recommendations:\")\n",
    "for idx, row in top_upselling.iterrows():\n",
    "    antecedent = list(row['antecedents'])[0]\n",
    "    consequents = list(row['consequents'])\n",
    "    print(f\"For customers who bought '{antecedent}', recommend the following upgrades: {', '.join(consequents)}.\")"
   ]
  },
  {
   "cell_type": "markdown",
   "id": "808774a1",
   "metadata": {
    "papermill": {
     "duration": 0.029034,
     "end_time": "2023-06-05T14:18:40.184050",
     "exception": false,
     "start_time": "2023-06-05T14:18:40.155016",
     "status": "completed"
    },
    "tags": []
   },
   "source": [
    "### Upselling Recommendations\n",
    "\n",
    "During the analysis of upselling opportunities, it was observed that multiple product recommendations were being made for the same item. To address this issue and provide more diverse recommendations, a modification was made to recommend only one product for each top item instead of recommending based on the top confidence values.\n",
    "\n",
    "By implementing this change, we ensure that the upselling recommendations do not repeatedly suggest the same product to customers. This approach enhances the variety of product recommendations and increases the chances of cross-selling and upselling success.\n",
    "\n",
    "The updated recommendation strategy focuses on identifying the top items and selecting a single recommended product for each of them. This adjustment aims to optimize the upselling strategy by suggesting different upgrades or add-on products to customers, resulting in a more compelling and varied range of recommendations."
   ]
  },
  {
   "cell_type": "code",
   "execution_count": null,
   "id": "b17534b8",
   "metadata": {
    "execution": {
     "iopub.execute_input": "2023-06-05T14:18:40.244215Z",
     "iopub.status.busy": "2023-06-05T14:18:40.243791Z",
     "iopub.status.idle": "2023-06-05T14:18:40.254342Z",
     "shell.execute_reply": "2023-06-05T14:18:40.253390Z"
    },
    "papermill": {
     "duration": 0.043544,
     "end_time": "2023-06-05T14:18:40.256795",
     "exception": false,
     "start_time": "2023-06-05T14:18:40.213251",
     "status": "completed"
    },
    "tags": []
   },
   "outputs": [],
   "source": [
    "top_upselling = upselling_rules.sort_values(['confidence', 'support'], ascending=False).drop_duplicates('antecedents')[:5]\n",
    "for idx, row in top_upselling.iterrows():\n",
    "    antecedent = list(row['antecedents'])[0]\n",
    "    consequents = list(row['consequents'])\n",
    "    print(f\"For customers who bought '{antecedent}', recommend the following upgrades: {', '.join(consequents)}.\")"
   ]
  },
  {
   "cell_type": "markdown",
   "id": "08928eff",
   "metadata": {
    "papermill": {
     "duration": 0.028735,
     "end_time": "2023-06-05T14:18:40.314835",
     "exception": false,
     "start_time": "2023-06-05T14:18:40.286100",
     "status": "completed"
    },
    "tags": []
   },
   "source": [
    "# Conclusion"
   ]
  },
  {
   "cell_type": "markdown",
   "id": "410702e0",
   "metadata": {
    "papermill": {
     "duration": 0.029035,
     "end_time": "2023-06-05T14:18:40.373211",
     "exception": false,
     "start_time": "2023-06-05T14:18:40.344176",
     "status": "completed"
    },
    "tags": []
   },
   "source": [
    "In this project, we explored the concept of association rules using the Apriori algorithm and the mlxtend library in Python. Association rules analysis provides valuable insights into the relationships and patterns within a dataset, enabling businesses to uncover hidden associations between items and make informed decisions for various applications.\n",
    "\n",
    "We started by preparing the data and filtering out infrequent items and irrelevant transactions. Then, we generated frequent itemsets and association rules based on predefined thresholds for support and confidence. These rules allowed us to identify significant associations between items and quantify their strength.\n",
    "\n",
    "The generated association rules provided actionable insights for different business scenarios. We explored cross-selling opportunities by identifying products frequently purchased together. By leveraging these associations, businesses can implement effective cross-selling strategies, offering relevant add-on products or upgrades to customers, thereby increasing revenue.\n",
    "\n",
    "Additionally, we examined upselling recommendations, focusing on identifying suitable product upgrades or higher-priced alternatives for customers. By considering only one product recommendation for each top item, we ensured diverse and relevant suggestions, avoiding repetitive recommendations and enhancing the upselling strategy.\n",
    "\n",
    "Furthermore, we discussed the importance of interpreting the support, confidence, lift, leverage, and conviction metrics associated with association rules. These metrics provide quantitative measures of the strength, significance, and impact of the associations, enabling businesses to prioritize and optimize their decision-making processes.\n",
    "\n",
    "Overall, association rules analysis offers valuable insights and practical applications across various domains, such as marketing, product recommendations, cross-selling strategies, and process optimization. By understanding the associations between items, businesses can make data-driven decisions, improve customer satisfaction, enhance marketing campaigns, and drive business growth.\n",
    "\n",
    "It is important to note that the analysis and insights provided in this project are specific to the dataset and parameters used. The results can be further refined and customized based on the specific requirements, domain knowledge, and business objectives.\n"
   ]
  }
 ],
 "metadata": {
  "kernelspec": {
   "display_name": "Python 3 (ipykernel)",
   "language": "python",
   "name": "python3"
  },
  "language_info": {
   "codemirror_mode": {
    "name": "ipython",
    "version": 3
   },
   "file_extension": ".py",
   "mimetype": "text/x-python",
   "name": "python",
   "nbconvert_exporter": "python",
   "pygments_lexer": "ipython3",
   "version": "3.10.9"
  },
  "papermill": {
   "default_parameters": {},
   "duration": 118.529177,
   "end_time": "2023-06-05T14:18:41.626292",
   "environment_variables": {},
   "exception": null,
   "input_path": "__notebook__.ipynb",
   "output_path": "__notebook__.ipynb",
   "parameters": {},
   "start_time": "2023-06-05T14:16:43.097115",
   "version": "2.4.0"
  }
 },
 "nbformat": 4,
 "nbformat_minor": 5
}
