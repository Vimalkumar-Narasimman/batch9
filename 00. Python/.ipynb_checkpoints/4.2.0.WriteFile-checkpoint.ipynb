{
 "cells": [
  {
   "cell_type": "markdown",
   "metadata": {},
   "source": [
    "<h1>Write and Save Files in Python</h1>"
   ]
  },
  {
   "cell_type": "markdown",
   "metadata": {},
   "source": [
    "<h2 id=\"write\">Writing Files</h2>"
   ]
  },
  {
   "cell_type": "markdown",
   "metadata": {},
   "source": [
    " We can open a file object using the method <code>write()</code> to save the text file to a list. To write the mode, argument must be set to write <b>w</b>. Let’s write a file <b>Example2.txt</b> with the line: <b>“This is line A”</b>"
   ]
  },
  {
   "cell_type": "code",
   "execution_count": 1,
   "metadata": {},
   "outputs": [],
   "source": [
    "# Write line to file\n",
    "# writefile = open('Example2.txt', 'w')\n",
    "with open('Example2.txt', 'w') as writefile:\n",
    "    writefile.write(\"This is line A\")"
   ]
  },
  {
   "cell_type": "markdown",
   "metadata": {},
   "source": [
    " We can read the file to see if it worked:"
   ]
  },
  {
   "cell_type": "code",
   "execution_count": 2,
   "metadata": {},
   "outputs": [
    {
     "name": "stdout",
     "output_type": "stream",
     "text": [
      "This is line A\n"
     ]
    }
   ],
   "source": [
    "# Read file\n",
    "\n",
    "with open('Example2.txt', 'r') as testwritefile:\n",
    "    print(testwritefile.read())"
   ]
  },
  {
   "cell_type": "markdown",
   "metadata": {},
   "source": [
    "We can write multiple lines:"
   ]
  },
  {
   "cell_type": "code",
   "execution_count": 3,
   "metadata": {},
   "outputs": [],
   "source": [
    "# Write lines to file\n",
    "\n",
    "with open('Example2.txt', 'w') as writefile:\n",
    "    writefile.write(\"This is line B\\n\")\n",
    "    writefile.write(\"This is line C\\n\")"
   ]
  },
  {
   "cell_type": "markdown",
   "metadata": {},
   "source": [
    "The method <code>.write()</code> works similar to the method <code>.readline()</code>, except instead of reading a new line it writes a new line. The process is illustrated in the figure , the different colour coding of the grid represents a new line added to the file after each method call."
   ]
  },
  {
   "cell_type": "markdown",
   "metadata": {},
   "source": [
    "<img src=\"https://s3-api.us-geo.objectstorage.softlayer.net/cf-courses-data/CognitiveClass/PY0101EN/Chapter%204/Images/WriteLine.png\" width=\"500\" />"
   ]
  },
  {
   "cell_type": "markdown",
   "metadata": {},
   "source": [
    "You can check the file to see if your results are correct "
   ]
  },
  {
   "cell_type": "code",
   "execution_count": 4,
   "metadata": {},
   "outputs": [
    {
     "name": "stdout",
     "output_type": "stream",
     "text": [
      "This is line B\n",
      "This is line C\n",
      "\n"
     ]
    }
   ],
   "source": [
    "# Check whether write to file\n",
    "\n",
    "with open('Example2.txt', 'r') as testwritefile:\n",
    "    print(testwritefile.read())"
   ]
  },
  {
   "cell_type": "markdown",
   "metadata": {},
   "source": [
    " By setting the mode argument to append **a**  you can append a new line as follows:"
   ]
  },
  {
   "cell_type": "code",
   "execution_count": 5,
   "metadata": {},
   "outputs": [],
   "source": [
    "# Write a new line to text file\n",
    "\n",
    "with open('Example2.txt', 'a') as testwritefile:\n",
    "    testwritefile.write(\"This is line D\\n\")"
   ]
  },
  {
   "cell_type": "markdown",
   "metadata": {},
   "source": [
    " You can verify the file has changed by running the following cell:"
   ]
  },
  {
   "cell_type": "code",
   "execution_count": 6,
   "metadata": {},
   "outputs": [
    {
     "name": "stdout",
     "output_type": "stream",
     "text": [
      "This is line B\n",
      "This is line C\n",
      "This is line D\n",
      "\n"
     ]
    }
   ],
   "source": [
    "# Verify if the new line is in the text file\n",
    "\n",
    "with open('Example2.txt', 'r') as testwritefile:\n",
    "    print(testwritefile.read())"
   ]
  },
  {
   "cell_type": "markdown",
   "metadata": {},
   "source": [
    " We write a list to a <b>.txt</b> file  as follows:"
   ]
  },
  {
   "cell_type": "code",
   "execution_count": 7,
   "metadata": {},
   "outputs": [
    {
     "data": {
      "text/plain": [
       "['This is line A\\n', 'This is line B\\n', 'This is line C\\n']"
      ]
     },
     "execution_count": 7,
     "metadata": {},
     "output_type": "execute_result"
    }
   ],
   "source": [
    "# Sample list of text\n",
    "\n",
    "Lines = [\"This is line A\\n\", \"This is line B\\n\", \"This is line C\\n\"]\n",
    "Lines"
   ]
  },
  {
   "cell_type": "code",
   "execution_count": 8,
   "metadata": {},
   "outputs": [
    {
     "name": "stdout",
     "output_type": "stream",
     "text": [
      "This is line A\n",
      "\n",
      "This is line B\n",
      "\n",
      "This is line C\n",
      "\n"
     ]
    }
   ],
   "source": [
    "# Write the strings in the list to text file\n",
    "\n",
    "with open('Example2.txt', 'w') as writefile:\n",
    "    for line in Lines:\n",
    "        print(line)\n",
    "        writefile.write(line)"
   ]
  },
  {
   "cell_type": "markdown",
   "metadata": {},
   "source": [
    " We can verify the file is written by reading it and printing out the values:  "
   ]
  },
  {
   "cell_type": "code",
   "execution_count": 9,
   "metadata": {},
   "outputs": [
    {
     "name": "stdout",
     "output_type": "stream",
     "text": [
      "This is line A\n",
      "This is line B\n",
      "This is line C\n",
      "\n"
     ]
    }
   ],
   "source": [
    "# Verify if writing to file is successfully executed\n",
    "\n",
    "with open('Example2.txt', 'r') as testwritefile:\n",
    "    print(testwritefile.read())"
   ]
  },
  {
   "cell_type": "markdown",
   "metadata": {},
   "source": [
    "We can again append to the file by changing the second parameter to <b>a</b>. This adds the code:"
   ]
  },
  {
   "cell_type": "code",
   "execution_count": 10,
   "metadata": {},
   "outputs": [],
   "source": [
    "# Append the line to the file\n",
    "\n",
    "with open('Example2.txt', 'a') as testwritefile:\n",
    "    testwritefile.write(\"This is line D\\n\")"
   ]
  },
  {
   "cell_type": "markdown",
   "metadata": {},
   "source": [
    "We can see the results of appending the file: "
   ]
  },
  {
   "cell_type": "code",
   "execution_count": 11,
   "metadata": {},
   "outputs": [
    {
     "name": "stdout",
     "output_type": "stream",
     "text": [
      "This is line A\n",
      "This is line B\n",
      "This is line C\n",
      "This is line D\n",
      "\n"
     ]
    }
   ],
   "source": [
    "# Verify if the appending is successfully executed\n",
    "\n",
    "with open('Example2.txt', 'r') as testwritefile:\n",
    "    print(testwritefile.read())"
   ]
  },
  {
   "cell_type": "code",
   "execution_count": 12,
   "metadata": {},
   "outputs": [
    {
     "name": "stdout",
     "output_type": "stream",
     "text": [
      "Enter a statement: This is input string\n"
     ]
    }
   ],
   "source": [
    "# get a input and Append the line to the file\n",
    "info = input('Enter a statement: ')\n",
    "with open('Example2.txt', 'a') as testwritefile:\n",
    "    testwritefile.write(f\"{info}\\n\")"
   ]
  },
  {
   "cell_type": "code",
   "execution_count": 13,
   "metadata": {},
   "outputs": [
    {
     "name": "stdout",
     "output_type": "stream",
     "text": [
      "This is line A\n",
      "This is line B\n",
      "This is line C\n",
      "This is line D\n",
      "This is input string\n",
      "\n"
     ]
    }
   ],
   "source": [
    "# Verify if the appending is successfully executed\n",
    "\n",
    "with open('Example2.txt', 'r') as testwritefile:\n",
    "    print(testwritefile.read())"
   ]
  },
  {
   "cell_type": "markdown",
   "metadata": {},
   "source": [
    "<hr>"
   ]
  },
  {
   "cell_type": "markdown",
   "metadata": {},
   "source": [
    "<h2 id=\"copy\">Copy a File</h2> "
   ]
  },
  {
   "cell_type": "markdown",
   "metadata": {},
   "source": [
    "Let's copy the file <b>Example2.txt</b> to the file <b>Example3.txt</b>:"
   ]
  },
  {
   "cell_type": "code",
   "execution_count": 14,
   "metadata": {},
   "outputs": [],
   "source": [
    "# Copy file to another\n",
    "\n",
    "with open('Example2.txt','r') as readfile:    \n",
    "    with open('Files/Example3.txt','w') as writefile:\n",
    "          for line in readfile:\n",
    "                writefile.write(line)\n",
    "    "
   ]
  },
  {
   "cell_type": "markdown",
   "metadata": {},
   "source": [
    "We can read the file to see if everything works:"
   ]
  },
  {
   "cell_type": "code",
   "execution_count": 15,
   "metadata": {},
   "outputs": [
    {
     "name": "stdout",
     "output_type": "stream",
     "text": [
      "This is line A\n",
      "This is line B\n",
      "This is line C\n",
      "This is line D\n",
      "This is input string\n",
      "\n"
     ]
    }
   ],
   "source": [
    "# Verify if the copy is successfully executed\n",
    "\n",
    "with open('Files/Example3.txt','r') as testwritefile:\n",
    "    print(testwritefile.read())"
   ]
  },
  {
   "cell_type": "markdown",
   "metadata": {},
   "source": [
    " After reading files, we can also write data into files and save them in different file formats like **.txt, .csv, .xls (for excel files) etc**. Let's take a look at some examples."
   ]
  },
  {
   "cell_type": "markdown",
   "metadata": {},
   "source": [
    "Now go to the directory to ensure the <b>.txt</b> file exists and contains the summary data that we wrote."
   ]
  },
  {
   "cell_type": "code",
   "execution_count": 27,
   "metadata": {},
   "outputs": [
    {
     "name": "stdout",
     "output_type": "stream",
     "text": [
      "Today is 2023-09-27 and next 30th day is 2023-10-27\n",
      "\n"
     ]
    }
   ],
   "source": [
    "from datetime import date,timedelta \n",
    "today = date.today() #date(2023, 9, 1)\n",
    "next30days = today + timedelta(days = 30)\n",
    "\n",
    "with open('Files/mydata.txt', 'w') as mydata:\n",
    "    mydata.write(f'Today is {today} and next 30th day is {next30days}\\n')\n",
    "    \n",
    "with open('Files/mydata.txt', 'r') as mydata:\n",
    "    print(mydata.read())"
   ]
  },
  {
   "cell_type": "code",
   "execution_count": 29,
   "metadata": {},
   "outputs": [
    {
     "data": {
      "text/plain": [
       "['2023-09-27', '2023-10-27']"
      ]
     },
     "execution_count": 29,
     "metadata": {},
     "output_type": "execute_result"
    }
   ],
   "source": [
    "import re\n",
    "with open('Files/mydata.txt', 'r') as mydata:\n",
    "    text = mydata.read()\n",
    "    \n",
    "re.findall('[0-9]{4}-[0-9]{2}-[0-9]{2}', text)    \n"
   ]
  },
  {
   "cell_type": "code",
   "execution_count": 32,
   "metadata": {},
   "outputs": [
    {
     "name": "stdout",
     "output_type": "stream",
     "text": [
      "2023-09-27\n"
     ]
    }
   ],
   "source": [
    "\n",
    "with open('Files/mydata.txt', 'r') as mydata:\n",
    "    text1 = mydata.read(9)\n",
    "    text2 = mydata.read(10)\n",
    "print(text2)\n"
   ]
  },
  {
   "cell_type": "markdown",
   "metadata": {},
   "source": [
    "<hr>"
   ]
  }
 ],
 "metadata": {
  "kernelspec": {
   "display_name": "Python 3 (ipykernel)",
   "language": "python",
   "name": "python3"
  },
  "language_info": {
   "codemirror_mode": {
    "name": "ipython",
    "version": 3
   },
   "file_extension": ".py",
   "mimetype": "text/x-python",
   "name": "python",
   "nbconvert_exporter": "python",
   "pygments_lexer": "ipython3",
   "version": "3.10.9"
  }
 },
 "nbformat": 4,
 "nbformat_minor": 2
}
