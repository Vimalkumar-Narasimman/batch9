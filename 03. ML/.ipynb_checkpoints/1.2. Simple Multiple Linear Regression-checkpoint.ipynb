{
 "cells": [
  {
   "cell_type": "markdown",
   "metadata": {
    "_cell_guid": "b1076dfc-b9ad-4769-8c92-a6c4dae69d19",
    "_uuid": "8f2839f25d086af736a60e9eeb907d3b93b6e0e5"
   },
   "source": [
    "# Simple Linear Regression (y= β0+ β1x1+Ɛ)"
   ]
  },
  {
   "cell_type": "markdown",
   "metadata": {
    "_cell_guid": "79c7e3d0-c299-4dcb-8224-4455121ee9b0",
    "_uuid": "d629ff2d2480ee46fbb7e2d37f6b5fab8052498a",
    "collapsed": true
   },
   "source": [
    "## Importing"
   ]
  },
  {
   "cell_type": "code",
   "execution_count": null,
   "metadata": {
    "_uuid": "ff825fcb312bb51389080759247248b89378aacd"
   },
   "outputs": [],
   "source": [
    "import numpy as np\n",
    "import pandas as pd\n",
    "import matplotlib.pyplot as plt\n",
    "import statsmodels.api as sm\n",
    "import seaborn as sns\n",
    "sns.set()"
   ]
  },
  {
   "cell_type": "markdown",
   "metadata": {
    "_uuid": "80ea83e3d9445e3f7bcd69568fb8d5d19dda31d7"
   },
   "source": [
    "### **Load Data**"
   ]
  },
  {
   "cell_type": "code",
   "execution_count": null,
   "metadata": {
    "_uuid": "2d9594d3c0e46c7d97310fde721d29f86f6a2748",
    "scrolled": true
   },
   "outputs": [],
   "source": [
    "data=pd.read_csv('Data/Simple linear regression.csv')\n",
    "data.head()"
   ]
  },
  {
   "cell_type": "markdown",
   "metadata": {
    "_uuid": "e31eb17c8998e44a68436d43c6e591b3e39530bc"
   },
   "source": [
    "**Why would i predict GPA with SAT** ? \n",
    "* The SAT is considered one of the best estimators of intellectual capacity and capability\n",
    "*  Almost all collage (ex: USA) are using the SAT as a proxy for admission\n",
    "* The SAT stood the test of time\n",
    "\n",
    "**SAT** = Critical reading + Mathematics + Writing <br>\n",
    "**GPA** = Grade Point Average\n",
    "\n",
    "Creating a linear regression which predicts GPA based on the SAT score"
   ]
  },
  {
   "cell_type": "code",
   "execution_count": null,
   "metadata": {
    "_uuid": "eb1e2f50330cc25b41245afc3c13256057e81508"
   },
   "outputs": [],
   "source": [
    "data.describe()"
   ]
  },
  {
   "cell_type": "markdown",
   "metadata": {
    "_uuid": "61891ab06dacf51b2b62b45784fc79f80fc71bb5"
   },
   "source": [
    "## **Create first regression**"
   ]
  },
  {
   "cell_type": "markdown",
   "metadata": {
    "_uuid": "919f87a0a78a7c199e2ee1833af1cdbcef9e0113"
   },
   "source": [
    "### **Define dependent and the independent variables**"
   ]
  },
  {
   "cell_type": "code",
   "execution_count": null,
   "metadata": {
    "_uuid": "0cfe964b0539d5a60dfcce191ec14a127d0f3c3b"
   },
   "outputs": [],
   "source": [
    "y=data['GPA']\n",
    "x=data['SAT']"
   ]
  },
  {
   "cell_type": "markdown",
   "metadata": {
    "_uuid": "e6910f805e05a360196e5d9cb10b0dc9c23ae9c3"
   },
   "source": [
    "### Explore The Data"
   ]
  },
  {
   "cell_type": "code",
   "execution_count": null,
   "metadata": {
    "_uuid": "04d37ef20d2f54936b1257d73432d96abdbcadcd"
   },
   "outputs": [],
   "source": [
    "plt.scatter(x,y)\n",
    "plt.xlabel('SAT')\n",
    "plt.ylabel('GPA')"
   ]
  },
  {
   "cell_type": "markdown",
   "metadata": {
    "_uuid": "9063e3eda3ef03527896da55693519f02f0da2be"
   },
   "source": [
    " ## Regression itself"
   ]
  },
  {
   "cell_type": "code",
   "execution_count": null,
   "metadata": {
    "_uuid": "9d710cbbe83d301ad51a51d344f8fde615c94f34"
   },
   "outputs": [],
   "source": [
    "# y=b0+b1x1\n",
    "\n",
    "x1=sm.add_constant(x)\n",
    "\n",
    "results=sm.OLS(y,x1).fit()\n",
    "#Contain Ordinary Least Square Regression \n",
    "results.summary()"
   ]
  },
  {
   "cell_type": "markdown",
   "metadata": {
    "_uuid": "c4be12e61901c29e2863dbc250383b99169903ce"
   },
   "source": [
    "### **How to read the OLS Regression Above**\n",
    "\n",
    "Stat Models has 3 main tables :\n",
    "* A Model Summary\n",
    "* Coefficients table\n",
    "* Some Adittional Test\n",
    "\n",
    "**Coefficient Table** <br>\n",
    "0.2750 means b0 <br>\n",
    "0.0017 means b1\n",
    "\n",
    "yHat=b0+b1x1 <br>\n",
    "yHat = 0.2750+0.0017*x1 <br>\n",
    "GPA = 0.2750+0.0017*SAT <br>\n",
    "**std err ** shows the accuracy of prediction for each variable (Lower means better) <br>\n",
    "SAT score is a significant variable when predicting GPA because SAT has 0.000 in **P> | t |**\n",
    "\n",
    "**A Model Summary**\n",
    "* Dep. Variable means variable that we want to predict , which is **GPA** \n",
    "* Model : OLS (Ordinary Least Square) , OLS is the common method to estimate the linear regression , **this method will find the line which minimises the Sum of the Squared Error** ( Lower Error = better explanatory power ) \n",
    "\n",
    "There is other method like : \n",
    "* Generalized least squares\n",
    "* Maximum likelihood estimation\n",
    "* Bayesian Regression\n",
    "* Gaussian process regression\n",
    "\n",
    "In this tutorial im using OLS because it quite simple and powerful enough \n",
    "\n",
    "**R-Squared** is measured how powerful the regression \n",
    "* R-Squared = Variability explained by the regression / Total variability of the dataset\n",
    "* R-Squared using values ranging from 0 to 1 , if R-Squared = 0 means your regression explains NONE of the variability , if 1 means regression explains the ENTIRE variability\n",
    "\n",
    "Example : Our R-Squared has 0.406 , in other words SAT scores explained 41% of variability of college grades , but since it is far away from 90% we may conclude that we are missing some important information . Other determinants must be consider such as gender,income or maybe marital status.\n",
    "\n",
    "**Conclusion :** R- Squared measure goodness of fit , the more factore you include in regression the higher the R Squared \n",
    "\n",
    "**F-statistic :**  is important for regression as it give us some important insights (Higher mean Better), **the lower the F-Statistic the closer to an non-significant model** . You can use this tool to compare with other models . \n",
    "\n",
    "\n",
    "\n",
    "\n",
    "\n",
    "\n",
    "\n"
   ]
  },
  {
   "cell_type": "markdown",
   "metadata": {
    "_uuid": "d6c68499850ec9d556b2ac1cac8d102cf235e8f1"
   },
   "source": [
    "**Plotting the Simple Regression Line**"
   ]
  },
  {
   "cell_type": "code",
   "execution_count": null,
   "metadata": {
    "_uuid": "38bd2234d3a824b6b727ed914121d9127f525f73"
   },
   "outputs": [],
   "source": [
    "plt.scatter(x,y)\n",
    "yhat=0.2750+0.0017*x1 #yHat=0.275+0.0017x1 Regression Line\n",
    "fig=plt.plot(x,yhat, lw=4,c='orange',label='Regression Line')\n",
    "plt.xlabel('SAT',fontsize='20')\n",
    "plt.ylabel('GPA',fontsize='20')\n",
    "plt.show()"
   ]
  },
  {
   "cell_type": "markdown",
   "metadata": {
    "_uuid": "61b1bf14236278a722df4efe5aed79be51334432"
   },
   "source": [
    "# **Mutiple Linear Regression (y= β0+ β1x1+β2x2+...+βkxk + Ɛ)** "
   ]
  },
  {
   "cell_type": "markdown",
   "metadata": {
    "_uuid": "57b86dde4cc989936dd52c1f9e50bab6bf7824e1"
   },
   "source": [
    "Because GPA cannot be predicted solely by student as a score , but also by their HighSchool GPA , Income , Gender etc .  **If we want a good models , we need Multiple Regression , in order to address the higher complexity of problems**\n",
    "\n",
    "I will use the Attendance variable for mutiple regression <br>\n",
    "Note : If attendance is more than 75% is 1 , and if below 75% is 0\n"
   ]
  },
  {
   "cell_type": "markdown",
   "metadata": {
    "_uuid": "370d29e78012a96bf0911bf7a518e545fea680d5"
   },
   "source": [
    "## **Load Data**"
   ]
  },
  {
   "cell_type": "code",
   "execution_count": null,
   "metadata": {
    "_uuid": "97cbfdda4f954d5193ac359bbdba7606ec057c02",
    "scrolled": true
   },
   "outputs": [],
   "source": [
    "raw_data=pd.read_csv('Data/Multi linear regression.csv')\n",
    "raw_data.head()"
   ]
  },
  {
   "cell_type": "code",
   "execution_count": null,
   "metadata": {
    "_uuid": "5190d6b1c2a2d331beb9edd9e9a31cb6b366c2fb"
   },
   "outputs": [],
   "source": [
    "data=raw_data.copy()"
   ]
  },
  {
   "cell_type": "code",
   "execution_count": null,
   "metadata": {
    "_uuid": "f86e149a7eac79a14b8267c12697efe816583265",
    "scrolled": true
   },
   "outputs": [],
   "source": [
    "#Change Yes=1 , and No = 0\n",
    "data['Attendance']=data['Attendance'].map({'Yes':1,'No':0})\n",
    "data.head()"
   ]
  },
  {
   "cell_type": "code",
   "execution_count": null,
   "metadata": {
    "_uuid": "e5c18b10e1d79b98688cf4c1ae521fb6440617df"
   },
   "outputs": [],
   "source": [
    "data.describe()"
   ]
  },
  {
   "cell_type": "markdown",
   "metadata": {
    "_uuid": "0c7d5ac1f27286bacc7edc5376183f8022af41c8"
   },
   "source": [
    "## **Mutiple Regression**"
   ]
  },
  {
   "cell_type": "code",
   "execution_count": null,
   "metadata": {
    "_uuid": "9d211052ebcdd3d112f72bcb48ae2ac01f3e0024"
   },
   "outputs": [],
   "source": [
    "y=data['GPA']\n",
    "x=data[['SAT','Attendance']]"
   ]
  },
  {
   "cell_type": "code",
   "execution_count": null,
   "metadata": {
    "_uuid": "df6e16c52b6309bad996c256ed20b115d9a76c34"
   },
   "outputs": [],
   "source": [
    "x1=sm.add_constant(x)\n",
    "results=sm.OLS(y,x1).fit()\n",
    "results.summary()"
   ]
  },
  {
   "cell_type": "markdown",
   "metadata": {
    "_uuid": "4cab1801013ee9ce567323f23d43a7211af0a017"
   },
   "source": [
    "GPA = 0.6439+0.0014*SAT + 0.2226*Attendance <br>\n",
    "\n",
    "If did not attend (Attendance = 0) <br>\n",
    "GPA=0.6439+0.0014*SAT+0.2226*0<br>\n",
    "GPA=0.6439+0.0014*SAT\n",
    "\n",
    "If Attends (Attendance = 1) <br>\n",
    "GPA=0.6439+0.0014*SAT+0.2226*1<br>\n",
    "GPA=0.8665+0.0014*SAT\n",
    "\n"
   ]
  },
  {
   "cell_type": "markdown",
   "metadata": {
    "_uuid": "5aa479329f97d043d6a16c5b1e1c3427a625004f"
   },
   "source": [
    "#### **Look at the R-Squared , Adj.R-Squared , and try to compare from the Simple Linear Regression , it explain that the Attendance variable can be such powerful variable for Mutiple Regression**"
   ]
  },
  {
   "cell_type": "markdown",
   "metadata": {
    "_uuid": "13e9accc1b940e474b0474c396ff2f919160556c"
   },
   "source": [
    "### Plotting The Data"
   ]
  },
  {
   "cell_type": "code",
   "execution_count": null,
   "metadata": {
    "_uuid": "1fadef551c25ef3fd497e4c30750a1870f8e3965"
   },
   "outputs": [],
   "source": [
    "plt.scatter(data['SAT'],y,c=data['Attendance'],cmap='RdYlGn_r')\n",
    "yHat_no=0.6439+0.0014*data['SAT']\n",
    "yHat_yes=0.8665+0.0014*data['SAT']\n",
    "fig=plt.plot(data['SAT'],yHat_no,lw=2,c='#006837')\n",
    "fig=plt.plot(data['SAT'],yHat_yes,lw=2,c='#a50026')\n",
    "\n",
    "plt.xlabel('SAT',fontsize=20)\n",
    "plt.ylabel('GPA',fontsize=20)\n",
    "plt.show()"
   ]
  },
  {
   "cell_type": "markdown",
   "metadata": {
    "_uuid": "a796967a373d3aa20df09b5073e3eef33d3eae93"
   },
   "source": [
    "**The Red one is the one who attandance , and vice versa**"
   ]
  },
  {
   "cell_type": "markdown",
   "metadata": {
    "_uuid": "79b4f9faae38da07f9d1beb0a713959262fa03a3"
   },
   "source": [
    "## **Make Predictions based on the regression we already create**"
   ]
  },
  {
   "cell_type": "code",
   "execution_count": null,
   "metadata": {
    "_uuid": "36139893ee74669c3c0dd79be25b5a73760d153b",
    "scrolled": true
   },
   "outputs": [],
   "source": [
    "x1\n",
    "# Const actually added with the add_constant() method we use prior to fitting the model , it is simulation of x0"
   ]
  },
  {
   "cell_type": "markdown",
   "metadata": {
    "_uuid": "ed7c9110328a058a5737b8f2433a0d502b1662dd"
   },
   "source": [
    "We create new data that predict 2 students :\n",
    "* Bob , who got 1700 on SAT and did **NOT attend**\n",
    "* Alice , who got 1670 on SAT and **attended**"
   ]
  },
  {
   "cell_type": "code",
   "execution_count": null,
   "metadata": {
    "_uuid": "966af8f90ddeb950803b6ac320f4c6bd7090e1d3"
   },
   "outputs": [],
   "source": [
    "new_data=pd.DataFrame({'const':1,'SAT':[1700,1670],'Attendance':[0,1]})\n",
    "new_data=new_data[['const','SAT','Attendance']]\n",
    "new_data"
   ]
  },
  {
   "cell_type": "code",
   "execution_count": null,
   "metadata": {
    "_uuid": "92093ae2dbe5f1506cbfb58cfeef7f943843e813"
   },
   "outputs": [],
   "source": [
    "#Rename the index 0:Bob and 1:Alice\n",
    "new_data.rename(index={0:'Bob',1:'Alice'})"
   ]
  },
  {
   "cell_type": "code",
   "execution_count": null,
   "metadata": {
    "_uuid": "c58485abe89713132335d0edb26136ab9289fc9a"
   },
   "outputs": [],
   "source": [
    "#The appropriate method that allow us to predict the values is the fitted regression dot predict\n",
    "#The fitted regressions for us is variable results , results= sm.OLS(y,x).fit()\n",
    "predictions = results.predict(new_data)\n",
    "predictions"
   ]
  },
  {
   "cell_type": "code",
   "execution_count": null,
   "metadata": {
    "_uuid": "d8240932309301b72f5ca8b0403a018283ac54d8"
   },
   "outputs": [],
   "source": [
    "#I will transform into a data frame and join it with the first one\n",
    "predictionsDataFrame=pd.DataFrame({'Predictions':predictions})\n",
    "joined=new_data.join(predictionsDataFrame)\n",
    "joined.rename(index={0:'Bob',1:'Alice'})"
   ]
  },
  {
   "cell_type": "markdown",
   "metadata": {
    "_uuid": "baf17c26a3ebe67241707d8cb02a80b36981331e"
   },
   "source": [
    "We can see that , the predicted GPA at graduation for Bob is 3.02 , and for Alice is 3.20 "
   ]
  }
 ],
 "metadata": {
  "kernelspec": {
   "display_name": "Python 3 (ipykernel)",
   "language": "python",
   "name": "python3"
  },
  "language_info": {
   "codemirror_mode": {
    "name": "ipython",
    "version": 3
   },
   "file_extension": ".py",
   "mimetype": "text/x-python",
   "name": "python",
   "nbconvert_exporter": "python",
   "pygments_lexer": "ipython3",
   "version": "3.10.9"
  }
 },
 "nbformat": 4,
 "nbformat_minor": 1
}
