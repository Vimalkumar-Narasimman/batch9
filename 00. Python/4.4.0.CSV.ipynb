{
 "cells": [
  {
   "cell_type": "markdown",
   "id": "128c4f4e",
   "metadata": {},
   "source": [
    "## Working with CSV "
   ]
  },
  {
   "cell_type": "markdown",
   "id": "16c64c89",
   "metadata": {},
   "source": [
    "### What is a CSV? \n",
    "#### CSV (Comma Separated Values) is a simple file format used to store tabular data, such as a spreadsheet or database. \n",
    "#### A CSV file stores tabular data (numbers and text) in plain text. \n",
    "#### Each line of the file is a data record. \n",
    "#### Each record consists of one or more fields, separated by commas.\n",
    "#### The use of the comma as a field separator is the source of the name for this file format.\n",
    "#### For working CSV files in Python, there is an inbuilt module called csv."
   ]
  },
  {
   "cell_type": "code",
   "execution_count": 3,
   "id": "5651413f",
   "metadata": {},
   "outputs": [
    {
     "name": "stdout",
     "output_type": "stream",
     "text": [
      "Total no. of rows: 11\n",
      "Field names are: ['Education', 'JoiningYear', 'City', 'PaymentTier', 'Age', 'Gender', 'EverBenched', 'ExperienceInCurrentDomain', 'LeaveOrNot']\n",
      "Bachelors, 2017, Bangalore, 3, 34, Male, No, 0, 0\n",
      "Bachelors, 2013, Pune, 1, 28, Female, No, 3, 1\n",
      "Bachelors, 2014, New Delhi, 3, 38, Female, No, 2, 0\n",
      "Masters, 2016, Bangalore, 3, 27, Male, No, 5, 1\n",
      "Masters, 2017, Pune, 3, 24, Male, Yes, 2, 1\n"
     ]
    }
   ],
   "source": [
    "# importing csv module\n",
    "import csv\n",
    "\n",
    "# csv file name\n",
    "filename = \"Files/emp.csv\"\n",
    "\n",
    "# initializing the titles and rows list\n",
    "fields = []\n",
    "rows = []\n",
    "\n",
    "# reading csv file\n",
    "with open(filename, 'r') as csvfile:\n",
    "    # creating a csv reader object\n",
    "    csvreader = csv.reader(csvfile)\n",
    "\n",
    "    # extracting field names through first row\n",
    "    fields = next(csvreader)\n",
    "\n",
    "    # extracting each data row one by one\n",
    "    for row in csvreader:\n",
    "        rows.append(row)\n",
    "\n",
    "    # get total number of rows\n",
    "    print(\"Total no. of rows: %d\"%(csvreader.line_num))\n",
    "\n",
    "# printing the field names\n",
    "print('Field names are:' + ', '.join(field for field in fields))\n",
    "\n",
    "for row in rows[:5]:\n",
    "    print( ', '.join(val for val in row))"
   ]
  },
  {
   "cell_type": "markdown",
   "id": "7b394bba",
   "metadata": {},
   "source": [
    "#### Let us try to understand this piece of code"
   ]
  },
  {
   "cell_type": "code",
   "execution_count": null,
   "id": "6dc12cdc",
   "metadata": {},
   "outputs": [],
   "source": [
    "filename = \"../Data/std.csv\"\n",
    "with open(filename, 'r') as csvfile:\n",
    "    csvreader = csv.reader(csvfile)\n"
   ]
  },
  {
   "cell_type": "markdown",
   "id": "03df310b",
   "metadata": {},
   "source": [
    "Here, we first open the CSV file in READ mode. The file object is named as csvfile. The file object is converted to csv.reader object. We save the csv.reader object as csvreader."
   ]
  },
  {
   "cell_type": "code",
   "execution_count": null,
   "id": "a92babab",
   "metadata": {},
   "outputs": [],
   "source": [
    "with open(filename, 'r') as csvfile:\n",
    "    csvreader = csv.reader(csvfile)\n",
    "    fields = next(csvreader)\n",
    "fields"
   ]
  },
  {
   "cell_type": "markdown",
   "id": "1a6fe046",
   "metadata": {},
   "source": [
    "csvreader is an iterable object. Hence, .next() method returns the current row and advances the iterator to the next row. Since the first row of our csv file contains the headers (or field names), we save them in a list called fields."
   ]
  },
  {
   "cell_type": "code",
   "execution_count": 4,
   "id": "5d3b88e1",
   "metadata": {},
   "outputs": [
    {
     "name": "stdout",
     "output_type": "stream",
     "text": [
      "[['Education', 'JoiningYear', 'City', 'PaymentTier', 'Age', 'Gender', 'EverBenched', 'ExperienceInCurrentDomain', 'LeaveOrNot'], ['Bachelors', '2017', 'Bangalore', '3', '34', 'Male', 'No', '0', '0'], ['Bachelors', '2013', 'Pune', '1', '28', 'Female', 'No', '3', '1'], ['Bachelors', '2014', 'New Delhi', '3', '38', 'Female', 'No', '2', '0'], ['Masters', '2016', 'Bangalore', '3', '27', 'Male', 'No', '5', '1']]\n"
     ]
    }
   ],
   "source": [
    "rows = []\n",
    "with open(filename, 'r') as csvfile:\n",
    "    csvreader = csv.reader(csvfile)\n",
    "    for row in csvreader:\n",
    "        rows.append(row)\n",
    "print(rows[:5])"
   ]
  },
  {
   "cell_type": "markdown",
   "id": "3305b107",
   "metadata": {},
   "source": [
    "Now, we iterate through the remaining rows using a for loop. Each row is appended to a list called rows. If you try to print each row, one can find that a row is nothing but a list containing all the field values."
   ]
  },
  {
   "cell_type": "code",
   "execution_count": null,
   "id": "2ed66cf0",
   "metadata": {},
   "outputs": [],
   "source": [
    "rows = []\n",
    "with open(filename, 'r') as csvfile:\n",
    "    csvreader = csv.reader(csvfile)\n",
    "    for row in csvreader:\n",
    "        rows.append(row)\n",
    "    print(\"Total no. of rows: %d\"%(csvreader.line_num))"
   ]
  },
  {
   "cell_type": "markdown",
   "id": "ce4086da",
   "metadata": {},
   "source": [
    "csvreader.line_num is nothing but a counter which returns the number of rows that have been iterated."
   ]
  },
  {
   "cell_type": "markdown",
   "id": "ece60046",
   "metadata": {},
   "source": [
    "### Writing to a CSV file"
   ]
  },
  {
   "cell_type": "code",
   "execution_count": 5,
   "id": "97301351",
   "metadata": {},
   "outputs": [],
   "source": [
    "# importing the csv module\n",
    "import csv\n",
    "\n",
    "# field names\n",
    "fields = ['Name', 'Branch', 'Year', 'CGPA']\n",
    "\n",
    "# data rows of csv file\n",
    "rows = [['Nikhil', 'COE', '2', '9.0'],\n",
    "        ['Sanchit', 'COE', '2', '9.1'],\n",
    "        ['Aditya', 'IT', '2', '9.3'],\n",
    "        ['Sagar', 'SE', '1', '9.5'],\n",
    "        ['Prateek', 'MCE', '3', '7.8'],\n",
    "        ['Sahil', 'EP', '2', '9.1']]\n",
    "\n",
    "# name of csv file\n",
    "filename = \"Files/university_records.csv\"\n",
    "\n",
    "# writing to csv file\n",
    "with open(filename, 'w') as csvfile:\n",
    "\t# creating a csv writer object\n",
    "\tcsvwriter = csv.writer(csvfile)\n",
    "\t\n",
    "\t# writing the fields\n",
    "\tcsvwriter.writerow(fields)\n",
    "\t\n",
    "\t# writing the data rows\n",
    "\tcsvwriter.writerows(rows)\n"
   ]
  },
  {
   "cell_type": "markdown",
   "id": "228f25ec",
   "metadata": {},
   "source": [
    "##### fields and rows have been already defined. fields is a list containing all the field names. rows is a list of lists. Each row is a list containing the field values of that row.\n",
    "\n",
    "    with open(filename, 'w') as csvfile:\n",
    "        csvwriter = csv.writer(csvfile)\n",
    "    \n",
    "##### Here, we first open the CSV file in WRITE mode. The file object is named as csvfile. The file object is converted to csv.writer object. We save the csv.writer object as csvwriter.\n",
    "\n",
    "    csvwriter.writerow(fields)\n",
    "\n",
    "##### Now we use writerow method to write the first row which is nothing but the field names. \n",
    "\n",
    "     csvwriter.writerows(rows)\n",
    "\n",
    "##### We use writerows method to write multiple rows at once."
   ]
  },
  {
   "cell_type": "markdown",
   "id": "8818c7ed",
   "metadata": {},
   "source": [
    "### Writing a dictionary to a CSV file"
   ]
  },
  {
   "cell_type": "code",
   "execution_count": 8,
   "id": "6efe4ce4",
   "metadata": {},
   "outputs": [],
   "source": [
    "# importing the csv module\n",
    "import csv\n",
    "\n",
    "# my data rows as dictionary objects\n",
    "mydict =[{'branch': 'COE', 'cgpa': '9.0',\n",
    "\t\t'name': 'Nikhil', 'year': '2'},\n",
    "\t\t{'branch': 'COE', 'cgpa': '9.1',\n",
    "\t\t'name': 'Sanchit', 'year': '2'},\n",
    "\t\t{'branch': 'IT', 'cgpa': '9.3',\n",
    "\t\t'name': 'Aditya', 'year': '2'},\n",
    "\t\t{'branch': 'SE', 'cgpa': '9.5',\n",
    "\t\t'name': 'Sagar', 'year': '1'},\n",
    "\t\t{'branch': 'MCE', 'cgpa': ['7.8', '7.9'],\n",
    "\t\t'name': 'Prateek', 'year': '3'},\n",
    "\t\t{'branch': 'EP', 'cgpa': '9.1',\n",
    "\t\t'name': 'Sahil', 'year': '2'}]\n",
    "\n",
    "# field names\n",
    "fields = [ 'name', 'branch', 'year', 'cgpa']\n",
    "\n",
    "# name of csv file\n",
    "filename = \"Files/university_records_dict.csv\"\n",
    "\n",
    "# writing to csv file\n",
    "with open(filename, 'w') as csvfile:\n",
    "\t# creating a csv dict writer object\n",
    "\twriter = csv.DictWriter(csvfile, fieldnames = fields)\n",
    "\t\n",
    "\t# writing headers (field names)\n",
    "\twriter.writeheader()\n",
    "\t\n",
    "\t# writing data rows\n",
    "\twriter.writerows(mydict)\n"
   ]
  },
  {
   "cell_type": "markdown",
   "id": "bc7146ec",
   "metadata": {},
   "source": [
    "##### we write a dictionary mydict to a CSV file.  \n",
    "\n",
    "    with open(filename, 'w') as csvfile:\n",
    "        writer = csv.DictWriter(csvfile, fieldnames = fields)\n",
    "\n",
    "##### Here, the file object (csvfile) is converted to a DictWriter object. Here, we specify the fieldnames as an argument. \n",
    "\n",
    "     writer.writeheader()\n",
    "     \n",
    "##### writeheader method simply writes the first row of your csv file using the pre-specified fieldnames.\n",
    "\n",
    "    writer.writerows(mydict)\n",
    "\n",
    "##### writerows method simply writes all the rows but in each row, it writes only the values(not keys)."
   ]
  },
  {
   "cell_type": "code",
   "execution_count": null,
   "id": "1df003a6",
   "metadata": {},
   "outputs": [],
   "source": []
  }
 ],
 "metadata": {
  "kernelspec": {
   "display_name": "Python 3 (ipykernel)",
   "language": "python",
   "name": "python3"
  },
  "language_info": {
   "codemirror_mode": {
    "name": "ipython",
    "version": 3
   },
   "file_extension": ".py",
   "mimetype": "text/x-python",
   "name": "python",
   "nbconvert_exporter": "python",
   "pygments_lexer": "ipython3",
   "version": "3.10.9"
  }
 },
 "nbformat": 4,
 "nbformat_minor": 5
}
