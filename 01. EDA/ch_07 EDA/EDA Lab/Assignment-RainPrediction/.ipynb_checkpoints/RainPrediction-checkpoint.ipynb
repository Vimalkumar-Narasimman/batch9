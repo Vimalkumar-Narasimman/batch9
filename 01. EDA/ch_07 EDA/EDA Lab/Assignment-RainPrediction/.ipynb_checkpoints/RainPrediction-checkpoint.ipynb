{
 "cells": [
  {
   "cell_type": "markdown",
   "metadata": {
    "id": "Stm1sI-67mG6"
   },
   "source": [
    "DataSet:\n",
    "* Rain Prediction"
   ]
  },
  {
   "cell_type": "code",
   "execution_count": null,
   "metadata": {
    "colab": {
     "base_uri": "https://localhost:8080/"
    },
    "id": "6K-U_Nam_Vlf",
    "outputId": "78b17e4d-16c6-4287-8cc6-baeac0e6801e"
   },
   "outputs": [],
   "source": [
    "!python --version"
   ]
  },
  {
   "cell_type": "markdown",
   "metadata": {
    "id": "M_Tk5_0OcsHe"
   },
   "source": [
    "# **1. import Libraries/Dataset**"
   ]
  },
  {
   "cell_type": "markdown",
   "metadata": {
    "id": "HFInupabZhpu"
   },
   "source": [
    "## 1.1. Download the dataset\n",
    "Upload a required data (CSV) file to the colab file systems."
   ]
  },
  {
   "cell_type": "code",
   "execution_count": null,
   "metadata": {
    "colab": {
     "base_uri": "https://localhost:8080/",
     "height": 73,
     "resources": {
      "http://localhost:8080/nbextensions/google.colab/files.js": {
       "data": "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",
       "headers": [
        [
         "content-type",
         "application/javascript"
        ]
       ],
       "ok": true,
       "status": 200,
       "status_text": ""
      }
     }
    },
    "id": "CRim5bmUgaAq",
    "outputId": "c8358bae-ec6d-4a31-d4ea-3a1298b8437e"
   },
   "outputs": [],
   "source": [
    "from google.colab import files\n",
    "uploaded = files.upload()"
   ]
  },
  {
   "cell_type": "markdown",
   "metadata": {
    "id": "HKZWNClCcPBy"
   },
   "source": [
    "## 1.2. Import the required libraries"
   ]
  },
  {
   "cell_type": "code",
   "execution_count": null,
   "metadata": {
    "colab": {
     "base_uri": "https://localhost:8080/"
    },
    "id": "Tj3bLqencZ06",
    "outputId": "91d834f3-c514-48c6-9d30-72aab2281b56"
   },
   "outputs": [],
   "source": [
    "#!pip install category_encoders\n",
    "import numpy as np\n",
    "import pandas as pd\n",
    "import matplotlib.pyplot as plt\n",
    "import seaborn as sns\n",
    "import datetime\n",
    "from sklearn.preprocessing import LabelEncoder\n",
    "from sklearn import preprocessing\n",
    "from sklearn.preprocessing import StandardScaler\n",
    "from sklearn.model_selection import train_test_split\n",
    "from keras.layers import Dense, Dropout\n",
    "from keras.models import Sequential\n",
    "from sklearn.metrics import confusion_matrix, classification_report\n",
    "from keras import callbacks\n",
    "import warnings\n",
    "warnings.filterwarnings('ignore')\n"
   ]
  },
  {
   "cell_type": "markdown",
   "metadata": {
    "id": "TBE34jf1c2ub"
   },
   "source": [
    "# **2. Data Visualization and Exploration**"
   ]
  },
  {
   "cell_type": "markdown",
   "metadata": {
    "id": "ykug6Kwrc5J0"
   },
   "source": [
    "Read the uploaded 'weatherAUS.csv' as dataframe"
   ]
  },
  {
   "cell_type": "code",
   "execution_count": null,
   "metadata": {
    "id": "-6CQyniNdEXP"
   },
   "outputs": [],
   "source": [
    "df = pd.read_csv('weatherAUS.csv')"
   ]
  },
  {
   "cell_type": "markdown",
   "metadata": {
    "id": "QL-Ltfz5dLZi"
   },
   "source": [
    "# 2.1. Print 10 rows\n",
    "sanity check to identify all the features present in the dataset and if the target matches with them."
   ]
  },
  {
   "cell_type": "code",
   "execution_count": null,
   "metadata": {
    "colab": {
     "base_uri": "https://localhost:8080/",
     "height": 436
    },
    "id": "hOpB3rpbdTQn",
    "outputId": "3455bc5c-2ee5-4adf-95eb-3dcbcad04ba8"
   },
   "outputs": [],
   "source": [
    "df.head(10)"
   ]
  },
  {
   "cell_type": "markdown",
   "metadata": {
    "id": "l9zGsmECgliE"
   },
   "source": [
    "Represents the number of rows and columns respectively."
   ]
  },
  {
   "cell_type": "code",
   "execution_count": null,
   "metadata": {
    "colab": {
     "base_uri": "https://localhost:8080/"
    },
    "id": "8qq19ADKgoGU",
    "outputId": "1e9fdb48-bf54-464a-bf13-fb9e16cf00f7"
   },
   "outputs": [],
   "source": [
    "df.shape"
   ]
  },
  {
   "cell_type": "markdown",
   "metadata": {
    "id": "RSTWAYEGgsnF"
   },
   "source": [
    "There are 23 columns with 145K rows"
   ]
  },
  {
   "cell_type": "code",
   "execution_count": null,
   "metadata": {
    "colab": {
     "base_uri": "https://localhost:8080/"
    },
    "id": "s5RaDad8hCro",
    "outputId": "533aa210-2877-4137-f9eb-5fbce52892b9"
   },
   "outputs": [],
   "source": [
    "df.info()"
   ]
  },
  {
   "cell_type": "markdown",
   "metadata": {
    "id": "BZQtStaliPNd"
   },
   "source": [
    "There are 16 numberic type columns and 7 object (categorical) type columns"
   ]
  },
  {
   "cell_type": "markdown",
   "metadata": {
    "id": "E5NwqVGmk4jz"
   },
   "source": [
    "The data from \"Date\" column should be Date type"
   ]
  },
  {
   "cell_type": "code",
   "execution_count": null,
   "metadata": {
    "id": "h_m371LklFIB"
   },
   "outputs": [],
   "source": [
    "df['Date'] = pd.to_datetime(df['Date'])"
   ]
  },
  {
   "cell_type": "markdown",
   "metadata": {
    "id": "Rc4Ik47NlEwA"
   },
   "source": [
    "Checking for null values in the dataset"
   ]
  },
  {
   "cell_type": "code",
   "execution_count": null,
   "metadata": {
    "colab": {
     "base_uri": "https://localhost:8080/"
    },
    "id": "U_s-u0tmlQQG",
    "outputId": "514567db-9b73-400a-f402-3e0df928b82d"
   },
   "outputs": [],
   "source": [
    "(df.isnull().sum()/len(df) *100).sort_values(ascending=False)"
   ]
  },
  {
   "cell_type": "markdown",
   "metadata": {
    "id": "HorbMOawmmnH"
   },
   "source": [
    "Filling the null values of the categorical columns with the mode"
   ]
  },
  {
   "cell_type": "code",
   "execution_count": null,
   "metadata": {
    "id": "A8pHVv6Hmpgx"
   },
   "outputs": [],
   "source": [
    "objDF = (df.dtypes == \"object\")\n",
    "categoricalIdx = list(objDF[objDF].index)\n",
    "# Filling missing values with mode of the column in value\n",
    "for idx in categoricalIdx:\n",
    "    df[idx].fillna(df[idx].mode()[0], inplace=True)"
   ]
  },
  {
   "cell_type": "markdown",
   "metadata": {
    "id": "NVrpTGNEm9wa"
   },
   "source": [
    "Filling the null values of the numerical columns with the median becuse we do not if the features are skewed or not"
   ]
  },
  {
   "cell_type": "code",
   "execution_count": null,
   "metadata": {
    "id": "ffnQ0FpEnIUw"
   },
   "outputs": [],
   "source": [
    "numDF = (df.dtypes == \"float64\")\n",
    "numericalIdx = list(numDF[numDF].index)\n",
    "# Filling missing values with median of the column in value\n",
    "for idx in numericalIdx:\n",
    "    df[idx].fillna(df[idx].median(), inplace=True)\n"
   ]
  },
  {
   "cell_type": "markdown",
   "metadata": {
    "id": "s_-4NyY8nNRR"
   },
   "source": [
    "Checking again for null values in the dataset"
   ]
  },
  {
   "cell_type": "code",
   "execution_count": null,
   "metadata": {
    "colab": {
     "base_uri": "https://localhost:8080/"
    },
    "id": "sdn5UrE1nWWG",
    "outputId": "e3276eeb-3fce-4440-b99b-a5742dbbd340"
   },
   "outputs": [],
   "source": [
    "df.isnull().sum()"
   ]
  },
  {
   "cell_type": "markdown",
   "metadata": {
    "id": "Ecl67lrFnvCe"
   },
   "source": [
    "There is no NULL after the null values are all replaced with appropriate values."
   ]
  },
  {
   "cell_type": "markdown",
   "metadata": {
    "id": "4MRo6prXjnJV"
   },
   "source": [
    "#2.2. Apply Univariate analysis with target variables."
   ]
  },
  {
   "cell_type": "markdown",
   "metadata": {
    "id": "gIqdwf3Socyo"
   },
   "source": [
    "Creating new dataframe for numerical and categorical variables"
   ]
  },
  {
   "cell_type": "code",
   "execution_count": null,
   "metadata": {
    "id": "nz8JsHkIjs2H"
   },
   "outputs": [],
   "source": [
    "numericalDF = df.select_dtypes(np.number)\n",
    "categoricalDF = df.select_dtypes('object')"
   ]
  },
  {
   "cell_type": "markdown",
   "metadata": {
    "id": "w7Knseu6oz0B"
   },
   "source": [
    "Apply Univariate analysis for numericals columns"
   ]
  },
  {
   "cell_type": "code",
   "execution_count": null,
   "metadata": {
    "colab": {
     "base_uri": "https://localhost:8080/",
     "height": 1000
    },
    "id": "8HUHPbbRo7X-",
    "outputId": "cd14414d-dce7-4a60-8ec1-ec1b71479b58"
   },
   "outputs": [],
   "source": [
    "plt.rcParams['figure.figsize'] = 15,5\n",
    "for col in df.select_dtypes(np.number):\n",
    "    fig,ax= plt.subplots(1,3)\n",
    "    print(col,':')\n",
    "    sns.distplot(numericalDF[col],ax=ax[0], color='gray')\n",
    "    sns.boxplot(numericalDF[col], ax=ax[1], palette='Greens')\n",
    "    sns.violinplot(numericalDF[col],ax=ax[2], palette='Blues')\n",
    "    plt.show()"
   ]
  },
  {
   "cell_type": "markdown",
   "metadata": {
    "id": "_yUFjLpDpnQ8"
   },
   "source": [
    "**Inferences from the univariate analysis of the numerical columns:**\n",
    "* *mintemp* follows a normal distribution \n",
    "with outliers in both sides\n",
    "* *maxtemp* is left skewed more than right skewed\n",
    "* *Rainfall* is right skewed, whenever there is rain, it is having higher values\n",
    "* *Evaporation* is highly right skewed similar to rainfall\n",
    "* *Sunshine* has outliers on both sides, which means there were only less days when the sunshine was warm, many days it was cloudy and equally many days it was a sunshiny day.\n",
    "* *Windgustspeed* is right skewed, as only on rainy days the *windgustspeed* was very high\n",
    "* *Windspeed9am* and *Windspeed3pm* are right skewed too\n",
    "* *Humidity9am* is left skewed \n",
    "* *Humidity3pm* is normally distributed.\n",
    "* *Pressure9am* has outliers in both sides and same applies for *Pressure3pm*, the pressure is either too less or too high on rainy days\n",
    "* *Cloud9am* and *Cloud3pm* follows almost normal distribution\n",
    "* *Temp9am* and *Temp3pm* follows similar distribution with outliers on both sides"
   ]
  },
  {
   "cell_type": "markdown",
   "metadata": {
    "id": "cSqVDXsLrCr2"
   },
   "source": [
    "Apply Univariate analysis for categorical columns"
   ]
  },
  {
   "cell_type": "code",
   "execution_count": null,
   "metadata": {
    "colab": {
     "base_uri": "https://localhost:8080/",
     "height": 1000
    },
    "id": "lo2VRP_qrJ0B",
    "outputId": "7b3b59be-00ee-45f6-8a73-5b9bf8f74bc1"
   },
   "outputs": [],
   "source": [
    "plt.rcParams['figure.figsize'] = 12,5\n",
    "for col in categoricalDF:\n",
    "    fig ,ax = plt.subplots(1,2)\n",
    "    print(col,':')\n",
    "    categoricalDF[col].value_counts().plot(kind='bar',rot=0, ax=ax[0],cmap='Purples_r')\n",
    "    categoricalDF[col].value_counts().plot(kind='pie',autopct='%.1f%%',ax=ax[1],cmap='crest')\n",
    "    plt.show()"
   ]
  },
  {
   "cell_type": "markdown",
   "metadata": {
    "id": "QIBVxas5s9iX"
   },
   "source": [
    "**Inferences from the univariate analysis of the Categorical columns**\n",
    "* *Location* category almost all the locations contribute to the dataset equally\n",
    "* *Windgustdir* is more from the West direction compared to all the other directions\n",
    "* *Winddir9am* is more from the North direction compared to all the other directions\n",
    "* *Winddir3pm* is more from the South-East direction followed almost equally by West and South directions\n",
    "* Most of the days there was no rain only 22% times of the days, rain occurred."
   ]
  },
  {
   "cell_type": "markdown",
   "metadata": {
    "id": "qY2XrsDPt0Eq"
   },
   "source": [
    "## 2.3. Print each class label count and create charts  for each class (% of data distribution)."
   ]
  },
  {
   "cell_type": "code",
   "execution_count": null,
   "metadata": {
    "colab": {
     "base_uri": "https://localhost:8080/",
     "height": 1000
    },
    "id": "5WkNJJUuwbdg",
    "outputId": "1feb28dd-8ab3-4761-9792-39ea6d7aac65"
   },
   "outputs": [],
   "source": [
    "plt.rcParams['figure.figsize'] = 20,12\n",
    "for col in categoricalDF:      \n",
    "    print(col,':')\n",
    "    #categoricalDF[col].value_counts().plot(kind='bar',rot=0, cmap='crest')\n",
    "    categoricalDF[col].value_counts().plot(kind='pie',autopct='%.1f%%', cmap='crest')\n",
    "    #plt.xticks(rotation=90)\n",
    "    plt.show()"
   ]
  },
  {
   "cell_type": "markdown",
   "metadata": {
    "id": "R_czGmri3G9D"
   },
   "source": [
    "**Data Balancing analysis of the Categorical columns**\n",
    "* *Location* category almost all the locations contribute to the dataset equally. Hence data is balanced\n",
    "* *Windgustdir* is more from the West direction compared to all the other directions. Hence data is partially balanced\n",
    "* *Winddir9am* is more from the North direction compared to all the other directions. Hence data is partially balanced\n",
    "* *Winddir3pm* is more from the South-East direction followed almost equally by West and South directions. Hence data is partially balanced\n",
    "* Most of the days there was no rain only 22% times of the days, rain occurred. Hence data in *RainToday* and *RainTomorrow* are imbalanced"
   ]
  },
  {
   "cell_type": "markdown",
   "metadata": {
    "id": "Spew3gTg40jQ"
   },
   "source": [
    "**Exploring the length of date objects to observe on data balancing on \"Date\" column**"
   ]
  },
  {
   "cell_type": "code",
   "execution_count": null,
   "metadata": {
    "colab": {
     "base_uri": "https://localhost:8080/",
     "height": 236
    },
    "id": "6kUlubOh59Go",
    "outputId": "2d84c17a-fb51-4d67-8070-54f8c2de29f5"
   },
   "outputs": [],
   "source": [
    "# Creating different columns based on the date feature, for further usage\n",
    "df['Year'] = df['Date'].dt.year\n",
    "df['Month'] = df.Date.dt.month\n",
    "df['Day'] = df.Date.dt.day\n",
    "\n",
    "df.head(5)"
   ]
  },
  {
   "cell_type": "markdown",
   "metadata": {
    "id": "QcUDNNsQ60VS"
   },
   "source": [
    "**Data distribution Of Days Over Year**"
   ]
  },
  {
   "cell_type": "code",
   "execution_count": null,
   "metadata": {
    "colab": {
     "base_uri": "https://localhost:8080/",
     "height": 747
    },
    "id": "fwaXmZNh66Cd",
    "outputId": "294d6004-36fa-46cd-e467-a951dd52dba3"
   },
   "outputs": [],
   "source": [
    "section = df[:365] \n",
    "tm = section[\"Day\"].plot(color=\"Blue\")\n",
    "tm.set_title(\"Distribution Of Days Over Year\")\n",
    "tm.set_ylabel(\"Days In month\")\n",
    "tm.set_xlabel(\"Days In Year\")"
   ]
  },
  {
   "cell_type": "markdown",
   "metadata": {
    "id": "cnYKP8ZY8VFT"
   },
   "source": [
    "As per the above distribution, the \"Year\" data repeats cyclical continuous feature with \"Month\" data."
   ]
  },
  {
   "cell_type": "markdown",
   "metadata": {
    "id": "ZUV4cKmK86aK"
   },
   "source": [
    "# **3. Data Pre-processing and cleaning**"
   ]
  },
  {
   "cell_type": "markdown",
   "metadata": {
    "id": "uymviH4w8-N8"
   },
   "source": [
    "# 3.1. Label encoding columns with categorical data"
   ]
  },
  {
   "cell_type": "markdown",
   "metadata": {
    "id": "3PIsKvhw9FN3"
   },
   "source": [
    "Apply label encoder to each column with categorical data"
   ]
  },
  {
   "cell_type": "code",
   "execution_count": null,
   "metadata": {
    "colab": {
     "base_uri": "https://localhost:8080/"
    },
    "id": "u90dwx3j9e4D",
    "outputId": "c4cfe459-81be-4136-8f55-fe64d4e87f9a"
   },
   "outputs": [],
   "source": [
    "label_encoder = LabelEncoder()\n",
    "# Get list of categorical variables\n",
    "s = (df.dtypes == \"object\")\n",
    "categoricalCols = list(s[s].index)\n",
    "for i in categoricalCols:\n",
    "    df[i] = label_encoder.fit_transform(df[i])\n",
    "    \n",
    "df.info()"
   ]
  },
  {
   "cell_type": "code",
   "execution_count": null,
   "metadata": {},
   "outputs": [],
   "source": [
    "df.head()"
   ]
  },
  {
   "cell_type": "markdown",
   "metadata": {
    "id": "jh2hBZyVP1HF"
   },
   "source": [
    "encoding the categorical features into numeric values to normalize labels.\n",
    "This data is used on the training data so that we can scale the training data and also learn the scaling parameters."
   ]
  },
  {
   "cell_type": "markdown",
   "metadata": {
    "id": "1s5xkYmkCYmH"
   },
   "source": [
    "# 3.2. Perform the scaling of the features"
   ]
  },
  {
   "cell_type": "markdown",
   "metadata": {
    "id": "0heff0XfCe0j"
   },
   "source": [
    "Scaling the train and test data seperately so as the model will not be biased towards values"
   ]
  },
  {
   "cell_type": "code",
   "execution_count": null,
   "metadata": {
    "colab": {
     "base_uri": "https://localhost:8080/",
     "height": 739
    },
    "id": "Xh5UxvlaEQn3",
    "outputId": "ded8ace0-9d5f-433b-89f0-0c16c54ce66a"
   },
   "outputs": [],
   "source": [
    "#Identifying feature columns\n",
    "features = df.drop(['RainTomorrow', 'Date', 'Day', 'Month'], axis=1)\n",
    "\n",
    "#Identifying the target column\n",
    "target = df['RainTomorrow']\n",
    "\n",
    "#Set up a standard scaler for the features\n",
    "col_names = list(features.columns)\n",
    "s_scaler = preprocessing.StandardScaler()\n",
    "features = s_scaler.fit_transform(features)\n",
    "features = pd.DataFrame(features, columns=col_names) \n",
    "outliers = features.describe().T\n",
    "outliers"
   ]
  },
  {
   "cell_type": "markdown",
   "metadata": {
    "id": "4Z6hBIO-RX7a"
   },
   "source": [
    "Removes the mean and scales each feature/variable to unit variance"
   ]
  },
  {
   "cell_type": "markdown",
   "metadata": {
    "id": "ZdmEBrWiFmmi"
   },
   "source": [
    "# 3.3. Detecting outliers"
   ]
  },
  {
   "cell_type": "markdown",
   "metadata": {
    "id": "yNb8vOgaaHuO"
   },
   "source": [
    "Box plots are a visual method to identify outliers"
   ]
  },
  {
   "cell_type": "code",
   "execution_count": null,
   "metadata": {
    "colab": {
     "base_uri": "https://localhost:8080/",
     "height": 1000
    },
    "id": "ldX1PMUFFl2S",
    "outputId": "bd54cad0-3301-43ae-c667-8af60c0aa78d"
   },
   "outputs": [],
   "source": [
    "features.plot(kind=\"box\",subplots=True,layout=(8, 3), figsize=(15,25));\n",
    "plt.show()"
   ]
  },
  {
   "cell_type": "markdown",
   "metadata": {
    "id": "rDh2R2D8n0Ch"
   },
   "source": [
    "**Finding the Boundary Values**"
   ]
  },
  {
   "cell_type": "code",
   "execution_count": null,
   "metadata": {
    "colab": {
     "base_uri": "https://localhost:8080/"
    },
    "id": "pyxzYO4taoGq",
    "outputId": "d891fda5-6553-4b10-dfc3-c6473ff930da"
   },
   "outputs": [],
   "source": [
    "def outlier_treatment(outliersDF, col):\n",
    "  Q1 = outliersDF.loc[col, '25%']\n",
    "  Q3 = outliersDF.loc[col, '75%']\n",
    "  IQR = Q3 - Q1\n",
    "  lower_range = Q1 - (1.5 * IQR)\n",
    "  upper_range = Q3 + (1.5 * IQR)\n",
    "  return lower_range,upper_range\n",
    "\n",
    "t = (df.dtypes == \"float64\")\n",
    "neumericCols = list(t[t].index)\n",
    "for column  in neumericCols:\n",
    "  lowerbound,upperbound = outlier_treatment(outliers, column)\n",
    "  print(f\"Highest allowed {column}:\",lowerbound)\n",
    "  print(f\"Lowest allowed {column}:\",upperbound)\n",
    "    "
   ]
  },
  {
   "cell_type": "markdown",
   "metadata": {
    "id": "OGSkCy5lnrSe"
   },
   "source": [
    "* IQR method is used by box plot to highlight outliers, which is the difference between q3 (75th percentile) and q1 (25th percentile)\n",
    "* The IQR method computes lower bound and upper bound to identify outliers.\n",
    "\n",
    "* Lower Bound = q1–1.5*IQR\n",
    "* Upper Bound = q3+1.5*IQR\n",
    "\n",
    "* *Rainfall*, *Evaporation*, *Sunshine* are having less different in loer and upper bount, hence taking the mean value"
   ]
  },
  {
   "cell_type": "markdown",
   "metadata": {
    "id": "qwZ3CimJHd5R"
   },
   "source": [
    "# 4.4. Dropping the outliers based on data analysis"
   ]
  },
  {
   "cell_type": "code",
   "execution_count": null,
   "metadata": {
    "id": "qYQqrjF4Hk9B"
   },
   "outputs": [],
   "source": [
    "features[\"RainTomorrow\"] = target"
   ]
  },
  {
   "cell_type": "code",
   "execution_count": null,
   "metadata": {
    "colab": {
     "base_uri": "https://localhost:8080/"
    },
    "id": "mQmnOZb9HqEH",
    "outputId": "0be20ebc-49ef-49e8-bda2-90c3b5287f38"
   },
   "outputs": [],
   "source": [
    "features = features[(features[\"MinTemp\"]<2.0)&(features[\"MinTemp\"]>-2.0)]\n",
    "features = features[(features[\"MaxTemp\"]<2.0)&(features[\"MaxTemp\"]>-1.8)]\n",
    "features = features[(features[\"Rainfall\"]<2.5)]\n",
    "features = features[(features[\"Evaporation\"]<2.3)]\n",
    "features = features[(features[\"Sunshine\"]<2.1)]\n",
    "features = features[(features[\"WindGustSpeed\"]<2.3)&(features[\"WindGustSpeed\"]>-2.4)]\n",
    "features = features[(features[\"WindSpeed9am\"]<2.3)&(features[\"WindSpeed9am\"]>-2.2)]\n",
    "features = features[(features[\"WindSpeed3pm\"]<2.5)&(features[\"WindSpeed3pm\"]>-2.6)]\n",
    "features = features[(features[\"Humidity9am\"]<2.8)&(features[\"Humidity9am\"]>-2.2)]\n",
    "features = features[(features[\"Humidity3pm\"]<2.2)&(features[\"Humidity3pm\"]>-2.0)]\n",
    "features = features[(features[\"Pressure9am\"]< 2.0)&(features[\"Pressure9am\"]>-2.2)]\n",
    "features = features[(features[\"Pressure3pm\"]< 2.0)&(features[\"Pressure3pm\"]>-2.2)]\n",
    "features = features[(features[\"Cloud9am\"]<1.8)&(features[\"Cloud9am\"]>-1.7)]\n",
    "features = features[(features[\"Cloud3pm\"]<2)&(features[\"Cloud3pm\"]>-2.0)]\n",
    "features = features[(features[\"Temp9am\"]<2.0)&(features[\"Temp9am\"]>-2.0)]\n",
    "features = features[(features[\"Temp3pm\"]<2.0)&(features[\"Temp3pm\"]>-1.7)]\n",
    "\n",
    "\n",
    "features.shape"
   ]
  },
  {
   "cell_type": "markdown",
   "metadata": {
    "id": "VNQddMc0r1Im"
   },
   "source": [
    "Dropped the outliers based on above data analysis using IQR"
   ]
  },
  {
   "cell_type": "code",
   "execution_count": null,
   "metadata": {},
   "outputs": [],
   "source": [
    "features.plot(kind=\"box\",subplots=True,layout=(8, 3), figsize=(15,25));\n",
    "plt.show()"
   ]
  },
  {
   "cell_type": "code",
   "execution_count": null,
   "metadata": {
    "colab": {
     "base_uri": "https://localhost:8080/",
     "height": 770
    },
    "id": "741AmWPSHyv9",
    "outputId": "d4507fc1-6f91-40be-d01a-45b0793c4299"
   },
   "outputs": [],
   "source": [
    "#looking at the scaled features without outliers\n",
    "\n",
    "plt.figure(figsize=(20,12))\n",
    "sns.boxenplot(data = features,palette = \"Spectral\")\n",
    "plt.xticks(rotation=90)\n",
    "plt.show()"
   ]
  },
  {
   "cell_type": "markdown",
   "metadata": {
    "id": "10LmCLszsBTA"
   },
   "source": [
    "After removing all outliers, the scaled features are looking good"
   ]
  },
  {
   "cell_type": "markdown",
   "metadata": {
    "id": "16y70_EhsLn1"
   },
   "source": [
    "# **4. Model Building**"
   ]
  },
  {
   "cell_type": "markdown",
   "metadata": {
    "id": "fBj43RgXsUCi"
   },
   "source": [
    "# 4.1. Split the dataset into training and test sets.\n",
    "\n"
   ]
  },
  {
   "cell_type": "markdown",
   "metadata": {
    "id": "vFp3ZKnZSzCI"
   },
   "source": [
    "**Get X and Y feature variables**\n",
    "\n",
    "Assigning x and y variable in which the x feature variable has *independent* variables and the y feature variable has a *dependent* variable"
   ]
  },
  {
   "cell_type": "code",
   "execution_count": null,
   "metadata": {
    "colab": {
     "base_uri": "https://localhost:8080/"
    },
    "id": "rIEVEh3AselN",
    "outputId": "bbd3eba7-2ad3-4080-99a0-a59264b2a614"
   },
   "outputs": [],
   "source": [
    "x = features.drop([\"RainTomorrow\"], axis=1)\n",
    "y = features[\"RainTomorrow\"]\n",
    "\n",
    "x.shape"
   ]
  },
  {
   "cell_type": "code",
   "execution_count": null,
   "metadata": {},
   "outputs": [],
   "source": [
    "y.shape"
   ]
  },
  {
   "cell_type": "markdown",
   "metadata": {
    "id": "FZkDyCcfTZF5"
   },
   "source": [
    "The shape of the above x dataframe is (104721, 22). The features columns are taken in the X variable and the outcome column is taken in the y variable. X and y variables are passed in the train_test_split() method to split the data frame into train and test sets.\n",
    "\n",
    "We are going to split the dataset with different ratios of 20% and 30%  test data"
   ]
  },
  {
   "cell_type": "markdown",
   "metadata": {
    "id": "SqBK5y4tKqRW"
   },
   "source": [
    "**Case 1** : Train = 80 % Test = 20% [ x_train,y_train] = 80% ;\n",
    "[ x_test,y_test] = 20% ;"
   ]
  },
  {
   "cell_type": "code",
   "execution_count": null,
   "metadata": {
    "colab": {
     "base_uri": "https://localhost:8080/"
    },
    "id": "lPFljSAsK-Mg",
    "outputId": "8cd86c1b-50f2-4c24-e735-d07f29911f9f"
   },
   "outputs": [],
   "source": [
    "# Splitting test and training sets\n",
    "x_train, x_test, y_train, y_test = train_test_split(x, y, test_size = 0.2, random_state = 42, stratify=y)\n",
    "\n",
    "print(x_train.shape, x_test.shape, y_train.shape, y_test.shape)"
   ]
  },
  {
   "cell_type": "markdown",
   "metadata": {
    "id": "AyEqoDy-IQve"
   },
   "source": [
    "**Case 2** : Train = 70 % Test = 30% [ x_train1,y_train1] = 70% ; [ x_test1,y_test1] = 30% ;"
   ]
  },
  {
   "cell_type": "code",
   "execution_count": null,
   "metadata": {
    "colab": {
     "base_uri": "https://localhost:8080/"
    },
    "id": "Ghh6HuqYIcnU",
    "outputId": "1c01541a-38cf-4336-cdbe-5a321d149e82"
   },
   "outputs": [],
   "source": [
    "# Splitting test and training sets\n",
    "x_train1, x_test1, y_train1, y_test1 = train_test_split(x, y, test_size = 0.3, random_state = 64, stratify=y)\n",
    "\n",
    "print(x_train1.shape, x_test1.shape, y_train1.shape, y_test1.shape)"
   ]
  },
  {
   "cell_type": "markdown",
   "metadata": {
    "id": "1YIw6cjet63S"
   },
   "source": [
    "# 4.2.a. Develop ANN Model\n",
    "\n",
    "Create a Sequential model for a plain stack of layers where each layer has exactly one input tensor and one output tensor.\n",
    "\n",
    "We have created one input layer, three hidden layer with two dropout and one output layer to train our data.\n",
    "\n",
    "* The input layer start with 24 dimensions and 32 neuron units of hidden layer with relu activation function\n",
    "* The next hidden layer have 32 neurons plus relu activation function and take the previous 32 dimensions as input\n",
    "* The next hidden layer have 16 neurons plus relu activation function and take the previous 32 dimensions as input\n",
    "* To reduce overfitting *Dropout* of 20% of the neurons to regularize ANN\n",
    "* The next hidden layer have 8 neurons plus relu activation function and take the previous 16 dimensions as input\n",
    "* To reduce overfitting *Dropout* of 40% of the neurons to regularize ANN\n",
    "* The output layer has one node and uses the sigmoid activation function.\n",
    "\n"
   ]
  },
  {
   "cell_type": "code",
   "execution_count": null,
   "metadata": {
    "colab": {
     "base_uri": "https://localhost:8080/"
    },
    "id": "Egf_TI6juQcE",
    "outputId": "52a0e6cb-e83a-4d24-dff3-2cd8878ddac3"
   },
   "outputs": [],
   "source": [
    "model = Sequential()\n",
    "model.add(Dense(units = 64, kernel_initializer = 'uniform', activation = 'relu', input_dim = 22))\n",
    "model.add(Dense(units = 32, kernel_initializer = 'uniform', activation = 'relu'))\n",
    "model.add(Dropout(0.25))\n",
    "model.add(Dense(units = 16, kernel_initializer = 'uniform', activation = 'relu'))\n",
    "model.add(Dropout(0.35))\n",
    "model.add(Dense(units = 8, kernel_initializer = 'uniform', activation = 'relu'))\n",
    "model.add(Dropout(0.50))\n",
    "model.add(Dense(units = 1, kernel_initializer = 'uniform', activation = 'sigmoid'))\n",
    "\n",
    "model.summary()\n",
    "\n",
    "model.compile(optimizer = 'adam', loss = 'binary_crossentropy', metrics = ['accuracy'])"
   ]
  },
  {
   "cell_type": "markdown",
   "metadata": {
    "id": "EnrgzeuF_aLk"
   },
   "source": [
    "* The *Dense* function in Keras constructs a fully connected neural network layer, automatically initializing the weights as biases\n",
    "* We have added the LR model has the form y=f(xW) where f is the sigmoid function\n",
    "* The Output layer being directly connected to the input reflects this function\n",
    "* The *compile* function creates the neural network model by specifying the details of the learning process. The model hasn’t been trained yet\n",
    "* *Adam* optimizer computes individual learning rates for different parameters\n",
    "* *Adam* uses estimations of first and second moments of gradient to adapt the learning rate for each weight of the neural network\n",
    "* We are using a binary 0/1 classifier, the loss function to minimize is *binary_crossentropy*"
   ]
  },
  {
   "cell_type": "markdown",
   "metadata": {
    "id": "Sj9EG0aqxoLb"
   },
   "source": [
    "# 4.2.b. Train the model and print the training accuracy and loss values"
   ]
  },
  {
   "cell_type": "markdown",
   "metadata": {
    "id": "c6n60AN7tpg5"
   },
   "source": [
    "Create a callback to specify the performance measure to monitor, the trigger, and once triggered, it will stop the training process."
   ]
  },
  {
   "cell_type": "code",
   "execution_count": null,
   "metadata": {
    "id": "fXEu0XdmtywO"
   },
   "outputs": [],
   "source": [
    "earlyStoppingCallbacks  = callbacks.EarlyStopping(\n",
    "    # \"no longer improving\" being defined as \"no better than 1e-2 less\"\n",
    "    min_delta = 0.0001, \n",
    "    # \"no longer improving\" being further defined as \"for at least 5 epochs\"\n",
    "    patience=5,\n",
    "    #Restore model weights from the epoch with the best value of the monitored quantity \n",
    "    restore_best_weights=True,\n",
    ")"
   ]
  },
  {
   "cell_type": "markdown",
   "metadata": {
    "id": "5szqPMZFYLVn"
   },
   "source": [
    "Using fit(), train the model by slicing the data into \"*batches*\" of size batch_size, and repeatedly iterating over the entire dataset for a given number of *epochs*.\n",
    "* Using *EarlyStopping*, stop training when training is no longer improving the validation metrics\n",
    "* This callback will stop the training when there is no improvement in the loss for 5 consecutive epochs"
   ]
  },
  {
   "cell_type": "code",
   "execution_count": null,
   "metadata": {
    "colab": {
     "base_uri": "https://localhost:8080/"
    },
    "id": "ZQwXd3i8xpor",
    "outputId": "4d0662ab-7770-4970-940b-0fbe3223e59e"
   },
   "outputs": [],
   "source": [
    "history = model.fit(x_train, y_train, batch_size = 64, epochs = 5, callbacks=[earlyStoppingCallbacks], validation_split=0.2)"
   ]
  },
  {
   "cell_type": "code",
   "execution_count": null,
   "metadata": {
    "colab": {
     "base_uri": "https://localhost:8080/"
    },
    "id": "PBrATPdUzMJV",
    "outputId": "4c176514-447e-4695-d5fa-6626858d6428"
   },
   "outputs": [],
   "source": [
    "print(history.history)"
   ]
  },
  {
   "cell_type": "code",
   "execution_count": null,
   "metadata": {
    "colab": {
     "base_uri": "https://localhost:8080/"
    },
    "id": "zQrOgCFkI68S",
    "outputId": "68192718-07da-496f-e3c8-bac22697a885"
   },
   "outputs": [],
   "source": [
    "history1 = model.fit(x_train1, y_train1, batch_size = 64, epochs = 5, callbacks=[earlyStoppingCallbacks], validation_split=0.3)\n",
    "print(history1.history)"
   ]
  },
  {
   "cell_type": "markdown",
   "metadata": {
    "id": "xu5V2ZTezX_H"
   },
   "source": [
    "**A plot of accuracy on the training and validation datasets over training epochs**"
   ]
  },
  {
   "cell_type": "code",
   "execution_count": null,
   "metadata": {
    "colab": {
     "base_uri": "https://localhost:8080/",
     "height": 350
    },
    "id": "xECwz8zLzY8J",
    "outputId": "da6115da-69d0-4fd5-c432-35dce41a1369"
   },
   "outputs": [],
   "source": [
    "plt.figure(figsize=(10,5))\n",
    "\n",
    "plt.plot(history.history['accuracy'], \"#BDE2E2\", label='Training accuracy')\n",
    "plt.plot(history.history['val_accuracy'], \"#C2C4E2\", label='Validation accuracy')\n",
    "\n",
    "plt.title('Model Training and validation Accuracy')\n",
    "plt.xlabel('Epochs')\n",
    "plt.ylabel('Accuracy')\n",
    "plt.legend(loc=\"best\")\n",
    "plt.show()"
   ]
  },
  {
   "cell_type": "markdown",
   "metadata": {
    "id": "a0oAq6ic0hE5"
   },
   "source": [
    "From the above plot of the accuracy, we can see that the model could probably be trained a little more as the trend for accuracy on both datasets is still rising for the last few epochs. we can also see that the model has not yet over-learned the training dataset, showing comparable skill on both datasets."
   ]
  },
  {
   "cell_type": "code",
   "execution_count": null,
   "metadata": {
    "colab": {
     "base_uri": "https://localhost:8080/",
     "height": 350
    },
    "id": "0qlLggE6JNs6",
    "outputId": "12275df8-4415-4db5-d438-f520ff60d9cf"
   },
   "outputs": [],
   "source": [
    "plt.figure(figsize=(10,5))\n",
    "\n",
    "plt.plot(history1.history['accuracy'], \"#BDE2E2\", label='Training accuracy')\n",
    "plt.plot(history1.history['val_accuracy'], \"#C2C4E2\", label='Validation accuracy')\n",
    "\n",
    "plt.title('Model Training and validation Accuracy')\n",
    "plt.xlabel('Epochs')\n",
    "plt.ylabel('Accuracy')\n",
    "plt.legend(loc=\"best\")\n",
    "plt.show()"
   ]
  },
  {
   "cell_type": "markdown",
   "metadata": {
    "id": "n7E0DgF8J9h4"
   },
   "source": [
    "From the above plot of the accuracy, there is the trend for accuracy on both datasets is still falling for the last few epochs."
   ]
  },
  {
   "cell_type": "markdown",
   "metadata": {
    "id": "7nEOAUYLzEIO"
   },
   "source": [
    "**A plot of loss on the training and validation datasets over training epochs**"
   ]
  },
  {
   "cell_type": "code",
   "execution_count": null,
   "metadata": {
    "colab": {
     "base_uri": "https://localhost:8080/",
     "height": 350
    },
    "id": "uADT-sauzGZO",
    "outputId": "ef9f403f-f266-471d-e72f-7719fc29ea6b"
   },
   "outputs": [],
   "source": [
    "plt.figure(figsize=(10,5))\n",
    "\n",
    "plt.plot(history.history['loss'], \"#BDE2E2\", label='Training loss')\n",
    "plt.plot(history.history['val_loss'],\"#C2C4E2\", label='Validation loss')\n",
    "\n",
    "plt.title('Model Training and validation Loss')\n",
    "plt.xlabel('Epochs')\n",
    "plt.ylabel('Loss')\n",
    "plt.legend(loc=\"best\")\n",
    "plt.show()"
   ]
  },
  {
   "cell_type": "markdown",
   "metadata": {
    "id": "mlq_iDpW0zHO"
   },
   "source": [
    "From the above plot of the loss, you can see that the model has comparable performance on both train and validation datasets. If these parallel plots start to depart consistently, it might be a sign to stop training at an earlier epoch."
   ]
  },
  {
   "cell_type": "code",
   "execution_count": null,
   "metadata": {
    "colab": {
     "base_uri": "https://localhost:8080/",
     "height": 350
    },
    "id": "llAz4qCgJTKl",
    "outputId": "dc88582b-b699-49e6-f2f1-886befd3e31c"
   },
   "outputs": [],
   "source": [
    "plt.figure(figsize=(10,5))\n",
    "\n",
    "plt.plot(history1.history['loss'], \"#BDE2E2\", label='Training loss')\n",
    "plt.plot(history1.history['val_loss'],\"#C2C4E2\", label='Validation loss')\n",
    "\n",
    "plt.title('Model Training and validation Loss')\n",
    "plt.xlabel('Epochs')\n",
    "plt.ylabel('Loss')\n",
    "plt.legend(loc=\"best\")\n",
    "plt.show()"
   ]
  },
  {
   "cell_type": "markdown",
   "metadata": {
    "id": "cjJ3W735KdJ5"
   },
   "source": [
    "From the above plot of the loss, you can see that the model has comparable performance on both train and validation datasets. If these parallel plots start to depart consistently, it might be a sign to stop training at an earlier epoch."
   ]
  },
  {
   "cell_type": "markdown",
   "metadata": {
    "id": "KATnlgoRzzNc"
   },
   "source": [
    "# **5. Performance Evaluation**"
   ]
  },
  {
   "cell_type": "markdown",
   "metadata": {
    "id": "GaiiRsn9R2at"
   },
   "source": [
    "**Evaluating the Performance of our two models**"
   ]
  },
  {
   "cell_type": "code",
   "execution_count": null,
   "metadata": {
    "colab": {
     "base_uri": "https://localhost:8080/"
    },
    "id": "KJGdopGEOqfR",
    "outputId": "b1939948-dfbd-444a-9f81-077913de4b96"
   },
   "outputs": [],
   "source": [
    "#Evaluate model on test data\n",
    "scores = model.evaluate(x_test, y_test, batch_size=128)\n",
    "print(\"%s: %.2f%%\" % (model.metrics_names[1], scores[1]*100))\n",
    "\n",
    "scores1 = model.evaluate(x_test1, y_test1, batch_size=128)\n",
    "print(\"%s: %.2f%%\" % (model.metrics_names[1], scores1[1]*100))"
   ]
  },
  {
   "cell_type": "markdown",
   "metadata": {
    "id": "apWm9MA1R_ZP"
   },
   "source": [
    "Both Splits (20% and 30%  test data) gives the same accuracy. Hence we will be chossing the first model (20%  test data) for further performance evaluation"
   ]
  },
  {
   "cell_type": "markdown",
   "metadata": {
    "id": "PWHBFh6yz3fW"
   },
   "source": [
    "# 5.1. Confusion matrix"
   ]
  },
  {
   "cell_type": "markdown",
   "metadata": {
    "id": "6hA0NmcV49cn"
   },
   "source": [
    "**A prediction model is trained with a set of training sequences. Once trained, the model is used to perform sequence predictions.**\n",
    "\n",
    "* Given a sequence of observations about the weather over time, predict the expected weather tomorrow."
   ]
  },
  {
   "cell_type": "code",
   "execution_count": null,
   "metadata": {
    "colab": {
     "base_uri": "https://localhost:8080/"
    },
    "id": "OUF2J8bn0BTa",
    "outputId": "0c4e2bb1-02b3-41b5-ca19-fd5748afaba9"
   },
   "outputs": [],
   "source": [
    "x_test = np.nan_to_num(x_test)\n",
    "y_test = np.nan_to_num(y_test)\n",
    "\n",
    "# Predicting the test set results\n",
    "predicted = model.predict(x_test)\n",
    "y_pred = (predicted > 0.5)\n",
    "print(\"x=%s, Predicted=%s\" % (x_test[0], y_pred))"
   ]
  },
  {
   "cell_type": "markdown",
   "metadata": {
    "id": "LjGZOIpH_Iiw"
   },
   "source": [
    "Confusion matrix measures the quality of predictions from a classification model by looking at how many predictions are True and how many are False."
   ]
  },
  {
   "cell_type": "code",
   "execution_count": null,
   "metadata": {
    "colab": {
     "base_uri": "https://localhost:8080/"
    },
    "id": "t_Hvh5vY0QVS",
    "outputId": "a0d31073-e1fa-4f3c-c4ab-cf2d838474b0"
   },
   "outputs": [],
   "source": [
    "# confusion matrix\n",
    "cfm = confusion_matrix(y_test, y_pred)\n",
    "cfm\n"
   ]
  },
  {
   "cell_type": "code",
   "execution_count": null,
   "metadata": {
    "colab": {
     "base_uri": "https://localhost:8080/",
     "height": 500
    },
    "id": "TCClWEOMBD1T",
    "outputId": "18ab114c-54e6-47df-eae9-5e1b5debaab1"
   },
   "outputs": [],
   "source": [
    "plt.subplots(figsize=(12,8))\n",
    "sns.heatmap(cfm/np.sum(cfm),cmap=\"crest\", annot = True, annot_kws = {'size':15})"
   ]
  },
  {
   "cell_type": "markdown",
   "metadata": {
    "id": "PuCVspgnC36B"
   },
   "source": [
    "* Top left quadrant = True Positives = 76% RainTomorrow as TP\n",
    "* Bottom right quadrant = True Negatives = 3.6% RainTomorrow as TN\n",
    "* Top right quadrant = False Positives = 12% RainTomorrow as FP\n",
    "* Bottom left quadrant = False Negatives = 8.9% RainTomorrow as FN"
   ]
  },
  {
   "cell_type": "markdown",
   "metadata": {
    "id": "rcDl0aZfEl_m"
   },
   "source": [
    "With data from the confusion matrix, we can interpret the results by looking at the classification report."
   ]
  },
  {
   "cell_type": "code",
   "execution_count": null,
   "metadata": {
    "colab": {
     "base_uri": "https://localhost:8080/"
    },
    "id": "GO3YwCpE3j_G",
    "outputId": "b4d2d0f7-2648-447a-f9b2-129fa5006849"
   },
   "outputs": [],
   "source": [
    "print(classification_report(y_test, y_pred))"
   ]
  },
  {
   "cell_type": "markdown",
   "metadata": {
    "id": "eCr-2NmdEv6j"
   },
   "source": [
    "**Precision**: The precision tells us the *accuracy* of positive predictions.\n",
    "As per the above precision, the positive prediciton is more than 83%\n",
    "\n",
    "**Recall**: The fraction of correctly identified positive predictions.\n",
    "\n",
    "**f1-score**: Measures precision and recall at the same time by finding the harmonic mean of the two values.\n",
    "\n",
    "**Support**: The support is the number of occurrences of each class in your y_test\n",
    "\n"
   ]
  }
 ],
 "metadata": {
  "accelerator": "GPU",
  "colab": {
   "collapsed_sections": [
    "ZUV4cKmK86aK",
    "16y70_EhsLn1"
   ],
   "name": "Group299_RainPrediction.ipynb",
   "provenance": []
  },
  "gpuClass": "standard",
  "kernelspec": {
   "display_name": "Python 3 (ipykernel)",
   "language": "python",
   "name": "python3"
  },
  "language_info": {
   "codemirror_mode": {
    "name": "ipython",
    "version": 3
   },
   "file_extension": ".py",
   "mimetype": "text/x-python",
   "name": "python",
   "nbconvert_exporter": "python",
   "pygments_lexer": "ipython3",
   "version": "3.10.9"
  }
 },
 "nbformat": 4,
 "nbformat_minor": 1
}
