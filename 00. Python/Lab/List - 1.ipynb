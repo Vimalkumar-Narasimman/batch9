{
 "cells": [
  {
   "cell_type": "code",
   "execution_count": 3,
   "id": "41b1918c",
   "metadata": {},
   "outputs": [
    {
     "name": "stdout",
     "output_type": "stream",
     "text": [
      "<class 'float'>\n"
     ]
    }
   ],
   "source": [
    "number = 10.0\n",
    "print(type(number))"
   ]
  },
  {
   "cell_type": "code",
   "execution_count": 9,
   "id": "1da6ddba",
   "metadata": {},
   "outputs": [
    {
     "name": "stdout",
     "output_type": "stream",
     "text": [
      "<class 'tuple'> (10, 20.5, 30, 'One')\n"
     ]
    },
    {
     "ename": "TypeError",
     "evalue": "'tuple' object does not support item assignment",
     "output_type": "error",
     "traceback": [
      "\u001b[1;31m---------------------------------------------------------------------------\u001b[0m",
      "\u001b[1;31mTypeError\u001b[0m                                 Traceback (most recent call last)",
      "\u001b[1;32m~\\AppData\\Local\\Temp\\ipykernel_11376\\682358266.py\u001b[0m in \u001b[0;36m<module>\u001b[1;34m\u001b[0m\n\u001b[0;32m      1\u001b[0m \u001b[0mnumbers\u001b[0m \u001b[1;33m=\u001b[0m \u001b[1;36m10\u001b[0m\u001b[1;33m,\u001b[0m \u001b[1;36m20.50\u001b[0m\u001b[1;33m,\u001b[0m \u001b[1;36m30\u001b[0m\u001b[1;33m,\u001b[0m \u001b[1;34m'One'\u001b[0m\u001b[1;33m\u001b[0m\u001b[1;33m\u001b[0m\u001b[0m\n\u001b[0;32m      2\u001b[0m \u001b[0mprint\u001b[0m\u001b[1;33m(\u001b[0m\u001b[0mtype\u001b[0m\u001b[1;33m(\u001b[0m\u001b[0mnumbers\u001b[0m\u001b[1;33m)\u001b[0m\u001b[1;33m,\u001b[0m \u001b[0mnumbers\u001b[0m\u001b[1;33m)\u001b[0m\u001b[1;33m\u001b[0m\u001b[1;33m\u001b[0m\u001b[0m\n\u001b[1;32m----> 3\u001b[1;33m \u001b[0mnumbers\u001b[0m\u001b[1;33m[\u001b[0m\u001b[1;36m1\u001b[0m\u001b[1;33m]\u001b[0m \u001b[1;33m=\u001b[0m \u001b[1;36m20\u001b[0m\u001b[1;33m\u001b[0m\u001b[1;33m\u001b[0m\u001b[0m\n\u001b[0m",
      "\u001b[1;31mTypeError\u001b[0m: 'tuple' object does not support item assignment"
     ]
    }
   ],
   "source": [
    "numbers = 10, 20.50, 30, 'One'\n",
    "print(type(numbers), numbers)\n",
    "numbers[1] = 20"
   ]
  },
  {
   "cell_type": "code",
   "execution_count": 7,
   "id": "85ff75c8",
   "metadata": {},
   "outputs": [
    {
     "name": "stdout",
     "output_type": "stream",
     "text": [
      "<class 'list'> ['one', 2, 3.14]\n"
     ]
    }
   ],
   "source": [
    "numbers = ['one', 230, 3.14]\n",
    "print(type(numbers), numbers)"
   ]
  },
  {
   "cell_type": "code",
   "execution_count": 10,
   "id": "af2e581e",
   "metadata": {},
   "outputs": [
    {
     "name": "stdout",
     "output_type": "stream",
     "text": [
      "<class 'list'> [10, 20.5, 30, 'One']\n",
      "[10, 20, 30, 'One']\n"
     ]
    }
   ],
   "source": [
    "numbers = list((10, 20.5, 30, 'One'))\n",
    "print(type(numbers), numbers)\n",
    "numbers[1] = 20\n",
    "print(numbers)"
   ]
  },
  {
   "cell_type": "code",
   "execution_count": 1,
   "id": "0b9b0076",
   "metadata": {},
   "outputs": [
    {
     "data": {
      "text/plain": [
       "9"
      ]
     },
     "execution_count": 1,
     "metadata": {},
     "output_type": "execute_result"
    }
   ],
   "source": [
    "numbers = [1,2,3,4,5,6,7,8,9]\n",
    "len(numbers)"
   ]
  },
  {
   "cell_type": "code",
   "execution_count": 2,
   "id": "43a1ac2d",
   "metadata": {},
   "outputs": [
    {
     "data": {
      "text/plain": [
       "[9, 8, 7, 6, 5, 4, 3, 2, 1]"
      ]
     },
     "execution_count": 2,
     "metadata": {},
     "output_type": "execute_result"
    }
   ],
   "source": [
    "numbers[::-1]"
   ]
  },
  {
   "cell_type": "code",
   "execution_count": 3,
   "id": "07ed6714",
   "metadata": {},
   "outputs": [
    {
     "data": {
      "text/plain": [
       "[1, 3, 5, 7, 9]"
      ]
     },
     "execution_count": 3,
     "metadata": {},
     "output_type": "execute_result"
    }
   ],
   "source": [
    "numbers[::2]"
   ]
  },
  {
   "cell_type": "code",
   "execution_count": 4,
   "id": "c54f91d4",
   "metadata": {},
   "outputs": [
    {
     "data": {
      "text/plain": [
       "[9, 7, 5, 3, 1]"
      ]
     },
     "execution_count": 4,
     "metadata": {},
     "output_type": "execute_result"
    }
   ],
   "source": [
    "numbers[::-2]"
   ]
  },
  {
   "cell_type": "code",
   "execution_count": 5,
   "id": "047f6ab4",
   "metadata": {},
   "outputs": [
    {
     "data": {
      "text/plain": [
       "True"
      ]
     },
     "execution_count": 5,
     "metadata": {},
     "output_type": "execute_result"
    }
   ],
   "source": [
    "x = 5\n",
    "x in numbers"
   ]
  },
  {
   "cell_type": "code",
   "execution_count": 6,
   "id": "7ea4aa10",
   "metadata": {},
   "outputs": [
    {
     "data": {
      "text/plain": [
       "False"
      ]
     },
     "execution_count": 6,
     "metadata": {},
     "output_type": "execute_result"
    }
   ],
   "source": [
    "x = 15\n",
    "x in numbers"
   ]
  },
  {
   "cell_type": "code",
   "execution_count": 7,
   "id": "d3b12679",
   "metadata": {},
   "outputs": [
    {
     "name": "stdout",
     "output_type": "stream",
     "text": [
      "1\n",
      "2\n",
      "3\n",
      "4\n",
      "5\n",
      "6\n",
      "7\n",
      "8\n",
      "9\n"
     ]
    }
   ],
   "source": [
    "for number in numbers:\n",
    "    print(number)"
   ]
  },
  {
   "cell_type": "code",
   "execution_count": 8,
   "id": "c6f25a20",
   "metadata": {},
   "outputs": [
    {
     "name": "stdout",
     "output_type": "stream",
     "text": [
      "1\n",
      "2\n",
      "3\n",
      "4\n",
      "5\n",
      "6\n",
      "7\n",
      "8\n",
      "9\n"
     ]
    }
   ],
   "source": [
    "for index in range(0, len(numbers)):\n",
    "    print(numbers[index])"
   ]
  },
  {
   "cell_type": "code",
   "execution_count": 9,
   "id": "e718bdb9",
   "metadata": {},
   "outputs": [
    {
     "name": "stdout",
     "output_type": "stream",
     "text": [
      "0 1\n",
      "1 2\n",
      "2 3\n",
      "3 4\n",
      "4 5\n",
      "5 6\n",
      "6 7\n",
      "7 8\n",
      "8 9\n"
     ]
    }
   ],
   "source": [
    "for index, number in enumerate(numbers):\n",
    "    print(index, number)"
   ]
  },
  {
   "cell_type": "code",
   "execution_count": 10,
   "id": "d81b7600",
   "metadata": {},
   "outputs": [
    {
     "name": "stdout",
     "output_type": "stream",
     "text": [
      "[1, 2, 3, 4, 5, 6, 7, 8, 9, 10]\n"
     ]
    }
   ],
   "source": [
    "numbers.append(10)\n",
    "print(numbers)"
   ]
  },
  {
   "cell_type": "code",
   "execution_count": 11,
   "id": "b88f28b8",
   "metadata": {},
   "outputs": [
    {
     "name": "stdout",
     "output_type": "stream",
     "text": [
      "[1, 2, 3, 4, 5, 6, 7, 8, 9, 10, [11, 12]]\n"
     ]
    }
   ],
   "source": [
    "numbers.append([11,12])\n",
    "print(numbers)"
   ]
  },
  {
   "cell_type": "code",
   "execution_count": 12,
   "id": "c81efd2a",
   "metadata": {},
   "outputs": [
    {
     "name": "stdout",
     "output_type": "stream",
     "text": [
      "[1, 1.5, 2, 3, 4, 5, 6, 7, 8, 9, 10, [11, 12]]\n"
     ]
    }
   ],
   "source": [
    "numbers.insert(1, 1.5)\n",
    "print(numbers)"
   ]
  },
  {
   "cell_type": "code",
   "execution_count": 13,
   "id": "4eaec483",
   "metadata": {},
   "outputs": [
    {
     "name": "stdout",
     "output_type": "stream",
     "text": [
      "[1, 1.5, 2, 3, 4, 5, 6, 7, 8, 9, 10, [11, 12], 13, 14]\n"
     ]
    }
   ],
   "source": [
    "numbers.extend([13,14])\n",
    "print(numbers)"
   ]
  },
  {
   "cell_type": "code",
   "execution_count": 14,
   "id": "2e576c88",
   "metadata": {},
   "outputs": [
    {
     "name": "stdout",
     "output_type": "stream",
     "text": [
      "[1, 2, 3, 4, 5, 6, 7, 8, 9, 10, [11, 12], 13, 14]\n"
     ]
    }
   ],
   "source": [
    "numbers.remove(1.5)\n",
    "print(numbers)"
   ]
  },
  {
   "cell_type": "code",
   "execution_count": 15,
   "id": "efd9a43b",
   "metadata": {},
   "outputs": [
    {
     "name": "stdout",
     "output_type": "stream",
     "text": [
      "[1, 2, 3, 4, 5, 6, 7, 8, 9, 10, [11, 12], 13]\n"
     ]
    }
   ],
   "source": [
    "numbers.pop()\n",
    "print(numbers)"
   ]
  },
  {
   "cell_type": "code",
   "execution_count": 16,
   "id": "5151d2c6",
   "metadata": {},
   "outputs": [
    {
     "name": "stdout",
     "output_type": "stream",
     "text": [
      "[1, 2, 3, 4, 5, 6, 7, 8, 9, 10, 13]\n"
     ]
    }
   ],
   "source": [
    "numbers.pop(10)\n",
    "print(numbers)"
   ]
  },
  {
   "cell_type": "code",
   "execution_count": 17,
   "id": "c5245810",
   "metadata": {},
   "outputs": [
    {
     "name": "stdout",
     "output_type": "stream",
     "text": [
      "[1, 2, 3, 4, 5, 6, 7, 8, 9, 10]\n"
     ]
    }
   ],
   "source": [
    "del numbers[10]\n",
    "print(numbers)"
   ]
  },
  {
   "cell_type": "code",
   "execution_count": 18,
   "id": "96460d33",
   "metadata": {},
   "outputs": [
    {
     "data": {
      "text/plain": [
       "[45, 67, 45, 56, 67, 78]"
      ]
     },
     "execution_count": 18,
     "metadata": {},
     "output_type": "execute_result"
    }
   ],
   "source": [
    "marks = [45, 67, 45]\n",
    "midSem = [56, 67, 78]\n",
    "marks + midSem"
   ]
  },
  {
   "cell_type": "code",
   "execution_count": 19,
   "id": "21557fec",
   "metadata": {},
   "outputs": [
    {
     "data": {
      "text/plain": [
       "[45, 67, 45, 45, 67, 45]"
      ]
     },
     "execution_count": 19,
     "metadata": {},
     "output_type": "execute_result"
    }
   ],
   "source": [
    "marks * 2"
   ]
  },
  {
   "cell_type": "code",
   "execution_count": 20,
   "id": "a98fcbdd",
   "metadata": {},
   "outputs": [
    {
     "data": {
      "text/plain": [
       "[[1, 2, 3], [12, 13, 23], [10, 20, 30], [11, 22, 33], [12, 24, 36]]"
      ]
     },
     "execution_count": 20,
     "metadata": {},
     "output_type": "execute_result"
    }
   ],
   "source": [
    "myList=[[1, 2, 3], \n",
    "        [12, 13, 23], \n",
    "        [10, 20, 30], \n",
    "        [11, 22, 33], \n",
    "        [12, 24, 36]]\n",
    "myList"
   ]
  },
  {
   "cell_type": "code",
   "execution_count": 21,
   "id": "11fca5ed",
   "metadata": {},
   "outputs": [
    {
     "data": {
      "text/plain": [
       "[1, 2, 3]"
      ]
     },
     "execution_count": 21,
     "metadata": {},
     "output_type": "execute_result"
    }
   ],
   "source": [
    "myList[0]"
   ]
  },
  {
   "cell_type": "code",
   "execution_count": 22,
   "id": "66d9319c",
   "metadata": {},
   "outputs": [
    {
     "data": {
      "text/plain": [
       "3"
      ]
     },
     "execution_count": 22,
     "metadata": {},
     "output_type": "execute_result"
    }
   ],
   "source": [
    "myList[0][2]"
   ]
  },
  {
   "cell_type": "code",
   "execution_count": 24,
   "id": "b37c3008",
   "metadata": {},
   "outputs": [
    {
     "name": "stdout",
     "output_type": "stream",
     "text": [
      "3 <class 'list'> [[1, 2, 3], [12, 13, 23], [10, 20, 30]]\n"
     ]
    }
   ],
   "source": [
    "matrix=[[1, 2, 3],[12, 13, 23],[10, 20, 30]]\n",
    "print(len(matrix), type(matrix), matrix)"
   ]
  },
  {
   "cell_type": "code",
   "execution_count": 25,
   "id": "c1570e71",
   "metadata": {},
   "outputs": [
    {
     "name": "stdout",
     "output_type": "stream",
     "text": [
      "<class 'list'> [1, 2, 3]\n",
      "<class 'list'> [12, 13, 23]\n",
      "<class 'list'> [10, 20, 30]\n"
     ]
    }
   ],
   "source": [
    "for item in matrix:\n",
    "    print(type(item),item)"
   ]
  },
  {
   "cell_type": "code",
   "execution_count": 26,
   "id": "203ad53b",
   "metadata": {},
   "outputs": [
    {
     "name": "stdout",
     "output_type": "stream",
     "text": [
      "[1, 2, 3, 12, 13, 23, 10, 20, 30]\n"
     ]
    }
   ],
   "source": [
    "flatenMatrix = []\n",
    "for lst in matrix:\n",
    "    for val in lst:\n",
    "        flatenMatrix.append(val)\n",
    "print(flatenMatrix)"
   ]
  },
  {
   "cell_type": "code",
   "execution_count": 27,
   "id": "c63daa21",
   "metadata": {},
   "outputs": [],
   "source": [
    "flatenMatrix.sort()"
   ]
  },
  {
   "cell_type": "code",
   "execution_count": 28,
   "id": "2eb415a2",
   "metadata": {},
   "outputs": [
    {
     "data": {
      "text/plain": [
       "[1, 2, 3, 10, 12, 13, 20, 23, 30]"
      ]
     },
     "execution_count": 28,
     "metadata": {},
     "output_type": "execute_result"
    }
   ],
   "source": [
    "flatenMatrix"
   ]
  },
  {
   "cell_type": "code",
   "execution_count": 29,
   "id": "cb5666fc",
   "metadata": {},
   "outputs": [
    {
     "name": "stdout",
     "output_type": "stream",
     "text": [
      "2\n"
     ]
    }
   ],
   "source": [
    "numbers = [1, 2, 3, 1, 2, 1, 2, 3, 2, 1]\n",
    "print(numbers.count(3))"
   ]
  },
  {
   "cell_type": "code",
   "execution_count": 30,
   "id": "d61d484b",
   "metadata": {},
   "outputs": [
    {
     "name": "stdout",
     "output_type": "stream",
     "text": [
      "18\n"
     ]
    }
   ],
   "source": [
    "print(sum(numbers))"
   ]
  },
  {
   "cell_type": "code",
   "execution_count": 31,
   "id": "92393f43",
   "metadata": {},
   "outputs": [
    {
     "name": "stdout",
     "output_type": "stream",
     "text": [
      "1\n"
     ]
    }
   ],
   "source": [
    "print(min(flatenMatrix))"
   ]
  },
  {
   "cell_type": "code",
   "execution_count": 32,
   "id": "f3e2ca3e",
   "metadata": {},
   "outputs": [
    {
     "name": "stdout",
     "output_type": "stream",
     "text": [
      "30\n"
     ]
    }
   ],
   "source": [
    "print(max(flatenMatrix))"
   ]
  },
  {
   "cell_type": "code",
   "execution_count": 33,
   "id": "a23e985a",
   "metadata": {},
   "outputs": [
    {
     "name": "stdout",
     "output_type": "stream",
     "text": [
      "[23, 45, 65, 34] [23, 45, 65, 34]\n"
     ]
    }
   ],
   "source": [
    "numbers = [23, 45, 65, 34]\n",
    "nbrs = numbers\n",
    "print(nbrs, numbers)"
   ]
  },
  {
   "cell_type": "code",
   "execution_count": 34,
   "id": "fe13630e",
   "metadata": {},
   "outputs": [
    {
     "name": "stdout",
     "output_type": "stream",
     "text": [
      "[23, 30.5, 65, 34] [23, 30.5, 65, 34]\n"
     ]
    }
   ],
   "source": [
    "nbrs[1] = 30.50\n",
    "print(nbrs, numbers)"
   ]
  },
  {
   "cell_type": "code",
   "execution_count": 35,
   "id": "1a191078",
   "metadata": {},
   "outputs": [
    {
     "name": "stdout",
     "output_type": "stream",
     "text": [
      "[23, 30.5, 65, 34] [23, 30.5, 65, 34]\n"
     ]
    }
   ],
   "source": [
    "nbrs = numbers[::]\n",
    "print(nbrs, numbers)"
   ]
  },
  {
   "cell_type": "code",
   "execution_count": 36,
   "id": "5c8bb878",
   "metadata": {},
   "outputs": [
    {
     "name": "stdout",
     "output_type": "stream",
     "text": [
      "[23, 'Python', 65, 34] [23, 30.5, 65, 34]\n"
     ]
    }
   ],
   "source": [
    "nbrs[1] = 'Python'\n",
    "print(nbrs, numbers)"
   ]
  },
  {
   "cell_type": "code",
   "execution_count": 37,
   "id": "41afcff2",
   "metadata": {},
   "outputs": [],
   "source": [
    "nbrs = numbers.copy()"
   ]
  },
  {
   "cell_type": "code",
   "execution_count": 38,
   "id": "723bb60d",
   "metadata": {},
   "outputs": [
    {
     "name": "stdout",
     "output_type": "stream",
     "text": [
      "[2, 4, 6, 8]\n"
     ]
    }
   ],
   "source": [
    "def addition(n):\n",
    "    return n + n\n",
    "  \n",
    "# We double all numbers using map()\n",
    "numbers = [1, 2, 3, 4]\n",
    "result = map(addition, numbers)\n",
    "print(list(result))\n"
   ]
  },
  {
   "cell_type": "code",
   "execution_count": 39,
   "id": "48444275",
   "metadata": {},
   "outputs": [
    {
     "name": "stdout",
     "output_type": "stream",
     "text": [
      "[2, 4, 6, 8]\n"
     ]
    }
   ],
   "source": [
    "numbers = [1, 2, 3, 4]\n",
    "result = map(lambda x: x + x, numbers)\n",
    "print(list(result))\n"
   ]
  },
  {
   "cell_type": "code",
   "execution_count": 40,
   "id": "35d9850d",
   "metadata": {},
   "outputs": [
    {
     "name": "stdout",
     "output_type": "stream",
     "text": [
      "[2, 4, 6, 8]\n"
     ]
    }
   ],
   "source": [
    "result = []\n",
    "for nbr in numbers:\n",
    "    result.append(addition(nbr))\n",
    "print(result)"
   ]
  },
  {
   "cell_type": "code",
   "execution_count": 7,
   "id": "7774d3a4",
   "metadata": {},
   "outputs": [
    {
     "name": "stdout",
     "output_type": "stream",
     "text": [
      "[(25, 35, 41), (29, 38, 42), (35, 47, 38), (45, 50, 36)]\n"
     ]
    }
   ],
   "source": [
    "term1Marks = [25, 29, 35, 45, 35]\n",
    "term2Marks = [35, 38, 47, 50, 47]\n",
    "term3Marks = [41, 42, 38, 36]\n",
    "marks = zip(term1Marks, term2Marks, term3Marks)\n",
    "print(list(marks))"
   ]
  },
  {
   "cell_type": "code",
   "execution_count": 2,
   "id": "2069bd1e",
   "metadata": {},
   "outputs": [
    {
     "data": {
      "text/plain": [
       "[(25, 35, 41), (29, 38, 42), (35, 47, 38), (45, 50, 48), (35, 47, 36)]"
      ]
     },
     "execution_count": 2,
     "metadata": {},
     "output_type": "execute_result"
    }
   ],
   "source": [
    "marks = []\n",
    "for idx in range(len(term1Marks)):\n",
    "    marks.append((term1Marks[idx], term2Marks[idx], term3Marks[idx]))\n",
    "marks"
   ]
  },
  {
   "cell_type": "code",
   "execution_count": 11,
   "id": "5e4ac00d",
   "metadata": {},
   "outputs": [
    {
     "data": {
      "text/plain": [
       "[33.67, 36.33, 40.0, 47.67, 39.33]"
      ]
     },
     "execution_count": 11,
     "metadata": {},
     "output_type": "execute_result"
    }
   ],
   "source": [
    "term1Marks = [25, 29, 35, 45, 35]\n",
    "term2Marks = [35, 38, 47, 50, 47]\n",
    "term3Marks = [41, 42, 38, 48, 36]\n",
    "totalmarks = []\n",
    "for idx in range(len(term1Marks)):\n",
    "    t = term1Marks[idx] + term2Marks[idx] + term3Marks[idx]\n",
    "    totalmarks.append(round(t/3,2))\n",
    "totalmarks  \n"
   ]
  },
  {
   "cell_type": "code",
   "execution_count": 13,
   "id": "d881e5b7",
   "metadata": {},
   "outputs": [
    {
     "data": {
      "text/plain": [
       "-4"
      ]
     },
     "execution_count": 13,
     "metadata": {},
     "output_type": "execute_result"
    }
   ],
   "source": [
    "#lambda parameters: expression\n",
    "\n",
    "add = lambda x, y: x+y\n",
    "add(3,7)"
   ]
  },
  {
   "cell_type": "code",
   "execution_count": null,
   "id": "40d0ed5b",
   "metadata": {},
   "outputs": [],
   "source": [
    "sub = lambda x, y: x-y\n",
    "sub(3,7)"
   ]
  },
  {
   "cell_type": "code",
   "execution_count": 16,
   "id": "db6f3de2",
   "metadata": {},
   "outputs": [
    {
     "data": {
      "text/plain": [
       "30"
      ]
     },
     "execution_count": 16,
     "metadata": {},
     "output_type": "execute_result"
    }
   ],
   "source": [
    "big = lambda a, b, c: a if a>b and a>c else b if b>c else c\n",
    "big(30, 4,6)"
   ]
  },
  {
   "cell_type": "code",
   "execution_count": 18,
   "id": "95facf1a",
   "metadata": {},
   "outputs": [
    {
     "data": {
      "text/plain": [
       "[33.67, 36.33, 40.0, 47.67, 39.33]"
      ]
     },
     "execution_count": 18,
     "metadata": {},
     "output_type": "execute_result"
    }
   ],
   "source": [
    "term1Marks = [25, 29, 35, 45, 35]\n",
    "term2Marks = [35, 38, 47, 50, 47]\n",
    "term3Marks = [41, 42, 38, 48, 36]\n",
    "\n",
    "avg = lambda m1,m2,m3: round((m1+m2+m3) / 3, 2)\n",
    "\n",
    "totalmarks = []\n",
    "for idx in range(len(term1Marks)):    \n",
    "    totalmarks.append(avg(term1Marks[idx] , term2Marks[idx] , term3Marks[idx]))\n",
    "totalmarks"
   ]
  },
  {
   "cell_type": "code",
   "execution_count": 19,
   "id": "5f54862f",
   "metadata": {},
   "outputs": [
    {
     "data": {
      "text/plain": [
       "[33.67, 36.33, 40.0, 47.67, 39.33]"
      ]
     },
     "execution_count": 19,
     "metadata": {},
     "output_type": "execute_result"
    }
   ],
   "source": [
    "term1Marks = [25, 29, 35, 45, 35]\n",
    "term2Marks = [35, 38, 47, 50, 47]\n",
    "term3Marks = [41, 42, 38, 48, 36]\n",
    "marks = list(zip(term1Marks, term2Marks, term3Marks))\n",
    "\n",
    "avg = lambda mark: round(sum(mark) / 3, 2)\n",
    "\n",
    "totalmarks = []\n",
    "for mark in marks:    \n",
    "    totalmarks.append(avg(mark))\n",
    "totalmarks"
   ]
  },
  {
   "cell_type": "code",
   "execution_count": 25,
   "id": "75f5b15c",
   "metadata": {},
   "outputs": [
    {
     "data": {
      "text/plain": [
       "[33.67, 36.33, 40.0, 47.67, 39.33]"
      ]
     },
     "execution_count": 25,
     "metadata": {},
     "output_type": "execute_result"
    }
   ],
   "source": [
    "term1Marks = [25, 29, 35, 45, 35]\n",
    "term2Marks = [35, 38, 47, 50, 47]\n",
    "term3Marks = [41, 42, 38, 48, 36]\n",
    "marks = list(zip(term1Marks, term2Marks, term3Marks))\n",
    "avg = lambda mark: round(sum(mark) / 3, 2)\n",
    "[avg(mark) for mark in marks]"
   ]
  },
  {
   "cell_type": "code",
   "execution_count": 24,
   "id": "05b2fcbd",
   "metadata": {},
   "outputs": [
    {
     "data": {
      "text/plain": [
       "[33.67, 36.33, 40.0, 47.67, 39.33]"
      ]
     },
     "execution_count": 24,
     "metadata": {},
     "output_type": "execute_result"
    }
   ],
   "source": [
    "term1Marks = [25, 29, 35, 45, 35]\n",
    "term2Marks = [35, 38, 47, 50, 47]\n",
    "term3Marks = [41, 42, 38, 48, 36]\n",
    "marks = list(zip(term1Marks, term2Marks, term3Marks))\n",
    "avg = lambda mark: round(sum(mark) / 3, 2)\n",
    "list(map(avg, marks))"
   ]
  },
  {
   "cell_type": "code",
   "execution_count": 20,
   "id": "499e340c",
   "metadata": {},
   "outputs": [
    {
     "name": "stdout",
     "output_type": "stream",
     "text": [
      "[[25, 29, 35, 45, 35], [35, 38, 47, 50, 47], [41, 42, 38, 48, 36]]\n",
      "[169, 217, 205]\n"
     ]
    }
   ],
   "source": [
    "term1Marks = [25, 29, 35, 45, 35]\n",
    "term2Marks = [35, 38, 47, 50, 47]\n",
    "term3Marks = [41, 42, 38, 48, 36]\n",
    "#marks = zip(term1Marks, term2Marks, term3Marks)\n",
    "#print(list(marks))\n",
    "marks = [term1Marks, term2Marks, term3Marks]\n",
    "print(marks)\n",
    "#def sumMarks(mark):\n",
    "#    return sum(mark)\n",
    "totalMarks = map(lambda mark: sum(mark), marks)\n",
    "#totalMarks = map(sumMarks, list(marks))\n",
    "#totalMarks = []\n",
    "#for mark in list(marks):\n",
    "#    print(mark)\n",
    "#    totalMarks.append(sumMarks(mark))\n",
    "print(list(totalMarks))"
   ]
  },
  {
   "cell_type": "code",
   "execution_count": 43,
   "id": "05a328fe",
   "metadata": {},
   "outputs": [
    {
     "data": {
      "text/plain": [
       "[50.0, 58.0, 70.0, 90.0, 70.0]"
      ]
     },
     "execution_count": 43,
     "metadata": {},
     "output_type": "execute_result"
    }
   ],
   "source": [
    "termMarks = [25, 29, 35, 45, 35]\n",
    "per = []\n",
    "for mark in termMarks:\n",
    "    percentage = round((mark * 2) / 100 * 100,2)\n",
    "    per.append(percentage)\n",
    "per"
   ]
  },
  {
   "cell_type": "code",
   "execution_count": 44,
   "id": "9910718d",
   "metadata": {},
   "outputs": [
    {
     "data": {
      "text/plain": [
       "[50.0, 58.0, 70.0, 90.0, 70.0]"
      ]
     },
     "execution_count": 44,
     "metadata": {},
     "output_type": "execute_result"
    }
   ],
   "source": [
    "termMarks = [25, 29, 35, 45, 35]\n",
    "per = [round((mark * 2) / 100 * 100,2) for mark in termMarks]\n",
    "per"
   ]
  },
  {
   "cell_type": "code",
   "execution_count": null,
   "id": "8a2d793d",
   "metadata": {},
   "outputs": [],
   "source": []
  }
 ],
 "metadata": {
  "kernelspec": {
   "display_name": "Python 3 (ipykernel)",
   "language": "python",
   "name": "python3"
  },
  "language_info": {
   "codemirror_mode": {
    "name": "ipython",
    "version": 3
   },
   "file_extension": ".py",
   "mimetype": "text/x-python",
   "name": "python",
   "nbconvert_exporter": "python",
   "pygments_lexer": "ipython3",
   "version": "3.10.9"
  }
 },
 "nbformat": 4,
 "nbformat_minor": 5
}
