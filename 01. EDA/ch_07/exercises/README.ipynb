{
 "cells": [
  {
   "cell_type": "markdown",
   "metadata": {},
   "source": [
    "# About the data\n",
    "\n",
    "| File           | Description                                                                                                                         | Source                        |\n",
    "|----------------|-------------------------------------------------------------------------------------------------------------------------------------|-------------------------------|\n",
    "| `amazon.csv`   | Amazon stock's opening, high, low, and closing price daily, along with volume traded and adjusted close for 2019 through 2020.      | The `stock_analysis` package. |\n",
    "| `apple.csv`    | Apple stock's opening, high, low, and closing price daily, along with volume traded and adjusted close for 2019 through 2020.       | The `stock_analysis` package. |\n",
    "| `bitcoin.csv`  | Bitcoin's opening, high, low, and closing price daily, along with volume traded and adjusted close for 2019 through 2020.           | The `stock_analysis` package. |\n",
    "| `facebook.csv` | Facebook stock's opening, high, low, and closing price daily, along with volume traded and adjusted close for 2019 through 2020.    | The `stock_analysis` package. |\n",
    "| `forex.csv`    | Opening, high, low, and closing USD to JPY foreign exchange rates daily for 2019 through 2020.                                      | The `stock_analysis` package. |\n",
    "| `google.csv`   | Google stock's opening, high, low, and closing price daily, along with volume traded and adjusted close for 2019 through 2020.      | The `stock_analysis` package. |\n",
    "| `netflix.csv`  | Netflix stock's opening, high, low, and closing price daily, along with volume traded and adjusted close for 2019 through 2020.     | The `stock_analysis` package. |\n",
    "| `sp500.csv`    | The S&P 500 index's opening, high, low, and closing price daily, along with volume traded and adjusted close for 2019 through 2020. | The `stock_analysis` package. |\n",
    "\n",
    "### Source\n",
    "\n",
    "The [`stock_analysis`](https://github.com/stefmolin/stock-analysis)\n",
    "package contains easy to use interfaces for basic technical analysis of\n",
    "stocks. In this chapter, we will walk through the construction of this\n",
    "package."
   ]
  }
 ],
 "nbformat": 4,
 "nbformat_minor": 5,
 "metadata": {}
}
