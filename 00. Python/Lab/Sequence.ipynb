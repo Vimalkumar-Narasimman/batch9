{
 "cells": [
  {
   "cell_type": "code",
   "execution_count": 2,
   "id": "ed486b16",
   "metadata": {},
   "outputs": [
    {
     "name": "stdout",
     "output_type": "stream",
     "text": [
      "Hello Python\n"
     ]
    }
   ],
   "source": [
    "lng = 'Python'\n",
    "lng1 = lng\n",
    "lng = 'Hello'\n",
    "print(lng, lng1)"
   ]
  },
  {
   "cell_type": "code",
   "execution_count": 5,
   "id": "87873c0d",
   "metadata": {},
   "outputs": [
    {
     "ename": "TypeError",
     "evalue": "'str' object does not support item assignment",
     "output_type": "error",
     "traceback": [
      "\u001b[1;31m---------------------------------------------------------------------------\u001b[0m",
      "\u001b[1;31mTypeError\u001b[0m                                 Traceback (most recent call last)",
      "Cell \u001b[1;32mIn[5], line 2\u001b[0m\n\u001b[0;32m      1\u001b[0m lng \u001b[38;5;241m=\u001b[39m \u001b[38;5;124m'\u001b[39m\u001b[38;5;124mPython\u001b[39m\u001b[38;5;124m'\u001b[39m\n\u001b[1;32m----> 2\u001b[0m \u001b[43mlng\u001b[49m\u001b[43m[\u001b[49m\u001b[38;5;241;43m6\u001b[39;49m\u001b[43m]\u001b[49m\u001b[38;5;241m=\u001b[39m \u001b[38;5;124m'\u001b[39m\u001b[38;5;124m3\u001b[39m\u001b[38;5;124m'\u001b[39m\n",
      "\u001b[1;31mTypeError\u001b[0m: 'str' object does not support item assignment"
     ]
    }
   ],
   "source": [
    "lng = 'Python'\n",
    "lng[6]= '3'"
   ]
  },
  {
   "cell_type": "code",
   "execution_count": 12,
   "id": "ec081fe7",
   "metadata": {},
   "outputs": [
    {
     "name": "stdout",
     "output_type": "stream",
     "text": [
      "7 1 4\n",
      "python3 p pyth\n"
     ]
    }
   ],
   "source": [
    "lng = 'python3'\n",
    "lng0 = lng[0]\n",
    "lng1=lng[0:4]\n",
    "print(len(lng),len(lng0), len(lng1))\n",
    "print(lng,lng0, lng1)"
   ]
  },
  {
   "cell_type": "code",
   "execution_count": 15,
   "id": "c388896c",
   "metadata": {},
   "outputs": [
    {
     "data": {
      "text/plain": [
       "'ty'"
      ]
     },
     "execution_count": 15,
     "metadata": {},
     "output_type": "execute_result"
    }
   ],
   "source": [
    "str = 'python'\n",
    "str[-4:-6:-1]"
   ]
  },
  {
   "cell_type": "code",
   "execution_count": 16,
   "id": "71d7e07b",
   "metadata": {},
   "outputs": [
    {
     "data": {
      "text/plain": [
       "'PYTHON'"
      ]
     },
     "execution_count": 16,
     "metadata": {},
     "output_type": "execute_result"
    }
   ],
   "source": [
    "str = 'python'\n",
    "str.upper()"
   ]
  },
  {
   "cell_type": "code",
   "execution_count": 19,
   "id": "9de47f7b",
   "metadata": {},
   "outputs": [
    {
     "name": "stdout",
     "output_type": "stream",
     "text": [
      "my name is Vimal my name is Kannan\n"
     ]
    }
   ],
   "source": [
    "str=\"my name is Vimal\"\n",
    "str1=str.replace('Vimal', \"Kannan\")\n",
    "print(str, str1)"
   ]
  },
  {
   "cell_type": "code",
   "execution_count": 20,
   "id": "d71e7710",
   "metadata": {},
   "outputs": [
    {
     "name": "stdout",
     "output_type": "stream",
     "text": [
      "m\n",
      "y\n",
      " \n",
      "n\n",
      "a\n",
      "m\n",
      "e\n",
      " \n",
      "i\n",
      "s\n",
      " \n",
      "V\n",
      "i\n",
      "m\n",
      "a\n",
      "l\n"
     ]
    }
   ],
   "source": [
    "for chr in str:\n",
    "    print(chr)"
   ]
  },
  {
   "cell_type": "code",
   "execution_count": 25,
   "id": "e1487b6e",
   "metadata": {},
   "outputs": [
    {
     "name": "stdout",
     "output_type": "stream",
     "text": [
      "<class 'list'> ['Classic', 'Ford', [10.0, 10.1, 10.2], 1992]\n",
      "<class 'list'> ['EcoSports', 'Ford', [10.0, 10.1, 10.2], 1992] Classic\n"
     ]
    }
   ],
   "source": [
    "model='Classic'\n",
    "make='Ford'\n",
    "version = [10.0,10.1,10.2]\n",
    "year=1992\n",
    "x = [model, make, version, year]\n",
    "print(type(x), x)\n",
    "x[0] = 'EcoSports'\n",
    "print(type(x), x, model)"
   ]
  },
  {
   "cell_type": "code",
   "execution_count": 27,
   "id": "c75a92fb",
   "metadata": {},
   "outputs": [
    {
     "name": "stdout",
     "output_type": "stream",
     "text": [
      "<class 'tuple'> ('Classic', 'Ford', [10.0, 10.1, 10.2], 1992)\n"
     ]
    },
    {
     "ename": "TypeError",
     "evalue": "'tuple' object does not support item assignment",
     "output_type": "error",
     "traceback": [
      "\u001b[1;31m---------------------------------------------------------------------------\u001b[0m",
      "\u001b[1;31mTypeError\u001b[0m                                 Traceback (most recent call last)",
      "Cell \u001b[1;32mIn[27], line 7\u001b[0m\n\u001b[0;32m      5\u001b[0m x \u001b[38;5;241m=\u001b[39m model, make, version, year\n\u001b[0;32m      6\u001b[0m \u001b[38;5;28mprint\u001b[39m(\u001b[38;5;28mtype\u001b[39m(x), x)\n\u001b[1;32m----> 7\u001b[0m \u001b[43mx\u001b[49m\u001b[43m[\u001b[49m\u001b[38;5;241;43m0\u001b[39;49m\u001b[43m]\u001b[49m \u001b[38;5;241m=\u001b[39m \u001b[38;5;124m'\u001b[39m\u001b[38;5;124mEcoSports\u001b[39m\u001b[38;5;124m'\u001b[39m\n\u001b[0;32m      8\u001b[0m \u001b[38;5;28mprint\u001b[39m(\u001b[38;5;28mtype\u001b[39m(x), x, model)\n",
      "\u001b[1;31mTypeError\u001b[0m: 'tuple' object does not support item assignment"
     ]
    }
   ],
   "source": [
    "model='Classic'\n",
    "make='Ford'\n",
    "version = [10.0,10.1,10.2]\n",
    "year=1992\n",
    "x = model, make, version, year\n",
    "print(type(x), x)\n",
    "x[0] = 'EcoSports'\n",
    "print(type(x), x, model)"
   ]
  },
  {
   "cell_type": "code",
   "execution_count": 32,
   "id": "41d95ede",
   "metadata": {},
   "outputs": [
    {
     "name": "stdout",
     "output_type": "stream",
     "text": [
      "<class 'set'> {'Friday', 'Thursday', 'Wednesday', 'Sunday', 'Monday', 'Saturday', 'Tuesday'}\n"
     ]
    },
    {
     "data": {
      "text/plain": [
       "{'Friday', 'Monday', 'Thursday', 'Tuesday', 'Wednesday'}"
      ]
     },
     "execution_count": 32,
     "metadata": {},
     "output_type": "execute_result"
    }
   ],
   "source": [
    "Days = {\"Monday\", \"Tuesday\", \"Wednesday\", \"Thursday\", \"Friday\", \"Saturday\", \"Sunday\"}\n",
    "print(type(Days), Day)\n",
    "WE = {\"Saturday\", \"Sunday\"}\n",
    "print(Days - WE)"
   ]
  },
  {
   "cell_type": "code",
   "execution_count": 43,
   "id": "6a395b44",
   "metadata": {},
   "outputs": [
    {
     "name": "stdout",
     "output_type": "stream",
     "text": [
      "<class 'list'> [{'brand': 'Ford', 'model': 'Mustang', 'year': 1964, 'version': [10.0, 12, 13]}, {'brand': 'Ford', 'model': 'Classic', 'year': 1984, 'version': 11}]\n",
      "<class 'dict'>\n"
     ]
    },
    {
     "data": {
      "text/plain": [
       "11"
      ]
     },
     "execution_count": 43,
     "metadata": {},
     "output_type": "execute_result"
    }
   ],
   "source": [
    "Cars= [\n",
    "    {\n",
    "\"brand\": \"Ford\",\n",
    "\"model\": \"Mustang\",\n",
    "\"year\": 1964,\n",
    "\"version\": [10.0, 12, 13]\n",
    "},\n",
    "    {\n",
    "\"brand\": \"Ford\",\n",
    "\"model\": \"Classic\",\n",
    "\"year\": 1984,\n",
    "\"version\": 11\n",
    "}\n",
    "]\n",
    "\n",
    "print(type(Cars), Cars)\n",
    "print(type(Cars[0]))\n",
    "Cars[1]['version']"
   ]
  }
 ],
 "metadata": {
  "kernelspec": {
   "display_name": "Python 3 (ipykernel)",
   "language": "python",
   "name": "python3"
  },
  "language_info": {
   "codemirror_mode": {
    "name": "ipython",
    "version": 3
   },
   "file_extension": ".py",
   "mimetype": "text/x-python",
   "name": "python",
   "nbconvert_exporter": "python",
   "pygments_lexer": "ipython3",
   "version": "3.11.1"
  }
 },
 "nbformat": 4,
 "nbformat_minor": 5
}
