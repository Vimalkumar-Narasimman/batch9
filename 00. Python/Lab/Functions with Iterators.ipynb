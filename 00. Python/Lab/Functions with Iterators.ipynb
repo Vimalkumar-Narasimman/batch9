{
 "cells": [
  {
   "cell_type": "code",
   "execution_count": 10,
   "id": "92e64c7c",
   "metadata": {},
   "outputs": [
    {
     "name": "stdout",
     "output_type": "stream",
     "text": [
      "Age rain 10.0\n",
      "['High', 'High', 'High', 'High', 'Low']\n"
     ]
    }
   ],
   "source": [
    "avgRain = 10.0\n",
    "def findRainStatus(actualRain):\n",
    "    #global avgRain\n",
    "    rainStatus = []\n",
    "    avgRain = 9\n",
    "    for ar in actualRain:\n",
    "        if ar > avgRain:\n",
    "            rainStatus.append('High')\n",
    "        else:\n",
    "            rainStatus.append('Low')\n",
    "    return rainStatus\n",
    "\n",
    "actualRain = [12, 9.4, 23.7, 34, 5.6]\n",
    "rainStatus = findRainStatus(actualRain)\n",
    "print('Age rain', avgRain)\n",
    "print(rainStatus)"
   ]
  },
  {
   "cell_type": "code",
   "execution_count": 11,
   "id": "8668c541",
   "metadata": {},
   "outputs": [
    {
     "name": "stdout",
     "output_type": "stream",
     "text": [
      "['Low', 'Low', 'High', 'High', 'Low']\n"
     ]
    }
   ],
   "source": [
    "def findRainStatus(actualRain, avgRain):\n",
    "    rainStatus = []\n",
    "    for ar in actualRain:\n",
    "        if ar > avgRain:\n",
    "            rainStatus.append('High')\n",
    "        else:\n",
    "            rainStatus.append('Low')\n",
    "    return rainStatus\n",
    "\n",
    "actualRain = [12, 9.4, 23.7, 34, 5.6]\n",
    "rainStatus = findRainStatus(actualRain, 15.0)\n",
    "print(rainStatus)"
   ]
  },
  {
   "cell_type": "code",
   "execution_count": 13,
   "id": "36a0fd91",
   "metadata": {},
   "outputs": [
    {
     "name": "stdout",
     "output_type": "stream",
     "text": [
      "[(12, 'Low'), (9.4, 'Low'), (23.7, 'High'), (34, 'High'), (5.6, 'Low')]\n"
     ]
    }
   ],
   "source": [
    "def findRainStatus(actualRain, avgRain):\n",
    "    for idx in range(0, len(actualRain)):\n",
    "        status = ''\n",
    "        if actualRain[idx] > avgRain:\n",
    "            status = 'High'\n",
    "        else:\n",
    "            status = 'Low'\n",
    "        actualRain[idx] = (actualRain[idx], status)\n",
    "    return actualRain\n",
    "\n",
    "actualRain = [12, 9.4, 23.7, 34, 5.6]\n",
    "rainStatus = findRainStatus(actualRain, 15.0)\n",
    "print(rainStatus)"
   ]
  },
  {
   "cell_type": "code",
   "execution_count": 15,
   "id": "6f0a6202",
   "metadata": {},
   "outputs": [
    {
     "name": "stdout",
     "output_type": "stream",
     "text": [
      "[(12, 'Low'), (9.4, 'Low'), (23.7, 'High'), (34, 'High'), (5.6, 'Low')]\n"
     ]
    }
   ],
   "source": [
    "def findRainStatus(actualRain, avgRain):\n",
    "    for idx in range(0, len(actualRain)):\n",
    "        status = 'High' if actualRain[idx] > avgRain else 'Low'\n",
    "        actualRain[idx] = (actualRain[idx], status)\n",
    "    return actualRain\n",
    "\n",
    "actualRain = [12, 9.4, 23.7, 34, 5.6]\n",
    "rainStatus = findRainStatus(actualRain, 15.0)\n",
    "print(rainStatus)"
   ]
  },
  {
   "cell_type": "code",
   "execution_count": 16,
   "id": "ab6e00f3",
   "metadata": {},
   "outputs": [
    {
     "name": "stdout",
     "output_type": "stream",
     "text": [
      "[(12, 'Low'), (9.4, 'Low'), (23.7, 'High'), (34, 'High'), (5.6, 'Low')]\n"
     ]
    }
   ],
   "source": [
    "def findRainStatus(actualRain, avgRain):\n",
    "    for idx in range(0, len(actualRain)):\n",
    "        actualRain[idx] = (actualRain[idx], 'High' if actualRain[idx] > avgRain else 'Low')\n",
    "    return actualRain\n",
    "\n",
    "actualRain = [12, 9.4, 23.7, 34, 5.6]\n",
    "rainStatus = findRainStatus(actualRain, 15.0)\n",
    "print(rainStatus)"
   ]
  },
  {
   "cell_type": "code",
   "execution_count": 26,
   "id": "397e4c1d",
   "metadata": {},
   "outputs": [
    {
     "name": "stdout",
     "output_type": "stream",
     "text": [
      "[{'Rain': 12, 'Status': 'Low'}, {'Rain': 9.4, 'Status': 'Low'}, {'Rain': 23.7, 'Status': 'High'}, {'Rain': 34, 'Status': 'High'}, {'Rain': 5.6, 'Status': 'Low'}]\n",
      "[{'Rain': 12, 'Status': 'Low'}, {'Rain': 9.4, 'Status': 'Low'}, {'Rain': 23.7, 'Status': 'High'}, {'Rain': 34, 'Status': 'High'}, {'Rain': 5.6, 'Status': 'Low'}]\n"
     ]
    }
   ],
   "source": [
    "def findRainStatus(actualRain, avgRain = 10.0):\n",
    "    for idx in range(0, len(actualRain)):\n",
    "        actualRain[idx] = {'Rain': actualRain[idx], 'Status': 'High' if actualRain[idx] > avgRain else 'Low'}\n",
    "    return actualRain\n",
    "\n",
    "actualRain = [12, 9.4, 23.7, 34, 5.6]\n",
    "rainStatus = findRainStatus(actualRain, 15.0)\n",
    "print(rainStatus)\n",
    "print(actualRain)\n",
    "#rainStatus = findRainStatus(actualRain)\n",
    "#print(rainStatus)"
   ]
  },
  {
   "cell_type": "code",
   "execution_count": 27,
   "id": "925f7aac",
   "metadata": {},
   "outputs": [
    {
     "name": "stdout",
     "output_type": "stream",
     "text": [
      "[{'Rain': 12, 'Status': 'Low'}, {'Rain': 9.4, 'Status': 'Low'}, {'Rain': 23.7, 'Status': 'High'}, {'Rain': 34, 'Status': 'High'}, {'Rain': 5.6, 'Status': 'Low'}]\n",
      "[{'Rain': 12, 'Status': 'High'}, {'Rain': 9.4, 'Status': 'Low'}, {'Rain': 23.7, 'Status': 'High'}, {'Rain': 34, 'Status': 'High'}, {'Rain': 5.6, 'Status': 'Low'}]\n"
     ]
    }
   ],
   "source": [
    "def findRainStatus(actualRain, avgRain = 10.0):\n",
    "    for idx in range(0, len(actualRain)):\n",
    "        actualRain[idx] = {'Rain': actualRain[idx], 'Status': 'High' if actualRain[idx] > avgRain else 'Low'}\n",
    "    return actualRain\n",
    "\n",
    "actualRain = [12, 9.4, 23.7, 34, 5.6]\n",
    "rainStatus = findRainStatus(actualRain[:], 15.0)\n",
    "print(rainStatus)\n",
    "rainStatus = findRainStatus(actualRain[:])\n",
    "print(rainStatus)"
   ]
  },
  {
   "cell_type": "code",
   "execution_count": 29,
   "id": "1cfe5651",
   "metadata": {},
   "outputs": [
    {
     "name": "stdout",
     "output_type": "stream",
     "text": [
      "<class 'tuple'> (10, 20)\n"
     ]
    }
   ],
   "source": [
    "x = 10, 20\n",
    "print(type(x), x)"
   ]
  },
  {
   "cell_type": "code",
   "execution_count": 32,
   "id": "dbfa0a6c",
   "metadata": {},
   "outputs": [
    {
     "name": "stdout",
     "output_type": "stream",
     "text": [
      "<class 'tuple'>\n",
      "158\n"
     ]
    }
   ],
   "source": [
    "def findTotal(*nbrs):\n",
    "    print(type(nbrs))\n",
    "    return sum(nbrs)\n",
    "\n",
    "total = findTotal(34, 23, 56, 45)\n",
    "print(total)"
   ]
  },
  {
   "cell_type": "code",
   "execution_count": 36,
   "id": "83784836",
   "metadata": {},
   "outputs": [
    {
     "name": "stdout",
     "output_type": "stream",
     "text": [
      "<class 'dict'>\n",
      "{'tam': 34, 'eng': 23, 'mat': 56, 'sci': 45}\n",
      "tam 34\n",
      "eng 23\n",
      "mat 56\n",
      "sci 45\n"
     ]
    }
   ],
   "source": [
    "def findTotal(**data):\n",
    "    print(type(data))\n",
    "    print(data)\n",
    "    for k, v in data.items():\n",
    "        print(k,v)\n",
    "\n",
    "findTotal(tam=34, eng=23, mat=56, sci=45)\n"
   ]
  },
  {
   "cell_type": "code",
   "execution_count": 44,
   "id": "a9484444",
   "metadata": {},
   "outputs": [
    {
     "name": "stdout",
     "output_type": "stream",
     "text": [
      "[28, 50, 94]\n"
     ]
    }
   ],
   "source": [
    "import math as m\n",
    "rads = [3, 4, 5.5]\n",
    "area = list(map(lambda r : m.floor(3.14 * r * r), rads))\n",
    "print(area)"
   ]
  },
  {
   "cell_type": "code",
   "execution_count": null,
   "id": "3366296c",
   "metadata": {},
   "outputs": [],
   "source": [
    "[1,2,3,4]\n",
    "[(1,2),(1,3),(1,4),(2,3),(2,4)(3,4)]"
   ]
  }
 ],
 "metadata": {
  "kernelspec": {
   "display_name": "Python 3 (ipykernel)",
   "language": "python",
   "name": "python3"
  },
  "language_info": {
   "codemirror_mode": {
    "name": "ipython",
    "version": 3
   },
   "file_extension": ".py",
   "mimetype": "text/x-python",
   "name": "python",
   "nbconvert_exporter": "python",
   "pygments_lexer": "ipython3",
   "version": "3.10.9"
  }
 },
 "nbformat": 4,
 "nbformat_minor": 5
}
