{
 "cells": [
  {
   "cell_type": "code",
   "execution_count": 12,
   "id": "b596f5bd",
   "metadata": {},
   "outputs": [],
   "source": [
    "students = [  \n",
    "   {  \n",
    "      \"name\":\"arun\",\n",
    "      \"gender\":\"Male\",\n",
    "      \"marks\":[56,67,87,65,43]\n",
    "   },\n",
    "   {  \n",
    "      \"name\":\"rajesh\",\n",
    "      \"gender\":\"Male\",\n",
    "      \"marks\":[12,43,23,40,43]\n",
    "   },\n",
    "   {  \n",
    "      \"name\":\"moorthy\",\n",
    "      \"gender\":\"Male\",\n",
    "      \"marks\":[56,78,87,54,65]\n",
    "   },\n",
    "   {  \n",
    "      \"name\":\"raja\",\n",
    "      \"gender\":\"Male\",\n",
    "      \"marks\":[67,34,87,56,78]\n",
    "   },\n",
    "   {  \n",
    "      \"name\":\"usha\",\n",
    "      \"gender\":\"Female\",\n",
    "      \"marks\":[17,12,42,23,43]\n",
    "   },\n",
    "   {  \n",
    "      \"name\":\"priya\",\n",
    "      \"gender\":\"Female\",\n",
    "      \"marks\":[75,67,87,65,85]\n",
    "   },\n",
    "   {  \n",
    "      \"name\":\"Sundar\",\n",
    "      \"gender\":\"Male\",\n",
    "      \"marks\":[56,67,87,65,67]\n",
    "   },\n",
    "   {  \n",
    "      \"name\":\"Kavitha\",\n",
    "      \"gender\":\"Female\",\n",
    "      \"marks\":[65,67,64,65,62]\n",
    "   },\n",
    "   {  \n",
    "      \"name\":\"Dinesh\",\n",
    "      \"gender\":\"Male\",\n",
    "      \"marks\":[56,67,87,65,56]\n",
    "   },\n",
    "   {  \n",
    "      \"name\":\"Hema\",\n",
    "      \"gender\":\"Female\",\n",
    "      \"marks\":[78,98,79,75,83]\n",
    "   },\n",
    "   {  \n",
    "      \"name\":\"Gowri\",\n",
    "      \"gender\":\"Female\",\n",
    "      \"marks\":[88,90,87,89,87]\n",
    "   },\n",
    "   {  \n",
    "      \"name\":\"Ram\",\n",
    "      \"gender\":\"Male\",\n",
    "      \"marks\":[56,89,54,65,67]\n",
    "   },\n",
    "   {  \n",
    "      \"name\":\"Murugan\",\n",
    "      \"gender\":\"Male\",\n",
    "      \"marks\":[67,98,87,87,56]\n",
    "   },\n",
    "   {  \n",
    "      \"name\":\"Jenifer\",\n",
    "      \"gender\":\"Female\",\n",
    "      \"marks\":[67,45,46,43,23]\n",
    "   }\n",
    "]"
   ]
  },
  {
   "cell_type": "code",
   "execution_count": 2,
   "id": "b2ee4974",
   "metadata": {},
   "outputs": [
    {
     "data": {
      "text/plain": [
       "14"
      ]
     },
     "execution_count": 2,
     "metadata": {},
     "output_type": "execute_result"
    }
   ],
   "source": [
    "len(students)"
   ]
  },
  {
   "cell_type": "code",
   "execution_count": 13,
   "id": "dea8f9f0",
   "metadata": {},
   "outputs": [
    {
     "name": "stdout",
     "output_type": "stream",
     "text": [
      "{'name': 'arun', 'gender': 'Male', 'marks': [56, 67, 87, 65, 43], 'total': 318, 'result': 'Fail'}\n",
      "{'name': 'rajesh', 'gender': 'Male', 'marks': [12, 43, 23, 40, 43], 'total': 161, 'result': 'Fail'}\n",
      "{'name': 'moorthy', 'gender': 'Male', 'marks': [56, 78, 87, 54, 65], 'total': 340, 'result': 'Pass', 'percentage': 68.0}\n",
      "{'name': 'raja', 'gender': 'Male', 'marks': [67, 34, 87, 56, 78], 'total': 322, 'result': 'Fail'}\n",
      "{'name': 'usha', 'gender': 'Female', 'marks': [17, 12, 42, 23, 43], 'total': 137, 'result': 'Fail'}\n",
      "{'name': 'priya', 'gender': 'Female', 'marks': [75, 67, 87, 65, 85], 'total': 379, 'result': 'Pass', 'percentage': 75.8}\n",
      "{'name': 'Sundar', 'gender': 'Male', 'marks': [56, 67, 87, 65, 67], 'total': 342, 'result': 'Pass', 'percentage': 68.4}\n",
      "{'name': 'Kavitha', 'gender': 'Female', 'marks': [65, 67, 64, 65, 62], 'total': 323, 'result': 'Pass', 'percentage': 64.6}\n",
      "{'name': 'Dinesh', 'gender': 'Male', 'marks': [56, 67, 87, 65, 56], 'total': 331, 'result': 'Pass', 'percentage': 66.2}\n",
      "{'name': 'Hema', 'gender': 'Female', 'marks': [78, 98, 79, 75, 83], 'total': 413, 'result': 'Pass', 'percentage': 82.6}\n",
      "{'name': 'Gowri', 'gender': 'Female', 'marks': [88, 90, 87, 89, 87], 'total': 441, 'result': 'Pass', 'percentage': 88.2}\n",
      "{'name': 'Ram', 'gender': 'Male', 'marks': [56, 89, 54, 65, 67], 'total': 331, 'result': 'Pass', 'percentage': 66.2}\n",
      "{'name': 'Murugan', 'gender': 'Male', 'marks': [67, 98, 87, 87, 56], 'total': 395, 'result': 'Pass', 'percentage': 79.0}\n",
      "{'name': 'Jenifer', 'gender': 'Female', 'marks': [67, 45, 46, 43, 23], 'total': 224, 'result': 'Fail'}\n"
     ]
    }
   ],
   "source": [
    "passMark = 45\n",
    "for student in students:\n",
    "    #print(student)\n",
    "    student['total'] = sum(student['marks'])\n",
    "    for mark in student['marks']:\n",
    "        if mark < passMark:\n",
    "            student['result'] = 'Fail'\n",
    "            break\n",
    "    else:\n",
    "        student['result'] = 'Pass'\n",
    "    if student['result'] == 'Pass':\n",
    "        student['percentage'] = sum(student['marks'])/len(student['marks'])\n",
    "    print(student)"
   ]
  },
  {
   "cell_type": "code",
   "execution_count": null,
   "id": "ec4eacc7",
   "metadata": {},
   "outputs": [],
   "source": []
  }
 ],
 "metadata": {
  "kernelspec": {
   "display_name": "Python 3 (ipykernel)",
   "language": "python",
   "name": "python3"
  },
  "language_info": {
   "codemirror_mode": {
    "name": "ipython",
    "version": 3
   },
   "file_extension": ".py",
   "mimetype": "text/x-python",
   "name": "python",
   "nbconvert_exporter": "python",
   "pygments_lexer": "ipython3",
   "version": "3.10.9"
  }
 },
 "nbformat": 4,
 "nbformat_minor": 5
}
