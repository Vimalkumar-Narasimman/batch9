{
 "cells": [
  {
   "cell_type": "code",
   "execution_count": 1,
   "id": "cc3c7287",
   "metadata": {
    "_cell_guid": "b1076dfc-b9ad-4769-8c92-a6c4dae69d19",
    "_uuid": "8f2839f25d086af736a60e9eeb907d3b93b6e0e5",
    "execution": {
     "iopub.execute_input": "2023-08-07T15:33:47.926395Z",
     "iopub.status.busy": "2023-08-07T15:33:47.925943Z",
     "iopub.status.idle": "2023-08-07T15:33:47.942121Z",
     "shell.execute_reply": "2023-08-07T15:33:47.941077Z"
    },
    "papermill": {
     "duration": 0.026057,
     "end_time": "2023-08-07T15:33:47.944510",
     "exception": false,
     "start_time": "2023-08-07T15:33:47.918453",
     "status": "completed"
    },
    "tags": []
   },
   "outputs": [
    {
     "name": "stdout",
     "output_type": "stream",
     "text": [
      "/kaggle/input/unicorn-startup-companies-july-2023/unicorn_startup_companies.csv\n"
     ]
    }
   ],
   "source": [
    "# This Python 3 environment comes with many helpful analytics libraries installed\n",
    "# It is defined by the kaggle/python Docker image: https://github.com/kaggle/docker-python\n",
    "# For example, here's several helpful packages to load\n",
    "\n",
    "import numpy as np # linear algebra\n",
    "import pandas as pd # data processing, CSV file I/O (e.g. pd.read_csv)\n",
    "\n",
    "# Input data files are available in the read-only \"../input/\" directory\n",
    "# For example, running this (by clicking run or pressing Shift+Enter) will list all files under the input directory\n",
    "\n",
    "import os\n",
    "for dirname, _, filenames in os.walk('/kaggle/input'):\n",
    "    for filename in filenames:\n",
    "        print(os.path.join(dirname, filename))\n",
    "\n",
    "# You can write up to 20GB to the current directory (/kaggle/working/) that gets preserved as output when you create a version using \"Save & Run All\" \n",
    "# You can also write temporary files to /kaggle/temp/, but they won't be saved outside of the current session"
   ]
  },
  {
   "cell_type": "code",
   "execution_count": 2,
   "id": "dd908032",
   "metadata": {
    "execution": {
     "iopub.execute_input": "2023-08-07T15:33:47.957431Z",
     "iopub.status.busy": "2023-08-07T15:33:47.956501Z",
     "iopub.status.idle": "2023-08-07T15:33:48.000934Z",
     "shell.execute_reply": "2023-08-07T15:33:47.999080Z"
    },
    "papermill": {
     "duration": 0.054014,
     "end_time": "2023-08-07T15:33:48.003823",
     "exception": false,
     "start_time": "2023-08-07T15:33:47.949809",
     "status": "completed"
    },
    "tags": []
   },
   "outputs": [
    {
     "data": {
      "text/html": [
       "<div>\n",
       "<style scoped>\n",
       "    .dataframe tbody tr th:only-of-type {\n",
       "        vertical-align: middle;\n",
       "    }\n",
       "\n",
       "    .dataframe tbody tr th {\n",
       "        vertical-align: top;\n",
       "    }\n",
       "\n",
       "    .dataframe thead th {\n",
       "        text-align: right;\n",
       "    }\n",
       "</style>\n",
       "<table border=\"1\" class=\"dataframe\">\n",
       "  <thead>\n",
       "    <tr style=\"text-align: right;\">\n",
       "      <th></th>\n",
       "      <th>Unnamed: 0</th>\n",
       "      <th>Company</th>\n",
       "      <th>Valuation ($B)</th>\n",
       "      <th>Date Joined</th>\n",
       "      <th>Country</th>\n",
       "      <th>City</th>\n",
       "      <th>Industry</th>\n",
       "      <th>Select Investors</th>\n",
       "    </tr>\n",
       "  </thead>\n",
       "  <tbody>\n",
       "    <tr>\n",
       "      <th>0</th>\n",
       "      <td>0</td>\n",
       "      <td>ByteDance</td>\n",
       "      <td>$225</td>\n",
       "      <td>4/7/2017</td>\n",
       "      <td>China</td>\n",
       "      <td>Beijing</td>\n",
       "      <td>Media &amp; Entertainment</td>\n",
       "      <td>Sequoia Capital China, SIG Asia Investments, S...</td>\n",
       "    </tr>\n",
       "    <tr>\n",
       "      <th>1</th>\n",
       "      <td>1</td>\n",
       "      <td>SpaceX</td>\n",
       "      <td>$137</td>\n",
       "      <td>12/1/2012</td>\n",
       "      <td>United States</td>\n",
       "      <td>Hawthorne</td>\n",
       "      <td>Industrials</td>\n",
       "      <td>Founders Fund, Draper Fisher Jurvetson, Rothen...</td>\n",
       "    </tr>\n",
       "    <tr>\n",
       "      <th>2</th>\n",
       "      <td>2</td>\n",
       "      <td>SHEIN</td>\n",
       "      <td>$66</td>\n",
       "      <td>7/3/2018</td>\n",
       "      <td>China</td>\n",
       "      <td>Shenzhen</td>\n",
       "      <td>Consumer &amp; Retail</td>\n",
       "      <td>Tiger Global Management, Sequoia Capital China...</td>\n",
       "    </tr>\n",
       "    <tr>\n",
       "      <th>3</th>\n",
       "      <td>3</td>\n",
       "      <td>Stripe</td>\n",
       "      <td>$50</td>\n",
       "      <td>1/23/2014</td>\n",
       "      <td>United States</td>\n",
       "      <td>San Francisco</td>\n",
       "      <td>Financial Services</td>\n",
       "      <td>Khosla Ventures, LowercaseCapital, capitalG</td>\n",
       "    </tr>\n",
       "    <tr>\n",
       "      <th>4</th>\n",
       "      <td>4</td>\n",
       "      <td>Canva</td>\n",
       "      <td>$40</td>\n",
       "      <td>1/8/2018</td>\n",
       "      <td>Australia</td>\n",
       "      <td>Surry Hills</td>\n",
       "      <td>Enterprise Tech</td>\n",
       "      <td>Sequoia Capital China, Blackbird Ventures, Mat...</td>\n",
       "    </tr>\n",
       "  </tbody>\n",
       "</table>\n",
       "</div>"
      ],
      "text/plain": [
       "   Unnamed: 0    Company Valuation ($B) Date Joined        Country  \\\n",
       "0           0  ByteDance           $225    4/7/2017          China   \n",
       "1           1     SpaceX           $137   12/1/2012  United States   \n",
       "2           2      SHEIN            $66    7/3/2018          China   \n",
       "3           3     Stripe            $50   1/23/2014  United States   \n",
       "4           4      Canva            $40    1/8/2018      Australia   \n",
       "\n",
       "            City               Industry  \\\n",
       "0        Beijing  Media & Entertainment   \n",
       "1      Hawthorne            Industrials   \n",
       "2       Shenzhen      Consumer & Retail   \n",
       "3  San Francisco     Financial Services   \n",
       "4    Surry Hills        Enterprise Tech   \n",
       "\n",
       "                                    Select Investors  \n",
       "0  Sequoia Capital China, SIG Asia Investments, S...  \n",
       "1  Founders Fund, Draper Fisher Jurvetson, Rothen...  \n",
       "2  Tiger Global Management, Sequoia Capital China...  \n",
       "3        Khosla Ventures, LowercaseCapital, capitalG  \n",
       "4  Sequoia Capital China, Blackbird Ventures, Mat...  "
      ]
     },
     "execution_count": 2,
     "metadata": {},
     "output_type": "execute_result"
    }
   ],
   "source": [
    "df = pd.read_csv('/kaggle/input/unicorn-startup-companies-july-2023/unicorn_startup_companies.csv')\n",
    "df.head()"
   ]
  },
  {
   "cell_type": "code",
   "execution_count": 3,
   "id": "4215e7c2",
   "metadata": {
    "execution": {
     "iopub.execute_input": "2023-08-07T15:33:48.016203Z",
     "iopub.status.busy": "2023-08-07T15:33:48.015798Z",
     "iopub.status.idle": "2023-08-07T15:33:48.023144Z",
     "shell.execute_reply": "2023-08-07T15:33:48.021713Z"
    },
    "papermill": {
     "duration": 0.016779,
     "end_time": "2023-08-07T15:33:48.025964",
     "exception": false,
     "start_time": "2023-08-07T15:33:48.009185",
     "status": "completed"
    },
    "tags": []
   },
   "outputs": [
    {
     "data": {
      "text/plain": [
       "(1221, 8)"
      ]
     },
     "execution_count": 3,
     "metadata": {},
     "output_type": "execute_result"
    }
   ],
   "source": [
    "df.shape"
   ]
  },
  {
   "cell_type": "markdown",
   "id": "18f0f479",
   "metadata": {
    "papermill": {
     "duration": 0.004921,
     "end_time": "2023-08-07T15:33:48.036511",
     "exception": false,
     "start_time": "2023-08-07T15:33:48.031590",
     "status": "completed"
    },
    "tags": []
   },
   "source": [
    "unicorn_startup_companies dataframe have 1221 rows and 8 columns"
   ]
  },
  {
   "cell_type": "code",
   "execution_count": 4,
   "id": "ac0ab8d9",
   "metadata": {
    "execution": {
     "iopub.execute_input": "2023-08-07T15:33:48.048631Z",
     "iopub.status.busy": "2023-08-07T15:33:48.048243Z",
     "iopub.status.idle": "2023-08-07T15:33:48.076436Z",
     "shell.execute_reply": "2023-08-07T15:33:48.074979Z"
    },
    "papermill": {
     "duration": 0.037203,
     "end_time": "2023-08-07T15:33:48.078834",
     "exception": false,
     "start_time": "2023-08-07T15:33:48.041631",
     "status": "completed"
    },
    "tags": []
   },
   "outputs": [
    {
     "name": "stdout",
     "output_type": "stream",
     "text": [
      "<class 'pandas.core.frame.DataFrame'>\n",
      "RangeIndex: 1221 entries, 0 to 1220\n",
      "Data columns (total 8 columns):\n",
      " #   Column            Non-Null Count  Dtype \n",
      "---  ------            --------------  ----- \n",
      " 0   Unnamed: 0        1221 non-null   int64 \n",
      " 1   Company           1221 non-null   object\n",
      " 2   Valuation ($B)    1221 non-null   object\n",
      " 3   Date Joined       1221 non-null   object\n",
      " 4   Country           1221 non-null   object\n",
      " 5   City              1203 non-null   object\n",
      " 6   Industry          1221 non-null   object\n",
      " 7   Select Investors  1219 non-null   object\n",
      "dtypes: int64(1), object(7)\n",
      "memory usage: 76.4+ KB\n"
     ]
    }
   ],
   "source": [
    "df.info()"
   ]
  },
  {
   "cell_type": "markdown",
   "id": "f5b45ab2",
   "metadata": {
    "papermill": {
     "duration": 0.00502,
     "end_time": "2023-08-07T15:33:48.089360",
     "exception": false,
     "start_time": "2023-08-07T15:33:48.084340",
     "status": "completed"
    },
    "tags": []
   },
   "source": [
    "unicorn_startup_companies dataframe have 1 interger column and 7 object columns. in this 1 column is date and time format"
   ]
  },
  {
   "cell_type": "code",
   "execution_count": 5,
   "id": "fb69aad5",
   "metadata": {
    "execution": {
     "iopub.execute_input": "2023-08-07T15:33:48.102664Z",
     "iopub.status.busy": "2023-08-07T15:33:48.102152Z",
     "iopub.status.idle": "2023-08-07T15:33:48.108468Z",
     "shell.execute_reply": "2023-08-07T15:33:48.107623Z"
    },
    "papermill": {
     "duration": 0.017101,
     "end_time": "2023-08-07T15:33:48.111873",
     "exception": false,
     "start_time": "2023-08-07T15:33:48.094772",
     "status": "completed"
    },
    "tags": []
   },
   "outputs": [
    {
     "data": {
      "text/plain": [
       "1216"
      ]
     },
     "execution_count": 5,
     "metadata": {},
     "output_type": "execute_result"
    }
   ],
   "source": [
    "df['Company'].nunique()"
   ]
  },
  {
   "cell_type": "markdown",
   "id": "18bfa173",
   "metadata": {
    "papermill": {
     "duration": 0.006696,
     "end_time": "2023-08-07T15:33:48.124410",
     "exception": false,
     "start_time": "2023-08-07T15:33:48.117714",
     "status": "completed"
    },
    "tags": []
   },
   "source": [
    "Company column have 1216 unique rows"
   ]
  },
  {
   "cell_type": "code",
   "execution_count": 6,
   "id": "7c8fde5d",
   "metadata": {
    "execution": {
     "iopub.execute_input": "2023-08-07T15:33:48.137041Z",
     "iopub.status.busy": "2023-08-07T15:33:48.136647Z",
     "iopub.status.idle": "2023-08-07T15:33:48.145027Z",
     "shell.execute_reply": "2023-08-07T15:33:48.143810Z"
    },
    "papermill": {
     "duration": 0.017935,
     "end_time": "2023-08-07T15:33:48.147870",
     "exception": false,
     "start_time": "2023-08-07T15:33:48.129935",
     "status": "completed"
    },
    "tags": []
   },
   "outputs": [
    {
     "data": {
      "text/plain": [
       "735"
      ]
     },
     "execution_count": 6,
     "metadata": {},
     "output_type": "execute_result"
    }
   ],
   "source": [
    "df['Date Joined'].nunique()"
   ]
  },
  {
   "cell_type": "code",
   "execution_count": 7,
   "id": "bf101e1f",
   "metadata": {
    "execution": {
     "iopub.execute_input": "2023-08-07T15:33:48.161566Z",
     "iopub.status.busy": "2023-08-07T15:33:48.161190Z",
     "iopub.status.idle": "2023-08-07T15:33:48.174885Z",
     "shell.execute_reply": "2023-08-07T15:33:48.173542Z"
    },
    "papermill": {
     "duration": 0.023066,
     "end_time": "2023-08-07T15:33:48.177428",
     "exception": false,
     "start_time": "2023-08-07T15:33:48.154362",
     "status": "completed"
    },
    "tags": []
   },
   "outputs": [
    {
     "data": {
      "text/plain": [
       "Unnamed: 0          1221\n",
       "Company             1216\n",
       "Valuation ($B)       226\n",
       "Date Joined          735\n",
       "Country               51\n",
       "City                 289\n",
       "Industry               7\n",
       "Select Investors    1200\n",
       "dtype: int64"
      ]
     },
     "execution_count": 7,
     "metadata": {},
     "output_type": "execute_result"
    }
   ],
   "source": [
    "df.nunique()"
   ]
  },
  {
   "cell_type": "markdown",
   "id": "2c660169",
   "metadata": {
    "papermill": {
     "duration": 0.005453,
     "end_time": "2023-08-07T15:33:48.188810",
     "exception": false,
     "start_time": "2023-08-07T15:33:48.183357",
     "status": "completed"
    },
    "tags": []
   },
   "source": [
    "Remove unwanted column 'unnamed: 0'"
   ]
  },
  {
   "cell_type": "code",
   "execution_count": 8,
   "id": "5765e1b3",
   "metadata": {
    "execution": {
     "iopub.execute_input": "2023-08-07T15:33:48.202045Z",
     "iopub.status.busy": "2023-08-07T15:33:48.201656Z",
     "iopub.status.idle": "2023-08-07T15:33:48.214074Z",
     "shell.execute_reply": "2023-08-07T15:33:48.212596Z"
    },
    "papermill": {
     "duration": 0.021655,
     "end_time": "2023-08-07T15:33:48.216432",
     "exception": false,
     "start_time": "2023-08-07T15:33:48.194777",
     "status": "completed"
    },
    "tags": []
   },
   "outputs": [
    {
     "data": {
      "text/html": [
       "<div>\n",
       "<style scoped>\n",
       "    .dataframe tbody tr th:only-of-type {\n",
       "        vertical-align: middle;\n",
       "    }\n",
       "\n",
       "    .dataframe tbody tr th {\n",
       "        vertical-align: top;\n",
       "    }\n",
       "\n",
       "    .dataframe thead th {\n",
       "        text-align: right;\n",
       "    }\n",
       "</style>\n",
       "<table border=\"1\" class=\"dataframe\">\n",
       "  <thead>\n",
       "    <tr style=\"text-align: right;\">\n",
       "      <th></th>\n",
       "      <th>Company</th>\n",
       "      <th>Valuation ($B)</th>\n",
       "      <th>Date Joined</th>\n",
       "      <th>Country</th>\n",
       "      <th>City</th>\n",
       "      <th>Industry</th>\n",
       "    </tr>\n",
       "  </thead>\n",
       "  <tbody>\n",
       "    <tr>\n",
       "      <th>0</th>\n",
       "      <td>ByteDance</td>\n",
       "      <td>$225</td>\n",
       "      <td>4/7/2017</td>\n",
       "      <td>China</td>\n",
       "      <td>Beijing</td>\n",
       "      <td>Media &amp; Entertainment</td>\n",
       "    </tr>\n",
       "    <tr>\n",
       "      <th>1</th>\n",
       "      <td>SpaceX</td>\n",
       "      <td>$137</td>\n",
       "      <td>12/1/2012</td>\n",
       "      <td>United States</td>\n",
       "      <td>Hawthorne</td>\n",
       "      <td>Industrials</td>\n",
       "    </tr>\n",
       "    <tr>\n",
       "      <th>2</th>\n",
       "      <td>SHEIN</td>\n",
       "      <td>$66</td>\n",
       "      <td>7/3/2018</td>\n",
       "      <td>China</td>\n",
       "      <td>Shenzhen</td>\n",
       "      <td>Consumer &amp; Retail</td>\n",
       "    </tr>\n",
       "    <tr>\n",
       "      <th>3</th>\n",
       "      <td>Stripe</td>\n",
       "      <td>$50</td>\n",
       "      <td>1/23/2014</td>\n",
       "      <td>United States</td>\n",
       "      <td>San Francisco</td>\n",
       "      <td>Financial Services</td>\n",
       "    </tr>\n",
       "    <tr>\n",
       "      <th>4</th>\n",
       "      <td>Canva</td>\n",
       "      <td>$40</td>\n",
       "      <td>1/8/2018</td>\n",
       "      <td>Australia</td>\n",
       "      <td>Surry Hills</td>\n",
       "      <td>Enterprise Tech</td>\n",
       "    </tr>\n",
       "  </tbody>\n",
       "</table>\n",
       "</div>"
      ],
      "text/plain": [
       "     Company Valuation ($B) Date Joined        Country           City  \\\n",
       "0  ByteDance           $225    4/7/2017          China        Beijing   \n",
       "1     SpaceX           $137   12/1/2012  United States      Hawthorne   \n",
       "2      SHEIN            $66    7/3/2018          China       Shenzhen   \n",
       "3     Stripe            $50   1/23/2014  United States  San Francisco   \n",
       "4      Canva            $40    1/8/2018      Australia    Surry Hills   \n",
       "\n",
       "                Industry  \n",
       "0  Media & Entertainment  \n",
       "1            Industrials  \n",
       "2      Consumer & Retail  \n",
       "3     Financial Services  \n",
       "4        Enterprise Tech  "
      ]
     },
     "execution_count": 8,
     "metadata": {},
     "output_type": "execute_result"
    }
   ],
   "source": [
    "df = df.drop(['Unnamed: 0', 'Select Investors'], axis=1)\n",
    "df.head()"
   ]
  },
  {
   "cell_type": "markdown",
   "id": "722bf77b",
   "metadata": {
    "papermill": {
     "duration": 0.005514,
     "end_time": "2023-08-07T15:33:48.227969",
     "exception": false,
     "start_time": "2023-08-07T15:33:48.222455",
     "status": "completed"
    },
    "tags": []
   },
   "source": [
    "\"Date Joined\" column is object type and it is having date. Hence converting DateTime object"
   ]
  },
  {
   "cell_type": "code",
   "execution_count": 9,
   "id": "45387178",
   "metadata": {
    "execution": {
     "iopub.execute_input": "2023-08-07T15:33:48.242277Z",
     "iopub.status.busy": "2023-08-07T15:33:48.241867Z",
     "iopub.status.idle": "2023-08-07T15:33:48.259432Z",
     "shell.execute_reply": "2023-08-07T15:33:48.258196Z"
    },
    "papermill": {
     "duration": 0.028108,
     "end_time": "2023-08-07T15:33:48.261992",
     "exception": false,
     "start_time": "2023-08-07T15:33:48.233884",
     "status": "completed"
    },
    "tags": []
   },
   "outputs": [
    {
     "name": "stdout",
     "output_type": "stream",
     "text": [
      "<class 'pandas.core.frame.DataFrame'>\n",
      "RangeIndex: 1221 entries, 0 to 1220\n",
      "Data columns (total 6 columns):\n",
      " #   Column          Non-Null Count  Dtype         \n",
      "---  ------          --------------  -----         \n",
      " 0   Company         1221 non-null   object        \n",
      " 1   Valuation ($B)  1221 non-null   object        \n",
      " 2   Date Joined     1221 non-null   datetime64[ns]\n",
      " 3   Country         1221 non-null   object        \n",
      " 4   City            1203 non-null   object        \n",
      " 5   Industry        1221 non-null   object        \n",
      "dtypes: datetime64[ns](1), object(5)\n",
      "memory usage: 57.4+ KB\n"
     ]
    }
   ],
   "source": [
    "df['Date Joined'] = pd.to_datetime(df['Date Joined'])\n",
    "df.info()"
   ]
  },
  {
   "cell_type": "code",
   "execution_count": 10,
   "id": "7d732f78",
   "metadata": {
    "execution": {
     "iopub.execute_input": "2023-08-07T15:33:48.277358Z",
     "iopub.status.busy": "2023-08-07T15:33:48.276969Z",
     "iopub.status.idle": "2023-08-07T15:33:48.288553Z",
     "shell.execute_reply": "2023-08-07T15:33:48.287593Z"
    },
    "papermill": {
     "duration": 0.022157,
     "end_time": "2023-08-07T15:33:48.290418",
     "exception": false,
     "start_time": "2023-08-07T15:33:48.268261",
     "status": "completed"
    },
    "tags": []
   },
   "outputs": [
    {
     "data": {
      "text/html": [
       "<div>\n",
       "<style scoped>\n",
       "    .dataframe tbody tr th:only-of-type {\n",
       "        vertical-align: middle;\n",
       "    }\n",
       "\n",
       "    .dataframe tbody tr th {\n",
       "        vertical-align: top;\n",
       "    }\n",
       "\n",
       "    .dataframe thead th {\n",
       "        text-align: right;\n",
       "    }\n",
       "</style>\n",
       "<table border=\"1\" class=\"dataframe\">\n",
       "  <thead>\n",
       "    <tr style=\"text-align: right;\">\n",
       "      <th></th>\n",
       "      <th>Company</th>\n",
       "      <th>Valuation ($B)</th>\n",
       "      <th>Date Joined</th>\n",
       "      <th>Country</th>\n",
       "      <th>City</th>\n",
       "      <th>Industry</th>\n",
       "    </tr>\n",
       "  </thead>\n",
       "  <tbody>\n",
       "    <tr>\n",
       "      <th>0</th>\n",
       "      <td>ByteDance</td>\n",
       "      <td>$225</td>\n",
       "      <td>2017-04-07</td>\n",
       "      <td>China</td>\n",
       "      <td>Beijing</td>\n",
       "      <td>Media &amp; Entertainment</td>\n",
       "    </tr>\n",
       "    <tr>\n",
       "      <th>1</th>\n",
       "      <td>SpaceX</td>\n",
       "      <td>$137</td>\n",
       "      <td>2012-12-01</td>\n",
       "      <td>United States</td>\n",
       "      <td>Hawthorne</td>\n",
       "      <td>Industrials</td>\n",
       "    </tr>\n",
       "    <tr>\n",
       "      <th>2</th>\n",
       "      <td>SHEIN</td>\n",
       "      <td>$66</td>\n",
       "      <td>2018-07-03</td>\n",
       "      <td>China</td>\n",
       "      <td>Shenzhen</td>\n",
       "      <td>Consumer &amp; Retail</td>\n",
       "    </tr>\n",
       "    <tr>\n",
       "      <th>3</th>\n",
       "      <td>Stripe</td>\n",
       "      <td>$50</td>\n",
       "      <td>2014-01-23</td>\n",
       "      <td>United States</td>\n",
       "      <td>San Francisco</td>\n",
       "      <td>Financial Services</td>\n",
       "    </tr>\n",
       "    <tr>\n",
       "      <th>4</th>\n",
       "      <td>Canva</td>\n",
       "      <td>$40</td>\n",
       "      <td>2018-01-08</td>\n",
       "      <td>Australia</td>\n",
       "      <td>Surry Hills</td>\n",
       "      <td>Enterprise Tech</td>\n",
       "    </tr>\n",
       "  </tbody>\n",
       "</table>\n",
       "</div>"
      ],
      "text/plain": [
       "     Company Valuation ($B) Date Joined        Country           City  \\\n",
       "0  ByteDance           $225  2017-04-07          China        Beijing   \n",
       "1     SpaceX           $137  2012-12-01  United States      Hawthorne   \n",
       "2      SHEIN            $66  2018-07-03          China       Shenzhen   \n",
       "3     Stripe            $50  2014-01-23  United States  San Francisco   \n",
       "4      Canva            $40  2018-01-08      Australia    Surry Hills   \n",
       "\n",
       "                Industry  \n",
       "0  Media & Entertainment  \n",
       "1            Industrials  \n",
       "2      Consumer & Retail  \n",
       "3     Financial Services  \n",
       "4        Enterprise Tech  "
      ]
     },
     "execution_count": 10,
     "metadata": {},
     "output_type": "execute_result"
    }
   ],
   "source": [
    "df.head()"
   ]
  },
  {
   "cell_type": "code",
   "execution_count": 11,
   "id": "4cf76398",
   "metadata": {
    "execution": {
     "iopub.execute_input": "2023-08-07T15:33:48.306281Z",
     "iopub.status.busy": "2023-08-07T15:33:48.305860Z",
     "iopub.status.idle": "2023-08-07T15:33:48.320834Z",
     "shell.execute_reply": "2023-08-07T15:33:48.319996Z"
    },
    "papermill": {
     "duration": 0.026222,
     "end_time": "2023-08-07T15:33:48.323152",
     "exception": false,
     "start_time": "2023-08-07T15:33:48.296930",
     "status": "completed"
    },
    "tags": []
   },
   "outputs": [
    {
     "data": {
      "text/html": [
       "<div>\n",
       "<style scoped>\n",
       "    .dataframe tbody tr th:only-of-type {\n",
       "        vertical-align: middle;\n",
       "    }\n",
       "\n",
       "    .dataframe tbody tr th {\n",
       "        vertical-align: top;\n",
       "    }\n",
       "\n",
       "    .dataframe thead th {\n",
       "        text-align: right;\n",
       "    }\n",
       "</style>\n",
       "<table border=\"1\" class=\"dataframe\">\n",
       "  <thead>\n",
       "    <tr style=\"text-align: right;\">\n",
       "      <th></th>\n",
       "      <th>Company</th>\n",
       "      <th>Net Worth</th>\n",
       "      <th>Date Joined</th>\n",
       "      <th>Country</th>\n",
       "      <th>City</th>\n",
       "      <th>Industry</th>\n",
       "    </tr>\n",
       "  </thead>\n",
       "  <tbody>\n",
       "    <tr>\n",
       "      <th>0</th>\n",
       "      <td>ByteDance</td>\n",
       "      <td>$225</td>\n",
       "      <td>2017-04-07</td>\n",
       "      <td>China</td>\n",
       "      <td>Beijing</td>\n",
       "      <td>Media &amp; Entertainment</td>\n",
       "    </tr>\n",
       "    <tr>\n",
       "      <th>1</th>\n",
       "      <td>SpaceX</td>\n",
       "      <td>$137</td>\n",
       "      <td>2012-12-01</td>\n",
       "      <td>United States</td>\n",
       "      <td>Hawthorne</td>\n",
       "      <td>Industrials</td>\n",
       "    </tr>\n",
       "    <tr>\n",
       "      <th>2</th>\n",
       "      <td>SHEIN</td>\n",
       "      <td>$66</td>\n",
       "      <td>2018-07-03</td>\n",
       "      <td>China</td>\n",
       "      <td>Shenzhen</td>\n",
       "      <td>Consumer &amp; Retail</td>\n",
       "    </tr>\n",
       "    <tr>\n",
       "      <th>3</th>\n",
       "      <td>Stripe</td>\n",
       "      <td>$50</td>\n",
       "      <td>2014-01-23</td>\n",
       "      <td>United States</td>\n",
       "      <td>San Francisco</td>\n",
       "      <td>Financial Services</td>\n",
       "    </tr>\n",
       "    <tr>\n",
       "      <th>4</th>\n",
       "      <td>Canva</td>\n",
       "      <td>$40</td>\n",
       "      <td>2018-01-08</td>\n",
       "      <td>Australia</td>\n",
       "      <td>Surry Hills</td>\n",
       "      <td>Enterprise Tech</td>\n",
       "    </tr>\n",
       "  </tbody>\n",
       "</table>\n",
       "</div>"
      ],
      "text/plain": [
       "     Company Net Worth Date Joined        Country           City  \\\n",
       "0  ByteDance      $225  2017-04-07          China        Beijing   \n",
       "1     SpaceX      $137  2012-12-01  United States      Hawthorne   \n",
       "2      SHEIN       $66  2018-07-03          China       Shenzhen   \n",
       "3     Stripe       $50  2014-01-23  United States  San Francisco   \n",
       "4      Canva       $40  2018-01-08      Australia    Surry Hills   \n",
       "\n",
       "                Industry  \n",
       "0  Media & Entertainment  \n",
       "1            Industrials  \n",
       "2      Consumer & Retail  \n",
       "3     Financial Services  \n",
       "4        Enterprise Tech  "
      ]
     },
     "execution_count": 11,
     "metadata": {},
     "output_type": "execute_result"
    }
   ],
   "source": [
    "df = df.rename(columns={\"Valuation ($B)\": \"Net Worth\"})\n",
    "df.head(5)"
   ]
  },
  {
   "cell_type": "code",
   "execution_count": 12,
   "id": "e3d743a8",
   "metadata": {
    "execution": {
     "iopub.execute_input": "2023-08-07T15:33:48.338785Z",
     "iopub.status.busy": "2023-08-07T15:33:48.338414Z",
     "iopub.status.idle": "2023-08-07T15:33:48.348720Z",
     "shell.execute_reply": "2023-08-07T15:33:48.347480Z"
    },
    "papermill": {
     "duration": 0.021415,
     "end_time": "2023-08-07T15:33:48.351974",
     "exception": false,
     "start_time": "2023-08-07T15:33:48.330559",
     "status": "completed"
    },
    "tags": []
   },
   "outputs": [
    {
     "data": {
      "text/plain": [
       "Company         0\n",
       "Net Worth       0\n",
       "Date Joined     0\n",
       "Country         0\n",
       "City           18\n",
       "Industry        0\n",
       "dtype: int64"
      ]
     },
     "execution_count": 12,
     "metadata": {},
     "output_type": "execute_result"
    }
   ],
   "source": [
    "df.isnull().sum()"
   ]
  },
  {
   "cell_type": "code",
   "execution_count": 13,
   "id": "6af77d8e",
   "metadata": {
    "execution": {
     "iopub.execute_input": "2023-08-07T15:33:48.367051Z",
     "iopub.status.busy": "2023-08-07T15:33:48.366687Z",
     "iopub.status.idle": "2023-08-07T15:33:48.384494Z",
     "shell.execute_reply": "2023-08-07T15:33:48.382542Z"
    },
    "papermill": {
     "duration": 0.028327,
     "end_time": "2023-08-07T15:33:48.387239",
     "exception": false,
     "start_time": "2023-08-07T15:33:48.358912",
     "status": "completed"
    },
    "tags": []
   },
   "outputs": [
    {
     "data": {
      "text/plain": [
       "Company        1203\n",
       "Net Worth      1203\n",
       "Date Joined    1203\n",
       "Country        1203\n",
       "City           1203\n",
       "Industry       1203\n",
       "dtype: int64"
      ]
     },
     "execution_count": 13,
     "metadata": {},
     "output_type": "execute_result"
    }
   ],
   "source": [
    "df = df.dropna()    # Dropping the missing values.\n",
    "df.count()"
   ]
  },
  {
   "cell_type": "code",
   "execution_count": 14,
   "id": "2c992ab0",
   "metadata": {
    "execution": {
     "iopub.execute_input": "2023-08-07T15:33:48.402451Z",
     "iopub.status.busy": "2023-08-07T15:33:48.402058Z",
     "iopub.status.idle": "2023-08-07T15:33:48.413245Z",
     "shell.execute_reply": "2023-08-07T15:33:48.411189Z"
    },
    "papermill": {
     "duration": 0.021418,
     "end_time": "2023-08-07T15:33:48.415505",
     "exception": false,
     "start_time": "2023-08-07T15:33:48.394087",
     "status": "completed"
    },
    "tags": []
   },
   "outputs": [
    {
     "data": {
      "text/plain": [
       "Company        0\n",
       "Net Worth      0\n",
       "Date Joined    0\n",
       "Country        0\n",
       "City           0\n",
       "Industry       0\n",
       "dtype: int64"
      ]
     },
     "execution_count": 14,
     "metadata": {},
     "output_type": "execute_result"
    }
   ],
   "source": [
    "df.isnull().sum()"
   ]
  },
  {
   "cell_type": "code",
   "execution_count": 15,
   "id": "375f202e",
   "metadata": {
    "execution": {
     "iopub.execute_input": "2023-08-07T15:33:48.430566Z",
     "iopub.status.busy": "2023-08-07T15:33:48.430204Z",
     "iopub.status.idle": "2023-08-07T15:33:48.440553Z",
     "shell.execute_reply": "2023-08-07T15:33:48.439133Z"
    },
    "papermill": {
     "duration": 0.02074,
     "end_time": "2023-08-07T15:33:48.443167",
     "exception": false,
     "start_time": "2023-08-07T15:33:48.422427",
     "status": "completed"
    },
    "tags": []
   },
   "outputs": [
    {
     "name": "stdout",
     "output_type": "stream",
     "text": [
      "number of duplicate rows:  (0, 6)\n"
     ]
    }
   ],
   "source": [
    "duplicate_rows_df = df[df.duplicated()]\n",
    "print(\"number of duplicate rows: \", duplicate_rows_df.shape)"
   ]
  },
  {
   "cell_type": "code",
   "execution_count": 16,
   "id": "0b5ac25c",
   "metadata": {
    "execution": {
     "iopub.execute_input": "2023-08-07T15:33:48.458093Z",
     "iopub.status.busy": "2023-08-07T15:33:48.457692Z",
     "iopub.status.idle": "2023-08-07T15:33:48.468037Z",
     "shell.execute_reply": "2023-08-07T15:33:48.467277Z"
    },
    "papermill": {
     "duration": 0.019993,
     "end_time": "2023-08-07T15:33:48.469850",
     "exception": false,
     "start_time": "2023-08-07T15:33:48.449857",
     "status": "completed"
    },
    "tags": []
   },
   "outputs": [
    {
     "data": {
      "text/plain": [
       "Country\n",
       "United States           656\n",
       "China                   173\n",
       "India                    70\n",
       "United Kingdom           52\n",
       "Germany                  30\n",
       "France                   25\n",
       "Israel                   24\n",
       "Canada                   21\n",
       "Brazil                   16\n",
       "South Korea              14\n",
       "Australia                 8\n",
       "Indonesia                 8\n",
       "Mexico                    8\n",
       "Sweden                    7\n",
       "Japan                     7\n",
       "Netherlands               7\n",
       "Ireland                   6\n",
       "Switzerland               6\n",
       "Spain                     5\n",
       "Hong Kong                 4\n",
       "Finland                   4\n",
       "Norway                    4\n",
       "Thailand                  3\n",
       "Turkey                    3\n",
       "Colombia                  3\n",
       "United Arab Emirates      3\n",
       "Belgium                   3\n",
       "South Africa              2\n",
       "Italy                     2\n",
       "Vietnam                   2\n",
       "Estonia                   2\n",
       "Austria                   2\n",
       "Lithuania                 2\n",
       "Chile                     2\n",
       "Croatia                   2\n",
       "Denmark                   2\n",
       "Greece                    2\n",
       "Egypt                     1\n",
       "Bermuda                   1\n",
       "Czech Republic            1\n",
       "Ecuador                   1\n",
       "Luxembourg                1\n",
       "Malaysia                  1\n",
       "Seychelles                1\n",
       "Senegal                   1\n",
       "Philippines               1\n",
       "Liechtenstein             1\n",
       "Nigeria                   1\n",
       "London                    1\n",
       "Argentina                 1\n",
       "Name: Company, dtype: int64"
      ]
     },
     "execution_count": 16,
     "metadata": {},
     "output_type": "execute_result"
    }
   ],
   "source": [
    "countryGrouped = df.groupby(['Country'])\n",
    "countryGrouped['Company'].count().sort_values(ascending=False)"
   ]
  },
  {
   "cell_type": "code",
   "execution_count": 17,
   "id": "50cfa42e",
   "metadata": {
    "execution": {
     "iopub.execute_input": "2023-08-07T15:33:48.486282Z",
     "iopub.status.busy": "2023-08-07T15:33:48.485166Z",
     "iopub.status.idle": "2023-08-07T15:33:49.966298Z",
     "shell.execute_reply": "2023-08-07T15:33:49.964442Z"
    },
    "papermill": {
     "duration": 1.492069,
     "end_time": "2023-08-07T15:33:49.969029",
     "exception": false,
     "start_time": "2023-08-07T15:33:48.476960",
     "status": "completed"
    },
    "tags": []
   },
   "outputs": [
    {
     "name": "stderr",
     "output_type": "stream",
     "text": [
      "/opt/conda/lib/python3.10/site-packages/scipy/__init__.py:146: UserWarning: A NumPy version >=1.16.5 and <1.23.0 is required for this version of SciPy (detected version 1.23.5\n",
      "  warnings.warn(f\"A NumPy version >={np_minversion} and <{np_maxversion}\"\n"
     ]
    }
   ],
   "source": [
    "import matplotlib.pyplot as plt\n",
    "import seaborn as sns"
   ]
  },
  {
   "cell_type": "code",
   "execution_count": 18,
   "id": "c761afa6",
   "metadata": {
    "execution": {
     "iopub.execute_input": "2023-08-07T15:33:49.984611Z",
     "iopub.status.busy": "2023-08-07T15:33:49.984207Z",
     "iopub.status.idle": "2023-08-07T15:33:50.315008Z",
     "shell.execute_reply": "2023-08-07T15:33:50.314080Z"
    },
    "papermill": {
     "duration": 0.341566,
     "end_time": "2023-08-07T15:33:50.317550",
     "exception": false,
     "start_time": "2023-08-07T15:33:49.975984",
     "status": "completed"
    },
    "tags": []
   },
   "outputs": [
    {
     "data": {
      "image/png": "[encoded data removed]",
      "text/plain": [
       "<Figure size 1000x500 with 1 Axes>"
      ]
     },
     "metadata": {},
     "output_type": "display_data"
    }
   ],
   "source": [
    "df['Country'].value_counts().nlargest(10).plot(kind='bar', figsize=(10,5))\n",
    "plt.title(\"Number of Start-up by Country\")\n",
    "plt.ylabel('Number of Start-up')\n",
    "plt.xlabel('Country');"
   ]
  },
  {
   "cell_type": "code",
   "execution_count": 19,
   "id": "b5bcb6c7",
   "metadata": {
    "execution": {
     "iopub.execute_input": "2023-08-07T15:33:50.334254Z",
     "iopub.status.busy": "2023-08-07T15:33:50.333864Z",
     "iopub.status.idle": "2023-08-07T15:33:50.610082Z",
     "shell.execute_reply": "2023-08-07T15:33:50.608480Z"
    },
    "papermill": {
     "duration": 0.287519,
     "end_time": "2023-08-07T15:33:50.612784",
     "exception": false,
     "start_time": "2023-08-07T15:33:50.325265",
     "status": "completed"
    },
    "tags": []
   },
   "outputs": [
    {
     "data": {
      "image/png": "[encoded data removed]",
      "text/plain": [
       "<Figure size 1000x500 with 1 Axes>"
      ]
     },
     "metadata": {},
     "output_type": "display_data"
    }
   ],
   "source": [
    "df['Industry'].value_counts().nlargest(10).plot(kind='bar', figsize=(10,5))\n",
    "plt.title(\"Number of Start-up by Industry\")\n",
    "plt.ylabel('Number of Start-up')\n",
    "plt.xlabel('Industry');"
   ]
  }
 ],
 "metadata": {
  "kernelspec": {
   "display_name": "Python 3",
   "language": "python",
   "name": "python3"
  },
  "language_info": {
   "codemirror_mode": {
    "name": "ipython",
    "version": 3
   },
   "file_extension": ".py",
   "mimetype": "text/x-python",
   "name": "python",
   "nbconvert_exporter": "python",
   "pygments_lexer": "ipython3",
   "version": "3.10.12"
  },
  "papermill": {
   "default_parameters": {},
   "duration": 12.78589,
   "end_time": "2023-08-07T15:33:51.643247",
   "environment_variables": {},
   "exception": null,
   "input_path": "__notebook__.ipynb",
   "output_path": "__notebook__.ipynb",
   "parameters": {},
   "start_time": "2023-08-07T15:33:38.857357",
   "version": "2.4.0"
  }
 },
 "nbformat": 4,
 "nbformat_minor": 5
}
