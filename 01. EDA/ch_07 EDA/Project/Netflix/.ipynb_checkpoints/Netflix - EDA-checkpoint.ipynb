{
 "cells": [
  {
   "cell_type": "markdown",
   "id": "32f5cce7",
   "metadata": {},
   "source": [
    "Do the following using Netflix data:\n",
    "\n",
    "\n",
    "    Loading the dataset\n",
    "    Perform initial data exploration.\n",
    "    Perform data pre-processing.\n",
    "    Analysis of Movies vs TV Shows.\n",
    "    If a producer wants to release some content, which month must he do so?( Month when least amount of content is added)\n",
    "    Movie ratings analysis\n",
    "    Year wise analysis\n",
    "    TOP 10 MOVIE CONTENT CREATING COUNTRIES\n",
    "    Analysis of duration of movies\n",
    "    Analysis of TV SERIES on Netflix\n",
    "    Most content creating countries\n",
    "    TV shows with largest number of seasons\n",
    "    Lowest number of seasons.\n",
    "    Top Duration"
   ]
  },
  {
   "cell_type": "code",
   "execution_count": 1,
   "id": "ce5eb555",
   "metadata": {},
   "outputs": [],
   "source": [
    "#ToDo: type your code here"
   ]
  }
 ],
 "metadata": {
  "kernelspec": {
   "display_name": "Python 3 (ipykernel)",
   "language": "python",
   "name": "python3"
  },
  "language_info": {
   "codemirror_mode": {
    "name": "ipython",
    "version": 3
   },
   "file_extension": ".py",
   "mimetype": "text/x-python",
   "name": "python",
   "nbconvert_exporter": "python",
   "pygments_lexer": "ipython3",
   "version": "3.10.9"
  }
 },
 "nbformat": 4,
 "nbformat_minor": 5
}
