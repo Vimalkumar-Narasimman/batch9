{
 "cells": [
  {
   "cell_type": "code",
   "execution_count": 4,
   "id": "ebe6ade3",
   "metadata": {},
   "outputs": [
    {
     "name": "stdout",
     "output_type": "stream",
     "text": [
      "gixer bike have 2 wheels and the size of the tyre size is 17 and top speed is 130\n",
      "fzs bike have 2 wheels and the size of the tyre size is 19 and top speed is 149\n",
      "130\n"
     ]
    }
   ],
   "source": [
    "class Vehicle:\n",
    "    #class variable\n",
    "    vehicle_type= \"motorbike\"\n",
    "    wheel= 2\n",
    "    #Constructor with instance variables bike_name and top_speed\n",
    "    def __init__(self, bike_name, top_speed):\n",
    "        self.bike_name= bike_name\n",
    "        self.top_speed= top_speed\n",
    "    # Method with instance variable tyre_size\n",
    "    def tyre_description(self, tyre_size):\n",
    "        print(\"{} bike have {} wheels and the size of the tyre size is {} and top speed is {}\"\\\n",
    "              .format(self.bike_name, self.wheel, tyre_size, self.top_speed))\n",
    "        \n",
    "bike_1 = Vehicle('gixer', 130)\n",
    "bike_2 = Vehicle('fzs', 149)\n",
    "\n",
    "bike_1.tyre_description(17)\n",
    "bike_2.tyre_description(19)\n",
    "\n",
    "print(bike_1.top_speed)"
   ]
  },
  {
   "cell_type": "code",
   "execution_count": null,
   "id": "d8f4cdba",
   "metadata": {},
   "outputs": [],
   "source": []
  }
 ],
 "metadata": {
  "kernelspec": {
   "display_name": "Python 3 (ipykernel)",
   "language": "python",
   "name": "python3"
  },
  "language_info": {
   "codemirror_mode": {
    "name": "ipython",
    "version": 3
   },
   "file_extension": ".py",
   "mimetype": "text/x-python",
   "name": "python",
   "nbconvert_exporter": "python",
   "pygments_lexer": "ipython3",
   "version": "3.10.9"
  }
 },
 "nbformat": 4,
 "nbformat_minor": 5
}
