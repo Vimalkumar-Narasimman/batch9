{
 "cells": [
  {
   "cell_type": "markdown",
   "id": "4a40084e",
   "metadata": {},
   "source": [
    "# Chapter 3: Data Wrangling with Pandas\n",
    "\n",
    "In this chapter, we discuss the process of data manipulation, learn how\n",
    "to explore an API to gather data, and perform data cleaning and\n",
    "reshaping with `pandas`.\n",
    "\n",
    "## Content\n",
    "\n",
    "There are five notebooks that we will work through, each numbered\n",
    "according to when they will be used:\n",
    "\n",
    "-   [`1-wide_vs_long.ipynb`](./1-wide_vs_long.ipynb): discusses wide\n",
    "    versus long format data\n",
    "-   [`2-using_the_weather_api.ipynb`](./2-using_the_weather_api.ipynb):\n",
    "    walks through collecting daily temperature data from the [NCEI\n",
    "    API](https://www.ncdc.noaa.gov/cdo-web/webservices/v2)\n",
    "-   [`3-cleaning_data.ipynb`](./3-cleaning_data.ipynb): shows how to\n",
    "    perform some initial data cleaning\n",
    "-   [`4-reshaping_data.ipynb`](./4-reshaping_data.ipynb): illustrates\n",
    "    how to reshape data with `pandas`\n",
    "-   [`5-handling_data_issues.ipynb`](./5-handling_data_issues.ipynb):\n",
    "    showcases strategies for dealing with duplicate, missing, or invalid\n",
    "    data\n",
    "\n",
    "All the datasets necessary for the aforementioned notebooks, along with\n",
    "information on them, can be found in the [`data/`](./data) directory.\n",
    "The end-of-chapter exercises will use the datasets in the\n",
    "[`exercises/`](./exercises) directory; solutions to these exercises can\n",
    "be found in the repository's [`solutions/ch_03/`](../solutions/ch_03)\n",
    "directory."
   ]
  }
 ],
 "metadata": {
  "kernelspec": {
   "display_name": "Python 3 (ipykernel)",
   "language": "python",
   "name": "python3"
  },
  "language_info": {
   "codemirror_mode": {
    "name": "ipython",
    "version": 3
   },
   "file_extension": ".py",
   "mimetype": "text/x-python",
   "name": "python",
   "nbconvert_exporter": "python",
   "pygments_lexer": "ipython3",
   "version": "3.10.9"
  }
 },
 "nbformat": 4,
 "nbformat_minor": 5
}
