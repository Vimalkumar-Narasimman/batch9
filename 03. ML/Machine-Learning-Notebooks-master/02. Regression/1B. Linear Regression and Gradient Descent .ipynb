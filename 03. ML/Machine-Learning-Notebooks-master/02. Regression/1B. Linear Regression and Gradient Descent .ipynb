{
 "cells": [
  {
   "cell_type": "markdown",
   "metadata": {},
   "source": [
    "## Coursera Assignment: Linear Regression "
   ]
  },
  {
   "cell_type": "code",
   "execution_count": 2,
   "metadata": {
    "scrolled": true
   },
   "outputs": [
    {
     "data": {
      "text/html": [
       "<div>\n",
       "<style scoped>\n",
       "    .dataframe tbody tr th:only-of-type {\n",
       "        vertical-align: middle;\n",
       "    }\n",
       "\n",
       "    .dataframe tbody tr th {\n",
       "        vertical-align: top;\n",
       "    }\n",
       "\n",
       "    .dataframe thead th {\n",
       "        text-align: right;\n",
       "    }\n",
       "</style>\n",
       "<table border=\"1\" class=\"dataframe\">\n",
       "  <thead>\n",
       "    <tr style=\"text-align: right;\">\n",
       "      <th></th>\n",
       "      <th>population</th>\n",
       "      <th>profit</th>\n",
       "    </tr>\n",
       "  </thead>\n",
       "  <tbody>\n",
       "    <tr>\n",
       "      <th>0</th>\n",
       "      <td>6.1101</td>\n",
       "      <td>17.5920</td>\n",
       "    </tr>\n",
       "    <tr>\n",
       "      <th>1</th>\n",
       "      <td>5.5277</td>\n",
       "      <td>9.1302</td>\n",
       "    </tr>\n",
       "    <tr>\n",
       "      <th>2</th>\n",
       "      <td>8.5186</td>\n",
       "      <td>13.6620</td>\n",
       "    </tr>\n",
       "    <tr>\n",
       "      <th>3</th>\n",
       "      <td>7.0032</td>\n",
       "      <td>11.8540</td>\n",
       "    </tr>\n",
       "    <tr>\n",
       "      <th>4</th>\n",
       "      <td>5.8598</td>\n",
       "      <td>6.8233</td>\n",
       "    </tr>\n",
       "  </tbody>\n",
       "</table>\n",
       "</div>"
      ],
      "text/plain": [
       "   population   profit\n",
       "0      6.1101  17.5920\n",
       "1      5.5277   9.1302\n",
       "2      8.5186  13.6620\n",
       "3      7.0032  11.8540\n",
       "4      5.8598   6.8233"
      ]
     },
     "execution_count": 2,
     "metadata": {},
     "output_type": "execute_result"
    }
   ],
   "source": [
    "from __future__ import division, print_function\n",
    "import numpy as np\n",
    "import pandas as pd\n",
    "import matplotlib.pyplot as plt\n",
    "\n",
    "# Creates a table data structure which is easy to manipulate\n",
    "df = pd.read_csv(\"machine_learning_andrewng/ex1data1.csv\", header=None)\n",
    "df.rename(columns={0: 'population', 1: 'profit'}, inplace=True)\n",
    "df.head()"
   ]
  },
  {
   "cell_type": "code",
   "execution_count": 3,
   "metadata": {},
   "outputs": [
    {
     "data": {
      "image/png": "[encoded data removed]",
      "text/plain": [
       "<Figure size 960x640 with 1 Axes>"
      ]
     },
     "metadata": {},
     "output_type": "display_data"
    }
   ],
   "source": [
    "# visualising the data\n",
    "fig = plt.figure(num=None, figsize=(12, 8), dpi=80, facecolor='w')\n",
    "plt.scatter(df['population'], df['profit'], marker='x', color='red', s=20)\n",
    "plt.xlim([4, 24])\n",
    "plt.xticks(range(4, 26, 2))\n",
    "plt.yticks(range(-5, 30, 5))\n",
    "plt.xlabel(\"Population in 10,000\")\n",
    "plt.ylabel(\"Profit in $10,000\")\n",
    "plt.title(\"Scatter plot of training data\\n\")\n",
    "plt.show()"
   ]
  },
  {
   "cell_type": "code",
   "execution_count": 4,
   "metadata": {},
   "outputs": [],
   "source": [
    "class LinearRegression(object):\n",
    "    \"\"\"Performs Linear Regression using Batch Gradient\n",
    "    Descent.\"\"\"\n",
    "    def __init__(self, X, y, alpha=0.01, n_iterations=5000):\n",
    "        \"\"\"Initialise variables.\n",
    "        \n",
    "        Parameters\n",
    "        ----------\n",
    "        y : numpy array like, output / dependent variable\n",
    "        X : numpy array like, input / independent variables\n",
    "        alpha : float, int. Learning Rate\n",
    "        n_iterations : Number of maximum iterations to perform\n",
    "            gradient descent\n",
    "        \"\"\"\n",
    "        self.y = y\n",
    "        self.X = self._hstack_one(X)\n",
    "        self.thetas = np.zeros((self.X.shape[1], 1))\n",
    "        self.n_rows = self.X.shape[0]\n",
    "        self.alpha = alpha\n",
    "        self.n_iterations = n_iterations\n",
    "        print(\"Cost before fitting: {0:.2f}\".format(self.cost()))\n",
    "\n",
    "    @staticmethod\n",
    "    def _hstack_one(input_matrix):\n",
    "        \"\"\"Horizontally stack a column of ones for the coefficients\n",
    "        of the bias terms\n",
    "        \n",
    "        Parameters\n",
    "        ----------\n",
    "        input_matrix: numpy array like (N x M). Where N = number of \n",
    "            examples. M = Number of features.\n",
    "        \n",
    "        Returns\n",
    "        -------\n",
    "        numpy array with stacked column of ones (N x M + 1)\n",
    "        \"\"\"\n",
    "        return np.hstack((np.ones((input_matrix.shape[0], 1)),\n",
    "                              input_matrix))\n",
    "\n",
    "    def cost(self, ):\n",
    "        \"\"\"Calculates the cost of current configuration\"\"\"\n",
    "        return (1 / (2 * self.n_rows)) * np.sum(\n",
    "            (self.X.dot(self.thetas) - self.y) ** 2)\n",
    "\n",
    "    def predict(self, new_X):\n",
    "        \"\"\"Predict values using current configuration\n",
    "        \n",
    "        Parameters\n",
    "        ----------\n",
    "        new_X : numpy array like\n",
    "        \"\"\"\n",
    "        \n",
    "        new_X = self._hstack_one(new_X)\n",
    "        return new_X.dot(self.thetas)\n",
    "\n",
    "    def batch_gradient(self, ):\n",
    "        h = self.X.dot(self.thetas) - self.y\n",
    "        h = np.multiply(self.X, h)\n",
    "        h = np.sum(h, axis=0)\n",
    "        return h.reshape(-1, 1)\n",
    "\n",
    "    def batch_gradient_descent(self, ):\n",
    "        alpha_by_m = self.alpha / self.n_rows\n",
    "        for i in range(self.n_iterations):\n",
    "            self.thetas = self.thetas - (alpha_by_m * self.batch_gradient())\n",
    "            cost = self.cost()\n",
    "            print(\"Iteration: {0} Loss: {1:.5f}\\r\".format(i + 1, cost), end=\"\")\n"
   ]
  },
  {
   "cell_type": "code",
   "execution_count": 5,
   "metadata": {
    "scrolled": true
   },
   "outputs": [
    {
     "name": "stdout",
     "output_type": "stream",
     "text": [
      "Cost before fitting: 32.07\n",
      "Iteration: 5000 Loss: 4.47697\r"
     ]
    }
   ],
   "source": [
    "X = df['population'].values.reshape(-1, 1)\n",
    "y = df['profit'].values.reshape(-1, 1)\n",
    "lr = LinearRegression(X, y)\n",
    "lr.batch_gradient_descent()"
   ]
  },
  {
   "cell_type": "code",
   "execution_count": 6,
   "metadata": {},
   "outputs": [
    {
     "data": {
      "image/png": "[encoded data removed]",
      "text/plain": [
       "<Figure size 960x640 with 1 Axes>"
      ]
     },
     "metadata": {},
     "output_type": "display_data"
    }
   ],
   "source": [
    "# plot regression line\n",
    "X = np.arange(4, 24, 0.1).reshape(-1, 1)\n",
    "fig = plt.figure(num=None, figsize=(12, 8), dpi=80, facecolor='w')\n",
    "plt.scatter(df['population'], df['profit'], marker='x', color='red', s=20, label='Training data')\n",
    "plt.plot(X, lr.predict(X), color='blue', label='Linear Regression')\n",
    "plt.xlim([4, 24])\n",
    "plt.xticks(range(4, 26, 2))\n",
    "plt.yticks(range(-5, 30, 5))\n",
    "plt.xlabel(\"Population in 10,000\")\n",
    "plt.ylabel(\"Profit in $10,000\")\n",
    "plt.title(\"Scatter plot of training data\\n\")\n",
    "plt.legend()\n",
    "plt.show()"
   ]
  },
  {
   "cell_type": "markdown",
   "metadata": {
    "collapsed": true,
    "jupyter": {
     "outputs_hidden": true
    }
   },
   "source": [
    "## Linear Regression with multiple variables\n"
   ]
  },
  {
   "cell_type": "code",
   "execution_count": 11,
   "metadata": {},
   "outputs": [
    {
     "data": {
      "text/html": [
       "<div>\n",
       "<style scoped>\n",
       "    .dataframe tbody tr th:only-of-type {\n",
       "        vertical-align: middle;\n",
       "    }\n",
       "\n",
       "    .dataframe tbody tr th {\n",
       "        vertical-align: top;\n",
       "    }\n",
       "\n",
       "    .dataframe thead th {\n",
       "        text-align: right;\n",
       "    }\n",
       "</style>\n",
       "<table border=\"1\" class=\"dataframe\">\n",
       "  <thead>\n",
       "    <tr style=\"text-align: right;\">\n",
       "      <th></th>\n",
       "      <th>0</th>\n",
       "      <th>1</th>\n",
       "      <th>2</th>\n",
       "    </tr>\n",
       "  </thead>\n",
       "  <tbody>\n",
       "    <tr>\n",
       "      <th>0</th>\n",
       "      <td>2104</td>\n",
       "      <td>3</td>\n",
       "      <td>399900</td>\n",
       "    </tr>\n",
       "    <tr>\n",
       "      <th>1</th>\n",
       "      <td>1600</td>\n",
       "      <td>3</td>\n",
       "      <td>329900</td>\n",
       "    </tr>\n",
       "    <tr>\n",
       "      <th>2</th>\n",
       "      <td>2400</td>\n",
       "      <td>3</td>\n",
       "      <td>369000</td>\n",
       "    </tr>\n",
       "    <tr>\n",
       "      <th>3</th>\n",
       "      <td>1416</td>\n",
       "      <td>2</td>\n",
       "      <td>232000</td>\n",
       "    </tr>\n",
       "    <tr>\n",
       "      <th>4</th>\n",
       "      <td>3000</td>\n",
       "      <td>4</td>\n",
       "      <td>539900</td>\n",
       "    </tr>\n",
       "  </tbody>\n",
       "</table>\n",
       "</div>"
      ],
      "text/plain": [
       "      0  1       2\n",
       "0  2104  3  399900\n",
       "1  1600  3  329900\n",
       "2  2400  3  369000\n",
       "3  1416  2  232000\n",
       "4  3000  4  539900"
      ]
     },
     "execution_count": 11,
     "metadata": {},
     "output_type": "execute_result"
    }
   ],
   "source": [
    "df = pd.read_csv(\"machine_learning_andrewng/ex1data2.csv\", header=None)\n",
    "df.head()"
   ]
  },
  {
   "cell_type": "code",
   "execution_count": 12,
   "metadata": {},
   "outputs": [],
   "source": [
    "X = df.iloc[:, [0, 1]].values\n",
    "y = df.iloc[:, [2]].values"
   ]
  },
  {
   "cell_type": "code",
   "execution_count": 13,
   "metadata": {},
   "outputs": [],
   "source": [
    "from sklearn.preprocessing import StandardScaler\n",
    "\n",
    "scaler_X = StandardScaler()\n",
    "scaler_Y = StandardScaler()\n",
    "X = scaler_X.fit_transform(X)\n",
    "y = scaler_Y.fit_transform(y)"
   ]
  },
  {
   "cell_type": "code",
   "execution_count": 14,
   "metadata": {},
   "outputs": [
    {
     "name": "stdout",
     "output_type": "stream",
     "text": [
      "Cost before fitting: 0.50\n",
      "Iteration: 1000 Loss: 0.13353\r"
     ]
    }
   ],
   "source": [
    "lr = LinearRegression(X, y, alpha=0.1, n_iterations=1000)\n",
    "lr.batch_gradient_descent()"
   ]
  },
  {
   "cell_type": "code",
   "execution_count": 15,
   "metadata": {},
   "outputs": [
    {
     "name": "stdout",
     "output_type": "stream",
     "text": [
      "Testing on : [2104    3]\n",
      "Prediction(Scaled): 0.13\n",
      "Prediction(Unscaled): 356283.11\n"
     ]
    }
   ],
   "source": [
    "X_test = np.array([2104, 3]).reshape(1, 2)\n",
    "print(\"Testing on : {0}\".format(X_test[0]))\n",
    "X_test = scaler_X.transform(X_test)\n",
    "prediction = lr.predict(X_test)\n",
    "print(\"Prediction(Scaled): {0:.2f}\".format(prediction[0][0]))\n",
    "print(\"Prediction(Unscaled): {0:.2f}\".format(scaler_Y.inverse_transform(prediction)[0][0]))"
   ]
  },
  {
   "cell_type": "code",
   "execution_count": 6,
   "metadata": {},
   "outputs": [
    {
     "data": {
      "text/plain": [
       "array([[2104,    3],\n",
       "       [2010,    2]])"
      ]
     },
     "execution_count": 6,
     "metadata": {},
     "output_type": "execute_result"
    }
   ],
   "source": [
    "np.array([2104, 3, 2010, 2]).reshape(2, 2)"
   ]
  }
 ],
 "metadata": {
  "anaconda-cloud": {},
  "kernelspec": {
   "display_name": "Python 3 (ipykernel)",
   "language": "python",
   "name": "python3"
  },
  "language_info": {
   "codemirror_mode": {
    "name": "ipython",
    "version": 3
   },
   "file_extension": ".py",
   "mimetype": "text/x-python",
   "name": "python",
   "nbconvert_exporter": "python",
   "pygments_lexer": "ipython3",
   "version": "3.11.7"
  }
 },
 "nbformat": 4,
 "nbformat_minor": 4
}
