{
 "cells": [
  {
   "cell_type": "markdown",
   "metadata": {},
   "source": [
    "# About the data\n",
    "\n",
    "| File                   | Description                                                                                                                                                                                   | Source                                                                                             |\n",
    "|------------------------|-----------------------------------------------------------------------------------------------------------------------------------------------------------------------------------------------|----------------------------------------------------------------------------------------------------|\n",
    "| `bitcoin.csv`          | Daily opening, high, low, and closing price of bitcoin, along with volume traded and market capitalization for 2017 through 2018.                                                             | CoinMarketCap                                                                                      |\n",
    "| `dirty_data.csv`       | 2018 weather data for New York City, manipulated to introduce data issues.                                                                                                                    | Modified version of the data from the NCEI API's GHCND dataset.                                    |\n",
    "| `long_data.csv`        | Long format temperature data for New York City in October 2018 from the Boonton 1 station, containing daily temperature at time of observation, minimum temperature, and maximum temperature. | The NCEI API's GHCND dataset                                                                       |\n",
    "| `nyc_temperatures.csv` | Temperature data for New York City in October 2018 measured from LaGuardia airport, containing daily minimum, maximum, and average temperature.                                               | The NCEI API's GHCND dataset                                                                       |\n",
    "| `sp500.csv`            | Daily opening, high, low, and closing price of the S&P 500 stock index, along with volume traded and adjusted close for 2017 through 2018.                                                    | The `stock_analysis` package (see *Chapter 7, Financial Analysis – Bitcoin and the Stock Market*). |\n",
    "| `wide_data.csv`        | Wide format temperature data for New York City in October 2018 from the Boonton 1 station, containing daily temperature at time of observation, minimum temperature, and maximum temperature. | The NCEI API's GHCND dataset                                                                       |\n",
    "\n",
    "### Sources\n",
    "\n",
    "-   [CoinMarketCap](https://coinmarketcap.com) provides historical price\n",
    "    data for a variety of cryptocurrencies. For the first edition, the\n",
    "    bitcoin data was collected from CoinMarketCap using the\n",
    "    `stock_analysis` package; however, changes to the website led to\n",
    "    changing the data source to Yahoo! Finance. The bitcoin data that\n",
    "    was collected before the CoinMarketCap website change should be\n",
    "    equivalent to the historical data that can be viewed on\n",
    "    [this](https://coinmarketcap.com/currencies/bitcoin/historical-data/)\n",
    "    page.\n",
    "-   The National Centers for Environmental Information (NCEI) provides\n",
    "    an [API](https://www.ncdc.noaa.gov/cdo-web/webservices/v2), which we\n",
    "    use to access the [*Global Historical Climatology Network - Daily*\n",
    "    (GHCND)\n",
    "    dataset](https://www1.ncdc.noaa.gov/pub/data/cdo/documentation/GHCND_documentation.pdf).\n",
    "-   The [`stock_analysis`](https://github.com/stefmolin/stock-analysis)\n",
    "    package contains easy to use interfaces for basic technical analysis\n",
    "    of stocks. We will walk through the construction of this package in\n",
    "    *Chapter 7, Financial Analysis – Bitcoin and the Stock Market*."
   ]
  }
 ],
 "nbformat": 4,
 "nbformat_minor": 5,
 "metadata": {}
}
