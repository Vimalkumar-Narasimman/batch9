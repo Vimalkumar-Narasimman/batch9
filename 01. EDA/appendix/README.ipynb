{
 "cells": [
  {
   "cell_type": "markdown",
   "id": "e04f97a1",
   "metadata": {},
   "source": [
    "# Appendix\n",
    "\n",
    "Here are some workflow diagrams for reference.\n",
    "\n",
    "## Data Analysis Workflow\n",
    "\n",
    "<img src=\"./data_analysis_workflow.png\" align=\"center\" width=\"600\" alt=\"data analysis workflow\">\n",
    "\n",
    "## Choosing the Appropriate Plot\n",
    "\n",
    "<img src=\"./choosing_the_appropriate_plot_flow_chart.png\" align=\"center\" width=\"600\" alt=\"choosing the appropriate plot\">\n",
    "\n",
    "## Machine Learning Workflow\n",
    "\n",
    "<img src=\"./ml_workflow.png\" align=\"center\" width=\"600\" alt=\"machine learning workflow\">\n",
    "\n",
    "<hr>\n",
    "<div style=\"overflow: hidden; margin-bottom: 10px;\">\n",
    "    <div style=\"float: left;\">\n",
    "        <a href=\"../ch_12/README.ipynb\">\n",
    "            <button>&#8592; Chapter 12</button>\n",
    "        </a>\n",
    "    </div>\n",
    "\n",
    "</div>\n",
    "<hr>"
   ]
  }
 ],
 "metadata": {
  "kernelspec": {
   "display_name": "Python 3 (ipykernel)",
   "language": "python",
   "name": "python3"
  },
  "language_info": {
   "codemirror_mode": {
    "name": "ipython",
    "version": 3
   },
   "file_extension": ".py",
   "mimetype": "text/x-python",
   "name": "python",
   "nbconvert_exporter": "python",
   "pygments_lexer": "ipython3",
   "version": "3.10.9"
  }
 },
 "nbformat": 4,
 "nbformat_minor": 5
}
