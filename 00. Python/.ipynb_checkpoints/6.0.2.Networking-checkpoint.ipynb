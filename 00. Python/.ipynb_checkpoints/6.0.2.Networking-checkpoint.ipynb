{
 "cells": [
  {
   "cell_type": "markdown",
   "id": "14002981",
   "metadata": {},
   "source": [
    "## Python Network Programming\n",
    "\n",
    "#### Python provides two levels of access to network services. At a low level, you can access the basic socket support in the underlying operating system, which allows you to implement clients and servers for both connection-oriented and connectionless protocols.\n",
    "\n",
    "#### Python also has libraries that provide higher-level access to specific application-level network protocols, such as FTP, HTTP, and so on."
   ]
  },
  {
   "cell_type": "markdown",
   "id": "a5b066cf",
   "metadata": {},
   "source": [
    "### What is Sockets?\n",
    "#### Sockets are the endpoints of a bidirectional communications channel. Sockets may communicate within a process, between processes on the same machine, or between processes on different continents.\n",
    "\n",
    "#### Sockets may be implemented over a number of different channel types: Unix domain sockets, TCP, UDP, and so on. The socket library provides specific classes for handling the common transports as well as a generic interface for handling the rest."
   ]
  },
  {
   "cell_type": "markdown",
   "id": "4df2689f",
   "metadata": {},
   "source": [
    "   1. Python socket server program executes at first and wait for any request\n",
    "   2. Python socket client program will initiate the conversation at first\n",
    "   3. Then server program will response accordingly to client requests\n",
    "   4. Client program will terminate if user enters “bye” message. Server program will also terminate when client program terminates, this is optional and we can keep server program running indefinitely or terminate with some specific command in client request."
   ]
  },
  {
   "cell_type": "code",
   "execution_count": 1,
   "id": "e81eb0cc",
   "metadata": {},
   "outputs": [
    {
     "name": "stdout",
     "output_type": "stream",
     "text": [
      "Writing socket_server.py\n"
     ]
    }
   ],
   "source": [
    "%%file socket_server.py\n",
    "import socket\n",
    "\n",
    "\n",
    "def server_program():\n",
    "    # get the hostname\n",
    "    host = socket.gethostname()\n",
    "    port = 5000  # initiate port no above 1024\n",
    "\n",
    "    server_socket = socket.socket()  # get instance\n",
    "    # look closely. The bind() function takes tuple as argument\n",
    "    server_socket.bind((host, port))  # bind host address and port together\n",
    "\n",
    "    # configure how many client the server can listen simultaneously\n",
    "    server_socket.listen(2)\n",
    "    conn, address = server_socket.accept()  # accept new connection\n",
    "    print(\"Connection from: \" + str(address))\n",
    "    while True:\n",
    "        # receive data stream. it won't accept data packet greater than 1024 bytes\n",
    "        data = conn.recv(1024).decode()\n",
    "        if not data:\n",
    "            # if data is not received break\n",
    "            break\n",
    "        print(\"from connected user: \" + str(data))\n",
    "        data = input(' -> ')\n",
    "        conn.send(data.encode())  # send data to the client\n",
    "\n",
    "    conn.close()  # close the connection\n",
    "\n",
    "\n",
    "if __name__ == '__main__':\n",
    "    server_program()"
   ]
  },
  {
   "cell_type": "code",
   "execution_count": 2,
   "id": "b2279667",
   "metadata": {},
   "outputs": [
    {
     "name": "stdout",
     "output_type": "stream",
     "text": [
      "Writing socket_client.py\n"
     ]
    }
   ],
   "source": [
    "%%file socket_client.py\n",
    "import socket\n",
    "\n",
    "\n",
    "def client_program():\n",
    "    host = socket.gethostname()  # as both code is running on same pc\n",
    "    port = 5000  # socket server port number\n",
    "\n",
    "    client_socket = socket.socket()  # instantiate\n",
    "    client_socket.connect((host, port))  # connect to the server\n",
    "\n",
    "    message = input(\" -> \")  # take input\n",
    "\n",
    "    while message.lower().strip() != 'bye':\n",
    "        client_socket.send(message.encode())  # send message\n",
    "        data = client_socket.recv(1024).decode()  # receive response\n",
    "\n",
    "        print('Received from server: ' + data)  # show in terminal\n",
    "\n",
    "        message = input(\" -> \")  # again take input\n",
    "\n",
    "    client_socket.close()  # close the connection\n",
    "\n",
    "\n",
    "if __name__ == '__main__':\n",
    "    client_program()"
   ]
  },
  {
   "cell_type": "raw",
   "id": "2393fe74",
   "metadata": {},
   "source": [
    "$ python socket_server.py \n",
    "Connection from: ('127.0.0.1', 57822)\n",
    "from connected user: Hi\n",
    " -> Hello\n",
    "from connected user: How are you?\n",
    " -> Good\n",
    "from connected user: Awesome!\n",
    " -> Ok then, bye!\n",
    "$"
   ]
  },
  {
   "cell_type": "raw",
   "id": "4a7351e6",
   "metadata": {},
   "source": [
    "$ python3.6 socket_client.py \n",
    " -> Hi\n",
    "Received from server: Hello\n",
    " -> How are you?\n",
    "Received from server: Good\n",
    " -> Awesome!\n",
    "Received from server: Ok then, bye!\n",
    " -> Bye\n",
    "$"
   ]
  }
 ],
 "metadata": {
  "kernelspec": {
   "display_name": "Python 3 (ipykernel)",
   "language": "python",
   "name": "python3"
  },
  "language_info": {
   "codemirror_mode": {
    "name": "ipython",
    "version": 3
   },
   "file_extension": ".py",
   "mimetype": "text/x-python",
   "name": "python",
   "nbconvert_exporter": "python",
   "pygments_lexer": "ipython3",
   "version": "3.10.9"
  }
 },
 "nbformat": 4,
 "nbformat_minor": 5
}
