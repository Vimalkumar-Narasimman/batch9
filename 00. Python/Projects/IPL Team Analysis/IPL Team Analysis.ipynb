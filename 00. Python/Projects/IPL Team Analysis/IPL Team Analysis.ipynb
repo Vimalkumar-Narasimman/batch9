{
 "cells": [
  {
   "cell_type": "markdown",
   "id": "d8db7e0c",
   "metadata": {
    "id": "d8db7e0c"
   },
   "source": [
    "### IPL Team Analysis using JSON and Class concepts\n",
    "\n",
    "1. Read <code>IPL_teams.json</code> to calculate below:\n",
    "    1. Find which IPL team own most IPL cup and extract the complete Dictionary to write it in 'most_title_winer.json' file\n",
    "    2. List all the IPL team's websites name as a dictionary\n",
    "    3. List all the IPL team's home gound name and capacity as a dictionary\n",
    "    \n",
    "2. Add the above last two results in 'IPL_team_Analysis.json' file\n",
    "3. Define 'Class' to store all information and perform the above calculations\n",
    "4. Add exception handlers (Try... Except) whereever required\n",
    "5. Use this notebook to type all your codes    "
   ]
  },
  {
   "cell_type": "code",
   "execution_count": null,
   "id": "6c21c7cf",
   "metadata": {
    "id": "6c21c7cf"
   },
   "outputs": [],
   "source": [
    "#ToDo: Type your code with proper explanation as comments"
   ]
  }
 ],
 "metadata": {
  "colab": {
   "provenance": []
  },
  "kernelspec": {
   "display_name": "Python 3 (ipykernel)",
   "language": "python",
   "name": "python3"
  },
  "language_info": {
   "codemirror_mode": {
    "name": "ipython",
    "version": 3
   },
   "file_extension": ".py",
   "mimetype": "text/x-python",
   "name": "python",
   "nbconvert_exporter": "python",
   "pygments_lexer": "ipython3",
   "version": "3.10.9"
  }
 },
 "nbformat": 4,
 "nbformat_minor": 5
}
