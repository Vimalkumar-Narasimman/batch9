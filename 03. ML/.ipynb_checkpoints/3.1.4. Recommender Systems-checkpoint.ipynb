{
 "cells": [
  {
   "cell_type": "markdown",
   "metadata": {},
   "source": [
    "<a class=\"anchor\" id=\"0\"></a>\n",
    "# **Recommender Systems** "
   ]
  },
  {
   "cell_type": "markdown",
   "metadata": {},
   "source": [
    "<a class=\"anchor\" id=\"0.1\"></a>\n",
    "\n",
    "# **Table of Contents**\n",
    "\n",
    "\n",
    "1.\t[Introduction to Recommender Systems](#1)\n",
    "2.\t[Recommender Systems mechanism](#2)\n",
    "    - 2.1\t[Data collection](#2.1)\n",
    "    - 2.2 [Data storage](#2.2)\n",
    "    - 2.3 [Filtering the data](#2.3)\n",
    "3.\t[Collaborative filtering recommender system](#3)\n",
    "4.\t[Content-based filtering recommender system](#4)\n",
    "5.\t[Multi-criteria recommender systems](#5)\n",
    "6.\t[Risk aware recommender systems](#6)\n",
    "7.\t[Mobile recommender systems](#7)\n",
    "8.\t[Hybrid recommender systems](#8)\n",
    "9.\t[Introduction to matrix factorization](#9)\n",
    "10.\t[Evaluating recommender systems](#10)\n",
    "11.\t[Applications of recommender systems](#11)\n",
    "12.\t[Implement a Movie Recommender System in Python](#12)\n",
    "13. [Finding Similarities Between Movies](#13)\n",
    "14. [Conclusion](#14)\n",
    "15. [References](#15)\n",
    "\n",
    "\n"
   ]
  },
  {
   "cell_type": "markdown",
   "metadata": {},
   "source": [
    "# **1. Introduction to Recommender Systems** <a class=\"anchor\" id=\"1\"></a>\n",
    "\n",
    "[Table of Contents](#0.1)\n",
    "\n",
    "\n",
    "\n",
    "- [Recommender systems](https://en.wikipedia.org/wiki/Recommender_system) are one of the most popular data science applications today.\n",
    "\n",
    "- A recommender system is a data science application that is used to predict or offer products to customers based on their past purchase or browsing history.\n",
    "\n",
    "- At the core, a recommender system employs a machine learning algorithm whose job is to predict user's ratings for a particular entity.\n",
    "\n",
    "- It is based on the similarity based on the entities or users that previously rated those entities.\n",
    "\n",
    "- The idea is that similar types of users are likely to have similar ratings for a set of entities.\n",
    "\n",
    "- Recommender systems have wide variety of applications.\n",
    "\n",
    "- Many of the big technology companies use a recommender system in some form to recommend products to customers.\n",
    "\n",
    "- They are used by Amazon for product recommendations, YouTube for video recommendations, Netflix and IMDB for movie recommendations and Facebook for friend recommendations.\n",
    "\n",
    "- The ability to recommend relevant products or services to users can be very profitable for a company. Hence, it is so common to find this application by many companies.\n"
   ]
  },
  {
   "cell_type": "markdown",
   "metadata": {},
   "source": [
    "# **2. Recommender Systems Mechanism** <a class=\"anchor\" id=\"2\"></a>\n",
    "\n",
    "[Table of Contents](#0.1)\n",
    "\n",
    "\n",
    "- In this section, we will focus on recommender systems mechanism, i.e. how a recommender systems work.\n",
    "\n",
    "- Basically, a recommendation engine filters the data using different algorithms and recommends the most relevant items to users.\n",
    "\n",
    "- It first studies the past behaviour of a customer and based on that recommends products which he might buy.\n",
    "\n",
    "- The working of recommender systems is shown in the following diagram-"
   ]
  },
  {
   "cell_type": "markdown",
   "metadata": {},
   "source": [
    "![Recommender Systems Mechanism](https://miro.medium.com/max/1200/1*yYFoZKYpp7MT_iAqoE1lRw.png)\n",
    "\n",
    "\n",
    "\n",
    "#### image source : https://medium.com/@sonish.sivarajkumar/recommendation-engine-beginners-guide-aec32708e5b9"
   ]
  },
  {
   "cell_type": "markdown",
   "metadata": {},
   "source": [
    "- Now, we can recommend products to users in different ways.\n",
    "\n",
    "- We can recommend items to a user which are most popular among all the users.\n",
    "\n",
    "- We can divide the users into multiple segments and based on their preferences we recommend items to them.\n",
    "\n",
    "- The working of a recommendation engine can be categorized in three steps-\n",
    "\n",
    "\n",
    "1. Data collection\n",
    "2. Data storage\n",
    "3. Filtering the data\n",
    "\n",
    "\n",
    "These steps are explained below:-"
   ]
  },
  {
   "cell_type": "markdown",
   "metadata": {},
   "source": [
    "## **2.1 Data collection** <a class=\"anchor\" id=\"2.1\"></a>\n",
    "\n",
    "[Table of Contents](#0.1)\n",
    "\n",
    "\n",
    "- The first step in building a recommendation engine is data collection.\n",
    "\n",
    "- There are two forms of data collection techniques employed in recommender systems.\n",
    "\n",
    "- These are **explicit** and **implicit** forms of data collection.\n",
    "\n",
    "- **Explicit data** is information that is provided intentionally, i.e. input from the users such as movie ratings.\n",
    "\n",
    "- **Implicit data** is information that is not provided intentionally but gathered from available data streams like search history, clicks, order history, etc.\n",
    "\n",
    "\n",
    "\n",
    "### **Examples of explicit data collection include the following**\n",
    "\n",
    "- Asking a user to rate an item on a sliding scale.\n",
    "\n",
    "- Asking a user to search.\n",
    "\n",
    "- Asking a user to rank a collection of items from favorite to least favorite.\n",
    "\n",
    "- Presenting two items to a user and asking him/her to choose the better one of them.\n",
    "\n",
    "- Asking a user to create a list of items that he/she likes.\n",
    "\n",
    "\n",
    "\n",
    "### **Examples of implicit data collection include the following**\n",
    "\n",
    "\n",
    "- Observing the items that a user views in an online store.\n",
    "\n",
    "- Analyzing item/user viewing times.\n",
    "\n",
    "- Keeping a record of the items that a user purchases online.\n",
    "\n",
    "- Obtaining a list of items that a user has listened to or watched on his/her computer.\n",
    "\n",
    "- Analyzing the user's social network and discovering similar likes and dislikes."
   ]
  },
  {
   "cell_type": "markdown",
   "metadata": {},
   "source": [
    "## **2.2 Data storage** <a class=\"anchor\" id=\"2.2\"></a>\n",
    "\n",
    "[Table of Contents](#0.1)\n",
    "\n",
    "\n",
    "- The second step in building a recommendation engine is data storage.\n",
    "\n",
    "- The amount of data storage dictates how good the recommendations of the model are.\n",
    "\n",
    "- For example, in a movie recommendation system, the more ratings users give to movies, the better the recommendations get for other users.\n",
    "\n",
    "- The type of data plays an important role in deciding the type of storage that has to be used.\n",
    "\n",
    "- This type of storage could include a standard SQL database, a NoSQL database or some kind of object storage."
   ]
  },
  {
   "cell_type": "markdown",
   "metadata": {},
   "source": [
    "## **2.3 Filtering the data** <a class=\"anchor\" id=\"2.3\"></a>\n",
    "\n",
    "\n",
    "[Table of Contents](#0.1)\n",
    "\n",
    "\n",
    "- The third and final step in building a recommendation engine is filter the data to extract relevant information required to make final recommendations.\n",
    "\n",
    "- There are two major approaches to filter the data to extract relevant information. These are as follows:-\n",
    "\n",
    "- 1. **[Collaborative Filtering](https://en.wikipedia.org/wiki/Collaborative_filtering)** – based on similar users.\n",
    "\n",
    "- 2. **[Content-Based Filtering](http://recommender-systems.org/content-based-filtering/)** – based on product attributes.\n",
    "\n",
    "- The difference between the above two approaches are shown in the following diagram-"
   ]
  },
  {
   "cell_type": "markdown",
   "metadata": {},
   "source": [
    "![Collaborative Vs Content Based Filtering](https://miro.medium.com/max/1064/1*mz9tzP1LjPBhmiWXeHyQkQ.png)\n",
    "\n",
    "\n"
   ]
  },
  {
   "cell_type": "markdown",
   "metadata": {},
   "source": [
    "There are several other approaches for recommender systems used in practice. These are discussed later. At first, we will discuss the above two approaches."
   ]
  },
  {
   "cell_type": "markdown",
   "metadata": {},
   "source": [
    "# **3. [Collaborative Filtering Recommender System](https://en.wikipedia.org/wiki/Collaborative_filtering)** <a class=\"anchor\" id=\"3\"></a>\n",
    "\n",
    "[Table of Contents](#0.1)\n",
    "\n",
    "\n",
    "- In the [collaborative filtering](https://en.wikipedia.org/wiki/Collaborative_filtering) recommender system, the behaviour of a group of users is used to make recommendations to other users.\n",
    "\n",
    "- In this case, the system don’t have any knowledge about the product.\n",
    "\n",
    "- Collaborative filtering approach build a model from a user’s past behaviour (items previously purchased or selected and/or numerical ratings given to those items) as well as similar decisions made by other users.\n",
    "\n",
    "- This model is then used to predict items (or ratings for items) that the user may have an interest in.\n",
    "\n",
    "- It recommends based on the user’s rating in the past.\n",
    "\n",
    "- These systems try to predict the user’s rating or preferences based on past rating or preferences of other users.\n",
    "\n",
    "- These filters do not require item metadata to make predictions.\n",
    "\n",
    "- There are two types of collaborative filtering recommender system. They are:-\n",
    "\n",
    "\n",
    "### **1. User-based collaborative filtering**\n",
    "\n",
    "- In this method products are recommended to a user based on the fact that the products have been liked by users similar to the user.\n",
    "\n",
    "### **2. Item-based collaborative filtering**\n",
    "\n",
    "- This method identifies and predict similar items based on users’ previous ratings.\n"
   ]
  },
  {
   "cell_type": "markdown",
   "metadata": {},
   "source": [
    "### **Collaborative filtering methods are also classified as memory-based and model-based**\n",
    "\n",
    "\n",
    "- An example of memory-based approach is the user-based algorithm while that of model-based approach is Kernel-Mapping Recommender.\n",
    "\n",
    "\n",
    "- Collaborative filtering approaches often suffer from three problems - \n",
    "\n",
    "    - 1. cold start \n",
    "    - 2. scalability  \n",
    "    - 3. sparsity\n",
    "    \n",
    "    \n",
    "- These are discussed below:-\n",
    "\n",
    "\n",
    "#### **1. Cold start**\n",
    "\n",
    "- Cold start refers to a problem, when for a new user or item there is not enough data to make recommendations.\n",
    "\n",
    "\n",
    "\n",
    "#### **2. Scalability**\n",
    "\n",
    "- To make recommendations, we need to choose from millions of users and products. So scalability means a large amount of computation power is required to make recommendations.\n",
    "\n",
    "\n",
    "#### **3. Sparsity**\n",
    "\n",
    "- The number of items sold on e-commerce portals are extremely large. The most active users will only have rated a small subset of overall database. Thus, even the most popular items have very few ratings.\n",
    "\n",
    "\n",
    "\n",
    "- Most famous example of collaborative filtering is item-to-item collaborative filtering (people who buy x also buy y). This algorithm is popularized by Amazon recommender system.\n",
    "\n",
    "- Social network companies like Facebook, originally used collaborative filtering to recommend new friends and groups by examining the network of connections between a user and their friends.\n",
    "\n",
    "- The diagram below demonstrates collaborative filtering recommender systems."
   ]
  },
  {
   "cell_type": "markdown",
   "metadata": {},
   "source": [
    "![Collaborative Filtering Recommender System](https://miro.medium.com/max/3040/0*o0zVW2O6Rv-LI5Mu.png)\n",
    "\n"
   ]
  },
  {
   "cell_type": "markdown",
   "metadata": {},
   "source": [
    "# **4. [Content-based Filtering Recommender System](http://recommender-systems.org/content-based-filtering/)** <a class=\"anchor\" id=\"4\"></a>\n",
    "\n",
    "\n",
    "[Table of Contents](#0.1)\n",
    "\n",
    "\n",
    "- Another common approach when designing recommender systems is [Content-based Filtering](http://recommender-systems.org/content-based-filtering/).\n",
    "\n",
    "- Content-based filtering methods are based on a description of the item and a profile of the user’s preferences.\n",
    "\n",
    "- These methods are best suited to situations where there is known data on an item (name, location, description, etc.), but not on the user.\n",
    "\n",
    "- In content based filtering recommender system, the similarity between different products is calculated on the basis of the attributes of the products.\n",
    "\n",
    "- The system uses the knowledge of each product to recommend a new product.\n",
    "\n",
    "- Content-based filtering approaches utilize a series of discrete characteristics of an item in order to recommend additional items with similar properties.\n",
    "\n",
    "- For example, in a content based movie recommender system, the similarities between the movies is calculated on the basis of genres, the actors and the director.\n",
    "\n",
    "- The general idea behind these recommender systems is that if a person liked a particular item, then he will also like an item similar to it.\n",
    "\n",
    "- Content-based recommenders treat recommendation as a user-specific classification problem and learn a classifier for the user's likes and dislikes based on product features.\n",
    "\n",
    "- The diagram below demonstrates content-based filtering recommender systems."
   ]
  },
  {
   "cell_type": "markdown",
   "metadata": {},
   "source": [
    "![Content Based Filtering Recommender System](https://miro.medium.com/max/828/1*1b-yMSGZ1HfxvHiJCiPV7Q.png)\n"
   ]
  },
  {
   "cell_type": "markdown",
   "metadata": {},
   "source": [
    "# **5. Multi Criteria Recommender Systems** <a class=\"anchor\" id=\"5\"></a>\n",
    "\n",
    "\n",
    "[Table of Contents](#0.1)\n",
    "\n",
    "\n",
    "- Multi-criteria recommender systems (MCRS) can be defined as recommender systems that incorporate preference information upon multiple criteria.\n",
    "\n",
    "- Instead of developing recommendation techniques based on a single criterion values, the overall preference of user u for the item i, these systems try to predict a rating for unexplored items of u by exploiting preference information on multiple criteria that affect this overall preference value.\n",
    "\n",
    "- Researchers approach MCRS as a multi-criteria decision making (MCDM) problem, and apply MCDM methods and techniques to implement MCRS systems."
   ]
  },
  {
   "cell_type": "markdown",
   "metadata": {},
   "source": [
    "# **6. Risk-aware Recommender Systems** <a class=\"anchor\" id=\"6\"></a>\n",
    "\n",
    "\n",
    "[Table of Contents](#0.1)\n",
    "\n",
    "\n",
    "\n",
    "- The existing approaches to recommender systems focus on recommending the most relevant content to users using contextual information.\n",
    "\n",
    "- They do not take into account the risk of disturbing the user with unwanted notifications.\n",
    "\n",
    "- It is important to consider the risk of disturbing the user by pushing recommendations in certain circumstances.\n",
    "\n",
    "- For example, during a professional meeting, early morning, or late at night.\n",
    "\n",
    "- Therefore, the performance of the recommender system depends to an extent how much risk it has incorporated into the recommendation process.\n",
    "\n",
    "- One option to manage this issue is DRARS, a system which models the context-aware recommendation as a bandit problem.\n",
    "\n",
    "- This system combines a content-based technique and a contextual bandit algorithm."
   ]
  },
  {
   "cell_type": "markdown",
   "metadata": {},
   "source": [
    "# **7. Mobile Recommender Systems** <a class=\"anchor\" id=\"7\"></a>\n",
    "\n",
    "\n",
    "[Table of Contents](#0.1)\n",
    "\n",
    "\n",
    "- Mobile recommender systems make use of internet-accessing smart phones to offer personalized and context-sensitive recommendations.\n",
    "\n",
    "- There are three factors that could affect the mobile recommender systems and the accuracy of prediction results: **context**, **recommendation method** and **privacy**.\n",
    "\n",
    "- Additionally, mobile recommender systems suffer from a transplantation problem – recommendations may not apply in all regions.\n",
    "\n",
    "- One example of a mobile recommender system are the approaches taken by companies such as Uber and Lyft to generate driving routes for taxi drivers in a city.\n",
    "\n",
    "- This system uses GPS data of the routes that taxi drivers take while working. It includes location (latitude and longitude), time stamps, and operational status (with or without passengers).\n",
    "\n",
    "- It uses this data to recommend a list of pickup points along a route, with the goal of optimizing occupancy times and profits."
   ]
  },
  {
   "cell_type": "markdown",
   "metadata": {},
   "source": [
    "# **8. Hybrid Recommender Systems** <a class=\"anchor\" id=\"8\"></a>\n",
    "\n",
    "\n",
    "[Table of Contents](#0.1)\n",
    "\n",
    "\n",
    "- Most recommender systems now use a hybrid approach.\n",
    "\n",
    "- It means to combine collaborative filtering, content-based filtering and other approaches.\n",
    "\n",
    "- Hybrid approaches can be implemented in several ways which are as follows:\n",
    "\n",
    "1. By making content-based and collaborative-based predictions separately and then combining them.\n",
    "2. By adding content-based capabilities to a collaborative-based approach (and vice versa) or\n",
    "3. By combining the approaches into one model.\n",
    "\n",
    "\n",
    "- An example of hybrid recommender systems is Netflix website.\n",
    "\n",
    "- The website makes recommendations by comparing the watching and searching habits of similar users (collaborative filtering) as well as by offering movies that share characteristics with films that a user has rated highly (content-based filtering).\n",
    "\n",
    "\n",
    "Some hybridization techniques include:\n",
    "\n",
    "\n",
    "• **Weighted**: Combining the score of different recommendation components numerically.\n",
    "\n",
    "• **Switching**: Choosing among recommendation components and applying the selected one.\n",
    "\n",
    "• **Mixed**: Recommendations from different recommenders are presented together to give the recommendation.\n",
    "\n",
    "• **Feature Combination**: Features derived from different knowledge sources are combined together and given to a single recommendation algorithm.\n",
    "\n",
    "• **Feature Augmentation**: Computing a feature or set of features, which is then part of the input to the next technique.\n",
    "\n",
    "• **Cascade**: Recommenders are given strict priority, with the lower priority ones breaking ties in the scoring of the higher ones.\n",
    "\n",
    "• **Meta-level**: One recommendation technique is applied and produces some sort of model, which is then the input used by the next technique."
   ]
  },
  {
   "cell_type": "markdown",
   "metadata": {},
   "source": [
    "# **9. Introduction to Matrix Factorization** <a class=\"anchor\" id=\"9\"></a>\n",
    "\n",
    "\n",
    "[Table of Contents](#0.1)\n",
    "\n",
    "\n",
    "- **Matrix factorization** is a class of collaborative filtering algorithms used in recommender systems.\n",
    "\n",
    "- **Matrix factorization** algorithms work by decomposing the user-item interaction matrix into the product of two lower dimensionality rectangular matrices.\n",
    "\n",
    "- It became widely known during the Netflix prize challenge due to its effectiveness as reported by Simon Funk in 2006.\n",
    "\n",
    "- The idea behind matrix factorization is to represent users and items in a lower dimensional latent space.\n",
    "\n",
    "- Matrix factorization can be demonstrated by the following diagram-"
   ]
  },
  {
   "cell_type": "markdown",
   "metadata": {},
   "source": [
    "![Simple Matrix Factorization](https://miro.medium.com/max/3378/1*Zhm1NMlmVywn0G18w3exog.png)\n",
    "\n"
   ]
  },
  {
   "cell_type": "markdown",
   "metadata": {},
   "source": [
    "- Nowadays, different types of matrix factorization approaches are used in practice.\n",
    "\n",
    "- Most popular used matrix factorization approaches are discussed below."
   ]
  },
  {
   "cell_type": "markdown",
   "metadata": {},
   "source": [
    "## **Funk SVD**\n",
    "\n",
    "- Funk SVD is the original algorithm proposed by Simon Funk.\n",
    "\n",
    "- He factorized the user-item rating matrix as the product of two lower dimensional matrices – the first one has a row for each user while the second one has a column for each item.\n",
    "\n",
    "- The row or column associated to a specific user or item is referred to as latent factors.\n",
    "\n",
    "- Despite its name, in Funk SVD, no singular value decomposition is applied.\n",
    "\n",
    "\n",
    "\n",
    "## **SVD ++**\n",
    "\n",
    "- FunkSVD is able to provide very good recommendation quality, its ability to use only explicit numerical ratings as user-items interactions constitutes a limitation.\n",
    "\n",
    "- Modern day recommender systems should exploit all available interactions both explicit (e.g. numerical ratings) and implicit (e.g. likes, purchases, skipped, bookmarked).\n",
    "\n",
    "- Keeping this in mind, SVD++ was designed to take into account implicit interactions as well.\n",
    "\n",
    "- As compared to FunkSVD, SVD++ takes also into account user and item bias.\n",
    "\n",
    "\n",
    "\n",
    "## **Asymmetric SVD**\n",
    "\n",
    "- Asymmetric SVD aims at combining the advantages of SVD++ while being a model based algorithm.\n",
    "\n",
    "- Therefore it is able to consider new users with a few ratings without needing to retrain the whole model.\n",
    "\n",
    "\n",
    "\n",
    "## **Hybrid Matrix Factorization**\n",
    "\n",
    "- In recent years many other matrix factorization models have been developed to exploit the ever increasing amount and variety of available interaction data and use cases.\n",
    "\n",
    "- Hybrid matrix factorization algorithms are capable of merging explicit and implicit interactions or both content and collaborative data."
   ]
  },
  {
   "cell_type": "markdown",
   "metadata": {},
   "source": [
    "# **10. Evaluating Recommender Systems** <a class=\"anchor\" id=\"10\"></a>\n",
    "\n",
    "\n",
    "[Table of Contents](#0.1)\n",
    "\n",
    "\n",
    "- Once we develop a recommender system, we want to evaluate them.\n",
    "\n",
    "- Evaluation is important in assessing the effectiveness of recommender systems.\n",
    "\n",
    "- To measure the effectiveness of recommender systems, three types of evaluations are available – \n",
    "\n",
    "  - 1. user studies, \n",
    "  - 2. online evaluations (A/B tests), and \n",
    "  - 3. offline evaluations.\n",
    "  \n",
    "  \n",
    "- The commonly used metrics are the mean squared error (MSE) and root mean squared error(RMSE).\n",
    "\n",
    "- The information retrieval metrics such as precision and recall are useful to assess the quality of a recommender system.\n",
    "\n",
    "- Diversity, novelty and coverage are also considered as important aspects in evaluation.\n",
    "\n",
    "- User studies are rather small scale judgement technique. A few dozens or hundreds of users are presented recommendations created by different recommendation approaches, and then the users’ judge which recommendations are the best.\n",
    "\n",
    "- In A/B tests, recommendations are shown to thousands of users of a real product, and the recommender system randomly picks at least two different recommendation approaches to generate recommendations. \n",
    "\n",
    "- The effectiveness is measured with implicit measures of effectiveness such as conversion rate or click-through rate.\n",
    "\n",
    "- Offline evaluations are based on historic data. For example, a dataset that contains information about how users previously rated movies.\n",
    "\n",
    "- The effectiveness of recommendation system is then measured based on how well a recommendation approach can predict the users' ratings in the dataset."
   ]
  },
  {
   "cell_type": "markdown",
   "metadata": {},
   "source": [
    "### **Beyond measures of accuracy**\n",
    "\n",
    "Research on recommender systems is focussed towards finding the most accurate recommendation algorithms. There are a number of factors that are also important. These are discussed below.\n",
    "\n",
    "- **Diversity** – Users tend to be more satisfied with recommendations when there is a higher intra-list diversity. For example, items from different artists.\n",
    "\n",
    "- **Recommender persistence** – Sometimes, it is more effective to re-show recommendations than showing new items. There are several reasons for this. Users may ignore items when they are shown for the first time. May be they do not inspect the recommendations initially.\n",
    "\n",
    "- **Privacy** – Recommender systems usually have to deal with privacy concerns because users have to reveal sensitive information.\n",
    "\n",
    "- **User demographics** – User demographics may influence how satisfied users are with recommendations.\n",
    "\n",
    "- **Robustness** – When users can participate in the recommender system, the issue of fraud must be addressed.\n",
    "\n",
    "- **Serendipity** – Serendipity is a measure of how surprising the recommendations are. For instance, a recommender system that recommends milk to a customer in a grocery store might be perfectly accurate. But it is not a good recommendation because it is an obvious item for the customer to buy.\n",
    "\n",
    "- **Trust** – A recommender system is of little value for a user if the user does not trust the system. Trust can be built by a recommender system by explaining how it generates recommendations, and why it recommends an item.\n",
    "\n",
    "- **Labelling** – User satisfaction with recommendations may be influenced by the labelling of the recommendations."
   ]
  },
  {
   "cell_type": "markdown",
   "metadata": {},
   "source": [
    "# **11. Applications of Recommender Systems** <a class=\"anchor\" id=\"11\"></a>\n",
    "\n",
    "\n",
    "[Table of Contents](#0.1)\n",
    "\n",
    "\n",
    "- There are lots of applications of recommender systems in data science field.\n",
    "\n",
    "- The music and video companies like Netflix, Youtube and Spotify use them to generate music and video recommendations.\n",
    "\n",
    "- Amazon uses it for product recommendations.\n",
    "\n",
    "- Social media platforms such as Facebook and Twitter use them for friends and content recommendations.\n",
    "\n",
    "- Restaurants and hotels use recommender systems to generate food related recommendations.\n",
    "\n",
    "- Recommender systems found applications in research articles, financial services and life insurance."
   ]
  },
  {
   "cell_type": "markdown",
   "metadata": {},
   "source": [
    "# **12. Implement a Movie Recommender System in Python** <a class=\"anchor\" id=\"12\"></a>\n",
    "\n",
    "\n",
    "[Table of Contents](#0.1)\n",
    "\n",
    "\n",
    "- In this section, we will develop a very simple movie recommender system in Python that uses the correlation between the ratings assigned to different movies. Thus, we will find the similarity between the movies.\n",
    "\n",
    "\n",
    "- The dataset that we are going to use for this problem is the [MovieLens Dataset](https://www.kaggle.com/ayushimishra2809/movielens-dataset).\n",
    "\n",
    "\n",
    "- Let's import the basic libraries and import the data."
   ]
  },
  {
   "cell_type": "code",
   "execution_count": null,
   "metadata": {},
   "outputs": [],
   "source": [
    "import numpy as np # linear algebra\n",
    "import pandas as pd # data processing, CSV file I/O (e.g. pd.read_csv)\n",
    "\n",
    "\n",
    "import matplotlib.pyplot as plt # data visualization\n",
    "import seaborn as sns           # statistical data visualization\n",
    "%matplotlib inline\n",
    "plt.style.use('fivethirtyeight')\n"
   ]
  },
  {
   "cell_type": "markdown",
   "metadata": {},
   "source": [
    "### **Let's explore ratings file**"
   ]
  },
  {
   "cell_type": "code",
   "execution_count": null,
   "metadata": {},
   "outputs": [],
   "source": [
    "ratings_file = 'Data/ratings.csv'\n",
    "\n",
    "df_ratings = pd.read_csv(ratings_file)\n",
    "\n",
    "df_ratings.head()\n"
   ]
  },
  {
   "cell_type": "markdown",
   "metadata": {},
   "source": [
    "- We can see from the output that the `ratings.csv` file contains the - `userId`, `movieId`, `ratings` and `timestamp` attributes. \n",
    "\n",
    "- Each row in the dataset corresponds to one rating. The userId column contains the ID of the user who left the rating. The movieId column contains the Id of the movie, the rating column contains the rating left by the user. Ratings can have values between 1 and 5. \n",
    "\n",
    "- Finally, the timestamp refers to the time at which the user left the rating.\n",
    "\n",
    "- There is one problem with this dataset. It contains the IDs of the movies but not their titles. We will need movie names of the movies to recommend. The movie names are stored in the `movies.csv` file. So, let's explore that file."
   ]
  },
  {
   "cell_type": "markdown",
   "metadata": {},
   "source": [
    "### **Let's explore movies file**"
   ]
  },
  {
   "cell_type": "code",
   "execution_count": null,
   "metadata": {},
   "outputs": [],
   "source": [
    "movies_file = 'Data/movies.csv'\n",
    "\n",
    "df_movies = pd.read_csv(movies_file)\n",
    "\n",
    "df_movies.head()"
   ]
  },
  {
   "cell_type": "markdown",
   "metadata": {},
   "source": [
    "- We can see that, this dataset contains `movieId`, `the title of the movie`, and its `genre`. \n",
    "\n",
    "- We need a dataset that contains the `userId`, `movie title` and its `ratings`. \n",
    "\n",
    "- We have this information in two different files: `ratings.csv` and `movies.csv`. \n",
    "\n",
    "- To get our desired information in a single dataframe, we can merge the two dataframes objects on the `movieId` column since it is common between the two dataframes.\n",
    "\n",
    "- We can do this using the `merge()` function from the Pandas library, as shown below."
   ]
  },
  {
   "cell_type": "code",
   "execution_count": null,
   "metadata": {},
   "outputs": [],
   "source": [
    "movie_data = pd.merge(df_ratings, df_movies, on='movieId')\n",
    "\n",
    "movie_data.head()"
   ]
  },
  {
   "cell_type": "markdown",
   "metadata": {},
   "source": [
    "- We can see our newly created dataframe contains `userId`, `title` and `rating of the movie` as required.\n",
    "\n",
    "- Now let's take a look at the average rating of each movie. To do so, we can group the dataset by the title of the movie and then calculate the mean of the rating for each movie. We will then display the first five movies along with their average rating using the `head()` method as follows:"
   ]
  },
  {
   "cell_type": "code",
   "execution_count": null,
   "metadata": {},
   "outputs": [],
   "source": [
    "movie_data.groupby('title')['rating'].mean().head()"
   ]
  },
  {
   "cell_type": "markdown",
   "metadata": {},
   "source": [
    "- We can see that the average ratings are not sorted. Let's sort the ratings in the descending order of their average ratings:"
   ]
  },
  {
   "cell_type": "code",
   "execution_count": null,
   "metadata": {},
   "outputs": [],
   "source": [
    "movie_data.groupby('title')['rating'].mean().sort_values(ascending=False).head()"
   ]
  },
  {
   "cell_type": "markdown",
   "metadata": {},
   "source": [
    "- The movies have now been sorted according to the ascending order of their ratings. \n",
    "\n",
    "- However, there is a problem. A movie can make it to the top of the above list even if only a single user has given it five stars. Therefore, the above stats can be misleading. Normally, a movie which is really a good one gets a higher rating by a large number of users.\n",
    "\n",
    "- Let's now plot the total number of ratings for a movie:"
   ]
  },
  {
   "cell_type": "code",
   "execution_count": null,
   "metadata": {},
   "outputs": [],
   "source": [
    "movie_data.groupby('title')['rating'].count().sort_values(ascending=False).head()"
   ]
  },
  {
   "cell_type": "markdown",
   "metadata": {},
   "source": [
    "- Now, we can see some great movies at the top. The above list supports our point that good movies normally receive higher ratings. Now we know that both the average rating per movie and the number of ratings per movie are important attributes. \n",
    "\n",
    "- So, let's create a new dataframe that contains both of these attributes."
   ]
  },
  {
   "cell_type": "markdown",
   "metadata": {},
   "source": [
    "- We will create a new dataframe called `ratings_mean_count` and first add the average rating of each movie to this dataframe as follows-"
   ]
  },
  {
   "cell_type": "code",
   "execution_count": null,
   "metadata": {},
   "outputs": [],
   "source": [
    "ratings_mean_count = pd.DataFrame(movie_data.groupby('title')['rating'].mean())"
   ]
  },
  {
   "cell_type": "markdown",
   "metadata": {},
   "source": [
    "- Next up, we will add the number of ratings for a movie to the `ratings_mean_count` dataframe as follows-"
   ]
  },
  {
   "cell_type": "code",
   "execution_count": null,
   "metadata": {},
   "outputs": [],
   "source": [
    "ratings_mean_count['rating_counts'] = pd.DataFrame(movie_data.groupby('title')['rating'].count())"
   ]
  },
  {
   "cell_type": "markdown",
   "metadata": {},
   "source": [
    "- Now, let's preview our new dataframe."
   ]
  },
  {
   "cell_type": "code",
   "execution_count": null,
   "metadata": {},
   "outputs": [],
   "source": [
    "ratings_mean_count.head()"
   ]
  },
  {
   "cell_type": "markdown",
   "metadata": {},
   "source": [
    "- We can see movie title, along with the average rating and number of ratings for the movies."
   ]
  },
  {
   "cell_type": "markdown",
   "metadata": {},
   "source": [
    "- Now, let's plot a histogram for the number of ratings represented by the `rating_counts` column in the above dataframe. "
   ]
  },
  {
   "cell_type": "code",
   "execution_count": null,
   "metadata": {},
   "outputs": [],
   "source": [
    "plt.figure(figsize=(10,8))\n",
    "plt.rcParams['patch.force_edgecolor'] = True\n",
    "ratings_mean_count['rating_counts'].hist(bins=50)"
   ]
  },
  {
   "cell_type": "markdown",
   "metadata": {},
   "source": [
    "- From the above plot, we can see that most of the movies have received less than 50 ratings and there are no movies having more than 100 ratings."
   ]
  },
  {
   "cell_type": "markdown",
   "metadata": {},
   "source": [
    "- Now, we will plot a histogram for average ratings."
   ]
  },
  {
   "cell_type": "code",
   "execution_count": null,
   "metadata": {},
   "outputs": [],
   "source": [
    "plt.figure(figsize=(10,8))\n",
    "plt.rcParams['patch.force_edgecolor'] = True\n",
    "ratings_mean_count['rating'].hist(bins=50)"
   ]
  },
  {
   "cell_type": "markdown",
   "metadata": {},
   "source": [
    "- We can see that the integer values have taller bars than the floating values since most of the users assign rating as integer value i.e. 1, 2, 3, 4 or 5. \n",
    "\n",
    "- Furthermore, it is evident that the data has a weak normal distribution with the mean of around 3.5. There are a few outliers in the data as well."
   ]
  },
  {
   "cell_type": "markdown",
   "metadata": {},
   "source": [
    "- Movies with a higher number of ratings usually have a high average rating as well since a good movie is normally well-known and a well-known movie is watched by a large number of people, and thus usually has a higher rating. \n",
    "\n",
    "- Let's see if this is also the case with the movies in our dataset. We will plot average ratings against the number of ratings."
   ]
  },
  {
   "cell_type": "code",
   "execution_count": null,
   "metadata": {},
   "outputs": [],
   "source": [
    "plt.figure(figsize=(10,8))\n",
    "plt.rcParams['patch.force_edgecolor'] = True\n",
    "sns.jointplot(x='rating', y='rating_counts', data=ratings_mean_count, alpha=0.4)"
   ]
  },
  {
   "cell_type": "markdown",
   "metadata": {},
   "source": [
    "- The graph shows that, in general, movies with higher average ratings actually have more number of ratings, compared with movies that have lower average ratings."
   ]
  },
  {
   "cell_type": "markdown",
   "metadata": {},
   "source": [
    "# **13. Finding Similarities Between Movies** <a class=\"anchor\" id=\"13\"></a>\n",
    "\n",
    "\n",
    "[Table of Contents](#0.1)\n",
    "\n",
    "\n",
    "- Now, it is the time to find the similarity between the movies.\n",
    "\n",
    "- We will use the correlation between the ratings of a movie as the similarity metric. \n",
    "\n",
    "- To find the correlation between the ratings of the movie, we need to create a matrix where each column is a movie name and each row contains the rating assigned by a specific user to that movie. \n",
    "\n",
    "- This matrix will have a lot of null values since every movie is not rated by every user."
   ]
  },
  {
   "cell_type": "markdown",
   "metadata": {},
   "source": [
    "- We will create the matrix of movie titles and corresponding user ratings."
   ]
  },
  {
   "cell_type": "code",
   "execution_count": null,
   "metadata": {},
   "outputs": [],
   "source": [
    "user_movie_rating = movie_data.pivot_table(index='userId', columns='title', values='rating')\n",
    "\n",
    "user_movie_rating.head()"
   ]
  },
  {
   "cell_type": "markdown",
   "metadata": {},
   "source": [
    "- We know that each column contains all the user ratings for a particular movie. \n",
    "\n",
    "- Now, let's find all the user ratings for the movie `Forrest Gump (1994)` and find the movies similar to it. \n",
    "\n",
    "- We chose this movie since it has the highest number of ratings and we want to find the correlation between movies that have a higher number of ratings."
   ]
  },
  {
   "cell_type": "markdown",
   "metadata": {},
   "source": [
    "- We will find the user ratings for `Forrest Gump (1994) ` as follows-"
   ]
  },
  {
   "cell_type": "code",
   "execution_count": null,
   "metadata": {},
   "outputs": [],
   "source": [
    "forrest_gump_ratings = user_movie_rating['Forrest Gump (1994)']\n",
    "\n",
    "forrest_gump_ratings.head()"
   ]
  },
  {
   "cell_type": "markdown",
   "metadata": {},
   "source": [
    "- We can see from the above output, that it will return a Pandas series."
   ]
  },
  {
   "cell_type": "markdown",
   "metadata": {},
   "source": [
    "- Now, we will retrieve all the movies that are similar to `Forrest Gump (1994)`. \n",
    "\n",
    "- We can find the correlation between the user ratings for the `Forest Gump (1994)` and all the other movies using `corrwith()` function as shown below:"
   ]
  },
  {
   "cell_type": "code",
   "execution_count": null,
   "metadata": {},
   "outputs": [],
   "source": [
    "movies_like_forest_gump = user_movie_rating.corrwith(forrest_gump_ratings)"
   ]
  },
  {
   "cell_type": "code",
   "execution_count": null,
   "metadata": {},
   "outputs": [],
   "source": [
    "corr_forrest_gump = pd.DataFrame(movies_like_forest_gump, columns=['Correlation'])\n",
    "corr_forrest_gump.dropna(inplace=True)\n",
    "corr_forrest_gump.head()"
   ]
  },
  {
   "cell_type": "markdown",
   "metadata": {},
   "source": [
    "- Now, let's sort the movies in descending order of correlation to see highly correlated movies at the top."
   ]
  },
  {
   "cell_type": "code",
   "execution_count": null,
   "metadata": {},
   "outputs": [],
   "source": [
    "corr_forrest_gump.sort_values('Correlation', ascending=False).head(10)"
   ]
  },
  {
   "cell_type": "markdown",
   "metadata": {},
   "source": [
    "- From the above output, we can see that the movies that have high correlation with `Forrest Gump (1994)` are not very well known. \n",
    "\n",
    "- This shows that correlation alone is not a good metric for similarity because there can be a user who watched '`Forest Gump (1994)` and only one other movie and rated both of them as 5."
   ]
  },
  {
   "cell_type": "markdown",
   "metadata": {},
   "source": [
    "- A solution to this problem is to retrieve only those correlated movies that have at least more than 50 ratings. \n",
    "\n",
    "- To do so, we will add the `rating_counts` column from the `rating_mean_count` dataframe to our `corr_forrest_gump` dataframe."
   ]
  },
  {
   "cell_type": "code",
   "execution_count": null,
   "metadata": {},
   "outputs": [],
   "source": [
    "corr_forrest_gump = corr_forrest_gump.join(ratings_mean_count['rating_counts'])\n",
    "corr_forrest_gump.head()"
   ]
  },
  {
   "cell_type": "markdown",
   "metadata": {},
   "source": [
    "- We can see that the movie `10`, which has the highest correlation has only three ratings. This means that only three users gave same ratings to `Forest Gump (1994)`. \n",
    "\n",
    "- However, we can deduce that a movie cannot be declared similar to the another movie based on just 3 ratings. This is why we added `rating_counts` column. \n",
    "\n",
    "- Now, let's now filter movies correlated to `Forest Gump (1994)`, that have more than 50 ratings. \n",
    "\n",
    "- The following code snippet will do that-"
   ]
  },
  {
   "cell_type": "code",
   "execution_count": null,
   "metadata": {
    "scrolled": true
   },
   "outputs": [],
   "source": [
    "corr_forrest_gump[corr_forrest_gump ['rating_counts']>50].sort_values('Correlation', ascending=False).head()"
   ]
  },
  {
   "cell_type": "markdown",
   "metadata": {},
   "source": [
    "- Now, we can see from the above output the movies that are highly correlated with `Forrest Gump (1994)`. \n",
    "\n",
    "- The movies in the list are some of the most famous movies Hollywood movies, and since `Forest Gump (1994)` is also a very famous movie, there is a high chance that these movies are highly correlated."
   ]
  },
  {
   "cell_type": "markdown",
   "metadata": {},
   "source": [
    "- Thus, we created a simple recommender system."
   ]
  },
  {
   "cell_type": "markdown",
   "metadata": {
    "_cell_guid": "b1076dfc-b9ad-4769-8c92-a6c4dae69d19",
    "_uuid": "8f2839f25d086af736a60e9eeb907d3b93b6e0e5"
   },
   "source": [
    "# **14. Conclusion** <a class=\"anchor\" id=\"14\"></a>\n",
    "\n",
    "[Table of Contents](#0.1)\n",
    "\n",
    "\n",
    "- In this notebook, we studied what a recommender system is and how we can create it in Python using only the Pandas library. \n",
    "\n",
    "- It is important to mention that the recommender system we created is very simple. \n",
    "\n",
    "- Real-life recommender systems use very complex algorithms and is out of the scope of this notebook."
   ]
  },
  {
   "cell_type": "markdown",
   "metadata": {},
   "source": [
    "# **15. References** <a class=\"anchor\" id=\"15\"></a>\n",
    "\n",
    "[Table of Contents](#0.1)\n",
    "\n",
    "\n",
    "The ideas and concepts in this notebook are taken from the following websites-\n",
    "\n",
    "\n",
    "1. https://en.wikipedia.org/wiki/Recommender_system\n",
    "\n",
    "2. https://stackabuse.com/creating-a-simple-recommender-system-in-python-using-pandas/\n",
    "\n",
    "3. https://www.datacamp.com/community/tutorials/recommender-systems-python\n",
    "\n",
    "4. https://www.analyticsvidhya.com/blog/2018/06/comprehensive-guide-recommendation-engine-python/\n",
    "\n",
    "5. https://towardsdatascience.com/how-to-build-a-simple-recommender-system-in-python-375093c3fb7d\n",
    "\n",
    "6. https://en.m.wikipedia.org/wiki/Matrix_factorization_(recommender_systems)"
   ]
  },
  {
   "cell_type": "markdown",
   "metadata": {},
   "source": [
    "[Go to Top](#0)"
   ]
  }
 ],
 "metadata": {
  "kernelspec": {
   "display_name": "Python 3 (ipykernel)",
   "language": "python",
   "name": "python3"
  },
  "language_info": {
   "codemirror_mode": {
    "name": "ipython",
    "version": 3
   },
   "file_extension": ".py",
   "mimetype": "text/x-python",
   "name": "python",
   "nbconvert_exporter": "python",
   "pygments_lexer": "ipython3",
   "version": "3.10.9"
  }
 },
 "nbformat": 4,
 "nbformat_minor": 4
}
