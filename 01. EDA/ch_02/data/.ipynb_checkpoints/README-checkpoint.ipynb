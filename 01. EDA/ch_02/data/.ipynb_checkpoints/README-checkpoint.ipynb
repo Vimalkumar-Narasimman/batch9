{
 "cells": [
  {
   "cell_type": "markdown",
   "metadata": {},
   "source": [
    "# About the data\n",
    "\n",
    "| File               | Description                                                                                                                                          | Source                                          |\n",
    "|--------------------|------------------------------------------------------------------------------------------------------------------------------------------------------|-------------------------------------------------|\n",
    "| `earthquakes.csv`  | Earthquake data from September 18, 2018 through October 13, 2018.                                                                                    | The US Geological Survey (USGS) earthquake API. |\n",
    "| `example_data.csv` | Five rows from `earthquakes.csv` containing a subset of the columns.                                                                                 | The US Geological Survey (USGS) earthquake API. |\n",
    "| `parsed.csv`       | Data from `earthquakes.csv` with an additional column for the location (parsed from the data to handle multiple names for the same entity).          | The US Geological Survey (USGS) earthquake API. |\n",
    "| `quakes.db`        | A SQLite database of a single table, `tsunamis`, which contains all data on the earthquakes in `earthquakes.csv` that were accompanied by a tsunami. | The US Geological Survey (USGS) earthquake API. |\n",
    "| `tsunamis.csv`     | Data for all earthquakes in `earthquakes.csv` that were accompanied by a tsunami.                                                                    | The US Geological Survey (USGS) earthquake API. |\n",
    "\n",
    "### Source\n",
    "\n",
    "Information on the US Geological Survey (USGS) earthquake API can be\n",
    "found [here](https://earthquake.usgs.gov/fdsnws/event/1/). In this\n",
    "chapter, we walk through collecting this data."
   ]
  }
 ],
 "nbformat": 4,
 "nbformat_minor": 5,
 "metadata": {}
}
