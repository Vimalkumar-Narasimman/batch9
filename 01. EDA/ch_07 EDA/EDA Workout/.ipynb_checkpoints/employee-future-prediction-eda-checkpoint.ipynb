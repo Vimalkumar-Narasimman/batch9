{
 "cells": [
  {
   "cell_type": "markdown",
   "id": "416f224e",
   "metadata": {
    "papermill": {
     "duration": 0.011963,
     "end_time": "2021-11-13T04:47:55.504787",
     "exception": false,
     "start_time": "2021-11-13T04:47:55.492824",
     "status": "completed"
    },
    "tags": []
   },
   "source": [
    "# <div style=\"background-color:black;color:white;text-align:center;\"><br>Employee Future Prediction<br><br></div>"
   ]
  },
  {
   "cell_type": "markdown",
   "id": "cbe653be",
   "metadata": {
    "papermill": {
     "duration": 0.010699,
     "end_time": "2021-11-13T04:47:55.527217",
     "exception": false,
     "start_time": "2021-11-13T04:47:55.516518",
     "status": "completed"
    },
    "tags": []
   },
   "source": [
    "# <span style=\"background-color:black;color:white\">Table of Contents</span>\n",
    "\n",
    "+ [Introduction](Introduction)\n",
    "+ [About Dataset](About-Dataset)\n",
    "+ [Data Exploration](Data-Exploration)\n",
    "    1. How diverse are the Education levels of employees?\n",
    "    2. How does the company fare at Gender Diversity?\n",
    "    3. How is the Employee strength spread over office locations?\n",
    "    4. Does Employee's Education affect Payment Tiers?\n",
    "    5. Does Gender across Payment Tiers affect an Employee's decision whether he/she leaves the company or not?"
   ]
  },
  {
   "cell_type": "markdown",
   "id": "634063de",
   "metadata": {
    "papermill": {
     "duration": 0.012878,
     "end_time": "2021-11-13T04:47:55.550979",
     "exception": false,
     "start_time": "2021-11-13T04:47:55.538101",
     "status": "completed"
    },
    "tags": []
   },
   "source": [
    "# <span style=\"background-color:black;color:white\">Introduction</span>\n",
    "\n",
    "A company's HR department wants to predict whether some customers would leave the company in next 2 years. An interesting exploration that might help future employers build workflows and take decisions to prevent their favorite employees leaving their company."
   ]
  },
  {
   "cell_type": "markdown",
   "id": "072df0ed",
   "metadata": {
    "papermill": {
     "duration": 0.010449,
     "end_time": "2021-11-13T04:47:55.572251",
     "exception": false,
     "start_time": "2021-11-13T04:47:55.561802",
     "status": "completed"
    },
    "tags": []
   },
   "source": [
    "# <span style=\"background-color:black;color:white\">About Dataset</span>\n",
    "This is the metadata to the dataset.\n",
    "The data is a single CSV file with 9 attributes.\n",
    "\n",
    "| Field | Description | DataType |\n",
    "|-------|-------------|----------|\n",
    "| Education|The highest level of formal education obtained by the employee| String|\n",
    "| JoiningYear | Year of joining the company|Integer|\n",
    "|City| Job location| String|\n",
    "|PaymentTier|Payment Tier (1-3). 3 means better pay.| Integer|\n",
    "|Age| Age of the employee| Integer\n",
    "|Gender| Gender of the employee| String|\n",
    "|EverBenched| Was the employee ever benched or not|Boolean|\n",
    "|ExperienceInCurrentDomain| Work experience in the current company|Integer|\n",
    "|LeaveOrNot|Weather the employee left the company in the next 2 years|Boolean|"
   ]
  },
  {
   "cell_type": "markdown",
   "id": "054e2754",
   "metadata": {
    "papermill": {
     "duration": 0.010421,
     "end_time": "2021-11-13T04:47:55.593422",
     "exception": false,
     "start_time": "2021-11-13T04:47:55.583001",
     "status": "completed"
    },
    "tags": []
   },
   "source": [
    "# <span style=\"background-color:black;color:white\">Data Exploration</span>\n",
    "Now let us do the most interesting part, **data analysis**.\n",
    "But before this let us import some required libraries."
   ]
  },
  {
   "cell_type": "code",
   "execution_count": 1,
   "id": "8bf27066",
   "metadata": {
    "_cell_guid": "b1076dfc-b9ad-4769-8c92-a6c4dae69d19",
    "_uuid": "8f2839f25d086af736a60e9eeb907d3b93b6e0e5",
    "execution": {
     "iopub.execute_input": "2021-11-13T04:47:55.621198Z",
     "iopub.status.busy": "2021-11-13T04:47:55.620048Z",
     "iopub.status.idle": "2021-11-13T04:47:56.555790Z",
     "shell.execute_reply": "2021-11-13T04:47:56.554952Z",
     "shell.execute_reply.started": "2021-11-12T06:12:03.751215Z"
    },
    "papermill": {
     "duration": 0.951753,
     "end_time": "2021-11-13T04:47:56.556000",
     "exception": false,
     "start_time": "2021-11-13T04:47:55.604247",
     "status": "completed"
    },
    "tags": []
   },
   "outputs": [],
   "source": [
    "import numpy as np \n",
    "import pandas as pd\n",
    "import matplotlib.pyplot as plt\n",
    "import seaborn as sns\n",
    "%matplotlib inline"
   ]
  },
  {
   "cell_type": "code",
   "execution_count": 2,
   "id": "3250abee",
   "metadata": {
    "execution": {
     "iopub.execute_input": "2021-11-13T04:47:56.583428Z",
     "iopub.status.busy": "2021-11-13T04:47:56.582522Z",
     "iopub.status.idle": "2021-11-13T04:47:56.618473Z",
     "shell.execute_reply": "2021-11-13T04:47:56.619038Z",
     "shell.execute_reply.started": "2021-11-12T06:12:04.629119Z"
    },
    "papermill": {
     "duration": 0.052271,
     "end_time": "2021-11-13T04:47:56.619249",
     "exception": false,
     "start_time": "2021-11-13T04:47:56.566978",
     "status": "completed"
    },
    "tags": []
   },
   "outputs": [
    {
     "data": {
      "text/html": [
       "<div>\n",
       "<style scoped>\n",
       "    .dataframe tbody tr th:only-of-type {\n",
       "        vertical-align: middle;\n",
       "    }\n",
       "\n",
       "    .dataframe tbody tr th {\n",
       "        vertical-align: top;\n",
       "    }\n",
       "\n",
       "    .dataframe thead th {\n",
       "        text-align: right;\n",
       "    }\n",
       "</style>\n",
       "<table border=\"1\" class=\"dataframe\">\n",
       "  <thead>\n",
       "    <tr style=\"text-align: right;\">\n",
       "      <th></th>\n",
       "      <th>Education</th>\n",
       "      <th>JoiningYear</th>\n",
       "      <th>City</th>\n",
       "      <th>PaymentTier</th>\n",
       "      <th>Age</th>\n",
       "      <th>Gender</th>\n",
       "      <th>EverBenched</th>\n",
       "      <th>ExperienceInCurrentDomain</th>\n",
       "      <th>LeaveOrNot</th>\n",
       "    </tr>\n",
       "  </thead>\n",
       "  <tbody>\n",
       "    <tr>\n",
       "      <th>0</th>\n",
       "      <td>Bachelors</td>\n",
       "      <td>2017</td>\n",
       "      <td>Bangalore</td>\n",
       "      <td>3</td>\n",
       "      <td>34</td>\n",
       "      <td>Male</td>\n",
       "      <td>No</td>\n",
       "      <td>0</td>\n",
       "      <td>0</td>\n",
       "    </tr>\n",
       "    <tr>\n",
       "      <th>1</th>\n",
       "      <td>Bachelors</td>\n",
       "      <td>2013</td>\n",
       "      <td>Pune</td>\n",
       "      <td>1</td>\n",
       "      <td>28</td>\n",
       "      <td>Female</td>\n",
       "      <td>No</td>\n",
       "      <td>3</td>\n",
       "      <td>1</td>\n",
       "    </tr>\n",
       "    <tr>\n",
       "      <th>2</th>\n",
       "      <td>Bachelors</td>\n",
       "      <td>2014</td>\n",
       "      <td>New Delhi</td>\n",
       "      <td>3</td>\n",
       "      <td>38</td>\n",
       "      <td>Female</td>\n",
       "      <td>No</td>\n",
       "      <td>2</td>\n",
       "      <td>0</td>\n",
       "    </tr>\n",
       "    <tr>\n",
       "      <th>3</th>\n",
       "      <td>Masters</td>\n",
       "      <td>2016</td>\n",
       "      <td>Bangalore</td>\n",
       "      <td>3</td>\n",
       "      <td>27</td>\n",
       "      <td>Male</td>\n",
       "      <td>No</td>\n",
       "      <td>5</td>\n",
       "      <td>1</td>\n",
       "    </tr>\n",
       "    <tr>\n",
       "      <th>4</th>\n",
       "      <td>Masters</td>\n",
       "      <td>2017</td>\n",
       "      <td>Pune</td>\n",
       "      <td>3</td>\n",
       "      <td>24</td>\n",
       "      <td>Male</td>\n",
       "      <td>Yes</td>\n",
       "      <td>2</td>\n",
       "      <td>1</td>\n",
       "    </tr>\n",
       "  </tbody>\n",
       "</table>\n",
       "</div>"
      ],
      "text/plain": [
       "   Education  JoiningYear       City  PaymentTier  Age  Gender EverBenched  \\\n",
       "0  Bachelors         2017  Bangalore            3   34    Male          No   \n",
       "1  Bachelors         2013       Pune            1   28  Female          No   \n",
       "2  Bachelors         2014  New Delhi            3   38  Female          No   \n",
       "3    Masters         2016  Bangalore            3   27    Male          No   \n",
       "4    Masters         2017       Pune            3   24    Male         Yes   \n",
       "\n",
       "   ExperienceInCurrentDomain  LeaveOrNot  \n",
       "0                          0           0  \n",
       "1                          3           1  \n",
       "2                          2           0  \n",
       "3                          5           1  \n",
       "4                          2           1  "
      ]
     },
     "execution_count": 2,
     "metadata": {},
     "output_type": "execute_result"
    }
   ],
   "source": [
    "data=pd.read_csv(\"Employee.csv\")\n",
    "data.head()"
   ]
  },
  {
   "cell_type": "markdown",
   "id": "bb9375ce",
   "metadata": {
    "papermill": {
     "duration": 0.011006,
     "end_time": "2021-11-13T04:47:56.642220",
     "exception": false,
     "start_time": "2021-11-13T04:47:56.631214",
     "status": "completed"
    },
    "tags": []
   },
   "source": [
    "## <div style=\"text-align:center;background-color:#282c34;color:#61dafb\"><br>1. How diverse are the Education levels of employees?<br><br></div>"
   ]
  },
  {
   "cell_type": "code",
   "execution_count": 3,
   "id": "83c5aa79",
   "metadata": {
    "_kg_hide-input": true,
    "execution": {
     "iopub.execute_input": "2021-11-13T04:47:56.674703Z",
     "iopub.status.busy": "2021-11-13T04:47:56.673659Z",
     "iopub.status.idle": "2021-11-13T04:47:56.813736Z",
     "shell.execute_reply": "2021-11-13T04:47:56.814228Z",
     "shell.execute_reply.started": "2021-11-12T06:39:07.770254Z"
    },
    "papermill": {
     "duration": 0.16066,
     "end_time": "2021-11-13T04:47:56.814431",
     "exception": false,
     "start_time": "2021-11-13T04:47:56.653771",
     "status": "completed"
    },
    "tags": []
   },
   "outputs": [
    {
     "data": {
      "image/png": "[encoded data removed]",
      "text/plain": [
       "<Figure size 640x480 with 1 Axes>"
      ]
     },
     "metadata": {},
     "output_type": "display_data"
    }
   ],
   "source": [
    "l,a=list(set(data[\"Education\"])),[]\n",
    "for i in range(len(l)):\n",
    "    a.append(list(data[\"Education\"]).count(l[i]))\n",
    "    l[i]=l[i]+ \" \"+ str(list(data[\"Education\"]).count(l[i])*100/len(data[\"Education\"]))+ \" % (\" +str(list(data[\"Education\"]).count(l[i]))+ \")\"\n",
    "explode = (0.1, 0.1, 0.1)\n",
    "plt.pie(a,labels=l, explode=explode)\n",
    "plt.show()"
   ]
  },
  {
   "cell_type": "markdown",
   "id": "94fb57a8",
   "metadata": {
    "papermill": {
     "duration": 0.011899,
     "end_time": "2021-11-13T04:47:56.838313",
     "exception": false,
     "start_time": "2021-11-13T04:47:56.826414",
     "status": "completed"
    },
    "tags": []
   },
   "source": [
    "<p style=\"font-size:1.2em;border:1px solid black;padding:3%;\">\n",
    "    Surprising! Isn't it? Around <strong>77%</strong> of employees hold a <strong>Bachelors degree</strong>.<br>\n",
    "    Around <strong>19% hold a Master's degree</strong>. <br>\n",
    "    And only a mere around <strong>4%</strong> are <strong>PhDs</strong>. They might have been hired for their R&D Cell. It looks like this company doesn't spend much on R&D. Phew!\n",
    "</p>"
   ]
  },
  {
   "cell_type": "markdown",
   "id": "a358f23f",
   "metadata": {
    "papermill": {
     "duration": 0.011582,
     "end_time": "2021-11-13T04:47:56.862633",
     "exception": false,
     "start_time": "2021-11-13T04:47:56.851051",
     "status": "completed"
    },
    "tags": []
   },
   "source": [
    "## <div style=\"text-align:center;background-color:#282c34;color:#61dafb\"><br>2. How does the company fare at Gender Diversity?<br><br></div>\n",
    "<center>Critical Question. Isn't it?</center>"
   ]
  },
  {
   "cell_type": "code",
   "execution_count": 4,
   "id": "ec36f171",
   "metadata": {
    "_kg_hide-input": true,
    "execution": {
     "iopub.execute_input": "2021-11-13T04:47:56.890373Z",
     "iopub.status.busy": "2021-11-13T04:47:56.889676Z",
     "iopub.status.idle": "2021-11-13T04:47:57.047262Z",
     "shell.execute_reply": "2021-11-13T04:47:57.047708Z",
     "shell.execute_reply.started": "2021-11-12T06:44:55.316117Z"
    },
    "papermill": {
     "duration": 0.173029,
     "end_time": "2021-11-13T04:47:57.047934",
     "exception": false,
     "start_time": "2021-11-13T04:47:56.874905",
     "status": "completed"
    },
    "tags": []
   },
   "outputs": [
    {
     "data": {
      "image/png": "[encoded data removed]",
      "text/plain": [
       "<Figure size 640x480 with 1 Axes>"
      ]
     },
     "metadata": {},
     "output_type": "display_data"
    }
   ],
   "source": [
    "l,a=list(set(data[\"Gender\"])),[]\n",
    "for i in range(len(l)):\n",
    "    a.append(list(data[\"Gender\"]).count(l[i]))\n",
    "    l[i]=l[i]+ \" \"+ str(int(list(data[\"Gender\"]).count(l[i])*100/len(data[\"Gender\"])))+\" %\"\n",
    "plt.bar(l,a, color='#282c34', fill=True)\n",
    "ax=plt.gca()\n",
    "ax.set_facecolor('#61dafb')\n",
    "plt.show()"
   ]
  },
  {
   "cell_type": "markdown",
   "id": "0d39928d",
   "metadata": {
    "papermill": {
     "duration": 0.012294,
     "end_time": "2021-11-13T04:47:57.073101",
     "exception": false,
     "start_time": "2021-11-13T04:47:57.060807",
     "status": "completed"
    },
    "tags": []
   },
   "source": [
    "<p style=\"font-size:1.2em;border:1px solid black;padding:3%;\">\n",
    "    Woah!Around <strong>59%</strong> of the workforce is <strong>Male</strong>.<br>\n",
    "    And <strong>only 40-41% are Females</strong>. <br>\n",
    "    Even though it's not an equity by a little margin, but yeah it is commendable to maintain such bigger female to male ratio in a world where female employment rates are very low.<br>\n",
    "    <strong> Great work Indian Workplaces!</strong>\n",
    "</p>"
   ]
  },
  {
   "cell_type": "markdown",
   "id": "4009d31c",
   "metadata": {
    "papermill": {
     "duration": 0.012423,
     "end_time": "2021-11-13T04:47:57.099144",
     "exception": false,
     "start_time": "2021-11-13T04:47:57.086721",
     "status": "completed"
    },
    "tags": []
   },
   "source": [
    "## <div style=\"text-align:center;background-color:#282c34;color:#61dafb\"><br>3. How is the Employee strength spread over office locations?<br><br></div>"
   ]
  },
  {
   "cell_type": "code",
   "execution_count": 5,
   "id": "34a776b4",
   "metadata": {
    "_kg_hide-input": true,
    "execution": {
     "iopub.execute_input": "2021-11-13T04:47:57.128303Z",
     "iopub.status.busy": "2021-11-13T04:47:57.127556Z",
     "iopub.status.idle": "2021-11-13T04:47:57.327079Z",
     "shell.execute_reply": "2021-11-13T04:47:57.326541Z",
     "shell.execute_reply.started": "2021-11-12T06:39:31.671134Z"
    },
    "papermill": {
     "duration": 0.215256,
     "end_time": "2021-11-13T04:47:57.327243",
     "exception": false,
     "start_time": "2021-11-13T04:47:57.111987",
     "status": "completed"
    },
    "tags": []
   },
   "outputs": [
    {
     "data": {
      "image/png": "[encoded data removed]",
      "text/plain": [
       "<Figure size 640x480 with 1 Axes>"
      ]
     },
     "metadata": {},
     "output_type": "display_data"
    }
   ],
   "source": [
    "l,a=list(set(data[\"City\"])),[]\n",
    "for i in range(len(l)):\n",
    "    a.append(list(data[\"City\"]).count(l[i]))\n",
    "    l[i]=l[i]+ \" \"+ str(list(data[\"City\"]).count(l[i])*100/len(data[\"City\"]))+ \" % (\" +str(list(data[\"City\"]).count(l[i]))+ \")\"\n",
    "explode = (0.1, 0.1, 0.1)\n",
    "plt.pie(a,labels=l, explode=explode)\n",
    "plt.show()"
   ]
  },
  {
   "cell_type": "markdown",
   "id": "c81ca7d5",
   "metadata": {
    "papermill": {
     "duration": 0.013341,
     "end_time": "2021-11-13T04:47:57.354268",
     "exception": false,
     "start_time": "2021-11-13T04:47:57.340927",
     "status": "completed"
    },
    "tags": []
   },
   "source": [
    "<p style=\"font-size:1.2em;border:1px solid black;padding:3%;\">\n",
    "    Great! We can see nearly <strong>48%</strong> of the workforce is based in <strong>Bangalore only</strong>.<br>\n",
    "    While New Delhi and Pune Offices share 25% and 27% of workforce respectively.<br>    <blockquote>\n",
    "        One more thing to note the company has just 3 offices but having such a huge workforce of more than 45K employees. <b>Isn't it strange?</b>\n",
    "        <br>\n",
    "</p>"
   ]
  },
  {
   "cell_type": "markdown",
   "id": "0740ce1b",
   "metadata": {
    "papermill": {
     "duration": 0.013485,
     "end_time": "2021-11-13T04:47:57.381884",
     "exception": false,
     "start_time": "2021-11-13T04:47:57.368399",
     "status": "completed"
    },
    "tags": []
   },
   "source": [
    "## <div style=\"text-align:center;background-color:#282c34;color:#61dafb\"><br>4. Does Employee's Education affect Payment Tiers?<br><br></div>"
   ]
  },
  {
   "cell_type": "code",
   "execution_count": 6,
   "id": "9eb0f5d1",
   "metadata": {
    "_kg_hide-input": true,
    "execution": {
     "iopub.execute_input": "2021-11-13T04:47:57.420272Z",
     "iopub.status.busy": "2021-11-13T04:47:57.419118Z",
     "iopub.status.idle": "2021-11-13T04:47:57.683640Z",
     "shell.execute_reply": "2021-11-13T04:47:57.684117Z",
     "shell.execute_reply.started": "2021-11-12T06:32:04.305786Z"
    },
    "papermill": {
     "duration": 0.288195,
     "end_time": "2021-11-13T04:47:57.684324",
     "exception": false,
     "start_time": "2021-11-13T04:47:57.396129",
     "status": "completed"
    },
    "tags": []
   },
   "outputs": [
    {
     "data": {
      "text/plain": [
       "<seaborn.axisgrid.FacetGrid at 0x7fbb1f47f890>"
      ]
     },
     "execution_count": 6,
     "metadata": {},
     "output_type": "execute_result"
    },
    {
     "data": {
      "image/png": "[encoded data removed]",
      "text/plain": [
       "<Figure size 360x360 with 1 Axes>"
      ]
     },
     "metadata": {
      "needs_background": "light"
     },
     "output_type": "display_data"
    }
   ],
   "source": [
    "sns.displot(data=data, x=\"PaymentTier\", y=\"Education\")"
   ]
  },
  {
   "cell_type": "markdown",
   "id": "60488382",
   "metadata": {
    "papermill": {
     "duration": 0.014023,
     "end_time": "2021-11-13T04:47:57.712306",
     "exception": false,
     "start_time": "2021-11-13T04:47:57.698283",
     "status": "completed"
    },
    "tags": []
   },
   "source": [
    "## <div style=\"padding:10px;text-align:center;background-color:#282c34;color:#61dafb\"><br>5. Does Gender across Payment Tiers affect an Employee's decision whether he/she leaves the company or not?<br><br></div>"
   ]
  },
  {
   "cell_type": "code",
   "execution_count": 7,
   "id": "58ae80ad",
   "metadata": {
    "_kg_hide-input": true,
    "execution": {
     "iopub.execute_input": "2021-11-13T04:47:57.744882Z",
     "iopub.status.busy": "2021-11-13T04:47:57.743887Z",
     "iopub.status.idle": "2021-11-13T04:47:58.784908Z",
     "shell.execute_reply": "2021-11-13T04:47:58.782582Z",
     "shell.execute_reply.started": "2021-11-12T06:54:19.021176Z"
    },
    "papermill": {
     "duration": 1.058594,
     "end_time": "2021-11-13T04:47:58.785168",
     "exception": false,
     "start_time": "2021-11-13T04:47:57.726574",
     "status": "completed"
    },
    "tags": []
   },
   "outputs": [
    {
     "data": {
      "text/plain": [
       "<seaborn.axisgrid.FacetGrid at 0x7fbb1f3bb290>"
      ]
     },
     "execution_count": 7,
     "metadata": {},
     "output_type": "execute_result"
    },
    {
     "data": {
      "image/png": "[encoded data removed]",
      "text/plain": [
       "<Figure size 1152.12x360 with 3 Axes>"
      ]
     },
     "metadata": {
      "needs_background": "light"
     },
     "output_type": "display_data"
    }
   ],
   "source": [
    "sns.displot(data=data, y=\"LeaveOrNot\", legend=True, hue=\"Gender\",col=\"PaymentTier\")"
   ]
  },
  {
   "cell_type": "markdown",
   "id": "2861c691",
   "metadata": {
    "papermill": {
     "duration": 0.019425,
     "end_time": "2021-11-13T04:47:58.824751",
     "exception": false,
     "start_time": "2021-11-13T04:47:58.805326",
     "status": "completed"
    },
    "tags": []
   },
   "source": [
    "<div style=\"font-size:1.2em;border:1px solid black;padding:3%;\">\n",
    "    Okay! This one is pretty meaningful to us. Following conclusions can be made:<br>\n",
    "    <ol>\n",
    "        <li>In Payment Tier 1 (less paid jobs), more Female employees leave the job. Whereas more male members continue their jobs.</li>\n",
    "        <li>In Payment Tier 2, once again more number of Females leave the job as compared to their male counterparts. And as seen in Tier 2, male members tend to stick to their company.<br>\n",
    "        <li>But when it comes to Payment Tier 3, men defy all previous notions and change more jobs than their female counterparts.</li></ol>\n",
    "    Really surprising? Isn't it...\n",
    "</div>"
   ]
  },
  {
   "cell_type": "markdown",
   "id": "163d71b8",
   "metadata": {
    "papermill": {
     "duration": 0.014851,
     "end_time": "2021-11-13T04:47:58.854948",
     "exception": false,
     "start_time": "2021-11-13T04:47:58.840097",
     "status": "completed"
    },
    "tags": []
   },
   "source": [
    "## <div style=\"background-color:#61dafb;color:#fff;width:100%;text-align:center;line-height:1.4em; padding-top:4%;padding-bottom:4%\">Thank you so much for viewing!</div>"
   ]
  }
 ],
 "metadata": {
  "kernelspec": {
   "display_name": "Python 3 (ipykernel)",
   "language": "python",
   "name": "python3"
  },
  "language_info": {
   "codemirror_mode": {
    "name": "ipython",
    "version": 3
   },
   "file_extension": ".py",
   "mimetype": "text/x-python",
   "name": "python",
   "nbconvert_exporter": "python",
   "pygments_lexer": "ipython3",
   "version": "3.10.9"
  },
  "papermill": {
   "default_parameters": {},
   "duration": 12.476586,
   "end_time": "2021-11-13T04:47:59.581147",
   "environment_variables": {},
   "exception": null,
   "input_path": "__notebook__.ipynb",
   "output_path": "__notebook__.ipynb",
   "parameters": {},
   "start_time": "2021-11-13T04:47:47.104561",
   "version": "2.3.3"
  }
 },
 "nbformat": 4,
 "nbformat_minor": 5
}
