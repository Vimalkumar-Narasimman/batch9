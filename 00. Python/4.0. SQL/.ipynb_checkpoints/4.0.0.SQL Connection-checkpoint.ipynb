{
 "cells": [
  {
   "cell_type": "code",
   "execution_count": null,
   "id": "1a8d4de1",
   "metadata": {
    "scrolled": true
   },
   "outputs": [],
   "source": [
    "import pyodbc\n",
    "\n",
    "conn = pyodbc.connect('Driver={ODBC Driver 13 for SQL Server};Server=tcp:mssqllearningserver.database.windows.net,1433;Database=sqllearning;Uid=sqladmin;Pwd=SQL@dm!n;Encrypt=yes;TrustServerCertificate=no;Connection Timeout=30;')\n",
    "cursor = conn.cursor()\n"
   ]
  },
  {
   "cell_type": "code",
   "execution_count": null,
   "id": "69744852",
   "metadata": {},
   "outputs": [],
   "source": [
    "sqlStatement = 'SELECT * FROM [emp].[locations]'\n",
    "\n",
    "cursor.execute(sqlStatement)\n",
    "for row in cursor.fetchall():\n",
    "    print(row)"
   ]
  },
  {
   "cell_type": "code",
   "execution_count": null,
   "id": "48459b1a",
   "metadata": {},
   "outputs": [],
   "source": [
    "sqlStatement = 'SELECT * FROM [sales].[staffs]'\n",
    "\n",
    "cursor.execute(sqlStatement)\n",
    "for row in cursor.fetchall():\n",
    "    print(row)"
   ]
  },
  {
   "cell_type": "code",
   "execution_count": null,
   "id": "86eca47b",
   "metadata": {},
   "outputs": [],
   "source": [
    "sqlStatement = '''SELECT r.region_name,\n",
    "c.country_name\n",
    "FROM [emp].[regions] as r\n",
    "INNER JOIN [emp].[countries] as c ON r.region_id = c.region_id\n",
    "ORDER BY r.region_name'''\n",
    "\n",
    "cursor.execute(sqlStatement)\n",
    "for row in cursor.fetchall():\n",
    "    print(row)"
   ]
  },
  {
   "cell_type": "code",
   "execution_count": null,
   "id": "e029cbcb",
   "metadata": {},
   "outputs": [],
   "source": [
    "sqlStatement = 'SELECT * FROM [emp].[regions]'\n",
    "\n",
    "cursor.execute(sqlStatement)\n",
    "for row in cursor.fetchall():\n",
    "    print(row)"
   ]
  },
  {
   "cell_type": "code",
   "execution_count": null,
   "id": "2e593364",
   "metadata": {},
   "outputs": [],
   "source": [
    "\n",
    "sqlStatement = \"INSERT INTO [emp].[regions] VALUES ('Pacific')\"\n",
    "cursor.execute(sqlStatement)\n",
    "conn.commit()"
   ]
  },
  {
   "cell_type": "code",
   "execution_count": null,
   "id": "cd608074",
   "metadata": {},
   "outputs": [],
   "source": [
    "\n",
    "sqlStatement = \"DELETE FROM [emp].[regions] WHERE region_name = 'Pacific'\"\n",
    "cursor.execute(sqlStatement)\n",
    "conn.commit()"
   ]
  },
  {
   "cell_type": "code",
   "execution_count": null,
   "id": "fab36f25",
   "metadata": {},
   "outputs": [],
   "source": [
    "\n",
    "sqlStatement = \"UPDATE r SET r.region_name = 'Asia - Pacific' FROM [emp].[regions] as r WHERE r.region_name = 'Asia'\"\n",
    "cursor.execute(sqlStatement)\n",
    "conn.commit()"
   ]
  }
 ],
 "metadata": {
  "kernelspec": {
   "display_name": "Python 3 (ipykernel)",
   "language": "python",
   "name": "python3"
  },
  "language_info": {
   "codemirror_mode": {
    "name": "ipython",
    "version": 3
   },
   "file_extension": ".py",
   "mimetype": "text/x-python",
   "name": "python",
   "nbconvert_exporter": "python",
   "pygments_lexer": "ipython3",
   "version": "3.10.9"
  }
 },
 "nbformat": 4,
 "nbformat_minor": 5
}
