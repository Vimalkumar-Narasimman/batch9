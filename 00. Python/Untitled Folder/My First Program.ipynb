{
 "cells": [
  {
   "cell_type": "code",
   "execution_count": 5,
   "id": "37d5bbc3",
   "metadata": {},
   "outputs": [
    {
     "data": {
      "text/plain": [
       "[4, 2, 6, 4, 8]"
      ]
     },
     "execution_count": 5,
     "metadata": {},
     "output_type": "execute_result"
    }
   ],
   "source": [
    "lst = [4,2,6,7,4,3,8,9]\n",
    "even = []\n",
    "for v in lst:\n",
    "    if v % 2 ==0 :\n",
    "        even.append(v)\n",
    "        \n",
    "even    "
   ]
  },
  {
   "cell_type": "code",
   "execution_count": 6,
   "id": "ff401089",
   "metadata": {},
   "outputs": [
    {
     "data": {
      "text/plain": [
       "[4, 2, 6, 4, 8]"
      ]
     },
     "execution_count": 6,
     "metadata": {},
     "output_type": "execute_result"
    }
   ],
   "source": [
    "#[ <true value> <for loop the list with value> <true condition]\n",
    "[v for v in lst if v%2 == 0]"
   ]
  },
  {
   "cell_type": "code",
   "execution_count": 10,
   "id": "b7a6f261",
   "metadata": {},
   "outputs": [
    {
     "data": {
      "text/plain": [
       "([4, 2, 6, 7, 4, 3, 8, 9],\n",
       " [16, 4, 36, 2.6457513110645907, 16, 1.7320508075688772, 64, 3.0])"
      ]
     },
     "execution_count": 10,
     "metadata": {},
     "output_type": "execute_result"
    }
   ],
   "source": [
    "lst1 = []\n",
    "for v in lst:\n",
    "    if v % 2 ==0 :\n",
    "        lst1.append(v**2)#pow(v,2)\n",
    "    else:\n",
    "        lst1.append(v**0.5)#pow(v,0.5); math.sqrt(v)\n",
    "        \n",
    "lst, lst1 "
   ]
  },
  {
   "cell_type": "code",
   "execution_count": 11,
   "id": "85a11944",
   "metadata": {},
   "outputs": [
    {
     "data": {
      "text/plain": [
       "[16, 4, 36, 2.6457513110645907, 16, 1.7320508075688772, 64, 3.0]"
      ]
     },
     "execution_count": 11,
     "metadata": {},
     "output_type": "execute_result"
    }
   ],
   "source": [
    "[v**2 if v%2 == 0 else v**0.5 for v in lst ]"
   ]
  },
  {
   "cell_type": "code",
   "execution_count": 12,
   "id": "9d232e6a",
   "metadata": {},
   "outputs": [
    {
     "data": {
      "text/plain": [
       "10"
      ]
     },
     "execution_count": 12,
     "metadata": {},
     "output_type": "execute_result"
    }
   ],
   "source": [
    "10 if 10%2==0 else 0"
   ]
  },
  {
   "cell_type": "markdown",
   "id": "d83b4b59",
   "metadata": {},
   "source": [
    "input: [2,3,4,5]\n",
    "output: [(2,4),(3,9),(4,16),(5,25)]"
   ]
  },
  {
   "cell_type": "code",
   "execution_count": 14,
   "id": "0628da3f",
   "metadata": {},
   "outputs": [
    {
     "data": {
      "text/plain": [
       "[(2, 4), (3, 9), (4, 16), (5, 25)]"
      ]
     },
     "execution_count": 14,
     "metadata": {},
     "output_type": "execute_result"
    }
   ],
   "source": [
    "lst = [2,3,4,5]\n",
    "tpl = [(val, val**2)for val in lst]\n",
    "tpl"
   ]
  },
  {
   "cell_type": "code",
   "execution_count": 22,
   "id": "1c0c75a3",
   "metadata": {},
   "outputs": [
    {
     "data": {
      "text/plain": [
       "[(2, 4), (3, 9), (4, 16)]"
      ]
     },
     "execution_count": 22,
     "metadata": {},
     "output_type": "execute_result"
    }
   ],
   "source": [
    "lst1 = [2,3,4,5]\n",
    "lst2 = [4,9,16]\n",
    "list(zip(lst1, lst2))"
   ]
  },
  {
   "cell_type": "code",
   "execution_count": 17,
   "id": "fd7801c4",
   "metadata": {},
   "outputs": [
    {
     "data": {
      "text/plain": [
       "[(2, 3, 4, 5), (4, 9, 16, 25)]"
      ]
     },
     "execution_count": 17,
     "metadata": {},
     "output_type": "execute_result"
    }
   ],
   "source": [
    "list(zip(*tpl))"
   ]
  },
  {
   "cell_type": "code",
   "execution_count": 25,
   "id": "6c31a451",
   "metadata": {},
   "outputs": [
    {
     "data": {
      "text/plain": [
       "(5, 'Hello')"
      ]
     },
     "execution_count": 25,
     "metadata": {},
     "output_type": "execute_result"
    }
   ],
   "source": [
    "x = 4\n",
    "y = 5\n",
    "x = 'Hello'\n",
    "# x = 5; y = 4\n",
    "\n",
    "x, y = y, x\n",
    "\n",
    "z = x, y\n",
    "z[0] = 10"
   ]
  },
  {
   "cell_type": "code",
   "execution_count": 27,
   "id": "923c7ef1",
   "metadata": {},
   "outputs": [
    {
     "data": {
      "text/plain": [
       "([20, 3, 4], [20, 3, 4])"
      ]
     },
     "execution_count": 27,
     "metadata": {},
     "output_type": "execute_result"
    }
   ],
   "source": [
    "lst = [2,3,4]\n",
    "lst1 = lst\n",
    "lst[0] = 20\n",
    "\n",
    "lst, lst1"
   ]
  },
  {
   "cell_type": "code",
   "execution_count": 28,
   "id": "54188159",
   "metadata": {},
   "outputs": [
    {
     "data": {
      "text/plain": [
       "([20, 3, 4], [2, 3, 4])"
      ]
     },
     "execution_count": 28,
     "metadata": {},
     "output_type": "execute_result"
    }
   ],
   "source": [
    "lst = [2,3,4]\n",
    "lst1 = lst.copy()\n",
    "lst[0] = 20\n",
    "\n",
    "lst, lst1"
   ]
  },
  {
   "cell_type": "code",
   "execution_count": 29,
   "id": "a01c2e92",
   "metadata": {},
   "outputs": [
    {
     "data": {
      "text/plain": [
       "([20, 3, 4], [2, 3, 4])"
      ]
     },
     "execution_count": 29,
     "metadata": {},
     "output_type": "execute_result"
    }
   ],
   "source": [
    "lst = [2,3,4]\n",
    "lst1 = lst[:]\n",
    "lst[0] = 20\n",
    "\n",
    "lst, lst1"
   ]
  },
  {
   "cell_type": "code",
   "execution_count": 31,
   "id": "9cbb3a74",
   "metadata": {},
   "outputs": [
    {
     "data": {
      "text/plain": [
       "[4, 3, 2]"
      ]
     },
     "execution_count": 31,
     "metadata": {},
     "output_type": "execute_result"
    }
   ],
   "source": [
    "lst = [2,3,4]\n",
    "lst[::-1]"
   ]
  }
 ],
 "metadata": {
  "kernelspec": {
   "display_name": "Python 3 (ipykernel)",
   "language": "python",
   "name": "python3"
  },
  "language_info": {
   "codemirror_mode": {
    "name": "ipython",
    "version": 3
   },
   "file_extension": ".py",
   "mimetype": "text/x-python",
   "name": "python",
   "nbconvert_exporter": "python",
   "pygments_lexer": "ipython3",
   "version": "3.10.9"
  }
 },
 "nbformat": 4,
 "nbformat_minor": 5
}
