{
 "cells": [
  {
   "cell_type": "markdown",
   "id": "feea5e03",
   "metadata": {},
   "source": [
    "# About the data\n",
    "\n",
    "| File               | Description                                                                                                                                          | Source                                          |\n",
    "|--------------------|------------------------------------------------------------------------------------------------------------------------------------------------------|-------------------------------------------------|\n",
    "| `earthquakes.csv`  | Earthquake data from September 18, 2018 through October 13, 2018.                                                                                    | The US Geological Survey (USGS) earthquake API. |\n",
    "| `example_data.csv` | Five rows from `earthquakes.csv` containing a subset of the columns.                                                                                 | The US Geological Survey (USGS) earthquake API. |\n",
    "| `parsed.csv`       | Data from `earthquakes.csv` with an additional column for the location (parsed from the data to handle multiple names for the same entity).          | The US Geological Survey (USGS) earthquake API. |\n",
    "| `quakes.db`        | A SQLite database of a single table, `tsunamis`, which contains all data on the earthquakes in `earthquakes.csv` that were accompanied by a tsunami. | The US Geological Survey (USGS) earthquake API. |\n",
    "| `tsunamis.csv`     | Data for all earthquakes in `earthquakes.csv` that were accompanied by a tsunami.                                                                    | The US Geological Survey (USGS) earthquake API. |\n",
    "\n",
    "### Source\n",
    "\n",
    "Information on the US Geological Survey (USGS) earthquake API can be\n",
    "found [here](https://earthquake.usgs.gov/fdsnws/event/1/). In this\n",
    "chapter, we walk through collecting this data."
   ]
  }
 ],
 "metadata": {
  "kernelspec": {
   "display_name": "Python 3 (ipykernel)",
   "language": "python",
   "name": "python3"
  },
  "language_info": {
   "codemirror_mode": {
    "name": "ipython",
    "version": 3
   },
   "file_extension": ".py",
   "mimetype": "text/x-python",
   "name": "python",
   "nbconvert_exporter": "python",
   "pygments_lexer": "ipython3",
   "version": "3.10.9"
  }
 },
 "nbformat": 4,
 "nbformat_minor": 5
}
