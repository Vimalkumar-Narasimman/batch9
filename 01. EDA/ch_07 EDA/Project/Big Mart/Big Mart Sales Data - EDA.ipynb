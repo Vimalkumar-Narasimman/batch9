{
 "cells": [
  {
   "cell_type": "markdown",
   "id": "fd72363f",
   "metadata": {},
   "source": [
    "## Big Mart Sales Data Pre-processing, EDA "
   ]
  },
  {
   "cell_type": "markdown",
   "id": "7315d7ec",
   "metadata": {},
   "source": [
    "### Data Set Problems\n",
    "👉 BigMart's data scientists gathered 2013 sales data for 1559 commodities across ten locations in many cities. Additionally, certain characteristics of each product and retailer have been determined.\n",
    "\n",
    "👉 Data pre-processing will be performed to prepare the dataset before it is used by the machine learning model.\n",
    "\n",
    "    Perform initial data exploration.\n",
    "    Perform data pre-processing.\n",
    "    Perform EDA in cleaned data set."
   ]
  },
  {
   "cell_type": "markdown",
   "id": "dc976cfb",
   "metadata": {},
   "source": [
    "Use the below color patterns:\n",
    "\n",
    "    cyan_grad = ['#142459', '#176BA0', '#19AADE', '#1AC9E6', '#87EAFA']\n",
    "    purple_grad = ['#491D8B', '#6929C4', '#8A3FFC', '#A56EFF', '#BE95FF']\n",
    "    teal_grad = ['#005D5D', '#007D79', '#009D9A', '#08BDBA', '#3DDBD9']\n",
    "    color_mix = ['#0698DC', '#05E6FA', '#09899B', '#04C4AC', '#AB1CB4']\n",
    "    black_grad = ['#100C07', '#3E3B39', '#6D6A6A', '#9B9A9C', '#CAC9CD']\n",
    "\n",
    "#### --- Plot Color Palletes ---\n",
    "    sns.palplot(cyan_grad)\n",
    "    sns.palplot(purple_grad)\n",
    "    sns.palplot(teal_grad)\n",
    "    sns.palplot(color_mix)\n",
    "    sns.palplot(black_grad)\n"
   ]
  },
  {
   "cell_type": "code",
   "execution_count": 2,
   "id": "99567df1",
   "metadata": {},
   "outputs": [
    {
     "data": {
      "text/html": [
       "<div>\n",
       "<style scoped>\n",
       "    .dataframe tbody tr th:only-of-type {\n",
       "        vertical-align: middle;\n",
       "    }\n",
       "\n",
       "    .dataframe tbody tr th {\n",
       "        vertical-align: top;\n",
       "    }\n",
       "\n",
       "    .dataframe thead th {\n",
       "        text-align: right;\n",
       "    }\n",
       "</style>\n",
       "<table border=\"1\" class=\"dataframe\">\n",
       "  <thead>\n",
       "    <tr style=\"text-align: right;\">\n",
       "      <th></th>\n",
       "      <th>Item_Identifier</th>\n",
       "      <th>Item_Weight</th>\n",
       "      <th>Item_Fat_Content</th>\n",
       "      <th>Item_Visibility</th>\n",
       "      <th>Item_Type</th>\n",
       "      <th>Item_MRP</th>\n",
       "      <th>Outlet_Identifier</th>\n",
       "      <th>Outlet_Establishment_Year</th>\n",
       "      <th>Outlet_Size</th>\n",
       "      <th>Outlet_Location_Type</th>\n",
       "      <th>Outlet_Type</th>\n",
       "      <th>Item_Outlet_Sales</th>\n",
       "      <th>Profit</th>\n",
       "    </tr>\n",
       "  </thead>\n",
       "  <tbody>\n",
       "    <tr>\n",
       "      <th>0</th>\n",
       "      <td>FDA15</td>\n",
       "      <td>9.30</td>\n",
       "      <td>Low Fat</td>\n",
       "      <td>0.016047</td>\n",
       "      <td>Dairy</td>\n",
       "      <td>249.8</td>\n",
       "      <td>OUT049</td>\n",
       "      <td>1999</td>\n",
       "      <td>Medium</td>\n",
       "      <td>Tier 2</td>\n",
       "      <td>Supermarket Type1</td>\n",
       "      <td>3735.1380</td>\n",
       "      <td>11.5</td>\n",
       "    </tr>\n",
       "    <tr>\n",
       "      <th>1</th>\n",
       "      <td>DRC01</td>\n",
       "      <td>5.92</td>\n",
       "      <td>Regular</td>\n",
       "      <td>0.019278</td>\n",
       "      <td>Soft Drinks</td>\n",
       "      <td>48.3</td>\n",
       "      <td>OUT018</td>\n",
       "      <td>2009</td>\n",
       "      <td>Medium</td>\n",
       "      <td>Tier 2</td>\n",
       "      <td>Supermarket Type2</td>\n",
       "      <td>443.4228</td>\n",
       "      <td>14.3</td>\n",
       "    </tr>\n",
       "  </tbody>\n",
       "</table>\n",
       "</div>"
      ],
      "text/plain": [
       "  Item_Identifier  Item_Weight Item_Fat_Content  Item_Visibility    Item_Type  \\\n",
       "0           FDA15         9.30          Low Fat         0.016047        Dairy   \n",
       "1           DRC01         5.92          Regular         0.019278  Soft Drinks   \n",
       "\n",
       "   Item_MRP Outlet_Identifier  Outlet_Establishment_Year Outlet_Size  \\\n",
       "0     249.8            OUT049                       1999      Medium   \n",
       "1      48.3            OUT018                       2009      Medium   \n",
       "\n",
       "  Outlet_Location_Type        Outlet_Type  Item_Outlet_Sales  Profit  \n",
       "0               Tier 2  Supermarket Type1          3735.1380    11.5  \n",
       "1               Tier 2  Supermarket Type2           443.4228    14.3  "
      ]
     },
     "execution_count": 2,
     "metadata": {},
     "output_type": "execute_result"
    }
   ],
   "source": [
    "#ToDo: type your code here\n",
    "import pandas as pd\n",
    "salesData = pd.read_csv('bigmartsales.csv')\n",
    "salesData.head(2)"
   ]
  },
  {
   "cell_type": "code",
   "execution_count": 3,
   "id": "6c4cf9a7",
   "metadata": {},
   "outputs": [
    {
     "name": "stdout",
     "output_type": "stream",
     "text": [
      "<class 'pandas.core.frame.DataFrame'>\n",
      "RangeIndex: 8523 entries, 0 to 8522\n",
      "Data columns (total 13 columns):\n",
      " #   Column                     Non-Null Count  Dtype  \n",
      "---  ------                     --------------  -----  \n",
      " 0   Item_Identifier            8523 non-null   object \n",
      " 1   Item_Weight                7774 non-null   float64\n",
      " 2   Item_Fat_Content           8523 non-null   object \n",
      " 3   Item_Visibility            8523 non-null   float64\n",
      " 4   Item_Type                  8523 non-null   object \n",
      " 5   Item_MRP                   8523 non-null   float64\n",
      " 6   Outlet_Identifier          8523 non-null   object \n",
      " 7   Outlet_Establishment_Year  8523 non-null   int64  \n",
      " 8   Outlet_Size                6113 non-null   object \n",
      " 9   Outlet_Location_Type       6473 non-null   object \n",
      " 10  Outlet_Type                8523 non-null   object \n",
      " 11  Item_Outlet_Sales          8523 non-null   float64\n",
      " 12  Profit                     8523 non-null   float64\n",
      "dtypes: float64(5), int64(1), object(7)\n",
      "memory usage: 865.7+ KB\n"
     ]
    }
   ],
   "source": [
    "salesData.info()"
   ]
  }
 ],
 "metadata": {
  "kernelspec": {
   "display_name": "Python 3 (ipykernel)",
   "language": "python",
   "name": "python3"
  },
  "language_info": {
   "codemirror_mode": {
    "name": "ipython",
    "version": 3
   },
   "file_extension": ".py",
   "mimetype": "text/x-python",
   "name": "python",
   "nbconvert_exporter": "python",
   "pygments_lexer": "ipython3",
   "version": "3.11.7"
  }
 },
 "nbformat": 4,
 "nbformat_minor": 5
}
