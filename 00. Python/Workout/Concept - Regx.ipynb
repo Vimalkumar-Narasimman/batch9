{
 "cells": [
  {
   "cell_type": "code",
   "execution_count": 3,
   "id": "f6f69394",
   "metadata": {},
   "outputs": [
    {
     "data": {
      "text/plain": [
       "('CSE', '23456')"
      ]
     },
     "execution_count": 3,
     "metadata": {},
     "output_type": "execute_result"
    }
   ],
   "source": [
    "import re\n",
    "\n",
    "rNumber = 'CSE23456'\n",
    "rNumber[0:3], rNumber[3:]"
   ]
  },
  {
   "cell_type": "code",
   "execution_count": 8,
   "id": "e5d8933b",
   "metadata": {},
   "outputs": [
    {
     "data": {
      "text/plain": [
       "<re.Match object; span=(26, 34), match='CSE23456'>"
      ]
     },
     "execution_count": 8,
     "metadata": {},
     "output_type": "execute_result"
    }
   ],
   "source": [
    "\n",
    "text = 'My registration number is CSE23456; it is having my department name and reg number'\n",
    "re.search('[A-Z]{3}[0-9]{5}',text)"
   ]
  },
  {
   "cell_type": "code",
   "execution_count": 9,
   "id": "66a7964b",
   "metadata": {},
   "outputs": [
    {
     "data": {
      "text/plain": [
       "['CSE23456']"
      ]
     },
     "execution_count": 9,
     "metadata": {},
     "output_type": "execute_result"
    }
   ],
   "source": [
    "re.findall('[A-Z]{3}[0-9]{5}',text)"
   ]
  },
  {
   "cell_type": "code",
   "execution_count": 19,
   "id": "8c7ae53b",
   "metadata": {},
   "outputs": [
    {
     "data": {
      "text/plain": [
       "['CSE']"
      ]
     },
     "execution_count": 19,
     "metadata": {},
     "output_type": "execute_result"
    }
   ],
   "source": [
    "text = 'My registration number is CSE; it is having my department name and reg number'\n",
    "re.findall('[A-Z]{3}[0-9]*',text)"
   ]
  },
  {
   "cell_type": "code",
   "execution_count": 33,
   "id": "f3795e9e",
   "metadata": {},
   "outputs": [
    {
     "data": {
      "text/plain": [
       "['CSE01234', 'CSE04566', 'CSE0146']"
      ]
     },
     "execution_count": 33,
     "metadata": {},
     "output_type": "execute_result"
    }
   ],
   "source": [
    "text = 'My registration number is CSE01234; it is having my department name and reg number CSE04566. CSE0146 '\n",
    "regnum = re.findall('[A-Z]{3}[0]+[0-9]*',text)\n",
    "regnum"
   ]
  },
  {
   "cell_type": "code",
   "execution_count": 37,
   "id": "b9ce9a7a",
   "metadata": {},
   "outputs": [
    {
     "data": {
      "text/plain": [
       "['01234']"
      ]
     },
     "execution_count": 37,
     "metadata": {},
     "output_type": "execute_result"
    }
   ],
   "source": [
    "re.findall('[0-9]+',regnum[0])"
   ]
  },
  {
   "cell_type": "code",
   "execution_count": 39,
   "id": "f9b1b82f",
   "metadata": {},
   "outputs": [
    {
     "data": {
      "text/plain": [
       "['01234', '04566', '0146']"
      ]
     },
     "execution_count": 39,
     "metadata": {},
     "output_type": "execute_result"
    }
   ],
   "source": [
    "list(map(lambda txt : re.findall('[0-9]+',txt)[0] ,regnum))"
   ]
  },
  {
   "cell_type": "code",
   "execution_count": 40,
   "id": "f2d7ca69",
   "metadata": {},
   "outputs": [
    {
     "data": {
      "text/plain": [
       "['01234', '04566', '0146']"
      ]
     },
     "execution_count": 40,
     "metadata": {},
     "output_type": "execute_result"
    }
   ],
   "source": [
    "[re.findall('[0-9]+',txt)[0] for txt in regnum]"
   ]
  }
 ],
 "metadata": {
  "kernelspec": {
   "display_name": "Python 3 (ipykernel)",
   "language": "python",
   "name": "python3"
  },
  "language_info": {
   "codemirror_mode": {
    "name": "ipython",
    "version": 3
   },
   "file_extension": ".py",
   "mimetype": "text/x-python",
   "name": "python",
   "nbconvert_exporter": "python",
   "pygments_lexer": "ipython3",
   "version": "3.10.9"
  }
 },
 "nbformat": 4,
 "nbformat_minor": 5
}
