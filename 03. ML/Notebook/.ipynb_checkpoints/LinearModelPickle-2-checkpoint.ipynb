{
 "cells": [
  {
   "cell_type": "code",
   "execution_count": 4,
   "id": "255c2e02-691c-471d-b72d-313dea6b2367",
   "metadata": {},
   "outputs": [
    {
     "name": "stdin",
     "output_type": "stream",
     "text": [
      "Enter a open Open: 50\n",
      "Enter a open High: 56\n",
      "Enter a open Low: 50\n",
      "Enter a open Close: 54\n",
      "Enter a open Volume: 23412\n"
     ]
    },
    {
     "name": "stdout",
     "output_type": "stream",
     "text": [
      "   Close     HL_PCT  PCT_change   Volume\n",
      "0   54.0  11.111111         8.0  23412.0\n",
      "[[0. 0. 0. 0.]]\n"
     ]
    }
   ],
   "source": [
    "import os, math\n",
    "import numpy as np\n",
    "import pandas as pd\n",
    "import pickle\n",
    "from sklearn import preprocessing\n",
    "\n",
    "Open = float(input('Enter a open Open:'))\n",
    "High = float(input('Enter a open High:'))\n",
    "Low = float(input('Enter a open Low:'))\n",
    "Close = float(input('Enter a open Close:'))\n",
    "Volume = float(input('Enter a open Volume:'))\n",
    "\n",
    "df = pd.DataFrame({'Open': [Open], 'High': [High], 'Low': [Low],  'Close': [Close], 'Volume': [Volume] })\n",
    "\n",
    "# only keep adjusted data \n",
    "\n",
    "df['HL_PCT'] = (df['High'] - df['Low']) / df['Close'] * 100.0 # HL_PCT High low percentage\n",
    "df['PCT_change'] = (df['Close'] - df['Open']) / df['Open'] * 100.0\n",
    "df = df[['Close', 'HL_PCT', 'PCT_change', 'Volume']]\n",
    "\n",
    "\n",
    "print(df)\n",
    "\n",
    "df = preprocessing.scale(df) \n",
    "print(df)"
   ]
  },
  {
   "cell_type": "code",
   "execution_count": 10,
   "id": "fe510e01-d353-45e0-9c17-c7cc665a156b",
   "metadata": {},
   "outputs": [
    {
     "name": "stdout",
     "output_type": "stream",
     "text": [
      "[515.98767412]\n"
     ]
    }
   ],
   "source": [
    "clf = pickle.load(open('linearregression.pickle','rb'))\n",
    "\n",
    "forecast = clf.predict(df)\n",
    "print(forecast)"
   ]
  }
 ],
 "metadata": {
  "kernelspec": {
   "display_name": "Python 3 (ipykernel)",
   "language": "python",
   "name": "python3"
  },
  "language_info": {
   "codemirror_mode": {
    "name": "ipython",
    "version": 3
   },
   "file_extension": ".py",
   "mimetype": "text/x-python",
   "name": "python",
   "nbconvert_exporter": "python",
   "pygments_lexer": "ipython3",
   "version": "3.11.7"
  }
 },
 "nbformat": 4,
 "nbformat_minor": 5
}
