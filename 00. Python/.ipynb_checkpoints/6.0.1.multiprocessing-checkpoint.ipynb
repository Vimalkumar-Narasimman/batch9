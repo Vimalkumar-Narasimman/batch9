{
 "cells": [
  {
   "cell_type": "markdown",
   "id": "26c7a1fa",
   "metadata": {},
   "source": [
    "## What is multiprocessing?\n",
    "#### Multiprocessing refers to the ability of a system to support more than one processor at the same time. Applications in a multiprocessing system are broken to smaller routines that run independently. The operating system allocates these threads to the processors improving performance of the system."
   ]
  },
  {
   "cell_type": "markdown",
   "id": "54145ffc",
   "metadata": {},
   "source": [
    "### A multiprocessing system can have:\n",
    "\n",
    "    multiprocessor, i.e. a computer with more than one central processor.\n",
    "\n",
    "    multi-core processor, i.e. a single computing component with two or more independent actual processing units (called “cores”)."
   ]
  },
  {
   "cell_type": "code",
   "execution_count": null,
   "id": "38575d76",
   "metadata": {},
   "outputs": [],
   "source": [
    "# get the number of logical cpu cores\n",
    "from multiprocessing import cpu_count\n",
    "cpu_count()"
   ]
  },
  {
   "cell_type": "code",
   "execution_count": 3,
   "id": "3b9bd669",
   "metadata": {},
   "outputs": [
    {
     "name": "stdout",
     "output_type": "stream",
     "text": [
      "Writing multi.py\n"
     ]
    }
   ],
   "source": [
    "%%file multi.py\n",
    "from multiprocessing import Process\n",
    "import os\n",
    "\n",
    "def info(title):\n",
    "    print(title, flush=True)\n",
    "    print('module name:', __name__, flush=True)\n",
    "    print('parent process:', os.getppid(), flush=True)\n",
    "    print('process id:', os.getpid(), flush=True)\n",
    "\n",
    "def f(name):\n",
    "    info('function f')\n",
    "    print('hello', name)\n",
    "\n",
    "if __name__ == '__main__':\n",
    "    info('main line')\n",
    "    p = Process(target=f, args=('bob',))\n",
    "    p.start()\n",
    "    p.join()"
   ]
  },
  {
   "cell_type": "code",
   "execution_count": 5,
   "id": "21620e6d",
   "metadata": {},
   "outputs": [
    {
     "name": "stdout",
     "output_type": "stream",
     "text": [
      "Writing multi1.py\n"
     ]
    }
   ],
   "source": [
    "%%file multi1.py\n",
    "import multiprocessing\n",
    "  \n",
    "# empty list with global scope\n",
    "result = []\n",
    "  \n",
    "def square_list(mylist):\n",
    "    \"\"\"\n",
    "    function to square a given list\n",
    "    \"\"\"\n",
    "    global result\n",
    "    # append squares of mylist to global list result\n",
    "    for num in mylist:\n",
    "        result.append(num * num)\n",
    "    # print global list result\n",
    "    print(\"Result(in process p1): {}\".format(result))\n",
    "  \n",
    "if __name__ == \"__main__\":\n",
    "    # input list\n",
    "    mylist = [1,2,3,4]\n",
    "  \n",
    "    # creating new process\n",
    "    p1 = multiprocessing.Process(target=square_list, args=(mylist,))\n",
    "    # starting process\n",
    "    p1.start()\n",
    "    # wait until process is finished\n",
    "    p1.join()\n",
    "  \n",
    "    # print global result list\n",
    "    print(\"Result(in main program): {}\".format(result))"
   ]
  },
  {
   "cell_type": "code",
   "execution_count": 3,
   "id": "db2a8ab0",
   "metadata": {},
   "outputs": [
    {
     "name": "stdout",
     "output_type": "stream",
     "text": [
      "Writing multi3.py\n"
     ]
    }
   ],
   "source": [
    "%%file multi3.py\n",
    "import multiprocessing\n",
    "  \n",
    "def square_list(mylist, result, square_sum):\n",
    "    \"\"\"\n",
    "    function to square a given list\n",
    "    \"\"\"\n",
    "    # append squares of mylist to result array\n",
    "    for idx, num in enumerate(mylist):\n",
    "        result[idx] = num * num\n",
    "  \n",
    "    # square_sum value\n",
    "    square_sum.value = sum(result)\n",
    "  \n",
    "    # print result Array\n",
    "    print(\"Result(in process p1): {}\".format(result[:]))\n",
    "  \n",
    "    # print square_sum Value\n",
    "    print(\"Sum of squares(in process p1): {}\".format(square_sum.value))\n",
    "  \n",
    "if __name__ == \"__main__\":\n",
    "    # input list\n",
    "    mylist = [1,2,3,4]\n",
    "  \n",
    "    # creating Array of int data type with space for 4 integers\n",
    "    result = multiprocessing.Array('i', 4)\n",
    "  \n",
    "    # creating Value of int data type\n",
    "    square_sum = multiprocessing.Value('i')\n",
    "  \n",
    "    # creating new process\n",
    "    p1 = multiprocessing.Process(target=square_list, args=(mylist, result, square_sum))\n",
    "  \n",
    "    # starting process\n",
    "    p1.start()\n",
    "  \n",
    "    # wait until the process is finished\n",
    "    p1.join()\n",
    "  \n",
    "    # print result array\n",
    "    print(\"Result(in main program): {}\".format(result[:]))\n",
    "  \n",
    "    # print square_sum Value\n",
    "    print(\"Sum of squares(in main program): {}\".format(square_sum.value))"
   ]
  },
  {
   "attachments": {
    "image.png": {
     "image/png": "[encoded data removed]"
    }
   },
   "cell_type": "markdown",
   "id": "32a3c4ef",
   "metadata": {},
   "source": [
    "![image.png](attachment:image.png)"
   ]
  },
  {
   "cell_type": "code",
   "execution_count": 2,
   "id": "d159cba5",
   "metadata": {},
   "outputs": [
    {
     "name": "stdout",
     "output_type": "stream",
     "text": [
      "Writing multi2.py\n"
     ]
    }
   ],
   "source": [
    "%%file multi2.py\n",
    "import multiprocessing\n",
    "import threading\n",
    "import os\n",
    "\n",
    " \n",
    "def task1():\n",
    "    print(\"Task 1 assigned to thread: {}\".format(threading.current_thread().name))\n",
    "    print(\"ID of process running task 1: {}\".format(os.getpid()))\n",
    " \n",
    "def task2():\n",
    "    print(\"Task 2 assigned to thread: {}\".format(threading.current_thread().name))\n",
    "    print(\"ID of process running task 2: {}\".format(os.getpid()))\n",
    "  \n",
    "def square_list(mylist, result, square_sum):\n",
    "    \"\"\"\n",
    "    function to square a given list\n",
    "    \"\"\"\n",
    "    # append squares of mylist to result array\n",
    "    for idx, num in enumerate(mylist):\n",
    "        result[idx] = num * num\n",
    "  \n",
    "    # square_sum value\n",
    "    square_sum.value = sum(result)\n",
    "    \n",
    "    t1 = threading.Thread(target=task1, name='th1')\n",
    "    t2 = threading.Thread(target=task1, name='th2') \n",
    " \n",
    "    # starting threads\n",
    "    t1.start()\n",
    "    t2.start()\n",
    " \n",
    "    # wait until all threads finish\n",
    "    t1.join()\n",
    "    t2.join()\n",
    "    # print result Array\n",
    "    print(\"Result(in process p1): {}\".format(result[:]))\n",
    "  \n",
    "    # print square_sum Value\n",
    "    print(\"Sum of squares(in process p1): {}\".format(square_sum.value))\n",
    "  \n",
    "if __name__ == \"__main__\":\n",
    "    # input list\n",
    "    mylist = [1,2,3,4]\n",
    "  \n",
    "    # creating Array of int data type with space for 4 integers\n",
    "    result = multiprocessing.Array('i', 4)\n",
    "  \n",
    "    # creating Value of int data type\n",
    "    square_sum = multiprocessing.Value('i')\n",
    "    t1 = threading.Thread(target=task1, name='Mainth1')\n",
    "    t2 = threading.Thread(target=task1, name='Mainth2') \n",
    " \n",
    "    # starting threads\n",
    "    t1.start()\n",
    "    t2.start()\n",
    " \n",
    "    # wait until all threads finish\n",
    "    t1.join()\n",
    "    t2.join()\n",
    "    # creating new process\n",
    "    p1 = multiprocessing.Process(target=square_list, args=(mylist, result, square_sum))\n",
    "  \n",
    "    # starting process\n",
    "    p1.start()\n",
    "  \n",
    "    # wait until the process is finished\n",
    "    p1.join()\n",
    "  \n",
    "    # print result array\n",
    "    print(\"Result(in main program): {}\".format(result[:]))\n",
    "  \n",
    "    # print square_sum Value\n",
    "    print(\"Sum of squares(in main program): {}\".format(square_sum.value))"
   ]
  },
  {
   "cell_type": "code",
   "execution_count": null,
   "id": "5c8bc8ad",
   "metadata": {},
   "outputs": [],
   "source": []
  }
 ],
 "metadata": {
  "kernelspec": {
   "display_name": "Python 3 (ipykernel)",
   "language": "python",
   "name": "python3"
  },
  "language_info": {
   "codemirror_mode": {
    "name": "ipython",
    "version": 3
   },
   "file_extension": ".py",
   "mimetype": "text/x-python",
   "name": "python",
   "nbconvert_exporter": "python",
   "pygments_lexer": "ipython3",
   "version": "3.10.9"
  }
 },
 "nbformat": 4,
 "nbformat_minor": 5
}
