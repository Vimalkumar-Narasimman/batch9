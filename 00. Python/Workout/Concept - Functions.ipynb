{
 "cells": [
  {
   "cell_type": "code",
   "execution_count": 3,
   "id": "0dc1bf9f",
   "metadata": {},
   "outputs": [
    {
     "name": "stdout",
     "output_type": "stream",
     "text": [
      "30\n"
     ]
    }
   ],
   "source": [
    "# Function Definition\n",
    "def addition(a, b):\n",
    "    return a+b\n",
    "\n",
    "#Calling a definition\n",
    "add = addition(10,20)\n",
    "print(add)"
   ]
  },
  {
   "cell_type": "code",
   "execution_count": 4,
   "id": "0eabb5fc",
   "metadata": {},
   "outputs": [
    {
     "name": "stdout",
     "output_type": "stream",
     "text": [
      "20\n"
     ]
    }
   ],
   "source": [
    "# Function Definition\n",
    "def big(a, b):\n",
    "    if a > b :\n",
    "        return a\n",
    "    else:\n",
    "        return b\n",
    "\n",
    "#Calling a definition\n",
    "maximum = big(10,20)\n",
    "print(maximum)"
   ]
  },
  {
   "cell_type": "code",
   "execution_count": 7,
   "id": "5952f648",
   "metadata": {},
   "outputs": [
    {
     "name": "stdout",
     "output_type": "stream",
     "text": [
      "B(20) is Maximum\n"
     ]
    }
   ],
   "source": [
    "# Function Definition\n",
    "def big(a, b, c):\n",
    "    if a > b and a > c :\n",
    "        return f'A({a}) is Maximum'\n",
    "    elif b > c:\n",
    "        return f'B({b}) is Maximum'\n",
    "    else:\n",
    "        return f'C({c}) is Maximum'\n",
    "\n",
    "#Arguments are passed based on parameter order\n",
    "maximum = big(10, 20, 5)\n",
    "print(maximum)"
   ]
  },
  {
   "cell_type": "code",
   "execution_count": 8,
   "id": "a520fdb1",
   "metadata": {},
   "outputs": [
    {
     "name": "stdout",
     "output_type": "stream",
     "text": [
      "C(20) is Maximum\n"
     ]
    }
   ],
   "source": [
    "# Function Definition\n",
    "def big(a, b, c):\n",
    "    if a > b and a > c :\n",
    "        return f'A({a}) is Maximum'\n",
    "    elif b > c:\n",
    "        return f'B({b}) is Maximum'\n",
    "    else:\n",
    "        return f'C({c}) is Maximum'\n",
    "\n",
    "#Keyword Arguments\n",
    "maximum = big(b = 10, c = 20, a = 15)\n",
    "print(maximum)"
   ]
  },
  {
   "cell_type": "code",
   "execution_count": 9,
   "id": "feee82e9",
   "metadata": {},
   "outputs": [
    {
     "name": "stdout",
     "output_type": "stream",
     "text": [
      "B(20) is Maximum\n"
     ]
    }
   ],
   "source": [
    "# Default parameter\n",
    "def big(a, b, c=100):\n",
    "    if a > b and a > c :\n",
    "        return f'A({a}) is Maximum'\n",
    "    elif b > c:\n",
    "        return f'B({b}) is Maximum'\n",
    "    else:\n",
    "        return f'C({c}) is Maximum'\n",
    "\n",
    "maximum = big(10, 20)\n",
    "print(maximum)"
   ]
  },
  {
   "cell_type": "code",
   "execution_count": 15,
   "id": "e104e84d",
   "metadata": {},
   "outputs": [
    {
     "name": "stdout",
     "output_type": "stream",
     "text": [
      "C(90) is Maximum\n"
     ]
    }
   ],
   "source": [
    "# Default parameter\n",
    "def big(a, b = 10, c = 10):\n",
    "    if a > b and a > c :\n",
    "        return f'A({a}) is Maximum'\n",
    "    elif b > c:\n",
    "        return f'B({b}) is Maximum'\n",
    "    else:\n",
    "        return f'C({c}) is Maximum'\n",
    "    \n",
    "# Keyword Arguments\n",
    "maximum = big(40, c = 90)\n",
    "print(maximum)"
   ]
  },
  {
   "cell_type": "code",
   "execution_count": 16,
   "id": "6643bd38",
   "metadata": {},
   "outputs": [
    {
     "ename": "TypeError",
     "evalue": "add() missing 1 required positional argument: 'z'",
     "output_type": "error",
     "traceback": [
      "\u001b[1;31m---------------------------------------------------------------------------\u001b[0m",
      "\u001b[1;31mTypeError\u001b[0m                                 Traceback (most recent call last)",
      "Cell \u001b[1;32mIn[16], line 7\u001b[0m\n\u001b[0;32m      4\u001b[0m \u001b[38;5;28;01mdef\u001b[39;00m \u001b[38;5;21madd\u001b[39m(x, y, z):\n\u001b[0;32m      5\u001b[0m     \u001b[38;5;28;01mreturn\u001b[39;00m(x\u001b[38;5;241m+\u001b[39my\u001b[38;5;241m+\u001b[39mz)\n\u001b[1;32m----> 7\u001b[0m \u001b[43madd\u001b[49m\u001b[43m(\u001b[49m\u001b[38;5;241;43m10\u001b[39;49m\u001b[43m,\u001b[49m\u001b[38;5;241;43m20\u001b[39;49m\u001b[43m)\u001b[49m\n",
      "\u001b[1;31mTypeError\u001b[0m: add() missing 1 required positional argument: 'z'"
     ]
    }
   ],
   "source": [
    "def add(x, y):\n",
    "    return x+y\n",
    "\n",
    "#overloading the add function with 3 paramaeters; the above function definition will be overwriting with below\n",
    "def add(x, y, z):\n",
    "    return(x+y+z)\n",
    "\n",
    "#Error: there is no two arguments funtion\n",
    "add(10,20)\n"
   ]
  },
  {
   "cell_type": "code",
   "execution_count": 20,
   "id": "917b3698",
   "metadata": {},
   "outputs": [
    {
     "data": {
      "text/plain": [
       "100"
      ]
     },
     "execution_count": 20,
     "metadata": {},
     "output_type": "execute_result"
    }
   ],
   "source": [
    "def add(x, y):\n",
    "    return x+y\n",
    "\n",
    "#overloading the add function with 3 paramaeters with default last parameter, hence it looks like function overloading\n",
    "def add(x, y, z = 0, a = 0):\n",
    "    return(x+y+z+a)\n",
    "\n",
    "\n",
    "add(10,20, 30, 40)\n"
   ]
  },
  {
   "cell_type": "code",
   "execution_count": 2,
   "id": "ed62427f",
   "metadata": {},
   "outputs": [
    {
     "name": "stdout",
     "output_type": "stream",
     "text": [
      "\n",
      "Data type of argument: <class 'tuple'>\n",
      "30\n",
      "\n",
      "Data type of argument: <class 'tuple'>\n",
      "60\n",
      "\n",
      "Data type of argument: <class 'tuple'>\n",
      "32\n"
     ]
    }
   ],
   "source": [
    "# Variable parameter\n",
    "def add(*args):\n",
    "    print(\"\\nData type of argument:\",type(args))\n",
    "\n",
    "    resultfinal = 0\n",
    "    for arg in args:\n",
    "        resultfinal = resultfinal + arg\n",
    "\n",
    "    return resultfinal\n",
    "\n",
    "\n",
    "# Variable arguments\n",
    "print(add(10, 20))            # 30\n",
    "print(add(10, 20, 30))        # 60\n",
    "print(add(10, 20, 2, 0, 0))         # 32\n"
   ]
  },
  {
   "cell_type": "code",
   "execution_count": 1,
   "id": "df8fd931",
   "metadata": {},
   "outputs": [
    {
     "name": "stdout",
     "output_type": "stream",
     "text": [
      "\n",
      "Data type of argument: <class 'dict'>\n",
      "Firstname is John\n",
      "Lastname is Wood\n",
      "Email is johnwood@nomail.com\n",
      "Country is Wakanda\n",
      "Age is 25\n",
      "Phone is 9876543210\n"
     ]
    }
   ],
   "source": [
    "def intro(**data):\n",
    "    print(\"\\nData type of argument:\",type(data))\n",
    "\n",
    "    for key, value in data.items():\n",
    "        print(\"{} is {}\".format(key,value))\n",
    "\n",
    "intro(Firstname=\"John\", Lastname=\"Wood\", Email=\"johnwood@nomail.com\", Country=\"Wakanda\", Age=25, Phone=9876543210)\n"
   ]
  },
  {
   "cell_type": "code",
   "execution_count": 4,
   "id": "e43f6768",
   "metadata": {},
   "outputs": [
    {
     "name": "stdout",
     "output_type": "stream",
     "text": [
      "a 10\n",
      "single_item 1\n",
      "single_item 2\n",
      "single_item 3\n",
      "Jack 1123\n",
      "John 2231\n",
      "Inge 1560\n"
     ]
    }
   ],
   "source": [
    "def total(a, *numbers, **phonebook):\n",
    "    print('a', a)\n",
    "\n",
    "    #iterate through all the items in tuple\n",
    "    for single_item in numbers:\n",
    "        print('single_item', single_item)\n",
    "\n",
    "    #iterate through all the items in dictionary    \n",
    "    for first_part, second_part in phonebook.items():\n",
    "        print(first_part,second_part)\n",
    "\n",
    "total(10,1,2,3,Jack=1123,John=2231,Inge=1560)\n"
   ]
  },
  {
   "cell_type": "code",
   "execution_count": 3,
   "id": "f24972a5",
   "metadata": {},
   "outputs": [
    {
     "name": "stdout",
     "output_type": "stream",
     "text": [
      "10 + 20 in function 30\n",
      "total in main 0\n"
     ]
    },
    {
     "ename": "NameError",
     "evalue": "name 'a' is not defined",
     "output_type": "error",
     "traceback": [
      "\u001b[1;31m---------------------------------------------------------------------------\u001b[0m",
      "\u001b[1;31mNameError\u001b[0m                                 Traceback (most recent call last)",
      "Cell \u001b[1;32mIn[3], line 10\u001b[0m\n\u001b[0;32m      8\u001b[0m add(\u001b[38;5;241m10\u001b[39m, \u001b[38;5;241m20\u001b[39m)\n\u001b[0;32m      9\u001b[0m \u001b[38;5;28mprint\u001b[39m(\u001b[38;5;124mf\u001b[39m\u001b[38;5;124m'\u001b[39m\u001b[38;5;124mtotal in main \u001b[39m\u001b[38;5;132;01m{\u001b[39;00mtotal\u001b[38;5;132;01m}\u001b[39;00m\u001b[38;5;124m'\u001b[39m)\n\u001b[1;32m---> 10\u001b[0m \u001b[38;5;28mprint\u001b[39m(\u001b[38;5;124mf\u001b[39m\u001b[38;5;124m'\u001b[39m\u001b[38;5;124ma and b \u001b[39m\u001b[38;5;132;01m{\u001b[39;00m\u001b[43ma\u001b[49m\u001b[38;5;132;01m}\u001b[39;00m\u001b[38;5;124m \u001b[39m\u001b[38;5;132;01m{\u001b[39;00mb\u001b[38;5;132;01m}\u001b[39;00m\u001b[38;5;124m'\u001b[39m)\n",
      "\u001b[1;31mNameError\u001b[0m: name 'a' is not defined"
     ]
    }
   ],
   "source": [
    "#Scope of the variable\n",
    "total = 0\n",
    "def add(a, b):\n",
    "    #global total\n",
    "    total = a + b\n",
    "    print(f'{a} + {b} in function {total}')\n",
    "    \n",
    "add(10, 20)\n",
    "print(f'total in main {total}')\n",
    "print(f'a and b {a} {b}')\n"
   ]
  },
  {
   "cell_type": "code",
   "execution_count": 4,
   "id": "939b69cc",
   "metadata": {},
   "outputs": [
    {
     "name": "stdout",
     "output_type": "stream",
     "text": [
      "Help on built-in function len in module builtins:\n",
      "\n",
      "len(obj, /)\n",
      "    Return the number of items in a container.\n",
      "\n"
     ]
    }
   ],
   "source": [
    "#document string\n",
    "help(len)"
   ]
  },
  {
   "cell_type": "code",
   "execution_count": 9,
   "id": "01294e94",
   "metadata": {},
   "outputs": [
    {
     "name": "stdout",
     "output_type": "stream",
     "text": [
      "10 ten\n",
      "110\n",
      "\n",
      "    This function takes two arguments with any type.\n",
      "    if both are number then perform addition; otherwise concatinate both as string\n",
      "    \n",
      "Help on function concat in module __main__:\n",
      "\n",
      "concat(a, b)\n",
      "    This function takes two arguments with any type.\n",
      "    if both are number then perform addition; otherwise concatinate both as string\n",
      "\n",
      "Help on function big in module __main__:\n",
      "\n",
      "big(a, b, c)\n",
      "    # Function Definition\n",
      "\n"
     ]
    }
   ],
   "source": [
    "def concat(a, b):\n",
    "    '''\n",
    "    This function takes two arguments with any type.\n",
    "    if both are number then perform addition; otherwise concatinate both as string\n",
    "    '''\n",
    "    if type(a) in (int, float, bool) and type(b) in (int, float, bool):\n",
    "        return a+b\n",
    "    else:\n",
    "        return str(a) + ' ' + str(b)\n",
    "    \n",
    "print(concat(10, 'ten'))\n",
    "print(concat(10, 100))\n",
    "print(concat.__doc__)\n",
    "help(concat)\n",
    "help(big)"
   ]
  },
  {
   "cell_type": "code",
   "execution_count": 10,
   "id": "07cd6f99",
   "metadata": {},
   "outputs": [
    {
     "data": {
      "text/plain": [
       "27"
      ]
     },
     "execution_count": 10,
     "metadata": {},
     "output_type": "execute_result"
    }
   ],
   "source": [
    "#Lambda Functions\n",
    "# lambda parameters: statement\n",
    "\n",
    "power = lambda x : x**x\n",
    "power(3)\n"
   ]
  },
  {
   "cell_type": "code",
   "execution_count": 12,
   "id": "8919162a",
   "metadata": {},
   "outputs": [
    {
     "data": {
      "text/plain": [
       "['even', 'odd', 'even', 'odd', 'even', 'odd', 'odd', 'odd', 'odd']"
      ]
     },
     "execution_count": 12,
     "metadata": {},
     "output_type": "execute_result"
    }
   ],
   "source": [
    "numbers = [4, 3, 2,5,6,7,3,9,11]\n",
    "even = lambda n: 'even' if n % 2 == 0 else 'odd'\n",
    "[even(num) for num in numbers]"
   ]
  },
  {
   "cell_type": "code",
   "execution_count": 14,
   "id": "b96b6bb9",
   "metadata": {},
   "outputs": [
    {
     "data": {
      "text/plain": [
       "[<function __main__.<listcomp>.<lambda>(n)>,\n",
       " <function __main__.<listcomp>.<lambda>(n)>,\n",
       " <function __main__.<listcomp>.<lambda>(n)>,\n",
       " <function __main__.<listcomp>.<lambda>(n)>,\n",
       " <function __main__.<listcomp>.<lambda>(n)>,\n",
       " <function __main__.<listcomp>.<lambda>(n)>,\n",
       " <function __main__.<listcomp>.<lambda>(n)>,\n",
       " <function __main__.<listcomp>.<lambda>(n)>,\n",
       " <function __main__.<listcomp>.<lambda>(n)>]"
      ]
     },
     "execution_count": 14,
     "metadata": {},
     "output_type": "execute_result"
    }
   ],
   "source": [
    "numbers = [4, 3, 2,5,6,7,3,9,11]\n",
    "[lambda n: 'even' if n % 2 == 0 else 'odd' for num in numbers]"
   ]
  },
  {
   "cell_type": "code",
   "execution_count": 21,
   "id": "026d8713",
   "metadata": {},
   "outputs": [
    {
     "name": "stdout",
     "output_type": "stream",
     "text": [
      "[2, 4, 6, 8]\n"
     ]
    }
   ],
   "source": [
    "def addition(n):\n",
    "    return n + n\n",
    "  \n",
    "# We double all numbers using map()\n",
    "numbers = (1, 2, 3, 4)\n",
    "result = []\n",
    "for num in numbers:\n",
    "    result.append(addition(num))\n",
    "print(result)\n"
   ]
  },
  {
   "cell_type": "code",
   "execution_count": 17,
   "id": "8806da95",
   "metadata": {},
   "outputs": [
    {
     "name": "stdout",
     "output_type": "stream",
     "text": [
      "[2, 4, 6, 8]\n"
     ]
    }
   ],
   "source": [
    "def addition(n):\n",
    "    return n + n\n",
    "  \n",
    "# We double all numbers using map()\n",
    "numbers = (1, 2, 3, 4)\n",
    "result = map(addition, numbers)\n",
    "print(list(result))\n"
   ]
  },
  {
   "cell_type": "code",
   "execution_count": 20,
   "id": "60b35d84",
   "metadata": {},
   "outputs": [
    {
     "name": "stdout",
     "output_type": "stream",
     "text": [
      "(2, 4, 6, 8)\n"
     ]
    }
   ],
   "source": [
    "# We double all numbers using map()\n",
    "numbers = (1, 2, 3, 4)\n",
    "result = map(lambda n: n+n, numbers)\n",
    "print(tuple(result))\n"
   ]
  }
 ],
 "metadata": {
  "kernelspec": {
   "display_name": "Python 3 (ipykernel)",
   "language": "python",
   "name": "python3"
  },
  "language_info": {
   "codemirror_mode": {
    "name": "ipython",
    "version": 3
   },
   "file_extension": ".py",
   "mimetype": "text/x-python",
   "name": "python",
   "nbconvert_exporter": "python",
   "pygments_lexer": "ipython3",
   "version": "3.10.9"
  }
 },
 "nbformat": 4,
 "nbformat_minor": 5
}
