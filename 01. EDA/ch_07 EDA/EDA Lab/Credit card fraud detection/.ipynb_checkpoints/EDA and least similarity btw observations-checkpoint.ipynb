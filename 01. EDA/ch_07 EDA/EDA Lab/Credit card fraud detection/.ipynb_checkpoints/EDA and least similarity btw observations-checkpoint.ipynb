{
 "cells": [
  {
   "cell_type": "markdown",
   "metadata": {
    "_uuid": "191a5d924005ae1c473b66d288ac15d527b51f0b"
   },
   "source": [
    "Task-1: please do a proper analysis of the whole data, plot all relevant plots, note down all observations\n",
    "\n",
    "Task 2: Sample (S) 100 transactions from whole data (D), for every transaction in S, print 10 transactions from D which have least values of 'similarity'\n",
    "\n",
    "the similarity between any two vectors is defined as\n",
    "similarity(vi,vj) = cosine^-1(dot product (vi, vj) / (length(vi) * length(vj)) )\n",
    "\n",
    "1. vi represents a vector i.e. a row in your data.\n",
    "2. similarity(i,j) is just a function you can think it like f(x,y)\n",
    "3. length(vi): length of the vector vi\n",
    "4. dot product(i,j) is the dot product between the vectors vi, vj [for more about the dot product please check the linear algebra videos.]\n",
    "\n",
    "\n",
    "\n"
   ]
  },
  {
   "cell_type": "markdown",
   "metadata": {
    "_uuid": "083341665439f5056f98f56404e72e0338fb39e0"
   },
   "source": [
    "## Task -1 : Performing EDA(Exploratory Data Analysis on credit card data)"
   ]
  },
  {
   "cell_type": "markdown",
   "metadata": {
    "_uuid": "bd6649789ba0dfd5e0537536fa71be83441f3181"
   },
   "source": [
    "### About the data:\n",
    "\n",
    "Features V1, V2, ... V28 are the principal components obtained with PCA, the only features which have not been transformed with PCA are 'Time' and 'Amount'. \n",
    "\n",
    "**Feature 'Time'** contains the seconds elapsed between each transaction and the first transaction in the dataset. \n",
    "\n",
    "The **Feature 'Amount'** is the transaction Amount, this feature can be used for example-dependant cost-senstive learning. \n",
    "\n",
    "**Feature 'Class'** is the response variable and it takes value 1 in case of fraud and 0 otherwise."
   ]
  },
  {
   "cell_type": "markdown",
   "metadata": {
    "_uuid": "34c5226130af1ac6ca724a2499fde205013a4134"
   },
   "source": [
    "\n",
    "\n",
    "EDA is performed only on Time and Amount Feature."
   ]
  },
  {
   "cell_type": "code",
   "execution_count": 1,
   "metadata": {
    "_uuid": "f4eda6414559b59c7b4a4f7ec79f18d862c52973"
   },
   "outputs": [],
   "source": [
    "#importing pandas module\n",
    "import pandas as pd"
   ]
  },
  {
   "cell_type": "code",
   "execution_count": 2,
   "metadata": {
    "_uuid": "63beb2077c1fc64e70e65bd1ceb0cc458aec1176"
   },
   "outputs": [],
   "source": [
    "credit_card_data = pd.read_csv(\"creditcard.csv\")"
   ]
  },
  {
   "cell_type": "code",
   "execution_count": 3,
   "metadata": {
    "_uuid": "12fc27e67b1d995c7c4962265cf07141e779279a"
   },
   "outputs": [
    {
     "data": {
      "text/html": [
       "<div>\n",
       "<style scoped>\n",
       "    .dataframe tbody tr th:only-of-type {\n",
       "        vertical-align: middle;\n",
       "    }\n",
       "\n",
       "    .dataframe tbody tr th {\n",
       "        vertical-align: top;\n",
       "    }\n",
       "\n",
       "    .dataframe thead th {\n",
       "        text-align: right;\n",
       "    }\n",
       "</style>\n",
       "<table border=\"1\" class=\"dataframe\">\n",
       "  <thead>\n",
       "    <tr style=\"text-align: right;\">\n",
       "      <th></th>\n",
       "      <th>Time</th>\n",
       "      <th>V1</th>\n",
       "      <th>V2</th>\n",
       "      <th>V3</th>\n",
       "      <th>V4</th>\n",
       "      <th>V5</th>\n",
       "      <th>V6</th>\n",
       "      <th>V7</th>\n",
       "      <th>V8</th>\n",
       "      <th>V9</th>\n",
       "      <th>...</th>\n",
       "      <th>V21</th>\n",
       "      <th>V22</th>\n",
       "      <th>V23</th>\n",
       "      <th>V24</th>\n",
       "      <th>V25</th>\n",
       "      <th>V26</th>\n",
       "      <th>V27</th>\n",
       "      <th>V28</th>\n",
       "      <th>Amount</th>\n",
       "      <th>Class</th>\n",
       "    </tr>\n",
       "  </thead>\n",
       "  <tbody>\n",
       "    <tr>\n",
       "      <th>0</th>\n",
       "      <td>0.0</td>\n",
       "      <td>-1.359807</td>\n",
       "      <td>-0.072781</td>\n",
       "      <td>2.536347</td>\n",
       "      <td>1.378155</td>\n",
       "      <td>-0.338321</td>\n",
       "      <td>0.462388</td>\n",
       "      <td>0.239599</td>\n",
       "      <td>0.098698</td>\n",
       "      <td>0.363787</td>\n",
       "      <td>...</td>\n",
       "      <td>-0.018307</td>\n",
       "      <td>0.277838</td>\n",
       "      <td>-0.110474</td>\n",
       "      <td>0.066928</td>\n",
       "      <td>0.128539</td>\n",
       "      <td>-0.189115</td>\n",
       "      <td>0.133558</td>\n",
       "      <td>-0.021053</td>\n",
       "      <td>149.62</td>\n",
       "      <td>0</td>\n",
       "    </tr>\n",
       "    <tr>\n",
       "      <th>1</th>\n",
       "      <td>0.0</td>\n",
       "      <td>1.191857</td>\n",
       "      <td>0.266151</td>\n",
       "      <td>0.166480</td>\n",
       "      <td>0.448154</td>\n",
       "      <td>0.060018</td>\n",
       "      <td>-0.082361</td>\n",
       "      <td>-0.078803</td>\n",
       "      <td>0.085102</td>\n",
       "      <td>-0.255425</td>\n",
       "      <td>...</td>\n",
       "      <td>-0.225775</td>\n",
       "      <td>-0.638672</td>\n",
       "      <td>0.101288</td>\n",
       "      <td>-0.339846</td>\n",
       "      <td>0.167170</td>\n",
       "      <td>0.125895</td>\n",
       "      <td>-0.008983</td>\n",
       "      <td>0.014724</td>\n",
       "      <td>2.69</td>\n",
       "      <td>0</td>\n",
       "    </tr>\n",
       "    <tr>\n",
       "      <th>2</th>\n",
       "      <td>1.0</td>\n",
       "      <td>-1.358354</td>\n",
       "      <td>-1.340163</td>\n",
       "      <td>1.773209</td>\n",
       "      <td>0.379780</td>\n",
       "      <td>-0.503198</td>\n",
       "      <td>1.800499</td>\n",
       "      <td>0.791461</td>\n",
       "      <td>0.247676</td>\n",
       "      <td>-1.514654</td>\n",
       "      <td>...</td>\n",
       "      <td>0.247998</td>\n",
       "      <td>0.771679</td>\n",
       "      <td>0.909412</td>\n",
       "      <td>-0.689281</td>\n",
       "      <td>-0.327642</td>\n",
       "      <td>-0.139097</td>\n",
       "      <td>-0.055353</td>\n",
       "      <td>-0.059752</td>\n",
       "      <td>378.66</td>\n",
       "      <td>0</td>\n",
       "    </tr>\n",
       "    <tr>\n",
       "      <th>3</th>\n",
       "      <td>1.0</td>\n",
       "      <td>-0.966272</td>\n",
       "      <td>-0.185226</td>\n",
       "      <td>1.792993</td>\n",
       "      <td>-0.863291</td>\n",
       "      <td>-0.010309</td>\n",
       "      <td>1.247203</td>\n",
       "      <td>0.237609</td>\n",
       "      <td>0.377436</td>\n",
       "      <td>-1.387024</td>\n",
       "      <td>...</td>\n",
       "      <td>-0.108300</td>\n",
       "      <td>0.005274</td>\n",
       "      <td>-0.190321</td>\n",
       "      <td>-1.175575</td>\n",
       "      <td>0.647376</td>\n",
       "      <td>-0.221929</td>\n",
       "      <td>0.062723</td>\n",
       "      <td>0.061458</td>\n",
       "      <td>123.50</td>\n",
       "      <td>0</td>\n",
       "    </tr>\n",
       "    <tr>\n",
       "      <th>4</th>\n",
       "      <td>2.0</td>\n",
       "      <td>-1.158233</td>\n",
       "      <td>0.877737</td>\n",
       "      <td>1.548718</td>\n",
       "      <td>0.403034</td>\n",
       "      <td>-0.407193</td>\n",
       "      <td>0.095921</td>\n",
       "      <td>0.592941</td>\n",
       "      <td>-0.270533</td>\n",
       "      <td>0.817739</td>\n",
       "      <td>...</td>\n",
       "      <td>-0.009431</td>\n",
       "      <td>0.798278</td>\n",
       "      <td>-0.137458</td>\n",
       "      <td>0.141267</td>\n",
       "      <td>-0.206010</td>\n",
       "      <td>0.502292</td>\n",
       "      <td>0.219422</td>\n",
       "      <td>0.215153</td>\n",
       "      <td>69.99</td>\n",
       "      <td>0</td>\n",
       "    </tr>\n",
       "  </tbody>\n",
       "</table>\n",
       "<p>5 rows × 31 columns</p>\n",
       "</div>"
      ],
      "text/plain": [
       "   Time        V1        V2        V3        V4        V5        V6        V7  \\\n",
       "0   0.0 -1.359807 -0.072781  2.536347  1.378155 -0.338321  0.462388  0.239599   \n",
       "1   0.0  1.191857  0.266151  0.166480  0.448154  0.060018 -0.082361 -0.078803   \n",
       "2   1.0 -1.358354 -1.340163  1.773209  0.379780 -0.503198  1.800499  0.791461   \n",
       "3   1.0 -0.966272 -0.185226  1.792993 -0.863291 -0.010309  1.247203  0.237609   \n",
       "4   2.0 -1.158233  0.877737  1.548718  0.403034 -0.407193  0.095921  0.592941   \n",
       "\n",
       "         V8        V9  ...       V21       V22       V23       V24       V25  \\\n",
       "0  0.098698  0.363787  ... -0.018307  0.277838 -0.110474  0.066928  0.128539   \n",
       "1  0.085102 -0.255425  ... -0.225775 -0.638672  0.101288 -0.339846  0.167170   \n",
       "2  0.247676 -1.514654  ...  0.247998  0.771679  0.909412 -0.689281 -0.327642   \n",
       "3  0.377436 -1.387024  ... -0.108300  0.005274 -0.190321 -1.175575  0.647376   \n",
       "4 -0.270533  0.817739  ... -0.009431  0.798278 -0.137458  0.141267 -0.206010   \n",
       "\n",
       "        V26       V27       V28  Amount  Class  \n",
       "0 -0.189115  0.133558 -0.021053  149.62      0  \n",
       "1  0.125895 -0.008983  0.014724    2.69      0  \n",
       "2 -0.139097 -0.055353 -0.059752  378.66      0  \n",
       "3 -0.221929  0.062723  0.061458  123.50      0  \n",
       "4  0.502292  0.219422  0.215153   69.99      0  \n",
       "\n",
       "[5 rows x 31 columns]"
      ]
     },
     "execution_count": 3,
     "metadata": {},
     "output_type": "execute_result"
    }
   ],
   "source": [
    "credit_card_data.head()"
   ]
  },
  {
   "cell_type": "code",
   "execution_count": 4,
   "metadata": {
    "_uuid": "765b07aa59966a281540db00437ad011f764c09c"
   },
   "outputs": [
    {
     "data": {
      "text/plain": [
       "(284807, 31)"
      ]
     },
     "execution_count": 4,
     "metadata": {},
     "output_type": "execute_result"
    }
   ],
   "source": [
    "#finding the shape of dataframe (finding no.of observations and features in the given dataframe)\n",
    "credit_card_data.shape"
   ]
  },
  {
   "cell_type": "markdown",
   "metadata": {
    "_uuid": "a14e305ec5d614db2eb9918a8a4bd251dd03b37b"
   },
   "source": [
    "284807 observations and 31 features  , 30 features by excluding 1 class feature "
   ]
  },
  {
   "cell_type": "code",
   "execution_count": 5,
   "metadata": {
    "_uuid": "d1f7d2346aad741258a1556b749a14385b5e25bd"
   },
   "outputs": [
    {
     "data": {
      "text/plain": [
       "0    284315\n",
       "1       492\n",
       "Name: Class, dtype: int64"
      ]
     },
     "execution_count": 5,
     "metadata": {},
     "output_type": "execute_result"
    }
   ],
   "source": [
    "#finding whether it is balanced data or imbalanced data\n",
    "credit_card_data['Class'].value_counts()"
   ]
  },
  {
   "cell_type": "markdown",
   "metadata": {
    "_uuid": "7515decc90d33a42bdb0cc1e4a370b6b6b83249e"
   },
   "source": [
    "From the above info it is clear that it is an imbalanced dataset"
   ]
  },
  {
   "cell_type": "markdown",
   "metadata": {
    "_uuid": "0ce390e6992fc0ea9c4673e5054126d7e09faa9c"
   },
   "source": [
    "Renaming the class variables \n",
    "\n",
    "0 - legitimate\n",
    "\n",
    "1- fraud"
   ]
  },
  {
   "cell_type": "code",
   "execution_count": 6,
   "metadata": {
    "_uuid": "cb39dd80c1e0be4ce793ad762cdd4ccd5fffae0a"
   },
   "outputs": [],
   "source": [
    "credit_card_data['Class'] = credit_card_data['Class'].apply(lambda x:'legitimate' if x == 0 else 'fraud')"
   ]
  },
  {
   "cell_type": "code",
   "execution_count": 7,
   "metadata": {
    "_uuid": "442e19ceacc6a3aa8f33ea0b0af4d3d85e0843fe"
   },
   "outputs": [
    {
     "data": {
      "text/html": [
       "<div>\n",
       "<style scoped>\n",
       "    .dataframe tbody tr th:only-of-type {\n",
       "        vertical-align: middle;\n",
       "    }\n",
       "\n",
       "    .dataframe tbody tr th {\n",
       "        vertical-align: top;\n",
       "    }\n",
       "\n",
       "    .dataframe thead th {\n",
       "        text-align: right;\n",
       "    }\n",
       "</style>\n",
       "<table border=\"1\" class=\"dataframe\">\n",
       "  <thead>\n",
       "    <tr style=\"text-align: right;\">\n",
       "      <th></th>\n",
       "      <th>Time</th>\n",
       "      <th>V1</th>\n",
       "      <th>V2</th>\n",
       "      <th>V3</th>\n",
       "      <th>V4</th>\n",
       "      <th>V5</th>\n",
       "      <th>V6</th>\n",
       "      <th>V7</th>\n",
       "      <th>V8</th>\n",
       "      <th>V9</th>\n",
       "      <th>...</th>\n",
       "      <th>V21</th>\n",
       "      <th>V22</th>\n",
       "      <th>V23</th>\n",
       "      <th>V24</th>\n",
       "      <th>V25</th>\n",
       "      <th>V26</th>\n",
       "      <th>V27</th>\n",
       "      <th>V28</th>\n",
       "      <th>Amount</th>\n",
       "      <th>Class</th>\n",
       "    </tr>\n",
       "  </thead>\n",
       "  <tbody>\n",
       "    <tr>\n",
       "      <th>0</th>\n",
       "      <td>0.0</td>\n",
       "      <td>-1.359807</td>\n",
       "      <td>-0.072781</td>\n",
       "      <td>2.536347</td>\n",
       "      <td>1.378155</td>\n",
       "      <td>-0.338321</td>\n",
       "      <td>0.462388</td>\n",
       "      <td>0.239599</td>\n",
       "      <td>0.098698</td>\n",
       "      <td>0.363787</td>\n",
       "      <td>...</td>\n",
       "      <td>-0.018307</td>\n",
       "      <td>0.277838</td>\n",
       "      <td>-0.110474</td>\n",
       "      <td>0.066928</td>\n",
       "      <td>0.128539</td>\n",
       "      <td>-0.189115</td>\n",
       "      <td>0.133558</td>\n",
       "      <td>-0.021053</td>\n",
       "      <td>149.62</td>\n",
       "      <td>legitimate</td>\n",
       "    </tr>\n",
       "    <tr>\n",
       "      <th>1</th>\n",
       "      <td>0.0</td>\n",
       "      <td>1.191857</td>\n",
       "      <td>0.266151</td>\n",
       "      <td>0.166480</td>\n",
       "      <td>0.448154</td>\n",
       "      <td>0.060018</td>\n",
       "      <td>-0.082361</td>\n",
       "      <td>-0.078803</td>\n",
       "      <td>0.085102</td>\n",
       "      <td>-0.255425</td>\n",
       "      <td>...</td>\n",
       "      <td>-0.225775</td>\n",
       "      <td>-0.638672</td>\n",
       "      <td>0.101288</td>\n",
       "      <td>-0.339846</td>\n",
       "      <td>0.167170</td>\n",
       "      <td>0.125895</td>\n",
       "      <td>-0.008983</td>\n",
       "      <td>0.014724</td>\n",
       "      <td>2.69</td>\n",
       "      <td>legitimate</td>\n",
       "    </tr>\n",
       "    <tr>\n",
       "      <th>2</th>\n",
       "      <td>1.0</td>\n",
       "      <td>-1.358354</td>\n",
       "      <td>-1.340163</td>\n",
       "      <td>1.773209</td>\n",
       "      <td>0.379780</td>\n",
       "      <td>-0.503198</td>\n",
       "      <td>1.800499</td>\n",
       "      <td>0.791461</td>\n",
       "      <td>0.247676</td>\n",
       "      <td>-1.514654</td>\n",
       "      <td>...</td>\n",
       "      <td>0.247998</td>\n",
       "      <td>0.771679</td>\n",
       "      <td>0.909412</td>\n",
       "      <td>-0.689281</td>\n",
       "      <td>-0.327642</td>\n",
       "      <td>-0.139097</td>\n",
       "      <td>-0.055353</td>\n",
       "      <td>-0.059752</td>\n",
       "      <td>378.66</td>\n",
       "      <td>legitimate</td>\n",
       "    </tr>\n",
       "    <tr>\n",
       "      <th>3</th>\n",
       "      <td>1.0</td>\n",
       "      <td>-0.966272</td>\n",
       "      <td>-0.185226</td>\n",
       "      <td>1.792993</td>\n",
       "      <td>-0.863291</td>\n",
       "      <td>-0.010309</td>\n",
       "      <td>1.247203</td>\n",
       "      <td>0.237609</td>\n",
       "      <td>0.377436</td>\n",
       "      <td>-1.387024</td>\n",
       "      <td>...</td>\n",
       "      <td>-0.108300</td>\n",
       "      <td>0.005274</td>\n",
       "      <td>-0.190321</td>\n",
       "      <td>-1.175575</td>\n",
       "      <td>0.647376</td>\n",
       "      <td>-0.221929</td>\n",
       "      <td>0.062723</td>\n",
       "      <td>0.061458</td>\n",
       "      <td>123.50</td>\n",
       "      <td>legitimate</td>\n",
       "    </tr>\n",
       "    <tr>\n",
       "      <th>4</th>\n",
       "      <td>2.0</td>\n",
       "      <td>-1.158233</td>\n",
       "      <td>0.877737</td>\n",
       "      <td>1.548718</td>\n",
       "      <td>0.403034</td>\n",
       "      <td>-0.407193</td>\n",
       "      <td>0.095921</td>\n",
       "      <td>0.592941</td>\n",
       "      <td>-0.270533</td>\n",
       "      <td>0.817739</td>\n",
       "      <td>...</td>\n",
       "      <td>-0.009431</td>\n",
       "      <td>0.798278</td>\n",
       "      <td>-0.137458</td>\n",
       "      <td>0.141267</td>\n",
       "      <td>-0.206010</td>\n",
       "      <td>0.502292</td>\n",
       "      <td>0.219422</td>\n",
       "      <td>0.215153</td>\n",
       "      <td>69.99</td>\n",
       "      <td>legitimate</td>\n",
       "    </tr>\n",
       "  </tbody>\n",
       "</table>\n",
       "<p>5 rows × 31 columns</p>\n",
       "</div>"
      ],
      "text/plain": [
       "   Time        V1        V2        V3        V4        V5        V6        V7  \\\n",
       "0   0.0 -1.359807 -0.072781  2.536347  1.378155 -0.338321  0.462388  0.239599   \n",
       "1   0.0  1.191857  0.266151  0.166480  0.448154  0.060018 -0.082361 -0.078803   \n",
       "2   1.0 -1.358354 -1.340163  1.773209  0.379780 -0.503198  1.800499  0.791461   \n",
       "3   1.0 -0.966272 -0.185226  1.792993 -0.863291 -0.010309  1.247203  0.237609   \n",
       "4   2.0 -1.158233  0.877737  1.548718  0.403034 -0.407193  0.095921  0.592941   \n",
       "\n",
       "         V8        V9  ...       V21       V22       V23       V24       V25  \\\n",
       "0  0.098698  0.363787  ... -0.018307  0.277838 -0.110474  0.066928  0.128539   \n",
       "1  0.085102 -0.255425  ... -0.225775 -0.638672  0.101288 -0.339846  0.167170   \n",
       "2  0.247676 -1.514654  ...  0.247998  0.771679  0.909412 -0.689281 -0.327642   \n",
       "3  0.377436 -1.387024  ... -0.108300  0.005274 -0.190321 -1.175575  0.647376   \n",
       "4 -0.270533  0.817739  ... -0.009431  0.798278 -0.137458  0.141267 -0.206010   \n",
       "\n",
       "        V26       V27       V28  Amount       Class  \n",
       "0 -0.189115  0.133558 -0.021053  149.62  legitimate  \n",
       "1  0.125895 -0.008983  0.014724    2.69  legitimate  \n",
       "2 -0.139097 -0.055353 -0.059752  378.66  legitimate  \n",
       "3 -0.221929  0.062723  0.061458  123.50  legitimate  \n",
       "4  0.502292  0.219422  0.215153   69.99  legitimate  \n",
       "\n",
       "[5 rows x 31 columns]"
      ]
     },
     "execution_count": 7,
     "metadata": {},
     "output_type": "execute_result"
    }
   ],
   "source": [
    "credit_card_data.head()"
   ]
  },
  {
   "cell_type": "code",
   "execution_count": 8,
   "metadata": {
    "_uuid": "d048b2193ba7d5784df565775946b4e7e5c5fa72"
   },
   "outputs": [],
   "source": [
    "#subsetting the dataset (selecting only required columns which are useful for analysis)\n",
    "credit_card_data_subset = credit_card_data[['Time','Amount','Class']]"
   ]
  },
  {
   "cell_type": "code",
   "execution_count": 9,
   "metadata": {
    "_uuid": "24f4d374af612e09c1a4adda5874e60c87de9e33"
   },
   "outputs": [
    {
     "data": {
      "text/plain": [
       "legitimate    284315\n",
       "fraud            492\n",
       "Name: Class, dtype: int64"
      ]
     },
     "execution_count": 9,
     "metadata": {},
     "output_type": "execute_result"
    }
   ],
   "source": [
    "#checking the distribution of data (to check whether our subset of data contains same count as original dataset)\n",
    "credit_card_data_subset['Class'].value_counts()"
   ]
  },
  {
   "cell_type": "markdown",
   "metadata": {
    "_uuid": "88efd980b8079d1becbc620d028745cc99c5f272"
   },
   "source": [
    "Performing EDA on this data (Pair plots to find out which features have more importance when compared to other features)\n"
   ]
  },
  {
   "cell_type": "code",
   "execution_count": 10,
   "metadata": {
    "_uuid": "c2bcd4be3fb590f489acc240a61a29c97bd41942"
   },
   "outputs": [],
   "source": [
    "import seaborn as sns\n",
    "import matplotlib.pyplot as plt"
   ]
  },
  {
   "cell_type": "code",
   "execution_count": 11,
   "metadata": {
    "_uuid": "d7171c93aa8c10cfc5b643db6e9dc556d021d04c"
   },
   "outputs": [],
   "source": [
    "%matplotlib inline"
   ]
  },
  {
   "cell_type": "code",
   "execution_count": null,
   "metadata": {
    "_uuid": "34158fd201103ce342fffc43c0dc7a8dce7de5b2",
    "collapsed": true
   },
   "outputs": [],
   "source": [
    "#sns.pairplot(data = credit_card_data,hue='Class',kind='scatter')"
   ]
  },
  {
   "cell_type": "code",
   "execution_count": 13,
   "metadata": {
    "_uuid": "789aff2d48101ea1f875427a470a2fbd9cbba525"
   },
   "outputs": [
    {
     "name": "stderr",
     "output_type": "stream",
     "text": [
      "C:\\Users\\nvima\\AppData\\Local\\Programs\\Python\\Python310\\lib\\site-packages\\seaborn\\axisgrid.py:848: UserWarning: \n",
      "\n",
      "`distplot` is a deprecated function and will be removed in seaborn v0.14.0.\n",
      "\n",
      "Please adapt your code to use either `displot` (a figure-level function with\n",
      "similar flexibility) or `histplot` (an axes-level function for histograms).\n",
      "\n",
      "For a guide to updating your code to use the new functions, please see\n",
      "https://gist.github.com/mwaskom/de44147ed2974457ad6372750bbe5751\n",
      "\n",
      "  func(*plot_args, **plot_kwargs)\n",
      "C:\\Users\\nvima\\AppData\\Local\\Programs\\Python\\Python310\\lib\\site-packages\\seaborn\\axisgrid.py:848: UserWarning: \n",
      "\n",
      "`distplot` is a deprecated function and will be removed in seaborn v0.14.0.\n",
      "\n",
      "Please adapt your code to use either `displot` (a figure-level function with\n",
      "similar flexibility) or `histplot` (an axes-level function for histograms).\n",
      "\n",
      "For a guide to updating your code to use the new functions, please see\n",
      "https://gist.github.com/mwaskom/de44147ed2974457ad6372750bbe5751\n",
      "\n",
      "  func(*plot_args, **plot_kwargs)\n"
     ]
    },
    {
     "data": {
      "text/plain": [
       "Text(0.5, 1.0, \"Histogram with PDF for feature 'time' \")"
      ]
     },
     "execution_count": 13,
     "metadata": {},
     "output_type": "execute_result"
    },
    {
     "data": {
      "image/png": "[encoded data removed]",
      "text/plain": [
       "<Figure size 420.625x300 with 1 Axes>"
      ]
     },
     "metadata": {},
     "output_type": "display_data"
    }
   ],
   "source": [
    "sns.FacetGrid(credit_card_data_subset,hue='Class').map(sns.distplot,'Time').add_legend()\n",
    "plt.title(\"Histogram with PDF for feature 'time' \")"
   ]
  },
  {
   "cell_type": "code",
   "execution_count": 15,
   "metadata": {
    "_uuid": "b691874fde245f7e787f5f2be9888b6cb6a819b1"
   },
   "outputs": [
    {
     "name": "stderr",
     "output_type": "stream",
     "text": [
      "C:\\Users\\nvima\\AppData\\Local\\Programs\\Python\\Python310\\lib\\site-packages\\seaborn\\axisgrid.py:848: UserWarning: \n",
      "\n",
      "`distplot` is a deprecated function and will be removed in seaborn v0.14.0.\n",
      "\n",
      "Please adapt your code to use either `displot` (a figure-level function with\n",
      "similar flexibility) or `histplot` (an axes-level function for histograms).\n",
      "\n",
      "For a guide to updating your code to use the new functions, please see\n",
      "https://gist.github.com/mwaskom/de44147ed2974457ad6372750bbe5751\n",
      "\n",
      "  func(*plot_args, **plot_kwargs)\n",
      "C:\\Users\\nvima\\AppData\\Local\\Programs\\Python\\Python310\\lib\\site-packages\\seaborn\\axisgrid.py:848: UserWarning: \n",
      "\n",
      "`distplot` is a deprecated function and will be removed in seaborn v0.14.0.\n",
      "\n",
      "Please adapt your code to use either `displot` (a figure-level function with\n",
      "similar flexibility) or `histplot` (an axes-level function for histograms).\n",
      "\n",
      "For a guide to updating your code to use the new functions, please see\n",
      "https://gist.github.com/mwaskom/de44147ed2974457ad6372750bbe5751\n",
      "\n",
      "  func(*plot_args, **plot_kwargs)\n"
     ]
    },
    {
     "data": {
      "text/plain": [
       "Text(0.5, 1.0, \"Histogram with PDF for feature 'Amount' \")"
      ]
     },
     "execution_count": 15,
     "metadata": {},
     "output_type": "execute_result"
    },
    {
     "data": {
      "image/png": "[encoded data removed]",
      "text/plain": [
       "<Figure size 420.625x300 with 1 Axes>"
      ]
     },
     "metadata": {},
     "output_type": "display_data"
    }
   ],
   "source": [
    " sns.FacetGrid(credit_card_data_subset,hue='Class').map(sns.distplot,'Amount').add_legend()\n",
    "plt.title(\"Histogram with PDF for feature 'Amount' \")"
   ]
  },
  {
   "cell_type": "markdown",
   "metadata": {
    "_uuid": "8d221c42e472734dca2c6aeca3884dbb0f71da95"
   },
   "source": [
    "**Observation:**\n",
    "\n",
    "1.It is evident that the feature 'time' has so much of overlapping. We couldn't make any predictions or classifications out of it. So, we could discard this feature in classification of outcome.\n",
    "\n",
    "2.Whereas the feature 'Amount' has also overlapping but we could make some prediction out of it when compared to another feature. \n",
    "    \n",
    "\n",
    "    "
   ]
  },
  {
   "cell_type": "code",
   "execution_count": 16,
   "metadata": {
    "_uuid": "79658e59b760ade4e27d4615a9293803bb6e5682"
   },
   "outputs": [],
   "source": [
    "#dividing the data according to classes for appropriate analysis\n",
    "credit_card_data_subset_class_fraud = credit_card_data_subset[credit_card_data_subset['Class'] == 'fraud']"
   ]
  },
  {
   "cell_type": "code",
   "execution_count": 17,
   "metadata": {
    "_uuid": "9a6574d886bc213ca432edd69b1b4177996876dd"
   },
   "outputs": [
    {
     "data": {
      "text/plain": [
       "(492, 3)"
      ]
     },
     "execution_count": 17,
     "metadata": {},
     "output_type": "execute_result"
    }
   ],
   "source": [
    "credit_card_data_subset_class_fraud.shape"
   ]
  },
  {
   "cell_type": "code",
   "execution_count": 18,
   "metadata": {
    "_uuid": "f442ec9738eedcaed5934fe4ce65bf69c641c7d5"
   },
   "outputs": [
    {
     "data": {
      "text/html": [
       "<div>\n",
       "<style scoped>\n",
       "    .dataframe tbody tr th:only-of-type {\n",
       "        vertical-align: middle;\n",
       "    }\n",
       "\n",
       "    .dataframe tbody tr th {\n",
       "        vertical-align: top;\n",
       "    }\n",
       "\n",
       "    .dataframe thead th {\n",
       "        text-align: right;\n",
       "    }\n",
       "</style>\n",
       "<table border=\"1\" class=\"dataframe\">\n",
       "  <thead>\n",
       "    <tr style=\"text-align: right;\">\n",
       "      <th></th>\n",
       "      <th>Time</th>\n",
       "      <th>Amount</th>\n",
       "      <th>Class</th>\n",
       "    </tr>\n",
       "  </thead>\n",
       "  <tbody>\n",
       "    <tr>\n",
       "      <th>541</th>\n",
       "      <td>406.0</td>\n",
       "      <td>0.00</td>\n",
       "      <td>fraud</td>\n",
       "    </tr>\n",
       "    <tr>\n",
       "      <th>623</th>\n",
       "      <td>472.0</td>\n",
       "      <td>529.00</td>\n",
       "      <td>fraud</td>\n",
       "    </tr>\n",
       "    <tr>\n",
       "      <th>4920</th>\n",
       "      <td>4462.0</td>\n",
       "      <td>239.93</td>\n",
       "      <td>fraud</td>\n",
       "    </tr>\n",
       "    <tr>\n",
       "      <th>6108</th>\n",
       "      <td>6986.0</td>\n",
       "      <td>59.00</td>\n",
       "      <td>fraud</td>\n",
       "    </tr>\n",
       "    <tr>\n",
       "      <th>6329</th>\n",
       "      <td>7519.0</td>\n",
       "      <td>1.00</td>\n",
       "      <td>fraud</td>\n",
       "    </tr>\n",
       "  </tbody>\n",
       "</table>\n",
       "</div>"
      ],
      "text/plain": [
       "        Time  Amount  Class\n",
       "541    406.0    0.00  fraud\n",
       "623    472.0  529.00  fraud\n",
       "4920  4462.0  239.93  fraud\n",
       "6108  6986.0   59.00  fraud\n",
       "6329  7519.0    1.00  fraud"
      ]
     },
     "execution_count": 18,
     "metadata": {},
     "output_type": "execute_result"
    }
   ],
   "source": [
    "credit_card_data_subset_class_fraud.head()"
   ]
  },
  {
   "cell_type": "code",
   "execution_count": 19,
   "metadata": {
    "_uuid": "a131a51cf33971cd3ba568fa30153682314e785f"
   },
   "outputs": [],
   "source": [
    "credit_card_data_subset_class_legitimate = credit_card_data_subset[credit_card_data_subset['Class'] == 'legitimate']"
   ]
  },
  {
   "cell_type": "code",
   "execution_count": 20,
   "metadata": {
    "_uuid": "04a5f969d362745ee9c0f443a0c5cbe802ef6702"
   },
   "outputs": [
    {
     "data": {
      "text/plain": [
       "(284315, 3)"
      ]
     },
     "execution_count": 20,
     "metadata": {},
     "output_type": "execute_result"
    }
   ],
   "source": [
    "credit_card_data_subset_class_legitimate.shape"
   ]
  },
  {
   "cell_type": "code",
   "execution_count": 21,
   "metadata": {
    "_uuid": "f07a7e1781c45e8ff5991696885f7477fd429108"
   },
   "outputs": [
    {
     "data": {
      "text/html": [
       "<div>\n",
       "<style scoped>\n",
       "    .dataframe tbody tr th:only-of-type {\n",
       "        vertical-align: middle;\n",
       "    }\n",
       "\n",
       "    .dataframe tbody tr th {\n",
       "        vertical-align: top;\n",
       "    }\n",
       "\n",
       "    .dataframe thead th {\n",
       "        text-align: right;\n",
       "    }\n",
       "</style>\n",
       "<table border=\"1\" class=\"dataframe\">\n",
       "  <thead>\n",
       "    <tr style=\"text-align: right;\">\n",
       "      <th></th>\n",
       "      <th>Time</th>\n",
       "      <th>Amount</th>\n",
       "      <th>Class</th>\n",
       "    </tr>\n",
       "  </thead>\n",
       "  <tbody>\n",
       "    <tr>\n",
       "      <th>0</th>\n",
       "      <td>0.0</td>\n",
       "      <td>149.62</td>\n",
       "      <td>legitimate</td>\n",
       "    </tr>\n",
       "    <tr>\n",
       "      <th>1</th>\n",
       "      <td>0.0</td>\n",
       "      <td>2.69</td>\n",
       "      <td>legitimate</td>\n",
       "    </tr>\n",
       "    <tr>\n",
       "      <th>2</th>\n",
       "      <td>1.0</td>\n",
       "      <td>378.66</td>\n",
       "      <td>legitimate</td>\n",
       "    </tr>\n",
       "    <tr>\n",
       "      <th>3</th>\n",
       "      <td>1.0</td>\n",
       "      <td>123.50</td>\n",
       "      <td>legitimate</td>\n",
       "    </tr>\n",
       "    <tr>\n",
       "      <th>4</th>\n",
       "      <td>2.0</td>\n",
       "      <td>69.99</td>\n",
       "      <td>legitimate</td>\n",
       "    </tr>\n",
       "  </tbody>\n",
       "</table>\n",
       "</div>"
      ],
      "text/plain": [
       "   Time  Amount       Class\n",
       "0   0.0  149.62  legitimate\n",
       "1   0.0    2.69  legitimate\n",
       "2   1.0  378.66  legitimate\n",
       "3   1.0  123.50  legitimate\n",
       "4   2.0   69.99  legitimate"
      ]
     },
     "execution_count": 21,
     "metadata": {},
     "output_type": "execute_result"
    }
   ],
   "source": [
    "credit_card_data_subset_class_legitimate.head()"
   ]
  },
  {
   "cell_type": "markdown",
   "metadata": {
    "_uuid": "9f804feca8fe0c061ae77a9e8f776e3c3f19a185"
   },
   "source": [
    "### Univariate Analysis on feature 'Amount'"
   ]
  },
  {
   "cell_type": "markdown",
   "metadata": {
    "_uuid": "b78edc894d959bf7acdef95de758b15951bd333f"
   },
   "source": [
    "Plotting **CDF(Cumulative Distributive Function)** and **PDF(Probability Density Function)** to analyze more about the data"
   ]
  },
  {
   "cell_type": "code",
   "execution_count": 22,
   "metadata": {
    "_uuid": "e147dd3fe78a271084d80accd95075834c8462a0"
   },
   "outputs": [],
   "source": [
    "import numpy as np\n"
   ]
  },
  {
   "cell_type": "code",
   "execution_count": 23,
   "metadata": {
    "_uuid": "7ca68a57e3f5e9963aed73be25e78238cf5faf0c"
   },
   "outputs": [
    {
     "data": {
      "text/plain": [
       "<matplotlib.legend.Legend at 0x22d5f38f310>"
      ]
     },
     "execution_count": 23,
     "metadata": {},
     "output_type": "execute_result"
    },
    {
     "data": {
      "image/png": "[encoded data removed]",
      "text/plain": [
       "<Figure size 640x480 with 1 Axes>"
      ]
     },
     "metadata": {},
     "output_type": "display_data"
    }
   ],
   "source": [
    "count,bin_edges = np.histogram(credit_card_data_subset_class_legitimate['Amount'],bins = 20,density = True)\n",
    "PDF = count/sum(count)\n",
    "#print(\"PDF : \",PDF)\n",
    "#print(\"\\nbin edges : \" , bin_edges)\n",
    "#computing CDF with help of PDF \n",
    "CDF = np.cumsum(PDF)\n",
    "#plotting PDF,CDF\n",
    "plt.plot(bin_edges[1:],PDF,label = \"PDF ---- legitimate\")\n",
    "plt.plot(bin_edges[1:],CDF,label = \"CDF ---- legitimate\")\n",
    "\n",
    "count,bin_edges = np.histogram(credit_card_data_subset_class_fraud['Amount'],bins = 20,density = True)\n",
    "PDF = count/sum(count)\n",
    "#computing CDF with help of PDF \n",
    "CDF = np.cumsum(PDF)\n",
    "#plotting PDF,CDF\n",
    "plt.plot(bin_edges[1:],PDF,label = \"PDF ---- Fraud\")\n",
    "plt.plot(bin_edges[1:],CDF,label = \"CDF ---- Fraud\")\n",
    "\n",
    "plt.xlabel(\"Amount\")\n",
    "plt.ylabel(\"Probability\")\n",
    "plt.title(\"Plot of PDF and CDF for feature 'Amount' \")\n",
    "plt.legend()\n",
    "\n"
   ]
  },
  {
   "cell_type": "markdown",
   "metadata": {
    "_uuid": "978e8edb421737795be2e518ff7fa9664bbe668f"
   },
   "source": [
    "**Observation and Conclusion **\n",
    "\n",
    "1.From the above plot we can observe that there is slight overlap between CDF's of both classes\n",
    "\n",
    "2.But , we can make an observation that more than **95% of fraud transactions** have **purchase Amount below 2500** approximately.\n",
    "\n",
    "3.From that we can conclude that if the amount of purchase is below 2500 it is more likely to be a fraud transaction else can be classified as a legitimate "
   ]
  },
  {
   "cell_type": "markdown",
   "metadata": {
    "_uuid": "5df0f3eef0e91077da1880aede644af162ce79e8"
   },
   "source": [
    "### Box plot and whiskers"
   ]
  },
  {
   "cell_type": "code",
   "execution_count": 24,
   "metadata": {
    "_uuid": "e8e2c5467959ed5aeed565539063a9238caaec4c"
   },
   "outputs": [
    {
     "data": {
      "text/plain": [
       "<AxesSubplot: xlabel='Class', ylabel='Amount'>"
      ]
     },
     "execution_count": 24,
     "metadata": {},
     "output_type": "execute_result"
    },
    {
     "data": {
      "image/png": "[encoded data removed]",
      "text/plain": [
       "<Figure size 640x480 with 1 Axes>"
      ]
     },
     "metadata": {},
     "output_type": "display_data"
    }
   ],
   "source": [
    "sns.boxplot(data = credit_card_data_subset,x='Class',y='Amount')"
   ]
  },
  {
   "cell_type": "markdown",
   "metadata": {
    "_uuid": "f9b5c609cb667884b1da538b269152152489b540"
   },
   "source": [
    "### Violin plot"
   ]
  },
  {
   "cell_type": "code",
   "execution_count": 25,
   "metadata": {
    "_uuid": "83323a23452f3fc06c93df4b712ba30b0434054a"
   },
   "outputs": [
    {
     "data": {
      "text/plain": [
       "<AxesSubplot: xlabel='Class', ylabel='Amount'>"
      ]
     },
     "execution_count": 25,
     "metadata": {},
     "output_type": "execute_result"
    },
    {
     "data": {
      "image/png": "[encoded data removed]",
      "text/plain": [
       "<Figure size 640x480 with 1 Axes>"
      ]
     },
     "metadata": {},
     "output_type": "display_data"
    }
   ],
   "source": [
    "\n",
    "sns.violinplot(data= credit_card_data_subset,x='Class',y='Amount')"
   ]
  },
  {
   "cell_type": "markdown",
   "metadata": {
    "_uuid": "831e1e42176d61c2ef509c046b1063176e6df1de"
   },
   "source": [
    "**Observation:**\n",
    "    \n",
    "These both plots(Box plots as well as Violin plots) are difficult to analyze when compared to PDF and CDF as the data is imbalanced,huge dataset and also scale is not so clear."
   ]
  },
  {
   "cell_type": "markdown",
   "metadata": {
    "_uuid": "295586b667820c158e1be510cde2f3f888e7a0d7"
   },
   "source": [
    "### Task-2 : Finding the least values of similarities \n",
    "Task 2: Sample (S) 100 transactions from whole data (D), for every transaction in S, print 10 transactions from D which have least values of 'similarity'\n",
    "\n"
   ]
  },
  {
   "cell_type": "code",
   "execution_count": 26,
   "metadata": {
    "_uuid": "2f57fbe58c5e138571417520151668b6e9fd2371"
   },
   "outputs": [],
   "source": [
    "#creating a sample of 100 values from Data , \n",
    "#sample will not have 'Class' feature in it because for comparison we don't need 'Class' feature.\n",
    "credit_card_data_sample = credit_card_data[credit_card_data.columns[:-1]].sample(100)"
   ]
  },
  {
   "cell_type": "code",
   "execution_count": 27,
   "metadata": {
    "_uuid": "06ab35c1cb52fdda8ac3e0ab9fc4f4dc1b813e88"
   },
   "outputs": [
    {
     "data": {
      "text/plain": [
       "Int64Index([262015, 276205, 169993,  68247, 167120,  61893,  58655, 280839,\n",
       "             22822, 282349,  62905, 252638, 231135,  69054, 115310,  94353,\n",
       "            264294, 276580,  93527, 147643, 173904,  75382,  13697,  55535,\n",
       "            224831, 133841, 218206,  75158,  42031,  72064, 141244, 235724,\n",
       "            178391, 157150, 251634,  60800, 207139,  15383, 157612, 238040,\n",
       "            228877, 144522,  26181, 215295,  10629,  98497, 241291, 257842,\n",
       "            269652,  53153,   8361, 211895,  69643, 126779, 126812, 277956,\n",
       "            167180,  42791,  91566,  82229, 241430,  99477, 283258, 276061,\n",
       "              7544,  28497,  56348,  68937, 119175, 188097, 164731,  81749,\n",
       "              2069,  28899, 148133, 245633, 248033,  29032, 214315,  25417,\n",
       "            190109, 199800,  95454,  50651, 198161, 230316,  72179,  10517,\n",
       "            245417, 219410, 140073,  91814, 129363,  69600,  51664, 224677,\n",
       "            238827, 201778,  52760,   7191],\n",
       "           dtype='int64')"
      ]
     },
     "execution_count": 27,
     "metadata": {},
     "output_type": "execute_result"
    }
   ],
   "source": [
    "#indexes of all the samples (100 samples)\n",
    "credit_card_data_sample.index"
   ]
  },
  {
   "cell_type": "code",
   "execution_count": 28,
   "metadata": {
    "_uuid": "0b972089b3091a40f675805c636a57f5b603a4ea"
   },
   "outputs": [
    {
     "data": {
      "text/html": [
       "<div>\n",
       "<style scoped>\n",
       "    .dataframe tbody tr th:only-of-type {\n",
       "        vertical-align: middle;\n",
       "    }\n",
       "\n",
       "    .dataframe tbody tr th {\n",
       "        vertical-align: top;\n",
       "    }\n",
       "\n",
       "    .dataframe thead th {\n",
       "        text-align: right;\n",
       "    }\n",
       "</style>\n",
       "<table border=\"1\" class=\"dataframe\">\n",
       "  <thead>\n",
       "    <tr style=\"text-align: right;\">\n",
       "      <th></th>\n",
       "      <th>Time</th>\n",
       "      <th>V1</th>\n",
       "      <th>V2</th>\n",
       "      <th>V3</th>\n",
       "      <th>V4</th>\n",
       "      <th>V5</th>\n",
       "      <th>V6</th>\n",
       "      <th>V7</th>\n",
       "      <th>V8</th>\n",
       "      <th>V9</th>\n",
       "      <th>...</th>\n",
       "      <th>V20</th>\n",
       "      <th>V21</th>\n",
       "      <th>V22</th>\n",
       "      <th>V23</th>\n",
       "      <th>V24</th>\n",
       "      <th>V25</th>\n",
       "      <th>V26</th>\n",
       "      <th>V27</th>\n",
       "      <th>V28</th>\n",
       "      <th>Amount</th>\n",
       "    </tr>\n",
       "  </thead>\n",
       "  <tbody>\n",
       "    <tr>\n",
       "      <th>262015</th>\n",
       "      <td>160273.0</td>\n",
       "      <td>-5.292940</td>\n",
       "      <td>-6.802089</td>\n",
       "      <td>-2.516583</td>\n",
       "      <td>-0.437940</td>\n",
       "      <td>5.672498</td>\n",
       "      <td>-3.532384</td>\n",
       "      <td>0.697383</td>\n",
       "      <td>-0.984341</td>\n",
       "      <td>0.694762</td>\n",
       "      <td>...</td>\n",
       "      <td>-2.100017</td>\n",
       "      <td>-0.347143</td>\n",
       "      <td>1.774062</td>\n",
       "      <td>3.619143</td>\n",
       "      <td>0.240240</td>\n",
       "      <td>-0.239512</td>\n",
       "      <td>1.220548</td>\n",
       "      <td>0.382323</td>\n",
       "      <td>-0.086401</td>\n",
       "      <td>140.00</td>\n",
       "    </tr>\n",
       "    <tr>\n",
       "      <th>276205</th>\n",
       "      <td>166951.0</td>\n",
       "      <td>2.091528</td>\n",
       "      <td>-0.535594</td>\n",
       "      <td>-2.725095</td>\n",
       "      <td>-1.721781</td>\n",
       "      <td>2.271070</td>\n",
       "      <td>3.002565</td>\n",
       "      <td>-0.481316</td>\n",
       "      <td>0.719838</td>\n",
       "      <td>0.647906</td>\n",
       "      <td>...</td>\n",
       "      <td>-0.112348</td>\n",
       "      <td>-0.292109</td>\n",
       "      <td>-0.864858</td>\n",
       "      <td>0.399843</td>\n",
       "      <td>0.723169</td>\n",
       "      <td>-0.359430</td>\n",
       "      <td>0.561681</td>\n",
       "      <td>-0.083325</td>\n",
       "      <td>-0.073255</td>\n",
       "      <td>4.00</td>\n",
       "    </tr>\n",
       "    <tr>\n",
       "      <th>169993</th>\n",
       "      <td>119964.0</td>\n",
       "      <td>1.889381</td>\n",
       "      <td>0.152544</td>\n",
       "      <td>-2.329743</td>\n",
       "      <td>0.746245</td>\n",
       "      <td>1.017094</td>\n",
       "      <td>0.136850</td>\n",
       "      <td>-0.009957</td>\n",
       "      <td>0.127754</td>\n",
       "      <td>0.732289</td>\n",
       "      <td>...</td>\n",
       "      <td>-0.246490</td>\n",
       "      <td>0.063047</td>\n",
       "      <td>0.619468</td>\n",
       "      <td>0.030176</td>\n",
       "      <td>-1.259645</td>\n",
       "      <td>-0.015242</td>\n",
       "      <td>0.829746</td>\n",
       "      <td>0.015437</td>\n",
       "      <td>-0.024081</td>\n",
       "      <td>12.31</td>\n",
       "    </tr>\n",
       "    <tr>\n",
       "      <th>68247</th>\n",
       "      <td>52898.0</td>\n",
       "      <td>-0.587898</td>\n",
       "      <td>-2.668811</td>\n",
       "      <td>-0.750048</td>\n",
       "      <td>2.050192</td>\n",
       "      <td>-1.187155</td>\n",
       "      <td>-0.340678</td>\n",
       "      <td>1.374507</td>\n",
       "      <td>-0.291028</td>\n",
       "      <td>-0.198627</td>\n",
       "      <td>...</td>\n",
       "      <td>1.648620</td>\n",
       "      <td>0.575277</td>\n",
       "      <td>-0.342752</td>\n",
       "      <td>-0.931332</td>\n",
       "      <td>0.587922</td>\n",
       "      <td>0.416974</td>\n",
       "      <td>-0.386137</td>\n",
       "      <td>-0.173072</td>\n",
       "      <td>0.163450</td>\n",
       "      <td>919.67</td>\n",
       "    </tr>\n",
       "    <tr>\n",
       "      <th>167120</th>\n",
       "      <td>118494.0</td>\n",
       "      <td>-0.402933</td>\n",
       "      <td>-0.403530</td>\n",
       "      <td>0.043794</td>\n",
       "      <td>-3.318622</td>\n",
       "      <td>2.151746</td>\n",
       "      <td>3.711350</td>\n",
       "      <td>-0.629242</td>\n",
       "      <td>1.061655</td>\n",
       "      <td>-0.910806</td>\n",
       "      <td>...</td>\n",
       "      <td>0.100114</td>\n",
       "      <td>0.395305</td>\n",
       "      <td>0.959666</td>\n",
       "      <td>-0.241126</td>\n",
       "      <td>0.733460</td>\n",
       "      <td>0.021147</td>\n",
       "      <td>-0.162484</td>\n",
       "      <td>0.132814</td>\n",
       "      <td>0.128516</td>\n",
       "      <td>11.00</td>\n",
       "    </tr>\n",
       "  </tbody>\n",
       "</table>\n",
       "<p>5 rows × 30 columns</p>\n",
       "</div>"
      ],
      "text/plain": [
       "            Time        V1        V2        V3        V4        V5        V6  \\\n",
       "262015  160273.0 -5.292940 -6.802089 -2.516583 -0.437940  5.672498 -3.532384   \n",
       "276205  166951.0  2.091528 -0.535594 -2.725095 -1.721781  2.271070  3.002565   \n",
       "169993  119964.0  1.889381  0.152544 -2.329743  0.746245  1.017094  0.136850   \n",
       "68247    52898.0 -0.587898 -2.668811 -0.750048  2.050192 -1.187155 -0.340678   \n",
       "167120  118494.0 -0.402933 -0.403530  0.043794 -3.318622  2.151746  3.711350   \n",
       "\n",
       "              V7        V8        V9  ...       V20       V21       V22  \\\n",
       "262015  0.697383 -0.984341  0.694762  ... -2.100017 -0.347143  1.774062   \n",
       "276205 -0.481316  0.719838  0.647906  ... -0.112348 -0.292109 -0.864858   \n",
       "169993 -0.009957  0.127754  0.732289  ... -0.246490  0.063047  0.619468   \n",
       "68247   1.374507 -0.291028 -0.198627  ...  1.648620  0.575277 -0.342752   \n",
       "167120 -0.629242  1.061655 -0.910806  ...  0.100114  0.395305  0.959666   \n",
       "\n",
       "             V23       V24       V25       V26       V27       V28  Amount  \n",
       "262015  3.619143  0.240240 -0.239512  1.220548  0.382323 -0.086401  140.00  \n",
       "276205  0.399843  0.723169 -0.359430  0.561681 -0.083325 -0.073255    4.00  \n",
       "169993  0.030176 -1.259645 -0.015242  0.829746  0.015437 -0.024081   12.31  \n",
       "68247  -0.931332  0.587922  0.416974 -0.386137 -0.173072  0.163450  919.67  \n",
       "167120 -0.241126  0.733460  0.021147 -0.162484  0.132814  0.128516   11.00  \n",
       "\n",
       "[5 rows x 30 columns]"
      ]
     },
     "execution_count": 28,
     "metadata": {},
     "output_type": "execute_result"
    }
   ],
   "source": [
    "credit_card_data_sample.head()"
   ]
  },
  {
   "cell_type": "code",
   "execution_count": 29,
   "metadata": {
    "_uuid": "01bfd2402fce003e0a762b3f1ae5b80b09780a0e"
   },
   "outputs": [],
   "source": [
    "#removing class for credit_card_data also.\n",
    "credit_card_data_without_label = credit_card_data[credit_card_data.columns[:-1]]"
   ]
  },
  {
   "cell_type": "code",
   "execution_count": 30,
   "metadata": {
    "_uuid": "774a939f2ffe585414524607cbdfbeeba8bcb0a2"
   },
   "outputs": [
    {
     "data": {
      "text/plain": [
       "(284807, 30)"
      ]
     },
     "execution_count": 30,
     "metadata": {},
     "output_type": "execute_result"
    }
   ],
   "source": [
    "credit_card_data_without_label.shape"
   ]
  },
  {
   "cell_type": "markdown",
   "metadata": {
    "_uuid": "1449dc3ccec17fdd3cc3b467f2c9e1b8297076c4"
   },
   "source": [
    "#### Create a function called similarity to check for the similarity and return least 10 transactions:\n"
   ]
  },
  {
   "cell_type": "code",
   "execution_count": 31,
   "metadata": {
    "_uuid": "966dd6e4e112a52fe510169f5ff5baa2490eb0ca"
   },
   "outputs": [],
   "source": [
    "def similarity(sample, whole_data): \n",
    "    \"\"\"Returns a dataframe of top 10 least values of similarity\n",
    "    sample -- pass the one of the index of sample and\n",
    "    whole_data -- entire dataframe , as we have to compare each row in dataframe with sample.\"\"\"\n",
    "    index_value = []\n",
    "    Class = []\n",
    "    similarity_list = []\n",
    "    for i in whole_data.index:\n",
    "        similarity_value = np.arccos(np.dot(credit_card_data_sample.loc[sample],credit_card_data_without_label.loc[i])/(np.linalg.norm(credit_card_data_sample.loc[sample])*np.linalg.norm(credit_card_data_without_label.loc[i])))\n",
    "        similarity_list.append(similarity_value)\n",
    "        Class.append(credit_card_data['Class'][i])\n",
    "        index_value.append(i)\n",
    "    similarity_df = pd.DataFrame({'index_value':index_value,'similarity_value':similarity_list,'Class':Class})\n",
    "    print(f\"sample index value is {sample} \")\n",
    "    return similarity_df.sort_values('similarity_value').head(10)\n",
    "    \n",
    "    \n",
    "#sort_values -- will sort the dataframe based on the column given in the function of sort_values\n",
    "\n",
    "#np.dot -- built-in function of numpy, to calculate dot product between two vectors\n",
    "\n",
    "# .loc[] --- is used to return a row based on the value provided in the arguments (passing the index in that arguments)\n",
    "\n",
    "#linalg.norm -- calculates the magnitude of the vector\n",
    "#The length of the vector is referred to as the vector norm or the vector’s magnitude.\n",
    "#The length of a vector is a nonnegative number that describes the extent of the vector in space, \n",
    "#and is sometimes referred to as the vector’s magnitude or the norm.\n",
    "    "
   ]
  },
  {
   "cell_type": "code",
   "execution_count": 32,
   "metadata": {
    "_uuid": "7e36883c0de50678864a0239b621e486aaf4289f"
   },
   "outputs": [],
   "source": [
    "#sample output\n",
    "\n",
    "#providing input directly without calling the sample_index variable as it wouldn't\n",
    "#work in the frontend\n",
    "\n",
    "#similarity(index_from_sample_data,credit_card_data_without_label)"
   ]
  },
  {
   "cell_type": "code",
   "execution_count": 33,
   "metadata": {
    "_uuid": "1bcc8ad75252f70c2aae29f6b150037aff4cebe7"
   },
   "outputs": [],
   "source": [
    "#commenting it as it is uploaded notebook , we couldn't give input in the kaggle frontend\n",
    "\n",
    "#sample_index = int(input(\"Enter the one of the index value from your credit_card_data_sample : \"))"
   ]
  },
  {
   "cell_type": "code",
   "execution_count": 34,
   "metadata": {
    "_uuid": "2de498c80aa3e4dfddd79598efe355ec5cdb355f"
   },
   "outputs": [],
   "source": [
    "#execute this only after you execute the above block \n",
    "\n",
    "#calling the function\n",
    "\n",
    "#similarity(sample_index,credit_card_data_without_label)  \n",
    "\n",
    "#credit_card_data_without_label -- is the whole dataframe without labels\n",
    "#sample_index is the value (one of the index value) from the samples.\n",
    "\n",
    " "
   ]
  },
  {
   "cell_type": "code",
   "execution_count": null,
   "metadata": {
    "_uuid": "6f5cf6e6c7de1e1402c75e0da6c28f418a86b348",
    "collapsed": true
   },
   "outputs": [],
   "source": []
  }
 ],
 "metadata": {
  "kernelspec": {
   "display_name": "Python 3 (ipykernel)",
   "language": "python",
   "name": "python3"
  },
  "language_info": {
   "codemirror_mode": {
    "name": "ipython",
    "version": 3
   },
   "file_extension": ".py",
   "mimetype": "text/x-python",
   "name": "python",
   "nbconvert_exporter": "python",
   "pygments_lexer": "ipython3",
   "version": "3.10.9"
  }
 },
 "nbformat": 4,
 "nbformat_minor": 1
}
