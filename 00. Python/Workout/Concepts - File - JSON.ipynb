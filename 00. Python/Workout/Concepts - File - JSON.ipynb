{
 "cells": [
  {
   "cell_type": "markdown",
   "id": "62c9460d",
   "metadata": {},
   "source": [
    "### read file:\n",
    "1. read() -> read a complete file and get as a string\n",
    "2. read(number of characters) -> read(5) : read first 5 chars as string from the current location of the file\n",
    "3. readline() -> read a current line as string\n",
    "4. readlines() -> read a complete file and get as a list of string by each line\n",
    "5. looping a file object -> each iteration will give a currrent line as string\n",
    "\n",
    "### write file:\n",
    "1. write() -> write a given string to a file; give \\n for new line\n"
   ]
  },
  {
   "cell_type": "markdown",
   "id": "ef014fa3",
   "metadata": {},
   "source": [
    "### JSON\n",
    "#### Read a json file:\n",
    "1. load() -> read from json file and load as dict or list\n",
    "2. loads() -> read from string (as json format) and load as dict or list\n",
    "    val = '{\"name\":\"Jhon\", \"age\":23}'\n",
    "    valDict = json.loads(fileObj, val)\n",
    "    \n",
    "#### Write to JSON file:\n",
    "1. dump() -> write a dict or list to json file\n",
    "2. dumps() -> write a dict or list to string variable\n",
    "    valDict = {\"name\":\"Jhon\", \"age\":23}\n",
    "    val = json.dumps(valDict) # output: '{\"name\":\"Jhon\", \"age\":23}'"
   ]
  },
  {
   "cell_type": "code",
   "execution_count": 8,
   "id": "4604789f",
   "metadata": {},
   "outputs": [
    {
     "name": "stdout",
     "output_type": "stream",
     "text": [
      "<class 'list'>\n",
      "[{'name': 'arun', 'gender': 'Male', 'marks': [56, 67, 87, 65, 43]}, {'name': 'rajesh', 'gender': 'Male', 'marks': [12, 43, 23, 40, 43]}, {'name': 'moorthy', 'gender': 'Male', 'marks': [56, 78, 87, 54, 65]}, {'name': 'raja', 'gender': 'Male', 'marks': [67, '34', 87, 56, 78]}, {'name': 'usha', 'gender': 'Female', 'marks': [17, 12, 42, 23, 43]}, {'name': 'priya', 'gender': 'Female', 'marks': [75, 67, 87, 65, 85]}, {'name': 'Sundar', 'gender': 'Male', 'marks': [56, 67, 87, 65, 67]}, {'name': 'Kavitha', 'gender': 'Female', 'marks': [65, 67, 64, 65, 62]}, {'name': 'Dinesh', 'gender': 'Male', 'marks': [56, 67, 87, 65, 56]}, {'name': 'Hema', 'gender': 'Female', 'marks': [78, 98, 79, 75, 83]}, {'name': 'Gowri', 'gender': 'Female', 'marks': [88, 90, 87, 89, 87]}, {'name': 'Ram', 'gender': 'Male', 'marks': [56, 89, 54, 65, 67]}, {'name': 'Murugan', 'gender': 'Male', 'marks': [67, 98, 87, 87, 56]}, {'name': 'Jenifer', 'gender': 'Female', 'marks': [67, 45, 46, 43, 23]}]\n"
     ]
    }
   ],
   "source": [
    "import json\n",
    "filePath = '../Files/Students-raw.json' # Move out of current Directory then go to 'Files' Directory\n",
    "with open(filePath, 'r') as stdFile:\n",
    "    students = json.load(stdFile)\n",
    "    \n",
    "print(type(students))\n",
    "print(students)"
   ]
  },
  {
   "cell_type": "code",
   "execution_count": 14,
   "id": "a54c0f8d",
   "metadata": {},
   "outputs": [
    {
     "name": "stdout",
     "output_type": "stream",
     "text": [
      "{'name': 'arun', 'gender': 'Male', 'marks': [56, 67, 87, 65, 43], 'total': 318, 'Percentage': 63.6}\n",
      "{'name': 'rajesh', 'gender': 'Male', 'marks': [12, 43, 23, 40, 43], 'total': 161, 'Percentage': 32.2}\n",
      "{'name': 'moorthy', 'gender': 'Male', 'marks': [56, 78, 87, 54, 65], 'total': 340, 'Percentage': 68.0}\n"
     ]
    },
    {
     "ename": "TypeError",
     "evalue": "unsupported operand type(s) for +: 'int' and 'str'",
     "output_type": "error",
     "traceback": [
      "\u001b[1;31m---------------------------------------------------------------------------\u001b[0m",
      "\u001b[1;31mTypeError\u001b[0m                                 Traceback (most recent call last)",
      "Cell \u001b[1;32mIn[14], line 2\u001b[0m\n\u001b[0;32m      1\u001b[0m \u001b[38;5;28;01mfor\u001b[39;00m student \u001b[38;5;129;01min\u001b[39;00m students:\n\u001b[1;32m----> 2\u001b[0m     student[\u001b[38;5;124m'\u001b[39m\u001b[38;5;124mtotal\u001b[39m\u001b[38;5;124m'\u001b[39m] \u001b[38;5;241m=\u001b[39m \u001b[38;5;28;43msum\u001b[39;49m\u001b[43m(\u001b[49m\u001b[43mstudent\u001b[49m\u001b[43m[\u001b[49m\u001b[38;5;124;43m'\u001b[39;49m\u001b[38;5;124;43mmarks\u001b[39;49m\u001b[38;5;124;43m'\u001b[39;49m\u001b[43m]\u001b[49m\u001b[43m)\u001b[49m\n\u001b[0;32m      3\u001b[0m     student[\u001b[38;5;124m'\u001b[39m\u001b[38;5;124mPercentage\u001b[39m\u001b[38;5;124m'\u001b[39m] \u001b[38;5;241m=\u001b[39m student[\u001b[38;5;124m'\u001b[39m\u001b[38;5;124mtotal\u001b[39m\u001b[38;5;124m'\u001b[39m] \u001b[38;5;241m/\u001b[39m \u001b[38;5;28mlen\u001b[39m(student[\u001b[38;5;124m'\u001b[39m\u001b[38;5;124mmarks\u001b[39m\u001b[38;5;124m'\u001b[39m])  \n\u001b[0;32m      4\u001b[0m     \u001b[38;5;28mprint\u001b[39m(student)\n",
      "\u001b[1;31mTypeError\u001b[0m: unsupported operand type(s) for +: 'int' and 'str'"
     ]
    }
   ],
   "source": [
    "for student in students:\n",
    "    student['total'] = sum(student['marks'])\n",
    "    student['Percentage'] = student['total'] / len(student['marks'])  \n",
    "    print(student)"
   ]
  },
  {
   "cell_type": "code",
   "execution_count": 13,
   "id": "cbbb2763",
   "metadata": {},
   "outputs": [
    {
     "name": "stdout",
     "output_type": "stream",
     "text": [
      "{'name': 'arun', 'gender': 'Male', 'marks': [56, 67, 87, 65, 43], 'total': 318, 'Percentage': 63.6}\n",
      "going to next record\n",
      "{'name': 'rajesh', 'gender': 'Male', 'marks': [12, 43, 23, 40, 43], 'total': 161, 'Percentage': 32.2}\n",
      "going to next record\n",
      "{'name': 'moorthy', 'gender': 'Male', 'marks': [56, 78, 87, 54, 65], 'total': 340, 'Percentage': 68.0}\n",
      "going to next record\n",
      "Error in this record:  {'name': 'raja', 'gender': 'Male', 'marks': [67, '34', 87, 56, 78]}\n",
      "going to next record\n",
      "{'name': 'usha', 'gender': 'Female', 'marks': [17, 12, 42, 23, 43], 'total': 137, 'Percentage': 27.4}\n",
      "going to next record\n",
      "{'name': 'priya', 'gender': 'Female', 'marks': [75, 67, 87, 65, 85], 'total': 379, 'Percentage': 75.8}\n",
      "going to next record\n",
      "{'name': 'Sundar', 'gender': 'Male', 'marks': [56, 67, 87, 65, 67], 'total': 342, 'Percentage': 68.4}\n",
      "going to next record\n",
      "{'name': 'Kavitha', 'gender': 'Female', 'marks': [65, 67, 64, 65, 62], 'total': 323, 'Percentage': 64.6}\n",
      "going to next record\n",
      "{'name': 'Dinesh', 'gender': 'Male', 'marks': [56, 67, 87, 65, 56], 'total': 331, 'Percentage': 66.2}\n",
      "going to next record\n",
      "{'name': 'Hema', 'gender': 'Female', 'marks': [78, 98, 79, 75, 83], 'total': 413, 'Percentage': 82.6}\n",
      "going to next record\n",
      "{'name': 'Gowri', 'gender': 'Female', 'marks': [88, 90, 87, 89, 87], 'total': 441, 'Percentage': 88.2}\n",
      "going to next record\n",
      "{'name': 'Ram', 'gender': 'Male', 'marks': [56, 89, 54, 65, 67], 'total': 331, 'Percentage': 66.2}\n",
      "going to next record\n",
      "{'name': 'Murugan', 'gender': 'Male', 'marks': [67, 98, 87, 87, 56], 'total': 395, 'Percentage': 79.0}\n",
      "going to next record\n",
      "{'name': 'Jenifer', 'gender': 'Female', 'marks': [67, 45, 46, 43, 23], 'total': 224, 'Percentage': 44.8}\n",
      "going to next record\n",
      "[{'name': 'arun', 'gender': 'Male', 'marks': [56, 67, 87, 65, 43], 'total': 318, 'Percentage': 63.6}, {'name': 'rajesh', 'gender': 'Male', 'marks': [12, 43, 23, 40, 43], 'total': 161, 'Percentage': 32.2}, {'name': 'moorthy', 'gender': 'Male', 'marks': [56, 78, 87, 54, 65], 'total': 340, 'Percentage': 68.0}, {'name': 'raja', 'gender': 'Male', 'marks': [67, '34', 87, 56, 78]}, {'name': 'usha', 'gender': 'Female', 'marks': [17, 12, 42, 23, 43], 'total': 137, 'Percentage': 27.4}, {'name': 'priya', 'gender': 'Female', 'marks': [75, 67, 87, 65, 85], 'total': 379, 'Percentage': 75.8}, {'name': 'Sundar', 'gender': 'Male', 'marks': [56, 67, 87, 65, 67], 'total': 342, 'Percentage': 68.4}, {'name': 'Kavitha', 'gender': 'Female', 'marks': [65, 67, 64, 65, 62], 'total': 323, 'Percentage': 64.6}, {'name': 'Dinesh', 'gender': 'Male', 'marks': [56, 67, 87, 65, 56], 'total': 331, 'Percentage': 66.2}, {'name': 'Hema', 'gender': 'Female', 'marks': [78, 98, 79, 75, 83], 'total': 413, 'Percentage': 82.6}, {'name': 'Gowri', 'gender': 'Female', 'marks': [88, 90, 87, 89, 87], 'total': 441, 'Percentage': 88.2}, {'name': 'Ram', 'gender': 'Male', 'marks': [56, 89, 54, 65, 67], 'total': 331, 'Percentage': 66.2}, {'name': 'Murugan', 'gender': 'Male', 'marks': [67, 98, 87, 87, 56], 'total': 395, 'Percentage': 79.0}, {'name': 'Jenifer', 'gender': 'Female', 'marks': [67, 45, 46, 43, 23], 'total': 224, 'Percentage': 44.8}]\n"
     ]
    }
   ],
   "source": [
    "for student in students:\n",
    "    try:\n",
    "        student['total'] = sum(student['marks'])\n",
    "        student['Percentage'] = student['total'] / len(student['marks'])        \n",
    "    except:\n",
    "        print('Error in this record: ',student)\n",
    "        pass\n",
    "    else:\n",
    "        print(student)\n",
    "    finally:\n",
    "        print('going to next record')"
   ]
  },
  {
   "cell_type": "code",
   "execution_count": 7,
   "id": "d35a1973",
   "metadata": {},
   "outputs": [],
   "source": [
    "outFilePath = '../Files/output/students-total.json'\n",
    "with open(outFilePath, 'w') as outObj:\n",
    "    json.dump(students, outObj, indent=4)"
   ]
  }
 ],
 "metadata": {
  "kernelspec": {
   "display_name": "Python 3 (ipykernel)",
   "language": "python",
   "name": "python3"
  },
  "language_info": {
   "codemirror_mode": {
    "name": "ipython",
    "version": 3
   },
   "file_extension": ".py",
   "mimetype": "text/x-python",
   "name": "python",
   "nbconvert_exporter": "python",
   "pygments_lexer": "ipython3",
   "version": "3.10.9"
  }
 },
 "nbformat": 4,
 "nbformat_minor": 5
}
