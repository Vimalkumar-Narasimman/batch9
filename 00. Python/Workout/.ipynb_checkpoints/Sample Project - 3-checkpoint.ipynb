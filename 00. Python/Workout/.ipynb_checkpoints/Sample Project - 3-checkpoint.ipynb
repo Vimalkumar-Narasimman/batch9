{
 "cells": [
  {
   "cell_type": "code",
   "execution_count": null,
   "id": "9756e814",
   "metadata": {},
   "outputs": [],
   "source": [
    "import re\n",
    "import json\n",
    "\n",
    "\n",
    "def readJSONFile(filepath):\n",
    "    with open(filepath) as fileObj:\n",
    "        fileContent = json.load(fileObj)\n",
    "\n",
    "    return fileContent"
   ]
  },
  {
   "cell_type": "code",
   "execution_count": null,
   "id": "e887d049",
   "metadata": {},
   "outputs": [],
   "source": [
    "IPLList = readJSONFile('../Projects/IPL_teams.json')\n",
    "IPLList"
   ]
  },
  {
   "cell_type": "code",
   "execution_count": null,
   "id": "d5b3cd16",
   "metadata": {},
   "outputs": [],
   "source": [
    "\n",
    "#founded = IPLList[0]['Founded']\n",
    "#re.findall('[0-9]{4}', founded)[0]\n",
    "\n",
    "[ re.findall('[0-9]{4}', team['Founded'])[0]  for team in IPLList]\n"
   ]
  },
  {
   "cell_type": "code",
   "execution_count": null,
   "id": "14fb7518",
   "metadata": {},
   "outputs": [],
   "source": [
    "for team in IPLList:\n",
    "    team['Founded'] = re.findall('[0-9]{4}', team['Founded'])[0]  "
   ]
  },
  {
   "cell_type": "code",
   "execution_count": null,
   "id": "527c41ad",
   "metadata": {},
   "outputs": [],
   "source": [
    "IPLList"
   ]
  },
  {
   "cell_type": "code",
   "execution_count": null,
   "id": "7da5f927",
   "metadata": {},
   "outputs": [],
   "source": [
    "for team in IPLList:\n",
    "    if not 'Capacity' in team.keys():\n",
    "        team['Capacity'] = re.findall('[0-9]{2}[,][0-9]{3}', team.get('Home ground'))[0] \n",
    "IPLList"
   ]
  }
 ],
 "metadata": {
  "kernelspec": {
   "display_name": "Python 3 (ipykernel)",
   "language": "python",
   "name": "python3"
  },
  "language_info": {
   "codemirror_mode": {
    "name": "ipython",
    "version": 3
   },
   "file_extension": ".py",
   "mimetype": "text/x-python",
   "name": "python",
   "nbconvert_exporter": "python",
   "pygments_lexer": "ipython3",
   "version": "3.10.9"
  }
 },
 "nbformat": 4,
 "nbformat_minor": 5
}
