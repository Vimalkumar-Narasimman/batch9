{
 "cells": [
  {
   "cell_type": "markdown",
   "id": "02b6741a",
   "metadata": {},
   "source": [
    "## Instructions: Do not use any Python libraries and write the following codes from scratch for best learning/ revision."
   ]
  },
  {
   "cell_type": "markdown",
   "id": "e8dff07b",
   "metadata": {},
   "source": [
    "### Q1. Ask the user to enter the number and then print its squares and cubes"
   ]
  },
  {
   "cell_type": "code",
   "execution_count": null,
   "id": "e3c05019",
   "metadata": {},
   "outputs": [],
   "source": [
    "#ToDo: Write your code here"
   ]
  },
  {
   "cell_type": "markdown",
   "id": "f0a5dbe6",
   "metadata": {},
   "source": [
    "### Q2. Write a program that asks user to input three numbers with separate input statements. Use the variable named total to store the sum of those numbers and avg to store the average of those nummbers. Then output the numbers along with the total and average. "
   ]
  },
  {
   "cell_type": "code",
   "execution_count": null,
   "id": "7083b4ae",
   "metadata": {},
   "outputs": [],
   "source": [
    "#ToDo: Write your code here"
   ]
  },
  {
   "cell_type": "markdown",
   "id": "0805a7dc",
   "metadata": {},
   "source": [
    "### Q3. Create a salary estimator. Ask user for the basic salary, using it compute HRA as 10% of basic salary, add conveyance allowance as Rs 3500 to it. Output all the salary components on the console."
   ]
  },
  {
   "cell_type": "code",
   "execution_count": null,
   "id": "eb5962c5",
   "metadata": {},
   "outputs": [],
   "source": [
    "#ToDo: Write your code here"
   ]
  },
  {
   "cell_type": "markdown",
   "id": "a93bd789",
   "metadata": {},
   "source": [
    "### Q4. Compute the simple interest using the formula interest = p * n * r / 100 where p is principal, n is tenure of loan, and r is rate of interest. Accept p, n, r from users and then perform the interest calculation."
   ]
  },
  {
   "cell_type": "code",
   "execution_count": null,
   "id": "097d8a20",
   "metadata": {},
   "outputs": [],
   "source": [
    "#ToDo: Write your code here"
   ]
  },
  {
   "cell_type": "markdown",
   "id": "549ca061",
   "metadata": {},
   "source": [
    "### Q5. Write a program that asks user weight in kilogram and converts into pounds. There are 2.2 pound in one kilogram."
   ]
  },
  {
   "cell_type": "code",
   "execution_count": null,
   "id": "7596a1de",
   "metadata": {},
   "outputs": [],
   "source": [
    "#ToDo: Write your code here"
   ]
  },
  {
   "cell_type": "markdown",
   "id": "b67baf83",
   "metadata": {},
   "source": [
    "### Q6. If a four digit number is entered through keyboard by user. Write a program to calculate the sum of its digits."
   ]
  },
  {
   "cell_type": "code",
   "execution_count": null,
   "id": "424654e9",
   "metadata": {},
   "outputs": [],
   "source": [
    "#ToDo: Write your code here"
   ]
  },
  {
   "cell_type": "markdown",
   "id": "d4a8e311",
   "metadata": {},
   "source": [
    "### Q7. Explore the way to generate the random numbers using the random module by setting different seed values. "
   ]
  },
  {
   "cell_type": "code",
   "execution_count": null,
   "id": "65edbec5",
   "metadata": {},
   "outputs": [],
   "source": [
    "#ToDo: Write your code here"
   ]
  },
  {
   "cell_type": "markdown",
   "id": "2b959d89",
   "metadata": {},
   "source": [
    "### Q8. Explore the contents of math module. Try using following functions from it \n",
    "    exp \n",
    "    floor\n",
    "    ceil\n",
    "    log \n",
    "    factorial"
   ]
  },
  {
   "cell_type": "code",
   "execution_count": null,
   "id": "0d36f568",
   "metadata": {},
   "outputs": [],
   "source": [
    "#ToDo: Write your code here"
   ]
  },
  {
   "cell_type": "markdown",
   "id": "b09f7445",
   "metadata": {},
   "source": [
    "### Q9. Accept string input from user and then print the following with the user entered string\n",
    "    - length of string\n",
    "    - repeat the string 5 times\n",
    "    - first and last characters of the string\n",
    "    - first and last three characters of string\n",
    "    - string backwards\n",
    "    - string with last character removed"
   ]
  },
  {
   "cell_type": "code",
   "execution_count": null,
   "id": "83f9eea9",
   "metadata": {},
   "outputs": [],
   "source": [
    "#ToDo: Write your code here"
   ]
  },
  {
   "cell_type": "markdown",
   "id": "e341e5e8",
   "metadata": {},
   "source": [
    "### Q10. Ask the user to input a string , then output the same string in lowercase, uppercase and reverse manner."
   ]
  },
  {
   "cell_type": "code",
   "execution_count": null,
   "id": "ca3fa669",
   "metadata": {},
   "outputs": [],
   "source": [
    "#ToDo: Write your code here"
   ]
  },
  {
   "cell_type": "markdown",
   "id": "71a82976",
   "metadata": {},
   "source": [
    "Write a code snippet thta asks a user for their name and print the name in following pattern <p><b>\n",
    "    B Bi Bil Bill</b></p>"
   ]
  },
  {
   "cell_type": "code",
   "execution_count": null,
   "id": "b18e2305",
   "metadata": {},
   "outputs": [],
   "source": [
    "#ToDo: Write your code here"
   ]
  }
 ],
 "metadata": {
  "kernelspec": {
   "display_name": "Python 3 (ipykernel)",
   "language": "python",
   "name": "python3"
  },
  "language_info": {
   "codemirror_mode": {
    "name": "ipython",
    "version": 3
   },
   "file_extension": ".py",
   "mimetype": "text/x-python",
   "name": "python",
   "nbconvert_exporter": "python",
   "pygments_lexer": "ipython3",
   "version": "3.11.1"
  }
 },
 "nbformat": 4,
 "nbformat_minor": 5
}
