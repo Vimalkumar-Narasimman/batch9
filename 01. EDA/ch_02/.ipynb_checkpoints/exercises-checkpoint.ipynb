{
 "cells": [
  {
   "cell_type": "markdown",
   "metadata": {},
   "source": [
    "# Solutions\n",
    "There will be many ways to solve these exercises which weren't covered in this chapter; however, the solutions below use only what has been introduced in chapter 2.\n",
    "\n",
    "## About the Data\n",
    "In this notebook, we will be working with Earthquake data from September 18, 2018 - October 13, 2018 (obtained from the US Geological Survey (USGS) using the [USGS API](https://earthquake.usgs.gov/fdsnws/event/1/))\n",
    "\n",
    "## Setup"
   ]
  },
  {
   "cell_type": "code",
   "execution_count": 5,
   "metadata": {},
   "outputs": [
    {
     "name": "stdout",
     "output_type": "stream",
     "text": [
      "<class 'pandas.core.frame.DataFrame'>\n",
      "RangeIndex: 9332 entries, 0 to 9331\n",
      "Data columns (total 27 columns):\n",
      " #   Column        Non-Null Count  Dtype  \n",
      "---  ------        --------------  -----  \n",
      " 0   alert         59 non-null     object \n",
      " 1   cdi           329 non-null    float64\n",
      " 2   code          9332 non-null   object \n",
      " 3   detail        9332 non-null   object \n",
      " 4   dmin          6139 non-null   float64\n",
      " 5   felt          329 non-null    float64\n",
      " 6   gap           6164 non-null   float64\n",
      " 7   ids           9332 non-null   object \n",
      " 8   mag           9331 non-null   float64\n",
      " 9   magType       9331 non-null   object \n",
      " 10  mmi           93 non-null     float64\n",
      " 11  net           9332 non-null   object \n",
      " 12  nst           5364 non-null   float64\n",
      " 13  place         9332 non-null   object \n",
      " 14  rms           9332 non-null   float64\n",
      " 15  sig           9332 non-null   int64  \n",
      " 16  sources       9332 non-null   object \n",
      " 17  status        9332 non-null   object \n",
      " 18  time          9332 non-null   int64  \n",
      " 19  title         9332 non-null   object \n",
      " 20  tsunami       9332 non-null   int64  \n",
      " 21  type          9332 non-null   object \n",
      " 22  types         9332 non-null   object \n",
      " 23  tz            9331 non-null   float64\n",
      " 24  updated       9332 non-null   int64  \n",
      " 25  url           9332 non-null   object \n",
      " 26  parsed_place  9332 non-null   object \n",
      "dtypes: float64(9), int64(4), object(14)\n",
      "memory usage: 1.9+ MB\n"
     ]
    }
   ],
   "source": [
    "import pandas as pd\n",
    "\n",
    "df = pd.read_csv('data/parsed.csv')\n",
    "\n",
    "df.info()"
   ]
  },
  {
   "cell_type": "markdown",
   "metadata": {},
   "source": [
    "## Exercise 1\n",
    "\n",
    "Get the 95th quantile of mag from Japan and 'mb' as magType"
   ]
  },
  {
   "cell_type": "code",
   "execution_count": null,
   "metadata": {},
   "outputs": [],
   "source": []
  },
  {
   "cell_type": "markdown",
   "metadata": {},
   "source": [
    "## Exercise 2\n",
    "Get the value count in percentage from Indonesia"
   ]
  },
  {
   "cell_type": "code",
   "execution_count": null,
   "metadata": {},
   "outputs": [],
   "source": []
  },
  {
   "cell_type": "markdown",
   "metadata": {},
   "source": [
    "## Exercise 3\n",
    "\n",
    "Describe a stats summary of Nevada place"
   ]
  },
  {
   "cell_type": "code",
   "execution_count": null,
   "metadata": {},
   "outputs": [],
   "source": []
  },
  {
   "cell_type": "markdown",
   "metadata": {},
   "source": [
    "## Exercise 4\n",
    "\n",
    "Create a new bool column 'ring_of_fire' for the below places\n",
    "\n",
    "    'Alaska', 'Antarctic', 'Bolivia', 'California', 'Canada',\n",
    "    'Chile', 'Costa Rica', 'Ecuador', 'Fiji', 'Guatemala',\n",
    "    'Indonesia', 'Japan', 'Kermadec Islands', '^Mexico',\n",
    "    'New Zealand', 'Peru', 'Philippines', 'Russia',\n",
    "    'Taiwan', 'Tonga', 'Washington' \n",
    "    \n",
    "Note we need to use `^Mexico` to get Mexico, but not New Mexico."
   ]
  },
  {
   "cell_type": "code",
   "execution_count": null,
   "metadata": {},
   "outputs": [],
   "source": []
  },
  {
   "cell_type": "markdown",
   "metadata": {},
   "source": [
    "## Exercise 5\n",
    "\n",
    "Get the number of event occuered in the 'ring_of_fire'"
   ]
  },
  {
   "cell_type": "code",
   "execution_count": null,
   "metadata": {},
   "outputs": [],
   "source": []
  },
  {
   "cell_type": "markdown",
   "metadata": {},
   "source": [
    "## Exercise 6\n",
    "\n",
    "Get the sum of 'tsunami' where the palces are in 'ring_of_fire'"
   ]
  },
  {
   "cell_type": "code",
   "execution_count": null,
   "metadata": {},
   "outputs": [],
   "source": []
  },
  {
   "cell_type": "markdown",
   "metadata": {},
   "source": [
    "<hr>\n",
    "<div>\n",
    "    <a href=\"../../ch_02/6-adding_and_removing_data.ipynb\">\n",
    "        <button>&#8592; Chapter 2</button>\n",
    "    </a>\n",
    "    <a href=\"../../ch_03/1-wide_vs_long.ipynb\">\n",
    "        <button style=\"float: right;\">Chapter 3 &#8594;</button>\n",
    "    </a>\n",
    "</div>\n",
    "<hr>"
   ]
  }
 ],
 "metadata": {
  "kernelspec": {
   "display_name": "Python 3 (ipykernel)",
   "language": "python",
   "name": "python3"
  },
  "language_info": {
   "codemirror_mode": {
    "name": "ipython",
    "version": 3
   },
   "file_extension": ".py",
   "mimetype": "text/x-python",
   "name": "python",
   "nbconvert_exporter": "python",
   "pygments_lexer": "ipython3",
   "version": "3.10.9"
  }
 },
 "nbformat": 4,
 "nbformat_minor": 4
}
