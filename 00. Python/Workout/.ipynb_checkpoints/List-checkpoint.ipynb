{
 "cells": [
  {
   "cell_type": "markdown",
   "id": "02b6741a",
   "metadata": {},
   "source": [
    "## Instructions: Do not use any Python libraries and write the following codes from scratch for best learning/ revision."
   ]
  },
  {
   "cell_type": "markdown",
   "id": "e8dff07b",
   "metadata": {},
   "source": [
    "### Q1. Write a program that accepts 5 integers from the user. Store those integers as part of list. Output the following without using any of the built-in fuction available : <br>\n",
    "    (a) square of all the integers in the list <br>\n",
    "    (b) sum of all the integers in the list    <br>\n",
    "    (c) product of all the integers in the list <br>"
   ]
  },
  {
   "cell_type": "code",
   "execution_count": 2,
   "id": "e3c05019",
   "metadata": {},
   "outputs": [
    {
     "name": "stdout",
     "output_type": "stream",
     "text": [
      "Enter your 1 number: 3\n",
      "Enter your 2 number: 4\n",
      "Enter your 3 number: 2\n",
      "Enter your 4 number: 5\n",
      "Enter your 5 number: 6\n",
      "[9, 16, 4, 25, 36] 20 720\n"
     ]
    }
   ],
   "source": [
    "numbers = []\n",
    "for idx in range(1,6):\n",
    "    val = input(f'Enter your {idx} number: ')\n",
    "    numbers.append(int(val))\n",
    "square = [num ** 2 for num in numbers]\n",
    "sum = 0\n",
    "product = 1\n",
    "for num in numbers: \n",
    "    sum += num # sum = sum + num; sum = 1 + 2; sum = 3 + 4\n",
    "    product *= num\n",
    "print(square, sum, product)\n",
    "    "
   ]
  },
  {
   "cell_type": "markdown",
   "id": "f0a5dbe6",
   "metadata": {},
   "source": [
    "### Q2. Write a program that will reverse the elements of the list without using any built-in function."
   ]
  },
  {
   "cell_type": "code",
   "execution_count": 1,
   "id": "7083b4ae",
   "metadata": {},
   "outputs": [
    {
     "name": "stdout",
     "output_type": "stream",
     "text": [
      "9\n",
      "7\n",
      "2\n",
      "6\n",
      "5\n",
      "4\n"
     ]
    }
   ],
   "source": [
    "#ToDo: Write your code here\n",
    "numbers = [4,5,6,2, 7, 9]\n",
    "#[2,6,5,4]\n",
    "for idx in range(len(numbers)-1,-1, -1):\n",
    "    print(numbers[idx])\n",
    "\n",
    "#[numbers[idx] for idx in range(len(numbers)-1,-1, -1)]\n",
    "\n",
    "#numbers[::-1]"
   ]
  },
  {
   "cell_type": "markdown",
   "id": "0805a7dc",
   "metadata": {},
   "source": [
    "### Q3. Start with the list [ 8, 9 , 10]. Do the following :<br>\n",
    "    (a) Set the second entry to 17 <br>\n",
    "    (b) Add 4,5, and 6 to the end of list<br>\n",
    "    (c) Remove the first entry from the list<br>\n",
    "    (d) Double the list<br>\n",
    "    (e) Insert 25 at the index 3 <br><br>\n",
    "    \n",
    "    The final list should look like [17, 10, 4, 25, 5, 6, 17, 10, 4, 5, 6 ]"
   ]
  },
  {
   "cell_type": "code",
   "execution_count": null,
   "id": "eb5962c5",
   "metadata": {},
   "outputs": [],
   "source": [
    "#ToDo: Write your code here"
   ]
  },
  {
   "cell_type": "markdown",
   "id": "a93bd789",
   "metadata": {},
   "source": [
    "### Q4. Concatenate the following lists <code>A = [1, 'a']</code> and <code>B = [2, 1, 'd']</code>:"
   ]
  },
  {
   "cell_type": "code",
   "execution_count": null,
   "id": "097d8a20",
   "metadata": {},
   "outputs": [],
   "source": [
    "#ToDo: Write your code here"
   ]
  },
  {
   "cell_type": "markdown",
   "id": "549ca061",
   "metadata": {},
   "source": [
    "### Q5. Write a program that accepts 5 lists from the user, each one of which contains three values in it assignment marks, midsem marks and compre marks. <br>\n",
    "    (a) Compute the total marks obtained by each student <br>\n",
    "    (b) Print out the average of the class. "
   ]
  },
  {
   "cell_type": "code",
   "execution_count": null,
   "id": "7596a1de",
   "metadata": {},
   "outputs": [],
   "source": [
    "#ToDo: Write your code here\n",
    "#input => [[9, 38, 48], [7,34, 36], [6,34,43], [4, 23, 12], [5, 25, 27]]\n",
    "#a => [95, 77, 83, 39, 57]\n",
    "#b => 67.45"
   ]
  },
  {
   "cell_type": "markdown",
   "id": "b67baf83",
   "metadata": {},
   "source": [
    "### Q6. Ask a use to enter a sentence <br>\n",
    "    (a) Print out the third word of sentence <br>\n",
    "    (b) Print out every second word of sentence"
   ]
  },
  {
   "cell_type": "code",
   "execution_count": null,
   "id": "424654e9",
   "metadata": {},
   "outputs": [],
   "source": [
    "#ToDo: Write your code here"
   ]
  },
  {
   "cell_type": "markdown",
   "id": "d4a8e311",
   "metadata": {},
   "source": [
    "### Q7. Create the following lists using a for loop.<br>\n",
    "    (a) A list consisting of the integers 0 through 49<br>\n",
    "    (b) A list containing the squares of integers 1 through 50 <br>\n",
    "    (c) The list ['aa', 'bb', 'cc'.....] that ends with 26 th letter 'z'."
   ]
  },
  {
   "cell_type": "code",
   "execution_count": null,
   "id": "65edbec5",
   "metadata": {},
   "outputs": [],
   "source": [
    "#ToDo: Write your code here"
   ]
  },
  {
   "cell_type": "markdown",
   "id": "2b959d89",
   "metadata": {},
   "source": [
    "### Q8. Write a program that counts the number of occurances of word in a sentence entered by user without using built in function."
   ]
  },
  {
   "cell_type": "code",
   "execution_count": null,
   "id": "0d36f568",
   "metadata": {},
   "outputs": [],
   "source": [
    "#ToDo: Write your code here"
   ]
  },
  {
   "cell_type": "markdown",
   "id": "b09f7445",
   "metadata": {},
   "source": [
    "### Q9. Ask a user to enter a list of strings. Create a new list that consists of those strings with their first characters removed."
   ]
  },
  {
   "cell_type": "code",
   "execution_count": null,
   "id": "83f9eea9",
   "metadata": {},
   "outputs": [],
   "source": [
    "#ToDo: Write your code here"
   ]
  },
  {
   "cell_type": "markdown",
   "id": "e341e5e8",
   "metadata": {},
   "source": [
    "### Q10. Write a program to order based on value?\n",
    "\t[(1, 'XYZ'), (2, 'ABC'), (3, 'MNO'), (4, 'IJK')]\n",
    "\n",
    "\tResult:\n",
    "    [(2, 'ABC'), (4, 'IJK'), (3, 'MNO'), (1, 'XYZ')]"
   ]
  },
  {
   "cell_type": "code",
   "execution_count": null,
   "id": "ca3fa669",
   "metadata": {},
   "outputs": [],
   "source": [
    "#ToDo: Write your code here"
   ]
  },
  {
   "cell_type": "markdown",
   "id": "71a82976",
   "metadata": {},
   "source": [
    "#### Write a cricket match schedule for the below teams using Tuple and List?\n",
    "\n",
    "    Input: ['RCB','KKR','CSK','MUM'] \n",
    "    Output:\n",
    "\t[('RCB', 'KKR'), ('RCB', 'CSK'), ('RCB', 'MUM'), ('KKR', 'RCB'), ('KKR', 'CSK'), ('KKR', 'MUM'), ('CSK', 'RCB'), ('CSK', 'KKR'), ('CSK', 'MUM'), ('MUM', 'RCB'), ('MUM', 'KKR'), ('MUM', 'CSK')]"
   ]
  },
  {
   "cell_type": "code",
   "execution_count": null,
   "id": "b18e2305",
   "metadata": {},
   "outputs": [],
   "source": [
    "#ToDo: Write your code here"
   ]
  }
 ],
 "metadata": {
  "kernelspec": {
   "display_name": "Python 3 (ipykernel)",
   "language": "python",
   "name": "python3"
  },
  "language_info": {
   "codemirror_mode": {
    "name": "ipython",
    "version": 3
   },
   "file_extension": ".py",
   "mimetype": "text/x-python",
   "name": "python",
   "nbconvert_exporter": "python",
   "pygments_lexer": "ipython3",
   "version": "3.10.9"
  }
 },
 "nbformat": 4,
 "nbformat_minor": 5
}
