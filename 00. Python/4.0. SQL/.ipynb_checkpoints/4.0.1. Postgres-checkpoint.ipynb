{
 "cells": [
  {
   "cell_type": "code",
   "execution_count": 8,
   "id": "f349429c",
   "metadata": {},
   "outputs": [],
   "source": [
    "import psycopg2\n",
    "\n",
    "conn = psycopg2.connect(\"dbname=portfoliodb user=postgres password=django1234\")\n",
    "cur = conn.cursor()"
   ]
  },
  {
   "cell_type": "code",
   "execution_count": 10,
   "id": "aac085d2",
   "metadata": {},
   "outputs": [
    {
     "name": "stdout",
     "output_type": "stream",
     "text": [
      "The number of parts:  3\n",
      "(1, '/image/vimal.png', 'Vimal')\n",
      "(2, '/image/nvk.png', 'NVK')\n",
      "(3, '/image/kumar.png', 'Kumar')\n"
     ]
    }
   ],
   "source": [
    "cur.execute(\"SELECT id, image, summary FROM public.jobs_job\")\n",
    "print(\"The number of parts: \", cur.rowcount)\n",
    "row = cur.fetchone()\n",
    "\n",
    "while row is not None:\n",
    "    print(row)\n",
    "    row = cur.fetchone()\n",
    "\n",
    "#cur.close()"
   ]
  },
  {
   "cell_type": "code",
   "execution_count": 9,
   "id": "bf0eb735",
   "metadata": {},
   "outputs": [],
   "source": [
    "\n",
    "sqlStatement = \"INSERT INTO public.jobs_job VALUES (3,'/image/kumar.png', 'Kumar')\"\n",
    "cur.execute(sqlStatement)\n",
    "conn.commit()"
   ]
  }
 ],
 "metadata": {
  "kernelspec": {
   "display_name": "Python 3 (ipykernel)",
   "language": "python",
   "name": "python3"
  },
  "language_info": {
   "codemirror_mode": {
    "name": "ipython",
    "version": 3
   },
   "file_extension": ".py",
   "mimetype": "text/x-python",
   "name": "python",
   "nbconvert_exporter": "python",
   "pygments_lexer": "ipython3",
   "version": "3.10.9"
  }
 },
 "nbformat": 4,
 "nbformat_minor": 5
}
