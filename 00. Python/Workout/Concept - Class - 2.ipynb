{
 "cells": [
  {
   "cell_type": "code",
   "execution_count": 4,
   "id": "ebe6ade3",
   "metadata": {},
   "outputs": [
    {
     "name": "stdout",
     "output_type": "stream",
     "text": [
      "gixer bike have 2 wheels and the size of the tyre size is 17 and top speed is 130\n",
      "fzs bike have 2 wheels and the size of the tyre size is 19 and top speed is 149\n",
      "130\n"
     ]
    }
   ],
   "source": [
    "class Vehicle:\n",
    "    #class variable\n",
    "    vehicle_type= \"motorbike\"\n",
    "    wheel= 2\n",
    "    #Constructor with instance variables bike_name and top_speed\n",
    "    def __init__(self, bike_name, top_speed):\n",
    "        self.bike_name= bike_name\n",
    "        self.top_speed= top_speed\n",
    "    # Method with instance variable tyre_size\n",
    "    def tyre_description(self, tyre_size):\n",
    "        print(\"{} bike have {} wheels and the size of the tyre size is {} and top speed is {}\"\\\n",
    "              .format(self.bike_name, self.wheel, tyre_size, self.top_speed))\n",
    "        \n",
    "bike_1 = Vehicle('gixer', 130)\n",
    "bike_2 = Vehicle('fzs', 149)\n",
    "\n",
    "bike_1.tyre_description(17)\n",
    "bike_2.tyre_description(19)\n",
    "\n",
    "print(bike_1.top_speed)"
   ]
  },
  {
   "cell_type": "code",
   "execution_count": 17,
   "id": "d8f4cdba",
   "metadata": {},
   "outputs": [],
   "source": [
    "class Vehicle:\n",
    "    vehicle_type= \"motorbike\"\n",
    "    max_top_speed= 450\n",
    "    def __init__(self, bike_name, top_speed):\n",
    "        self.bike_name= bike_name\n",
    "        self.top_speed= top_speed\n",
    "    def byke_description(self):\n",
    "        print(\"Bike name is {} and top speed is {}\"\n",
    "              .format(self.bike_name, self.top_speed))\n",
    "    @classmethod     #factory method\n",
    "    def byke_type(cls, bike_name, speed_less_than_max):\n",
    "        return cls(bike_name, cls.max_top_speed-speed_less_than_max)\n",
    "    \n",
    "    @classmethod     #factory method\n",
    "    def byke_Desc(cls):\n",
    "        print(\"Vehicle Type is {} and MAX top speed is {}\"\n",
    "              .format(cls.vehicle_type, cls.max_top_speed))\n",
    "        #print(self.bike_name)"
   ]
  },
  {
   "cell_type": "code",
   "execution_count": 14,
   "id": "978fd769",
   "metadata": {},
   "outputs": [
    {
     "name": "stdout",
     "output_type": "stream",
     "text": [
      "Vehicle Type is motorbike and MAX top speed is 450\n"
     ]
    }
   ],
   "source": [
    "Vehicle.byke_Desc()"
   ]
  },
  {
   "cell_type": "code",
   "execution_count": 18,
   "id": "ba6fe6ec",
   "metadata": {},
   "outputs": [
    {
     "name": "stdout",
     "output_type": "stream",
     "text": [
      "Bike name is gixxer and top speed is 430\n"
     ]
    }
   ],
   "source": [
    "\n",
    "bike_1= Vehicle.byke_type('gixxer', 20)\n",
    "bike_1.byke_description()"
   ]
  },
  {
   "cell_type": "code",
   "execution_count": 19,
   "id": "14328b65",
   "metadata": {},
   "outputs": [
    {
     "name": "stdout",
     "output_type": "stream",
     "text": [
      "Vehicle Type is motorbike and MAX top speed is 450\n"
     ]
    },
    {
     "ename": "NameError",
     "evalue": "name 'self' is not defined",
     "output_type": "error",
     "traceback": [
      "\u001b[1;31m---------------------------------------------------------------------------\u001b[0m",
      "\u001b[1;31mNameError\u001b[0m                                 Traceback (most recent call last)",
      "Cell \u001b[1;32mIn[19], line 1\u001b[0m\n\u001b[1;32m----> 1\u001b[0m \u001b[43mbike_1\u001b[49m\u001b[38;5;241;43m.\u001b[39;49m\u001b[43mbyke_Desc\u001b[49m\u001b[43m(\u001b[49m\u001b[43m)\u001b[49m\n",
      "Cell \u001b[1;32mIn[17], line 18\u001b[0m, in \u001b[0;36mVehicle.byke_Desc\u001b[1;34m(cls)\u001b[0m\n\u001b[0;32m     14\u001b[0m \u001b[38;5;129m@classmethod\u001b[39m     \u001b[38;5;66;03m#factory method\u001b[39;00m\n\u001b[0;32m     15\u001b[0m \u001b[38;5;28;01mdef\u001b[39;00m \u001b[38;5;21mbyke_Desc\u001b[39m(\u001b[38;5;28mcls\u001b[39m):\n\u001b[0;32m     16\u001b[0m     \u001b[38;5;28mprint\u001b[39m(\u001b[38;5;124m\"\u001b[39m\u001b[38;5;124mVehicle Type is \u001b[39m\u001b[38;5;132;01m{}\u001b[39;00m\u001b[38;5;124m and MAX top speed is \u001b[39m\u001b[38;5;132;01m{}\u001b[39;00m\u001b[38;5;124m\"\u001b[39m\n\u001b[0;32m     17\u001b[0m           \u001b[38;5;241m.\u001b[39mformat(\u001b[38;5;28mcls\u001b[39m\u001b[38;5;241m.\u001b[39mvehicle_type, \u001b[38;5;28mcls\u001b[39m\u001b[38;5;241m.\u001b[39mmax_top_speed))\n\u001b[1;32m---> 18\u001b[0m     \u001b[38;5;28mprint\u001b[39m(\u001b[38;5;28;43mself\u001b[39;49m\u001b[38;5;241m.\u001b[39mbike_name)\n",
      "\u001b[1;31mNameError\u001b[0m: name 'self' is not defined"
     ]
    }
   ],
   "source": [
    "bike_1.byke_Desc()"
   ]
  },
  {
   "cell_type": "code",
   "execution_count": 20,
   "id": "1c759c9e",
   "metadata": {},
   "outputs": [],
   "source": [
    "class Vehicle:\n",
    "    vehicle_type= \"motorbike\"\n",
    "    max_top_speed= 150\n",
    "    def __init__(self, bike_name, top_speed):\n",
    "        self.bike_name= bike_name\n",
    "        self.top_speed= top_speed\n",
    "    #instance Metnod    \n",
    "    def byke_description(self):\n",
    "        print(\"Bike name is {} and top speed is {}\"\n",
    "              .format(self.bike_name, self.top_speed))\n",
    "        \n",
    "    @classmethod     #class method\n",
    "    def byke_type(cls, bike_name, speed_less_than_max):\n",
    "        return cls(bike_name, cls.max_top_speed-speed_less_than_max)\n",
    "\n",
    "    @staticmethod    #Static method\n",
    "    def oil_cost_per_day(km_per_ltr, ltr_price, total_km):\n",
    "        ltr_need= total_km/km_per_ltr\n",
    "        return ltr_need*ltr_price"
   ]
  },
  {
   "cell_type": "code",
   "execution_count": 21,
   "id": "54e45ee6",
   "metadata": {},
   "outputs": [
    {
     "name": "stdout",
     "output_type": "stream",
     "text": [
      "Bike name is gixxer and top speed is 130\n"
     ]
    }
   ],
   "source": [
    "bike_1= Vehicle.byke_type('gixxer', 20)\n",
    "bike_1.byke_description()"
   ]
  },
  {
   "cell_type": "code",
   "execution_count": 22,
   "id": "3c59384e",
   "metadata": {},
   "outputs": [
    {
     "name": "stdout",
     "output_type": "stream",
     "text": [
      "468.18181818181824\n"
     ]
    }
   ],
   "source": [
    "oil_cost= Vehicle.oil_cost_per_day(44, 103, 200)\n",
    "print(oil_cost)"
   ]
  },
  {
   "cell_type": "code",
   "execution_count": 26,
   "id": "fc643b7c",
   "metadata": {},
   "outputs": [
    {
     "data": {
      "text/plain": [
       "468.18181818181824"
      ]
     },
     "execution_count": 26,
     "metadata": {},
     "output_type": "execute_result"
    }
   ],
   "source": [
    "Vehicle.oil_cost_per_day(44, 103, 200)"
   ]
  }
 ],
 "metadata": {
  "kernelspec": {
   "display_name": "Python 3 (ipykernel)",
   "language": "python",
   "name": "python3"
  },
  "language_info": {
   "codemirror_mode": {
    "name": "ipython",
    "version": 3
   },
   "file_extension": ".py",
   "mimetype": "text/x-python",
   "name": "python",
   "nbconvert_exporter": "python",
   "pygments_lexer": "ipython3",
   "version": "3.10.9"
  }
 },
 "nbformat": 4,
 "nbformat_minor": 5
}
