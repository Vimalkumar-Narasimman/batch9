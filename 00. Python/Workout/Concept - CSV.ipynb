{
 "cells": [
  {
   "cell_type": "code",
   "execution_count": null,
   "id": "b56b9995",
   "metadata": {},
   "outputs": [],
   "source": [
    "import csv\n",
    "\n",
    "rows = []\n",
    "filePath = '../Files/student_admission_dataset.csv'\n",
    "with open(filePath) as csvFile:\n",
    "    # creating a csv reader object\n",
    "    csvReader = csv.reader(csvFile)\n",
    "    \n",
    "    # extracting field names through first row\n",
    "    fields = next(csvReader)\n",
    "    \n",
    "    # extracting each data row one by one\n",
    "    for row in csvReader:\n",
    "        rows.append(row)\n",
    "\n",
    "print(fields)\n",
    "print(len(rows))"
   ]
  },
  {
   "cell_type": "code",
   "execution_count": null,
   "id": "851a907b",
   "metadata": {},
   "outputs": [],
   "source": [
    "accepted = []\n",
    "for row in rows:\n",
    "    if row[-1].lower() == 'accepted':\n",
    "        accepted.append(row)\n",
    "print(len(accepted))"
   ]
  },
  {
   "cell_type": "code",
   "execution_count": null,
   "id": "bf1c50d2",
   "metadata": {},
   "outputs": [],
   "source": [
    "filePath = '../Files/output/student_admission_accepted.csv'\n",
    "with open(filePath, 'w') as csvFile:\n",
    "    csvWriter = csv.writer(csvFile)\n",
    "    csvWriter.writerow(fields)\n",
    "    csvWriter.writerows(accepted)"
   ]
  },
  {
   "cell_type": "code",
   "execution_count": null,
   "id": "f6c1f761",
   "metadata": {},
   "outputs": [],
   "source": [
    "#Convert List of list as Dict and write as json\n",
    "'''{\n",
    "        \"GPA\": 2.83,\n",
    "        \"SAT_Score\": 1369,\n",
    "        \"Extracurricular_Activities\": 5,\n",
    "        \"Admission_Status\": \"Accepted\"\n",
    "    }'''\n",
    "\n",
    "\n",
    "import json\n",
    "accepted_dic = []\n",
    "\n",
    "for row in accepted:\n",
    "    temDict = {}\n",
    "    temDict[fields[0]] = float(row[0])\n",
    "    temDict[fields[1]] = int(row[1])\n",
    "    temDict[fields[2]] = int(row[2])\n",
    "    temDict[fields[3]] = row[3]\n",
    "    accepted_dic.append(temDict)\n",
    "    \n",
    "filePath = '../Files/output/student_admission_accepted.json'\n",
    "with open(filePath, 'w') as jsonFile:\n",
    "    json.dump(accepted_dic, jsonFile, indent=4)\n"
   ]
  },
  {
   "cell_type": "code",
   "execution_count": null,
   "id": "32b4143d",
   "metadata": {},
   "outputs": [],
   "source": [
    "# List of Dict Comp\n",
    "[{k:v for (k,v) in zip(fields,row) } for row in accepted ]"
   ]
  },
  {
   "cell_type": "code",
   "execution_count": 12,
   "id": "3db09317",
   "metadata": {},
   "outputs": [],
   "source": [
    "import csv\n",
    "import json\n",
    "rows = []\n",
    "filePath = '../Files/student_admission_dataset.csv'\n",
    "with open(filePath) as csvFile:\n",
    "    # creating a csv reader object\n",
    "    csvReader = csv.reader(csvFile)\n",
    "    \n",
    "    # extracting field names through first row\n",
    "    fields = next(csvReader)\n",
    "    \n",
    "    # extracting each data row one by one\n",
    "    for row in csvReader:\n",
    "        rows.append(row)\n",
    "\n",
    "accepted = [row for row in rows if row[-1].lower() == 'accepted']\n",
    "accepted_Dic = [{k:v for (k,v) in zip(fields,row) } for row in accepted ]\n",
    "\n",
    "filePath = '../Files/output/student_admission_accepted.json'\n",
    "with open(filePath, 'w') as jsonFile:\n",
    "    json.dump(accepted_Dic, jsonFile, indent=4)\n",
    "    #json.dump([{k:v for (k,v) in zip(fields,row) } for row in [row for row in rows if row[-1].lower() == 'accepted'] ], jsonFile, indent=4)"
   ]
  },
  {
   "cell_type": "code",
   "execution_count": 14,
   "id": "9845d6dd",
   "metadata": {},
   "outputs": [],
   "source": [
    "import csv\n",
    "import json\n",
    "\n",
    "inFilePath = '../Files/student_admission_dataset.csv'\n",
    "outFilePath = '../Files/output/student_admission_accepted_v1.json'\n",
    "\n",
    "with open(inFilePath) as csvFile:\n",
    "    # creating a csv reader object\n",
    "    csvReader = csv.reader(csvFile)    \n",
    "    # extracting field names through first row\n",
    "    fields = next(csvReader)\n",
    "    with open(outFilePath, 'w') as jsonFile:\n",
    "        json.dump([{k:v for (k,v) in zip(fields,row) } for row in [row for row in csvReader if row[-1].lower() == 'accepted'] ], jsonFile, indent=4)"
   ]
  },
  {
   "cell_type": "code",
   "execution_count": null,
   "id": "679abe30",
   "metadata": {},
   "outputs": [],
   "source": []
  }
 ],
 "metadata": {
  "kernelspec": {
   "display_name": "Python 3 (ipykernel)",
   "language": "python",
   "name": "python3"
  },
  "language_info": {
   "codemirror_mode": {
    "name": "ipython",
    "version": 3
   },
   "file_extension": ".py",
   "mimetype": "text/x-python",
   "name": "python",
   "nbconvert_exporter": "python",
   "pygments_lexer": "ipython3",
   "version": "3.10.9"
  }
 },
 "nbformat": 4,
 "nbformat_minor": 5
}
