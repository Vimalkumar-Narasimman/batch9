{
 "cells": [
  {
   "cell_type": "markdown",
   "id": "33ccbb5a",
   "metadata": {},
   "source": [
    "# Chapter 4: Aggregating Pandas DataFrames\n",
    "\n",
    "This chapter teaches you how to query and merge `DataFrame` objects,\n",
    "perform complex operations on them, including rolling calculations and\n",
    "aggregations, and how to work effectively with time series data.\n",
    "\n",
    "## Content\n",
    "\n",
    "There are four notebooks that we will work through, each numbered\n",
    "according to when they will be used:\n",
    "\n",
    "-   [`1-querying_and_merging.ipynb`](./1-querying_and_merging.ipynb):\n",
    "    showcases how to query and merge `DataFrame` objects\n",
    "-   [`2-dataframe_operations.ipynb`](./2-dataframe_operations.ipynb):\n",
    "    walks through a variety of data enrichment operations, such as\n",
    "    binning and window calculations, and how to perform them efficiently\n",
    "    with the `apply()` and `pipe()` methods\n",
    "-   [`3-aggregations.ipynb`](./3-aggregations.ipynb): discusses how to\n",
    "    perform aggregations on the data, including pivot tables, crosstabs,\n",
    "    and calculations based on group membership with the `groupby()`\n",
    "    method\n",
    "-   [`4-time_series.ipynb`](./4-time_series.ipynb): illustrates how to\n",
    "    work effectively with time series\n",
    "\n",
    "------------------------------------------------------------------------\n",
    "\n",
    "There is also a **bonus** notebook that uses interactive widgets to give\n",
    "you a better understanding of window calculations:\n",
    "[`understanding_window_calculations.ipynb`](./understanding_window_calculations.ipynb).\n",
    "\n",
    "------------------------------------------------------------------------\n",
    "\n",
    "In addition to the aforementioned notebooks, we have two additional\n",
    "files:\n",
    "\n",
    "-   [`0-weather_data_collection.ipynb`](./0-weather_data_collection.ipynb):\n",
    "    (optional) contains the code used to collect the weather data used\n",
    "    in the chapter\n",
    "-   [`window_calc.py`](./window_calc.py): contains a function that uses\n",
    "    pipes to perform a variety of window calculations\n",
    "\n",
    "All the datasets necessary for the aforementioned notebooks, along with\n",
    "information on them, can be found in the [`data/`](./data) directory.\n",
    "The end-of-chapter exercises will use the datasets in the\n",
    "[`exercises/`](./exercises) directory; "
   ]
  }
 ],
 "metadata": {
  "kernelspec": {
   "display_name": "Python 3 (ipykernel)",
   "language": "python",
   "name": "python3"
  },
  "language_info": {
   "codemirror_mode": {
    "name": "ipython",
    "version": 3
   },
   "file_extension": ".py",
   "mimetype": "text/x-python",
   "name": "python",
   "nbconvert_exporter": "python",
   "pygments_lexer": "ipython3",
   "version": "3.10.9"
  }
 },
 "nbformat": 4,
 "nbformat_minor": 5
}
