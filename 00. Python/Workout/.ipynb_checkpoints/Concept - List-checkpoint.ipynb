{
 "cells": [
  {
   "cell_type": "code",
   "execution_count": null,
   "id": "d89715db",
   "metadata": {},
   "outputs": [],
   "source": [
    "numbers = [4, 5, 6, 3, 2]\n",
    "for val in numbers:\n",
    "    print(val)\n"
   ]
  },
  {
   "cell_type": "code",
   "execution_count": null,
   "id": "7b48fc12",
   "metadata": {},
   "outputs": [],
   "source": [
    "numbers = [4, 5, 6, 3, 2]\n",
    "for i in range(len(numbers)):\n",
    "    print(i, numbers[i])"
   ]
  },
  {
   "cell_type": "code",
   "execution_count": null,
   "id": "d4202698",
   "metadata": {},
   "outputs": [],
   "source": [
    "#Adding 2 to each value and assign to next position\n",
    "num = [10, 10, 10, 10]\n",
    "for i in range(len(num)):\n",
    "    num[i+1] = num[i] + 2\n",
    "print(num)"
   ]
  },
  {
   "cell_type": "code",
   "execution_count": null,
   "id": "83bd1cbb",
   "metadata": {},
   "outputs": [],
   "source": [
    "num = [10, 10, 10, 10]\n",
    "for i in range(len(num)-1):\n",
    "    num[i+1] = num[i] + 2\n",
    "print(num)"
   ]
  },
  {
   "cell_type": "code",
   "execution_count": null,
   "id": "86d42464",
   "metadata": {},
   "outputs": [],
   "source": [
    "num = [2,3,1,5]\n",
    "num.insert(2, 4)\n",
    "num"
   ]
  },
  {
   "cell_type": "code",
   "execution_count": null,
   "id": "afd5e9a3",
   "metadata": {},
   "outputs": [],
   "source": [
    "num.insert(5, 7)\n",
    "num"
   ]
  },
  {
   "cell_type": "code",
   "execution_count": null,
   "id": "507843f6",
   "metadata": {},
   "outputs": [],
   "source": [
    "num.append(9)\n",
    "num"
   ]
  },
  {
   "cell_type": "code",
   "execution_count": null,
   "id": "646b0b1f",
   "metadata": {},
   "outputs": [],
   "source": [
    "num.append([10,11])\n",
    "num"
   ]
  },
  {
   "cell_type": "code",
   "execution_count": null,
   "id": "186399a0",
   "metadata": {},
   "outputs": [],
   "source": [
    "num.extend([12, 13, 15])\n",
    "num"
   ]
  },
  {
   "cell_type": "code",
   "execution_count": null,
   "id": "f332cb3e",
   "metadata": {},
   "outputs": [],
   "source": [
    "num = [2,3,1,5]\n",
    "num.extend('TEMP')\n",
    "num"
   ]
  },
  {
   "cell_type": "code",
   "execution_count": null,
   "id": "9508de4d",
   "metadata": {},
   "outputs": [],
   "source": [
    "num = [2,3,1,5]\n",
    "num.append('TEMP')\n",
    "num"
   ]
  },
  {
   "cell_type": "code",
   "execution_count": null,
   "id": "86284590",
   "metadata": {},
   "outputs": [],
   "source": [
    "num = [2,3,1,5]\n",
    "num.extend(6)\n",
    "num"
   ]
  },
  {
   "cell_type": "code",
   "execution_count": null,
   "id": "26a1608f",
   "metadata": {},
   "outputs": [],
   "source": [
    "x = 7\n",
    "[x]"
   ]
  },
  {
   "cell_type": "code",
   "execution_count": null,
   "id": "ffe4d4d6",
   "metadata": {},
   "outputs": [],
   "source": [
    "nums = [4,3,2,6,5,7,8,1]\n",
    "even = []\n",
    "odd = []\n",
    "for val in nums:\n",
    "    if val % 2 == 0:\n",
    "        even.append(val)\n",
    "    else:\n",
    "        odd.append(val)\n",
    "        \n",
    "print(even, odd)"
   ]
  },
  {
   "cell_type": "code",
   "execution_count": null,
   "id": "7845fedd",
   "metadata": {},
   "outputs": [],
   "source": [
    "sum(nums)"
   ]
  },
  {
   "cell_type": "code",
   "execution_count": null,
   "id": "a996ed0f",
   "metadata": {},
   "outputs": [],
   "source": [
    "min(nums)"
   ]
  },
  {
   "cell_type": "code",
   "execution_count": null,
   "id": "48c668c0",
   "metadata": {},
   "outputs": [],
   "source": [
    "max(nums)"
   ]
  },
  {
   "cell_type": "code",
   "execution_count": null,
   "id": "981aaaaf",
   "metadata": {},
   "outputs": [],
   "source": [
    "# finding average of list => sum(list) / len(list)\n",
    "nums = [4,3,2,6,5,7,8,1]\n",
    "sum(nums) / len(nums)"
   ]
  },
  {
   "cell_type": "code",
   "execution_count": null,
   "id": "f87271b9",
   "metadata": {},
   "outputs": [],
   "source": [
    "nums = [4,3,2,6,5,7,2,8,1]\n",
    "nums.remove(2)\n",
    "nums"
   ]
  },
  {
   "cell_type": "code",
   "execution_count": null,
   "id": "fcd9b7d8",
   "metadata": {},
   "outputs": [],
   "source": [
    "nums.pop()\n",
    "nums"
   ]
  },
  {
   "cell_type": "code",
   "execution_count": null,
   "id": "71159bb3",
   "metadata": {},
   "outputs": [],
   "source": [
    "nums.pop(5)\n",
    "nums"
   ]
  },
  {
   "cell_type": "code",
   "execution_count": null,
   "id": "672b3a12",
   "metadata": {},
   "outputs": [],
   "source": [
    "nums = [11 , 2, 39, 4, 57]\n",
    "nums.sort()\n",
    "nums"
   ]
  },
  {
   "cell_type": "code",
   "execution_count": null,
   "id": "f3fe25cb",
   "metadata": {},
   "outputs": [],
   "source": [
    "nums = [11 , 2, 39, 4, 57]\n",
    "nums.sort(reverse=True)\n",
    "nums"
   ]
  },
  {
   "cell_type": "code",
   "execution_count": null,
   "id": "55295fe9",
   "metadata": {},
   "outputs": [],
   "source": [
    "nums = [11 , 2, 39, 4, 57]\n",
    "nums.index(39)"
   ]
  },
  {
   "cell_type": "code",
   "execution_count": null,
   "id": "0b6fb0a7",
   "metadata": {},
   "outputs": [],
   "source": [
    "nums = [11 , 2, 39, 4, 57, 4]\n",
    "nums.count(11)"
   ]
  },
  {
   "cell_type": "code",
   "execution_count": null,
   "id": "83816ac2",
   "metadata": {},
   "outputs": [],
   "source": [
    "nums = [11 , 2, 39, 4, 57, 4]\n",
    "nums.clear()\n",
    "nums"
   ]
  }
 ],
 "metadata": {
  "kernelspec": {
   "display_name": "Python 3 (ipykernel)",
   "language": "python",
   "name": "python3"
  },
  "language_info": {
   "codemirror_mode": {
    "name": "ipython",
    "version": 3
   },
   "file_extension": ".py",
   "mimetype": "text/x-python",
   "name": "python",
   "nbconvert_exporter": "python",
   "pygments_lexer": "ipython3",
   "version": "3.10.9"
  }
 },
 "nbformat": 4,
 "nbformat_minor": 5
}
