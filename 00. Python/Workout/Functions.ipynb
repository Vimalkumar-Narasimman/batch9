{
 "cells": [
  {
   "cell_type": "markdown",
   "id": "02b6741a",
   "metadata": {},
   "source": [
    "## Instructions: Do not use any Python libraries and write the following codes from scratch for best learning/ revision."
   ]
  },
  {
   "cell_type": "markdown",
   "id": "e8dff07b",
   "metadata": {},
   "source": [
    "### Q1. Come up with a function that divides the first input by the second input:"
   ]
  },
  {
   "cell_type": "code",
   "execution_count": null,
   "id": "e3c05019",
   "metadata": {},
   "outputs": [],
   "source": [
    "#ToDo: Write your code here"
   ]
  },
  {
   "cell_type": "markdown",
   "id": "f0a5dbe6",
   "metadata": {},
   "source": [
    "### Q2. Use the function <code>con</code> for the following question.\n",
    "##### Use the con function for the following question\n",
    "<p><code>def con(a, b):\n",
    "    return(a + b)</code></p>"
   ]
  },
  {
   "cell_type": "code",
   "execution_count": null,
   "id": "7083b4ae",
   "metadata": {},
   "outputs": [],
   "source": [
    "#ToDo: Write your code here"
   ]
  },
  {
   "cell_type": "markdown",
   "id": "0805a7dc",
   "metadata": {},
   "source": [
    "### Q3. Can the <code>con</code> function we defined before be used to add to integers or strings?"
   ]
  },
  {
   "cell_type": "code",
   "execution_count": null,
   "id": "eb5962c5",
   "metadata": {},
   "outputs": [],
   "source": [
    "#ToDo: Write your code here"
   ]
  },
  {
   "cell_type": "markdown",
   "id": "a93bd789",
   "metadata": {},
   "source": [
    "### Q4. Write a function called draw_rectangle that takes two arguments length and height and prints an outcome an length * height box consisting of asterisks. <br> \n",
    "- Call that function with length = 5 and height = 3\n",
    "- Call that function with length = 10 and height = 5"
   ]
  },
  {
   "cell_type": "code",
   "execution_count": null,
   "id": "097d8a20",
   "metadata": {},
   "outputs": [],
   "source": [
    "#ToDo: Write your code here"
   ]
  },
  {
   "cell_type": "markdown",
   "id": "549ca061",
   "metadata": {},
   "source": [
    "### Q5. Write a function called sum_digits that is given an integer num and returns the sum of the digits of sum."
   ]
  },
  {
   "cell_type": "code",
   "execution_count": null,
   "id": "7596a1de",
   "metadata": {},
   "outputs": [],
   "source": [
    "#ToDo: Write your code here"
   ]
  },
  {
   "cell_type": "markdown",
   "id": "b67baf83",
   "metadata": {},
   "source": [
    "### Q6. Write a function called len_upper that accepts string as input and returns the number of capital letters present in the string. If no capital letters are present in the then prints the error message in the function then returns -1 as output."
   ]
  },
  {
   "cell_type": "code",
   "execution_count": null,
   "id": "424654e9",
   "metadata": {},
   "outputs": [],
   "source": [
    "#ToDo: Write your code here"
   ]
  },
  {
   "cell_type": "markdown",
   "id": "d4a8e311",
   "metadata": {},
   "source": [
    "### Q7. Explore different built in functions available on string data structure for <br>\n",
    "        - determining whether a string is alphanumeric or not\n",
    "        - finding out index of a substring\n",
    "        - finding out whether string is identifier or not"
   ]
  },
  {
   "cell_type": "code",
   "execution_count": null,
   "id": "65edbec5",
   "metadata": {},
   "outputs": [],
   "source": [
    "#ToDo: Write your code here"
   ]
  },
  {
   "cell_type": "markdown",
   "id": "2b959d89",
   "metadata": {},
   "source": [
    "### Q8. Explore following Python built in functions. <br>\n",
    "- abs\n",
    "- dir\n",
    "- eval\n",
    "- format\n",
    "- range \n",
    "- round"
   ]
  },
  {
   "cell_type": "code",
   "execution_count": null,
   "id": "0d36f568",
   "metadata": {},
   "outputs": [],
   "source": [
    "#ToDo: Write your code here"
   ]
  },
  {
   "cell_type": "markdown",
   "id": "b09f7445",
   "metadata": {},
   "source": [
    "### Q9. Explore the functions in built-in module.\n",
    "    - calendar\n",
    "    - datetime"
   ]
  },
  {
   "cell_type": "code",
   "execution_count": null,
   "id": "83f9eea9",
   "metadata": {},
   "outputs": [],
   "source": [
    "#ToDo: Write your code here"
   ]
  },
  {
   "cell_type": "markdown",
   "id": "e341e5e8",
   "metadata": {},
   "source": [
    "### Q10. Write a function call one_way that takes two strings and returns True if the strings are of the same length and differ in exactly one letter, like bike/hike or water/wafer."
   ]
  },
  {
   "cell_type": "code",
   "execution_count": null,
   "id": "ca3fa669",
   "metadata": {},
   "outputs": [],
   "source": [
    "#ToDo: Write your code here"
   ]
  }
 ],
 "metadata": {
  "kernelspec": {
   "display_name": "Python 3 (ipykernel)",
   "language": "python",
   "name": "python3"
  },
  "language_info": {
   "codemirror_mode": {
    "name": "ipython",
    "version": 3
   },
   "file_extension": ".py",
   "mimetype": "text/x-python",
   "name": "python",
   "nbconvert_exporter": "python",
   "pygments_lexer": "ipython3",
   "version": "3.11.1"
  }
 },
 "nbformat": 4,
 "nbformat_minor": 5
}
