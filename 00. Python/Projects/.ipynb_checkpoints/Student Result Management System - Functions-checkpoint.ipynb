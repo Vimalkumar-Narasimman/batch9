{
 "cells": [
  {
   "cell_type": "code",
   "execution_count": 16,
   "id": "5aac2ec9",
   "metadata": {},
   "outputs": [
    {
     "name": "stdout",
     "output_type": "stream",
     "text": [
      "Exception in reading students875.json: [Errno 2] No such file or directory: 'students875.json'\n"
     ]
    }
   ],
   "source": [
    "#Without function\n",
    "\n",
    "import json\n",
    "\n",
    "passMark = 45\n",
    "filename = 'students875.json'\n",
    "try:\n",
    "    with open(filename) as std:\n",
    "        stdRecords = json.load(std)\n",
    "except Exception as e:\n",
    "    print(f\"Exception in reading {filename}: {e}\")\n",
    "    stdRecords = []\n",
    "#print(type(stdRecords))\n",
    "if len(stdRecords) > 0:\n",
    "    for stdDict in stdRecords:\n",
    "        try:\n",
    "            stdDict['total'] = sum(stdDict['marks'])\n",
    "            result = 'Pass'\n",
    "            for mark in stdDict['marks']:\n",
    "                if mark < passMark:\n",
    "                    result = 'Fail'\n",
    "                    break\n",
    "            stdDict['result'] = result\n",
    "            if result == 'Pass':\n",
    "                stdDict['Percentage'] = sum(stdDict['marks']) / len(stdDict['marks'])\n",
    "        except Exception as e:\n",
    "            print(f\"Exception in {stdDict['name']}: {e}\")\n",
    "\n",
    "    outfile = 'students_result.json'\n",
    "    with open(outfile, 'w') as std:\n",
    "        json.dump(stdRecords, std, indent=4)\n"
   ]
  },
  {
   "cell_type": "code",
   "execution_count": 17,
   "id": "cfd0c4b1",
   "metadata": {},
   "outputs": [],
   "source": [
    "#with functions\n",
    "\n",
    "def readStudentJSON(filename):\n",
    "    try:\n",
    "        with open(filename) as std:\n",
    "            stdRecords = json.load(std)\n",
    "        return stdRecords\n",
    "    except Exception as e:\n",
    "        print(f\"Exception in reading {filename}: {e}\")\n",
    "        return []\n",
    "\n",
    "def writeStudentResults(filename, stdRecords):\n",
    "    try:\n",
    "        with open(filename, 'w') as std:\n",
    "            json.dump(stdRecords, std, indent=4)\n",
    "    except Exception as e:\n",
    "        print(f\"Exception in loading {filename}: {e}\")\n",
    "        \n",
    "def findTotal(marks):\n",
    "    try:\n",
    "        return sum(marks)\n",
    "    except Exception as e:\n",
    "        print(f\"Exception in finding total: {e}\")\n",
    "        return 0\n",
    "    \n",
    "def findResult(marks, passMark):\n",
    "    try:\n",
    "        result = 'Pass'\n",
    "        for mark in stdDict['marks']:\n",
    "            if mark < passMark:\n",
    "                result = 'Fail'\n",
    "                break\n",
    "        return result\n",
    "    except Exception as e:\n",
    "        print(f\"Exception in finding total: {e}\")\n",
    "        return 'TBD'\n",
    "\n",
    "def findPercentage(marks):\n",
    "    try:\n",
    "        return sum(marks)/len(marks)\n",
    "    except Exception as e:\n",
    "        print(f\"Exception in finding total: {e}\")\n",
    "        return 0"
   ]
  },
  {
   "cell_type": "code",
   "execution_count": 18,
   "id": "35284e71",
   "metadata": {},
   "outputs": [
    {
     "name": "stdout",
     "output_type": "stream",
     "text": [
      "Exception in finding total: unsupported operand type(s) for +: 'int' and 'str'\n"
     ]
    }
   ],
   "source": [
    "infile = 'students.json'\n",
    "outfile = 'std_results.json'\n",
    "passMark = 45\n",
    "\n",
    "records = readStudentJSON(infile)\n",
    "for rec in records:\n",
    "    rec['total'] = findTotal(rec['marks'])\n",
    "    rec['result'] = findResult(rec['marks'],passMark)\n",
    "    if rec['result'] == 'Pass':\n",
    "        rec['Percentage'] = findPercentage(rec['marks'])\n",
    "writeStudentResults(outfile, records)"
   ]
  },
  {
   "cell_type": "code",
   "execution_count": 19,
   "id": "752f466a",
   "metadata": {},
   "outputs": [
    {
     "name": "stdout",
     "output_type": "stream",
     "text": [
      "Exception in finding total: unsupported operand type(s) for +: 'int' and 'str'\n"
     ]
    }
   ],
   "source": [
    "# with Map\n",
    "infile = 'students.json'\n",
    "outfile = 'std_results_map.json'\n",
    "passMark = 45\n",
    "#wrapper\n",
    "def calculateResult(rec):\n",
    "    rec['total'] = findTotal(rec['marks'])\n",
    "    rec['result'] = findResult(rec['marks'],passMark)\n",
    "    if rec['result'] == 'Pass':\n",
    "        rec['Percentage'] = findPercentage(rec['marks'])\n",
    "    return rec\n",
    "\n",
    "\n",
    "\n",
    "records = readStudentJSON(infile)\n",
    "resultRecords = list(map(calculateResult, records))\n",
    "    \n",
    "writeStudentResults(outfile, resultRecords)"
   ]
  },
  {
   "cell_type": "code",
   "execution_count": null,
   "id": "2ad095cf",
   "metadata": {},
   "outputs": [],
   "source": []
  }
 ],
 "metadata": {
  "kernelspec": {
   "display_name": "Python 3 (ipykernel)",
   "language": "python",
   "name": "python3"
  },
  "language_info": {
   "codemirror_mode": {
    "name": "ipython",
    "version": 3
   },
   "file_extension": ".py",
   "mimetype": "text/x-python",
   "name": "python",
   "nbconvert_exporter": "python",
   "pygments_lexer": "ipython3",
   "version": "3.10.9"
  }
 },
 "nbformat": 4,
 "nbformat_minor": 5
}
