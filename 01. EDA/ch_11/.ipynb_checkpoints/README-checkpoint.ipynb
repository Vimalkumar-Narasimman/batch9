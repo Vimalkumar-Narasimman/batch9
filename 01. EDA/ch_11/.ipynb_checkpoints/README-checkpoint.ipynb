{
 "cells": [
  {
   "cell_type": "markdown",
   "id": "36770f79",
   "metadata": {},
   "source": [
    "# Chapter 11: Machine Learning Anomaly Detection\n",
    "\n",
    "This chapter revisits anomaly detection on login attempt data, using\n",
    "machine learning techniques, all while giving you a taste of how the\n",
    "workflow looks in practice.\n",
    "\n",
    "## Content\n",
    "\n",
    "We will work through five notebooks emulating a real-world scenario\n",
    "using the simulated data in the `logs/` directory. Here's a breakdown of\n",
    "the files included in this chapter:\n",
    "\n",
    "-   [`logs/`](./logs): Directory containing all simulated log files for\n",
    "    the analysis\n",
    "-   [`user_data/`](./user_data): Directory containing information on the\n",
    "    user base used for the simulation (for the `simulate.py` script to\n",
    "    use)\n",
    "-   [`0-simulating_the_data.ipynb`](./0-simulating_the_data.ipynb):\n",
    "    Jupyter notebook showing how data was simulated\n",
    "-   [`1-EDA_unlabeled_data.ipynb`](./1-EDA_unlabeled_data.ipynb):\n",
    "    Jupyter notebook used to perform our EDA of the unlabeled data\n",
    "-   [`2-unsupervised_anomaly_detection.ipynb`](./2-unsupervised_anomaly_detection.ipynb):\n",
    "    Jupyter notebook used to test out some unsupervised anomaly\n",
    "    detection alogrithms\n",
    "-   [`3-EDA_labeled_data.ipynb`](./3-EDA_labeled_data.ipynb): Jupyter\n",
    "    notebook used to perform our EDA of the labeled data\n",
    "-   [`4-supervised_anomaly_detection.ipynb`](./4-supervised_anomaly_detection.ipynb):\n",
    "    Jupyter notebook used to build and evaluate supervised anomaly\n",
    "    detection models\n",
    "-   [`5-online_learning.ipynb`](./5-online_learning.ipynb): Jupyter\n",
    "    notebook used to implement an online learning classifier\n",
    "-   [`merge_logs.py`](./merge_logs.py): Python script for merging the\n",
    "    logs of individually simulated months\n",
    "-   [`run_simulations.sh`](./run_simulations.sh): Bash script for\n",
    "    simulating and merging the log files (this is used to generate the\n",
    "    data)\n",
    "-   [`simulate.py`](./simulate.py): Python script for simulating the\n",
    "    data using the [`login_attempt_simulator`\n",
    "    package](https://github.com/stefmolin/login-attempt-simulator)\n",
    "\n",
    "The end-of-chapter exercises will use the data in the [`logs/`](./logs)\n",
    "directory to explore additional algorithms for machine learning anomaly\n",
    "detection; "
   ]
  }
 ],
 "metadata": {
  "kernelspec": {
   "display_name": "Python 3 (ipykernel)",
   "language": "python",
   "name": "python3"
  },
  "language_info": {
   "codemirror_mode": {
    "name": "ipython",
    "version": 3
   },
   "file_extension": ".py",
   "mimetype": "text/x-python",
   "name": "python",
   "nbconvert_exporter": "python",
   "pygments_lexer": "ipython3",
   "version": "3.10.9"
  }
 },
 "nbformat": 4,
 "nbformat_minor": 5
}
