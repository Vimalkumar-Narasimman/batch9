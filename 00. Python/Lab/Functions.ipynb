{
 "cells": [
  {
   "cell_type": "code",
   "execution_count": null,
   "metadata": {
    "colab": {
     "base_uri": "https://localhost:8080/"
    },
    "id": "KUDtSlKjNjim",
    "outputId": "43a55493-c03d-4152-f16b-45d24167e88e"
   },
   "outputs": [
    {
     "name": "stdout",
     "output_type": "stream",
     "text": [
      "Enter integer value: 10\n",
      "positive\n"
     ]
    }
   ],
   "source": [
    "nbr = int(input(\"Enter integer value: \"))\n",
    "if nbr >= 0: print(\"positive\")\n"
   ]
  },
  {
   "cell_type": "code",
   "execution_count": null,
   "metadata": {
    "colab": {
     "base_uri": "https://localhost:8080/"
    },
    "id": "EcpKBD9_OGCN",
    "outputId": "154633b4-31a3-4879-fb5e-814f7af93e82"
   },
   "outputs": [
    {
     "name": "stdout",
     "output_type": "stream",
     "text": [
      "Enter integer value: -9\n",
      "negative\n"
     ]
    }
   ],
   "source": [
    "nbr = int(input(\"Enter integer value: \"))\n",
    "a = \"positive\" if nbr >= 0  else \"negative\"\n",
    "print(a)"
   ]
  },
  {
   "cell_type": "code",
   "execution_count": null,
   "metadata": {
    "colab": {
     "base_uri": "https://localhost:8080/"
    },
    "id": "SKTjpugkS6b4",
    "outputId": "c9ef5b86-8ee2-4190-846b-94f721a0667c"
   },
   "outputs": [
    {
     "name": "stdout",
     "output_type": "stream",
     "text": [
      "Enter a String: one\n",
      "e\n",
      "on\n",
      "en\n",
      "o\n",
      "eno\n",
      "\n",
      "one is NOT a palindrome\n"
     ]
    }
   ],
   "source": [
    "givenStr = input('Enter a String: ')\n",
    "tempStr = givenStr\n",
    "palStr = ''\n",
    "while givenStr != '':\n",
    "  palStr += givenStr[len(givenStr)-1]\n",
    "  print(palStr)\n",
    "  givenStr = givenStr[0:len(givenStr)-1]\n",
    "  print(givenStr)\n",
    "if tempStr == palStr:\n",
    "  print(f'{tempStr} is a palindrome')\n",
    "else:\n",
    "  print(f'{tempStr} is NOT a palindrome')"
   ]
  },
  {
   "cell_type": "code",
   "execution_count": null,
   "metadata": {
    "colab": {
     "base_uri": "https://localhost:8080/"
    },
    "id": "6VItBRPLLnQp",
    "outputId": "d8fac735-ee70-4b57-94b7-11db64f7df2e"
   },
   "outputs": [
    {
     "name": "stdout",
     "output_type": "stream",
     "text": [
      "Enter a interger number: 8\n",
      "8 is a palindrome\n"
     ]
    }
   ],
   "source": [
    "num = int(input('Enter a interger number: '))\n",
    "tempNum = num\n",
    "palNum = 0\n",
    "while num > 0:\n",
    "  #palNum = palNum + str(num % 10)\n",
    "  palNum = palNum * 10 + (num % 10) \n",
    "  #print(palNum)\n",
    "  num = num // 10\n",
    "  #print(num)\n",
    "if tempNum == palNum:\n",
    "  print(f'{tempNum} is a palindrome')\n",
    "else:\n",
    "  print(f'{tempNum} is NOT a palindrome')"
   ]
  },
  {
   "cell_type": "code",
   "execution_count": null,
   "metadata": {
    "colab": {
     "base_uri": "https://localhost:8080/"
    },
    "id": "3TOSBdEeVYMx",
    "outputId": "634c1af6-c484-4668-c2ce-0c768758b6f2"
   },
   "outputs": [
    {
     "name": "stdout",
     "output_type": "stream",
     "text": [
      "Enter a String: madam\n",
      "m\n",
      "m\n",
      "a\n",
      "ma\n",
      "d\n",
      "mad\n",
      "a\n",
      "mada\n",
      "m\n",
      "madam\n",
      "madam is a palindrome\n"
     ]
    }
   ],
   "source": [
    "givenStr = input('Enter a String: ')\n",
    "palStr = ''\n",
    "for i in range(len(givenStr) - 1, -1, -1):\n",
    "  print(givenStr[i])\n",
    "  palStr += givenStr[i]\n",
    "  print(palStr)\n",
    "if givenStr == palStr:\n",
    "  print(f'{givenStr} is a palindrome')\n",
    "else:\n",
    "  print(f'{givenStr} is NOT a palindrome')"
   ]
  },
  {
   "cell_type": "code",
   "execution_count": null,
   "metadata": {
    "colab": {
     "base_uri": "https://localhost:8080/"
    },
    "id": "RID1HFbOYC6b",
    "outputId": "ed16b565-792a-45b5-bb3b-87641efbd843"
   },
   "outputs": [
    {
     "name": "stdout",
     "output_type": "stream",
     "text": [
      "madam is a palindrome\n"
     ]
    }
   ],
   "source": [
    "name = 'madam'\n",
    "if name == name[::-1]:\n",
    "  print(f'{name} is a palindrome')\n",
    "else:\n",
    "  print(f'{name} is NOT a palindrome')"
   ]
  },
  {
   "cell_type": "code",
   "execution_count": null,
   "metadata": {
    "colab": {
     "base_uri": "https://localhost:8080/"
    },
    "id": "1IgrTWXha435",
    "outputId": "00ef1624-93ea-4905-b9fe-ea92d77ef9ad"
   },
   "outputs": [
    {
     "name": "stdout",
     "output_type": "stream",
     "text": [
      "Vowel\n"
     ]
    }
   ],
   "source": [
    "name = 'anna'\n",
    "if name[0].upper() in ('A', 'E', 'I', 'O', 'U'):\n",
    "  print('Vowel')"
   ]
  },
  {
   "cell_type": "code",
   "execution_count": null,
   "metadata": {
    "colab": {
     "base_uri": "https://localhost:8080/"
    },
    "id": "6zuihllFcLNI",
    "outputId": "63d83c77-213a-4255-a01f-ab3ae702df33"
   },
   "outputs": [
    {
     "name": "stdout",
     "output_type": "stream",
     "text": [
      "Fibonacci sequence upto 8\n",
      "0\n",
      "1\n",
      "1\n",
      "2\n",
      "3\n",
      "5\n",
      "8\n",
      "13\n"
     ]
    }
   ],
   "source": [
    "# Program to display the Fibonacci sequence up to n\n",
    "nterms = 8\n",
    "# first two terms\n",
    "n1, n2 = 0, 1\n",
    "print(\"Fibonacci sequence upto\", nterms)\n",
    "for i in range(0, nterms):\n",
    "  print(n1)\n",
    "  n1, n2 = n2, n1 + n2"
   ]
  },
  {
   "cell_type": "code",
   "execution_count": null,
   "metadata": {
    "colab": {
     "base_uri": "https://localhost:8080/"
    },
    "id": "J_NUy6GFeDjG",
    "outputId": "6fc80292-06bd-48ac-f56d-066982efa726"
   },
   "outputs": [
    {
     "name": "stdout",
     "output_type": "stream",
     "text": [
      "<class 'tuple'>\n"
     ]
    }
   ],
   "source": [
    "n = 10, 11, 23\n",
    "print(type(n))"
   ]
  },
  {
   "cell_type": "code",
   "execution_count": null,
   "metadata": {
    "colab": {
     "base_uri": "https://localhost:8080/"
    },
    "id": "KQo08_GSf3-S",
    "outputId": "89279a3a-f8c4-4c46-81c6-9f08f555b1b4"
   },
   "outputs": [
    {
     "name": "stdout",
     "output_type": "stream",
     "text": [
      "10\n",
      "20\n",
      "30\n",
      "40\n",
      "100\n"
     ]
    }
   ],
   "source": [
    "def count(*args):\n",
    "  #return len(args)\n",
    "  cnt = 0\n",
    "  for i in args:\n",
    "    print(i)\n",
    "    cnt+=i\n",
    "  return cnt\n",
    "cnt = count(10,20,30,40)\n",
    "print(cnt)"
   ]
  },
  {
   "cell_type": "code",
   "execution_count": null,
   "metadata": {
    "colab": {
     "background_save": true,
     "base_uri": "https://localhost:8080/",
     "height": 36
    },
    "id": "DVR1uJfbf2jr",
    "outputId": "b4470ec6-a836-4352-e25d-4873b32d1eaf"
   },
   "outputs": [
    {
     "data": {
      "text/plain": [
       "['Pen', 10, 30.5]"
      ]
     },
     "execution_count": 2,
     "metadata": {},
     "output_type": "execute_result"
    }
   ],
   "source": [
    "shopingList = ['Notebook', 10, 30.50]\n",
    "shopingList[0]"
   ]
  },
  {
   "cell_type": "code",
   "execution_count": null,
   "metadata": {
    "colab": {
     "base_uri": "https://localhost:8080/"
    },
    "id": "aBm20dRmq7nD",
    "outputId": "69b63164-d768-48d7-eef8-f07742009f5f"
   },
   "outputs": [
    {
     "data": {
      "text/plain": [
       "210"
      ]
     },
     "execution_count": 31,
     "metadata": {},
     "output_type": "execute_result"
    }
   ],
   "source": [
    "lst = [1,3, 5, 2, 98, 56, 45]\n",
    "sum(lst)"
   ]
  },
  {
   "cell_type": "code",
   "execution_count": null,
   "metadata": {
    "colab": {
     "base_uri": "https://localhost:8080/"
    },
    "id": "U_yw2ey0rEPa",
    "outputId": "9a27968b-a6c7-43a4-b35a-841dc2bf47cd"
   },
   "outputs": [
    {
     "data": {
      "text/plain": [
       "98"
      ]
     },
     "execution_count": 32,
     "metadata": {},
     "output_type": "execute_result"
    }
   ],
   "source": [
    "max(lst)"
   ]
  },
  {
   "cell_type": "code",
   "execution_count": null,
   "metadata": {
    "colab": {
     "base_uri": "https://localhost:8080/"
    },
    "id": "6ZjTR8fyrDrx",
    "outputId": "5b6b07b3-0d6a-4c04-ed8e-247a8586ce60"
   },
   "outputs": [
    {
     "data": {
      "text/plain": [
       "1"
      ]
     },
     "execution_count": 33,
     "metadata": {},
     "output_type": "execute_result"
    }
   ],
   "source": [
    "min(lst)"
   ]
  },
  {
   "cell_type": "code",
   "execution_count": null,
   "metadata": {
    "colab": {
     "base_uri": "https://localhost:8080/"
    },
    "id": "XohNmsB1rLHj",
    "outputId": "fcc63748-2f43-4a3b-8a6f-a66aad8f2f17"
   },
   "outputs": [
    {
     "data": {
      "text/plain": [
       "[1, 3, 5, 2, 98, 56, 45, 2, 3, 4, 5]"
      ]
     },
     "execution_count": 34,
     "metadata": {},
     "output_type": "execute_result"
    }
   ],
   "source": [
    "lst.extend([2,3,4,5])\n",
    "lst"
   ]
  },
  {
   "cell_type": "code",
   "execution_count": null,
   "metadata": {
    "colab": {
     "base_uri": "https://localhost:8080/"
    },
    "id": "hxchXTherRSl",
    "outputId": "72a20b48-77f7-4d04-a49e-2b97c676374f"
   },
   "outputs": [
    {
     "data": {
      "text/plain": [
       "2"
      ]
     },
     "execution_count": 36,
     "metadata": {},
     "output_type": "execute_result"
    }
   ],
   "source": [
    "lst.count(5)"
   ]
  },
  {
   "cell_type": "code",
   "execution_count": null,
   "metadata": {
    "colab": {
     "base_uri": "https://localhost:8080/"
    },
    "id": "bV65hlw0rXiw",
    "outputId": "77b91b94-fdaf-41a4-8b39-3f25f2c49ee2"
   },
   "outputs": [
    {
     "data": {
      "text/plain": [
       "[1, 2, 2, 3, 3, 4, 5, 5, 45, 56, 98]"
      ]
     },
     "execution_count": 38,
     "metadata": {},
     "output_type": "execute_result"
    }
   ],
   "source": [
    "lst.sort()\n",
    "lst"
   ]
  },
  {
   "cell_type": "code",
   "execution_count": null,
   "metadata": {},
   "outputs": [],
   "source": [
    "def lin_search(ourlist, key):\n",
    "    \n",
    "    for index in range(0, len(ourlist)):\n",
    "        if (ourlist[index] == key):\n",
    "            return  index\n",
    "    else:\n",
    "        return \"not fund\"\n",
    "    \n",
    "ourlist = [15, 1, 9, 3]\n",
    "\n",
    "lin_search(ourlist, 27)"
   ]
  }
 ],
 "metadata": {
  "colab": {
   "provenance": []
  },
  "kernelspec": {
   "display_name": "Python 3 (ipykernel)",
   "language": "python",
   "name": "python3"
  },
  "language_info": {
   "codemirror_mode": {
    "name": "ipython",
    "version": 3
   },
   "file_extension": ".py",
   "mimetype": "text/x-python",
   "name": "python",
   "nbconvert_exporter": "python",
   "pygments_lexer": "ipython3",
   "version": "3.7.9"
  }
 },
 "nbformat": 4,
 "nbformat_minor": 1
}
