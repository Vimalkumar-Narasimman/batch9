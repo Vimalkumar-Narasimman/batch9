{
 "cells": [
  {
   "cell_type": "markdown",
   "id": "02b6741a",
   "metadata": {},
   "source": [
    "## Instructions: Do not use any Python libraries and write the following codes from scratch for best learning/ revision."
   ]
  },
  {
   "cell_type": "markdown",
   "id": "e8dff07b",
   "metadata": {},
   "source": [
    "### Q1. Print a traingle like one below "
   ]
  },
  {
   "cell_type": "markdown",
   "id": "1c9bb8ea",
   "metadata": {},
   "source": [
    "*\n",
    "**\n",
    "***\n",
    "****\n",
    "*****"
   ]
  },
  {
   "cell_type": "code",
   "execution_count": null,
   "id": "e3c05019",
   "metadata": {},
   "outputs": [],
   "source": [
    "#ToDo: Write your code here"
   ]
  },
  {
   "cell_type": "markdown",
   "id": "f0a5dbe6",
   "metadata": {},
   "source": [
    "### Q2. Write a program that prints result of following expression. "
   ]
  },
  {
   "cell_type": "markdown",
   "id": "7bcb99a0",
   "metadata": {},
   "source": [
    "1) 123 - 282\n",
    "2) 47.34 + 23"
   ]
  },
  {
   "cell_type": "code",
   "execution_count": null,
   "id": "7083b4ae",
   "metadata": {},
   "outputs": [],
   "source": [
    "#ToDo: Write your code here"
   ]
  },
  {
   "cell_type": "markdown",
   "id": "0805a7dc",
   "metadata": {},
   "source": [
    "### Q3. What is the data type of the result of: <code>6 / 2</code>?"
   ]
  },
  {
   "cell_type": "code",
   "execution_count": null,
   "id": "eb5962c5",
   "metadata": {},
   "outputs": [],
   "source": [
    "#ToDo: Write your code here"
   ]
  },
  {
   "cell_type": "markdown",
   "id": "a93bd789",
   "metadata": {},
   "source": [
    "### Q4. What is the type of the result of: <code>6 // 2</code>? (Note the double slash <code>//</code>.)"
   ]
  },
  {
   "cell_type": "code",
   "execution_count": null,
   "id": "097d8a20",
   "metadata": {},
   "outputs": [],
   "source": [
    "#ToDo: Write your code here"
   ]
  },
  {
   "cell_type": "markdown",
   "id": "549ca061",
   "metadata": {},
   "source": [
    "### Q5. What is the value of <code>x</code> where <code>x = 3 + 2 * 2</code>"
   ]
  },
  {
   "cell_type": "code",
   "execution_count": null,
   "id": "7596a1de",
   "metadata": {},
   "outputs": [],
   "source": [
    "#ToDo: Write your code here"
   ]
  },
  {
   "cell_type": "markdown",
   "id": "b67baf83",
   "metadata": {},
   "source": [
    "### Q6. What is the value of <code>y</code> where <code>y = (3 + 2) * 2</code>?"
   ]
  },
  {
   "cell_type": "code",
   "execution_count": null,
   "id": "424654e9",
   "metadata": {},
   "outputs": [],
   "source": [
    "#ToDo: Write your code here"
   ]
  },
  {
   "cell_type": "markdown",
   "id": "d4a8e311",
   "metadata": {},
   "source": [
    "### Q7. What is the value of <code>z</code> where <code>z = x + y</code>?"
   ]
  },
  {
   "cell_type": "code",
   "execution_count": null,
   "id": "65edbec5",
   "metadata": {},
   "outputs": [],
   "source": [
    "#ToDo: Write your code here"
   ]
  },
  {
   "cell_type": "markdown",
   "id": "2b959d89",
   "metadata": {},
   "source": [
    "### Q8. Print out a backslash"
   ]
  },
  {
   "cell_type": "code",
   "execution_count": null,
   "id": "0d36f568",
   "metadata": {},
   "outputs": [],
   "source": [
    "#ToDo: Write your code here"
   ]
  },
  {
   "cell_type": "markdown",
   "id": "b09f7445",
   "metadata": {},
   "source": [
    "### Q9. Convert the variable <code>F</code> to uppercase:\n",
    "F = \"You are wrong\""
   ]
  },
  {
   "cell_type": "code",
   "execution_count": null,
   "id": "83f9eea9",
   "metadata": {},
   "outputs": [],
   "source": [
    "#ToDo: Write your code here"
   ]
  },
  {
   "cell_type": "markdown",
   "id": "e341e5e8",
   "metadata": {},
   "source": [
    "### Q10. Consider the variable <code>G</code>, and find the first index of the sub-string <code>snow</code>:\n",
    "G = \"Mary had a little lamb Little lamb, little lamb Mary had a little lamb \\\n",
    "Its fleece was white as snow And everywhere that Mary went Mary went, Mary went \\\n",
    "Everywhere that Mary went The lamb was sure to go\""
   ]
  },
  {
   "cell_type": "code",
   "execution_count": null,
   "id": "ca3fa669",
   "metadata": {},
   "outputs": [],
   "source": [
    "#ToDo: Write your code here"
   ]
  },
  {
   "cell_type": "markdown",
   "id": "71a82976",
   "metadata": {},
   "source": [
    "In the variable <code>G</code>, replace the sub-string <code>Mary</code> with <code>Bob</code>"
   ]
  },
  {
   "cell_type": "code",
   "execution_count": null,
   "id": "b18e2305",
   "metadata": {},
   "outputs": [],
   "source": [
    "#ToDo: Write your code here"
   ]
  }
 ],
 "metadata": {
  "kernelspec": {
   "display_name": "Python 3 (ipykernel)",
   "language": "python",
   "name": "python3"
  },
  "language_info": {
   "codemirror_mode": {
    "name": "ipython",
    "version": 3
   },
   "file_extension": ".py",
   "mimetype": "text/x-python",
   "name": "python",
   "nbconvert_exporter": "python",
   "pygments_lexer": "ipython3",
   "version": "3.11.1"
  }
 },
 "nbformat": 4,
 "nbformat_minor": 5
}
