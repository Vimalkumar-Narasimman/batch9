{
 "cells": [
  {
   "cell_type": "code",
   "execution_count": 1,
   "id": "43a96c43",
   "metadata": {},
   "outputs": [],
   "source": [
    "ipl = [\n",
    "  {\n",
    "    \"Captain\": \"Mahendra Singh Dhoni\",\n",
    "    \"Coach\": \"Stephen Fleming\",\n",
    "    \"Owner\": \"India Cements\",\n",
    "    \"Manager\": \"Russell Radhakrishnan\",\n",
    "    \"City\": \"Chennai , Tamil Nadu , India\",\n",
    "    \"Founded\": \"2008 ; 14 years ago ( 2008 )\",\n",
    "    \"Home ground\": \"M. A. Chidambaram Stadium , Chennai\",\n",
    "    \"Capacity\": \"50,000\",\n",
    "    \"Indian Premier League wins\": \"4 ( 2010 , 2011 , 2018 , 2021 )\",\n",
    "    \"Champions League Twenty20 wins\": \"2 ( 2010 , 2014 )\",\n",
    "    \"Official website\": \"chennaisuperkings.com\"\n",
    "  },\n",
    "  {\n",
    "    \"Captain\": \"Rishabh Pant\",\n",
    "    \"Coach\": \"Ricky Ponting\",\n",
    "    \"Chairman\": \"Parth Jindal\",\n",
    "    \"Batting coach\": \"Pravin Amre\",\n",
    "    \"Bowling coach\": \"Pooja Methani\",\n",
    "    \"Fielding coach\": \"Biju George\",\n",
    "    \"Owner\": \"JSW Group , GMR Group\",\n",
    "    \"Manager\": \"Siddharth Bhasin\",\n",
    "    \"City\": \"New Delhi , Delhi , India\",\n",
    "    \"Founded\": \"2008 ; 14 years ago ( 2008 ) as Delhi Daredevils\",\n",
    "    \"Home ground\": \"Arun Jaitley Stadium , Delhi\",\n",
    "    \"Capacity\": \"55,000\",\n",
    "    \"Secondary home ground(s)\": \"Shaheed Veer Narayan Singh International Cricket Stadium , Naya Raipur\",\n",
    "    \"Secondary ground capacity\": \"65,000\",\n",
    "    \"Indian Premier League wins\": \"0\",\n",
    "    \"Official website\": \"delhicapitals.in\"\n",
    "  },\n",
    "  {\n",
    "    \"Captain\": \"Hardik Pandya\",\n",
    "    \"Coach\": \"Ashish Nehra\",\n",
    "    \"Owner\": \"CVC Capital Partners\",\n",
    "    \"City\": \"Ahmedabad, Gujarat , India\",\n",
    "    \"Founded\": \"25 October 2021 ; 7 months ago ( 2021-10-25 )\",\n",
    "    \"Home ground\": \"Narendra Modi Stadium , Motera , Ahmedabad\",\n",
    "    \"Capacity\": \"132,000\",\n",
    "    \"Official website\": \"gujarattitansipl.com\"\n",
    "  },\n",
    "  {\n",
    "    \"Captain\": \"Shreyas Iyer\",\n",
    "    \"Coach\": \"Brendon McCullum\",\n",
    "    \"Owner\": \"Knight Riders Group\",\n",
    "    \"City\": \"Kolkata , West Bengal , India\",\n",
    "    \"Founded\": \"24 January 2008 ; 14 years ago ( 2008-01-24 )\",\n",
    "    \"Home ground\": \"Eden Gardens , Kolkata\",\n",
    "    \"Capacity\": \"68,000\",\n",
    "    \"Indian Premier League wins\": \"2 ( 2012 , 2014 )\",\n",
    "    \"Official website\": \"kkr.in\"\n",
    "  },\n",
    "  {\n",
    "    \"Captain\": \"KL Rahul\",\n",
    "    \"Coach\": \"Andy Flower\",\n",
    "    \"Bowling coach\": \"Andy Bichel\",\n",
    "    \"Fielding coach\": \"Richard Halsall\",\n",
    "    \"Owner\": \"RPSG Group\",\n",
    "    \"Chief executive\": \"Raghu Iyer\",\n",
    "    \"City\": \"Lucknow , Uttar Pradesh , India\",\n",
    "    \"Founded\": \"25 October 2021 ; 7 months ago ( 2021-10-25 )\",\n",
    "    \"Home ground\": \"BRSABV Ekana Cricket Stadium , Lucknow\",\n",
    "    \"Capacity\": \"50,000\"\n",
    "  },\n",
    "  {\n",
    "    \"Captain\": \"Rohit Sharma\",\n",
    "    \"Coach\": \"Mahela Jayawardene\",\n",
    "    \"Owner\": \"Reliance Industries\",\n",
    "    \"City\": \"Mumbai , Maharashtra , India\",\n",
    "    \"Founded\": \"24 January 2008 ; 14 years ago ( 24 January 2008 )\",\n",
    "    \"Home ground\": \"Wankhede Stadium,,,Mumbai,(Capacity: 33,108)\",\n",
    "    \"Secondary home ground(s)\": \"Brabourne Stadium,,,Mumbai,(Capacity: 25,000)\",\n",
    "    \"Indian Premier League wins\": \"5\",\n",
    "    \"CLT20 wins\": \"2\",\n",
    "    \"Official website\": \"mumbaiindians.com\"\n",
    "  },\n",
    "  {\n",
    "    \"Captain\": \"Mayank Agarwal\",\n",
    "    \"Coach\": \"Anil Kumble\",\n",
    "    \"Owner\": \"Mohit Burman,Ness Wadia,Preity Zinta,Karan Paul\",\n",
    "    \"City\": \"Mohali , Punjab , India\",\n",
    "    \"Founded\": \"2008 ( 2008 )\",\n",
    "    \"Home ground\": \"Inderjit Singh Bindra Stadium,,,Mohali,(Capacity: 26,000),,Mullanpur International Cricket Stadium,(Capacity: 38,000)\",\n",
    "    \"Official website\": \"punjabkingsipl.in\"\n",
    "  },\n",
    "  {\n",
    "    \"Captain\": \"Sanju Samson\",\n",
    "    \"Coach\": \"Kumar Sangakkara\",\n",
    "    \"Chairman\": \"Ranjit Barthakur\",\n",
    "    \"Owner\": \"Manoj Badale,(Emerging Media) (65%),Lachlan Murdoch,(13%),RedBird Capital Partners (15%)\",\n",
    "    \"City\": \"Jaipur , Rajasthan , India\",\n",
    "    \"Founded\": \"2008 ( 2008 )\",\n",
    "    \"Home ground\": \"Sawai Mansingh Stadium , Jaipur\",\n",
    "    \"Capacity\": \"30,000\",\n",
    "    \"Secondary home ground(s)\": \"Narendra Modi Stadium,,,Ahmedabad,(Capacity: 110,000),Brabourne Stadium,,,Mumbai,(Capacity: 25,000)\",\n",
    "    \"Indian Premier League wins\": \"1 ( 2008 )\",\n",
    "    \"CLT20 wins\": \"0\",\n",
    "    \"Official website\": \"rajasthanroyals .com\"\n",
    "  },\n",
    "  {\n",
    "    \"Captain\": \"Faf du Plessis\",\n",
    "    \"Coach\": \"Sanjay Bangar\",\n",
    "    \"Owner\": \"United Spirits Limited\",\n",
    "    \"City\": \"Bangalore , Karnataka , India\",\n",
    "    \"Founded\": \"2008 ; 14 years ago ( 2008 )\",\n",
    "    \"Home ground\": \"M. Chinnaswamy Stadium,(Capacity: 35,000)\",\n",
    "    \"Indian Premier League wins\": \"0\",\n",
    "    \"CLT20 wins\": \"0\",\n",
    "    \"Official website\": \"royalchallengers.com\"\n",
    "  },\n",
    "  {\n",
    "    \"League\": \"Indian Premier League\",\n",
    "    \"Captain\": \"Kane Williamson\",\n",
    "    \"Coach\": \"Trevor Bayliss\",\n",
    "    \"Owner\": \"SUN Group\",\n",
    "    \"City\": \"Hyderabad , Telangana , India\",\n",
    "    \"Founded\": \"2012 ; 10 years ago ( 2012 )\",\n",
    "    \"Home ground\": \"Rajiv Gandhi International Cricket Stadium , Hyderabad\",\n",
    "    \"Capacity\": \"55,000\",\n",
    "    \"Indian Premier League wins\": \"1 ( 2016 )\",\n",
    "    \"Official website\": \"sunrisershyderabad.in\"\n",
    "  }\n",
    "]"
   ]
  },
  {
   "cell_type": "code",
   "execution_count": 5,
   "id": "a3a6a305",
   "metadata": {},
   "outputs": [
    {
     "data": {
      "text/plain": [
       "(list, 10)"
      ]
     },
     "execution_count": 5,
     "metadata": {},
     "output_type": "execute_result"
    }
   ],
   "source": [
    "type(ipl), len(ipl)"
   ]
  },
  {
   "cell_type": "code",
   "execution_count": 20,
   "id": "27c6dfa4",
   "metadata": {},
   "outputs": [
    {
     "name": "stdout",
     "output_type": "stream",
     "text": [
      "50,000\n",
      "55,000\n",
      "132,000\n",
      "68,000\n",
      "50,000\n",
      "None\n",
      "None\n",
      "30,000\n",
      "None\n",
      "55,000\n"
     ]
    }
   ],
   "source": [
    "# create or modify the 'Capacity' value as interger\n",
    "for team in ipl:\n",
    "    print(team.get('Capacity'))\n",
    "    \n",
    "    "
   ]
  },
  {
   "cell_type": "code",
   "execution_count": 18,
   "id": "74189f36",
   "metadata": {},
   "outputs": [
    {
     "name": "stdout",
     "output_type": "stream",
     "text": [
      "{'Captain': 'Mahendra Singh Dhoni', 'Coach': 'Stephen Fleming', 'Owner': 'India Cements', 'Manager': 'Russell Radhakrishnan', 'City': 'Chennai , Tamil Nadu , India', 'Founded': '2008 ; 14 years ago ( 2008 )', 'Home ground': 'M. A. Chidambaram Stadium , Chennai', 'Capacity': '50,000', 'Indian Premier League wins': '4 ( 2010 , 2011 , 2018 , 2021 )', 'Champions League Twenty20 wins': '2 ( 2010 , 2014 )', 'Official website': 'chennaisuperkings.com', 'Home Town': 'Chennai', 'State': 'Tamil Nadu', 'Year': '2008'}\n",
      "{'Captain': 'Rishabh Pant', 'Coach': 'Ricky Ponting', 'Chairman': 'Parth Jindal', 'Batting coach': 'Pravin Amre', 'Bowling coach': 'Pooja Methani', 'Fielding coach': 'Biju George', 'Owner': 'JSW Group , GMR Group', 'Manager': 'Siddharth Bhasin', 'City': 'New Delhi , Delhi , India', 'Founded': '2008 ; 14 years ago ( 2008 ) as Delhi Daredevils', 'Home ground': 'Arun Jaitley Stadium , Delhi', 'Capacity': '55,000', 'Secondary home ground(s)': 'Shaheed Veer Narayan Singh International Cricket Stadium , Naya Raipur', 'Secondary ground capacity': '65,000', 'Indian Premier League wins': '0', 'Official website': 'delhicapitals.in', 'Home Town': 'New Delhi', 'State': 'Delhi', 'Year': '2008'}\n",
      "{'Captain': 'Hardik Pandya', 'Coach': 'Ashish Nehra', 'Owner': 'CVC Capital Partners', 'City': 'Ahmedabad, Gujarat , India', 'Founded': '25 October 2021 ; 7 months ago ( 2021-10-25 )', 'Home ground': 'Narendra Modi Stadium , Motera , Ahmedabad', 'Capacity': '132,000', 'Official website': 'gujarattitansipl.com', 'Home Town': 'Ahmedabad', 'State': 'Gujarat', 'Year': '2021'}\n",
      "{'Captain': 'Shreyas Iyer', 'Coach': 'Brendon McCullum', 'Owner': 'Knight Riders Group', 'City': 'Kolkata , West Bengal , India', 'Founded': '24 January 2008 ; 14 years ago ( 2008-01-24 )', 'Home ground': 'Eden Gardens , Kolkata', 'Capacity': '68,000', 'Indian Premier League wins': '2 ( 2012 , 2014 )', 'Official website': 'kkr.in', 'Home Town': 'Kolkata', 'State': 'West Bengal', 'Year': '2008'}\n",
      "{'Captain': 'KL Rahul', 'Coach': 'Andy Flower', 'Bowling coach': 'Andy Bichel', 'Fielding coach': 'Richard Halsall', 'Owner': 'RPSG Group', 'Chief executive': 'Raghu Iyer', 'City': 'Lucknow , Uttar Pradesh , India', 'Founded': '25 October 2021 ; 7 months ago ( 2021-10-25 )', 'Home ground': 'BRSABV Ekana Cricket Stadium , Lucknow', 'Capacity': '50,000', 'Home Town': 'Lucknow', 'State': 'Uttar Pradesh', 'Year': '2021'}\n",
      "{'Captain': 'Rohit Sharma', 'Coach': 'Mahela Jayawardene', 'Owner': 'Reliance Industries', 'City': 'Mumbai , Maharashtra , India', 'Founded': '24 January 2008 ; 14 years ago ( 24 January 2008 )', 'Home ground': 'Wankhede Stadium,,,Mumbai,(Capacity: 33,108)', 'Secondary home ground(s)': 'Brabourne Stadium,,,Mumbai,(Capacity: 25,000)', 'Indian Premier League wins': '5', 'CLT20 wins': '2', 'Official website': 'mumbaiindians.com', 'Home Town': 'Mumbai', 'State': 'Maharashtra', 'Year': '2008'}\n",
      "{'Captain': 'Mayank Agarwal', 'Coach': 'Anil Kumble', 'Owner': 'Mohit Burman,Ness Wadia,Preity Zinta,Karan Paul', 'City': 'Mohali , Punjab , India', 'Founded': '2008 ( 2008 )', 'Home ground': 'Inderjit Singh Bindra Stadium,,,Mohali,(Capacity: 26,000),,Mullanpur International Cricket Stadium,(Capacity: 38,000)', 'Official website': 'punjabkingsipl.in', 'Home Town': 'Mohali', 'State': 'Punjab', 'Year': '2008'}\n",
      "{'Captain': 'Sanju Samson', 'Coach': 'Kumar Sangakkara', 'Chairman': 'Ranjit Barthakur', 'Owner': 'Manoj Badale,(Emerging Media) (65%),Lachlan Murdoch,(13%),RedBird Capital Partners (15%)', 'City': 'Jaipur , Rajasthan , India', 'Founded': '2008 ( 2008 )', 'Home ground': 'Sawai Mansingh Stadium , Jaipur', 'Capacity': '30,000', 'Secondary home ground(s)': 'Narendra Modi Stadium,,,Ahmedabad,(Capacity: 110,000),Brabourne Stadium,,,Mumbai,(Capacity: 25,000)', 'Indian Premier League wins': '1 ( 2008 )', 'CLT20 wins': '0', 'Official website': 'rajasthanroyals .com', 'Home Town': 'Jaipur', 'State': 'Rajasthan', 'Year': '2008'}\n",
      "{'Captain': 'Faf du Plessis', 'Coach': 'Sanjay Bangar', 'Owner': 'United Spirits Limited', 'City': 'Bangalore , Karnataka , India', 'Founded': '2008 ; 14 years ago ( 2008 )', 'Home ground': 'M. Chinnaswamy Stadium,(Capacity: 35,000)', 'Indian Premier League wins': '0', 'CLT20 wins': '0', 'Official website': 'royalchallengers.com', 'Home Town': 'Bangalore', 'State': 'Karnataka', 'Year': '2008'}\n",
      "{'League': 'Indian Premier League', 'Captain': 'Kane Williamson', 'Coach': 'Trevor Bayliss', 'Owner': 'SUN Group', 'City': 'Hyderabad , Telangana , India', 'Founded': '2012 ; 10 years ago ( 2012 )', 'Home ground': 'Rajiv Gandhi International Cricket Stadium , Hyderabad', 'Capacity': '55,000', 'Indian Premier League wins': '1 ( 2016 )', 'Official website': 'sunrisershyderabad.in', 'Home Town': 'Hyderabad', 'State': 'Telangana', 'Year': '2012'}\n"
     ]
    }
   ],
   "source": [
    "for team in ipl:\n",
    "    #print(team['Founded'])\n",
    "    #print(team['Founded'].split(';')[0].strip().split()[-1].isdigit())\n",
    "    year = team['Founded'].split(';')[0].strip().split()[-1]\n",
    "    if year.isdigit():\n",
    "        team['Year'] = year\n",
    "    else:\n",
    "        team['Year'] = team['Founded'].split()[0]\n",
    "    team['Home Town'] = team['City'].split(',')[0].strip()\n",
    "    team['State'] = team['City'].split(',')[1].strip()\n",
    "    print(team)"
   ]
  },
  {
   "cell_type": "code",
   "execution_count": null,
   "id": "f307df1b",
   "metadata": {},
   "outputs": [],
   "source": []
  }
 ],
 "metadata": {
  "kernelspec": {
   "display_name": "Python 3 (ipykernel)",
   "language": "python",
   "name": "python3"
  },
  "language_info": {
   "codemirror_mode": {
    "name": "ipython",
    "version": 3
   },
   "file_extension": ".py",
   "mimetype": "text/x-python",
   "name": "python",
   "nbconvert_exporter": "python",
   "pygments_lexer": "ipython3",
   "version": "3.10.9"
  }
 },
 "nbformat": 4,
 "nbformat_minor": 5
}
