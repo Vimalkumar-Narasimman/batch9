{
 "cells": [
  {
   "cell_type": "code",
   "execution_count": null,
   "id": "274febc9",
   "metadata": {},
   "outputs": [],
   "source": [
    "#[1,2,3]\n",
    "#['one', 'two', 'three']\n",
    "#[(1, 'one'), (2, 'two'), (3, 'three')]\n",
    "\n",
    "lst1 = [1,2,3]\n",
    "lst2 = ['one', 'two', 'three']\n",
    "tpl = []\n",
    "for i in range(len(lst1)):\n",
    "    tpl.append((lst1[i], lst2[i]))\n",
    "\n",
    "tpl"
   ]
  },
  {
   "cell_type": "code",
   "execution_count": null,
   "id": "17776c7f",
   "metadata": {},
   "outputs": [],
   "source": [
    "lst1 = [1,2,3]\n",
    "lst2 = ['one', 'two', 'three']\n",
    "\n",
    "list(zip(lst1, lst2))"
   ]
  },
  {
   "cell_type": "code",
   "execution_count": null,
   "id": "e89bb77a",
   "metadata": {},
   "outputs": [],
   "source": [
    "lst1 = [1,2,3]\n",
    "lst2 = ['one', 'two', 'three']\n",
    "lst3 = ['10', '20', '30']\n",
    "list(zip(lst1, lst2, lst3))"
   ]
  },
  {
   "cell_type": "code",
   "execution_count": null,
   "id": "f34b3ce6",
   "metadata": {},
   "outputs": [],
   "source": [
    "lst1 = [1, 2, 3, 4 , 5]\n",
    "lst2 = ['one', 'two', 'three']\n",
    "lst3 = ['10', '20', '30', 40]\n",
    "list(zip(lst1, lst2, lst3))"
   ]
  },
  {
   "cell_type": "code",
   "execution_count": null,
   "id": "650292d3",
   "metadata": {},
   "outputs": [],
   "source": [
    "languages = ['Java', 'Python', 'JavaScript']\n",
    "versions = [14, 3, 6]\n",
    "mapped = zip(languages, versions) # using zip() to map values\n",
    "#list(mapped)\n",
    "mapped"
   ]
  },
  {
   "cell_type": "code",
   "execution_count": null,
   "id": "1f14f352",
   "metadata": {},
   "outputs": [],
   "source": [
    "# unzipping values\n",
    "lan, ver = zip(*mapped)\n",
    "print(lan, ver )"
   ]
  },
  {
   "cell_type": "code",
   "execution_count": null,
   "id": "aced8889",
   "metadata": {},
   "outputs": [],
   "source": [
    "grocery = ['bread', 'milk', 'butter']\n",
    "\n",
    "for i in range(len(grocery)):\n",
    "    print(grocery[i])\n",
    "\n",
    "for val in grocery:\n",
    "    print(val)\n",
    "\n",
    "for i, val in enumerate(grocery):\n",
    "  print(i, val)"
   ]
  },
  {
   "cell_type": "code",
   "execution_count": null,
   "id": "c5fa02e7",
   "metadata": {},
   "outputs": [],
   "source": []
  }
 ],
 "metadata": {
  "kernelspec": {
   "display_name": "Python 3 (ipykernel)",
   "language": "python",
   "name": "python3"
  },
  "language_info": {
   "codemirror_mode": {
    "name": "ipython",
    "version": 3
   },
   "file_extension": ".py",
   "mimetype": "text/x-python",
   "name": "python",
   "nbconvert_exporter": "python",
   "pygments_lexer": "ipython3",
   "version": "3.10.9"
  }
 },
 "nbformat": 4,
 "nbformat_minor": 5
}
