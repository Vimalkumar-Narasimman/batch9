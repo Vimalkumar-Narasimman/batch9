{
 "cells": [
  {
   "cell_type": "code",
   "execution_count": null,
   "id": "dd722fe9",
   "metadata": {},
   "outputs": [],
   "source": [
    "import pyodbc\n",
    "import pandas as pd\n",
    "\n",
    "conn = pyodbc.connect('Driver={ODBC Driver 13 for SQL Server};Server=tcp:mssqllearningserver.database.windows.net,1433;Database=sqllearning;Uid=sqladmin;Pwd=SQL@dm!n;Encrypt=yes;TrustServerCertificate=no;Connection Timeout=30;')\n",
    "\n",
    "\n",
    "\n",
    "sql = '''SELECT *\n",
    "    FROM [emp].[employees]'''\n",
    "empDF = pd.read_sql(sql,conn)  # without parameters [non-prepared statement]\n",
    "\n",
    "# with a prepared statement, use list/tuple/dictionary of parameters depending on DB\n",
    "#data = pd.read_sql(sql=sql, con=cnxn, params=query_params) \n",
    "\n",
    "empDF.head()"
   ]
  },
  {
   "cell_type": "code",
   "execution_count": null,
   "id": "9c3cb8ec",
   "metadata": {},
   "outputs": [],
   "source": [
    "empDF.shape"
   ]
  },
  {
   "cell_type": "code",
   "execution_count": null,
   "id": "dd6e10b8",
   "metadata": {},
   "outputs": [],
   "source": [
    "sql = '''SELECT *\n",
    "    FROM [emp].[jobs]'''\n",
    "jobDF = pd.read_sql(sql,conn)\n",
    "\n",
    "jobDF.head()"
   ]
  },
  {
   "cell_type": "code",
   "execution_count": null,
   "id": "3317d1b6",
   "metadata": {},
   "outputs": [],
   "source": [
    "result = pd.merge(empDF, jobDF, how='inner', on='job_id')\n",
    "result\n",
    "\n"
   ]
  },
  {
   "cell_type": "markdown",
   "id": "d9d73cdb",
   "metadata": {},
   "source": [
    "\n",
    "SELECT\n",
    "*\n",
    "FROM [emp].[employees] as e\n",
    "INNER JOIN [emp].[jobs] as j ON e.job_id = j.job_id\n"
   ]
  },
  {
   "cell_type": "code",
   "execution_count": null,
   "id": "b3565f30",
   "metadata": {},
   "outputs": [],
   "source": [
    "result.groupby('job_title')[\"employee_id\"].count()\n"
   ]
  },
  {
   "cell_type": "markdown",
   "id": "a6322150",
   "metadata": {},
   "source": [
    "SELECT\n",
    "j.job_title,\n",
    "count(employee_id) as emp_count\n",
    "FROM [emp].[employees] as e\n",
    "INNER JOIN [emp].[jobs] as j ON e.job_id = j.job_id\n",
    "GROUP BY j.job_title"
   ]
  },
  {
   "cell_type": "code",
   "execution_count": null,
   "id": "60031838",
   "metadata": {},
   "outputs": [],
   "source": [
    "#sqlStatement = '''INSERT INTO [emp].[jobs] VALUES('Data Scientist', 6000, 25000)'''\n",
    "#cursor = conn.cursor()\n",
    "#cursor.execute(sqlStatement)\n",
    "#conn.commit()"
   ]
  },
  {
   "cell_type": "code",
   "execution_count": null,
   "id": "4940b558",
   "metadata": {},
   "outputs": [],
   "source": [
    "sql = '''SELECT *\n",
    "    FROM [emp].[employees]'''\n",
    "empDF = pd.read_sql(sql,conn)\n",
    "sql = '''SELECT *\n",
    "    FROM [emp].[jobs]'''\n",
    "jobDF = pd.read_sql(sql,conn)\n",
    "jeDF = pd.merge( jobDF, empDF, how='left', on='job_id')\n",
    "jeDF"
   ]
  },
  {
   "cell_type": "code",
   "execution_count": null,
   "id": "676c30cf",
   "metadata": {},
   "outputs": [],
   "source": [
    "jeDF.groupby('job_title')[\"employee_id\"].count()"
   ]
  },
  {
   "cell_type": "markdown",
   "id": "5b7b0555",
   "metadata": {},
   "source": [
    "SELECT j.job_title, count(employee_id) as emp_count FROM [emp].[jobs] as j LEFT JOIN [emp].[employees] as e  ON e.job_id = j.job_id GROUP BY j.job_title"
   ]
  },
  {
   "cell_type": "code",
   "execution_count": null,
   "id": "5e0af567",
   "metadata": {},
   "outputs": [],
   "source": [
    "#pd.read_sql_table('brands', conn, schema='sales')"
   ]
  }
 ],
 "metadata": {
  "kernelspec": {
   "display_name": "Python 3 (ipykernel)",
   "language": "python",
   "name": "python3"
  },
  "language_info": {
   "codemirror_mode": {
    "name": "ipython",
    "version": 3
   },
   "file_extension": ".py",
   "mimetype": "text/x-python",
   "name": "python",
   "nbconvert_exporter": "python",
   "pygments_lexer": "ipython3",
   "version": "3.10.9"
  }
 },
 "nbformat": 4,
 "nbformat_minor": 5
}
